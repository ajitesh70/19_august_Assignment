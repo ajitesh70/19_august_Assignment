{
 "cells": [
  {
   "cell_type": "raw",
   "id": "640510c4-31db-4433-a728-3652d69d7728",
   "metadata": {},
   "source": [
    "TOPIC: STRING BASED ASSIGNMENT PROBLEM"
   ]
  },
  {
   "cell_type": "code",
   "execution_count": 1,
   "id": "4f0114f0-3520-418b-8308-c8cd9e14f3f4",
   "metadata": {},
   "outputs": [],
   "source": [
    "#1. Write a program to reverse a string."
   ]
  },
  {
   "cell_type": "code",
   "execution_count": 3,
   "id": "f024f76a-d700-4ab0-9ab3-f1ca940159bc",
   "metadata": {},
   "outputs": [
    {
     "name": "stdin",
     "output_type": "stream",
     "text": [
      " tre\n"
     ]
    },
    {
     "name": "stdout",
     "output_type": "stream",
     "text": [
      "ert\n"
     ]
    }
   ],
   "source": [
    "#taking input\n",
    "str1=input()\n",
    "#reversing string and printing output\n",
    "print(str1[::-1])"
   ]
  },
  {
   "cell_type": "code",
   "execution_count": 4,
   "id": "8f59e9e3-e1c1-4833-8675-7642f6b51e03",
   "metadata": {},
   "outputs": [],
   "source": [
    "#2. Check if a string is a palindrome."
   ]
  },
  {
   "cell_type": "code",
   "execution_count": 6,
   "id": "7fed29cb-1562-4cdf-a239-0b32dc109e0a",
   "metadata": {},
   "outputs": [
    {
     "name": "stdin",
     "output_type": "stream",
     "text": [
      " rer\n"
     ]
    },
    {
     "name": "stdout",
     "output_type": "stream",
     "text": [
      "palindrome\n"
     ]
    }
   ],
   "source": [
    "#taking input\n",
    "str1=input()\n",
    "#using if-else, if the reverse of string is same then its palindrome.\n",
    "if str1==str1[::-1]:\n",
    "    print(\"palindrome\")\n",
    "else:\n",
    "    print(\"not palindrome\")"
   ]
  },
  {
   "cell_type": "code",
   "execution_count": 7,
   "id": "93e5a196-4e1c-4714-9453-bc0795ef62e0",
   "metadata": {},
   "outputs": [],
   "source": [
    "#3. Convert a string to uppercase."
   ]
  },
  {
   "cell_type": "code",
   "execution_count": 11,
   "id": "8bb9a0ca-6341-48e5-aef9-6f4edbbed852",
   "metadata": {},
   "outputs": [
    {
     "name": "stdin",
     "output_type": "stream",
     "text": [
      " tyu\n"
     ]
    },
    {
     "name": "stdout",
     "output_type": "stream",
     "text": [
      "TYU\n"
     ]
    }
   ],
   "source": [
    "str1=input()\n",
    "#converting to uppercase using upper function\n",
    "print(str1.upper())"
   ]
  },
  {
   "cell_type": "code",
   "execution_count": 12,
   "id": "13ec978b-e643-4217-9712-01b3fcc1d06f",
   "metadata": {},
   "outputs": [],
   "source": [
    "#4. Convert a string to lowercase."
   ]
  },
  {
   "cell_type": "code",
   "execution_count": 13,
   "id": "22f7b3ec-221c-4c41-98dd-89c3010dcab3",
   "metadata": {},
   "outputs": [
    {
     "name": "stdin",
     "output_type": "stream",
     "text": [
      " GFDS\n"
     ]
    },
    {
     "name": "stdout",
     "output_type": "stream",
     "text": [
      "gfds\n"
     ]
    }
   ],
   "source": [
    "str1=input()\n",
    "#converting to uppercase using lower function\n",
    "print(str1.lower())"
   ]
  },
  {
   "cell_type": "code",
   "execution_count": 14,
   "id": "fb667a1c-42ae-454a-a3bf-f6479729d5f2",
   "metadata": {},
   "outputs": [],
   "source": [
    "#5. Count the number of vowels in a string."
   ]
  },
  {
   "cell_type": "code",
   "execution_count": 22,
   "id": "a211004f-265b-4e5a-b712-e6246b5dc0aa",
   "metadata": {},
   "outputs": [
    {
     "name": "stdin",
     "output_type": "stream",
     "text": [
      " question\n"
     ]
    },
    {
     "name": "stdout",
     "output_type": "stream",
     "text": [
      "4\n"
     ]
    }
   ],
   "source": [
    "str1=input()\n",
    "#initial value of vowel is 0\n",
    "vowel=0\n",
    "#using for loop to go through complete string\n",
    "for i in str1:\n",
    "    if i==\"a\" or i==\"e\" or i==\"o\" or i==\"u\" or i==\"i\":\n",
    "        #value of vowel will increase by 1 whenever the if condition is true\n",
    "        vowel =vowel+1\n",
    "print(vowel)\n"
   ]
  },
  {
   "cell_type": "code",
   "execution_count": 21,
   "id": "bc4684b6-2bb4-48f7-8038-9cd7e541e323",
   "metadata": {},
   "outputs": [],
   "source": [
    "#6. Count the number of consonants in a string."
   ]
  },
  {
   "cell_type": "code",
   "execution_count": 9,
   "id": "ee496ff0-732d-4b3d-b0e2-fc314ac8ee32",
   "metadata": {},
   "outputs": [
    {
     "name": "stdout",
     "output_type": "stream",
     "text": [
      "13\n"
     ]
    }
   ],
   "source": [
    "str1=\"this is jupyter notebook\"\n",
    "#removing space so it does not count space\n",
    "str1=str1.replace(\" \",\"\")\n",
    "consonant=0\n",
    "for i in str1:\n",
    "    #if the charachter is not vowel then its a consonant in this string because this string only contains vowels and consonants\n",
    "    if i!=\"a\" and i!=\"e\" and i!=\"o\" and i!=\"u\" and i!=\"i\":\n",
    "        consonant =consonant+1\n",
    "print(consonant)"
   ]
  },
  {
   "cell_type": "code",
   "execution_count": 27,
   "id": "cdeb9cf5-d4b4-4535-ae8a-d2abac477c9f",
   "metadata": {},
   "outputs": [],
   "source": [
    "#7. Remove all whitespaces from a string."
   ]
  },
  {
   "cell_type": "code",
   "execution_count": 18,
   "id": "ce9d33e2-aefc-4aeb-8e57-f81e970a7f9f",
   "metadata": {},
   "outputs": [
    {
     "name": "stdin",
     "output_type": "stream",
     "text": [
      " this is a question\n"
     ]
    },
    {
     "name": "stdout",
     "output_type": "stream",
     "text": [
      "thisisaquestion\n"
     ]
    }
   ],
   "source": [
    "#taking input from user \n",
    "str1=input()\n",
    "#using replace function to remove white spaces\n",
    "str1=str1.replace(\" \", \"\")\n",
    "print(str1)"
   ]
  },
  {
   "cell_type": "code",
   "execution_count": 33,
   "id": "715ac53c-00e8-4fd1-89ac-c27482859a71",
   "metadata": {},
   "outputs": [],
   "source": [
    "#8. Find the length of a string without using the `len()` function."
   ]
  },
  {
   "cell_type": "code",
   "execution_count": 1,
   "id": "9ed61496-27e1-416f-bd90-6c9c0b400313",
   "metadata": {},
   "outputs": [
    {
     "name": "stdout",
     "output_type": "stream",
     "text": [
      "5\n"
     ]
    }
   ],
   "source": [
    "str1 = 'Hello'\n",
    "#initial value of count is 0\n",
    "count = 0\n",
    "#for loop to increase count value by 1 upto string length\n",
    "for i in str1: \n",
    "    count+=1\n",
    "print(count)"
   ]
  },
  {
   "cell_type": "code",
   "execution_count": 39,
   "id": "be7a38d7-52f2-4e8b-bf94-2db6214eb691",
   "metadata": {},
   "outputs": [],
   "source": [
    "#9. Check if a string contains a specific word."
   ]
  },
  {
   "cell_type": "code",
   "execution_count": 23,
   "id": "54106cc7-a979-4e71-b67e-db3a155201c4",
   "metadata": {},
   "outputs": [
    {
     "name": "stdin",
     "output_type": "stream",
     "text": [
      " mitochondria is the powerhouse of the cell\n"
     ]
    },
    {
     "name": "stdout",
     "output_type": "stream",
     "text": [
      "contains\n"
     ]
    }
   ],
   "source": [
    "#taking input from user\n",
    "str1=input()\n",
    "#using if condition to check if the specific word is present or not\n",
    "if \"the\" in str1:\n",
    "    print(\"contains\")\n",
    "else:\n",
    "    print(\"doesn't contain\")\n"
   ]
  },
  {
   "cell_type": "code",
   "execution_count": 9,
   "id": "0189c0dc-5c21-4668-883f-4d84de360443",
   "metadata": {},
   "outputs": [],
   "source": [
    "#10. Replace a word in a string with another word."
   ]
  },
  {
   "cell_type": "code",
   "execution_count": 33,
   "id": "6f7a1661-860f-42d6-91bd-2663310b6b4a",
   "metadata": {},
   "outputs": [
    {
     "name": "stdin",
     "output_type": "stream",
     "text": [
      " the great britain\n"
     ]
    },
    {
     "name": "stdout",
     "output_type": "stream",
     "text": [
      "not the great britain\n"
     ]
    }
   ],
   "source": [
    "#taking input from user \n",
    "str1=input()\n",
    "#if the word is present in the string then replacing it using replace function\n",
    "if \"the\" in str1:\n",
    "    str1=str1.replace(\"the\",\"not the\")\n",
    "    print(str1)\n",
    "else:\n",
    "    print(\"word not present\")\n",
    "        "
   ]
  },
  {
   "cell_type": "code",
   "execution_count": 30,
   "id": "f5022f7c-af68-4645-be4f-01db332eca4e",
   "metadata": {},
   "outputs": [],
   "source": [
    "#11. Count the occurrences of a word in a string."
   ]
  },
  {
   "cell_type": "code",
   "execution_count": 25,
   "id": "932b2b2a-877e-4563-a5cf-c5fe41e9a464",
   "metadata": {},
   "outputs": [
    {
     "name": "stdin",
     "output_type": "stream",
     "text": [
      " i love india\n"
     ]
    },
    {
     "name": "stdout",
     "output_type": "stream",
     "text": [
      "1\n"
     ]
    }
   ],
   "source": [
    "#taking string as an input from the user\n",
    "str1=input()\n",
    "#using count function to count the number of occurences\n",
    "str1=str1.count(\"india\")\n",
    "print(str1)"
   ]
  },
  {
   "cell_type": "code",
   "execution_count": 10,
   "id": "87964fe8-f81b-4b9a-9d99-25a9c8846910",
   "metadata": {},
   "outputs": [],
   "source": [
    "#12. Find the first occurrence of a word in a string."
   ]
  },
  {
   "cell_type": "code",
   "execution_count": 14,
   "id": "effc383b-64cc-4842-8f5c-116a6cbb2bc6",
   "metadata": {},
   "outputs": [
    {
     "name": "stdout",
     "output_type": "stream",
     "text": [
      "2\n"
     ]
    }
   ],
   "source": [
    "str1=\"this is pwskills and is good\"\n",
    "#using find function to find the first occurence of the word\n",
    "print(str1.find('is'))"
   ]
  },
  {
   "cell_type": "code",
   "execution_count": 13,
   "id": "d3591609-9f8f-4c56-88e6-b3d7efdf75ed",
   "metadata": {},
   "outputs": [],
   "source": [
    "#13. Find the last occurrence of a word in a string."
   ]
  },
  {
   "cell_type": "code",
   "execution_count": 16,
   "id": "30762793-fe92-4f3b-a6b8-fa5abef16302",
   "metadata": {},
   "outputs": [
    {
     "name": "stdout",
     "output_type": "stream",
     "text": [
      "21\n"
     ]
    }
   ],
   "source": [
    "str1=\"this is pwskills and is good\"\n",
    "#using rfind function to find the last occurence of the word\n",
    "print(str1.rfind('is'))\n"
   ]
  },
  {
   "cell_type": "code",
   "execution_count": 17,
   "id": "b715f7c4-7e37-4f25-96f5-3be4f4850191",
   "metadata": {},
   "outputs": [],
   "source": [
    "#14. Split a string into a list of words."
   ]
  },
  {
   "cell_type": "code",
   "execution_count": 9,
   "id": "ac4f1740-089d-4fc7-9aca-8b006d337be5",
   "metadata": {},
   "outputs": [
    {
     "name": "stdout",
     "output_type": "stream",
     "text": [
      " s m a l l s t r i n g \n"
     ]
    }
   ],
   "source": [
    "str1=\"smallstring\"\n",
    "#splitting the string by replacing '' with ' ' using replace function\n",
    "print(str1.replace(\"\",\" \"))"
   ]
  },
  {
   "cell_type": "code",
   "execution_count": 6,
   "id": "32a6a347-6856-41d0-9bf0-a222fcb668f3",
   "metadata": {},
   "outputs": [],
   "source": [
    "#15. Join a list of words into a string."
   ]
  },
  {
   "cell_type": "code",
   "execution_count": 7,
   "id": "2dc9f910-4f0c-4be8-815d-98257623510e",
   "metadata": {},
   "outputs": [
    {
     "name": "stdout",
     "output_type": "stream",
     "text": [
      "abcde\n"
     ]
    }
   ],
   "source": [
    "str1=\"a b c d e\"\n",
    "#joining by replacing ' ' with ''\n",
    "print(str1.replace(\" \",\"\"))"
   ]
  },
  {
   "cell_type": "raw",
   "id": "f8c4c424-a3de-4af8-8f7c-b48f84ba6e5b",
   "metadata": {},
   "source": [
    "16. Convert a string where words are separated by spaces to one where words\n",
    "are separated by underscores."
   ]
  },
  {
   "cell_type": "code",
   "execution_count": 11,
   "id": "1af14ee7-cf17-4f03-be99-d1dd99d6fe92",
   "metadata": {},
   "outputs": [
    {
     "name": "stdout",
     "output_type": "stream",
     "text": [
      "this_is_a_string\n"
     ]
    }
   ],
   "source": [
    "str1=\"this is a string\"\n",
    "#replacing spaces with underscore using replace function\n",
    "print(str1.replace(\" \",\"_\"))"
   ]
  },
  {
   "cell_type": "code",
   "execution_count": 12,
   "id": "d0e68397-fbbb-4a7b-bc4d-2f9af1334620",
   "metadata": {},
   "outputs": [],
   "source": [
    "#17. Check if a string starts with a specific word or phrase."
   ]
  },
  {
   "cell_type": "code",
   "execution_count": 15,
   "id": "cadfa369-0fcc-47d5-ab52-036d12b5a539",
   "metadata": {},
   "outputs": [
    {
     "name": "stdin",
     "output_type": "stream",
     "text": [
      " abcd\n"
     ]
    },
    {
     "name": "stdout",
     "output_type": "stream",
     "text": [
      "yes it starts with a\n"
     ]
    }
   ],
   "source": [
    "#taking input from the user\n",
    "str1=input()\n",
    "#checking if the first element is same as our specific word \n",
    "if str1[0]=='a':\n",
    "    print(\"yes it starts with a\")\n",
    "else:\n",
    "    print(\"no, it doesn't start with a\")"
   ]
  },
  {
   "cell_type": "code",
   "execution_count": 16,
   "id": "bc01b48e-4d89-45c2-b263-b25b509ba0eb",
   "metadata": {},
   "outputs": [],
   "source": [
    "#18. Check if a string ends with a specific word or phrase."
   ]
  },
  {
   "cell_type": "code",
   "execution_count": 6,
   "id": "949deded-3314-4646-97d9-5338b7a545c3",
   "metadata": {},
   "outputs": [
    {
     "name": "stdin",
     "output_type": "stream",
     "text": [
      " magenta\n"
     ]
    },
    {
     "name": "stdout",
     "output_type": "stream",
     "text": [
      "yes\n"
     ]
    }
   ],
   "source": [
    "#taking a string as an input form the user\n",
    "str1=input()\n",
    "#initial value of count is -1 so traversing doesn't go beyond the last element of the string\n",
    "count=-1\n",
    "#traversing to the last element of the string\n",
    "for i in str1:\n",
    "    count=count+1\n",
    "#checking if the last element is the word we want to find\n",
    "if str1[count]=='a':\n",
    "    print(\"yes\")\n",
    "else:\n",
    "    print(\"no\")"
   ]
  },
  {
   "cell_type": "code",
   "execution_count": 7,
   "id": "8e426c3e-c4b0-46b1-b79a-edfa3938c9ff",
   "metadata": {},
   "outputs": [],
   "source": [
    "#19. Convert a string to title case (e.g., \"hello world\" to \"Hello World\")."
   ]
  },
  {
   "cell_type": "code",
   "execution_count": 8,
   "id": "6f174a3b-9d02-4e71-a423-6536d7646b50",
   "metadata": {},
   "outputs": [
    {
     "name": "stdout",
     "output_type": "stream",
     "text": [
      "Hello World\n"
     ]
    }
   ],
   "source": [
    "str1=\"hello world\"\n",
    "#using title function to convert the string to title case\n",
    "print(str.title(str1))\n"
   ]
  },
  {
   "cell_type": "code",
   "execution_count": 9,
   "id": "08feb6b7-d92e-49be-8143-7a32bed6cb46",
   "metadata": {},
   "outputs": [],
   "source": [
    "#20. Find the longest word in a string."
   ]
  },
  {
   "cell_type": "code",
   "execution_count": 3,
   "id": "56f68fa0-65e4-4f90-97ee-e89124da7b0b",
   "metadata": {},
   "outputs": [
    {
     "name": "stdin",
     "output_type": "stream",
     "text": [
      " this is a pwskills course\n"
     ]
    },
    {
     "name": "stdout",
     "output_type": "stream",
     "text": [
      "pwskills\n"
     ]
    }
   ],
   "source": [
    "# taking input from the user\n",
    "str1=input()\n",
    "#splitting the words\n",
    "longest=str1.split()\n",
    "#using max function and giving len as key\n",
    "print(max(longest,key=len))"
   ]
  },
  {
   "cell_type": "code",
   "execution_count": 13,
   "id": "f4393441-dc22-42f6-a2c0-a7caf7b278d3",
   "metadata": {},
   "outputs": [],
   "source": [
    "#21. Find the shortest word in a string."
   ]
  },
  {
   "cell_type": "code",
   "execution_count": 14,
   "id": "dd345521-cb0e-4235-abe5-dd2d39ed1143",
   "metadata": {},
   "outputs": [
    {
     "name": "stdin",
     "output_type": "stream",
     "text": [
      " which is the shortest word\n"
     ]
    },
    {
     "name": "stdout",
     "output_type": "stream",
     "text": [
      "is\n"
     ]
    }
   ],
   "source": [
    "#taking input from the user\n",
    "str1=input()\n",
    "#splitting the words\n",
    "shortest=str1.split()\n",
    "#using min function and giving len as key\n",
    "print(min(shortest,key=len))"
   ]
  },
  {
   "cell_type": "code",
   "execution_count": 15,
   "id": "283579ba-3d18-47dd-804a-aaa685f04488",
   "metadata": {},
   "outputs": [],
   "source": [
    "#22. Reverse the order of words in a string."
   ]
  },
  {
   "cell_type": "code",
   "execution_count": 2,
   "id": "cb451c02-3126-43a2-a30b-07fe72453c27",
   "metadata": {},
   "outputs": [
    {
     "name": "stdin",
     "output_type": "stream",
     "text": [
      " this is india\n"
     ]
    },
    {
     "name": "stdout",
     "output_type": "stream",
     "text": [
      "india is this\n"
     ]
    }
   ],
   "source": [
    "#taking input from the user\n",
    "str1=input()\n",
    "#splitting the words \n",
    "reverse=str1.split()\n",
    "#reversing the order by slicing\n",
    "reverse=reverse[::-1]\n",
    "print(\" \".join(reverse))"
   ]
  },
  {
   "cell_type": "code",
   "execution_count": 30,
   "id": "23457d0b-30e8-4130-af6a-9d3ac0bdbae8",
   "metadata": {},
   "outputs": [],
   "source": [
    "#23. Check if a string is alphanumeric."
   ]
  },
  {
   "cell_type": "code",
   "execution_count": 36,
   "id": "d75f598a-e61f-475b-a445-e4aa88dc0205",
   "metadata": {},
   "outputs": [
    {
     "name": "stdin",
     "output_type": "stream",
     "text": [
      " 123abc\n"
     ]
    },
    {
     "name": "stdout",
     "output_type": "stream",
     "text": [
      "True\n"
     ]
    }
   ],
   "source": [
    "#taking input from the user\n",
    "str1=input()\n",
    "#using isalnum function to check if the string is alphanumeric or not\n",
    "x=str1.isalnum()\n",
    "print(x)\n",
    "\n"
   ]
  },
  {
   "cell_type": "code",
   "execution_count": 37,
   "id": "5dce9aae-1b17-49fe-9a53-f6ae4b58b8fd",
   "metadata": {},
   "outputs": [],
   "source": [
    "#24. Extract all digits from a string."
   ]
  },
  {
   "cell_type": "code",
   "execution_count": 41,
   "id": "cd39b969-e8f9-42d7-9e20-fcb16ab5aa23",
   "metadata": {},
   "outputs": [
    {
     "name": "stdout",
     "output_type": "stream",
     "text": [
      "98723\n"
     ]
    }
   ],
   "source": [
    "str1 = \"pwskills 987 hello 23 \"\n",
    "#a null string\n",
    "str2=\"\"\n",
    "# Iterate through each character in the string\n",
    "for char in input_string:\n",
    "#adding in str2 if its a digit after checking using isdigit function\n",
    "    if char.isdigit():\n",
    "        str2+=char\n",
    "print(str2)\n",
    "\n",
    "        "
   ]
  },
  {
   "cell_type": "code",
   "execution_count": 31,
   "id": "7e109106-35e8-45a2-b456-e05235a3f80a",
   "metadata": {},
   "outputs": [],
   "source": [
    "#25. Extract all alphabets from a string."
   ]
  },
  {
   "cell_type": "code",
   "execution_count": 37,
   "id": "d39a2406-6177-40e9-b96b-186d2da75884",
   "metadata": {},
   "outputs": [
    {
     "name": "stdout",
     "output_type": "stream",
     "text": [
      "helloworld\n"
     ]
    }
   ],
   "source": [
    "str1=\"hello world 324\"\n",
    "#a null string\n",
    "str2 = \"\"\n",
    "for i in str1:\n",
    "#adding in str2 if its an alphabet after checking using isalpha function\n",
    "    if i.isalpha():\n",
    "        str2 += i\n",
    "print(str2)\n",
    "        "
   ]
  },
  {
   "cell_type": "code",
   "execution_count": 42,
   "id": "d9c23616-b020-4125-82bf-5035cde53eb5",
   "metadata": {},
   "outputs": [],
   "source": [
    "#26. Count the number of uppercase letters in a string."
   ]
  },
  {
   "cell_type": "code",
   "execution_count": 46,
   "id": "8e583280-19b4-42fd-999a-dcf1b6474d57",
   "metadata": {},
   "outputs": [
    {
     "name": "stdout",
     "output_type": "stream",
     "text": [
      "3\n"
     ]
    }
   ],
   "source": [
    "str1=\"AbcD Wdi\"\n",
    "#initial value of count is 0\n",
    "count=0\n",
    "#traversing through the string\n",
    "for i in str1:\n",
    "#increase count value by 1 if its an uppercase letter\n",
    "    if i.isupper():\n",
    "        count=count+1\n",
    "print(count)"
   ]
  },
  {
   "cell_type": "code",
   "execution_count": 47,
   "id": "edba4a85-44ad-49a3-8df3-5f31d6c90287",
   "metadata": {},
   "outputs": [],
   "source": [
    "#27. Count the number of lowercase letters in a string."
   ]
  },
  {
   "cell_type": "code",
   "execution_count": 4,
   "id": "7844daa4-1d4b-4b7d-8e2d-126fd3f3d62d",
   "metadata": {},
   "outputs": [
    {
     "name": "stdout",
     "output_type": "stream",
     "text": [
      "6\n"
     ]
    }
   ],
   "source": [
    "str1=\"AkJLd emd Di\"\n",
    "#initial value of count is 0\n",
    "count=0\n",
    "#traversing through the string\n",
    "for i in str1:\n",
    "#increase count value by 1 if its an uppercase letter\n",
    "    if i.islower():\n",
    "        count=count+1\n",
    "print(count)"
   ]
  },
  {
   "cell_type": "code",
   "execution_count": 50,
   "id": "4164a809-8b39-40eb-bcbd-3f7a5f3e775d",
   "metadata": {},
   "outputs": [],
   "source": [
    "#28. Swap the case of each character in a string."
   ]
  },
  {
   "cell_type": "code",
   "execution_count": 65,
   "id": "4f5784ab-6364-4b63-8644-1185ac806bd7",
   "metadata": {},
   "outputs": [
    {
     "name": "stdout",
     "output_type": "stream",
     "text": [
      "aBcDeF\n"
     ]
    }
   ],
   "source": [
    "str1=\"AbCcccdEf\"\n",
    "str2=\"\"\n",
    "#traversing thgrough the string\n",
    "for i in str1:\n",
    "#adding the swapped  case in str2 using if-else\n",
    "    if i.isupper():\n",
    "        str2+=i.lower()\n",
    "    else:\n",
    "        str2+=i.upper()\n",
    "print(str2)"
   ]
  },
  {
   "cell_type": "code",
   "execution_count": 9,
   "id": "d96a9523-1374-4dad-8ba8-9e3a1f812516",
   "metadata": {},
   "outputs": [],
   "source": [
    "#29. Remove a specific word from a string."
   ]
  },
  {
   "cell_type": "code",
   "execution_count": 68,
   "id": "85e0bb58-cfe7-4359-8ad6-072d60a6103f",
   "metadata": {},
   "outputs": [
    {
     "data": {
      "text/plain": [
       "'remving a wrd'"
      ]
     },
     "execution_count": 68,
     "metadata": {},
     "output_type": "execute_result"
    }
   ],
   "source": [
    "str1=\"removing a word\"\n",
    "#replacing the word by using replace function\n",
    "str1=str1.replace(\"o\",\"\")\n",
    "str1"
   ]
  },
  {
   "cell_type": "code",
   "execution_count": 69,
   "id": "07f46a48-5d91-4de0-b988-142ef60326ed",
   "metadata": {},
   "outputs": [],
   "source": [
    "#30. Check if a string is a valid email address."
   ]
  },
  {
   "cell_type": "code",
   "execution_count": 11,
   "id": "76925833-cd78-42ff-8b3f-430f3cf86aff",
   "metadata": {},
   "outputs": [
    {
     "name": "stdout",
     "output_type": "stream",
     "text": [
      "ajiteshsingh56@email.com is a valid email address.\n"
     ]
    }
   ],
   "source": [
    "import re\n",
    "\n",
    "def is_valid_email(email):\n",
    "    # Define a simple pattern for a valid email address\n",
    "    pattern = r'^[a-zA-Z0-9_.+-]+@[a-zA-Z0-9-]+\\.[a-zA-Z0-9-.]+$'\n",
    "\n",
    "    # Use the re.match function to check if the email matches the pattern\n",
    "    match = re.match(pattern, email)\n",
    "\n",
    "    # Return True if there is a match, indicating a valid email address\n",
    "    return bool(match)\n",
    "\n",
    "# Example usage\n",
    "email_to_check = \"ajiteshsingh56@email.com\"\n",
    "if is_valid_email(email_to_check):\n",
    "    print(f\"{email_to_check} is a valid email address.\")\n",
    "else:\n",
    "    print(f\"{email_to_check} is not a valid email address.\")"
   ]
  },
  {
   "cell_type": "code",
   "execution_count": 9,
   "id": "e0e37585-d11f-4804-9533-d183d8dece72",
   "metadata": {},
   "outputs": [],
   "source": [
    "#31. Extract the username from an email address string."
   ]
  },
  {
   "cell_type": "code",
   "execution_count": 11,
   "id": "0125f327-4f22-43ef-a922-327bf7fc7f0d",
   "metadata": {},
   "outputs": [
    {
     "name": "stdin",
     "output_type": "stream",
     "text": [
      " ajiteshsingh56@gmail.com\n"
     ]
    },
    {
     "name": "stdout",
     "output_type": "stream",
     "text": [
      "ajiteshsingh56\n"
     ]
    }
   ],
   "source": [
    "str1=input()\n",
    "#splitting the string at @ into different words and printing the first word\n",
    "str1=str1.split(\"@\")\n",
    "print(str1[0])\n",
    "    "
   ]
  },
  {
   "cell_type": "code",
   "execution_count": 12,
   "id": "f5216ec4-33ba-48f5-a195-003306a1ef39",
   "metadata": {},
   "outputs": [],
   "source": [
    "#32. Extract the domain name from an email address string."
   ]
  },
  {
   "cell_type": "code",
   "execution_count": 12,
   "id": "177f69fa-3a42-4f8f-94a9-d0d733f11e33",
   "metadata": {},
   "outputs": [
    {
     "name": "stdout",
     "output_type": "stream",
     "text": [
      "gmail.com\n"
     ]
    }
   ],
   "source": [
    "str1=\"example@gmail.com\"\n",
    "#splitting the string at @ into different words and printing the last word\n",
    "str2=str1.split(\"@\")\n",
    "print(str2[1])"
   ]
  },
  {
   "cell_type": "code",
   "execution_count": 34,
   "id": "65f64225-49b8-4b59-bc7d-2e262161de2e",
   "metadata": {},
   "outputs": [],
   "source": [
    "#33. Replace multiple spaces in a string with a single space."
   ]
  },
  {
   "cell_type": "code",
   "execution_count": 35,
   "id": "196c7900-808b-48c3-b4e3-04c3d660d11b",
   "metadata": {},
   "outputs": [
    {
     "name": "stdout",
     "output_type": "stream",
     "text": [
      "a b c d e\n"
     ]
    }
   ],
   "source": [
    "str1=\"a  b  c  d  e\"\n",
    "#replacing using replace function\n",
    "str1=str1.replace(\"  \",\" \")\n",
    "print(str1)"
   ]
  },
  {
   "cell_type": "code",
   "execution_count": 36,
   "id": "311f4dc1-017f-4682-ba62-6b9feec8c218",
   "metadata": {},
   "outputs": [],
   "source": [
    "#34. Check if a string is a valid URL."
   ]
  },
  {
   "cell_type": "code",
   "execution_count": 22,
   "id": "303bfebb-e74d-4f56-92c6-83c28497c30d",
   "metadata": {},
   "outputs": [
    {
     "name": "stdin",
     "output_type": "stream",
     "text": [
      " http://www.facebook.com\n"
     ]
    },
    {
     "name": "stdout",
     "output_type": "stream",
     "text": [
      "valid\n"
     ]
    }
   ],
   "source": [
    "str1=input()\n",
    "#if the string contains the following attributes then it is a valid URL\n",
    "x=str1.startswith((\"https://\",\"http://\",\"ftp://\")) and \".\" in str1\n",
    "if x==True:\n",
    "    print(\"valid\")\n",
    "else:\n",
    "    print(\"not valid\")"
   ]
  },
  {
   "cell_type": "code",
   "execution_count": 23,
   "id": "25fec56e-d875-41ee-83a2-2d86de07575e",
   "metadata": {},
   "outputs": [],
   "source": [
    "#35. Extract the protocol (http or https) from a URL string."
   ]
  },
  {
   "cell_type": "code",
   "execution_count": 14,
   "id": "6180df9b-09a6-47bc-bdc0-2ef44aadbc4d",
   "metadata": {},
   "outputs": [
    {
     "name": "stdout",
     "output_type": "stream",
     "text": [
      "The protocol of the URL https://www.example.com is: https\n"
     ]
    }
   ],
   "source": [
    "#importing urlparse\n",
    "from urllib.parse import urlparse\n",
    "\n",
    "#urlparse will break the url \n",
    "def extract_protocol(url):\n",
    "    parsed_url = urlparse(url)\n",
    "    #scheme or the protocol will be returned\n",
    "    return parsed_url.scheme\n",
    "\n",
    "# Example usage\n",
    "url_to_check = \"https://www.example.com\"\n",
    "protocol = extract_protocol(url_to_check)\n",
    "\n",
    "print(f\"The protocol of the URL {url_to_check} is: {protocol}\")\n"
   ]
  },
  {
   "cell_type": "code",
   "execution_count": 15,
   "id": "002a98f8-0b47-4ec9-bfb3-922167c9fc97",
   "metadata": {},
   "outputs": [],
   "source": [
    "#36. Find the frequency of each character in a string."
   ]
  },
  {
   "cell_type": "code",
   "execution_count": 6,
   "id": "d82cfcbd-09cc-4773-9384-d62ec925fb9b",
   "metadata": {},
   "outputs": [
    {
     "name": "stdin",
     "output_type": "stream",
     "text": [
      "Enter a string:  Ajsbh Axsbh saa\n"
     ]
    },
    {
     "name": "stdout",
     "output_type": "stream",
     "text": [
      "A :  2\n",
      "a :  2\n",
      "b :  2\n",
      "h :  2\n",
      "j :  1\n",
      "s :  3\n",
      "x :  1\n"
     ]
    }
   ],
   "source": [
    "text = input(\"Enter a string: \")\n",
    "\n",
    "# Remove spaces and convert the string to lowercase (optional)\n",
    "text=text.replace(\" \",\"\")\n",
    "\n",
    "# Iterate through the characters in the string\n",
    "for char in sorted(set(text)):\n",
    "    count = text.count(char)\n",
    "    print(char, \": \", count)\n"
   ]
  },
  {
   "cell_type": "code",
   "execution_count": 8,
   "id": "3537598e-153d-46d4-8d01-a1c11c15719e",
   "metadata": {},
   "outputs": [],
   "source": [
    "#37. Remove all punctuation from a string."
   ]
  },
  {
   "cell_type": "code",
   "execution_count": 2,
   "id": "5f39c4c4-bafd-42e9-a119-a05e26180533",
   "metadata": {
    "tags": []
   },
   "outputs": [
    {
     "name": "stdout",
     "output_type": "stream",
     "text": [
      "hi guys Hows it going\n"
     ]
    }
   ],
   "source": [
    "import string\n",
    "def remove_punc(str1):\n",
    "    str2=str.maketrans('','',string.punctuation)\n",
    "    str3=str1.translate(str2)\n",
    "    return str3\n",
    "text=\"hi!, guys. How's it going?\"\n",
    "plain_text=remove_punc(text)\n",
    "print(plain_text)"
   ]
  },
  {
   "cell_type": "code",
   "execution_count": 10,
   "id": "06a75c13-614e-40da-b597-59c470a568c7",
   "metadata": {},
   "outputs": [
    {
     "name": "stdin",
     "output_type": "stream",
     "text": [
      "Enter a string:  sdfkjc shcsdbcih cdiucb \n"
     ]
    },
    {
     "name": "stdout",
     "output_type": "stream",
     "text": [
      "Number of consonants: 18\n"
     ]
    }
   ],
   "source": [
    "def count_consonants(input_string):\n",
    "    # Define a set of lowercase consonants\n",
    "    consonants = set(\"bcdfghjklmnpqrstvwxyz\")\n",
    "    \n",
    "    # Convert the input string to lowercase for case-insensitive counting\n",
    "    input_string = input_string.lower()\n",
    "    \n",
    "    # Initialize a count for consonants\n",
    "    consonant_count = 0\n",
    "    \n",
    "    # Iterate through the characters in the string\n",
    "    for char in input_string:\n",
    "        if char in consonants:\n",
    "            consonant_count += 1\n",
    "    \n",
    "    return consonant_count\n",
    "\n",
    "# Test the function\n",
    "text = input(\"Enter a string: \")\n",
    "consonant_count = count_consonants(text)\n",
    "print(f\"Number of consonants: {consonant_count}\")"
   ]
  },
  {
   "cell_type": "code",
   "execution_count": 12,
   "id": "c7f723dc-feb7-4eb4-a617-1990e4e4dd01",
   "metadata": {},
   "outputs": [],
   "source": [
    "#38. Check if a string contains only digits."
   ]
  },
  {
   "cell_type": "code",
   "execution_count": 22,
   "id": "05fea547-a547-4114-8555-31b72c6e5aa3",
   "metadata": {},
   "outputs": [
    {
     "name": "stdin",
     "output_type": "stream",
     "text": [
      " 1234 345\n"
     ]
    },
    {
     "name": "stdout",
     "output_type": "stream",
     "text": [
      "contains only digits\n"
     ]
    }
   ],
   "source": [
    "str1=input()\n",
    "str1=str1.replace(\" \",\"\")\n",
    "if str1.isdigit():\n",
    "    print(\"contains only digits\")\n",
    "else:\n",
    "    print(\"does not contains only digits\")\n",
    "    "
   ]
  },
  {
   "cell_type": "code",
   "execution_count": 23,
   "id": "880c5a8b-a223-4b6b-b589-5d0f1cccd96b",
   "metadata": {},
   "outputs": [],
   "source": [
    "#39. Check if a string contains only alphabets.\n"
   ]
  },
  {
   "cell_type": "code",
   "execution_count": 24,
   "id": "82f925d8-1438-4433-9dac-5269d67ccd15",
   "metadata": {},
   "outputs": [
    {
     "name": "stdin",
     "output_type": "stream",
     "text": [
      " asdf sdfrg\n"
     ]
    },
    {
     "name": "stdout",
     "output_type": "stream",
     "text": [
      "contains only alphabets\n"
     ]
    }
   ],
   "source": [
    "str1=input()\n",
    "str1=str1.replace(\" \",\"\")\n",
    "if str1.isalpha():\n",
    "    print(\"contains only alphabets\")\n",
    "else:\n",
    "    print(\"does'nt contain only alphabets\")"
   ]
  },
  {
   "cell_type": "code",
   "execution_count": 25,
   "id": "e472082a-9c5d-4de9-b632-fd429bf1d40a",
   "metadata": {},
   "outputs": [],
   "source": [
    "#40. Convert a string to a list of characters."
   ]
  },
  {
   "cell_type": "code",
   "execution_count": 7,
   "id": "04c097f2-1235-401f-ad31-6d242b8d857b",
   "metadata": {},
   "outputs": [
    {
     "name": "stdin",
     "output_type": "stream",
     "text": [
      " this is a list\n"
     ]
    },
    {
     "name": "stdout",
     "output_type": "stream",
     "text": [
      "['t', 'h', 'i', 's', 'i', 's', 'a', 'l', 'i', 's', 't']\n"
     ]
    }
   ],
   "source": [
    "str1=input()\n",
    "li=[]\n",
    "str1=str1.replace(\" \",\"\")\n",
    "for i in str1:\n",
    "    li.append(i)\n",
    "print(li)\n",
    "    "
   ]
  },
  {
   "cell_type": "code",
   "execution_count": 1,
   "id": "3e6e14f6-30a5-4125-9d50-fcfaa0cf3482",
   "metadata": {},
   "outputs": [],
   "source": [
    "#41. Check if two strings are anagrams."
   ]
  },
  {
   "cell_type": "code",
   "execution_count": 12,
   "id": "b3055dd6-fb47-4a2d-bedf-6fcb98239bed",
   "metadata": {},
   "outputs": [
    {
     "name": "stdin",
     "output_type": "stream",
     "text": [
      " earth\n",
      " heart\n"
     ]
    },
    {
     "name": "stdout",
     "output_type": "stream",
     "text": [
      "Anagram\n"
     ]
    }
   ],
   "source": [
    "str1=input()\n",
    "str2=input()\n",
    "str1=str1.replace(\" \",\"\").lower()\n",
    "str2=str2.replace(\" \",\"\").lower()\n",
    "if(sorted(str1)==sorted(str2)):\n",
    "    print(\"Anagram\")\n",
    "else:\n",
    "    print(\"Not Anagram\")"
   ]
  },
  {
   "cell_type": "code",
   "execution_count": 9,
   "id": "bccd72f8-dc8d-4208-9ec5-2ba9e076f170",
   "metadata": {},
   "outputs": [],
   "source": [
    "#42. Encode a string using a Caesar cipher."
   ]
  },
  {
   "cell_type": "code",
   "execution_count": 12,
   "id": "cabeb311-884e-4cfd-895b-eb3370372785",
   "metadata": {},
   "outputs": [
    {
     "name": "stdin",
     "output_type": "stream",
     "text": [
      "string to encode encoded string\n",
      "number of shifts 3\n"
     ]
    },
    {
     "name": "stdout",
     "output_type": "stream",
     "text": [
      "hqfrghg vwulqj\n"
     ]
    }
   ],
   "source": [
    "str1=input('string to encode')\n",
    "shift=input('number of shifts')\n",
    "li=\"\"\n",
    "for i in str1:\n",
    "    if i.isalpha():\n",
    "        char=chr((ord(i) + 3 - ord('a')) % 26 + ord('a'))\n",
    "        li+=char\n",
    "    else:\n",
    "        li+=i\n",
    "print(li)\n"
   ]
  },
  {
   "cell_type": "code",
   "execution_count": null,
   "id": "0be330b8-8fda-4352-bd4a-adc9b05843db",
   "metadata": {},
   "outputs": [],
   "source": [
    "#43. Decode a Caesar cipher encoded string."
   ]
  },
  {
   "cell_type": "code",
   "execution_count": 6,
   "id": "2926a4a9-f9a7-4dc1-a521-23c71efffb71",
   "metadata": {},
   "outputs": [
    {
     "name": "stdout",
     "output_type": "stream",
     "text": [
      "Decoded text: abcdefghi\n"
     ]
    }
   ],
   "source": [
    "def caesar_cipher_decoder(text, shift):\n",
    "    \n",
    "    # Initialize an empty string to store the decoded text\n",
    "    decoded_text = \"\"\n",
    "\n",
    "    # Loop through each character in the input text\n",
    "    for char in text:\n",
    "        # Check if the character is an alphabetic character\n",
    "        if char.isalpha():\n",
    "            # Calculate the decoded character using the shift value\n",
    "            decoded_char = chr((ord(char) - shift - ord('a')) % 26 + ord('a'))\n",
    "        else:\n",
    "            # If the character is not alphabetic, keep it unchanged\n",
    "            decoded_char = char\n",
    "\n",
    "        # Add the decoded character to the decoded text\n",
    "        decoded_text += decoded_char\n",
    "\n",
    "    # Return the fully decoded text\n",
    "    return decoded_text\n",
    "\n",
    "# Example input\n",
    "text = \"defghijkl\"\n",
    "shift = 3\n",
    "\n",
    "# Call the caesar_cipher_decoder function to decode the input text\n",
    "decoded_text = caesar_cipher_decoder(text, shift)\n",
    "\n",
    "# Print the decoded text\n",
    "print(\"Decoded text:\", decoded_text)"
   ]
  },
  {
   "cell_type": "code",
   "execution_count": 7,
   "id": "75ee74ed-5edb-4704-8bdd-c2e57863075e",
   "metadata": {},
   "outputs": [],
   "source": [
    "#44. Find the most frequent word in a string."
   ]
  },
  {
   "cell_type": "code",
   "execution_count": 13,
   "id": "db9c0156-0ac1-4ba5-8e7d-11d91d508107",
   "metadata": {},
   "outputs": [
    {
     "name": "stdout",
     "output_type": "stream",
     "text": [
      "Most frequent word: hello\n"
     ]
    }
   ],
   "source": [
    "import re\n",
    "from collections import Counter\n",
    "\n",
    "def most_frequent_word(input_string):\n",
    "    # Remove punctuation and convert to lowercase\n",
    "    clean_string = re.sub(r'[^\\w\\s]', '', input_string).lower()\n",
    "\n",
    "    # Split the string into words\n",
    "    words = clean_string.split()\n",
    "\n",
    "    # Use Counter to count word frequencies\n",
    "    word_counter = Counter(words)\n",
    "\n",
    "    # Find the most common word\n",
    "    most_common_word = word_counter.most_common(1)[0][0]\n",
    "\n",
    "\n",
    "\n",
    "    return most_common_word\n",
    "\n",
    "# Example string\n",
    "input_str = \"Hello world, hello there! How's the world?\"\n",
    "\n",
    "# Find the most frequent word\n",
    "most_common = most_frequent_word(input_str)\n",
    "\n",
    "# Print the result\n",
    "print(\"Most frequent word:\", most_common)\n"
   ]
  },
  {
   "cell_type": "code",
   "execution_count": 14,
   "id": "9b3d232d-caac-428a-bf88-23a7dc2165ca",
   "metadata": {},
   "outputs": [],
   "source": [
    "#45. Find all unique words in a string."
   ]
  },
  {
   "cell_type": "code",
   "execution_count": 15,
   "id": "4901a11e-222d-414f-9e2b-73cf5bcb0583",
   "metadata": {},
   "outputs": [
    {
     "name": "stdout",
     "output_type": "stream",
     "text": [
      "Unique words: {'the', 'hello', 'there', 'hows', 'world'}\n"
     ]
    }
   ],
   "source": [
    "import re\n",
    "\n",
    "def unique_words(input_string):\n",
    "    # Remove punctuation and convert to lowercase\n",
    "    clean_string = re.sub(r'[^\\w\\s]', '', input_string).lower()\n",
    "\n",
    "    # Split the string into words and convert to a set for uniqueness\n",
    "    words = set(clean_string.split())\n",
    "\n",
    "    return words\n",
    "\n",
    "# Example string\n",
    "input_str = \"Hello world, hello there! How's the world?\"\n",
    "\n",
    "# Find unique words\n",
    "unique_word_set = unique_words(input_str)\n",
    "\n",
    "# Print the result\n",
    "print(\"Unique words:\", unique_word_set)"
   ]
  },
  {
   "cell_type": "code",
   "execution_count": 16,
   "id": "c3185cb8-b018-4a0d-9fb4-a6fb4ccc7680",
   "metadata": {},
   "outputs": [],
   "source": [
    "#46. Count the number of syllables in a string."
   ]
  },
  {
   "cell_type": "code",
   "execution_count": 3,
   "id": "32fd474f-f529-4f01-ac90-e7e881299b07",
   "metadata": {},
   "outputs": [
    {
     "name": "stdout",
     "output_type": "stream",
     "text": [
      "'hello' has 2 syllables.\n"
     ]
    }
   ],
   "source": [
    "import re\n",
    "\n",
    "def count_syllables(word):\n",
    "    # Count vowel groups using regular expression\n",
    "    vowel_groups = re.findall(r'[aeiouy]+', word, re.IGNORECASE)\n",
    "\n",
    "    return len(vowel_groups)\n",
    "\n",
    "# Example words\n",
    "word1 = \"hello\"\n",
    "\n",
    "# Count syllables\n",
    "syllables1 = count_syllables(word1)\n",
    "\n",
    "# Print the results\n",
    "print(f\"'{word1}' has {syllables1} syllables.\")"
   ]
  },
  {
   "cell_type": "code",
   "execution_count": 19,
   "id": "b29cff76-db0d-4457-a381-995123d5d0d8",
   "metadata": {},
   "outputs": [
    {
     "name": "stdout",
     "output_type": "stream",
     "text": [
      "2\n",
      "2\n",
      "2\n",
      "3\n"
     ]
    }
   ],
   "source": [
    "#47. Check if a string contains any special characters.\n",
    "# Python program to print prime factors\n",
    "\n",
    "import math\n",
    "\n",
    "# A function to print all prime factors of\n",
    "# a given number n\n",
    "def primeFactors(n):\n",
    "\t\n",
    "\t# Print the number of two's that divide n\n",
    "\twhile n % 2 == 0:\n",
    "\t\tprint(2)\n",
    "\t\tn = n // 2\n",
    "\t\t\n",
    "\t# n must be odd at this point\n",
    "\t# so a skip of 2 ( i = i + 2) can be used\n",
    "\tfor i in range(3,int(math.sqrt(n))+1,2):\n",
    "        \n",
    "\t\t\n",
    "\t\t# while i divides n , print i ad divide n\n",
    "\t\tif n % i== 0:\n",
    "            \n",
    "\t\t\tprint(i)\n",
    "\t\t\tn = n // i\n",
    "\t\t\t\n",
    "\t# Condition if n is a prime\n",
    "\t# number greater than 2\n",
    "\tif n > 2:\n",
    "\t\tprint(n)\n",
    "\t\t\n",
    "# Driver Program to test above function\n",
    "\n",
    "n = 22\n",
    "primeFactors(n)\n",
    "\n",
    "# This code is contributed by Harshit Agrawal \n",
    "#Code Improved by Ajitesh\n"
   ]
  },
  {
   "cell_type": "code",
   "execution_count": 14,
   "id": "68f2374d-827d-4e69-9760-6a52beccfe51",
   "metadata": {},
   "outputs": [
    {
     "name": "stdout",
     "output_type": "stream",
     "text": [
      "'pw, skills!!' contains special characters: True\n"
     ]
    }
   ],
   "source": [
    "import re\n",
    "\n",
    "def contains_special_characters(input_string):\n",
    "    # Define a regular expression pattern to match special characters\n",
    "    pattern = re.compile(r'[!@#$%^&*()_+{}\\[\\]:;<>,.?~\\\\/]')\n",
    "\n",
    "    # Use the search() method to find a match\n",
    "    match = pattern.search(input_string)\n",
    "\n",
    "    # Return True if a match is found, False otherwise\n",
    "    return bool(match)\n",
    "\n",
    "\n",
    "string1 = \"pw, skills!!\"\n",
    "# Check if strings contain special characters\n",
    "result1 = contains_special_characters(string1)\n",
    "# Print the results\n",
    "print(f\"'{string1}' contains special characters:\", result1)"
   ]
  },
  {
   "cell_type": "code",
   "execution_count": 20,
   "id": "cbed879b-d999-466e-b85c-85e03c4f4d55",
   "metadata": {},
   "outputs": [],
   "source": [
    "#48. Remove the nth word from a string."
   ]
  },
  {
   "cell_type": "code",
   "execution_count": 22,
   "id": "b74e9e45-b2a9-41d4-a06a-166cc4d40844",
   "metadata": {},
   "outputs": [
    {
     "name": "stdout",
     "output_type": "stream",
     "text": [
      "Original string: This is an example sentence to test the function.\n",
      "Modified string: This is an sentence to test the function.\n",
      "Removed word: example\n"
     ]
    }
   ],
   "source": [
    "def remove_nth_word(input_string, n):\n",
    "    # Split the input string into words\n",
    "    words = input_string.split()\n",
    "\n",
    "    # Check if n is within a valid range\n",
    "    if n >= 1 and n <= len(words):\n",
    "        # Remove the nth word by excluding it from the words list\n",
    "        removed_word = words.pop(n - 1)\n",
    "\n",
    "        # Join the remaining words to form the modified string\n",
    "        modified_string = ' '.join(words)\n",
    "\n",
    "        return modified_string, removed_word\n",
    "    else:\n",
    "        return None, None\n",
    "\n",
    "# Example string and n value\n",
    "input_str = \"This is an example sentence to test the function.\"\n",
    "n_value = 4\n",
    "\n",
    "# Remove the nth word\n",
    "modified_str, removed_word = remove_nth_word(input_str, n_value)\n",
    "\n",
    "# Print the results\n",
    "print(\"Original string:\", input_str)\n",
    "if modified_str is not None:\n",
    "    print(\"Modified string:\", modified_str)\n",
    "    print(\"Removed word:\", removed_word)\n",
    "else:\n",
    "    print(\"invalid n value\")"
   ]
  },
  {
   "cell_type": "code",
   "execution_count": 25,
   "id": "e226573e-1319-4db8-94b6-8cc9a45ebc86",
   "metadata": {},
   "outputs": [],
   "source": [
    "#49. Insert a word at the nth position in a string."
   ]
  },
  {
   "cell_type": "code",
   "execution_count": 29,
   "id": "96dfbb79-74cf-4e47-ac0f-b217da569ee0",
   "metadata": {},
   "outputs": [
    {
     "name": "stdout",
     "output_type": "stream",
     "text": [
      "Adding 'p' at 8th index of an input string:\n",
      " this is pwskills\n"
     ]
    }
   ],
   "source": [
    "# input string\n",
    "inputString = \"this is wskills\"\n",
    "\n",
    "# adding character 'p' at a specific position \n",
    "inputString = inputString[:8] + 'p' + inputString[8:]\n",
    "\n",
    "# printing the resultant string \n",
    "print(\"Adding 'p' at 8th index of an input string:\\n\", inputString)"
   ]
  },
  {
   "cell_type": "code",
   "execution_count": 23,
   "id": "c7fbe386-0444-4036-93da-021dbb1eb27f",
   "metadata": {},
   "outputs": [],
   "source": [
    "#50. Convert a CSV string to a list of lists."
   ]
  },
  {
   "cell_type": "code",
   "execution_count": 24,
   "id": "46438e8a-6554-4862-8d94-697ae6fa577b",
   "metadata": {},
   "outputs": [
    {
     "name": "stdout",
     "output_type": "stream",
     "text": [
      "['Name', ' Age', ' Country']\n",
      "['John', ' 25', ' USA']\n",
      "['Alice', ' 30', ' Canada']\n",
      "['Bob', ' 22', ' UK']\n"
     ]
    }
   ],
   "source": [
    "def csv_string_to_list(csv_string):\n",
    "    # Split the CSV string into lines\n",
    "    lines = csv_string.split('\\n')\n",
    "\n",
    "    # Initialize an empty list to store the result\n",
    "    result = []\n",
    "\n",
    "    for line in lines:\n",
    "        # Split each line into fields using comma as the delimiter\n",
    "        fields = line.split(',')\n",
    "\n",
    "        # Append the fields to the result list as a row\n",
    "        result.append(fields)\n",
    "\n",
    "    return result\n",
    "\n",
    "# Example CSV string\n",
    "csv_data = \"Name, Age, Country\\nJohn, 25, USA\\nAlice, 30, Canada\\nBob, 22, UK\"\n",
    "\n",
    "# Convert CSV string to a list of lists\n",
    "list_of_lists = csv_string_to_list(csv_data)\n",
    "\n",
    "# Print the result\n",
    "for row in list_of_lists:\n",
    "    print(row)"
   ]
  },
  {
   "cell_type": "code",
   "execution_count": null,
   "id": "b8e7d02c-401c-4a42-9b6e-b08656deb1bb",
   "metadata": {},
   "outputs": [],
   "source": []
  },
  {
   "cell_type": "raw",
   "id": "62e19686-9ce2-4e10-a1b2-5ab65e79e51f",
   "metadata": {},
   "source": [
    "Topic: LIST BASED ASSIGNMENT PROBLEM"
   ]
  },
  {
   "cell_type": "code",
   "execution_count": 5,
   "id": "7b24498b-9c72-4d5d-a044-63bef5067cdf",
   "metadata": {},
   "outputs": [],
   "source": [
    "#1. Create a list with integers from 1 to 10."
   ]
  },
  {
   "cell_type": "code",
   "execution_count": 7,
   "id": "63851b74-4959-4541-834f-723e5bf1e5f4",
   "metadata": {},
   "outputs": [
    {
     "name": "stdout",
     "output_type": "stream",
     "text": [
      "[1, 2, 3, 4, 5, 6, 7, 8, 9, 10]\n"
     ]
    }
   ],
   "source": [
    "li=[]\n",
    "for i in range(1,11):\n",
    "    li.append(i)\n",
    "print(li)"
   ]
  },
  {
   "cell_type": "code",
   "execution_count": 8,
   "id": "f47c5c38-20f7-4fbb-a173-12e7f6bab15a",
   "metadata": {},
   "outputs": [],
   "source": [
    "#2. Find the length of a list without using the `len()` function."
   ]
  },
  {
   "cell_type": "code",
   "execution_count": 9,
   "id": "62494aa2-02fb-423c-ad84-3cd1716a68b0",
   "metadata": {},
   "outputs": [
    {
     "name": "stdout",
     "output_type": "stream",
     "text": [
      "9\n"
     ]
    }
   ],
   "source": [
    "li=[1,2,3,4,5,6,7,8,9]\n",
    "count=0\n",
    "for i in li:\n",
    "    count+=1\n",
    "print(count)\n"
   ]
  },
  {
   "cell_type": "code",
   "execution_count": 10,
   "id": "4ee63677-758f-4055-a1eb-6c96c538b79e",
   "metadata": {},
   "outputs": [],
   "source": [
    "#3. Append an element to the end of a list."
   ]
  },
  {
   "cell_type": "code",
   "execution_count": 12,
   "id": "9dcfe429-1d95-44a6-a34f-28bbffcf1628",
   "metadata": {},
   "outputs": [
    {
     "name": "stdin",
     "output_type": "stream",
     "text": [
      " 9\n"
     ]
    },
    {
     "name": "stdout",
     "output_type": "stream",
     "text": [
      "[1, 2, 3, 4, 5, 6, 7, 8, 9]\n"
     ]
    }
   ],
   "source": [
    "li=[1,2,3,4,5,6,7,8]\n",
    "str1=int(input())\n",
    "li.append(str1)\n",
    "print(li)"
   ]
  },
  {
   "cell_type": "code",
   "execution_count": 13,
   "id": "c3f49e05-88c5-4560-9544-155b22fe0259",
   "metadata": {},
   "outputs": [],
   "source": [
    "#4. Insert an element at a specific index in a list."
   ]
  },
  {
   "cell_type": "code",
   "execution_count": 14,
   "id": "bfc5f4ed-fc23-4c60-a9b5-c81bc1fd3bff",
   "metadata": {},
   "outputs": [
    {
     "name": "stdin",
     "output_type": "stream",
     "text": [
      " 3\n"
     ]
    },
    {
     "name": "stdout",
     "output_type": "stream",
     "text": [
      "[1, 2, 3, 4, 5, 6, 7]\n"
     ]
    }
   ],
   "source": [
    "li=[1,2,4,5,6,7]\n",
    "num=int(input())\n",
    "li.insert(2,num)\n",
    "print(li)"
   ]
  },
  {
   "cell_type": "code",
   "execution_count": 15,
   "id": "fdb54347-905a-42ae-8572-4551ae26cfa6",
   "metadata": {},
   "outputs": [],
   "source": [
    "#5. Remove an element from a list by its value."
   ]
  },
  {
   "cell_type": "code",
   "execution_count": 2,
   "id": "462f9ee7-9c80-4337-b4bc-ea22b4201440",
   "metadata": {},
   "outputs": [
    {
     "name": "stdout",
     "output_type": "stream",
     "text": [
      "[1, 2, 4, 5, 6, 7]\n"
     ]
    }
   ],
   "source": [
    "li=[1,2,3,4,5,6,7]\n",
    "rem=3\n",
    "li.remove(rem)\n",
    "print(li)"
   ]
  },
  {
   "cell_type": "code",
   "execution_count": 17,
   "id": "ca7efe5f-dd6c-4740-a690-3c7c41c70588",
   "metadata": {},
   "outputs": [],
   "source": [
    "#6. Remove an element from a list by its index."
   ]
  },
  {
   "cell_type": "code",
   "execution_count": 18,
   "id": "522706ec-1c66-48ed-8fd2-8afc1b628b29",
   "metadata": {},
   "outputs": [
    {
     "name": "stdout",
     "output_type": "stream",
     "text": [
      "[1, 2, 3, 5, 6, 7, 8, 9]\n"
     ]
    }
   ],
   "source": [
    "li=[1,2,3,4,5,6,7,8,9]\n",
    "ind=3\n",
    "li.pop(ind)\n",
    "print(li)"
   ]
  },
  {
   "cell_type": "code",
   "execution_count": 19,
   "id": "3a88e167-13b9-47be-bb24-bdbcec51dadf",
   "metadata": {},
   "outputs": [],
   "source": [
    "#7. Check if an element exists in a list."
   ]
  },
  {
   "cell_type": "code",
   "execution_count": 20,
   "id": "4ab64bf3-688d-4716-9d2e-0f85324430ca",
   "metadata": {},
   "outputs": [
    {
     "name": "stdout",
     "output_type": "stream",
     "text": [
      "element exists in list\n"
     ]
    }
   ],
   "source": [
    "li=[1,2,3,4,5,6,7,8]\n",
    "num=4\n",
    "if num in li:\n",
    "    print(\"element exists in list\")\n",
    "else:\n",
    "    print(\"element doesn't exists in list\")    \n",
    "    "
   ]
  },
  {
   "cell_type": "code",
   "execution_count": 21,
   "id": "0e1f7db5-41ea-4d4e-9c6a-c9e40c4967fe",
   "metadata": {},
   "outputs": [],
   "source": [
    "#8. Find the index of the first occurrence of an element in a list."
   ]
  },
  {
   "cell_type": "code",
   "execution_count": 27,
   "id": "967da460-fd66-461d-862e-b41a8d9221aa",
   "metadata": {},
   "outputs": [
    {
     "name": "stdout",
     "output_type": "stream",
     "text": [
      "4\n"
     ]
    }
   ],
   "source": [
    "li=[1,2,3,4,5,5,6,75,5]\n",
    "a=li.index(5)\n",
    "print(a)"
   ]
  },
  {
   "cell_type": "code",
   "execution_count": 28,
   "id": "ac3723db-668b-4767-a84c-78d32e730cec",
   "metadata": {},
   "outputs": [],
   "source": [
    "#9. Count the occurrences of an element in a list."
   ]
  },
  {
   "cell_type": "code",
   "execution_count": 31,
   "id": "59fead36-dc9a-4734-b8cb-92f7ef60e4db",
   "metadata": {},
   "outputs": [
    {
     "data": {
      "text/plain": [
       "3"
      ]
     },
     "execution_count": 31,
     "metadata": {},
     "output_type": "execute_result"
    }
   ],
   "source": [
    "li=[1,2,3,3,4,5,3,2,3,4,2,5]\n",
    "li.count(2)"
   ]
  },
  {
   "cell_type": "code",
   "execution_count": 33,
   "id": "6ff6118c-789d-403e-9a82-220a738d70a0",
   "metadata": {},
   "outputs": [],
   "source": [
    "#10. Reverse the order of elements in a list."
   ]
  },
  {
   "cell_type": "code",
   "execution_count": 34,
   "id": "6bce6d2d-94cc-4204-af4d-ac6a85372446",
   "metadata": {},
   "outputs": [
    {
     "data": {
      "text/plain": [
       "[7, 6, 5, 4, 3, 2, 1]"
      ]
     },
     "execution_count": 34,
     "metadata": {},
     "output_type": "execute_result"
    }
   ],
   "source": [
    "li=[1,2,3,4,5,6,7]\n",
    "li[::-1]"
   ]
  },
  {
   "cell_type": "code",
   "execution_count": 35,
   "id": "d20b7327-9346-45f0-802a-b32a5c41d0b1",
   "metadata": {},
   "outputs": [],
   "source": [
    "#11. Sort a list in ascending order."
   ]
  },
  {
   "cell_type": "code",
   "execution_count": 37,
   "id": "f01edbce-9e55-424d-9f8a-9d6a4ca6f34c",
   "metadata": {},
   "outputs": [
    {
     "name": "stdout",
     "output_type": "stream",
     "text": [
      "[1, 3, 4, 4, 5, 7, 9, 11, 34]\n"
     ]
    }
   ],
   "source": [
    "li=[4,3,5,4,1,7,11,34,9]\n",
    "li.sort()\n",
    "print(li)"
   ]
  },
  {
   "cell_type": "code",
   "execution_count": 38,
   "id": "b3af79fc-78af-4f0d-ba7d-8599cb8b93a0",
   "metadata": {},
   "outputs": [],
   "source": [
    "#12. Sort a list in descending order."
   ]
  },
  {
   "cell_type": "code",
   "execution_count": 40,
   "id": "72719de2-c622-42ef-bb49-40ee4d9935ec",
   "metadata": {},
   "outputs": [
    {
     "name": "stdout",
     "output_type": "stream",
     "text": [
      "[7, 6, 5, 4, 3, 2, 1]\n"
     ]
    }
   ],
   "source": [
    "li=[1,2,3,4,5,6,7]\n",
    "li.sort(reverse=True)\n",
    "print(li)"
   ]
  },
  {
   "cell_type": "code",
   "execution_count": 41,
   "id": "1024aab8-baf2-4bf7-aad5-664256bd19d3",
   "metadata": {},
   "outputs": [],
   "source": [
    "#13. Create a list of even numbers from 1 to 20."
   ]
  },
  {
   "cell_type": "code",
   "execution_count": 45,
   "id": "72b63235-b752-44ab-b5f1-36c8c4c04704",
   "metadata": {},
   "outputs": [
    {
     "name": "stdout",
     "output_type": "stream",
     "text": [
      "[2, 4, 6, 8, 10, 12, 14, 16, 18, 20]\n"
     ]
    }
   ],
   "source": [
    "li=[]\n",
    "for i in range(1,21):\n",
    "    if i%2==0:\n",
    "        li.append(i)\n",
    "print(li)\n",
    "        "
   ]
  },
  {
   "cell_type": "code",
   "execution_count": 43,
   "id": "3523ed95-1a99-45b2-9f7d-9218f59b7b3c",
   "metadata": {},
   "outputs": [],
   "source": [
    "#14. Create a list of odd numbers from 1 to 20."
   ]
  },
  {
   "cell_type": "code",
   "execution_count": 47,
   "id": "9f97318c-a833-42e7-bdae-d23651442340",
   "metadata": {},
   "outputs": [
    {
     "name": "stdout",
     "output_type": "stream",
     "text": [
      "[1, 3, 5, 7, 9, 11, 13, 15, 17, 19]\n"
     ]
    }
   ],
   "source": [
    "li=[]\n",
    "for i in range(1,21):\n",
    "    if i%2!=0:\n",
    "        li.append(i)\n",
    "print(li)"
   ]
  },
  {
   "cell_type": "code",
   "execution_count": 48,
   "id": "4df8dba1-ff91-4c15-a2ca-a344790316b8",
   "metadata": {},
   "outputs": [],
   "source": [
    "#15. Find the sum of all elements in a list."
   ]
  },
  {
   "cell_type": "code",
   "execution_count": 50,
   "id": "c41851c3-05f0-4637-9297-9cd0b58647f9",
   "metadata": {},
   "outputs": [
    {
     "data": {
      "text/plain": [
       "36"
      ]
     },
     "execution_count": 50,
     "metadata": {},
     "output_type": "execute_result"
    }
   ],
   "source": [
    "li=[1,2,3,4,5,6,7,8]\n",
    "sum(li)"
   ]
  },
  {
   "cell_type": "code",
   "execution_count": 51,
   "id": "da0b5013-58ce-4e0f-b839-be55c4ea1d1c",
   "metadata": {},
   "outputs": [],
   "source": [
    "#16. Find the maximum value in a list."
   ]
  },
  {
   "cell_type": "code",
   "execution_count": 52,
   "id": "593fbdfa-0e3c-47fa-9edc-3478e10875e4",
   "metadata": {},
   "outputs": [
    {
     "data": {
      "text/plain": [
       "34"
      ]
     },
     "execution_count": 52,
     "metadata": {},
     "output_type": "execute_result"
    }
   ],
   "source": [
    "li=[1,6,3,22,11,34,32]\n",
    "max(li)"
   ]
  },
  {
   "cell_type": "code",
   "execution_count": 53,
   "id": "8248949e-8810-4157-bcf6-83d8eb3f707d",
   "metadata": {},
   "outputs": [],
   "source": [
    "#17. Find the minimum value in a list."
   ]
  },
  {
   "cell_type": "code",
   "execution_count": 54,
   "id": "0bd2cda1-ff77-4417-bae4-40810dd5f418",
   "metadata": {},
   "outputs": [
    {
     "data": {
      "text/plain": [
       "2"
      ]
     },
     "execution_count": 54,
     "metadata": {},
     "output_type": "execute_result"
    }
   ],
   "source": [
    "li=[2,43,23,11,4]\n",
    "min(li)"
   ]
  },
  {
   "cell_type": "code",
   "execution_count": 55,
   "id": "a2713f0b-3d77-4d92-abe7-d610cfcd0e0d",
   "metadata": {},
   "outputs": [],
   "source": [
    "#18. Create a list of squares of numbers from 1 to 10."
   ]
  },
  {
   "cell_type": "code",
   "execution_count": 60,
   "id": "69aaa3fa-d4cc-4738-a100-5145bb5c4d5a",
   "metadata": {},
   "outputs": [
    {
     "name": "stdout",
     "output_type": "stream",
     "text": [
      "[1, 4, 9, 16, 25, 36, 49, 64, 81, 100]\n"
     ]
    }
   ],
   "source": [
    "li=[]\n",
    "for i in range(1,11):\n",
    "    sq=i**2\n",
    "    li.append(sq)\n",
    "print(li)"
   ]
  },
  {
   "cell_type": "code",
   "execution_count": 61,
   "id": "8b329f8f-4d75-45d6-9d70-7b7bb3d4912d",
   "metadata": {},
   "outputs": [],
   "source": [
    "#19. Create a list of random numbers."
   ]
  },
  {
   "cell_type": "code",
   "execution_count": 62,
   "id": "051036ea-3d76-461e-b835-97575999e3fb",
   "metadata": {},
   "outputs": [
    {
     "name": "stdout",
     "output_type": "stream",
     "text": [
      "[10, 22, 10, 10, 22, 14, 29, 14, 22, 26]\n"
     ]
    }
   ],
   "source": [
    "import random\n",
    "li=[]\n",
    "for i in range(1,11):\n",
    "    li.append(random.randint(2,30))\n",
    "print(li)"
   ]
  },
  {
   "cell_type": "code",
   "execution_count": 63,
   "id": "8e327b62-be67-42d0-93a9-4c7218626a47",
   "metadata": {},
   "outputs": [],
   "source": [
    "#20. Remove duplicates from a list."
   ]
  },
  {
   "cell_type": "code",
   "execution_count": 64,
   "id": "21070311-c5ff-4f44-b64d-8ff1fcd52535",
   "metadata": {},
   "outputs": [
    {
     "name": "stdout",
     "output_type": "stream",
     "text": [
      "[1, 2, 3, 4, 5, 11, 13]\n"
     ]
    }
   ],
   "source": [
    "li=[1,2,2,3,2,4,5,11,13,11]\n",
    "new_li=[]\n",
    "for i in li:\n",
    "    if i not in new_li:\n",
    "        new_li.append(i)\n",
    "print(new_li)\n"
   ]
  },
  {
   "cell_type": "code",
   "execution_count": 65,
   "id": "a341935f-c923-4f6f-a011-8ec25b30681a",
   "metadata": {},
   "outputs": [],
   "source": [
    "#21. Find the common elements between two lists."
   ]
  },
  {
   "cell_type": "code",
   "execution_count": 3,
   "id": "06a38982-1689-40d9-a87c-fcd030495d2f",
   "metadata": {},
   "outputs": [
    {
     "name": "stdout",
     "output_type": "stream",
     "text": [
      "common elements are: [23, 34]\n"
     ]
    }
   ],
   "source": [
    "li1=[2,3,12,23,34,45]\n",
    "li2=[1,4,5,23,34,6]\n",
    "li=[]\n",
    "for i in li1:\n",
    "    if i in li2:\n",
    "        li.append(i)\n",
    "print('common elements are:',li)"
   ]
  },
  {
   "cell_type": "code",
   "execution_count": 4,
   "id": "8d9b367a-df4f-4d72-9afa-5cf93bff8b53",
   "metadata": {},
   "outputs": [],
   "source": [
    "#22. Find the difference between two lists."
   ]
  },
  {
   "cell_type": "code",
   "execution_count": 4,
   "id": "bf501852-4f7e-4c10-85a8-108cc65a88b4",
   "metadata": {},
   "outputs": [
    {
     "data": {
      "text/plain": [
       "[2, 3, 7]"
      ]
     },
     "execution_count": 4,
     "metadata": {},
     "output_type": "execute_result"
    }
   ],
   "source": [
    "l1=[2,3,4,5,6,7]\n",
    "l2=[1,12,13,4,5,6]\n",
    "deff=list(set(l1).difference(l2))\n",
    "deff\n"
   ]
  },
  {
   "cell_type": "code",
   "execution_count": 5,
   "id": "58faee16-8954-4645-8a60-a25bd526c153",
   "metadata": {},
   "outputs": [],
   "source": [
    "#23. Merge two lists."
   ]
  },
  {
   "cell_type": "code",
   "execution_count": 6,
   "id": "e702f853-eedb-41b5-9c9c-ffa799fbd574",
   "metadata": {},
   "outputs": [
    {
     "name": "stdout",
     "output_type": "stream",
     "text": [
      "[1, 2, 3, 4, 4, 5, 6, 7]\n"
     ]
    }
   ],
   "source": [
    "l1=[1,2,3,4]\n",
    "l2=[4,5,6,7]\n",
    "l3=l1+l2\n",
    "print(l3)"
   ]
  },
  {
   "cell_type": "code",
   "execution_count": 7,
   "id": "d3cb274a-4164-4fbd-93e1-f7f3325b8bed",
   "metadata": {},
   "outputs": [],
   "source": [
    "#24. Multiply all elements in a list by 2."
   ]
  },
  {
   "cell_type": "code",
   "execution_count": 14,
   "id": "3b248c50-6c6f-4787-afb0-e4f678f7965b",
   "metadata": {},
   "outputs": [
    {
     "name": "stdout",
     "output_type": "stream",
     "text": [
      "[4, 6, 8, 10, 12]\n"
     ]
    }
   ],
   "source": [
    "l1=[2,3,4,5,6]\n",
    "l2=[]\n",
    "for i in l1:\n",
    "    a=i*2\n",
    "    l2.append(a)\n",
    "print(l2)"
   ]
  },
  {
   "cell_type": "code",
   "execution_count": 15,
   "id": "67c98c3a-6564-48c9-b3d5-56e6f468ab1c",
   "metadata": {},
   "outputs": [],
   "source": [
    "#25. Filter out all even numbers from a list."
   ]
  },
  {
   "cell_type": "code",
   "execution_count": 17,
   "id": "ac2ff1cf-7bf0-4aae-9abc-65963ed7c354",
   "metadata": {},
   "outputs": [
    {
     "name": "stdout",
     "output_type": "stream",
     "text": [
      "[1, 3, 5, 7, 9]\n"
     ]
    }
   ],
   "source": [
    "l1=[1,2,3,4,5,6,7,8,9]\n",
    "for i in l1:\n",
    "    if i%2==0:\n",
    "        l1.remove(i)\n",
    "    else:\n",
    "        pass\n",
    "print(l1)"
   ]
  },
  {
   "cell_type": "code",
   "execution_count": 18,
   "id": "fac16bdc-2fe8-400f-8016-9e6c7e2709cc",
   "metadata": {},
   "outputs": [],
   "source": [
    "#26. Convert a list of strings to a list of integers."
   ]
  },
  {
   "cell_type": "code",
   "execution_count": 35,
   "id": "2aa86230-5dc3-49e0-9d5a-e33e6d6c3c7e",
   "metadata": {},
   "outputs": [
    {
     "name": "stdout",
     "output_type": "stream",
     "text": [
      "[1, 2, 3, 4, 5]\n"
     ]
    }
   ],
   "source": [
    "l1=[\"1\",\"2\",\"3\",\"4\",\"5\"]\n",
    "l2=[]\n",
    "for i in l1:\n",
    "    l2.append(int(i))\n",
    "print(l2)\n",
    "    "
   ]
  },
  {
   "cell_type": "code",
   "execution_count": 36,
   "id": "a4bf8515-dbd7-47f2-805a-2e77c7f6485d",
   "metadata": {},
   "outputs": [],
   "source": [
    "#27. Convert a list of integers to a list of strings."
   ]
  },
  {
   "cell_type": "code",
   "execution_count": 37,
   "id": "ea4a6459-2b25-4fb5-9c12-86ba3a186667",
   "metadata": {},
   "outputs": [
    {
     "name": "stdout",
     "output_type": "stream",
     "text": [
      "['1', '2', '3', '4', '5', '6', '7']\n"
     ]
    }
   ],
   "source": [
    "l1=[1,2,3,4,5,6,7]\n",
    "l2=[]\n",
    "for i in l1:\n",
    "    l2.append(str(i))\n",
    "print(l2)"
   ]
  },
  {
   "cell_type": "code",
   "execution_count": 38,
   "id": "1c3e41af-9972-4eb3-9190-fd881c8ac62b",
   "metadata": {},
   "outputs": [],
   "source": [
    "#28. Flatten a nested list."
   ]
  },
  {
   "cell_type": "code",
   "execution_count": 59,
   "id": "ca086752-f2cb-4d99-ad0b-14cb4b10def2",
   "metadata": {},
   "outputs": [
    {
     "name": "stdout",
     "output_type": "stream",
     "text": [
      "[1, 2, 3, 4, 5, 6, 7, 8]\n"
     ]
    }
   ],
   "source": [
    "l1=[1,2,[3,4,5],[6,7,8]]\n",
    "l2=[]\n",
    "for i in l1:\n",
    "    if isinstance(i,list):\n",
    "        l2.extend(i)\n",
    "    else:\n",
    "        l2.append(i)\n",
    "print(l2)\n",
    "\n"
   ]
  },
  {
   "cell_type": "code",
   "execution_count": 60,
   "id": "5cefef03-af9a-4069-982e-67af2fee3ee7",
   "metadata": {},
   "outputs": [],
   "source": [
    "#29. Create a list of the first 10 Fibonacci numbers."
   ]
  },
  {
   "cell_type": "code",
   "execution_count": 33,
   "id": "6a34c90e-6185-413e-84d8-a35fe9160e74",
   "metadata": {},
   "outputs": [
    {
     "name": "stdin",
     "output_type": "stream",
     "text": [
      " 10\n"
     ]
    },
    {
     "name": "stdout",
     "output_type": "stream",
     "text": [
      "[0, 1, 1, 2, 3, 5, 8, 13, 21, 34]\n"
     ]
    }
   ],
   "source": [
    "li=[0,1]\n",
    "n=int(input())\n",
    "for i in range(2,n):\n",
    "    \n",
    "    li2=li[i-1]+li[i-2]\n",
    "    li.append(li2)\n",
    "print(li)"
   ]
  },
  {
   "cell_type": "code",
   "execution_count": 1,
   "id": "df0855a5-d59c-485b-8bcf-84a71f0ea0c8",
   "metadata": {},
   "outputs": [],
   "source": [
    "#30. Check if a list is sorted."
   ]
  },
  {
   "cell_type": "code",
   "execution_count": 31,
   "id": "36b04206-7402-4ac3-bce5-a55b71bbf12a",
   "metadata": {},
   "outputs": [
    {
     "name": "stdout",
     "output_type": "stream",
     "text": [
      "Not sorted in ascending order\n"
     ]
    }
   ],
   "source": [
    "def list_sort(li):\n",
    "    for i in range(1,len(li)):\n",
    "        if li[i]<li[i-1]:\n",
    "            return False\n",
    "    return True\n",
    "li=[1,2,3,8,5,6]\n",
    "if list_sort(li):\n",
    "    print(\"sorted in ascending order\")\n",
    "else:\n",
    "    print(\"Not sorted in ascending order\")\n"
   ]
  },
  {
   "cell_type": "code",
   "execution_count": 41,
   "id": "7b0b9681-6c1a-4713-9af3-62842b91cd05",
   "metadata": {},
   "outputs": [
    {
     "name": "stdin",
     "output_type": "stream",
     "text": [
      " 7\n"
     ]
    },
    {
     "data": {
      "text/plain": [
       "[3, 4, 5, 1, 2]"
      ]
     },
     "execution_count": 41,
     "metadata": {},
     "output_type": "execute_result"
    }
   ],
   "source": [
    "def rotate_left(n):\n",
    "    n=n%len(l)\n",
    "    rot=l[n:] +l[:n]\n",
    "    return rot\n",
    "    \n",
    "n=int(input())\n",
    "l=[1,2,3,4,5]\n",
    "rotate_left(n)\n"
   ]
  },
  {
   "cell_type": "code",
   "execution_count": 9,
   "id": "01a9467a-b9de-4c20-adf1-c19290e2e903",
   "metadata": {},
   "outputs": [],
   "source": [
    "#31. Rotate a list to the left by `n` positions."
   ]
  },
  {
   "cell_type": "code",
   "execution_count": 28,
   "id": "8274dd16-85d0-4943-8560-29c5d8fddbe6",
   "metadata": {},
   "outputs": [
    {
     "name": "stdout",
     "output_type": "stream",
     "text": [
      "Rotated list: [3, 4, 5, 6, 1, 2]\n"
     ]
    }
   ],
   "source": [
    "def rotate_left(lst, n):\n",
    "    n = n % len(lst)  # Normalize n to handle cases where n is larger than the list length\n",
    "    # print(n)\n",
    "    rotated = lst[n:] + lst[:n]\n",
    "    return rotated\n",
    "\n",
    "my_list = [1, 2, 3, 4, 5, 6]\n",
    "\n",
    "# Number of positions to rotate by\n",
    "n = 2\n",
    "\n",
    "# Rotate the list to the left by n positions\n",
    "rotated_list = rotate_left(my_list, n)\n",
    "\n",
    "# Print the rotated list\n",
    "print(\"Rotated list:\", rotated_list)"
   ]
  },
  {
   "cell_type": "code",
   "execution_count": 1,
   "id": "83d034c9-ff4a-4c50-baed-754068f6e761",
   "metadata": {},
   "outputs": [],
   "source": [
    "#32. Rotate a list to the right by `n` positions."
   ]
  },
  {
   "cell_type": "code",
   "execution_count": 2,
   "id": "ea4d4030-908d-4f24-be2e-13707bffd2b4",
   "metadata": {},
   "outputs": [
    {
     "name": "stdout",
     "output_type": "stream",
     "text": [
      "Rotated list: [5, 6, 1, 2, 3, 4]\n"
     ]
    }
   ],
   "source": [
    "def rotate_right(lst, n):\n",
    "    n = n % len(lst)  # Normalize n to handle cases where n is larger than the list length\n",
    "    # print(n)\n",
    "    rotated = lst[-n:] + lst[:-n]\n",
    "    return rotated\n",
    "\n",
    "my_list = [1, 2, 3, 4, 5, 6]\n",
    "\n",
    "# Number of positions to rotate by\n",
    "n = 2\n",
    "\n",
    "# Rotate the list to the right by n positions\n",
    "rotated_list = rotate_right(my_list, n)\n",
    "\n",
    "# Print the rotated list\n",
    "print(\"Rotated list:\", rotated_list)"
   ]
  },
  {
   "cell_type": "code",
   "execution_count": 3,
   "id": "8881700d-7d01-49a9-a187-64e5c0a9a96a",
   "metadata": {},
   "outputs": [],
   "source": [
    "#33. Create a list of prime numbers up to 50."
   ]
  },
  {
   "cell_type": "code",
   "execution_count": 24,
   "id": "5c1445e6-9f5c-4681-8af6-fa876e424801",
   "metadata": {},
   "outputs": [
    {
     "name": "stdout",
     "output_type": "stream",
     "text": [
      "Prime numbers up to 50: [2, 3, 5, 7, 11, 13, 17, 19, 23, 29, 31, 37, 41, 43, 47]\n"
     ]
    }
   ],
   "source": [
    "def is_prime(num):\n",
    "    if num <= 1:\n",
    "        return False\n",
    "    if num <= 3:\n",
    "        return True\n",
    "    if num % 2 == 0 or num % 3 == 0:\n",
    "        return False\n",
    "\n",
    "    i = 5\n",
    "    while i * i <= num:\n",
    "        if num % i == 0 or num % (i + 2) == 0:\n",
    "            return False\n",
    "        i += 6\n",
    "\n",
    "    return True\n",
    "\n",
    "# Create a list of prime numbers up to 50\n",
    "prime_numbers = [num for num in range(2, 50) if is_prime(num)]\n",
    "\n",
    "print(\"Prime numbers up to 50:\", prime_numbers)\n"
   ]
  },
  {
   "cell_type": "code",
   "execution_count": null,
   "id": "4cccbb70-60b4-4eb7-b693-693825237cd0",
   "metadata": {},
   "outputs": [],
   "source": [
    "#34. Split a list into chunks of size `n`."
   ]
  },
  {
   "cell_type": "code",
   "execution_count": 17,
   "id": "753ff7c8-43d4-4be6-8a06-6a17313520bf",
   "metadata": {},
   "outputs": [
    {
     "name": "stdout",
     "output_type": "stream",
     "text": [
      "List split into chunks of size 3 : [[1, 2, 3], [4, 5, 6], [7, 8, 9]]\n"
     ]
    }
   ],
   "source": [
    "def split_into_chunks(arr, chunk_size):\n",
    "    for i in range(0, len(arr), chunk_size):\n",
    "        yield arr[i:i + chunk_size]\n",
    "\n",
    "my_list = [1, 2, 3, 4, 5, 6, 7, 8, 9]\n",
    "chunk_size = 3\n",
    "\n",
    "chunks = list(split_into_chunks(my_list, chunk_size))\n",
    "\n",
    "print(\"List split into chunks of size\", chunk_size, \":\", chunks)"
   ]
  },
  {
   "cell_type": "code",
   "execution_count": 13,
   "id": "d93f130f-1681-407b-b167-cc23df2c820d",
   "metadata": {},
   "outputs": [],
   "source": [
    "#35. Find the second largest number in a list."
   ]
  },
  {
   "cell_type": "code",
   "execution_count": 1,
   "id": "be648ae5-7183-4501-9451-3dfd1e8e095c",
   "metadata": {},
   "outputs": [
    {
     "name": "stdout",
     "output_type": "stream",
     "text": [
      "Second largest number: 25\n"
     ]
    }
   ],
   "source": [
    "my_list = [10, 5, 20, 15, 30, 25]\n",
    "\n",
    "# Remove duplicates and sort the list in ascending order\n",
    "sorted_list = sorted(set(my_list))\n",
    "\n",
    "# Find the second largest number\n",
    "if len(sorted_list) >= 2:\n",
    "    second_largest = sorted_list[-2]\n",
    "    print(\"Second largest number:\", second_largest)\n",
    "else:\n",
    "    print(\"The list does not contain enough elements.\")"
   ]
  },
  {
   "cell_type": "code",
   "execution_count": 2,
   "id": "58b11f53-2a82-40fc-8fea-12364e56f1dc",
   "metadata": {},
   "outputs": [],
   "source": [
    "#36. Replace every element in a list with its square."
   ]
  },
  {
   "cell_type": "code",
   "execution_count": 3,
   "id": "75f7bfa7-0ae0-456d-9da8-207c25872cb2",
   "metadata": {},
   "outputs": [
    {
     "name": "stdout",
     "output_type": "stream",
     "text": [
      "Squared list: [4, 16, 36, 64, 100]\n"
     ]
    }
   ],
   "source": [
    "my_list = [2, 4, 6, 8, 10]\n",
    "\n",
    "# Replace every element with its square using a list comprehension\n",
    "squared_list = [x ** 2 for x in my_list]\n",
    "\n",
    "# Print the squared list\n",
    "print(\"Squared list:\", squared_list)"
   ]
  },
  {
   "cell_type": "raw",
   "id": "1e814cdb-e854-43ac-be43-1309e3a33d99",
   "metadata": {},
   "source": [
    "37. Convert a list to a dictionary where list elements become keys and their\n",
    "indices become values"
   ]
  },
  {
   "cell_type": "code",
   "execution_count": 5,
   "id": "0a942a0c-124c-40b0-96c7-5731bd9874be",
   "metadata": {},
   "outputs": [
    {
     "name": "stdout",
     "output_type": "stream",
     "text": [
      "Converted dictionary: {'apple': 0, 'banana': 1, 'cherry': 2, 'date': 3, 'elderberry': 4}\n"
     ]
    }
   ],
   "source": [
    "my_list = ['apple', 'banana', 'cherry', 'date', 'elderberry']\n",
    "\n",
    "# Convert list to dictionary using dictionary comprehension\n",
    "my_dict = {element: index for index, element in enumerate(my_list)}\n",
    "\n",
    "# Print the resulting dictionary\n",
    "print(\"Converted dictionary:\", my_dict)"
   ]
  },
  {
   "cell_type": "code",
   "execution_count": 6,
   "id": "d35094c9-75fd-4691-a3fd-691d25aceb48",
   "metadata": {},
   "outputs": [],
   "source": [
    "#38. Shuffle the elements of a list randomly."
   ]
  },
  {
   "cell_type": "code",
   "execution_count": 7,
   "id": "6be89c09-779d-4abd-8239-dfca9381d883",
   "metadata": {},
   "outputs": [
    {
     "name": "stdout",
     "output_type": "stream",
     "text": [
      "Shuffled list: [3, 7, 8, 10, 4, 6, 1, 5, 2, 9]\n"
     ]
    }
   ],
   "source": [
    "import random\n",
    "\n",
    "# Example list\n",
    "my_list = [1, 2, 3, 4, 5, 6, 7, 8, 9, 10]\n",
    "\n",
    "# Shuffle the list randomly\n",
    "random.shuffle(my_list)\n",
    "\n",
    "# Print the shuffled list\n",
    "print(\"Shuffled list:\", my_list)"
   ]
  },
  {
   "cell_type": "code",
   "execution_count": 8,
   "id": "f629de18-7fb4-416d-a6ec-7a733967029b",
   "metadata": {},
   "outputs": [],
   "source": [
    "#39. Create a list of the first 10 factorial numbers."
   ]
  },
  {
   "cell_type": "code",
   "execution_count": 9,
   "id": "1d9504ae-b4f8-47e1-8853-1513084f2996",
   "metadata": {},
   "outputs": [
    {
     "name": "stdout",
     "output_type": "stream",
     "text": [
      "List of the first 10 factorial numbers: [1, 1, 2, 6, 24, 120, 720, 5040, 40320, 362880]\n"
     ]
    }
   ],
   "source": [
    "def factorial(n):\n",
    "    if n == 0 or n == 1:\n",
    "        return 1\n",
    "    else:\n",
    "        return n * factorial(n - 1)\n",
    "\n",
    "# Create a list of the first 10 factorial numbers\n",
    "factorial_numbers = [factorial(i) for i in range(10)]\n",
    "\n",
    "# Print the list of factorial numbers\n",
    "print(\"List of the first 10 factorial numbers:\", factorial_numbers)"
   ]
  },
  {
   "cell_type": "code",
   "execution_count": 10,
   "id": "39cdf82d-9705-412f-93dd-7aef21c86991",
   "metadata": {},
   "outputs": [],
   "source": [
    "#40. Check if two lists have at least one element in common."
   ]
  },
  {
   "cell_type": "code",
   "execution_count": 17,
   "id": "30ff88d5-da4c-47e4-b9aa-ca06e96c6e45",
   "metadata": {},
   "outputs": [
    {
     "name": "stdout",
     "output_type": "stream",
     "text": [
      "The lists have at least one common element.\n"
     ]
    }
   ],
   "source": [
    "def has_common_element(list1, list2):\n",
    "    for item in list1:\n",
    "        if item in list2:\n",
    "            return True\n",
    "    return False\n",
    "\n",
    "# Example lists\n",
    "list1 = [1, 2, 3, 4, 5]\n",
    "list2 = [4, 5, 6, 7, 8]\n",
    "\n",
    "# Check if the two lists have at least one element in common\n",
    "if has_common_element(list1, list2):\n",
    "    print(\"The lists have at least one common element.\")\n",
    "else:\n",
    "    print(\"The lists do not have any common elements.\")"
   ]
  },
  {
   "cell_type": "code",
   "execution_count": 12,
   "id": "f8169f3c-38d3-4085-80cb-2ea57d0126b7",
   "metadata": {},
   "outputs": [],
   "source": [
    "#41. Remove all elements from a list."
   ]
  },
  {
   "cell_type": "code",
   "execution_count": 13,
   "id": "8f5f61c5-f064-47e4-bd9f-9474ac196865",
   "metadata": {},
   "outputs": [
    {
     "name": "stdout",
     "output_type": "stream",
     "text": [
      "Empty list: []\n"
     ]
    }
   ],
   "source": [
    "my_list = [1, 2, 3, 4, 5]\n",
    "\n",
    "# Clear all elements from the list\n",
    "my_list.clear()\n",
    "\n",
    "# Print the empty list\n",
    "print(\"Empty list:\", my_list)"
   ]
  },
  {
   "cell_type": "code",
   "execution_count": 14,
   "id": "6fa7b112-76a9-4763-a8da-1b06c94b9420",
   "metadata": {},
   "outputs": [],
   "source": [
    "#42. Replace negative numbers in a list with 0."
   ]
  },
  {
   "cell_type": "code",
   "execution_count": 15,
   "id": "91cef343-297f-4947-8948-693fb69b6f14",
   "metadata": {},
   "outputs": [
    {
     "name": "stdout",
     "output_type": "stream",
     "text": [
      "List after replacing negative numbers with 0: [10, 0, 20, 0, 30, 0]\n"
     ]
    }
   ],
   "source": [
    "my_list = [10, -5, 20, -15, 30, -25]\n",
    "\n",
    "# Step 1: Iterate through the list and replace negative numbers with 0\n",
    "for i in range(len(my_list)):\n",
    "    if my_list[i] < 0:\n",
    "        my_list[i] = 0\n",
    "\n",
    "# Print the list after replacing negative numbers with 0\n",
    "print(\"List after replacing negative numbers with 0:\", my_list)"
   ]
  },
  {
   "cell_type": "code",
   "execution_count": 18,
   "id": "34f56d21-e6a6-4003-b67a-9e0bc365b560",
   "metadata": {},
   "outputs": [],
   "source": [
    "#43. Convert a string into a list of words."
   ]
  },
  {
   "cell_type": "code",
   "execution_count": 19,
   "id": "ef5274e9-7567-4217-a09c-d38a73f43ece",
   "metadata": {},
   "outputs": [
    {
     "name": "stdout",
     "output_type": "stream",
     "text": [
      "List of words: ['Hello,', 'this', 'is', 'a', 'sample', 'sentence.']\n"
     ]
    }
   ],
   "source": [
    "my_string = \"Hello, this is a sample sentence.\"\n",
    "\n",
    "# Convert the string into a list of words\n",
    "word_list = my_string.split()\n",
    "\n",
    "# Print the list of words\n",
    "print(\"List of words:\", word_list)"
   ]
  },
  {
   "cell_type": "code",
   "execution_count": 20,
   "id": "8b9b0f07-4186-4c5f-8e44-ee2b1995f9ac",
   "metadata": {},
   "outputs": [],
   "source": [
    "#44. Convert a list of words into a string."
   ]
  },
  {
   "cell_type": "code",
   "execution_count": 21,
   "id": "1ff15a91-2dcd-4a45-9e20-a351ba2f9363",
   "metadata": {},
   "outputs": [
    {
     "name": "stdout",
     "output_type": "stream",
     "text": [
      "Converted string: Hello, this is a sample sentence.\n"
     ]
    }
   ],
   "source": [
    "word_list = [\"Hello,\", \"this\", \"is\", \"a\", \"sample\", \"sentence.\"]\n",
    "\n",
    "# Convert the list of words into a string\n",
    "my_string = \" \".join(word_list)\n",
    "\n",
    "# Print the resulting string\n",
    "print(\"Converted string:\", my_string)"
   ]
  },
  {
   "cell_type": "code",
   "execution_count": 22,
   "id": "88832726-0bbe-45ce-a622-cd8abd823b1e",
   "metadata": {},
   "outputs": [],
   "source": [
    "#45. Create a list of the first `n` powers of 2."
   ]
  },
  {
   "cell_type": "code",
   "execution_count": 23,
   "id": "16d95872-a213-4739-835c-daf366c4279b",
   "metadata": {},
   "outputs": [
    {
     "name": "stdout",
     "output_type": "stream",
     "text": [
      "List of the first 5 powers of 2: [1, 2, 4, 8, 16]\n"
     ]
    }
   ],
   "source": [
    "# Specify the value of n\n",
    "n = 5\n",
    "\n",
    "# Create a list of the first n powers of 2 using a loop\n",
    "power_list = [2 ** i for i in range(n)]\n",
    "\n",
    "# Print the list of powers of 2\n",
    "print(\"List of the first\", n, \"powers of 2:\", power_list)"
   ]
  },
  {
   "cell_type": "code",
   "execution_count": 24,
   "id": "c5bfb1b3-f84f-4724-a7ae-1be40774e9b2",
   "metadata": {},
   "outputs": [],
   "source": [
    "#46. Find the longest string in a list of strings."
   ]
  },
  {
   "cell_type": "code",
   "execution_count": 25,
   "id": "f64a5d0a-2fba-4295-aa45-50dd897f6e17",
   "metadata": {},
   "outputs": [
    {
     "name": "stdout",
     "output_type": "stream",
     "text": [
      "Longest string: elderberry\n"
     ]
    }
   ],
   "source": [
    "string_list = [\"apple\", \"banana\", \"cherry\", \"date\", \"elderberry\"]\n",
    "\n",
    "# Find the longest string in the list\n",
    "longest_string = \"\"\n",
    "for s in string_list:\n",
    "    if len(s) > len(longest_string):\n",
    "        longest_string = s\n",
    "\n",
    "# Print the longest string\n",
    "print(\"Longest string:\", longest_string)"
   ]
  },
  {
   "cell_type": "code",
   "execution_count": 26,
   "id": "89ac456b-4b71-4869-84ed-7410e6ccd982",
   "metadata": {},
   "outputs": [],
   "source": [
    "#47. Find the shortest string in a list of strings."
   ]
  },
  {
   "cell_type": "code",
   "execution_count": 29,
   "id": "e921a103-0c1a-4003-a3ca-810ce9e95d33",
   "metadata": {},
   "outputs": [
    {
     "name": "stdout",
     "output_type": "stream",
     "text": [
      "Shortest string: date\n"
     ]
    }
   ],
   "source": [
    "string_list = [\"apple\", \"banana\", \"cherry\", \"date\", \"elderberry\"]\n",
    "\n",
    "# Find the shortest string in the list\n",
    "shortest_string = string_list[0]  # Initialize with the first string\n",
    "for s in string_list:\n",
    "    if len(s) < len(shortest_string):\n",
    "        shortest_string = s\n",
    "\n",
    "# Print the shortest string\n",
    "print(\"Shortest string:\", shortest_string)"
   ]
  },
  {
   "cell_type": "code",
   "execution_count": 30,
   "id": "e2b3ec14-8cae-49a8-b08f-370f9e072d69",
   "metadata": {},
   "outputs": [],
   "source": [
    "#48. Create a list of the first `n` triangular numbers."
   ]
  },
  {
   "cell_type": "code",
   "execution_count": 31,
   "id": "06b7a718-e42c-47c7-b114-49c7d4563765",
   "metadata": {},
   "outputs": [
    {
     "name": "stdout",
     "output_type": "stream",
     "text": [
      "List of the first 5 triangular numbers: [1, 3, 6, 10, 15]\n"
     ]
    }
   ],
   "source": [
    "# Function to calculate triangular numbers\n",
    "def triangular_numbers(n):\n",
    "    return [i * (i + 1) // 2 for i in range(1, n + 1)]\n",
    "\n",
    "# Specify the value of n\n",
    "n = 5\n",
    "\n",
    "# Create a list of the first n triangular numbers\n",
    "triangular_list = triangular_numbers(n)\n",
    "\n",
    "# Print the list of triangular numbers\n",
    "print(\"List of the first\", n, \"triangular numbers:\", triangular_list)"
   ]
  },
  {
   "cell_type": "code",
   "execution_count": 32,
   "id": "c0f9d3e7-dc61-4552-8bb8-8b3e95c49ff4",
   "metadata": {},
   "outputs": [],
   "source": [
    "#49. Check if a list contains another list as a subsequence."
   ]
  },
  {
   "cell_type": "code",
   "execution_count": 33,
   "id": "e432f5b5-0820-42cf-8336-47e4aa1c2bcb",
   "metadata": {},
   "outputs": [
    {
     "name": "stdout",
     "output_type": "stream",
     "text": [
      "Main list contains the subsequence.\n"
     ]
    }
   ],
   "source": [
    "# Function to check if a list contains another list as a subsequence\n",
    "def is_subsequence(subsequence, main_list):\n",
    "    subseq_index = 0  # Index for the subsequence elements\n",
    "    for element in main_list:\n",
    "        if element == subsequence[subseq_index]:\n",
    "            subseq_index += 1\n",
    "            if subseq_index == len(subsequence):\n",
    "                return True\n",
    "    return False\n",
    "\n",
    "# Example main list and subsequence\n",
    "main_list = [1, 2, 3, 4, 5, 6, 7, 8, 9, 10]\n",
    "subsequence = [3, 5, 8]\n",
    "\n",
    "# Check if the main list contains the subsequence\n",
    "if is_subsequence(subsequence, main_list):\n",
    "    print(\"Main list contains the subsequence.\")\n",
    "else:\n",
    "    print(\"Main list does not contain the subsequence.\")"
   ]
  },
  {
   "cell_type": "code",
   "execution_count": 35,
   "id": "46e50ebf-149e-4969-a7e1-1b34b2b6cdd1",
   "metadata": {},
   "outputs": [],
   "source": [
    "#50. Swap two elements in a list by their indices."
   ]
  },
  {
   "cell_type": "code",
   "execution_count": 36,
   "id": "8b84ab6c-73c5-4acf-a5bb-dfe26d043af9",
   "metadata": {},
   "outputs": [
    {
     "name": "stdout",
     "output_type": "stream",
     "text": [
      "List after swapping elements: [1, 4, 3, 2, 5]\n"
     ]
    }
   ],
   "source": [
    "my_list = [1, 2, 3, 4, 5]\n",
    "\n",
    "# Indices of elements to swap\n",
    "index1 = 1\n",
    "index2 = 3\n",
    "\n",
    "# Swap the elements at the specified indices\n",
    "temp = my_list[index1]\n",
    "my_list[index1] = my_list[index2]\n",
    "my_list[index2] = temp\n",
    "\n",
    "# Print the list after swapping\n",
    "print(\"List after swapping elements:\", my_list)"
   ]
  },
  {
   "cell_type": "code",
   "execution_count": null,
   "id": "d6f4a68e-0c8e-4083-8c97-d86a7aad3749",
   "metadata": {},
   "outputs": [],
   "source": []
  },
  {
   "cell_type": "raw",
   "id": "a2928b01-3312-426a-bc40-99e06001bc38",
   "metadata": {},
   "source": [
    "TOPIC: TUPLE BASED PROBLEMS"
   ]
  },
  {
   "cell_type": "code",
   "execution_count": 1,
   "id": "de6d5d99-fcb5-4782-b62d-a04f9859af72",
   "metadata": {},
   "outputs": [],
   "source": [
    "#1. Create a tuple with integers from 1 to 5."
   ]
  },
  {
   "cell_type": "code",
   "execution_count": 2,
   "id": "e9c706e2-de9a-43ef-b702-155af57b62b6",
   "metadata": {},
   "outputs": [
    {
     "name": "stdout",
     "output_type": "stream",
     "text": [
      "(1, 2, 3, 4, 5)\n"
     ]
    }
   ],
   "source": [
    "tup=(1,2,3,4,5)\n",
    "print(tup)"
   ]
  },
  {
   "cell_type": "code",
   "execution_count": 3,
   "id": "89f4654c-738c-4bab-8571-5955bf638521",
   "metadata": {},
   "outputs": [],
   "source": [
    "#2. Access the third element of a tuple."
   ]
  },
  {
   "cell_type": "code",
   "execution_count": 4,
   "id": "5fd8fb11-b709-4bb3-9122-eeb8b2bb1cd9",
   "metadata": {},
   "outputs": [
    {
     "name": "stdout",
     "output_type": "stream",
     "text": [
      "3\n"
     ]
    }
   ],
   "source": [
    "tup=(1,2,3,4,5)\n",
    "print(tup[2])"
   ]
  },
  {
   "cell_type": "code",
   "execution_count": 5,
   "id": "2e785b06-d911-4faf-9cdf-a1077b1ea544",
   "metadata": {},
   "outputs": [],
   "source": [
    "#3. Find the length of a tuple without using the `len()` function."
   ]
  },
  {
   "cell_type": "code",
   "execution_count": 8,
   "id": "609ade4e-5af9-4101-b484-dcc0936a1962",
   "metadata": {},
   "outputs": [
    {
     "name": "stdout",
     "output_type": "stream",
     "text": [
      "7\n"
     ]
    }
   ],
   "source": [
    "tup=(1,2,3,4,7,9,11)\n",
    "count=0\n",
    "for i in tup:\n",
    "    count+=1\n",
    "print(count)"
   ]
  },
  {
   "cell_type": "code",
   "execution_count": 9,
   "id": "3a83072b-93b8-4ca8-99ae-0b72b1b14a28",
   "metadata": {},
   "outputs": [],
   "source": [
    "#4. Count the occurrences of an element in a tuple."
   ]
  },
  {
   "cell_type": "code",
   "execution_count": 11,
   "id": "3f3d9f48-5fb3-4131-8ee2-8ce389b1fe1b",
   "metadata": {},
   "outputs": [
    {
     "data": {
      "text/plain": [
       "3"
      ]
     },
     "execution_count": 11,
     "metadata": {},
     "output_type": "execute_result"
    }
   ],
   "source": [
    "t=(1,2,3,2,3,4,5,2,4,6)\n",
    "t.count(2)"
   ]
  },
  {
   "cell_type": "code",
   "execution_count": 12,
   "id": "af9db39f-3ad6-43e9-a716-168de5c7f1aa",
   "metadata": {},
   "outputs": [],
   "source": [
    "#5. Find the index of the first occurrence of an element in a tuple."
   ]
  },
  {
   "cell_type": "code",
   "execution_count": 18,
   "id": "f5ac726d-acac-4217-b172-41eb06db4b82",
   "metadata": {},
   "outputs": [
    {
     "data": {
      "text/plain": [
       "1"
      ]
     },
     "execution_count": 18,
     "metadata": {},
     "output_type": "execute_result"
    }
   ],
   "source": [
    "t=(1,2,3,2,3,4,5,2,4,6)\n",
    "t.index(2)"
   ]
  },
  {
   "cell_type": "code",
   "execution_count": 19,
   "id": "58d3c635-a349-4d43-a646-6e0e840e92b0",
   "metadata": {},
   "outputs": [],
   "source": [
    "#6. Check if an element exists in a tuple."
   ]
  },
  {
   "cell_type": "code",
   "execution_count": 20,
   "id": "c9512cf9-56cb-4f1d-8d6e-e3b599cb410d",
   "metadata": {},
   "outputs": [
    {
     "name": "stdin",
     "output_type": "stream",
     "text": [
      "enter number to find 23\n"
     ]
    },
    {
     "name": "stdout",
     "output_type": "stream",
     "text": [
      "present\n"
     ]
    }
   ],
   "source": [
    "t=(11,22,33,43,23,54)\n",
    "num=int(input(\"enter number to find\"))\n",
    "if num in t:\n",
    "    print(\"present\")\n",
    "else:\n",
    "    print(\"not present\")"
   ]
  },
  {
   "cell_type": "code",
   "execution_count": 21,
   "id": "84adf111-0b63-43e6-9d12-a6a3cedd7fb6",
   "metadata": {},
   "outputs": [],
   "source": [
    "#7. Convert a tuple to a list."
   ]
  },
  {
   "cell_type": "code",
   "execution_count": 24,
   "id": "1773b95f-0374-46f5-9b5e-7705325c425b",
   "metadata": {},
   "outputs": [
    {
     "name": "stdout",
     "output_type": "stream",
     "text": [
      "[11, 22, 33, 43, 23, 54]\n"
     ]
    }
   ],
   "source": [
    "t=(11,22,33,43,23,54)\n",
    "l=list(t)\n",
    "print(l)"
   ]
  },
  {
   "cell_type": "code",
   "execution_count": 26,
   "id": "064b9486-0514-4421-8ab8-4efcd61d5448",
   "metadata": {},
   "outputs": [],
   "source": [
    "# 8. Convert a list to a tuple."
   ]
  },
  {
   "cell_type": "code",
   "execution_count": 27,
   "id": "0bd7ca1b-631b-41aa-afab-86c7b0183e9d",
   "metadata": {},
   "outputs": [
    {
     "name": "stdout",
     "output_type": "stream",
     "text": [
      "(11, 22, 33, 43, 23, 54)\n"
     ]
    }
   ],
   "source": [
    "l=[11,22,33,43,23,54]\n",
    "t=tuple(l)\n",
    "print(t)\n"
   ]
  },
  {
   "cell_type": "code",
   "execution_count": 28,
   "id": "920be0f1-3b6a-4a3f-8ab6-a691489e85af",
   "metadata": {},
   "outputs": [],
   "source": [
    "#9. Unpack the elements of a tuple into variables."
   ]
  },
  {
   "cell_type": "code",
   "execution_count": 29,
   "id": "bc59b392-1984-49a8-9b6f-988ced784835",
   "metadata": {},
   "outputs": [
    {
     "name": "stdout",
     "output_type": "stream",
     "text": [
      "10 20 30\n"
     ]
    }
   ],
   "source": [
    "t=(10,20,30)\n",
    "a,b,c=t\n",
    "print(a,b,c)"
   ]
  },
  {
   "cell_type": "code",
   "execution_count": 30,
   "id": "81899007-0669-4f5b-97a5-0649abebedde",
   "metadata": {},
   "outputs": [],
   "source": [
    "#10. Create a tuple of even numbers from 1 to 10."
   ]
  },
  {
   "cell_type": "code",
   "execution_count": 32,
   "id": "84b7ebd0-347c-4819-979d-83c5a3c9ec06",
   "metadata": {},
   "outputs": [
    {
     "name": "stdout",
     "output_type": "stream",
     "text": [
      "(0, 2, 4, 6, 8, 10)\n"
     ]
    }
   ],
   "source": [
    "l=[i for i in range(0,11,2)]\n",
    "t=tuple(l)\n",
    "print(t)"
   ]
  },
  {
   "cell_type": "code",
   "execution_count": 33,
   "id": "f65e1ae7-d224-43e8-b796-7e19ef602f6d",
   "metadata": {},
   "outputs": [],
   "source": [
    "#11. Create a tuple of odd numbers from 1 to 10."
   ]
  },
  {
   "cell_type": "code",
   "execution_count": 35,
   "id": "60c2375f-d580-4105-98c9-4cd33f5bcf8b",
   "metadata": {},
   "outputs": [
    {
     "name": "stdout",
     "output_type": "stream",
     "text": [
      "(1, 3, 5, 7, 9)\n"
     ]
    }
   ],
   "source": [
    "l=[i for i in range(1,11,2)]\n",
    "t=tuple(l)\n",
    "print(t)"
   ]
  },
  {
   "cell_type": "code",
   "execution_count": 36,
   "id": "2686704b-8fe2-400d-83ac-c92ff27aed75",
   "metadata": {},
   "outputs": [
    {
     "name": "stdout",
     "output_type": "stream",
     "text": [
      "(1, 2, 3, 4, 5, 6)\n"
     ]
    }
   ],
   "source": [
    "#12. Concatenate two tuples.t1=(1,2,3)\n",
    "t2=(4,5,6)\n",
    "t=t1+t2\n",
    "print(t)"
   ]
  },
  {
   "cell_type": "code",
   "execution_count": 1,
   "id": "49e62be8-de3f-4206-84df-3f5f7b2086a9",
   "metadata": {},
   "outputs": [],
   "source": [
    "#13. Repeat a tuple three times."
   ]
  },
  {
   "cell_type": "code",
   "execution_count": 2,
   "id": "1ec0e01b-c9cb-403f-95e5-7b8d9757b43f",
   "metadata": {},
   "outputs": [
    {
     "data": {
      "text/plain": [
       "(1, 2, 3, 1, 2, 3, 1, 2, 3)"
      ]
     },
     "execution_count": 2,
     "metadata": {},
     "output_type": "execute_result"
    }
   ],
   "source": [
    "t=(1,2,3)\n",
    "t*3"
   ]
  },
  {
   "cell_type": "code",
   "execution_count": 3,
   "id": "1df3088a-a35b-4130-912d-a3a018284103",
   "metadata": {},
   "outputs": [],
   "source": [
    "#14. Check if a tuple is empty."
   ]
  },
  {
   "cell_type": "code",
   "execution_count": 7,
   "id": "251490ea-1f58-4f46-9748-93f96ffb8d9a",
   "metadata": {},
   "outputs": [
    {
     "name": "stdout",
     "output_type": "stream",
     "text": [
      "not empty\n"
     ]
    }
   ],
   "source": [
    "t1=(1,2,3)\n",
    "t2=()\n",
    "if t1==t2:\n",
    "    print(\"it's empty\")\n",
    "else:\n",
    "    print(\"not empty\")"
   ]
  },
  {
   "cell_type": "code",
   "execution_count": 8,
   "id": "36a1d921-0cd1-404a-8639-353bb6da1cbb",
   "metadata": {},
   "outputs": [],
   "source": [
    "#15. Create a nested tuple."
   ]
  },
  {
   "cell_type": "code",
   "execution_count": 9,
   "id": "b0a3bfe6-0014-4077-beb1-e0f244a80b3b",
   "metadata": {},
   "outputs": [
    {
     "name": "stdout",
     "output_type": "stream",
     "text": [
      "(('a', 'b', 'c'), (1, 2, 3), True)\n"
     ]
    }
   ],
   "source": [
    "t=(('a','b','c'),(1,2,3),(True))\n",
    "print(t)\n"
   ]
  },
  {
   "cell_type": "code",
   "execution_count": 10,
   "id": "b838ac35-eddb-493d-a6f6-a732d7d2932a",
   "metadata": {},
   "outputs": [],
   "source": [
    "#16. Access the first element of a nested tuple."
   ]
  },
  {
   "cell_type": "code",
   "execution_count": 11,
   "id": "0302d685-a287-4aab-9a6b-aa62c2d4671c",
   "metadata": {},
   "outputs": [
    {
     "data": {
      "text/plain": [
       "('a', 'b', 'c')"
      ]
     },
     "execution_count": 11,
     "metadata": {},
     "output_type": "execute_result"
    }
   ],
   "source": [
    "t=(('a','b','c'),(1,2,3),(True))\n",
    "t[0]"
   ]
  },
  {
   "cell_type": "code",
   "execution_count": 12,
   "id": "0266afa0-e293-4fc3-9c9b-ff2bb5572bda",
   "metadata": {},
   "outputs": [],
   "source": [
    "#17. Create a tuple with a single element."
   ]
  },
  {
   "cell_type": "code",
   "execution_count": 13,
   "id": "f29b673b-48dd-412b-bbbd-695f65d96ac8",
   "metadata": {},
   "outputs": [
    {
     "name": "stdout",
     "output_type": "stream",
     "text": [
      "(55,)\n"
     ]
    }
   ],
   "source": [
    "t=(55,)\n",
    "print(t)"
   ]
  },
  {
   "cell_type": "code",
   "execution_count": 14,
   "id": "97a7d1de-cca5-4223-b97c-8aaf93cb18c7",
   "metadata": {},
   "outputs": [],
   "source": [
    "#18. Compare two tuples."
   ]
  },
  {
   "cell_type": "code",
   "execution_count": 16,
   "id": "a7bfcd22-da62-472b-9ed4-8e7f9de055e7",
   "metadata": {},
   "outputs": [
    {
     "name": "stdout",
     "output_type": "stream",
     "text": [
      "tuple1 is equal to tuple2\n"
     ]
    }
   ],
   "source": [
    "tuple1 = (1, 2, 3)\n",
    "tuple2 = (1, 2, 3)\n",
    "\n",
    "# Equality\n",
    "if tuple1 == tuple2:\n",
    "    print(\"tuple1 is equal to tuple2\")\n",
    "\n",
    "# Inequality\n",
    "if tuple1 != tuple2:\n",
    "    print(\"tuple1 is not equal to tuple2\")\n",
    "\n",
    "# Less than\n",
    "if tuple1 < tuple2:\n",
    "    print(\"tuple1 is less than tuple3\")\n",
    "\n",
    "# Greater than\n",
    "if tuple2 > tuple1:\n",
    "    print(\"tuple3 is greater than tuple1\")\n"
   ]
  },
  {
   "cell_type": "code",
   "execution_count": 17,
   "id": "c806e32f-95e4-41bf-9e8f-e71972f07e0d",
   "metadata": {},
   "outputs": [],
   "source": [
    "#19. Delete a tuple."
   ]
  },
  {
   "cell_type": "code",
   "execution_count": 20,
   "id": "a7699a50-d543-47a2-9047-0920ca78486c",
   "metadata": {},
   "outputs": [],
   "source": [
    "t=(1,2,3)\n",
    "del t\n"
   ]
  },
  {
   "cell_type": "code",
   "execution_count": 21,
   "id": "36906e70-cd95-4530-bdb3-a3a44f365ca6",
   "metadata": {},
   "outputs": [],
   "source": [
    "#20. Slice a tuple."
   ]
  },
  {
   "cell_type": "code",
   "execution_count": 23,
   "id": "ab59f857-25d3-4d05-9988-ab39755094c9",
   "metadata": {},
   "outputs": [
    {
     "name": "stdout",
     "output_type": "stream",
     "text": [
      "(3, 4, 5, 6)\n"
     ]
    }
   ],
   "source": [
    "t=(1,2,3,4,5,6,7,8)\n",
    "v=t[2:6]\n",
    "print(v)"
   ]
  },
  {
   "cell_type": "code",
   "execution_count": 24,
   "id": "36916059-a670-4e0c-8d9d-0f605337c338",
   "metadata": {},
   "outputs": [],
   "source": [
    "#21. Find the maximum value in a tuple."
   ]
  },
  {
   "cell_type": "code",
   "execution_count": 25,
   "id": "3cc66308-8a7b-4cb7-91c6-dd2b3f34bcc3",
   "metadata": {},
   "outputs": [
    {
     "data": {
      "text/plain": [
       "5"
      ]
     },
     "execution_count": 25,
     "metadata": {},
     "output_type": "execute_result"
    }
   ],
   "source": [
    "t=(1,2,3,4,5)\n",
    "max(t)"
   ]
  },
  {
   "cell_type": "code",
   "execution_count": 26,
   "id": "030486e6-88b7-4761-89b3-0025ce6a35bb",
   "metadata": {},
   "outputs": [],
   "source": [
    "#22. Find the minimum value in a tuple."
   ]
  },
  {
   "cell_type": "code",
   "execution_count": 27,
   "id": "aad83c35-da39-4910-8f81-a3bd56f27b36",
   "metadata": {},
   "outputs": [
    {
     "data": {
      "text/plain": [
       "1"
      ]
     },
     "execution_count": 27,
     "metadata": {},
     "output_type": "execute_result"
    }
   ],
   "source": [
    "t=(3,2,1,5,6)\n",
    "min(t)"
   ]
  },
  {
   "cell_type": "code",
   "execution_count": 28,
   "id": "93ad0624-dc25-488a-b15b-0f7c1181114a",
   "metadata": {},
   "outputs": [],
   "source": [
    "#23. Convert a string to a tuple of characters."
   ]
  },
  {
   "cell_type": "code",
   "execution_count": 30,
   "id": "90e3147f-2e02-46db-8cfb-7d31c64af4e5",
   "metadata": {},
   "outputs": [
    {
     "name": "stdout",
     "output_type": "stream",
     "text": [
      "('i', 's', 't', 'r', 'i', 'n', 'g')\n"
     ]
    }
   ],
   "source": [
    "str1=(\"istring\")\n",
    "t=tuple(str1)\n",
    "print(t)\n"
   ]
  },
  {
   "cell_type": "code",
   "execution_count": 35,
   "id": "7320f059-5dd2-4735-ba08-95af1b264d8f",
   "metadata": {},
   "outputs": [
    {
     "name": "stdout",
     "output_type": "stream",
     "text": [
      "hello world\n"
     ]
    }
   ],
   "source": [
    "#24. Convert a tuple of characters to a string.\n",
    "t=('h','e','l','l','o',' ','w','o','r','l','d')\n",
    "str1=''.join(t)\n",
    "print(str1)"
   ]
  },
  {
   "cell_type": "code",
   "execution_count": 36,
   "id": "90a7f0d3-7349-43dc-80c6-b63be288569f",
   "metadata": {},
   "outputs": [],
   "source": [
    "#25. Create a tuple from multiple data types."
   ]
  },
  {
   "cell_type": "code",
   "execution_count": 37,
   "id": "3cd40d9a-b890-4c3d-a07a-54a0a42faa3a",
   "metadata": {},
   "outputs": [
    {
     "name": "stdout",
     "output_type": "stream",
     "text": [
      "(1, 2, True, 'a', 'b')\n"
     ]
    }
   ],
   "source": [
    "t=(1,2,True,'a','b')\n",
    "print(t)"
   ]
  },
  {
   "cell_type": "code",
   "execution_count": 38,
   "id": "c6bde211-9906-41de-a992-35afff8c4b13",
   "metadata": {},
   "outputs": [],
   "source": [
    "#26. Check if two tuples are identical."
   ]
  },
  {
   "cell_type": "code",
   "execution_count": 40,
   "id": "8f3b9390-87f0-46ba-8b24-a2fc6c471d37",
   "metadata": {},
   "outputs": [
    {
     "data": {
      "text/plain": [
       "False"
      ]
     },
     "execution_count": 40,
     "metadata": {},
     "output_type": "execute_result"
    }
   ],
   "source": [
    "t1=(1,2,3)\n",
    "t2=(1,2,3,4)\n",
    "t1==t2"
   ]
  },
  {
   "cell_type": "code",
   "execution_count": 41,
   "id": "71544205-6016-47c4-80ae-ec5d59c4faad",
   "metadata": {},
   "outputs": [],
   "source": [
    "#27. Sort the elements of a tuple."
   ]
  },
  {
   "cell_type": "code",
   "execution_count": 45,
   "id": "4eee7ab2-e04f-4bf7-9cda-cd942b470ad3",
   "metadata": {},
   "outputs": [
    {
     "data": {
      "text/plain": [
       "(1, 2, 4, 4, 5, 7)"
      ]
     },
     "execution_count": 45,
     "metadata": {},
     "output_type": "execute_result"
    }
   ],
   "source": [
    "t=(2,4,1,7,5,4)\n",
    "t1=tuple(sorted(t))\n",
    "t1"
   ]
  },
  {
   "cell_type": "code",
   "execution_count": 46,
   "id": "7352ef38-20cf-4d14-89e0-a3475147a038",
   "metadata": {},
   "outputs": [],
   "source": [
    "#28. Convert a tuple of integers to a tuple of strings."
   ]
  },
  {
   "cell_type": "code",
   "execution_count": 52,
   "id": "a511f25c-4849-4ddc-bdb4-935787829278",
   "metadata": {},
   "outputs": [
    {
     "name": "stdout",
     "output_type": "stream",
     "text": [
      "('1', '2', '3', '4')\n"
     ]
    }
   ],
   "source": [
    "t=(1,2,3,4)\n",
    "t1=tuple(str(i) for i in t)\n",
    "print(t1)\n",
    "\n"
   ]
  },
  {
   "cell_type": "code",
   "execution_count": 53,
   "id": "90b3be23-a68d-48e1-be2a-d2ba86b5973b",
   "metadata": {},
   "outputs": [],
   "source": [
    "#29. Convert a tuple of strings to a tuple of integers."
   ]
  },
  {
   "cell_type": "code",
   "execution_count": 54,
   "id": "d36ef9c7-6126-4d7c-beae-3e943e356476",
   "metadata": {},
   "outputs": [
    {
     "name": "stdout",
     "output_type": "stream",
     "text": [
      "(1, 2, 3, 4)\n"
     ]
    }
   ],
   "source": [
    "t=('1','2','3','4')\n",
    "t1=tuple(int(i) for i in t)\n",
    "print(t1)"
   ]
  },
  {
   "cell_type": "code",
   "execution_count": 55,
   "id": "e9319fe5-0df6-47b8-a3a4-bd64a5f5444c",
   "metadata": {},
   "outputs": [],
   "source": [
    "#30. Merge two tuples."
   ]
  },
  {
   "cell_type": "code",
   "execution_count": 56,
   "id": "09524875-25aa-48b9-a06d-6b7793ae081c",
   "metadata": {},
   "outputs": [
    {
     "name": "stdout",
     "output_type": "stream",
     "text": [
      "(1, 2, 3, 4, 5, 6)\n"
     ]
    }
   ],
   "source": [
    "t1=(1,2,3)\n",
    "t2=(4,5,6)\n",
    "t3=t1+t2\n",
    "print(t3)"
   ]
  },
  {
   "cell_type": "code",
   "execution_count": 57,
   "id": "e0ce0baa-dc18-44d6-89c4-aa89509a7e8f",
   "metadata": {},
   "outputs": [],
   "source": [
    "#31. Flatten a nested tuple."
   ]
  },
  {
   "cell_type": "code",
   "execution_count": 60,
   "id": "235e0545-458c-4f9e-a798-f30eaa7b5ab7",
   "metadata": {},
   "outputs": [
    {
     "name": "stdout",
     "output_type": "stream",
     "text": [
      "Flattened tuple: (1, 2, 3, 4, 5, 6, 7, 8)\n"
     ]
    }
   ],
   "source": [
    "# Recursive function to flatten a nested tuple\n",
    "def flatten_t(t):\n",
    "    flattened = []\n",
    "    for item in t:\n",
    "        if isinstance(item, tuple):\n",
    "            flattened.extend(flatten_t(item))\n",
    "        else:\n",
    "            flattened.append(item)\n",
    "    return flattened\n",
    "\n",
    "# Step 1: Create a nested tuple\n",
    "t = ((1, 2), (3, 4, 5), (6, (7, 8)))\n",
    "\n",
    "# Step 2: Flatten the nested tuple\n",
    "flattened_t = tuple(flatten_t(t))\n",
    "\n",
    "# Step 3: Print the flattened tuple\n",
    "print(\"Flattened tuple:\", flattened_t)"
   ]
  },
  {
   "cell_type": "code",
   "execution_count": 61,
   "id": "2e2ef691-9ca1-4a5c-9e8c-73a4078a39b4",
   "metadata": {},
   "outputs": [],
   "source": [
    "#32. Create a tuple of the first 5 prime numbers."
   ]
  },
  {
   "cell_type": "code",
   "execution_count": 62,
   "id": "e4e46d61-7fff-4745-87aa-c042011916d0",
   "metadata": {},
   "outputs": [
    {
     "name": "stdout",
     "output_type": "stream",
     "text": [
      "(2, 3, 5, 7, 11)\n"
     ]
    }
   ],
   "source": [
    "def is_prime(num):\n",
    "    if num <= 1:\n",
    "        return False\n",
    "    if num <= 3:\n",
    "        return True\n",
    "    if num % 2 == 0 or num % 3 == 0:\n",
    "        return False\n",
    "    i = 5\n",
    "    while i * i <= num:\n",
    "        if num % i == 0 or num % (i + 2) == 0:\n",
    "            return False\n",
    "        i += 6\n",
    "    return True\n",
    "\n",
    "prime_numbers = []\n",
    "num = 2\n",
    "\n",
    "while len(prime_numbers) < 5:\n",
    "    if is_prime(num):\n",
    "        prime_numbers.append(num)\n",
    "    num += 1\n",
    "\n",
    "prime_numbers_tuple = tuple(prime_numbers)\n",
    "print(prime_numbers_tuple)\n"
   ]
  },
  {
   "cell_type": "code",
   "execution_count": 63,
   "id": "d9b03318-54e4-4670-9818-58e120ee77e5",
   "metadata": {},
   "outputs": [],
   "source": [
    "#33. Check if a tuple is a palindrome."
   ]
  },
  {
   "cell_type": "code",
   "execution_count": 64,
   "id": "62ae2879-95f4-4980-aa7c-caedacbbc06a",
   "metadata": {},
   "outputs": [
    {
     "data": {
      "text/plain": [
       "False"
      ]
     },
     "execution_count": 64,
     "metadata": {},
     "output_type": "execute_result"
    }
   ],
   "source": [
    "t=(1,2,3,4)\n",
    "t1=t[::-1]\n",
    "t1==t2"
   ]
  },
  {
   "cell_type": "code",
   "execution_count": 65,
   "id": "b4b4e281-6652-4e89-9f59-78bce0577a7c",
   "metadata": {},
   "outputs": [],
   "source": [
    "#34. Create a tuple of squares of numbers from 1 to 5."
   ]
  },
  {
   "cell_type": "code",
   "execution_count": 71,
   "id": "13a89c6d-c900-49ae-b4b3-0b51b8d751c8",
   "metadata": {},
   "outputs": [
    {
     "name": "stdout",
     "output_type": "stream",
     "text": [
      "(1, 4, 9, 16, 25)\n"
     ]
    }
   ],
   "source": [
    "t=tuple( i*i for i in range(1,6))\n",
    "print(t)"
   ]
  },
  {
   "cell_type": "code",
   "execution_count": 72,
   "id": "e8600f81-c129-4cc6-88c0-b3bf7712a8ce",
   "metadata": {},
   "outputs": [],
   "source": [
    "#35. Filter out all even numbers from a tuple."
   ]
  },
  {
   "cell_type": "code",
   "execution_count": 73,
   "id": "b90710fc-1e0d-4652-8954-be0c3bdf78e4",
   "metadata": {},
   "outputs": [
    {
     "name": "stdout",
     "output_type": "stream",
     "text": [
      "(1, 2, 3, 4, 5, 6, 7)\n"
     ]
    }
   ],
   "source": [
    "t1=(1,2,3,4,5,6,7)\n",
    "t2=tuple(i for i in t1 if i!=0)\n",
    "print(t2)"
   ]
  },
  {
   "cell_type": "code",
   "execution_count": 74,
   "id": "17b3ca6e-8436-4658-b0f9-e616f9eccfcc",
   "metadata": {},
   "outputs": [],
   "source": [
    "#36. Multiply all elements in a tuple by 2."
   ]
  },
  {
   "cell_type": "code",
   "execution_count": 77,
   "id": "f08837b9-c9c8-43f0-b3fa-470148531dff",
   "metadata": {},
   "outputs": [
    {
     "data": {
      "text/plain": [
       "(2, 4, 6, 8, 10)"
      ]
     },
     "execution_count": 77,
     "metadata": {},
     "output_type": "execute_result"
    }
   ],
   "source": [
    "t=(1,2,3,4,5)\n",
    "tuple(map(lambda a: a*2,t))"
   ]
  },
  {
   "cell_type": "code",
   "execution_count": 78,
   "id": "30c30235-00e5-4858-a85d-cc7d91119a9e",
   "metadata": {},
   "outputs": [],
   "source": [
    "#37. Create a tuple of random numbers."
   ]
  },
  {
   "cell_type": "code",
   "execution_count": 80,
   "id": "b565a5ae-f4cf-48da-a173-346b622e6a2f",
   "metadata": {},
   "outputs": [
    {
     "data": {
      "text/plain": [
       "(37, 86, 67, 88, 84, 45, 34, 49, 85, 47)"
      ]
     },
     "execution_count": 80,
     "metadata": {},
     "output_type": "execute_result"
    }
   ],
   "source": [
    "import random\n",
    "t=tuple(random.randint(0,100) for i in range(10))\n",
    "t"
   ]
  },
  {
   "cell_type": "code",
   "execution_count": 81,
   "id": "8d6d1b12-e78c-4038-85b8-789de9f091c8",
   "metadata": {},
   "outputs": [],
   "source": [
    "#38. Check if a tuple is sorted."
   ]
  },
  {
   "cell_type": "code",
   "execution_count": 82,
   "id": "ab37705c-7ce2-4a4c-a7d9-4315a2e4090f",
   "metadata": {},
   "outputs": [
    {
     "data": {
      "text/plain": [
       "True"
      ]
     },
     "execution_count": 82,
     "metadata": {},
     "output_type": "execute_result"
    }
   ],
   "source": [
    "t=(1,2,3,4,5)\n",
    "t2=tuple(sorted(t))\n",
    "t==t2"
   ]
  },
  {
   "cell_type": "code",
   "execution_count": 1,
   "id": "d24e6139-9c32-4402-a23b-7dbfe0bf6215",
   "metadata": {},
   "outputs": [],
   "source": [
    "#39. Rotate a tuple to the left by `n` positions."
   ]
  },
  {
   "cell_type": "code",
   "execution_count": 7,
   "id": "b708f73f-2367-4244-adfe-88648c3b87bd",
   "metadata": {},
   "outputs": [
    {
     "name": "stdin",
     "output_type": "stream",
     "text": [
      "number of positions to rotate 2\n"
     ]
    },
    {
     "name": "stdout",
     "output_type": "stream",
     "text": [
      "(3, 4, 5, 1, 2)\n"
     ]
    }
   ],
   "source": [
    "t=(1,2,3,4,5)\n",
    "n=int(input(\"number of positions to rotate\"))\n",
    "n=n%len(t)\n",
    "t1=t[n:]+t[:n]\n",
    "print(t1)\n"
   ]
  },
  {
   "cell_type": "code",
   "execution_count": 8,
   "id": "bfa50d9e-436c-40ea-a1e3-607bb10eeb6e",
   "metadata": {},
   "outputs": [],
   "source": [
    "#40. Rotate a tuple to the right by `n` positions."
   ]
  },
  {
   "cell_type": "code",
   "execution_count": 14,
   "id": "8664d067-4bcb-42c0-9bfa-ba6360b65129",
   "metadata": {},
   "outputs": [
    {
     "name": "stdin",
     "output_type": "stream",
     "text": [
      " 2\n"
     ]
    },
    {
     "name": "stdout",
     "output_type": "stream",
     "text": [
      "(4, 5, 1, 2, 3)\n"
     ]
    }
   ],
   "source": [
    "t=(1,2,3,4,5)\n",
    "n=int(input())\n",
    "n=n%len(t)\n",
    "t1=t[-n:] +t[:-n]\n",
    "print(t1)"
   ]
  },
  {
   "cell_type": "code",
   "execution_count": 15,
   "id": "1cb1c9e7-d8f5-4a22-b82e-07479168097b",
   "metadata": {},
   "outputs": [],
   "source": [
    "#41. Create a tuple of the first 5 Fibonacci numbers."
   ]
  },
  {
   "cell_type": "code",
   "execution_count": 16,
   "id": "0c30ec94-e4dd-4ae7-a26f-bb8da09e85e2",
   "metadata": {},
   "outputs": [
    {
     "name": "stdout",
     "output_type": "stream",
     "text": [
      "(0, 1, 1, 2, 3)\n"
     ]
    }
   ],
   "source": [
    "# Define a function to generate the first n Fibonacci numbers\n",
    "def generate_fibonacci(n):\n",
    "    fibonacci = [0, 1]  # Initialize the list with the first two Fibonacci numbers\n",
    "    while len(fibonacci) < n:  # Continue generating Fibonacci numbers until the list has n elements\n",
    "        next_number = fibonacci[-1] + fibonacci[-2]  # Calculate the next Fibonacci number\n",
    "        fibonacci.append(next_number)  # Add the next Fibonacci number to the list\n",
    "    return tuple(fibonacci)  # Convert the list to a tuple and return it\n",
    "\n",
    "# Call the generate_fibonacci function to create a tuple of the first 5 Fibonacci numbers\n",
    "fibonacci_tuple = generate_fibonacci(5)\n",
    "\n",
    "# Print the resulting tuple\n",
    "print(fibonacci_tuple)"
   ]
  },
  {
   "cell_type": "code",
   "execution_count": 17,
   "id": "dea95fef-0a70-458d-8841-a09c4f6ced58",
   "metadata": {},
   "outputs": [],
   "source": [
    "#42. Create a tuple from user input."
   ]
  },
  {
   "cell_type": "code",
   "execution_count": 20,
   "id": "7cfd8a04-7110-4e45-b4b3-0244bbb87743",
   "metadata": {},
   "outputs": [
    {
     "name": "stdin",
     "output_type": "stream",
     "text": [
      "ENTER INPUT SEPERATED BY , 1,2,3,4,5,6\n"
     ]
    },
    {
     "name": "stdout",
     "output_type": "stream",
     "text": [
      "('1', '2', '3', '4', '5', '6')\n"
     ]
    }
   ],
   "source": [
    "str1=input(\"ENTER INPUT SEPERATED BY ,\")\n",
    "t=tuple(str1.split(','))\n",
    "print(t)"
   ]
  },
  {
   "cell_type": "code",
   "execution_count": 21,
   "id": "64501725-346e-4c4b-afa5-d67f6d2c8277",
   "metadata": {},
   "outputs": [],
   "source": [
    "#43. Swap two elements in a tuple."
   ]
  },
  {
   "cell_type": "code",
   "execution_count": 22,
   "id": "eb37e91d-9954-4d04-b001-92f0cad4c5b9",
   "metadata": {},
   "outputs": [
    {
     "name": "stdout",
     "output_type": "stream",
     "text": [
      "Swapped tuple: (1, 4, 3, 2, 5)\n"
     ]
    }
   ],
   "source": [
    "# Create a tuple\n",
    "my_tuple = (1, 2, 3, 4, 5)\n",
    "\n",
    "# Swap elements at indices 1 and 3\n",
    "index1 = 1\n",
    "index2 = 3\n",
    "swapped_tuple = tuple(\n",
    "    my_tuple[i] if i not in (index1, index2) else\n",
    "    my_tuple[index2] if i == index1 else\n",
    "    my_tuple[index1]\n",
    "    for i in range(len(my_tuple))\n",
    ")\n",
    "\n",
    "# Print the swapped tuple\n",
    "print(\"Swapped tuple:\", swapped_tuple)\n"
   ]
  },
  {
   "cell_type": "code",
   "execution_count": 23,
   "id": "798f04a3-43bf-4b9b-8502-5e6dc7a1070f",
   "metadata": {},
   "outputs": [],
   "source": [
    "#44. Reverse the elements of a tuple."
   ]
  },
  {
   "cell_type": "code",
   "execution_count": 24,
   "id": "5ae6b637-2530-4c2b-b22e-7c0108367a02",
   "metadata": {},
   "outputs": [
    {
     "name": "stdout",
     "output_type": "stream",
     "text": [
      "(5, 4, 3, 2, 1)\n"
     ]
    }
   ],
   "source": [
    "t=(1,2,3,4,5)\n",
    "t1=t[::-1]\n",
    "print(t1)"
   ]
  },
  {
   "cell_type": "code",
   "execution_count": 25,
   "id": "38e9624f-45dd-427a-9166-6ed6649eef82",
   "metadata": {},
   "outputs": [],
   "source": [
    "#45. Create a tuple of the first `n` powers of 2."
   ]
  },
  {
   "cell_type": "code",
   "execution_count": 29,
   "id": "fa529432-d9f8-4bf5-bfb6-dd785c3db81e",
   "metadata": {},
   "outputs": [
    {
     "name": "stdin",
     "output_type": "stream",
     "text": [
      " 5\n"
     ]
    },
    {
     "name": "stdout",
     "output_type": "stream",
     "text": [
      "(2, 4, 8, 16, 32)\n"
     ]
    }
   ],
   "source": [
    "n=int(input())\n",
    "t=tuple(2**i for i in range(1,n+1))\n",
    "print(t)"
   ]
  },
  {
   "cell_type": "code",
   "execution_count": 30,
   "id": "50876937-87f6-40be-b43a-3ceddf28315f",
   "metadata": {},
   "outputs": [],
   "source": [
    "#46. Find the longest string in a tuple of strings."
   ]
  },
  {
   "cell_type": "code",
   "execution_count": 32,
   "id": "2ed78199-f2de-43c7-864b-f00634f8f555",
   "metadata": {},
   "outputs": [
    {
     "data": {
      "text/plain": [
       "'abcd'"
      ]
     },
     "execution_count": 32,
     "metadata": {},
     "output_type": "execute_result"
    }
   ],
   "source": [
    "t=('a','ab','abc','abcd')\n",
    "max(t,key=len)"
   ]
  },
  {
   "cell_type": "code",
   "execution_count": 33,
   "id": "36488291-0beb-4d58-8f5a-f931b32e1af0",
   "metadata": {},
   "outputs": [],
   "source": [
    "#47. Find the shortest string in a tuple of strings."
   ]
  },
  {
   "cell_type": "code",
   "execution_count": 34,
   "id": "392cb3ef-cb67-4e75-86d6-353d4085229b",
   "metadata": {},
   "outputs": [
    {
     "data": {
      "text/plain": [
       "'a'"
      ]
     },
     "execution_count": 34,
     "metadata": {},
     "output_type": "execute_result"
    }
   ],
   "source": [
    "t=('a','ab','abc','abcd')\n",
    "min(t,key=len)"
   ]
  },
  {
   "cell_type": "code",
   "execution_count": 35,
   "id": "fcf15a5c-0cc9-4314-b55c-b6008d55845a",
   "metadata": {},
   "outputs": [],
   "source": [
    "#48. Create a tuple of the first `n` triangular numbers."
   ]
  },
  {
   "cell_type": "code",
   "execution_count": 36,
   "id": "1a2d55af-0ff3-4144-849e-5e407a3fd811",
   "metadata": {},
   "outputs": [
    {
     "name": "stdout",
     "output_type": "stream",
     "text": [
      "Tuple of the first 5 triangular numbers: (1, 3, 6, 10, 15)\n"
     ]
    }
   ],
   "source": [
    "# Define the value of n\n",
    "n = 5\n",
    "\n",
    "# Create a tuple of the first n triangular numbers using a list comprehension\n",
    "triangular_numbers_tuple = tuple((i * (i + 1)) // 2 for i in range(1, n + 1))\n",
    "\n",
    "# Print the tuple of triangular numbers\n",
    "print(\"Tuple of the first\", n, \"triangular numbers:\", triangular_numbers_tuple)"
   ]
  },
  {
   "cell_type": "code",
   "execution_count": 37,
   "id": "52ed7ef8-9d03-42f3-ad02-a6e2845b8d4f",
   "metadata": {},
   "outputs": [],
   "source": [
    "#49. Check if a tuple contains another tuple as a subsequence."
   ]
  },
  {
   "cell_type": "code",
   "execution_count": 45,
   "id": "14edb3ab-21cf-40d5-bcef-f1c93e3ffa3b",
   "metadata": {},
   "outputs": [
    {
     "name": "stdout",
     "output_type": "stream",
     "text": [
      "contains\n"
     ]
    }
   ],
   "source": [
    "main_tuple=(1,2,3,4,5,6)\n",
    "sub_tuple=(2,3,4,)\n",
    "sub_length = len(sub_tuple)\n",
    "for i in range(len(main_tuple) - sub_length + 1):\n",
    "    if main_tuple[i:i+sub_length] == sub_tuple:\n",
    "        print(\"contains\")\n",
    "        "
   ]
  },
  {
   "cell_type": "code",
   "execution_count": 46,
   "id": "12522443-2a96-4650-914e-27d0a914df6e",
   "metadata": {},
   "outputs": [],
   "source": [
    "#50. Create a tuple of alternating 1s and 0s of length `n`."
   ]
  },
  {
   "cell_type": "code",
   "execution_count": 47,
   "id": "37ce6cf0-faf4-4961-8b70-e57a0d9c3e0d",
   "metadata": {},
   "outputs": [
    {
     "name": "stdout",
     "output_type": "stream",
     "text": [
      "Tuple of alternating 1s and 0s: (0, 1, 0, 1, 0, 1, 0, 1, 0, 1)\n"
     ]
    }
   ],
   "source": [
    "# Define the value of n\n",
    "n = 10\n",
    "\n",
    "# Create a tuple of alternating 1s and 0s using a list comprehension\n",
    "alternating_tuple = tuple(i % 2 for i in range(n))\n",
    "\n",
    "# Print the tuple of alternating 1s and 0s\n",
    "print(\"Tuple of alternating 1s and 0s:\", alternating_tuple)"
   ]
  },
  {
   "cell_type": "code",
   "execution_count": null,
   "id": "0cf4421d-22fa-42fe-a819-e5fc5ec34c20",
   "metadata": {},
   "outputs": [],
   "source": []
  },
  {
   "cell_type": "raw",
   "id": "687d6894-aedd-4510-a9cc-259bc14c6961",
   "metadata": {},
   "source": [
    "TOPIC: SET BASED QUESTIONS"
   ]
  },
  {
   "cell_type": "code",
   "execution_count": 1,
   "id": "ba6fa7b2-f038-4564-b803-42347b1b24f7",
   "metadata": {},
   "outputs": [],
   "source": [
    "#1. Create a set with integers from 1 to 5."
   ]
  },
  {
   "cell_type": "code",
   "execution_count": 10,
   "id": "4a20e55e-2472-4725-95f9-2e0641876f84",
   "metadata": {},
   "outputs": [
    {
     "name": "stdout",
     "output_type": "stream",
     "text": [
      "{1, 2, 3, 4, 5}\n"
     ]
    }
   ],
   "source": [
    "my_set = {1, 2, 3, 4, 5}\n",
    "print(my_set)"
   ]
  },
  {
   "cell_type": "code",
   "execution_count": 4,
   "id": "8b6d814b-3ae9-410a-90df-6c2813c068cb",
   "metadata": {},
   "outputs": [],
   "source": [
    "#2. Add an element to a set."
   ]
  },
  {
   "cell_type": "code",
   "execution_count": 5,
   "id": "e2f075b1-5dc3-4f76-b6f1-3340f1d9f0ae",
   "metadata": {},
   "outputs": [
    {
     "name": "stdout",
     "output_type": "stream",
     "text": [
      "{1, 2, 3, 4, 5, 6}\n"
     ]
    }
   ],
   "source": [
    "my_set={1,2,3,4,5}\n",
    "my_set.add(6)\n",
    "print(my_set)"
   ]
  },
  {
   "cell_type": "code",
   "execution_count": 6,
   "id": "5fe5c5e3-0782-45f0-94c4-bcd68d361601",
   "metadata": {},
   "outputs": [],
   "source": [
    "#3. Remove an element from a set."
   ]
  },
  {
   "cell_type": "code",
   "execution_count": 8,
   "id": "20d3a8a3-8986-4904-bd17-7d3d19561e68",
   "metadata": {},
   "outputs": [
    {
     "name": "stdout",
     "output_type": "stream",
     "text": [
      "{1, 2, 3, 4}\n"
     ]
    }
   ],
   "source": [
    "my_set={1,2,3,4,5}\n",
    "my_set.remove(5)\n",
    "print(my_set)"
   ]
  },
  {
   "cell_type": "code",
   "execution_count": 9,
   "id": "2cb3798c-93e4-4a35-bfa5-873c5c8e8402",
   "metadata": {},
   "outputs": [],
   "source": [
    "#4. Check if an element exists in a set."
   ]
  },
  {
   "cell_type": "code",
   "execution_count": 12,
   "id": "ee2a1d46-0a72-4353-9640-3d367e6b1cfd",
   "metadata": {},
   "outputs": [
    {
     "name": "stdin",
     "output_type": "stream",
     "text": [
      " 4\n"
     ]
    },
    {
     "name": "stdout",
     "output_type": "stream",
     "text": [
      "exists\n"
     ]
    }
   ],
   "source": [
    "my_set={1,2,3,4,5}\n",
    "element=int(input())\n",
    "if element in my_set:\n",
    "    print(\"exists\")\n",
    "else:\n",
    "    print(\"does not exists\")"
   ]
  },
  {
   "cell_type": "code",
   "execution_count": 13,
   "id": "004a6b74-75c7-4e22-8f03-ebd779682128",
   "metadata": {},
   "outputs": [],
   "source": [
    "#5. Find the length of a set without using the `len()` function."
   ]
  },
  {
   "cell_type": "code",
   "execution_count": 19,
   "id": "492b6b46-e94b-482a-82c2-6e8307a1d044",
   "metadata": {},
   "outputs": [
    {
     "name": "stdout",
     "output_type": "stream",
     "text": [
      "5\n"
     ]
    }
   ],
   "source": [
    "count=0\n",
    "my_set={1,2,3,4,5}\n",
    "for i in my_set:\n",
    "    count+=1\n",
    "print(count)"
   ]
  },
  {
   "cell_type": "code",
   "execution_count": 20,
   "id": "21fd9055-52ba-4188-946d-80e7f0d244b1",
   "metadata": {},
   "outputs": [],
   "source": [
    "#6. Clear all elements from a set."
   ]
  },
  {
   "cell_type": "code",
   "execution_count": 21,
   "id": "f810f8d6-ac03-4350-9d28-6afc9befee46",
   "metadata": {},
   "outputs": [
    {
     "name": "stdout",
     "output_type": "stream",
     "text": [
      "set()\n"
     ]
    }
   ],
   "source": [
    "my_set={1,2,3,4,5}\n",
    "my_set.clear()\n",
    "print(my_set)"
   ]
  },
  {
   "cell_type": "code",
   "execution_count": 1,
   "id": "c3de2ea2-cded-44ce-9fb7-c4f97bc743b1",
   "metadata": {},
   "outputs": [],
   "source": [
    "#7. Create a set of even numbers from 1 to 10."
   ]
  },
  {
   "cell_type": "code",
   "execution_count": 8,
   "id": "06a4d96d-52d1-4688-a074-3ec88a509da9",
   "metadata": {},
   "outputs": [
    {
     "name": "stdout",
     "output_type": "stream",
     "text": [
      "{2, 4, 6, 8, 10}\n"
     ]
    }
   ],
   "source": [
    "my_set=set()\n",
    "for i in range(1,11):\n",
    "    if i%2==0:\n",
    "        my_set.add(i)\n",
    "print(my_set)"
   ]
  },
  {
   "cell_type": "code",
   "execution_count": 11,
   "id": "9f76364b-96c1-457e-9f16-c73f28fb5915",
   "metadata": {},
   "outputs": [],
   "source": [
    "#8. Create a set of odd numbers from 1 to 10."
   ]
  },
  {
   "cell_type": "code",
   "execution_count": 12,
   "id": "5b1f329b-a5e1-42a7-953f-3724a22a5612",
   "metadata": {},
   "outputs": [
    {
     "name": "stdout",
     "output_type": "stream",
     "text": [
      "{1, 3, 5, 7, 9}\n"
     ]
    }
   ],
   "source": [
    "my_set=set()\n",
    "for i in range(1,11):\n",
    "    if i%2!=0:\n",
    "        my_set.add(i)\n",
    "print(my_set)"
   ]
  },
  {
   "cell_type": "code",
   "execution_count": 13,
   "id": "ba6c9f8d-7f21-4c7f-b4a0-cf495e891f6c",
   "metadata": {},
   "outputs": [],
   "source": [
    "#9. Find the union of two sets."
   ]
  },
  {
   "cell_type": "code",
   "execution_count": 15,
   "id": "b274035d-1f55-4d11-91af-b0539d1266eb",
   "metadata": {},
   "outputs": [
    {
     "data": {
      "text/plain": [
       "{1, 2, 3, 4, 5, 6, 7}"
      ]
     },
     "execution_count": 15,
     "metadata": {},
     "output_type": "execute_result"
    }
   ],
   "source": [
    "my_set1={1,3,5,6,7}\n",
    "my_set2={2,4,5,7}\n",
    "my_set1.union(my_set2)"
   ]
  },
  {
   "cell_type": "code",
   "execution_count": 16,
   "id": "988d4690-9722-41a6-9dc3-03b3d7f84dc5",
   "metadata": {},
   "outputs": [],
   "source": [
    "#10. Find the intersection of two sets."
   ]
  },
  {
   "cell_type": "code",
   "execution_count": 17,
   "id": "ff343eb0-89ea-400a-8079-1c5a0ccea59d",
   "metadata": {},
   "outputs": [
    {
     "data": {
      "text/plain": [
       "{2, 3, 4}"
      ]
     },
     "execution_count": 17,
     "metadata": {},
     "output_type": "execute_result"
    }
   ],
   "source": [
    "my_set1={1,2,3,4,5}\n",
    "my_set2={2,3,4,7,8,9}\n",
    "my_set1.intersection(my_set2)"
   ]
  },
  {
   "cell_type": "code",
   "execution_count": 18,
   "id": "cb68307d-ad28-4f2b-872b-314f928d39e6",
   "metadata": {},
   "outputs": [],
   "source": [
    "#11. Find the difference between two sets."
   ]
  },
  {
   "cell_type": "code",
   "execution_count": 19,
   "id": "683878d6-7fc0-4d61-955e-63a0bbb8f09f",
   "metadata": {},
   "outputs": [
    {
     "data": {
      "text/plain": [
       "{6}"
      ]
     },
     "execution_count": 19,
     "metadata": {},
     "output_type": "execute_result"
    }
   ],
   "source": [
    "my_set1={4,3,5,2,6}\n",
    "my_set2={1,2,3,4,5}\n",
    "my_set1.difference(my_set2)"
   ]
  },
  {
   "cell_type": "code",
   "execution_count": 20,
   "id": "fbd9be5b-a58a-4e54-84ff-ec34103dd4fd",
   "metadata": {},
   "outputs": [],
   "source": [
    "#12. Check if a set is a subset of another set."
   ]
  },
  {
   "cell_type": "code",
   "execution_count": 22,
   "id": "5b0c1c0e-cb9b-4115-85b4-59d7dc76ddb6",
   "metadata": {},
   "outputs": [
    {
     "data": {
      "text/plain": [
       "True"
      ]
     },
     "execution_count": 22,
     "metadata": {},
     "output_type": "execute_result"
    }
   ],
   "source": [
    "my_set1={2,3,4,5,6}\n",
    "my_set2={2,3,4}\n",
    "my_set2.issubset(my_set1)"
   ]
  },
  {
   "cell_type": "code",
   "execution_count": 23,
   "id": "5a1a902b-c6c1-4073-b490-b3417125d9f4",
   "metadata": {},
   "outputs": [],
   "source": [
    "#13. Check if a set is a superset of another set."
   ]
  },
  {
   "cell_type": "code",
   "execution_count": 25,
   "id": "7b48b53b-5281-4509-93e6-ebba6e1bbafa",
   "metadata": {},
   "outputs": [
    {
     "data": {
      "text/plain": [
       "True"
      ]
     },
     "execution_count": 25,
     "metadata": {},
     "output_type": "execute_result"
    }
   ],
   "source": [
    "my_set1={2,3,4,5,6}\n",
    "my_set2={2,3,4}\n",
    "my_set1.issuperset(my_set2)"
   ]
  },
  {
   "cell_type": "code",
   "execution_count": 26,
   "id": "786e8b54-0062-4ae0-93b2-c790797d4c04",
   "metadata": {},
   "outputs": [],
   "source": [
    "#14. Create a set from a list."
   ]
  },
  {
   "cell_type": "code",
   "execution_count": 27,
   "id": "7abe6cde-2add-475a-b34f-d50eb54f54cf",
   "metadata": {},
   "outputs": [
    {
     "data": {
      "text/plain": [
       "{1, 2, 3, 4, 5}"
      ]
     },
     "execution_count": 27,
     "metadata": {},
     "output_type": "execute_result"
    }
   ],
   "source": [
    "l1=[1,2,3,4,5]\n",
    "set(l1)"
   ]
  },
  {
   "cell_type": "code",
   "execution_count": 28,
   "id": "7f64b656-48a2-491b-bc5d-b6dbc0fdbe20",
   "metadata": {},
   "outputs": [],
   "source": [
    "#15. Convert a set to a list."
   ]
  },
  {
   "cell_type": "code",
   "execution_count": 29,
   "id": "daacaef5-bbbe-47b9-8df6-2ab626f14582",
   "metadata": {},
   "outputs": [
    {
     "data": {
      "text/plain": [
       "[1, 2, 3, 4, 5]"
      ]
     },
     "execution_count": 29,
     "metadata": {},
     "output_type": "execute_result"
    }
   ],
   "source": [
    "my_set={1,2,3,4,5}\n",
    "list(my_set)"
   ]
  },
  {
   "cell_type": "code",
   "execution_count": 30,
   "id": "2fb30e97-9a7e-4423-8e9d-7acdabd4e7b5",
   "metadata": {},
   "outputs": [],
   "source": [
    "#16. Remove a random element from a set."
   ]
  },
  {
   "cell_type": "code",
   "execution_count": 8,
   "id": "538c1923-ea32-4e1d-9381-da3233e91e57",
   "metadata": {},
   "outputs": [
    {
     "data": {
      "text/plain": [
       "{1, 2, 3, 4}"
      ]
     },
     "execution_count": 8,
     "metadata": {},
     "output_type": "execute_result"
    }
   ],
   "source": [
    "import random\n",
    "my_set={1,2,3,4,5}\n",
    "random_el=random.choice(list(my_set))\n",
    "my_set.remove(random_el)\n",
    "my_set"
   ]
  },
  {
   "cell_type": "code",
   "execution_count": 9,
   "id": "3d775764-2e16-4937-9dfe-40cbc066fb30",
   "metadata": {},
   "outputs": [],
   "source": [
    "#17. Pop an element from a set."
   ]
  },
  {
   "cell_type": "code",
   "execution_count": 12,
   "id": "c2999a56-a560-46b7-b216-59dc5186fe8e",
   "metadata": {},
   "outputs": [
    {
     "data": {
      "text/plain": [
       "{2, 3, 4, 5}"
      ]
     },
     "execution_count": 12,
     "metadata": {},
     "output_type": "execute_result"
    }
   ],
   "source": [
    "my_set={1,2,3,4,5}\n",
    "my_set.pop()\n",
    "my_set"
   ]
  },
  {
   "cell_type": "code",
   "execution_count": 13,
   "id": "732d29f8-e090-4fc1-9e03-e1cc67412a4c",
   "metadata": {},
   "outputs": [],
   "source": [
    "#18. Check if two sets have no elements in common."
   ]
  },
  {
   "cell_type": "code",
   "execution_count": 14,
   "id": "49eda5ce-2c04-4112-889c-086caf309ee4",
   "metadata": {},
   "outputs": [
    {
     "name": "stdout",
     "output_type": "stream",
     "text": [
      "common elements found\n"
     ]
    }
   ],
   "source": [
    "my_set1={1,2,3,4,5}\n",
    "my_set2={4,5,6,7,8}\n",
    "comm=my_set1.intersection(my_set2)\n",
    "if comm:\n",
    "    print(\"common elements found\")\n",
    "else:\n",
    "    print(\"no common element found\")"
   ]
  },
  {
   "cell_type": "code",
   "execution_count": 15,
   "id": "e82cd8a5-e35c-458c-bd9a-4e191d20213f",
   "metadata": {},
   "outputs": [],
   "source": [
    "#19. Find the symmetric difference between two sets."
   ]
  },
  {
   "cell_type": "code",
   "execution_count": 16,
   "id": "1788ee3c-22ef-40c2-9663-f80e56350dd3",
   "metadata": {},
   "outputs": [
    {
     "data": {
      "text/plain": [
       "{1, 2, 3, 6, 7, 8}"
      ]
     },
     "execution_count": 16,
     "metadata": {},
     "output_type": "execute_result"
    }
   ],
   "source": [
    "my_set1={1,2,3,4,5}\n",
    "my_set2={4,5,6,7,8}\n",
    "sym_diff=my_set1^my_set2\n",
    "sym_diff"
   ]
  },
  {
   "cell_type": "code",
   "execution_count": 17,
   "id": "99d785ef-cf05-446d-972d-66b994cc90f4",
   "metadata": {},
   "outputs": [],
   "source": [
    "#20. Update a set with elements from another set."
   ]
  },
  {
   "cell_type": "code",
   "execution_count": 22,
   "id": "2f58036b-ff1a-48ae-b35b-1b17ceabb145",
   "metadata": {},
   "outputs": [
    {
     "data": {
      "text/plain": [
       "{1, 2, 3, 4, 5, 6, 7, 8}"
      ]
     },
     "execution_count": 22,
     "metadata": {},
     "output_type": "execute_result"
    }
   ],
   "source": [
    "my_set1={1,2,3,4,5}\n",
    "my_set2={4,5,6,7,8}\n",
    "my_set1.update(my_set2)\n",
    "my_set1"
   ]
  },
  {
   "cell_type": "code",
   "execution_count": 23,
   "id": "a90ab82d-f928-4308-87ec-aba880bf0da3",
   "metadata": {},
   "outputs": [],
   "source": [
    "#21. Create a set of the first 5 prime numbers."
   ]
  },
  {
   "cell_type": "code",
   "execution_count": 1,
   "id": "2b6f93a4-ee43-4fbf-bb0e-6211c88e4b9f",
   "metadata": {},
   "outputs": [
    {
     "name": "stdout",
     "output_type": "stream",
     "text": [
      "Set of the first 5 prime numbers: {2, 3, 5, 7, 11}\n"
     ]
    }
   ],
   "source": [
    "# Function to check if a number is prime\n",
    "def is_prime(num):\n",
    "    if num <= 1:\n",
    "        return False\n",
    "    for i in range(2, int(num ** 0.5) + 1):\n",
    "        if num % i == 0:\n",
    "            return False\n",
    "    return True\n",
    "\n",
    "# Create an empty set to store the prime numbers\n",
    "prime_set = set()\n",
    "\n",
    "# Initialize the number to start checking for primes\n",
    "num = 2\n",
    "\n",
    "# Loop until we have found the first 5 prime numbers\n",
    "while len(prime_set) < 5:\n",
    "    # Check if the current number is prime using the is_prime function\n",
    "    if is_prime(num):\n",
    "        # If the number is prime, add it to the prime_set\n",
    "        prime_set.add(num)\n",
    "\n",
    "    # Move on to the next number for the next iteration\n",
    "    num += 1\n",
    "\n",
    "# Print the set of prime numbers\n",
    "print(\"Set of the first 5 prime numbers:\", prime_set)"
   ]
  },
  {
   "cell_type": "code",
   "execution_count": 2,
   "id": "0c7f2473-04a4-4166-92dd-3f235d924f6d",
   "metadata": {},
   "outputs": [],
   "source": [
    "#22. Check if two sets are identical."
   ]
  },
  {
   "cell_type": "code",
   "execution_count": 3,
   "id": "cf5e46c9-8a15-4286-b0ae-7066f1828abc",
   "metadata": {},
   "outputs": [
    {
     "name": "stdout",
     "output_type": "stream",
     "text": [
      "not identical\n"
     ]
    }
   ],
   "source": [
    "my_set1={1,2,3,4,5}\n",
    "my_set2={4,5,6,7,8}\n",
    "if my_set1==my_set2:\n",
    "    print(\"identical\")\n",
    "else:\n",
    "    print(\"not identical\")\n",
    "    "
   ]
  },
  {
   "cell_type": "code",
   "execution_count": 4,
   "id": "b9f411d4-28a7-40fc-bf32-da959a1a7cde",
   "metadata": {},
   "outputs": [],
   "source": [
    "#23. Create a frozen set."
   ]
  },
  {
   "cell_type": "code",
   "execution_count": 5,
   "id": "d876b783-2c1b-48db-82f2-016016455c87",
   "metadata": {},
   "outputs": [
    {
     "name": "stdout",
     "output_type": "stream",
     "text": [
      "Frozen Set: frozenset({1, 2, 3, 4, 5})\n"
     ]
    }
   ],
   "source": [
    "# Step 2: Define a list of elements that you want to include in the frozen set\n",
    "elements = [1, 2, 3, 4, 5]\n",
    "\n",
    "# Step 3: Create a frozen set using the 'frozenset' constructor and passing the list of elements\n",
    "my_frozen_set = frozenset(elements)\n",
    "\n",
    "# Step 4: Print the frozen set\n",
    "print(\"Frozen Set:\", my_frozen_set)"
   ]
  },
  {
   "cell_type": "code",
   "execution_count": 6,
   "id": "dddecd73-329b-465e-b74f-27ff75e16f58",
   "metadata": {},
   "outputs": [],
   "source": [
    "#24. Check if a set is disjoint with another set."
   ]
  },
  {
   "cell_type": "code",
   "execution_count": 2,
   "id": "e7cc3e47-2be8-44b3-812e-0a6746501c9a",
   "metadata": {},
   "outputs": [
    {
     "name": "stdout",
     "output_type": "stream",
     "text": [
      "False\n"
     ]
    }
   ],
   "source": [
    "set1={1,2,3,4}\n",
    "set2={3,4,5,6}\n",
    "disjoint=set1.isdisjoint(set2)\n",
    "print(disjoint)\n"
   ]
  },
  {
   "cell_type": "code",
   "execution_count": 4,
   "id": "a39c5ae9-f3a9-43b7-b574-1f63b62a11cb",
   "metadata": {},
   "outputs": [],
   "source": [
    "#25. Create a set of squares of numbers from 1 to 5."
   ]
  },
  {
   "cell_type": "code",
   "execution_count": 7,
   "id": "316f9dba-fd2a-44eb-9e1b-2b5675f6b912",
   "metadata": {},
   "outputs": [
    {
     "name": "stdout",
     "output_type": "stream",
     "text": [
      "{1, 4, 9, 16, 25}\n"
     ]
    }
   ],
   "source": [
    "set_sq=set()\n",
    "for i in range(1,6):\n",
    "    a=i*i\n",
    "    set_sq.add(a)\n",
    "print(set_sq)"
   ]
  },
  {
   "cell_type": "code",
   "execution_count": 8,
   "id": "269b1d1f-dc95-4b0d-bc8f-7ed590d83192",
   "metadata": {},
   "outputs": [],
   "source": [
    "#26. Filter out all even numbers from a set."
   ]
  },
  {
   "cell_type": "code",
   "execution_count": 10,
   "id": "d14f8ceb-0c71-43c8-9edb-ca2eb3840551",
   "metadata": {},
   "outputs": [
    {
     "name": "stdout",
     "output_type": "stream",
     "text": [
      "{8, 2, 4, 6}\n"
     ]
    }
   ],
   "source": [
    "set1={1,2,3,4,5,6,7,8}\n",
    "set2=set()\n",
    "for i in set1:\n",
    "    if i%2==0:\n",
    "        set2.add(i)\n",
    "print(set2)"
   ]
  },
  {
   "cell_type": "code",
   "execution_count": 11,
   "id": "ace987fd-5f7d-416f-b998-e650e53ffa6c",
   "metadata": {},
   "outputs": [],
   "source": [
    "#27. Multiply all elements in a set by 2."
   ]
  },
  {
   "cell_type": "code",
   "execution_count": 13,
   "id": "c0385dc5-d439-4d1c-92f1-15464d9c8301",
   "metadata": {},
   "outputs": [
    {
     "name": "stdout",
     "output_type": "stream",
     "text": [
      "{2, 4, 6, 8, 10, 12, 14}\n"
     ]
    }
   ],
   "source": [
    "set1={1,2,3,4,5,6,7}\n",
    "set2=set()\n",
    "for i in set1:\n",
    "    a=i*2\n",
    "    set2.add(a)\n",
    "print(set2)"
   ]
  },
  {
   "cell_type": "code",
   "execution_count": 14,
   "id": "64557903-ef5a-4aa8-a992-8f30ecd385d5",
   "metadata": {},
   "outputs": [],
   "source": [
    "#28. Create a set of random numbers."
   ]
  },
  {
   "cell_type": "code",
   "execution_count": 16,
   "id": "6a8b62f2-cb34-433a-9eb5-932cb213401d",
   "metadata": {},
   "outputs": [
    {
     "name": "stdout",
     "output_type": "stream",
     "text": [
      "{33, 65, 37, 69, 43, 25, 27, 30}\n"
     ]
    }
   ],
   "source": [
    "import random\n",
    "set1=set()\n",
    "for i in range(1,9):\n",
    "    rand_num=random.randint(1,100)\n",
    "    set1.add(rand_num)\n",
    "print(set1)\n"
   ]
  },
  {
   "cell_type": "code",
   "execution_count": 17,
   "id": "9ac9bcd5-3da2-4406-b393-4ca2b2ac4f85",
   "metadata": {},
   "outputs": [],
   "source": [
    "#29. Check if a set is empty."
   ]
  },
  {
   "cell_type": "code",
   "execution_count": 22,
   "id": "362b6586-322b-4da5-9c40-6449c39a529f",
   "metadata": {},
   "outputs": [
    {
     "name": "stdout",
     "output_type": "stream",
     "text": [
      "not empty\n"
     ]
    }
   ],
   "source": [
    "set1={1,2,3,5}\n",
    "if not set1:\n",
    "    print(\"empty\")\n",
    "else:\n",
    "    print(\"not empty\")"
   ]
  },
  {
   "cell_type": "code",
   "execution_count": 23,
   "id": "794b2550-a9b3-46bf-9ba6-013d53ffcb3e",
   "metadata": {},
   "outputs": [],
   "source": [
    "#30. Create a nested set (hint: use frozenset)."
   ]
  },
  {
   "cell_type": "code",
   "execution_count": 24,
   "id": "c99023f6-da95-46f2-aae8-92a052f126c4",
   "metadata": {},
   "outputs": [
    {
     "name": "stdout",
     "output_type": "stream",
     "text": [
      "{frozenset({1, 2, 3, 4}), frozenset({4, 5, 6, 7})}\n"
     ]
    }
   ],
   "source": [
    "set1={1,2,3,4}\n",
    "set2={4,5,6,7}\n",
    "fs1=frozenset(set1)\n",
    "fs2=frozenset(set2)\n",
    "nested_set={fs1,fs2}\n",
    "print(nested_set)"
   ]
  },
  {
   "cell_type": "code",
   "execution_count": 25,
   "id": "d3489928-e0fc-4e3f-9b39-91f5482b4a37",
   "metadata": {},
   "outputs": [],
   "source": [
    "#31. Remove an element from a set using the discard method."
   ]
  },
  {
   "cell_type": "code",
   "execution_count": 26,
   "id": "1e984d44-44dd-49c8-aec0-d41bfb98f088",
   "metadata": {},
   "outputs": [
    {
     "name": "stdout",
     "output_type": "stream",
     "text": [
      "before removing : {1, 2, 3, 4, 5}\n",
      "after removing : {1, 2, 4, 5}\n"
     ]
    }
   ],
   "source": [
    "set1={1,2,3,4,5}\n",
    "print(\"before removing :\", set1)\n",
    "set1.discard(3)\n",
    "print(\"after removing :\", set1)"
   ]
  },
  {
   "cell_type": "code",
   "execution_count": 27,
   "id": "85298ab2-643b-4e25-8155-9264c0cfdc55",
   "metadata": {},
   "outputs": [],
   "source": [
    "#32. Compare two sets."
   ]
  },
  {
   "cell_type": "code",
   "execution_count": 1,
   "id": "e3071e22-3d46-4b96-8c0b-f4a15ee7e6ef",
   "metadata": {},
   "outputs": [
    {
     "name": "stdout",
     "output_type": "stream",
     "text": [
      "Set 1: {1, 2, 3, 4, 5}\n",
      "Set 2: {4, 5, 6, 7, 8}\n",
      "Is set1 a subset of set2? False\n",
      "Is set2 a subset of set1? False\n",
      "Intersection: {4, 5}\n",
      "Union: {1, 2, 3, 4, 5, 6, 7, 8}\n",
      "Elements in set1 but not in set2: {1, 2, 3}\n",
      "Elements in set2 but not in set1: {8, 6, 7}\n"
     ]
    }
   ],
   "source": [
    "# Step 1: Define two sets\n",
    "set1 = {1, 2, 3, 4, 5}\n",
    "set2 = {4, 5, 6, 7, 8}\n",
    "\n",
    "# Step 2: Use set operations to compare the sets\n",
    "# Check if set1 is a subset of set2\n",
    "is_subset = set1.issubset(set2)\n",
    "\n",
    "# Check if set2 is a subset of set1\n",
    "is_superset = set1.issuperset(set2)\n",
    "\n",
    "# Find the intersection of the sets\n",
    "intersection = set1.intersection(set2)\n",
    "\n",
    "# Find the union of the sets\n",
    "union = set1.union(set2)\n",
    "\n",
    "# Find the elements that are in set1 but not in set2\n",
    "difference1 = set1.difference(set2)\n",
    "\n",
    "# Find the elements that are in set2 but not in set1\n",
    "difference2 = set2.difference(set1)\n",
    "\n",
    "# Step 3: Print the results\n",
    "print(\"Set 1:\", set1)\n",
    "print(\"Set 2:\", set2)\n",
    "print(\"Is set1 a subset of set2?\", is_subset)\n",
    "print(\"Is set2 a subset of set1?\", is_superset)\n",
    "print(\"Intersection:\", intersection)\n",
    "print(\"Union:\", union)\n",
    "print(\"Elements in set1 but not in set2:\", difference1)\n",
    "print(\"Elements in set2 but not in set1:\", difference2)"
   ]
  },
  {
   "cell_type": "code",
   "execution_count": 2,
   "id": "455195d3-10a6-4a59-be6d-a49b87ab35ac",
   "metadata": {},
   "outputs": [],
   "source": [
    "#33. Create a set from a string."
   ]
  },
  {
   "cell_type": "code",
   "execution_count": 3,
   "id": "48748957-1c7d-4ec6-853a-b728cc3a9df3",
   "metadata": {},
   "outputs": [
    {
     "name": "stdout",
     "output_type": "stream",
     "text": [
      "{'o', 'y', 'h', 't', 'p', 'n'}\n"
     ]
    }
   ],
   "source": [
    "str1=\"python\"\n",
    "set1=set(str1)\n",
    "print(set1)"
   ]
  },
  {
   "cell_type": "code",
   "execution_count": 4,
   "id": "da5308cd-4232-44db-add0-9f77358dbf31",
   "metadata": {},
   "outputs": [],
   "source": [
    "#34. Convert a set of strings to a set of integers."
   ]
  },
  {
   "cell_type": "code",
   "execution_count": 7,
   "id": "9869bc6e-ef83-48b2-bd4f-83670f6019fe",
   "metadata": {},
   "outputs": [
    {
     "name": "stdout",
     "output_type": "stream",
     "text": [
      "{1, 2, 3, 4}\n"
     ]
    }
   ],
   "source": [
    "set1={'1','2','3','4'}\n",
    "set2=set()\n",
    "for i in set1:\n",
    "    a=int(i)\n",
    "    set2.add(a)\n",
    "print(set2)"
   ]
  },
  {
   "cell_type": "code",
   "execution_count": 8,
   "id": "5c268b10-5e6b-4150-88fa-dbdea46ccb93",
   "metadata": {},
   "outputs": [],
   "source": [
    "#35. Convert a set of integers to a set of strings."
   ]
  },
  {
   "cell_type": "code",
   "execution_count": 9,
   "id": "5edd8b8b-efb4-4feb-a0ab-17638215f645",
   "metadata": {},
   "outputs": [
    {
     "name": "stdout",
     "output_type": "stream",
     "text": [
      "{'5', '3', '4', '2', '1'}\n"
     ]
    }
   ],
   "source": [
    "set1={1,2,3,4,5}\n",
    "set2=set()\n",
    "for i in set1:\n",
    "    a=str(i)\n",
    "    set2.add(a)\n",
    "print(set2)"
   ]
  },
  {
   "cell_type": "code",
   "execution_count": 10,
   "id": "7f5329e7-56c0-4683-881f-014137a29919",
   "metadata": {},
   "outputs": [],
   "source": [
    "#36. Create a set from a tuple."
   ]
  },
  {
   "cell_type": "code",
   "execution_count": 13,
   "id": "2c8c386f-4610-4d43-ba05-1c527c542d5f",
   "metadata": {},
   "outputs": [
    {
     "name": "stdout",
     "output_type": "stream",
     "text": [
      "{1, 2, 3, 4}\n"
     ]
    }
   ],
   "source": [
    "tup=(1,2,3,4)\n",
    "set1=set(tup)\n",
    "print(set1)"
   ]
  },
  {
   "cell_type": "code",
   "execution_count": 14,
   "id": "18f2e5f1-8e35-47e1-b72f-bb0162d41da6",
   "metadata": {},
   "outputs": [],
   "source": [
    "#37. Convert a set to a tuple."
   ]
  },
  {
   "cell_type": "code",
   "execution_count": 15,
   "id": "ab2d9b8d-2f14-4210-bc17-e084c620609d",
   "metadata": {},
   "outputs": [
    {
     "name": "stdout",
     "output_type": "stream",
     "text": [
      "(1, 2, 3, 4, 5)\n"
     ]
    }
   ],
   "source": [
    "set1={1,2,3,4,5}\n",
    "tup=tuple(set1)\n",
    "print(tup)"
   ]
  },
  {
   "cell_type": "code",
   "execution_count": 16,
   "id": "9646f39a-b1fe-45d1-8f75-0809781f3f4e",
   "metadata": {},
   "outputs": [],
   "source": [
    "#38. Find the maximum value in a set."
   ]
  },
  {
   "cell_type": "code",
   "execution_count": 19,
   "id": "fe0e7538-1921-480d-b535-1036bba10718",
   "metadata": {},
   "outputs": [
    {
     "name": "stdout",
     "output_type": "stream",
     "text": [
      "Maximum value: 72\n"
     ]
    }
   ],
   "source": [
    "# Define a set with some values\n",
    "my_set = {11, 22, 72, 23, 13}\n",
    "\n",
    "# Initialize a variable to store the maximum value\n",
    "max_value = None\n",
    "\n",
    "# Iterate through each element in the set\n",
    "for num in my_set:\n",
    "    # Check if max_value is None (first iteration) or if the current number is greater than max_value\n",
    "    if max_value is None or num > max_value:\n",
    "        max_value = num  # Update max_value with the current number if it's greater\n",
    "\n",
    "# Print the maximum value\n",
    "print(\"Maximum value:\", max_value)"
   ]
  },
  {
   "cell_type": "code",
   "execution_count": 22,
   "id": "fe7cb9ff-2340-41b2-986f-ad878ff855ec",
   "metadata": {},
   "outputs": [],
   "source": [
    "#39. Find the minimum value in a set."
   ]
  },
  {
   "cell_type": "code",
   "execution_count": 21,
   "id": "8ee5749e-ec5d-4b9c-996e-f83604e1e9a6",
   "metadata": {},
   "outputs": [
    {
     "name": "stdout",
     "output_type": "stream",
     "text": [
      "The minimum value in the set is: 12\n"
     ]
    }
   ],
   "source": [
    "## Create a sample set of numbers\n",
    "number_set = {12,23,34,45,56}\n",
    "\n",
    "# Initialize a variable to store the minimum value\n",
    "min_value = None\n",
    "\n",
    "# Iterate through each element in the set\n",
    "for num in number_set:\n",
    "    # Check if min_value is None (first iteration) or if num is smaller than the current min_value\n",
    "    if min_value is None or num < min_value:\n",
    "        # Update min_value to the current num since it's smaller\n",
    "        min_value = num\n",
    "\n",
    "# Print the minimum value found in the set\n",
    "print(\"The minimum value in the set is:\", min_value)"
   ]
  },
  {
   "cell_type": "code",
   "execution_count": 23,
   "id": "37be5ab9-692d-420a-9faa-ca2d43d74976",
   "metadata": {},
   "outputs": [],
   "source": [
    "#40. Create a set from user input."
   ]
  },
  {
   "cell_type": "code",
   "execution_count": 4,
   "id": "8eaba294-34d1-4310-b333-48e16372c4e4",
   "metadata": {},
   "outputs": [
    {
     "name": "stdout",
     "output_type": "stream",
     "text": [
      "enter elements and press f to finish\n"
     ]
    },
    {
     "name": "stdin",
     "output_type": "stream",
     "text": [
      "- book\n",
      "- pen\n",
      "- laptop\n",
      "- f\n"
     ]
    },
    {
     "name": "stdout",
     "output_type": "stream",
     "text": [
      "{'pen', 'book', 'laptop'}\n"
     ]
    }
   ],
   "source": [
    "set1=set()\n",
    "print(\"enter elements and press f to finish\")\n",
    "while True:\n",
    "    user_input=input(\"-\")\n",
    "    if user_input.lower()=='f':\n",
    "        break\n",
    "    else:\n",
    "        set1.add(user_input)\n",
    "print(set1)\n"
   ]
  },
  {
   "cell_type": "code",
   "execution_count": 5,
   "id": "a0e5a96a-e9ca-4061-8330-476176515253",
   "metadata": {},
   "outputs": [],
   "source": [
    "#41. Check if the intersection of two sets is empty."
   ]
  },
  {
   "cell_type": "code",
   "execution_count": 6,
   "id": "7f529695-ba5d-4f8c-82d6-7de13ec2034a",
   "metadata": {},
   "outputs": [
    {
     "name": "stdout",
     "output_type": "stream",
     "text": [
      "not empty\n"
     ]
    }
   ],
   "source": [
    "set1={1,2,3,4}\n",
    "set2={3,4,5,6}\n",
    "result=set1.intersection(set2)\n",
    "if result:\n",
    "    print(\"not empty\")\n",
    "else:\n",
    "    print(\"empty\")"
   ]
  },
  {
   "cell_type": "code",
   "execution_count": 7,
   "id": "c0af7b9c-14de-4dd2-976d-dbba70fcd317",
   "metadata": {},
   "outputs": [],
   "source": [
    "#42. Create a set of the first 5 Fibonacci numbers."
   ]
  },
  {
   "cell_type": "code",
   "execution_count": 27,
   "id": "43120033-bf95-47c3-86fb-780f3bbd7e43",
   "metadata": {},
   "outputs": [
    {
     "name": "stdout",
     "output_type": "stream",
     "text": [
      "{0, 1, 2, 3, 5}\n"
     ]
    }
   ],
   "source": [
    "fib_set=set()\n",
    "a,b=0,1\n",
    "for i in range(6):\n",
    "    fib_set.add(a)\n",
    "    \n",
    "    a,b=b,a+b\n",
    "print(fib_set)\n"
   ]
  },
  {
   "cell_type": "code",
   "execution_count": 28,
   "id": "6ff4b3f9-2b88-4ce0-a92f-5eddcfbf7ed1",
   "metadata": {},
   "outputs": [],
   "source": [
    "#43. Remove duplicates from a list using sets."
   ]
  },
  {
   "cell_type": "code",
   "execution_count": 30,
   "id": "f11138a6-d733-4afc-9253-b420428c8248",
   "metadata": {},
   "outputs": [
    {
     "name": "stdout",
     "output_type": "stream",
     "text": [
      "[1, 2, 3, 34, 5, 44, 54]\n"
     ]
    }
   ],
   "source": [
    "l=[1,2,2,3,2,34,5,44,54,44,34]\n",
    "set1=set(l)\n",
    "new_l=list(set1)\n",
    "print(new_l)\n",
    "    "
   ]
  },
  {
   "cell_type": "code",
   "execution_count": 31,
   "id": "576f3425-47e2-4fdc-a5df-7a4965ec300b",
   "metadata": {},
   "outputs": [],
   "source": [
    "#44. Check if two sets have the same elements, regardless of their count."
   ]
  },
  {
   "cell_type": "code",
   "execution_count": 38,
   "id": "91468b4c-86f0-49d7-b971-27e5a96ffb99",
   "metadata": {},
   "outputs": [
    {
     "name": "stdout",
     "output_type": "stream",
     "text": [
      "The sets have the same elements.\n"
     ]
    }
   ],
   "source": [
    "def have_same_elements(set1, set2):\n",
    "    # Convert the sets to lists and sort them\n",
    "    sorted_list1 = sorted(list(set1))\n",
    "    sorted_list2 = sorted(list(set2))\n",
    "\n",
    "    # Compare the sorted lists to check if they are equal\n",
    "    return sorted_list1 == sorted_list2\n",
    "\n",
    "# Example sets\n",
    "set1 = {1, 2, 3, 2, 1}\n",
    "set2 = {3, 1, 2}\n",
    "\n",
    "# Check if the sets have the same elements\n",
    "result = have_same_elements(set1, set2)\n",
    "\n",
    "# Print the result\n",
    "if result:\n",
    "    print(\"The sets have the same elements.\")\n",
    "else:\n",
    "    print(\"The sets do not have the same elements.\")"
   ]
  },
  {
   "cell_type": "code",
   "execution_count": 39,
   "id": "31c6d53d-8732-4288-8c67-c04f0f2085ee",
   "metadata": {},
   "outputs": [],
   "source": [
    "#45. Create a set of the first `n` powers of 2."
   ]
  },
  {
   "cell_type": "code",
   "execution_count": 45,
   "id": "6dfcbe8c-c5f2-4ba8-8cf9-660356b50b2e",
   "metadata": {},
   "outputs": [
    {
     "name": "stdin",
     "output_type": "stream",
     "text": [
      " 7\n"
     ]
    },
    {
     "name": "stdout",
     "output_type": "stream",
     "text": [
      "[2, 4, 8, 16, 32, 64, 128]\n"
     ]
    }
   ],
   "source": [
    "set1=set()\n",
    "n=int(input())\n",
    "for i in range(1,n+1):\n",
    "    a=2**i\n",
    "    set1.add(a)\n",
    "a=sorted(list(set1))\n",
    "print(a)\n",
    "    "
   ]
  },
  {
   "cell_type": "code",
   "execution_count": 46,
   "id": "98b14412-1729-4ef2-b947-c8dd11bd9419",
   "metadata": {},
   "outputs": [],
   "source": [
    "#46. Find the common elements between a set and a list."
   ]
  },
  {
   "cell_type": "code",
   "execution_count": 6,
   "id": "7a270a3d-5c73-414a-a907-a46472dcb4da",
   "metadata": {},
   "outputs": [
    {
     "name": "stdout",
     "output_type": "stream",
     "text": [
      "[4, 5]\n"
     ]
    }
   ],
   "source": [
    "a={1,2,3,4,5}\n",
    "b=[4,5,6,7,8]\n",
    "c=[]\n",
    "\n",
    "for i in a:\n",
    "    if i in b:\n",
    "        c.append(i)\n",
    "print(c)"
   ]
  },
  {
   "cell_type": "code",
   "execution_count": 7,
   "id": "6e6038a2-9bf1-4c9f-a389-83c90c626788",
   "metadata": {},
   "outputs": [],
   "source": [
    "#47. Create a set of the first `n` triangular numbers."
   ]
  },
  {
   "cell_type": "code",
   "execution_count": 18,
   "id": "7b713d31-e101-4406-b7c6-36834a647cb1",
   "metadata": {},
   "outputs": [
    {
     "name": "stdin",
     "output_type": "stream",
     "text": [
      " 6\n"
     ]
    },
    {
     "data": {
      "text/plain": [
       "[0, 1, 3, 6, 10, 15]"
      ]
     },
     "execution_count": 18,
     "metadata": {},
     "output_type": "execute_result"
    }
   ],
   "source": [
    "n=int(input())\n",
    "l=[]\n",
    "for i in range(n):\n",
    "    a=int(((i**2)+i)/2)\n",
    "    l.append(a)\n",
    "l"
   ]
  },
  {
   "cell_type": "code",
   "execution_count": 19,
   "id": "7c3e0618-1d87-4fea-9eaf-7cdeb4e93771",
   "metadata": {},
   "outputs": [],
   "source": [
    "#48. Check if a set contains another set as a subset."
   ]
  },
  {
   "cell_type": "code",
   "execution_count": 27,
   "id": "f048f512-4bd9-46ec-a164-fadcd1b22e67",
   "metadata": {},
   "outputs": [
    {
     "name": "stdout",
     "output_type": "stream",
     "text": [
      "Contains\n"
     ]
    }
   ],
   "source": [
    "s1={1,2,3,4}\n",
    "s2={3,4}\n",
    "if_sub=s2.issubset(s1)\n",
    "if if_sub:\n",
    "    print(\"Contains\")\n",
    "else:\n",
    "    print(\"does not contain\")"
   ]
  },
  {
   "cell_type": "code",
   "execution_count": 28,
   "id": "f9c069e4-4bdb-4f08-be5a-04b8dc41f0ab",
   "metadata": {},
   "outputs": [],
   "source": [
    "#49. Create a set of alternating 1s and 0s of length `n`."
   ]
  },
  {
   "cell_type": "code",
   "execution_count": 30,
   "id": "1ab2a1c3-6a44-432e-8fa2-3d3c3805c15f",
   "metadata": {},
   "outputs": [
    {
     "name": "stdin",
     "output_type": "stream",
     "text": [
      " 6\n"
     ]
    },
    {
     "data": {
      "text/plain": [
       "[0, 1, 0, 1, 0, 1]"
      ]
     },
     "execution_count": 30,
     "metadata": {},
     "output_type": "execute_result"
    }
   ],
   "source": [
    "n=int(input())\n",
    "l=[]\n",
    "for i in range(n):\n",
    "    if i%2==0:\n",
    "        l.append(0)\n",
    "    else:\n",
    "        l.append(1)\n",
    "l"
   ]
  },
  {
   "cell_type": "code",
   "execution_count": 31,
   "id": "227393da-4ebe-4b61-8dc9-8ec1fee624d5",
   "metadata": {},
   "outputs": [],
   "source": [
    "#50. Merge multiple sets into one."
   ]
  },
  {
   "cell_type": "code",
   "execution_count": 33,
   "id": "54902b54-cf1a-4b69-96e1-04cff81bec78",
   "metadata": {},
   "outputs": [
    {
     "data": {
      "text/plain": [
       "{1, 2, 3, 4, 5, 6, 7, 8, 9}"
      ]
     },
     "execution_count": 33,
     "metadata": {},
     "output_type": "execute_result"
    }
   ],
   "source": [
    "s1={1,2,3}\n",
    "s2={4,5,6}\n",
    "s3={7,8,9}\n",
    "s4=s1.union(s2,s3)\n",
    "s4\n"
   ]
  },
  {
   "cell_type": "code",
   "execution_count": null,
   "id": "b9266b93-ac1f-4236-ada1-055cf0f6125c",
   "metadata": {},
   "outputs": [],
   "source": []
  }
 ],
 "metadata": {
  "kernelspec": {
   "display_name": "Python 3 (ipykernel)",
   "language": "python",
   "name": "python3"
  },
  "language_info": {
   "codemirror_mode": {
    "name": "ipython",
    "version": 3
   },
   "file_extension": ".py",
   "mimetype": "text/x-python",
   "name": "python",
   "nbconvert_exporter": "python",
   "pygments_lexer": "ipython3",
   "version": "3.10.8"
  }
 },
 "nbformat": 4,
 "nbformat_minor": 5
}
