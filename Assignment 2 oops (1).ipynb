{
 "cells": [
  {
   "cell_type": "code",
   "execution_count": null,
   "id": "7349f57d-0e66-4b7a-990f-6d24bdca42d5",
   "metadata": {},
   "outputs": [],
   "source": [
    "                                           TOPIC-Constructor:"
   ]
  },
  {
   "cell_type": "code",
   "execution_count": null,
   "id": "5185c6a1-9892-4e34-b294-2e795a9625d5",
   "metadata": {},
   "outputs": [],
   "source": [
    "1. What is a constructor in Python? Explain its purpose and usage."
   ]
  },
  {
   "cell_type": "code",
   "execution_count": null,
   "id": "f3e8ad15-07c4-49b0-b7a4-e2928759ae50",
   "metadata": {},
   "outputs": [],
   "source": [
    "Ans: constructor is a special method within a class that initializes and sets up the attributes of an object when the object is created.\n",
    "It's named __init__() and is called automatically when you create an instance of a class. \n",
    "\n",
    "Purpose:\n",
    " The primary purpose of a constructor is to prepare the new object by assigning initial values to its attributes\n",
    "# usage"
   ]
  },
  {
   "cell_type": "code",
   "execution_count": 8,
   "id": "ac90bc43-07e0-489d-be34-b17aa50d38ff",
   "metadata": {},
   "outputs": [
    {
     "name": "stdout",
     "output_type": "stream",
     "text": [
      "Name of the person Amrit\n",
      "Account number of the person 132434525\n",
      "Adharr number of individual 1314440\n"
     ]
    }
   ],
   "source": [
    "# step 1 creating the class bank\n",
    "class bank:\n",
    "# step 2 creating the constructor  to initialize attributes to object of class\n",
    "    def __init__(self, name, account_number, adharr_id):\n",
    "        self.name=name\n",
    "        self.account_number=account_number\n",
    "        self.adharr_id=adharr_id\n",
    "# step 3  creating the  founction to display \n",
    "    def display(self):\n",
    "        print(\"Name of the person\", self.name)\n",
    "        print(\"Account number of the person\",self.account_number)\n",
    "        print(\"Adharr number of individual\",self.adharr_id)\n",
    "# example usge\n",
    "f=bank(\"Amrit\",132434525,1314440)\n",
    "f.display()\n",
    "\n",
    "    \n",
    "        "
   ]
  },
  {
   "cell_type": "code",
   "execution_count": null,
   "id": "da1d6ffa-806f-4076-8f6e-7a6f906fa7db",
   "metadata": {},
   "outputs": [],
   "source": [
    "2. Differentiate between a parameterless constructor and a parameterized constructor in Python"
   ]
  },
  {
   "cell_type": "code",
   "execution_count": null,
   "id": "181e664e-a1a2-42f1-be30-d7baef7d0734",
   "metadata": {},
   "outputs": [],
   "source": [
    "Ans:\n",
    "1.Parameterless constructor:\n",
    "    1. As a name suggest  there is no arguements it's arguement less  constuctor\n",
    "    2.it's initialize as we create object of a class\n",
    "    3.This constructor initializes the object with default values or performs certain default operations.\n",
    "Example usage:"
   ]
  },
  {
   "cell_type": "code",
   "execution_count": 15,
   "id": "204ddfb2-c979-43cb-be6b-0b96f10518e1",
   "metadata": {},
   "outputs": [],
   "source": [
    "class amrit:\n",
    "    def __init__(self):\n",
    "        self.value =0\n",
    "v=amrit()\n",
    "\n"
   ]
  },
  {
   "cell_type": "code",
   "execution_count": null,
   "id": "d1ce701f-a1fe-472e-a9ec-97b75857af13",
   "metadata": {},
   "outputs": [],
   "source": [
    "2. parameterized constructor:\n",
    "    1. In parameterized constructor have  we have arguements to pass.\n",
    "    2.It initializes the object's attributes using the provided arguments.\n",
    "Exaample Usage:"
   ]
  },
  {
   "cell_type": "code",
   "execution_count": 16,
   "id": "91ad2e81-14c8-4157-9731-e3feb7035078",
   "metadata": {},
   "outputs": [
    {
     "name": "stdout",
     "output_type": "stream",
     "text": [
      "Name of the person Amrit\n",
      "Account number of the person 132434525\n",
      "Adharr number of individual 1314440\n"
     ]
    }
   ],
   "source": [
    "# step 1 creating the class bank\n",
    "class bank:\n",
    "# step 2 creating the constructor  to initialize attributes to object of class\n",
    "    def __init__(self, name, account_number, adharr_id):\n",
    "        self.name=name\n",
    "        self.account_number=account_number\n",
    "        self.adharr_id=adharr_id\n",
    "# step 3  creating the  founction to display \n",
    "    def display(self):\n",
    "        print(\"Name of the person\", self.name)\n",
    "        print(\"Account number of the person\",self.account_number)\n",
    "        print(\"Adharr number of individual\",self.adharr_id)\n",
    "# example usge\n",
    "f=bank(\"Amrit\",132434525,1314440)\n",
    "f.display()\n",
    "\n",
    "    \n",
    "        "
   ]
  },
  {
   "cell_type": "code",
   "execution_count": null,
   "id": "4df79cb2-bae5-411c-9217-e67afcfb2f3e",
   "metadata": {},
   "outputs": [],
   "source": [
    "3. How do you define a constructor in a Python class? Provide an example."
   ]
  },
  {
   "cell_type": "code",
   "execution_count": null,
   "id": "b158d789-77c8-4dce-828c-5bf59ba9028a",
   "metadata": {},
   "outputs": [],
   "source": [
    "Ans: constructor is defined using a special method called __init__(). This method is automatically invoked when an object of the class is created. It's used to initialize the object's attributes or \n",
    "perform any necessary setup during object creation.\n"
   ]
  },
  {
   "cell_type": "code",
   "execution_count": 17,
   "id": "7417f44e-c239-43b1-88e5-dcec4c728c29",
   "metadata": {},
   "outputs": [
    {
     "name": "stdout",
     "output_type": "stream",
     "text": [
      "Name of the person Amrit\n",
      "Account number of the person 132434525\n",
      "Adharr number of individual 1314440\n"
     ]
    }
   ],
   "source": [
    "# step 1 creating the class bank\n",
    "class bank:\n",
    "# step 2 creating the constructor  to initialize attributes to object of class\n",
    "    def __init__(self, name, account_number, adharr_id):\n",
    "        self.name=name\n",
    "        self.account_number=account_number\n",
    "        self.adharr_id=adharr_id\n",
    "# step 3  creating the  founction to display \n",
    "    def display(self):\n",
    "        print(\"Name of the person\", self.name)\n",
    "        print(\"Account number of the person\",self.account_number)\n",
    "        print(\"Adharr number of individual\",self.adharr_id)\n",
    "# example usge\n",
    "f=bank(\"Amrit\",132434525,1314440)\n",
    "f.display()\n"
   ]
  },
  {
   "cell_type": "code",
   "execution_count": null,
   "id": "90a2fb79-cc65-4535-9f6a-22ff127f1274",
   "metadata": {},
   "outputs": [],
   "source": [
    "4. Explain the `__init__` method in Python and its role in constructors"
   ]
  },
  {
   "cell_type": "code",
   "execution_count": null,
   "id": "98437596-6f2b-46bd-8a6a-cccbb75c01e1",
   "metadata": {},
   "outputs": [],
   "source": [
    "ANS: IN python constructor is defined by using the special  method is called __init__() , this method automatically invoked when object is created\n",
    " It's used to initialize the object's attributes or perform any necessary setup during object creation."
   ]
  },
  {
   "cell_type": "code",
   "execution_count": null,
   "id": "c8074cb8-07c7-41fd-a56f-d5196ae710c2",
   "metadata": {},
   "outputs": [],
   "source": [
    "1. Constructor Functionality:'The '__init__' method  is used to perform initialization\n",
    "tasks upon object creation . it's set_up  inital values for the object attribute\n",
    "2. Automatic Invocation: when object is created of a class it automatically calls the'__init__' method \n",
    "3. parametrs : The __init__ method accepts the parameter , which refer's to instace of the class\n",
    "4. Role in Constructor: It's crucial for setting initial values or performing any setup actions necessary before using the object\n",
    "Example usage:"
   ]
  },
  {
   "cell_type": "code",
   "execution_count": 18,
   "id": "37fc670b-20a5-487d-bb52-9c9e0ddd6281",
   "metadata": {},
   "outputs": [
    {
     "name": "stdout",
     "output_type": "stream",
     "text": [
      "Name of the person Amrit\n",
      "Account number of the person 132434525\n",
      "Adharr number of individual 1314440\n"
     ]
    }
   ],
   "source": [
    "# step 1 creating the class bank\n",
    "class bank:\n",
    "# step 2 creating the constructor  to initialize attributes to object of class\n",
    "    def __init__(self, name, account_number, adharr_id):\n",
    "        self.name=name\n",
    "        self.account_number=account_number\n",
    "        self.adharr_id=adharr_id\n",
    "# step 3  creating the  founction to display \n",
    "    def display(self):\n",
    "        print(\"Name of the person\", self.name)\n",
    "        print(\"Account number of the person\",self.account_number)\n",
    "        print(\"Adharr number of individual\",self.adharr_id)\n",
    "# example usge\n",
    "f=bank(\"Amrit\",132434525,1314440)\n",
    "f.display()"
   ]
  },
  {
   "cell_type": "code",
   "execution_count": null,
   "id": "48f7d4d5-419c-4123-b586-c06ac685ebec",
   "metadata": {},
   "outputs": [],
   "source": [
    "5. In a class named `Person`, create a constructor that initializes the `name` and `age` attributes. Provide an \n",
    "example of creating an object of this class"
   ]
  },
  {
   "cell_type": "code",
   "execution_count": 19,
   "id": "c13cbc79-f7d5-441c-8547-bef3a5e95062",
   "metadata": {},
   "outputs": [
    {
     "name": "stdout",
     "output_type": "stream",
     "text": [
      "name of the person Amrit Singh Rajwat \n",
      "Age of the person 100\n"
     ]
    }
   ],
   "source": [
    "#step 1 creating the class person\n",
    "class person:\n",
    "#step 2 creating the constructor\n",
    "    def __init__(self, name, age):\n",
    "        self.name=name\n",
    "        self.age=age\n",
    "        print(\"name of the person\", self.name)\n",
    "        print(\"Age of the person\", self.age)\n",
    "#step 3 creating the object of class person\n",
    "p=person(\"Amrit Singh Rajwat \", \"100\")\n",
    "\n",
    "\n",
    "        \n",
    "    "
   ]
  },
  {
   "cell_type": "code",
   "execution_count": null,
   "id": "1032fd38-a734-4ee4-8a20-d6c7e78f46ee",
   "metadata": {},
   "outputs": [],
   "source": [
    " 6.How can you call a constructor explicitly in Python? Give an example."
   ]
  },
  {
   "cell_type": "code",
   "execution_count": null,
   "id": "0ade92fe-87b8-4c82-bea7-4052d412de47",
   "metadata": {},
   "outputs": [],
   "source": [
    "In Python  we don't usually call constructor explicitdly, python discourage it.\n",
    "However, you can indirectly call the constructor of a class through inheritance or within another method of the class.\n",
    "example :"
   ]
  },
  {
   "cell_type": "code",
   "execution_count": 23,
   "id": "8743fa48-9d51-427d-8737-852abf93015d",
   "metadata": {},
   "outputs": [
    {
     "name": "stdout",
     "output_type": "stream",
     "text": [
      "Constructor called\n",
      "Constructor called\n"
     ]
    }
   ],
   "source": [
    "# step1   creating the class MYclass\n",
    "class MyClass:\n",
    "# step 2  creating the constuctor  \n",
    "    def __init__(self):\n",
    "        print(\"Constructor called\")\n",
    "\n",
    "    def call_constructor_explicitly(self):\n",
    "#step 3  Calling the constructor within another method\n",
    "        self.__init__()\n",
    "\n",
    "#step 4  Creating an object of the class\n",
    "obj = MyClass()\n",
    "\n",
    "#step 5  Calling the constructor explicitly using a method\n",
    "obj.call_constructor_explicitly()\n",
    "\n",
    "        "
   ]
  },
  {
   "cell_type": "code",
   "execution_count": null,
   "id": "dfd9a8da-664c-4df8-906a-7a40b655c9ab",
   "metadata": {},
   "outputs": [],
   "source": [
    "7. What is the significance of the `self` parameter in Python constructors? Explain with an example."
   ]
  },
  {
   "cell_type": "code",
   "execution_count": null,
   "id": "99b2e7b5-8a81-4a21-b949-5b8256c2daf0",
   "metadata": {},
   "outputs": [],
   "source": [
    "Ans: In python the 'self' parameter in constructor and methods refers to the \n",
    "instace of class itself.The self parameter allows diffrent instances of the same class to have thier own \n",
    "distict attributes and state\n",
    "Example Below where self is used:"
   ]
  },
  {
   "cell_type": "code",
   "execution_count": 24,
   "id": "4a91a738-f338-4594-8606-a6df6c0714bc",
   "metadata": {},
   "outputs": [
    {
     "name": "stdout",
     "output_type": "stream",
     "text": [
      "Name of the person Amrit\n",
      "Account number of the person 132434525\n",
      "Adharr number of individual 1314440\n"
     ]
    }
   ],
   "source": [
    "# step 1 creating the class bank\n",
    "class bank:\n",
    "# step 2 creating the constructor  to initialize attributes to object of class\n",
    "    def __init__(self, name, account_number, adharr_id):\n",
    "        self.name=name\n",
    "        self.account_number=account_number\n",
    "        self.adharr_id=adharr_id\n",
    "# step 3  creating the  founction to display \n",
    "    def display(self):\n",
    "        print(\"Name of the person\", self.name)\n",
    "        print(\"Account number of the person\",self.account_number)\n",
    "        print(\"Adharr number of individual\",self.adharr_id)\n",
    "# example usge\n",
    "f=bank(\"Amrit\",132434525,1314440)\n",
    "f.display()"
   ]
  },
  {
   "cell_type": "code",
   "execution_count": null,
   "id": "2e9bb60b-9286-4671-8787-aa3b5a4b51a7",
   "metadata": {},
   "outputs": [],
   "source": [
    "The self parameter is vital in Python classes as it enables proper encapsulation by allowing each instance of the class to manage its own state separately. \n",
    "It ensures that attributes and methods of a class operate on the specific instance they are called upon, facilitating object-oriented programming principles."
   ]
  },
  {
   "cell_type": "code",
   "execution_count": null,
   "id": "4872068a-4edc-43c6-8f7f-f9d4934a566f",
   "metadata": {},
   "outputs": [],
   "source": [
    "8. Discuss the concept of default constructors in Python. When are they used?"
   ]
  },
  {
   "cell_type": "code",
   "execution_count": null,
   "id": "0ab82a0b-5db1-4fe7-bd77-8db541020da0",
   "metadata": {},
   "outputs": [],
   "source": [
    "ANS: Python have diffrent case it's not like the other programming languages. ptython dose'nt default constructor in the \n",
    "conventional sense. but it uses the'__init__' method to perform initialization\n",
    "when creating the object  of a class , python provide __init__ method\n",
    "\n",
    "1. __init__ Method as Constructor: In Python, the __init__ method serves as the constructor for a class. It's automatically \n",
    "called when an instance of the class is created. This method initializes the object's attributes or performs setup operations when\n",
    "the object is instantiated.\n",
    "2.Usage: Default constructors (implicit or explicit) are used when you want to create instances of a class without specifying any specific\n",
    "initialization parameters or setup logic. They allow the creation of objects without any mandatory initialization requirements."
   ]
  },
  {
   "cell_type": "code",
   "execution_count": null,
   "id": "b0876398-7d2b-440c-a659-da93c8778e95",
   "metadata": {},
   "outputs": [],
   "source": [
    "class MyClass:\n",
    "    # No explicit __init__ method defined\n",
    "\n",
    "# Creating an object of the class using the default constructor\n",
    "obj = MyClass()\n"
   ]
  },
  {
   "cell_type": "code",
   "execution_count": null,
   "id": "4cc49a8d-6b93-4fbe-aef1-fbbca6c63b80",
   "metadata": {},
   "outputs": [],
   "source": [
    "__init__ method explicitly in a class to handle initialization of attributes or any necessary setup when creating instances. This ensures clarity\n",
    "and explicitness in defining how objects of the class should be initialized and set up upon instantiation"
   ]
  },
  {
   "cell_type": "code",
   "execution_count": null,
   "id": "e3ffa16a-3a8e-4f3a-ade3-98e8e652e1c5",
   "metadata": {},
   "outputs": [],
   "source": [
    "9. Create a Python class called `Rectangle` with a constructor that initializes the `width` and `height` attributes. Provide a method to calculate the area of the rectangle"
   ]
  },
  {
   "cell_type": "code",
   "execution_count": 29,
   "id": "9b9bf8fc-af20-45a7-a486-377d5af78971",
   "metadata": {},
   "outputs": [
    {
     "data": {
      "text/plain": [
       "1035"
      ]
     },
     "execution_count": 29,
     "metadata": {},
     "output_type": "execute_result"
    }
   ],
   "source": [
    "# step 1 creating the class Rectangle\n",
    "class Rectangle:\n",
    "# step 2 deining the  constructor  \n",
    "    def __init__(self, width,height):\n",
    "        self.width=width\n",
    "        self.height=height\n",
    "# step 3  calculate area\n",
    "    def area(self):\n",
    "        return self.height*self.width\n",
    "# example usage\n",
    "r=Rectangle(23,45)\n",
    "r.area()\n"
   ]
  },
  {
   "cell_type": "code",
   "execution_count": null,
   "id": "8492dd01-06a8-47cd-807e-c2c80181f6c6",
   "metadata": {},
   "outputs": [],
   "source": [
    "10. How can you have multiple constructors in a Python class? Explain with an example"
   ]
  },
  {
   "cell_type": "code",
   "execution_count": null,
   "id": "8d407690-3176-49c7-926b-8cc426781945",
   "metadata": {},
   "outputs": [],
   "source": [
    "Using Default Parameter Values:\n",
    "    One common approach is to define default values for some parameters in the constructor, allowing the creation of objects in different ways."
   ]
  },
  {
   "cell_type": "code",
   "execution_count": 34,
   "id": "a0ec3886-39de-4612-adf8-4bcb72f112e5",
   "metadata": {},
   "outputs": [
    {
     "name": "stdout",
     "output_type": "stream",
     "text": [
      "Name of the person Amrit\n",
      "Account number of the person 132434525\n",
      "Adharr number of individual 1314440\n"
     ]
    }
   ],
   "source": [
    "# step 1 creating the class bank\n",
    "class bank:\n",
    "# step 2 creating the constructor  to initialize attributes to object of class\n",
    "    def __init__(self, name, account_number, adharr_id):\n",
    "        self.name=name\n",
    "        self.account_number=account_number\n",
    "        self.adharr_id=adharr_id\n",
    "# step 3  creating the  founction to display \n",
    "    def display(self):\n",
    "        print(\"Name of the person\", self.name)\n",
    "        print(\"Account number of the person\",self.account_number)\n",
    "        print(\"Adharr number of individual\",self.adharr_id)\n",
    "# example usge\n",
    "f=bank(\"Amrit\",132434525,1314440)\n",
    "f.display()"
   ]
  },
  {
   "cell_type": "code",
   "execution_count": null,
   "id": "7bc478e8-5c0c-4ff3-85b1-a37abb36cd26",
   "metadata": {},
   "outputs": [],
   "source": [
    "USING Class Methods:\n",
    "    Another way is to use class methods as alternative constructors. \n",
    "    These methods create instances of the class and provide different ways to initialize the object."
   ]
  },
  {
   "cell_type": "code",
   "execution_count": 40,
   "id": "1d3fe717-837c-48d4-8d8d-c5438dd164e9",
   "metadata": {},
   "outputs": [
    {
     "name": "stdout",
     "output_type": "stream",
     "text": [
      "John\n",
      "Doe\n"
     ]
    }
   ],
   "source": [
    "# step1 creating the class person\n",
    "class Person:\n",
    "# step2  creating the constructor \n",
    "    def __init__(self, name, age):\n",
    "        self.name = name\n",
    "        self.age = age\n",
    "# step3 calling the class methods\n",
    "    @classmethod\n",
    "    def from_full_name(cls, full_name):\n",
    "        name, age = full_name.split()\n",
    "        return cls(name, age)\n",
    "\n",
    "person = Person.from_full_name(\"John Doe\")\n",
    "print(person.name)  # \"John\"\n",
    "print(person.age)  # 30"
   ]
  },
  {
   "cell_type": "code",
   "execution_count": null,
   "id": "5baaa6ac-9f57-401e-b5aa-eb16d73305f8",
   "metadata": {},
   "outputs": [],
   "source": [
    "11. What is method overloading, and how is it related to constructors in Python?"
   ]
  },
  {
   "cell_type": "code",
   "execution_count": null,
   "id": "d1d9c342-1679-47b5-b057-b31cd0cc6306",
   "metadata": {},
   "outputs": [],
   "source": [
    "Method overloading is a feature in object-oriented programming that allows multiple methods in a class to have the same name but different parameters. This allows for the creation of multiple methods with similar functionality but different input parameters\n",
    "When it comes to constructors (initializers) in Python, there's no method overloading for constructors in the way it exists in languages like Java, where you can have multiple constructors with different parameter lists. In Python, you can use default parameter \n",
    "values or keyword arguments to create similar effects to constructor overloading.\n",
    "example bwlow:"
   ]
  },
  {
   "cell_type": "code",
   "execution_count": 3,
   "id": "964aefda-6e69-4d60-aafa-d69e52244f6c",
   "metadata": {},
   "outputs": [],
   "source": [
    "# step1  creating the class \n",
    "class MyClass:\n",
    "    def __init__(self, param1=None, param2=None):\n",
    "        if param1 is not None and param2 is not None:\n",
    "            # step 2  Constructor with two parameters\n",
    "            self.param1 = param1\n",
    "            self.param2 = param2\n",
    "        elif param1 is not None:\n",
    "            # step 3 Constructor with only one parameter\n",
    "            self.param1 = param1\n",
    "            self.param2 = \"default_value\"\n",
    "        else:\n",
    "            # step 4 Default constructor\n",
    "            self.param1 = \"default_value\"\n",
    "            self.param2 = \"default_value\"\n",
    "\n",
    "#tep 5  Creating objects using different constructor scenarios\n",
    "obj1 = MyClass()  # step6  Uses default values for params\n",
    "obj2 = MyClass(10)  # step 7  Uses the first parameter and default value for the second\n",
    "obj3 = MyClass(20, 30)#step 8 Uses both parameters\n"
   ]
  },
  {
   "cell_type": "code",
   "execution_count": null,
   "id": "b4db3bff-c2ec-4cca-a2a7-9d9b098e8457",
   "metadata": {},
   "outputs": [],
   "source": [
    "So while Python does not have traditional method overloading or constructor overloading like some other languages, you can achieve similar effects by using default parameter values or \n",
    "by checking the number and types of arguments passed to the method."
   ]
  },
  {
   "cell_type": "code",
   "execution_count": null,
   "id": "a4e7b9d9-be47-4b19-81b0-be5750cd2231",
   "metadata": {},
   "outputs": [],
   "source": [
    "12. Explain the use of the `super()` function in Python constructors. Provide an example"
   ]
  },
  {
   "cell_type": "code",
   "execution_count": null,
   "id": "776e7afa-4faf-4d2e-83ca-7aaeb3c27b60",
   "metadata": {},
   "outputs": [],
   "source": [
    "In python super() is used to acees the founction of parent class  by parent class\n",
    "It's often used in the context of constructors (__init__ method) to invoke the superclass constructor and perform\n",
    "initialization that's defined in the parent class before adding any specific behavior in the child class\n",
    "example below."
   ]
  },
  {
   "cell_type": "code",
   "execution_count": 4,
   "id": "bae325e6-3c84-4829-8824-26123d97299d",
   "metadata": {},
   "outputs": [
    {
     "name": "stdout",
     "output_type": "stream",
     "text": [
      "Value of x in ParentClass: 10\n",
      "Value of y in ChildClass: 20\n"
     ]
    }
   ],
   "source": [
    "# step 1  creating the parent class \n",
    "class ParentClass:\n",
    "    def __init__(self, x):\n",
    "        self.x = x\n",
    "\n",
    "    def display(self):\n",
    "        print(f\"Value of x in ParentClass: {self.x}\")\n",
    "# step 2 creating the parent class \n",
    "class ChildClass(ParentClass):\n",
    "    def __init__(self, x, y):\n",
    "        super().__init__(x)  #  step 3 Calling the ParentClass constructor\n",
    "        self.y = y\n",
    "\n",
    "    def display(self):\n",
    "        super().display()  #  step 4 Calling the ParentClass display method\n",
    "        print(f\"Value of y in ChildClass: {self.y}\")\n",
    "\n",
    "\n",
    "# step 5 Creating an object of ChildClass\n",
    "obj = ChildClass(10, 20)\n",
    "obj.display()\n"
   ]
  },
  {
   "cell_type": "code",
   "execution_count": null,
   "id": "4ced870c-a448-4b0e-8c37-bb9c5d9a2878",
   "metadata": {},
   "outputs": [],
   "source": [
    "13. Create a class called `Book` with a constructor that initializes the `title`, `author`, and `published_year` \n",
    "attributes. Provide a method to display book details"
   ]
  },
  {
   "cell_type": "code",
   "execution_count": 8,
   "id": "b675665b-1e88-499c-9312-e8bea6425135",
   "metadata": {},
   "outputs": [
    {
     "name": "stdout",
     "output_type": "stream",
     "text": [
      "Tittle of the book jungle book\n",
      "Author of the book Amrit\n",
      "Publish year of the book 1988\n"
     ]
    }
   ],
   "source": [
    "# step 1 creating the class of book\n",
    "class book:\n",
    "# step 2 creating the constructor of book\n",
    "    def __init__(self, title, author,publish_year):\n",
    "        self.title=title\n",
    "        self.author=author \n",
    "        self.publish_year=publish_year\n",
    "    \n",
    "# step  3 displaying the details of book \n",
    "    def dispaly_details(self):\n",
    "        print(\"Tittle of the book\", self.title)\n",
    "        print(\"Author of the book\", self.author)\n",
    "        print(\"Publish year of the book\", self.publish_year)\n",
    "# example usage\n",
    "b=book(\"jungle book\", \"Amrit\", 1988)\n",
    "b.dispaly_details()\n",
    "\n",
    "    "
   ]
  },
  {
   "cell_type": "code",
   "execution_count": null,
   "id": "f83a87c5-48ff-4891-938a-4d3d02e8e55d",
   "metadata": {},
   "outputs": [],
   "source": [
    "14. Discuss the differences between constructors and regular methods in Python classes"
   ]
  },
  {
   "cell_type": "code",
   "execution_count": null,
   "id": "32c8228e-38dd-4c1f-82db-836ed1937ed7",
   "metadata": {},
   "outputs": [],
   "source": [
    "\n",
    "Purpose:\n",
    "    1.constructor:Constructors (__init__): Constructors are special methods in a class used for initializing object\n",
    "attributes or performing setup tasks when an object is created.\n",
    "They are called automatically when an object is instantiated.\n",
    "1. Regular method: regular method are the founction created in the class that perform specific actions or computations  on onjects arttributes\n",
    "Nmaing Syntax:\n",
    "    1. constructor: In Python, constructors are named __init__. They are invoked automatically when an instance of a class is created.\n",
    "    2. Regular Methods:egular methods have arbitrary names and can take arguments other than self. They are explicitly called on an instance of a \n",
    "    class.\n",
    "Usage:\n",
    "    1.Constructors: Used for initializing instance variables or performing initial setup when an object is created. They are not explicitly\n",
    "    called by the user; they're automatically invoked upon object instantiation.\n",
    "    2.Regular methods: Used to perform various operations or computations on object attributes. \n",
    "\n",
    "Return Value: \n",
    "    1.Constructors: Typically, constructors don't return any value explicitly. They are meant for initializing object state.\n",
    "    2.Regular methods: Can return values or perform actions within the method and may or may not modify the object's state\n",
    "\n",
    "\n",
    "EXample below:"
   ]
  },
  {
   "cell_type": "code",
   "execution_count": 11,
   "id": "3dff0555-8866-4037-b2b8-68eddf83d096",
   "metadata": {},
   "outputs": [
    {
     "name": "stdout",
     "output_type": "stream",
     "text": [
      "Name of the person Amrit\n",
      "Account number of the person 132434525\n",
      "Adharr number of individual 1314440\n"
     ]
    }
   ],
   "source": [
    "# step 1 creating the class bank\n",
    "class bank:\n",
    "# step 2 creating the constructor  to initialize attributes to object of class\n",
    "    def __init__(self, name, account_number, adharr_id):\n",
    "        self.name=name\n",
    "        self.account_number=account_number\n",
    "        self.adharr_id=adharr_id\n",
    "# step 3  creating the  founction to display # redgular method for further computation\n",
    "    def display(self):\n",
    "        print(\"Name of the person\", self.name)\n",
    "        print(\"Account number of the person\",self.account_number)\n",
    "        print(\"Adharr number of individual\",self.adharr_id)\n",
    "# example usge\n",
    "f=bank(\"Amrit\",132434525,1314440)\n",
    "f.display()oi   "
   ]
  },
  {
   "cell_type": "code",
   "execution_count": null,
   "id": "57d2efda-1474-4b0f-8100-9cfb091eb438",
   "metadata": {},
   "outputs": [],
   "source": [
    "15. Explain the role of the `self` parameter in instance variable initialization within a constructor"
   ]
  },
  {
   "cell_type": "code",
   "execution_count": null,
   "id": "fb74e9ef-9836-41f3-8516-365670449964",
   "metadata": {},
   "outputs": [],
   "source": [
    "ANS:In Python, the self parameter in a class constructor (__init__ method) plays a crucial role in initializing instance variables. When defining a method within a class, including the constructor, the first parameter of the method is always self, which refers to the instance of the class itself.\n",
    "The self parameter is used to refer to the current instance of the class. Within the constructor, it allows you to access and set instance variables specific to that particular instance of the class.\n",
    "The use of self within the constructor or any other method allows you to differentiate between instance variables (specific to each object) and local variables (limited to the scope of that particular method)."
   ]
  },
  {
   "cell_type": "code",
   "execution_count": null,
   "id": "0f079bde-3537-413a-9f61-d7e0c293d23f",
   "metadata": {},
   "outputs": [],
   "source": [
    "16. How do you prevent a class from having multiple instances by using constructors in Python? Provide an \n",
    "example"
   ]
  },
  {
   "cell_type": "code",
   "execution_count": null,
   "id": "f1474c6b-765e-45d3-9003-c2b3b95d87e7",
   "metadata": {},
   "outputs": [],
   "source": [
    "Ans : In python youu can prevent a class from having the multiple instances by implemntation design pattern called singleton pattern .\n",
    "the single pattern  ensure that class has only one instance throughout the entire program's execution .this is \n",
    "acheived by controlling the instanttiation process, within constructor \n",
    "example Below:"
   ]
  },
  {
   "cell_type": "code",
   "execution_count": 12,
   "id": "6b98b815-f208-4851-9b95-7ee5e254765d",
   "metadata": {},
   "outputs": [
    {
     "name": "stdout",
     "output_type": "stream",
     "text": [
      "10\n",
      "20\n",
      "True\n"
     ]
    }
   ],
   "source": [
    "# step1  creeating the class singleton \n",
    "class Singleton:\n",
    "    _instance = None\n",
    "# step  2 creating the  founction \n",
    "    def __new__(cls, *args, **kwargs):\n",
    "        if not cls._instance:\n",
    "            cls._instance = super().__new__(cls)\n",
    "        return cls._instance\n",
    "# step 3 creating the  constructor \n",
    "    def __init__(self, value):\n",
    "        self.value = value\n",
    "\n",
    "\n",
    "# Usage\n",
    "obj1 = Singleton(10)\n",
    "print(obj1.value)  # Output: 10\n",
    "\n",
    "obj2 = Singleton(20)\n",
    "print(obj2.value)  # Output: 10 (value from obj1)\n",
    "\n",
    "print(obj1 is obj2)  # Output: True (both obj1 and obj2 refer to the same instance)\n"
   ]
  },
  {
   "cell_type": "code",
   "execution_count": null,
   "id": "30110530-e934-4dad-bc0e-6662f1480253",
   "metadata": {},
   "outputs": [],
   "source": [
    "In the Singleton class, the __new__ method is overridden to control the creation of instances. It checks whether the _instance attribute is None. If _instance doesn't exist, it creates a new instance using super().__new__(cls).\n",
    "The __init__ method initializes the value attribute when the instance is created.\n",
    "When obj1 and obj2 are created, they both refer to the same instance because the Singleton class ensures that only one instance is created."
   ]
  },
  {
   "cell_type": "code",
   "execution_count": null,
   "id": "f408e0e6-2834-4834-8c6a-f419b3cf8b86",
   "metadata": {},
   "outputs": [],
   "source": [
    "17. Create a Python class called `Student` with a constructor that takes a list of subjects as a parameter and \n",
    "initializes the `subjects` attribute."
   ]
  },
  {
   "cell_type": "code",
   "execution_count": 13,
   "id": "94f1c121-4654-4519-bd46-f4213e3e6833",
   "metadata": {},
   "outputs": [
    {
     "name": "stdout",
     "output_type": "stream",
     "text": [
      "['Math', 'Science', 'History']\n"
     ]
    }
   ],
   "source": [
    "# step1  creating the student class\n",
    "class Student:\n",
    "# step 2  creating the function\n",
    "    def __init__(self, subjects):\n",
    "        self.subjects = subjects\n",
    "\n",
    "# Example usage:\n",
    "subjects_list = ['Math', 'Science', 'History']\n",
    "student1 = Student(subjects_list)\n",
    "print(student1.subjects)  # Output: ['Math', 'Science', 'History']\n"
   ]
  },
  {
   "cell_type": "code",
   "execution_count": null,
   "id": "6d3202d0-12b9-4ced-bb64-e10eb852a583",
   "metadata": {},
   "outputs": [],
   "source": [
    "18 What is the purpose of the `__del__` method in Python classes, and how does it relate to constructors"
   ]
  },
  {
   "cell_type": "code",
   "execution_count": null,
   "id": "d8c391ce-cb17-4ded-89d1-0ce7d6e326ca",
   "metadata": {},
   "outputs": [],
   "source": [
    "Ans: The '__del__' method is a destructor that part of the object lifecycle. its called when an object  is about to be destroyed\n",
    "or garbage collected .The method is used to perform  clean up actions release resources,or perform\n",
    "any ncessary finalization.While __init__ is called when an object is created, __del__ is invoked just before the object is destroyed.\n",
    "It's important to note that the __del__ method doesn't get called deterministically, as it's triggered by the garbage collector when the object is no longer referenced, so relying on it to release resources like file handles or connections isn't considered a good practice."
   ]
  },
  {
   "cell_type": "code",
   "execution_count": 1,
   "id": "e31a7123-1b70-4b66-bc4b-5f60032b3bd7",
   "metadata": {},
   "outputs": [
    {
     "name": "stdout",
     "output_type": "stream",
     "text": [
      "Initializing Object 1\n",
      "Initializing Object 2\n",
      "Destroying Object 1\n",
      "Destroying Object 2\n"
     ]
    }
   ],
   "source": [
    "# step 1  creating the class  \n",
    "class MyClass:\n",
    "#step 2 creating the  constructor \n",
    "    def __init__(self, name):\n",
    "        self.name = name\n",
    "        print(f\"Initializing {self.name}\")\n",
    "# step 3  creating the deletion founction for deleting the object created \n",
    "    def __del__(self):\n",
    "        print(f\"Destroying {self.name}\")\n",
    "\n",
    "#step 4  Creating instances of MyClass\n",
    "obj1 = MyClass(\"Object 1\")\n",
    "obj2 = MyClass(\"Object 2\")\n",
    "\n",
    "#step 5  Explicitly deleting the references to the objects\n",
    "del obj1\n",
    "del obj2\n"
   ]
  },
  {
   "cell_type": "code",
   "execution_count": null,
   "id": "bb7f38a0-8e33-4261-bff9-a20c2e202650",
   "metadata": {},
   "outputs": [],
   "source": [
    "19. Explain the use of constructor chaining in Python. Provide a practical example"
   ]
  },
  {
   "cell_type": "code",
   "execution_count": null,
   "id": "43f87873-5071-4b71-a317-497868346ff1",
   "metadata": {},
   "outputs": [],
   "source": [
    "Ans: Constructor chaining also known as method  chaining refers, to concept of one \n",
    "constructor  method calling another constructor  within same class hiearchy.In python , this is commonly\n",
    "achieved using the super() to call the constructor of parent class.This allow us to reuse the code in constructor of subclass\n",
    "while ensuring that the initialization logic of parent class also execute\n"
   ]
  },
  {
   "cell_type": "code",
   "execution_count": 4,
   "id": "7d7f3716-42ea-4e9a-99b4-f045bb30db47",
   "metadata": {},
   "outputs": [
    {
     "name": "stdout",
     "output_type": "stream",
     "text": [
      "ParentClass constructor called for Alice\n",
      "ChildClass constructor called for Alice, 25 years old\n"
     ]
    }
   ],
   "source": [
    "# step1  creating the parent class\n",
    "class ParentClass:\n",
    "    def __init__(self, name):\n",
    "        self.name = name\n",
    "        print(f\"ParentClass constructor called for {self.name}\")\n",
    "\n",
    "# step 2 creating the child class\n",
    "class ChildClass(ParentClass):\n",
    "    def __init__(self, name, age):\n",
    "        super().__init__(name)  # Calling the ParentClass constructor\n",
    "        self.age = age\n",
    "        print(f\"ChildClass constructor called for {self.name}, {self.age} years old\")\n",
    "\n",
    "# Creating an instance of ChildClass\n",
    "child_obj = ChildClass(\"Alice\", 25)\n",
    "\n",
    "    \n",
    "    "
   ]
  },
  {
   "cell_type": "code",
   "execution_count": null,
   "id": "e08a1517-9d8a-46f7-848b-adf0932146df",
   "metadata": {},
   "outputs": [],
   "source": [
    "20. Create a Python class called `Car` with a default constructor that initializes the `make` and `model` \n",
    "attributes. Provide a method to display car information"
   ]
  },
  {
   "cell_type": "code",
   "execution_count": 10,
   "id": "cea504ea-6e09-4cbd-bafa-23ad19126442",
   "metadata": {},
   "outputs": [
    {
     "name": "stdout",
     "output_type": "stream",
     "text": [
      "The name of the car 2009\n",
      "the model of the car xiv\n"
     ]
    }
   ],
   "source": [
    "# step 1 creating the class  car\n",
    "class car:\n",
    "    # step 2 creating the constructor\n",
    "    def __init__(self,make ,model):\n",
    "        self.make=make\n",
    "        self.model=model\n",
    "    # step 3 creating the  founction to display details\n",
    "    def display(self):\n",
    "        print(\"The name of the car\", self.make)\n",
    "        print(\"the model of the car\", self.model)\n",
    "# example usage\n",
    "c=car(\"2009\", \"xiv\")\n",
    "c.display()"
   ]
  },
  {
   "cell_type": "code",
   "execution_count": null,
   "id": "005f556e-6e73-41a1-9039-efdced75eecd",
   "metadata": {},
   "outputs": [],
   "source": [
    "                                                            Topic->Inheritance"
   ]
  },
  {
   "cell_type": "code",
   "execution_count": null,
   "id": "75a4a122-0783-40ce-8e3e-8fb106cc9f81",
   "metadata": {},
   "outputs": [],
   "source": [
    "What is inheritance in Python? Explain its significance in object-oriented programming."
   ]
  },
  {
   "cell_type": "code",
   "execution_count": null,
   "id": "53871f47-a611-4d73-8fe0-b8be96fecbdb",
   "metadata": {},
   "outputs": [],
   "source": [
    "Ans:Inheritance is the mechanism that allwows a clas to iherit properties\n",
    "and behaviour from another class. The class which inherit the is called subclass or derivesd class\n",
    "Significance of  inheritance over Oops"
   ]
  },
  {
   "cell_type": "code",
   "execution_count": null,
   "id": "556ce5ee-8ab5-40e2-8752-38080b7eef49",
   "metadata": {},
   "outputs": [],
   "source": [
    "1. code Reusablity:Inheritance help in reusing the proprerties, instead of writting the same code multiple times.\n",
    "2. Hierarchy and organization: It allows hierarchy of class es where class can inherit from thier ancestors\n",
    "3. polymorhishm:inheritance enables polymorphic behaviour allowing duffrent classes to inherit chracterstic from same base class\n",
    "4.Extensibility and Modifiability: As requirements change, derived classes can be easily modified or extended without affecting the base class."
   ]
  },
  {
   "cell_type": "code",
   "execution_count": null,
   "id": "288d9b2d-d5d7-4e22-b3bc-c9ff7d36b068",
   "metadata": {},
   "outputs": [],
   "source": [
    "2. Differentiate between single inheritance and multiple inheritance in Python. Provide examples for each"
   ]
  },
  {
   "cell_type": "code",
   "execution_count": null,
   "id": "78501296-4e62-4e43-881f-cb727e374300",
   "metadata": {},
   "outputs": [],
   "source": [
    "Single inheritance:\n",
    "    1.inherit single super class\n",
    "    2. forms linear hierarchy\n",
    "    3.Simpler and easy to manage\n",
    "    4. provides clear parent -child relationship\n",
    "example below of single inheritance"
   ]
  },
  {
   "cell_type": "code",
   "execution_count": 2,
   "id": "96670c73-90c1-4ad4-b4c9-611d7a756532",
   "metadata": {},
   "outputs": [
    {
     "name": "stdout",
     "output_type": "stream",
     "text": [
      "animal is good movie\n",
      "animal is good movie\n"
     ]
    }
   ],
   "source": [
    "# step 1  creating class named animal\n",
    "class Animal:\n",
    "    def animal(self):\n",
    "        print(\"animal is good movie\")\n",
    "# step 2  create class of birds and inherit it from the animal\n",
    "class birds(Animal):\n",
    "    def sound(self):\n",
    "        print(\"squeeky!\")\n",
    "# step3 creating the object of the classes\n",
    "a=Animal()\n",
    "a.animal()\n",
    "b=birds()\n",
    "b.animal()\n",
    "\n",
    "        "
   ]
  },
  {
   "cell_type": "code",
   "execution_count": null,
   "id": "f56bd133-cbba-4f4b-9a97-0232edeb3ee2",
   "metadata": {},
   "outputs": [],
   "source": [
    "2.Multi-Level inheritance:\n",
    "    1.Inherits from multiple superclass\n",
    "    2. Allow combining features from diffrent sources\n",
    "    3. can lead  to complexities in code \n",
    "    4. provides flexiblity but requires catious design to avoid ambiguity or the daimond problem\n",
    "Example Below:"
   ]
  },
  {
   "cell_type": "code",
   "execution_count": 3,
   "id": "caa4463a-f269-411d-b67e-a66bf5ec5329",
   "metadata": {},
   "outputs": [
    {
     "name": "stdout",
     "output_type": "stream",
     "text": [
      "Flying high\n",
      "Swimming gracefully\n"
     ]
    }
   ],
   "source": [
    "#  step 1 First parent class\n",
    "class Fly:\n",
    "    def fly(self):\n",
    "        print(\"Flying high\")\n",
    "\n",
    "#  step  2 Second parent class\n",
    "class Swim:\n",
    "    def swim(self):\n",
    "        print(\"Swimming gracefully\")\n",
    "\n",
    "# step 3  Derived class inheriting from both Fly and Swim\n",
    "class Duck(Fly, Swim):\n",
    "    pass  # Duck inherits both fly() and swim() methods\n",
    "\n",
    "# step 4 Creating an instance of Duck\n",
    "duck = Duck()\n",
    "duck.fly()   # Output: \"Flying high\"\n",
    "duck.swim()  # Output: \"Swimming gracefully\"\n"
   ]
  },
  {
   "cell_type": "code",
   "execution_count": null,
   "id": "7f29e0c5-7fc9-490e-a458-4b441a911805",
   "metadata": {},
   "outputs": [],
   "source": []
  },
  {
   "cell_type": "code",
   "execution_count": null,
   "id": "98d166b1-4eeb-4995-9240-651fec994a02",
   "metadata": {},
   "outputs": [],
   "source": [
    "3. Create a Python class called `Vehicle` with attributes `color` and `speed`. Then, create a child class called \n",
    "`Car` that inherits from `Vehicle` and adds a `brand` attribute. Provide an example of creating a `Car` object"
   ]
  },
  {
   "cell_type": "code",
   "execution_count": 4,
   "id": "400d33a4-21d1-40f3-a3f5-ccfa092d8d6d",
   "metadata": {},
   "outputs": [
    {
     "name": "stdout",
     "output_type": "stream",
     "text": [
      "color of the car red\n",
      "speed of the car  123\n",
      "Brand of the car  audi\n",
      "car brand audi car color  is red the maximum speed of a car 123\n"
     ]
    }
   ],
   "source": [
    "# step 1 creating the calss for vehicle\n",
    "class vehicle:\n",
    "    # step 2  creating the constructor with color , speed\n",
    "    def __init__(self,color,speed):\n",
    "        self.color=color\n",
    "        self.speed=speed\n",
    "        print(\"color of the car\",self.color )\n",
    "        print(\"speed of the car \", self.speed)\n",
    "class Car (vehicle):\n",
    "# step 3  creating the constructor \n",
    "    def  __init__(self,color, speed, brand):\n",
    "        super().__init__(color , speed)\n",
    "        self.brand=brand\n",
    "        print(\"Brand of the car \", self.brand)\n",
    "# creating car object\n",
    "car=Car(\"red\",123,\"audi\")\n",
    "print(\"car brand\", car.brand ,\"car color  is\",car.color,\"the maximum speed of a car\",car.speed)\n",
    "\n",
    "\n",
    "\n",
    "        \n",
    "    \n",
    "        "
   ]
  },
  {
   "cell_type": "code",
   "execution_count": null,
   "id": "b5ba12b0-5dcc-41a4-9020-40487d2f8bd3",
   "metadata": {},
   "outputs": [],
   "source": [
    "4. Explain the concept of method overriding in inheritance. Provide a practical example."
   ]
  },
  {
   "cell_type": "code",
   "execution_count": null,
   "id": "970338a7-7c89-4556-a469-be7e840c5028",
   "metadata": {},
   "outputs": [],
   "source": [
    "Ans: Method overidding  in inheritance refers to the  ablity of a subclass to provide a  specfic  implementation of \n",
    "method that already defined in its superclass . "
   ]
  },
  {
   "cell_type": "code",
   "execution_count": 6,
   "id": "4919a17d-5535-4a19-a9d0-adeaab04c1c6",
   "metadata": {},
   "outputs": [
    {
     "name": "stdout",
     "output_type": "stream",
     "text": [
      "peppppppp\n"
     ]
    }
   ],
   "source": [
    "# step 1 creating  the class car \n",
    "class car:\n",
    "# step 2  creating the founction \n",
    "    def sound(self):\n",
    "        print(\"peppppppp\")\n",
    "# step 3  creating the another class inherit it\n",
    "class motercycle(car):\n",
    "    def geer(self):\n",
    "        print(\"it have 4 gear\")\n",
    "c=car()\n",
    "c.sound()\n",
    "    "
   ]
  },
  {
   "cell_type": "code",
   "execution_count": null,
   "id": "dd7e3311-f069-471e-bbfb-07c0b246c2c2",
   "metadata": {},
   "outputs": [],
   "source": [
    "In above example  motercycle is subclass which  can acess the method of parent class it 's the example of method overidding in inheritance."
   ]
  },
  {
   "cell_type": "code",
   "execution_count": null,
   "id": "937cba7d-f054-45fa-84ab-dc8980d6c9ff",
   "metadata": {},
   "outputs": [],
   "source": [
    "5.How can you access the methods and attributes of a parent class from a child class in Python? Give an \n",
    "example"
   ]
  },
  {
   "cell_type": "code",
   "execution_count": null,
   "id": "6d3d5016-2905-4ddb-b736-8fea4913b14b",
   "metadata": {},
   "outputs": [],
   "source": [
    "ANs:In Python, you can access the methods and attributes of a parent class from a child class using the super()\n",
    "example below:"
   ]
  },
  {
   "cell_type": "code",
   "execution_count": 2,
   "id": "3cfa9fa7-e819-4d00-a955-6cedfe9e7b44",
   "metadata": {},
   "outputs": [
    {
     "name": "stdout",
     "output_type": "stream",
     "text": [
      "This is a method from the  child class\n",
      "This is  a method from the parent class\n",
      "This is  a method from the parent class\n",
      "child_value\n",
      "parent_value\n"
     ]
    }
   ],
   "source": [
    "# step 1  creating the parent classs\n",
    "class Parent:\n",
    "# step 2 creating the constructor \n",
    "    def __init__(self, value):\n",
    "        self.value= value\n",
    "        \n",
    "    def  parent_method(self):\n",
    "        print(\"This is  a method from the parent class\")\n",
    " # step 3 creating the child class inherit from parent class       \n",
    "class child(Parent):\n",
    "# step 4 creating the constructor \n",
    "    def __init__(self, value,child_value):\n",
    "# step 5   using the super() function to inherit the method of parent class\n",
    "        super().__init__(value)\n",
    "        self.child_value=child_value\n",
    "#step 6  creating the  methods in child class\n",
    "    def child_method(self):\n",
    "        print(\"This is a method from the  child class\")\n",
    "        \n",
    "    def acess_parent_method(self):\n",
    "        super().parent_method()\n",
    "        \n",
    "c1=child(\"parent_value\",\"child_value\")\n",
    "\n",
    "#example usage\n",
    "c1.child_method()\n",
    "c1.parent_method()\n",
    "c1.acess_parent_method()\n",
    "print(c1.child_value)\n",
    "print(c1.value)\n",
    "        "
   ]
  },
  {
   "cell_type": "code",
   "execution_count": null,
   "id": "61f3403e-363f-4685-a164-59ecaadfd158",
   "metadata": {},
   "outputs": [],
   "source": [
    "6. Discuss the use of the `super()` function in Python inheritance. When and why is it used? Provide an \n",
    "example."
   ]
  },
  {
   "cell_type": "code",
   "execution_count": null,
   "id": "a36ffca2-0997-4ba9-a35f-0519484fd008",
   "metadata": {},
   "outputs": [],
   "source": [
    "Ans: The 'super ()' function in python is used in the context of inheritance to access\n",
    "methods and properties of a parent class within child class.it's particularly useful\n",
    "when  working with multiple inheritance"
   ]
  },
  {
   "cell_type": "code",
   "execution_count": null,
   "id": "16f8b0ee-7b72-41a4-ae38-f28af48319fc",
   "metadata": {},
   "outputs": [],
   "source": [
    "1.Acessing Parent Class Methods: 'super()' allows you to call method defined in the parent class from a child class.\n",
    "2.Supporting Multiple Inheritance: In cases of Multiple inheritance,'super()' helps maintain the method resolution order and ensures that the methods of parent class \n",
    "3.Dynamic Method Lookups:'super()'dynamically determines the appropriate class  to use in the method resolution order based on class heirarchy at runtime\n",
    "Example Below:"
   ]
  },
  {
   "cell_type": "code",
   "execution_count": 5,
   "id": "3c3caf4c-787c-4f40-98ce-d60fbea8a956",
   "metadata": {},
   "outputs": [
    {
     "name": "stdout",
     "output_type": "stream",
     "text": [
      "Hi, I'm Alice from the Child class and I'm 10 years old.\n",
      "Hi, I'm Alice from the Child class and I'm 10 years old. Also, Hello, I'm Alice from the Parent class.\n"
     ]
    }
   ],
   "source": [
    "# step 1 create the  parent class \n",
    "class Parent:\n",
    "    # step2   creating the  constructor \n",
    "    def __init__(self, name):\n",
    "        self.name = name\n",
    "    # step 3  creting the founction for greet\n",
    "    def greet(self):\n",
    "        return f\"Hello, I'm {self.name} from the Parent class.\"\n",
    "# step 4  creating the child class \n",
    "class Child(Parent):\n",
    "# step 5 creating the constructor  and founctions \n",
    "    def __init__(self, name, age):\n",
    "        super().__init__(name)  # Using super() to initialize the parent class attributes\n",
    "        self.age = age\n",
    "\n",
    "    def greet(self):\n",
    "        return f\"Hi, I'm {self.name} from the Child class and I'm {self.age} years old.\"\n",
    "\n",
    "    def full_greet(self):\n",
    "        parent_greet = super().greet()  # Accessing parent class method using super()\n",
    "        return f\"{self.greet()} Also, {parent_greet}\"\n",
    "\n",
    "# Creating an instance of the Child class\n",
    "child_obj = Child(\"Alice\", 10)\n",
    "\n",
    "# Accessing methods from Child and Parent classes\n",
    "print(child_obj.greet())  # Calls the overridden method in the Child class\n",
    "print(child_obj.full_greet())  # Calls Child class method and then accesses Parent class method using super()\n",
    "\n"
   ]
  },
  {
   "cell_type": "code",
   "execution_count": null,
   "id": "94e4b738-8982-45d0-a63c-771aac2ad332",
   "metadata": {},
   "outputs": [],
   "source": [
    "7. Create a Python class called `Animal` with a method `speak()`. Then, create child classes `Dog` and `Cat` that inherit from `Animal` and override the `speak()` method. Provide an example of using these classes."
   ]
  },
  {
   "cell_type": "code",
   "execution_count": 9,
   "id": "ffa22892-49bc-450f-baf3-ee65983dda64",
   "metadata": {},
   "outputs": [
    {
     "name": "stdout",
     "output_type": "stream",
     "text": [
      "bark\n",
      "meowww\n"
     ]
    }
   ],
   "source": [
    "# step1   creating the parent  class Animal\n",
    "class Animal:\n",
    "    def speak(self):\n",
    "        pass\n",
    "# step 2  creating the child class  \n",
    "class  Dog(Animal):\n",
    "    def speak(self):\n",
    "        print(\"bark\")\n",
    "# step 3  creating the cat class \n",
    "class  cat(Animal):\n",
    "    def speak(self):\n",
    "        print(\"meowww\")\n",
    "d=Dog()\n",
    "d.speak()\n",
    "c=cat()\n",
    "c.speak() \n",
    "        "
   ]
  },
  {
   "cell_type": "code",
   "execution_count": null,
   "id": "d4fe8aba-bfd3-4491-ad51-aefd88c032c1",
   "metadata": {},
   "outputs": [],
   "source": [
    "8. Explain the role of the `isinstance()` function in Python and how it relates to inheritance."
   ]
  },
  {
   "cell_type": "code",
   "execution_count": null,
   "id": "3ddca749-8fe6-4fa4-a979-bc134abf2f11",
   "metadata": {},
   "outputs": [],
   "source": [
    "Ans:The 'insistance()' function python is used to check wether an object belongs to a particular class or type.\n",
    "it  helps determine if an object is an instance of specified class or any subclas of that class.\n",
    " in inheritance it plays special role When you're working with inheritance, isinstance() helps you determine if an object is an instance of a particular class or any of its subclasses.\n",
    "    Example Below:"
   ]
  },
  {
   "cell_type": "code",
   "execution_count": null,
   "id": "ab72c00e-8649-40df-be9f-be4c1be762b8",
   "metadata": {},
   "outputs": [],
   "source": []
  },
  {
   "cell_type": "code",
   "execution_count": 1,
   "id": "d6869e41-76f3-4545-aa39-29c945a594f7",
   "metadata": {},
   "outputs": [
    {
     "name": "stdout",
     "output_type": "stream",
     "text": [
      "True\n",
      "True\n"
     ]
    }
   ],
   "source": [
    "# step1  creating the class animal\n",
    "class Animal:\n",
    "    def make_sound(self):\n",
    "        print(\"Some generic sound\")\n",
    "# step 2  creating the class  dog\n",
    "class Dog(Animal):\n",
    "    def make_sound(self):\n",
    "        print(\"Bark\")\n",
    "# step 3  class cat \n",
    "class Cat(Animal):\n",
    "    def make_sound(self):\n",
    "        print(\"Meow\")\n",
    "# step 4 creating object of particlar class\n",
    "dog = Dog()\n",
    "cat = Cat()\n",
    "# step 5  writing and checking weather object belong to the particular class or not\n",
    "print(isinstance(dog, Animal))  # Output: True\n",
    "print(isinstance(cat, Animal))  # Output: True\n"
   ]
  },
  {
   "cell_type": "code",
   "execution_count": null,
   "id": "956f5cfd-9a79-46ec-b97b-60d88fd0a278",
   "metadata": {},
   "outputs": [],
   "source": [
    "9. What is the purpose of the `issubclass()` function in Python? Provide an example."
   ]
  },
  {
   "cell_type": "code",
   "execution_count": null,
   "id": "6c2bcc7d-d104-4d3e-a4cc-4dd73eaff54e",
   "metadata": {},
   "outputs": [],
   "source": [
    "Ans issubclass is used to check weather given class is a subclass of another class. \n",
    "it helps to verify the inheritance relationship between classes. It helps in designing code that relies on specific class hierarchies or\n",
    "structures by confirming if one class derives from another."
   ]
  },
  {
   "cell_type": "code",
   "execution_count": 2,
   "id": "f9139c41-8fb1-4387-b134-3473d632cebe",
   "metadata": {},
   "outputs": [
    {
     "name": "stdout",
     "output_type": "stream",
     "text": [
      "True\n",
      "True\n"
     ]
    }
   ],
   "source": [
    "# step1  creating the  class Animal \n",
    "class Animal:\n",
    "    pass\n",
    "# step 2 inheriting it  from the animal class\n",
    "class dog(Animal):\n",
    "    pass\n",
    "# step 3  creating the class cat which get inherited from cat\n",
    "class cat (dog):\n",
    "    pass\n",
    "print(issubclass(dog,Animal))\n",
    "print(issubclass(cat, Animal))"
   ]
  },
  {
   "cell_type": "code",
   "execution_count": null,
   "id": "5e9ac81b-a6ce-4d0a-8517-e1b73aa6b3b2",
   "metadata": {},
   "outputs": [],
   "source": [
    "10.Discuss the concept of constructor inheritance in Python. How are constructors inherited in child classes"
   ]
  },
  {
   "cell_type": "code",
   "execution_count": null,
   "id": "e9f36486-adb2-4531-bb9c-32384e6928c5",
   "metadata": {},
   "outputs": [],
   "source": [
    "Ans : IN PYTHON YOU CREATE constructor by '__init__()'  that initialize object of a class when you\n",
    "create shild class  that inherits the   parent  class  so constructor not inherited from parent class\n",
    " to do sooo .We  use super() to ensure initialization of the inherited attributes. This process is called \n",
    "    constructor chaining or constructor inheritance.\n",
    "    Example Usage"
   ]
  },
  {
   "cell_type": "code",
   "execution_count": 3,
   "id": "7973912c-a085-408b-8a30-1ea4371ce510",
   "metadata": {},
   "outputs": [
    {
     "name": "stdout",
     "output_type": "stream",
     "text": [
      "Hi, I'm Alice from the Child class and I'm 10 years old.\n",
      "Hi, I'm Alice from the Child class and I'm 10 years old. Also, Hello, I'm Alice from the Parent class.\n"
     ]
    }
   ],
   "source": [
    "# step 1 create the  parent class \n",
    "class Parent:\n",
    "    # step2   creating the  constructor \n",
    "    def __init__(self, name):\n",
    "        self.name = name\n",
    "    # step 3  creting the founction for greet\n",
    "    def greet(self):\n",
    "        return f\"Hello, I'm {self.name} from the Parent class.\"\n",
    "# step 4  creating the child class \n",
    "class Child(Parent):\n",
    "# step 5 creating the constructor  and founctions \n",
    "    def __init__(self, name, age):\n",
    "        super().__init__(name)  # Using super() to initialize the parent class attributes\n",
    "        self.age = age\n",
    "\n",
    "    def greet(self):\n",
    "        return f\"Hi, I'm {self.name} from the Child class and I'm {self.age} years old.\"\n",
    "\n",
    "    def full_greet(self):\n",
    "        parent_greet = super().greet()  # Accessing parent class method using super()\n",
    "        return f\"{self.greet()} Also, {parent_greet}\"\n",
    "\n",
    "# Creating an instance of the Child class\n",
    "child_obj = Child(\"Alice\", 10)\n",
    "\n",
    "# Accessing methods from Child and Parent classes\n",
    "print(child_obj.greet())  # Calls the overridden method in the Child class\n",
    "print(child_obj.full_greet())  # Calls Child class method and then accesses Parent class method using super()"
   ]
  },
  {
   "cell_type": "code",
   "execution_count": null,
   "id": "e1f6c4b1-3a4a-442d-9906-bb43e5c142a2",
   "metadata": {},
   "outputs": [],
   "source": [
    "11. Create a Python class called `Shape` with a method `area()` that calculates the area of a shape. Then, create child classes `Circle` and `Rectangle` that inherit from `Shape` and implement the `area()` method \n",
    "accordingly. Provide an example"
   ]
  },
  {
   "cell_type": "code",
   "execution_count": 18,
   "id": "af382bbe-f8e2-4533-89d0-d7723e9203e8",
   "metadata": {},
   "outputs": [
    {
     "name": "stdout",
     "output_type": "stream",
     "text": [
      "area of rectangle  480\n",
      "Area of circle 1256.0\n"
     ]
    }
   ],
   "source": [
    "# step1 creating the class shape \n",
    "class shape:\n",
    "    def area(self):\n",
    "        pass\n",
    "# step 2  creating the class rectangle \n",
    "class rectangle(shape):\n",
    "    def __init__(self, length, breadth):\n",
    "        self.length=length\n",
    "        self.breadth=breadth\n",
    "    def area(self):\n",
    "        return self.length*self.breadth\n",
    "# step 3  creating the class for circle    \n",
    "class circle(shape):\n",
    "    def __init__(self, radius):\n",
    "        self.radius=radius\n",
    "    def area(self):\n",
    "        return 3.14 *self.radius**2\n",
    "        \n",
    "r = rectangle(24,20)\n",
    "print(\"area of rectangle \",r.area())\n",
    "c= circle(20)\n",
    "print(\"Area of circle\",c.area()"
   ]
  },
  {
   "cell_type": "code",
   "execution_count": null,
   "id": "d66723df-aa0a-4881-bc0a-a9b5ea845986",
   "metadata": {},
   "outputs": [],
   "source": [
    "12. Explain the use of abstract base classes (ABCs) in Python and how they relate to inheritance. Provide an \n",
    "example using the `abc` module"
   ]
  },
  {
   "cell_type": "code",
   "execution_count": null,
   "id": "651ed358-9933-4b38-b2c8-ce111a761752",
   "metadata": {},
   "outputs": [],
   "source": [
    "Ans: ABC or abstract base class  in python in is the method to  enforce certain method structure in class \n",
    "and ensure that derivesd class is implemented  particular methods . It act as blueprint for other classes.\n",
    "THEY RELATED TO INHERITANCE:\n",
    "    Abstract base classes help in defining a common interface that subclass must adhere to . they provide a clear structure for inheritance\n",
    "    ensuring that certain methods must implemented  by derived class . this helps maintaining consistency and predictablity n class hierarchies\n",
    "    \n",
    "    example  below :"
   ]
  },
  {
   "cell_type": "code",
   "execution_count": 21,
   "id": "c26ec935-f068-48cf-a8de-1f1f5b5827b2",
   "metadata": {},
   "outputs": [
    {
     "name": "stdout",
     "output_type": "stream",
     "text": [
      "Area of the circle: 78.5\n"
     ]
    }
   ],
   "source": [
    "# step1 importing the abstract method \n",
    "from abc import ABC, abstractmethod\n",
    "# step 2  creating the class shape \n",
    "class Shape(ABC):\n",
    "#@abstractmethod decorator marks the area() method as abstract, meaning any concrete subclass must implement this method.\n",
    "    @abstractmethod\n",
    "    def area(self):\n",
    "        pass\n",
    "# step 3  creating the class circle\n",
    "class Circle(Shape):\n",
    "    def __init__(self, radius):\n",
    "        self.radius = radius\n",
    "    \n",
    "    def area(self):\n",
    "        return 3.14 * self.radius**2\n",
    "\n",
    "# This will raise an error because Rectangle does not implement the 'area' method.\n",
    "class Rectangle(Shape):\n",
    "    def __init__(self, width, height):\n",
    "        self.width = width\n",
    "        self.height = height\n",
    "\n",
    "# Example usage:\n",
    "circle = Circle(5)\n",
    "print(\"Area of the circle:\", circle.area())\n"
   ]
  },
  {
   "cell_type": "code",
   "execution_count": null,
   "id": "41d7e84b-5b1e-4277-90e7-c89da6035652",
   "metadata": {},
   "outputs": [],
   "source": [
    "13. How can you prevent a child class from modifying certain attributes or methods inherited from a parent \n",
    "class in Python"
   ]
  },
  {
   "cell_type": "code",
   "execution_count": null,
   "id": "960d5412-e23b-4b4c-a90b-ec4f107cac7f",
   "metadata": {},
   "outputs": [],
   "source": [
    "1.Private Attributes:\n",
    "    use single underscore '-' prefix to indicate that an attribute or method should be treated \n",
    "    as \"protected \"or \"private\" within class its subclass .This doesn't strictly enforce the restriction, \n",
    "    but it serves as a convention to indicate that it should not be accessed or modified outside the class.\n",
    "    Example Below:"
   ]
  },
  {
   "cell_type": "code",
   "execution_count": 2,
   "id": "b848e998-e0a3-42fe-9887-01f1551fc008",
   "metadata": {},
   "outputs": [],
   "source": [
    "#step 1 creating the parent  class\n",
    "class parent:\n",
    "# step 2  creating the constructor \n",
    "    def __init__(self):\n",
    "        # creating the protected method by underscore\n",
    "        self._protected_attr=10 #protected attribute \n",
    "        \n",
    "    def _protected_method(self): # protected method\n",
    "        pass\n",
    "# step 3  creating the child class \n",
    "class child(parent):\n",
    "    def __init__(self):\n",
    "        super().__init__()\n",
    "        self._protected_attr=20 # This can still be modified in the Child class\n",
    "    def _protected_method(self):\n",
    "        pass #this can be overridden in child class\n",
    "        "
   ]
  },
  {
   "cell_type": "code",
   "execution_count": null,
   "id": "05ccf6af-bc61-478b-8be5-6ff52f1063d5",
   "metadata": {},
   "outputs": [],
   "source": [
    "2.Property Decorators: Use decorators  to define getter and setter for attributes this allows \n",
    "controlling acess and modification  of attributes even subclass"
   ]
  },
  {
   "cell_type": "code",
   "execution_count": 4,
   "id": "71c13f49-0c67-445b-9677-db60fed49fca",
   "metadata": {},
   "outputs": [],
   "source": [
    "# step 1  creating the parent  class\n",
    "class Parent:\n",
    "    def __init__(self):\n",
    "        self._protected_attr = 10\n",
    "# step 2   decorating it by property\n",
    "    @property\n",
    "    def protected_attr(self):\n",
    "        return self._protected_attr\n",
    "\n",
    "    @protected_attr.setter\n",
    "    def protected_attr(self, value):\n",
    "        raise AttributeError(\"Cannot modify protected_attr\")\n",
    "\n",
    "class Child(Parent):\n",
    "    def __init__(self):\n",
    "        super().__init__()\n",
    "\n",
    "    # Trying to modify the protected attribute will raise an error\n",
    "\n",
    "        "
   ]
  },
  {
   "cell_type": "code",
   "execution_count": null,
   "id": "fc815fc1-667f-481b-a3d5-500f877950b4",
   "metadata": {},
   "outputs": [],
   "source": [
    "14. Create a Python class called `Employee` with attributes `name` and `salary`. Then, create a child class \n",
    "`Manager` that inherits from `Employee` and adds an attribute `department`. Provide an example."
   ]
  },
  {
   "cell_type": "code",
   "execution_count": 6,
   "id": "1be2ce77-dcb2-421c-b612-5caedb144290",
   "metadata": {},
   "outputs": [
    {
     "name": "stdout",
     "output_type": "stream",
     "text": [
      "Employe name Amrit Salary of person 20000\n"
     ]
    }
   ],
   "source": [
    "# step 1  creating the class employe\n",
    "class Employe:\n",
    "# step 2  creating the constructor \n",
    "    def __init__(self,name, salary):\n",
    "        self.name=name\n",
    "        self.salary=salary\n",
    "# STEP 3  CREATING THE child class Manger\n",
    "class Manager(Employe):\n",
    "    def __init__(self, name, salary, department):\n",
    "        super().__init__(name ,salary)\n",
    "        self.department= department\n",
    "        \n",
    "        \n",
    "# example usage\n",
    "\n",
    "e=Employe(\"Amrit\", \"20000\")\n",
    "print(\"Employe name\",e.name,\"Salary of person\",e.salary)"
   ]
  },
  {
   "cell_type": "code",
   "execution_count": null,
   "id": "af1f1acf-534c-41e7-a0f9-d5cb71ca7d1b",
   "metadata": {},
   "outputs": [],
   "source": [
    "15. Discuss the concept of method overloading in Python inheritance. How does it differ from method \n",
    "overriding?"
   ]
  },
  {
   "cell_type": "code",
   "execution_count": null,
   "id": "496132bc-0512-4afd-a788-474826bcd794",
   "metadata": {},
   "outputs": [],
   "source": [
    "Ans: Method overloading : it occurs when the  methods  and classes  have same name but gave diffrent arguement"
   ]
  },
  {
   "cell_type": "code",
   "execution_count": null,
   "id": "30af2719-3b3c-4352-b4ee-ddaf59378cae",
   "metadata": {},
   "outputs": [],
   "source": [
    "# step 1  creating the class my\n",
    "class my:\n",
    "# step 2 creating the founction add(with 2 arguement)\n",
    "    def add(self,a,b):\n",
    "        return a+b\n",
    "# step 3  creating the founction add(with 3 arguement)\n",
    "    def add(self,a,b,c):\n",
    "        return a+b+c"
   ]
  },
  {
   "cell_type": "code",
   "execution_count": null,
   "id": "d1076928-26d1-4542-becf-d2a9a685e51e",
   "metadata": {},
   "outputs": [],
   "source": [
    "Method overidding:Method overidding  occurs when a subclass provides a specific implementation of a method\n",
    "that in already defined in superclass . when a method  in a subclass has the \n",
    "same name  and signature as method in it superclass\n",
    "example below:"
   ]
  },
  {
   "cell_type": "code",
   "execution_count": 10,
   "id": "04e03706-9fae-4c86-8cc0-3978579d1f3c",
   "metadata": {},
   "outputs": [
    {
     "name": "stdout",
     "output_type": "stream",
     "text": [
      "Olaa\n",
      "bonjour\n"
     ]
    }
   ],
   "source": [
    "# step 1  creating the class parent\n",
    "class parent:\n",
    "    def greet(self):\n",
    "        print(\"Olaa\")\n",
    "# step 2  creating the class child \n",
    "class child :\n",
    "    def greet(self):\n",
    "        print(\"bonjour\")\n",
    "# example usage\n",
    "p=parent()\n",
    "c=child()\n",
    "p.greet()\n",
    "c.greet()\n",
    "    "
   ]
  },
  {
   "cell_type": "code",
   "execution_count": null,
   "id": "d3b8a21b-369d-405d-bb72-b6427116f012",
   "metadata": {},
   "outputs": [],
   "source": [
    "16. Explain the purpose of the `__init__()` method in Python inheritance and how it is utilized in child classes."
   ]
  },
  {
   "cell_type": "code",
   "execution_count": null,
   "id": "b54e2e1d-b24f-49c6-89ba-bd31d53ada5b",
   "metadata": {},
   "outputs": [],
   "source": [
    "ans:1.Initializing the parent class:\n",
    "In a child class, when you define an __init__() method, it's essential to call the __init__()\n",
    "method of the parent class explicitly using super().__init__(). This ensures that the parent class's initialization logic is executed.\n",
    "2.Passing Parameters:This ensures that the parent class's initialization logic is executed\n",
    "The __init__() method can take arguments to initialize attributes specific to that class.\n",
    "These arguments can be passed explicitly when creating an instance of the child class."
   ]
  },
  {
   "cell_type": "code",
   "execution_count": null,
   "id": "845c85d4-d0a5-4792-b457-c8bf9714d863",
   "metadata": {},
   "outputs": [],
   "source": [
    "17. Create a Python class called `Bird` with a method `fly()`. Then, create child classes `Eagle` and `Sparrow` that inherit from `Bird` and implement the `fly()` method differently. Provide an example of using these \n",
    "classes"
   ]
  },
  {
   "cell_type": "code",
   "execution_count": 13,
   "id": "5cefbebb-20e3-4103-9815-2d7c1b4c186b",
   "metadata": {},
   "outputs": [
    {
     "name": "stdout",
     "output_type": "stream",
     "text": [
      "eagel  fly  fast\n",
      "sparrow  fly slowly\n"
     ]
    }
   ],
   "source": [
    "# step 1  creating the bird  parent class\n",
    "class Bird:\n",
    "    def fly(self):\n",
    "        pass\n",
    "# step 2  creating the child  class Eagle\n",
    "class Eagle(Bird):\n",
    "    def fly(self):\n",
    "        print(\"eagel  fly  fast\")\n",
    "# step 3  creating the  child class  sparrow\n",
    "class sparrow(Bird):\n",
    "    def fly(self):\n",
    "        print(\"sparrow  fly slowly\")\n",
    "e=Eagle()\n",
    "e.fly()\n",
    "s=sparrow()\n",
    "s.fly()\n",
    "    \n",
    "    "
   ]
  },
  {
   "cell_type": "code",
   "execution_count": null,
   "id": "b2e49b54-c6fd-4587-ac63-c589dc8b4e0d",
   "metadata": {},
   "outputs": [],
   "source": [
    "18. What is the \"diamond problem\" in multiple inheritance, and how does Python address it?"
   ]
  },
  {
   "cell_type": "code",
   "execution_count": null,
   "id": "93854ab4-fd61-4884-bea0-34a04ffa9eb8",
   "metadata": {},
   "outputs": [],
   "source": [
    "Ans:The \"diamond problem\" is a complication that arises in languages that support multiple inheritance, where a particular class\n",
    "inherits from two or more classes that have a common ancestor. This creates ambiguity when a method or attribute is invoked from the subclass,\n",
    "as there might be conflicts in resolution due to the shared ancestry.\n",
    "PYTHON ADRESS IT:\n",
    "    Python uses a method resolution order (MRO) to handle multiple inheritance and resolve the diamond problem. \n",
    "    It follows the C3 linearization algorithm to determine the order in which methods and attributes are resolved in the \n",
    "    presence of multiple inheritance."
   ]
  },
  {
   "cell_type": "code",
   "execution_count": null,
   "id": "e30ac89e-4431-4838-8b8b-011a4b0790c4",
   "metadata": {},
   "outputs": [],
   "source": [
    "19. Discuss the concept of \"is-a\" and \"has-a\" relationships in inheritance, and provide examples of each"
   ]
  },
  {
   "cell_type": "code",
   "execution_count": null,
   "id": "647209e7-a3e5-4a3d-868f-5304732129bd",
   "metadata": {},
   "outputs": [],
   "source": [
    "ANS:\n",
    "    \"Is-a\" relationship is about inheritance, where a subclass is a specialized version of\n",
    "    its superclass, inheriting its properties and behaviors."
   ]
  },
  {
   "cell_type": "code",
   "execution_count": 14,
   "id": "01578302-1000-44e6-91ee-5d057a4ca8ff",
   "metadata": {},
   "outputs": [],
   "source": [
    "# step1 creating the class Animal\n",
    "class Animal:\n",
    "    def sound(self):\n",
    "        pass\n",
    "# step 2 creating the class dog inherit it to the the animal \n",
    "class Dog(Animal):  # Dog \"is a\" type of Animal\n",
    "    def sound(self):\n",
    "        return \"Woof!\"\n",
    "# step 3 creating the class cat which is inherit by the class animal\n",
    "class Cat(Animal):  # Cat \"is a\" type of Animal\n",
    "    def sound(self):\n",
    "        return \"Meow!\"\n"
   ]
  },
  {
   "cell_type": "code",
   "execution_count": null,
   "id": "e194f746-3d0f-407d-a819-2a0c1257a880",
   "metadata": {},
   "outputs": [],
   "source": [
    "\"Has-a\" relationship is about containment or association, where one class contains or is associated with another \n",
    "class or object as a member, typically using composition."
   ]
  },
  {
   "cell_type": "code",
   "execution_count": null,
   "id": "87467cb5-d590-4be7-aca5-a35ddcfd3618",
   "metadata": {},
   "outputs": [],
   "source": [
    "# step 1 creating the class  Engine \n",
    "class Engine:\n",
    "   # step 2 creating the fouunction start\n",
    "    def start(self):\n",
    "        return \"Engine started\"\n",
    "# step 3  creating the class car \n",
    "class Car:\n",
    "    def __init__(self):\n",
    "        self.engine = Engine()  # Car \"has a\" Engine\n",
    "# step 4   cereating the class  start  class engine \n",
    "    def start_engine(self):\n",
    "        return self.engine.start()\n",
    "\n",
    "# Usage\n",
    "my_car = Car()\n",
    "print(my_car.start_engine())  # Output: Engine started\n"
   ]
  },
  {
   "cell_type": "markdown",
   "id": "3a004617-628c-423a-ae7b-531c0fe45a79",
   "metadata": {},
   "source": [
    "20. Create a Python class hierarchy for a university system. Start with a base class `Person` and create child \n",
    "classes `Student` and `Professor`, each with their own attributes and methods. Provide an example of using \n",
    "these classes in a university context"
   ]
  },
  {
   "cell_type": "code",
   "execution_count": 15,
   "id": "78b06332-c148-432c-b1a4-92e9cc124dee",
   "metadata": {},
   "outputs": [
    {
     "name": "stdout",
     "output_type": "stream",
     "text": [
      "Alice enrolled in Mathematics\n",
      "Alice enrolled in Physics\n",
      "Dr. Smith assigned to teach Mathematics\n",
      "Dr. Smith assigned to teach Physics\n",
      "Student - Name: Alice, Age: 20, ID: S001\n",
      "Professor - Name: Dr. Smith, Age: 45, Employee ID: P001\n"
     ]
    }
   ],
   "source": [
    "# step1  creating the calss  person\n",
    "class Person:\n",
    "    # step 2 creating the constructor \n",
    "    def __init__(self, name, age):\n",
    "        self.name = name\n",
    "        self.age = age\n",
    "\n",
    "    def __str__(self):\n",
    "        return f\"Name: {self.name}, Age: {self.age}\"\n",
    "# step 3 creating the class  student inherit it to person\n",
    "\n",
    "class Student(Person):\n",
    "    \n",
    "# step 4 creating the constructor  \n",
    "    def __init__(self, name, age, student_id):\n",
    "        super().__init__(name, age)\n",
    "        self.student_id = student_id\n",
    "        self.courses = []\n",
    "# step 5  creating the founction enrool\n",
    "\n",
    "    def enroll(self, course):\n",
    "        self.courses.append(course)\n",
    "        print(f\"{self.name} enrolled in {course}\")\n",
    "\n",
    "    def __str__(self):\n",
    "        return f\"Student - {super().__str__()}, ID: {self.student_id}\"\n",
    "\n",
    "# step 6  creating the class professor inherit person \n",
    "class Professor(Person):\n",
    "    #step 7 creating the  constructor \n",
    "    def __init__(self, name, age, employee_id):\n",
    "        super().__init__(name, age)\n",
    "        self.employee_id = employee_id\n",
    "        self.courses_taught = []\n",
    "# step 8  creating the  founction   \n",
    "    def assign_teaching(self, course):\n",
    "        self.courses_taught.append(course)\n",
    "        print(f\"{self.name} assigned to teach {course}\")\n",
    "\n",
    "    def __str__(self):\n",
    "        return f\"Professor - {super().__str__()}, Employee ID: {self.employee_id}\"\n",
    "\n",
    "\n",
    "# Example usage:\n",
    "\n",
    "# Creating instances of Student and Professor\n",
    "student1 = Student(\"Alice\", 20, \"S001\")\n",
    "professor1 = Professor(\"Dr. Smith\", 45, \"P001\")\n",
    "\n",
    "# Enrolling student in courses\n",
    "student1.enroll(\"Mathematics\")\n",
    "student1.enroll(\"Physics\")\n",
    "\n",
    "# Assigning courses to a professor\n",
    "professor1.assign_teaching(\"Mathematics\")\n",
    "professor1.assign_teaching(\"Physics\")\n",
    "\n",
    "# Printing information\n",
    "print(student1)\n",
    "print(professor1)\n"
   ]
  },
  {
   "cell_type": "code",
   "execution_count": null,
   "id": "d41c9fb1-2fef-4a7f-bd5b-8e7383c036c1",
   "metadata": {},
   "outputs": [],
   "source": [
    "                        TOPIC-Encapsulation:"
   ]
  },
  {
   "cell_type": "code",
   "execution_count": null,
   "id": "fbcb89c6-8003-4247-a32e-34bd6280c2d4",
   "metadata": {},
   "outputs": [],
   "source": [
    "1.Explain the concept of encapsulation in Python. What is its role in object-oriented programming"
   ]
  },
  {
   "cell_type": "code",
   "execution_count": null,
   "id": "8530cdfe-d5e5-47db-90f8-d99bbd9d4bf7",
   "metadata": {},
   "outputs": [],
   "source": [
    "Ans: Encapsulation as name signify it means to capsulate the a thing in oops it is used encasulate method , data  with in \n",
    "a single unit. It hide internal  implimentation.\n",
    "key aspects oops of encpasulation :"
   ]
  },
  {
   "cell_type": "code",
   "execution_count": null,
   "id": "b37c929b-4cfd-4dba-9c9a-977b48ff9687",
   "metadata": {},
   "outputs": [],
   "source": []
  },
  {
   "cell_type": "markdown",
   "id": "3624f03c-3902-4f68-91f1-d00d1717b7cc",
   "metadata": {},
   "source": [
    " 1. Data handling: Encapsulation hides the internal  state of an object  fro outside of world.\n",
    "this is often  achieved  by marking attribute as  private   whrn we mark private \n",
    "can't  be acessed by the outside of a class.\n"
   ]
  },
  {
   "cell_type": "code",
   "execution_count": null,
   "id": "bea6bcaa-ec51-41a0-83cc-722737a91a2b",
   "metadata": {},
   "outputs": [],
   "source": [
    "2. Acess Control: It provide control over  how attributes and method ares acessed or modified\n",
    "by  using the acess modifiers like public, private , protected encapsulation ensures that data is manipulated through specific methods \n"
   ]
  },
  {
   "cell_type": "code",
   "execution_count": null,
   "id": "3c883170-720f-426b-aa1e-91555153528e",
   "metadata": {},
   "outputs": [],
   "source": [
    "3. Absrtraction-  Encapsulation prmote the the idea of data abstraction  as it hides th internal working of a \n",
    "founction or a class only eseential  details are exposed\n",
    "\n",
    "In Python, encapsulation is implemented through conventions rather than strict rules. Attributes and methods can \n",
    "be marked as public, protected, or private using naming conventions (public_var, _protected_var, __private_var)\n"
   ]
  },
  {
   "cell_type": "code",
   "execution_count": null,
   "id": "eaff2418-7b14-4d68-8145-7ab69705db04",
   "metadata": {},
   "outputs": [],
   "source": [
    "2. Describe the key principles of encapsulation, including access control and data hiding"
   ]
  },
  {
   "cell_type": "code",
   "execution_count": null,
   "id": "8fed27b1-0a77-49eb-ad00-fcfe2a4c3306",
   "metadata": {},
   "outputs": [],
   "source": [
    "1. Data handling: Encapsulation hides the internal  state of an object  fro outside of world.\n",
    "this is often  achieved  by marking attribute as  private   whrn we mark private \n",
    "can't  be acessed by the outside of a class.\n"
   ]
  },
  {
   "cell_type": "code",
   "execution_count": null,
   "id": "cb5b928f-a3fa-4824-8bb3-7fa659a894ea",
   "metadata": {},
   "outputs": [],
   "source": [
    "2. Acess Control: It provide control over  how attributes and method ares acessed or modified\n",
    "by  using the acess modifiers like public, private , protected encapsulation ensures that data is manipulated through specific methods \n"
   ]
  },
  {
   "cell_type": "code",
   "execution_count": null,
   "id": "15e0bcd8-af13-4015-bbdf-86f72bedc84b",
   "metadata": {},
   "outputs": [],
   "source": [
    "3. Absrtraction-  Encapsulation prmote the the idea of data abstraction  as it hides th internal working of a \n",
    "founction or a class only eseential  details are exposed\n",
    "\n",
    "In Python, encapsulation is implemented through conventions rather than strict rules. Attributes and methods can \n",
    "be marked as public, protected, or private using naming conventions (public_var, _protected_var, __private_var)\n"
   ]
  },
  {
   "cell_type": "code",
   "execution_count": null,
   "id": "1a32368e-2fef-4e10-8033-c86e93bfb495",
   "metadata": {},
   "outputs": [],
   "source": [
    "4. Maintainability and Flexibility: Encapsulation helps in maintaining and modifying code more easily. If the internal representation of an object changes, only the class needs \n",
    "to be modified while keeping the external interface the same."
   ]
  },
  {
   "cell_type": "code",
   "execution_count": null,
   "id": "a4cb47cd-17b9-4da6-b7b6-d2fb4009c6e4",
   "metadata": {},
   "outputs": [],
   "source": [
    "3. How can you achieve encapsulation in Python classes? Provide an example."
   ]
  },
  {
   "cell_type": "code",
   "execution_count": null,
   "id": "a8cf6ec0-04eb-4d1a-833c-5b231e91d1e4",
   "metadata": {},
   "outputs": [],
   "source": [
    "Encapsulation is achieved  by binding the data and mrthods in the class this makes it easier\n",
    "to control how data is acessed and used."
   ]
  },
  {
   "cell_type": "code",
   "execution_count": 7,
   "id": "1d0c10f3-a981-4032-8d83-a64b1ba79375",
   "metadata": {},
   "outputs": [
    {
     "name": "stdout",
     "output_type": "stream",
     "text": [
      "Name amrit\n",
      "Age 21\n"
     ]
    }
   ],
   "source": [
    "# step 1 creating the class \n",
    "class Person:\n",
    "# step 2  creating the constructor\n",
    "    def __init__(self,age, name, haircolor, hieght):\n",
    "        self.__age=age# encapsulating private variables\n",
    "        self.__name=name\n",
    "        self.__haiecolor=haircolor\n",
    "        self.__hieght=hieght\n",
    "# step 3 creating the foiunction for age \n",
    "    def age(self):\n",
    "        return self.__age\n",
    "# step 4 creating the founction for name\n",
    "    def name(self):\n",
    "        return self.__name\n",
    "# step 5 creating the founction for haircolor\n",
    "    def haircolor(self):\n",
    "        return self.__haircolor\n",
    "# step 6  creating hte founction for hiegth \n",
    "    def hiegth(self):\n",
    "        return self.__hieght\n",
    "p=Person(21,\"amrit\", \"brown\", 6.1 )\n",
    "print(\"Name\",p.name())\n",
    "print(\"Age\",p.age())\n",
    "    \n",
    "        \n",
    "        "
   ]
  },
  {
   "cell_type": "code",
   "execution_count": null,
   "id": "ce428a24-6369-4712-972a-8d0be0f093d1",
   "metadata": {},
   "outputs": [],
   "source": [
    "4. Discuss the difference between public, private, and protected access modifiers in Python"
   ]
  },
  {
   "cell_type": "code",
   "execution_count": null,
   "id": "4b56e343-7695-4489-b6b9-2c8d7071cc4b",
   "metadata": {},
   "outputs": [],
   "source": [
    "public:\n",
    "1. In python  in public acess specifier there is no need of underscore before attribute\n",
    "2. public method , class, data type can be acessed by the outside of the class   \n",
    "private:\n",
    "1.Attributes or methods prefixed with double underscores (__) are considered private in Python.\n",
    "2.They are not accessible directly from outside the class. However, Python uses name mangling, modifying the name to include the class name,\n",
    "to discourage direct access.  \n",
    "protected:\n",
    "1.Attributes or methods prefixed with a single underscore (_) are considered protected in Python by convention.\n",
    "2.They are not intended to be accessed from outside the class, but they can be accessed in derived classes."
   ]
  },
  {
   "cell_type": "code",
   "execution_count": null,
   "id": "50c17db0-768b-41ec-9aaa-c277edd81850",
   "metadata": {},
   "outputs": [],
   "source": [
    "5. Create a Python class called `Person` with a private attribute `__name`. Provide methods to get and set the \n",
    "name attribute."
   ]
  },
  {
   "cell_type": "code",
   "execution_count": 12,
   "id": "a8ac1ad1-f6fa-4a46-8e3d-1b95d314e5cb",
   "metadata": {},
   "outputs": [
    {
     "name": "stdout",
     "output_type": "stream",
     "text": [
      "radha\n",
      "krishan\n"
     ]
    }
   ],
   "source": [
    "# step 1  creating the class  Person\n",
    "class Person:\n",
    "# step 2  creating the constructor \n",
    "    def __init__(self, name):\n",
    "        self.__name = name\n",
    "# step 3  creating  the  get method \n",
    "    def get_name(self):\n",
    "        return self.__name\n",
    "# step 4  creating the setter method \n",
    "    def set_name(self, new_name):\n",
    "        self.__name = new_name\n",
    "\n",
    "\n",
    "# Example usage:\n",
    "person = Person(\"radha\")\n",
    "print(person.get_name())  # Output:  radha\n",
    "\n",
    "person.set_name(\"krishan\")\n",
    "print(person.get_name())  # Output: krishna\n",
    "\n"
   ]
  },
  {
   "cell_type": "code",
   "execution_count": null,
   "id": "08bdbefe-7df7-45cb-ab51-fc55f6dcaf05",
   "metadata": {},
   "outputs": [],
   "source": [
    "6. Explain the purpose of getter and setter methods in encapsulation. Provide examples"
   ]
  },
  {
   "cell_type": "code",
   "execution_count": null,
   "id": "c0c91fd7-12f8-49a4-bb9b-67707fce798a",
   "metadata": {},
   "outputs": [],
   "source": [
    "ANS: \n",
    "1.  Getter Methods: These method  used to retrive  or get values of private attribute within a class.\n",
    "they provide  controlled acess to retrive  the values of these attributes , allowing other parts of parograms\n",
    "to read  the values without directly acessing the attributes themselves."
   ]
  },
  {
   "cell_type": "code",
   "execution_count": null,
   "id": "90d201ac-fefe-4c7c-ae0c-52f6d4fd90ed",
   "metadata": {},
   "outputs": [],
   "source": [
    "2. Setter Method: Conversely , setter methods  are used to set or modify the values of private attribute \n",
    "value of private  attributes within class .They allow controlled modification of the attribute values by validating\n",
    "input or performing certain actions before setting the new value. \n",
    "Example Below:"
   ]
  },
  {
   "cell_type": "code",
   "execution_count": 13,
   "id": "bd3e517d-981d-4ca3-aaba-427c6066a175",
   "metadata": {},
   "outputs": [
    {
     "name": "stdout",
     "output_type": "stream",
     "text": [
      "radha\n",
      "krishan\n"
     ]
    }
   ],
   "source": [
    "# step 1  creating the class  Person\n",
    "class Person:\n",
    "# step 2  creating the constructor \n",
    "    def __init__(self, name):\n",
    "        self.__name = name\n",
    "# step 3  creating  the  get method \n",
    "    def get_name(self):\n",
    "        return self.__name\n",
    "# step 4  creating the setter method \n",
    "    def set_name(self, new_name):\n",
    "        self.__name = new_name\n",
    "\n",
    "\n",
    "# Example usage:\n",
    "person = Person(\"radha\")\n",
    "print(person.get_name())  # Output:  radha\n",
    "\n",
    "person.set_name(\"krishan\")\n",
    "print(person.get_name())  # Output: krishna\n"
   ]
  },
  {
   "cell_type": "code",
   "execution_count": null,
   "id": "3d7348d5-8262-4a2d-943c-968738693b79",
   "metadata": {},
   "outputs": [],
   "source": [
    "7. What is name mangling in Python, and how does it affect encapsulation?"
   ]
  },
  {
   "cell_type": "code",
   "execution_count": null,
   "id": "4a6738aa-14c4-483e-a831-0773db18594e",
   "metadata": {},
   "outputs": [],
   "source": [
    "Ans : Name mangling  in python is a mechanism that alters  the names  of certain class \n",
    "attributes  to take make them less acessible  from outside  the class .\n",
    "When a  class attribute  is prefixed  with double  underscore ('__'), python performs\n",
    "name mangling on that attribute name ."
   ]
  },
  {
   "cell_type": "code",
   "execution_count": null,
   "id": "8ec8ffce-c7f2-4df2-83e5-1d2a8d52bb23",
   "metadata": {},
   "outputs": [],
   "source": [
    "class MyClass:\n",
    "    def __init__(self):\n",
    "        self.__private_var = 10\n",
    "\n",
    "obj = MyClass()\n",
    "print(obj.__private_var)  # This will raise an AttributeError\n",
    "print(obj._MyClass__private_var)  # This will access the attribute due to name mangling\n"
   ]
  },
  {
   "cell_type": "code",
   "execution_count": null,
   "id": "7633516a-93aa-4674-8f80-65640535032c",
   "metadata": {},
   "outputs": [],
   "source": []
  },
  {
   "cell_type": "code",
   "execution_count": null,
   "id": "e4e9866c-8154-4e42-ab8c-114d1dd4492d",
   "metadata": {},
   "outputs": [],
   "source": [
    "in  above example  trying to acess '__private_var' directly outside ihe class scope\n",
    "will raise 'attribute error'  because of name mangling  .However  , python  does not  truly enforce \n",
    "private acess  control , as deomonstrated  by acessing the mangled name  ('_MyClass__private_var') outside the class\n",
    "which is allowed not recomended."
   ]
  },
  {
   "cell_type": "code",
   "execution_count": null,
   "id": "aa4d3252-d51e-4f83-8d9a-e9f49cc75aa6",
   "metadata": {},
   "outputs": [],
   "source": [
    "How IT affected encapsulation?\n",
    "Ans:\n",
    "1.Partial privacy:Name mangling provides a way to make attributes less accessible by altering their names, \n",
    "but it doesn't provide complete privacy or access control. It acts as a deterrent rather than a strict access control mechanism.\n",
    "2.Encouragement for Best Practices:  It encourages using getter and setter methods for accessing and modifying attributes, promoting \n",
    "better encapsulation practices and discouraging direct access to supposed private attributes.\n",
    "3.Debugging and Extension: Name mangling isn't primarily meant for security; "
   ]
  },
  {
   "cell_type": "code",
   "execution_count": null,
   "id": "fd6b2542-7fe3-446b-936a-3f9820666d17",
   "metadata": {},
   "outputs": [],
   "source": [
    "8.. Create a Python class called `BankAccount` with private attributes for the account balance (`__balance`) and account number (`__account_number`). Provide methods for depositing and withdrawing money."
   ]
  },
  {
   "cell_type": "code",
   "execution_count": 15,
   "id": "0e3b304f-ea20-4619-bfe3-d21dfdea572a",
   "metadata": {},
   "outputs": [
    {
     "name": "stdout",
     "output_type": "stream",
     "text": [
      "The  new balance of account 212234\n",
      "The  remaining balance in the account 212222\n"
     ]
    }
   ],
   "source": [
    "# step 1  creating the class  Bankaacount \n",
    "class BankAccount:\n",
    "# step 2  creating the constructor \n",
    "    def __init__(self, balance, accountnumber ):\n",
    "        self.__balance=balance\n",
    "        self.__account_number=accountnumber\n",
    "# step 3  creating the  founction for depositing money\n",
    "    def depositing(self, balance):\n",
    "        self.__balance+=balance\n",
    "        print(\"The  new balance of account\",self.__balance)\n",
    "# step 4  creating the founction to withdrawing money\n",
    "    def withdrawing(self, balance):\n",
    "        self.__balance-= balance\n",
    "        print(\"The  remaining balance in the account\", self.__balance)\n",
    "\n",
    "b=BankAccount(200000,12344223424)\n",
    "b.depositing(12234)\n",
    "b.withdrawing(12)\n",
    "\n",
    "\n",
    "        \n",
    "        \n",
    "    "
   ]
  },
  {
   "cell_type": "code",
   "execution_count": null,
   "id": "4a1ba21a-a6e2-4a23-bb7a-fc56d6bc413a",
   "metadata": {},
   "outputs": [],
   "source": [
    "9. Discuss the advantages of encapsulation in terms of code maintainability and security"
   ]
  },
  {
   "cell_type": "code",
   "execution_count": null,
   "id": "cfc84f97-e7fd-476f-99bf-05bfe43a11ef",
   "metadata": {},
   "outputs": [],
   "source": [
    "Ans:\n",
    "Code Maintainability:\n",
    "1.Modularity: Encapsulation allows bundling data (attributes) and behaviors (methods) together within a class. \n",
    "This promotes modular code, making it easier to understand, maintain, and update. Changes to the implementation within a class don't necessarily affect other parts of the program, as long as the class's interface (public methods) remains consistent\n",
    "2.Abstraction: By exposing only necessary functionalities through public methods while hiding internal implementation details, encapsulation allows developers to work at higher levels of abstraction. This abstraction simplifies the understanding of \n",
    "how a class should be used without needing to know its internal complexities.\n",
    "3.Ease of Refactoring: Encapsulation provides a clear boundary around class attributes, making it easier to refactor or optimize the internal implementation without affecting the rest of the codebase. This is particularly useful in large projects where\n",
    "changes need to be made without causing ripple effects throughout the system.\n",
    "Security:\n",
    "1.Controlled Access: Encapsulation allows control over access to the internal data of a class. \n",
    "By defining attributes as private and providing getter and setter methods, a class can enforce rules and validations for data access and modification\n",
    "2.Data Integrity: With encapsulation, data integrity can be maintained by controlling how data is modified. Setter methods can include validation logic\n",
    "to ensure that only valid data is accepted, preventing the introduction of incorrect or inconsistent values.\n",
    "3.Reduced Side Effects: Encapsulation minimizes unexpected side effects by limiting direct access to class attributes. By using getter and setter methods,\n",
    "the class can manage state changes, reducing the chances of unexpected modifications and potential bugs."
   ]
  },
  {
   "cell_type": "code",
   "execution_count": null,
   "id": "ae8413c4-906f-41ea-9cfe-144b5d1b69de",
   "metadata": {},
   "outputs": [],
   "source": [
    "10 How can you access private attributes in Python? Provide an example demonstrating the use of name \n",
    "mangling"
   ]
  },
  {
   "cell_type": "code",
   "execution_count": null,
   "id": "7fef2589-2fe4-4acc-9b4f-c80e1dd59083",
   "metadata": {},
   "outputs": [],
   "source": [
    "ANS:Python performs name mangling on private attributes by renaming them with the class name as a prefix. Although it's not recommended,\n",
    "you can access private attributes using their mangled names from outside the class\n"
   ]
  },
  {
   "cell_type": "code",
   "execution_count": 19,
   "id": "2f9ca802-7e69-464c-bb39-413c0c4c8a29",
   "metadata": {},
   "outputs": [
    {
     "name": "stdout",
     "output_type": "stream",
     "text": [
      "10\n"
     ]
    }
   ],
   "source": [
    "class MyClass:\n",
    "    def __init__(self):\n",
    "        self.__private_var = 10\n",
    "\n",
    "obj = MyClass()\n",
    "print(obj._MyClass__private_var)  # This will access the attribute due to name mangling\n"
   ]
  },
  {
   "cell_type": "code",
   "execution_count": null,
   "id": "5931ed05-df38-450d-b89f-ec353fed2797",
   "metadata": {},
   "outputs": [],
   "source": [
    "11. Create a Python class hierarchy for a school system, including classes for students, teachers, and courses, \n",
    "and implement encapsulation principles to protect sensitive information"
   ]
  },
  {
   "cell_type": "code",
   "execution_count": 26,
   "id": "072e5443-4a6e-4090-b25d-497c82973577",
   "metadata": {},
   "outputs": [
    {
     "name": "stdout",
     "output_type": "stream",
     "text": [
      "ram\n",
      "['Mathematics', 'Physics']\n",
      "siaram\n",
      "['Mathematics', 'Physics']\n"
     ]
    }
   ],
   "source": [
    "# step 1 creating the class course \n",
    "class Course:\n",
    "    #   step 2   creating the constructor   init which initialize the   when object is created \n",
    "    def __init__(self, course_name, course_code):\n",
    "        self.__course_name = course_name\n",
    "        self.__course_code = course_code\n",
    "     # step 3   create a founction    to get course name\n",
    "    def get_course_name(self):\n",
    "        return self.__course_name\n",
    "    # step 4  create a founction  to get couse\n",
    "    def get_course_code(self):\n",
    "        return self.__course_code\n",
    "\n",
    "# step 4  creating the class person\n",
    "class Person:\n",
    "    # s\n",
    "    def __init__(self, name, age):\n",
    "        self.__name = name\n",
    "        self.__age = age\n",
    "\n",
    "    def get_name(self):\n",
    "        return self.__name\n",
    "\n",
    "    def get_age(self):\n",
    "        return self.__age\n",
    "\n",
    "# step 3  creating the class student\n",
    "class Student(Person):\n",
    "    def __init__(self, name, age, student_id):\n",
    "        super().__init__(name, age)\n",
    "        self.__student_id = student_id\n",
    "        self.__courses_enrolled = []\n",
    "\n",
    "    def get_student_id(self):\n",
    "        return self.__student_id\n",
    "\n",
    "    def enroll_course(self, course):\n",
    "        self.__courses_enrolled.append(course)\n",
    "\n",
    "    def get_enrolled_courses(self):\n",
    "        return [course.get_course_name() for course in self.__courses_enrolled]\n",
    "\n",
    "# step 4  creating the class of techer\n",
    "class Teacher(Person):\n",
    "    def __init__(self, name, age, employee_id):\n",
    "        super().__init__(name, age)\n",
    "        self.__employee_id = employee_id\n",
    "        self.__courses_taught = []\n",
    "\n",
    "    def get_employee_id(self):\n",
    "        return self.__employee_id\n",
    "\n",
    "    def assign_course(self, course):\n",
    "        self.__courses_taught.append(course)\n",
    "\n",
    "    def get_assigned_courses(self):\n",
    "        return [course.get_course_name() for course in self.__courses_taught]\n",
    "\n",
    "\n",
    "# Example Usage:\n",
    "math_course = Course(\"Mathematics\", \"MATH101\")\n",
    "physics_course = Course(\"Physics\", \"PHYS101\")\n",
    "\n",
    "student1 = Student(\"ram\", 18, \"S001\")\n",
    "teacher1 = Teacher(\"siaram\", 35, \"T001\")\n",
    "\n",
    "student1.enroll_course(math_course)\n",
    "student1.enroll_course(physics_course)\n",
    "\n",
    "teacher1.assign_course(math_course)\n",
    "teacher1.assign_course(physics_course)\n",
    "\n",
    "print(student1.get_name())  # Output: Alice\n",
    "print(student1.get_enrolled_courses())  # Output: ['Mathematics', 'Physics']\n",
    "\n",
    "print(teacher1.get_name())  # Output: Mr. Smith\n",
    "print(teacher1.get_assigned_courses())  # Output: ['Mathematics', 'Physics']\n"
   ]
  },
  {
   "cell_type": "code",
   "execution_count": null,
   "id": "1bd0fc6f-6507-4f26-a4f4-be4f91a9f6fb",
   "metadata": {},
   "outputs": [],
   "source": [
    "12.Explain the concept of property decorators in Python and how they relate to encapsulation"
   ]
  },
  {
   "cell_type": "code",
   "execution_count": null,
   "id": "a68e9594-5ac3-4295-819e-29503f19dc5d",
   "metadata": {},
   "outputs": [],
   "source": [
    "ANS;In Python, property decorators are a way to define properties for controlling the access to class attributes. They allow you to define methods that can be accessed as attributes,\n",
    "providing a way to encapsulate the access and modification of class attributes while giving the impression of direct attribute access."
   ]
  },
  {
   "cell_type": "code",
   "execution_count": null,
   "id": "6832bb4f-8a4e-417c-bfc8-7e6a53610a65",
   "metadata": {},
   "outputs": [],
   "source": [
    "1.Hiding Implementation Details: They hide the underlying implementation of retrieving an attribute's value. Externally, \n",
    "code interacts with the property as if it were a regular attribute, abstracting away the method call.\n",
    "2.Controlled Access: Property decorators enable controlled access to attributes by providing a method-\n",
    "like interface. \n",
    "Interchangeability with Attributes: They allow a smooth transition from using direct attribute access to \n",
    "using getter methods (properties)\n"
   ]
  },
  {
   "cell_type": "code",
   "execution_count": null,
   "id": "c04697c8-f71b-4eb1-9e94-f5a23f1b7881",
   "metadata": {},
   "outputs": [],
   "source": [
    "13. What is data hiding, and why is it important in encapsulation? Provide examples."
   ]
  },
  {
   "cell_type": "code",
   "execution_count": null,
   "id": "c13b6687-6c9d-498b-b7a4-e0acce4b6098",
   "metadata": {},
   "outputs": [],
   "source": [
    "Ans:Data hiding  - data hiding is special chracterstic of oops, it hides  internal implimentation of  oops  like data types objects and  everything.\n",
    "It restricts direct access to certain components of an object and only allows access through well-defined interfaces. This helps in maintaining the \n",
    "integrity of the data and prevents unauthorized access or modification, ensuring that the object's internal workings remain hidden and protected.\n",
    " ITS important  in encapsulation:\n",
    "        In encapsulation we know  it binds data types, methods, and function into single unit. In encapsulation we don't give acess to or restrict \n",
    "        acess of certain  data  or methods. by using the private , public , protected  acess specifier.\n",
    "Example Below:"
   ]
  },
  {
   "cell_type": "code",
   "execution_count": 1,
   "id": "72758287-5894-43aa-9073-9f5064b10163",
   "metadata": {},
   "outputs": [
    {
     "name": "stdout",
     "output_type": "stream",
     "text": [
      "The  new balance of account 212234\n",
      "The  remaining balance in the account 212222\n"
     ]
    }
   ],
   "source": [
    "# step 1  creating the class  Bankaacount \n",
    "class BankAccount:\n",
    "# step 2  creating the constructor \n",
    "    def __init__(self, balance, accountnumber ):\n",
    "        self.__balance=balance#private member # prmoting data hiding as you know it can'b  be acessed in another class\n",
    "        self.__account_number=accountnumber# \n",
    "# step 3  creating the  founction for depositing money\n",
    "    def depositing(self, balance):\n",
    "        self.__balance+=balance\n",
    "        print(\"The  new balance of account\",self.__balance)\n",
    "# step 4  creating the founction to withdrawing money\n",
    "    def withdrawing(self, balance):\n",
    "        self.__balance-= balance\n",
    "        print(\"The  remaining balance in the account\", self.__balance)\n",
    "\n",
    "b=BankAccount(200000,12344223424)\n",
    "b.depositing(12234)\n",
    "b.withdrawing(12)"
   ]
  },
  {
   "cell_type": "code",
   "execution_count": null,
   "id": "7225060c-972f-4289-b24e-468eb849b4d6",
   "metadata": {},
   "outputs": [],
   "source": [
    "14. Create a Python class called `Employee` with private attributes for salary (`__salary`) and employee ID (`__employee_id`). Provide a method to calculate yearly bonuses."
   ]
  },
  {
   "cell_type": "code",
   "execution_count": 7,
   "id": "168866db-807f-4a7a-a104-7b898633e2bc",
   "metadata": {},
   "outputs": [
    {
     "name": "stdout",
     "output_type": "stream",
     "text": [
      "sallary of the person after bonous  24000\n"
     ]
    }
   ],
   "source": [
    "# step 1 creating the  class for Employee\n",
    "class Employe:\n",
    "    # step 2  creating the constructor \n",
    "    def __init__(self,sallary,employeid,attendance):\n",
    "        self.__sallary=sallary# private error \n",
    "        self.__employee_id=employeid\n",
    "        self.__attendance=attendance\n",
    "    # step 3  creating the founction bonus    \n",
    "    def bonus(self):\n",
    "        bonous=self.__attendance*10\n",
    "        sallary=self.__sallary+bonous\n",
    "        print(\"sallary of the person after bonous \", sallary)\n",
    "# example usage\n",
    "e=Employe(23000,89988,100)\n",
    "e.bonus()\n",
    "\n",
    "        \n",
    "        \n",
    "        \n",
    "        \n",
    "        "
   ]
  },
  {
   "cell_type": "code",
   "execution_count": null,
   "id": "7d7b8481-be3c-43f5-891a-3104a7f6c207",
   "metadata": {},
   "outputs": [],
   "source": [
    "15. Discuss the use of accessors and mutators in encapsulation. How do they help maintain control over \n",
    "attribute access?"
   ]
  },
  {
   "cell_type": "code",
   "execution_count": null,
   "id": "2c39beb6-c405-4926-98f5-a2494786d90d",
   "metadata": {},
   "outputs": [],
   "source": [
    "In other words acessor and muttator in encapsulation known  as  getter and setter method to acess to control access\n",
    "to the attributes or properties of an object.\n",
    "Acessor: It is used to  to recive the private  memberhese methods retrieve or return the values of private attributes. \n",
    "They allow external code to access the values without directly \n",
    "Mutator:These methods modify or set the values of private attributes.\n",
    "They enable external code to modify the values of attributes, \n",
    "THEY Acess control over attribute acess\n",
    "1.Controlled Access: By defining accessors and mutators, you control how external code interacts with an object's attributes. \n",
    "2.Validation and Data Integrity: Mutators (setters) enable you to validate incoming data before assigning it to an attribute.\n",
    "3.Abstraction of Implementation: Accessors and mutators abstract the implementation details of how attributes are stored or processed internally.\n"
   ]
  },
  {
   "cell_type": "code",
   "execution_count": null,
   "id": "80c4f3ec-9aaf-4db2-aa0d-28d81f74dd9a",
   "metadata": {},
   "outputs": [],
   "source": [
    "16.What are the potential drawbacks or disadvantages of using encapsulation in Python?"
   ]
  },
  {
   "cell_type": "code",
   "execution_count": null,
   "id": "0b51d6ac-3042-4fa8-8b05-59743d146481",
   "metadata": {},
   "outputs": [],
   "source": [
    "1. Increased Complexity: Encapsulation increased the complexity of a program  as in it  we need to set up numerous \n",
    "getter and setter method\n",
    "2. Difficulty in Debugging: Encapsualtaion cuase difficulty in debugging  as we create so many classe and \n",
    "founction which are public and private.\n",
    "3.Over-Encapsulation: Overusing encapsulation might lead to overly complex designs, violating the principle of simplicity. \n",
    "4.Potential for Misuse: Encapsulation can be misused by developers, leading to excessive layers of abstraction or unnecessary complexity in code."
   ]
  },
  {
   "cell_type": "code",
   "execution_count": null,
   "id": "6ed08b6a-f29e-493e-8c06-c0b972a6ed07",
   "metadata": {},
   "outputs": [],
   "source": [
    "17. Create a Python class for a library system that encapsulates book information, including titles, authors, \n",
    "and availability status"
   ]
  },
  {
   "cell_type": "code",
   "execution_count": 8,
   "id": "742a2671-1c37-4072-95b5-becadd5c0707",
   "metadata": {},
   "outputs": [
    {
     "name": "stdout",
     "output_type": "stream",
     "text": [
      "Book 'The Great Gatsby' by F. Scott Fitzgerald has been borrowed.\n",
      "Available Books:\n",
      "ID: 002, Title: 'To Kill a Mockingbird', Author: Harper Lee\n",
      "ID: 003, Title: '1984', Author: George Orwell\n",
      "Book 'The Great Gatsby' by F. Scott Fitzgerald has been returned.\n",
      "Available Books:\n",
      "ID: 001, Title: 'The Great Gatsby', Author: F. Scott Fitzgerald\n",
      "ID: 002, Title: 'To Kill a Mockingbird', Author: Harper Lee\n",
      "ID: 003, Title: '1984', Author: George Orwell\n"
     ]
    }
   ],
   "source": [
    "# step 1 creating the class Books\n",
    "class Book:\n",
    "    def __init__(self, book_id, title, author, available=True):\n",
    "        self.book_id = book_id\n",
    "        self.title = title\n",
    "        self.author = author\n",
    "        self.available = available\n",
    "\n",
    "# step 2 creating class of library\n",
    "class Library:\n",
    "    def __init__(self):\n",
    "        self.books = []\n",
    "# step 3 crating the founction  to add_ books\n",
    "    def add_book(self, book_id, title, author):\n",
    "        book = Book(book_id, title, author)\n",
    "        self.books.append(book)\n",
    "# step 4  creating the founction to borrow book\n",
    "    def borrow_book(self, book_id):\n",
    "        for book in self.books:\n",
    "            if book.book_id == book_id and book.available:\n",
    "                book.available = False\n",
    "                print(f\"Book '{book.title}' by {book.author} has been borrowed.\")\n",
    "                return\n",
    "        print(\"Book not available for borrowing.\")\n",
    "# step 5  creating the founction to return book\n",
    "    def return_book(self, book_id):\n",
    "        for book in self.books:\n",
    "            if book.book_id == book_id and not book.available:\n",
    "                book.available = True\n",
    "                print(f\"Book '{book.title}' by {book.author} has been returned.\")\n",
    "                return\n",
    "        print(\"Invalid book ID or book already available.\")\n",
    "# step 6   founction to display avilable books\n",
    "    def display_available_books(self):\n",
    "        available_books = [book for book in self.books if book.available]\n",
    "        if available_books:\n",
    "            print(\"Available Books:\")\n",
    "            for book in available_books:\n",
    "                print(f\"ID: {book.book_id}, Title: '{book.title}', Author: {book.author}\")\n",
    "        else:\n",
    "            print(\"No books available.\")\n",
    "\n",
    "# Example usage:\n",
    "library = Library()\n",
    "library.add_book(\"001\", \"The Great Gatsby\", \"F. Scott Fitzgerald\")\n",
    "library.add_book(\"002\", \"To Kill a Mockingbird\", \"Harper Lee\")\n",
    "library.add_book(\"003\", \"1984\", \"George Orwell\")\n",
    "\n",
    "library.borrow_book(\"001\")\n",
    "library.display_available_books()\n",
    "\n",
    "library.return_book(\"001\")\n",
    "library.display_available_books()"
   ]
  },
  {
   "cell_type": "code",
   "execution_count": null,
   "id": "dc6baa29-43dc-4d8a-9b8a-84827551ad47",
   "metadata": {},
   "outputs": [],
   "source": [
    "18. Explain how encapsulation enhances code reusability and modularity in Python programs"
   ]
  },
  {
   "cell_type": "code",
   "execution_count": null,
   "id": "5fd18f39-4646-48ed-80ba-7ed7f97bb7f6",
   "metadata": {},
   "outputs": [],
   "source": [
    "Modularity:\n",
    "Encapsulation encourages the organization of code into separate modules or classes. Each class encapsulates its own data and behavior, forming modular components.\n",
    "By hiding the internal workings (implementation details) of a class behind well-defined interfaces, encapsulation allows modules to interact through these interfaces \n",
    "without needing to understand the underlying complexity. \n",
    "Code Reusability:\n",
    "Encapsulation promotes the reuse of code by providing a clear, standardized way to interact with objects. Public interfaces (methods and properties) abstract away the implementation details,\n",
    "allowing other parts of the program to use objects without needing to understand their internal workings.\n",
    "Through inheritance and composition, encapsulation facilitates code reuse. Subclasses can inherit behavior from their parent classes without directly accessing their internal details.\n",
    "This inheritance mechanism enables the reuse of methods and attributes defined in parent classes."
   ]
  },
  {
   "cell_type": "code",
   "execution_count": null,
   "id": "659d4232-f2b4-4bc6-80ae-e0bbd71462ec",
   "metadata": {},
   "outputs": [],
   "source": [
    "19. Describe the concept of information hiding in encapsulation. Why is it essential in software development"
   ]
  },
  {
   "cell_type": "code",
   "execution_count": null,
   "id": "45e383c7-9d84-4dd2-95a3-d5259d0f2226",
   "metadata": {},
   "outputs": [],
   "source": [
    "Ans:Data hiding  - data hiding is special chracterstic of oops, it hides  internal implimentation of  oops  like data types objects and  everything.\n",
    "It restricts direct access to certain components of an object and only allows access through well-defined interfaces. This helps in maintaining the \n",
    "integrity of the data and prevents unauthorized access or modification, ensuring that the object's internal workings remain hidden and protected.\n",
    " ITS important  in encapsulation:\n",
    "        In encapsulation we know  it binds data types, methods, and function into single unit. In encapsulation we don't give acess to or restrict \n",
    "        acess of certain  data  or methods. by using the private , public , protected  acess specifier.\n",
    "It' Special in in software development  as it  it hide important implimrntation founctions, it does not show all \n",
    "information on computer screen ."
   ]
  },
  {
   "cell_type": "code",
   "execution_count": null,
   "id": "047ece92-4a2a-4347-a4da-98e3cf0790ed",
   "metadata": {},
   "outputs": [],
   "source": [
    "20. Create a Python class called `Customer` with private attributes for customer details like name, address, \n",
    "and contact information. Implement encapsulation to ensure data integrity and security"
   ]
  },
  {
   "cell_type": "code",
   "execution_count": 1,
   "id": "4878a68a-fb97-4923-b2da-aa514337a306",
   "metadata": {},
   "outputs": [
    {
     "name": "stdout",
     "output_type": "stream",
     "text": [
      "Name of the Employe Amrit\n",
      "Adress of the  Employe RAMPURI\n",
      "Contact information of the Employee 7668563613\n"
     ]
    }
   ],
   "source": [
    "# step 1 create a class  customer \n",
    "class customer:\n",
    "    # step 2  create a constuctor  \n",
    "    def __init__(self,name, address, contactinformation):\n",
    "        self.__name=name# creating the private members  for ptomoting data  security and intregrity\n",
    "        self.__address=address\n",
    "        self.__contactinformation=contactinformation\n",
    "    # step 3 create founction to display details\n",
    "    def display_details(self):\n",
    "        print(\"Name of the Employe\",self.__name)\n",
    "        print(\"Adress of the  Employe\",self.__address)\n",
    "        print(\"Contact information of the Employee\",self.__contactinformation)\n",
    "# example usage\n",
    "e=customer(\"Amrit\", \"RAMPURI\",  7668563613)\n",
    "e.display_details()\n",
    "    "
   ]
  },
  {
   "cell_type": "code",
   "execution_count": null,
   "id": "10395522-4846-4def-993e-cf3eaa3d83bb",
   "metadata": {},
   "outputs": [],
   "source": [
    "                                                                        Topic:Polymorphism:"
   ]
  },
  {
   "cell_type": "code",
   "execution_count": null,
   "id": "8e68a707-92de-436e-ba49-0302d2f355fe",
   "metadata": {},
   "outputs": [],
   "source": [
    "1. What is polymorphism in Python? Explain how it is related to object-oriented programming"
   ]
  },
  {
   "cell_type": "code",
   "execution_count": null,
   "id": "3c253910-beb3-485b-944b-db22049c1b9b",
   "metadata": {},
   "outputs": [],
   "source": [
    "ANS: Polymorphism word comes from the greek word. Basically polymorhishm means  entity in a code  such as variable , function , object have more tha one form\n",
    "It gives flexiblity  for more modular reusable code , making object -oriented programming skills \n",
    "more powerful and adaptable in var"
   ]
  },
  {
   "cell_type": "code",
   "execution_count": null,
   "id": "4cd8637a-73a8-4d77-be8d-9872580f92a0",
   "metadata": {},
   "outputs": [],
   "source": [
    "2. Describe the difference between compile-time polymorphism and runtime polymorphism in Python."
   ]
  },
  {
   "cell_type": "code",
   "execution_count": null,
   "id": "932a1b8e-4f7f-4159-a483-7932b436c34f",
   "metadata": {},
   "outputs": [],
   "source": [
    "1.Compile Time polymorphism:\n",
    "    1.Compile time polymorphism means binding is occuring  at compile time\n",
    "    2.Compile time polymorphism have same name but diffren types or numbers \n",
    "    basically it's not supported in Python\n",
    "    3.Involves defining operators to behave differently based on operands, resolved at \n",
    "    compile time in some languages\n",
    "    4.Resolves method calls and operations during compile time, although in\n",
    "    Python, due to its dynamic nature\n",
    "    5.Method overloading, operator overloading\n",
    "2.Runtime Polymorphism:\n",
    "    1.it occur at runtime\n",
    "    2.Not directly supported in Python, but similar effects can be achieved using default \n",
    "    arguments or variable arguments.\n",
    "    3..Operators can be overloaded in Python; resolution occurs dynamically at runtime based\n",
    "    on the operands.\n",
    "    4.Resolves method calls and behaviors dynamically during runtime based on the object's \n",
    "    actual type and the method overridden in subclasses\n",
    "    5.Method overriding, inheritance"
   ]
  },
  {
   "cell_type": "code",
   "execution_count": null,
   "id": "7437ecad-5be5-4ce3-ac40-a1ad14044880",
   "metadata": {},
   "outputs": [],
   "source": [
    "3. Create a Python class hierarchy for shapes (e.g., circle, square, triangle) and demonstrate polymorphism \n",
    " through a common method, such as `calculate_area()"
   ]
  },
  {
   "cell_type": "code",
   "execution_count": 22,
   "id": "18c4c823-aee0-46e5-872b-90a27fee9441",
   "metadata": {},
   "outputs": [
    {
     "name": "stdout",
     "output_type": "stream",
     "text": [
      "Area of a circle 12.56\n",
      "Area of a square 144\n",
      "Aere of  a triangle  1.0\n"
     ]
    }
   ],
   "source": [
    "# step 1  creating the  class shape \n",
    "class shape:\n",
    "    def calculate_area(self):\n",
    "        pass \n",
    "# step2  creating the class  circle \n",
    "class circle(shape):\n",
    "    def __init__(self, radius):\n",
    "        self.radius=radius\n",
    "    def calculate_area(self):\n",
    "        return 3.14*self.radius**2\n",
    "# step 3  creating the class  square \n",
    "class square(shape):\n",
    "    def __init__(self, side):\n",
    "        self.side=side\n",
    "    def calculate_area(self):\n",
    "        return self.side**2\n",
    "# step 4  creating the class triangle \n",
    "class triangle(shape):\n",
    "    def __init__(self, base,hieght):\n",
    "        self.base=base\n",
    "        self.hieght=hieght\n",
    "    def calculate_area(self):\n",
    "        return 0.5*self.base*self.hieght\n",
    "# step 5 creating the object of respective classes\n",
    "c=circle(2)\n",
    "print(\"Area of a circle\", c.calculate_area())\n",
    "s=square(12)\n",
    "print(\"Area of a square\",s.calculate_area())\n",
    "t=triangle(1,2)\n",
    "print(\"Aere of  a triangle \", t.calculate_area())\n",
    "\n"
   ]
  },
  {
   "cell_type": "code",
   "execution_count": null,
   "id": "28b4c2dc-137e-40e0-a15f-2f62789e8d62",
   "metadata": {},
   "outputs": [],
   "source": [
    "4. Explain the concept of method overriding in polymorphism. Provide an example"
   ]
  },
  {
   "cell_type": "code",
   "execution_count": null,
   "id": "280fbfd9-a871-45c2-954d-6106ea75d288",
   "metadata": {},
   "outputs": [],
   "source": [
    "Method overriding is a fundamental concept in object-oriented programming that allows a subclass to provide a specific implementation of a method that is already defined in its superclass. When a method in a subclass has the same name, same parameters, and \n",
    "the same return type as a method in its superclass, it overrides the superclass method.\n",
    "Example below:"
   ]
  },
  {
   "cell_type": "code",
   "execution_count": 4,
   "id": "ddfe11e9-06be-4821-883e-0e96b8c26da7",
   "metadata": {},
   "outputs": [
    {
     "name": "stdout",
     "output_type": "stream",
     "text": [
      "meow\n",
      "abark\n"
     ]
    }
   ],
   "source": [
    "# step 1  creating the class animal\n",
    "class Animal:\n",
    "    def make_sound(self):\n",
    "        return \"Some generic sound\"\n",
    "# step 2  creating the class  cat \n",
    "class cat(Animal):\n",
    "    def make_sound(self):\n",
    "        return \"meow\"\n",
    "# step 3  creating the class of dog  who bark\n",
    "class dog(Animal):\n",
    "    def  make_sound(self):\n",
    "        return \"bark\"\n",
    "x=cat()\n",
    "y=dog()\n",
    "print(x.make_sound())\n",
    "print(y.make_sound())\n",
    "    \n",
    "\n"
   ]
  },
  {
   "cell_type": "code",
   "execution_count": null,
   "id": "d35b3472-64ac-487e-aa28-9268c3260467",
   "metadata": {},
   "outputs": [],
   "source": [
    "5. How is polymorphism different from method overloading in Python? Provide examples for both."
   ]
  },
  {
   "cell_type": "code",
   "execution_count": null,
   "id": "79cb66d5-76b1-49b8-90b7-d94875a216ba",
   "metadata": {},
   "outputs": [],
   "source": [
    "polymporphishm: Polymorphism word comes from the greek word. Basically polymorhish means  entity in a code  such as variable , function , object have more tha one form\n",
    "It gives flexiblity  for more modular reusable code , making object -oriented programming skills \n",
    "more powerful and adaptable in var. It allows different classes to have methods with the same name but different implementations\n",
    "example:"
   ]
  },
  {
   "cell_type": "code",
   "execution_count": 5,
   "id": "040f0bbf-1808-4506-b09d-597bb186c788",
   "metadata": {},
   "outputs": [
    {
     "name": "stdout",
     "output_type": "stream",
     "text": [
      "Area of a circle 12.56\n",
      "Area of a square 144\n",
      "Aere of  a triangle  1.0\n"
     ]
    }
   ],
   "source": [
    "# step 1  creating the  class shape \n",
    "class shape:\n",
    "    def calculate_area(self):\n",
    "        pass \n",
    "# step2  creating the class  circle \n",
    "class circle(shape):\n",
    "    def __init__(self, radius):\n",
    "        self.radius=radius\n",
    "    def calculate_area(self):\n",
    "        return 3.14*self.radius**2\n",
    "# step 3  creating the class  square \n",
    "class square(shape):\n",
    "    def __init__(self, side):\n",
    "        self.side=side\n",
    "    def calculate_area(self):\n",
    "        return self.side**2\n",
    "# step 4  creating the class triangle \n",
    "class triangle(shape):\n",
    "    def __init__(self, base,hieght):\n",
    "        self.base=base\n",
    "        self.hieght=hieght\n",
    "    def calculate_area(self):\n",
    "        return 0.5*self.base*self.hieght\n",
    "# step 5 creating the object of respective classes\n",
    "c=circle(2)\n",
    "print(\"Area of a circle\", c.calculate_area())\n",
    "s=square(12)\n",
    "print(\"Area of a square\",s.calculate_area())\n",
    "t=triangle(1,2)\n",
    "print(\"Aere of  a triangle \", t.calculate_area())\n",
    "\n"
   ]
  },
  {
   "cell_type": "code",
   "execution_count": null,
   "id": "b737edd0-6b7a-4d82-af59-db7f7eb2f707",
   "metadata": {},
   "outputs": [],
   "source": [
    "2. Mthod overloading :Python does not support method overloading in the same way as some other languages (like Java or C++), where multiple methods with the same name but different parameters can exist in the same class. In Python, the last defined method \n",
    "with a particular name in a class overrides the previously defined ones.\n",
    "Example Below:"
   ]
  },
  {
   "cell_type": "code",
   "execution_count": 8,
   "id": "a6358884-6c9c-44ef-a135-834375575abe",
   "metadata": {},
   "outputs": [
    {
     "name": "stdout",
     "output_type": "stream",
     "text": [
      "9\n"
     ]
    },
    {
     "ename": "TypeError",
     "evalue": "Calculator.add() missing 1 required positional argument: 'c'",
     "output_type": "error",
     "traceback": [
      "\u001b[0;31m---------------------------------------------------------------------------\u001b[0m",
      "\u001b[0;31mTypeError\u001b[0m                                 Traceback (most recent call last)",
      "Cell \u001b[0;32mIn[8], line 12\u001b[0m\n\u001b[1;32m      9\u001b[0m calc \u001b[38;5;241m=\u001b[39m Calculator()\n\u001b[1;32m     11\u001b[0m \u001b[38;5;28mprint\u001b[39m(calc\u001b[38;5;241m.\u001b[39madd(\u001b[38;5;241m2\u001b[39m, \u001b[38;5;241m3\u001b[39m, \u001b[38;5;241m4\u001b[39m))   \u001b[38;5;66;03m# Output: 9\u001b[39;00m\n\u001b[0;32m---> 12\u001b[0m \u001b[38;5;28mprint\u001b[39m(\u001b[43mcalc\u001b[49m\u001b[38;5;241;43m.\u001b[39;49m\u001b[43madd\u001b[49m\u001b[43m(\u001b[49m\u001b[38;5;241;43m12\u001b[39;49m\u001b[43m,\u001b[49m\u001b[38;5;241;43m2\u001b[39;49m\u001b[43m)\u001b[49m)\n",
      "\u001b[0;31mTypeError\u001b[0m: Calculator.add() missing 1 required positional argument: 'c'"
     ]
    }
   ],
   "source": [
    "# step 1   creating the class calculator \n",
    "class Calculator:\n",
    "    def add(self, a, b):\n",
    "        return a + b\n",
    "\n",
    "    def add(self, a, b, c):\n",
    "        return a + b + c\n",
    "\n",
    "# Usage example\n",
    "calc = Calculator()\n",
    "\n",
    "print(calc.add(2, 3, 4))   # Output: 9\n",
    "print(calc.add(12,2))# it will create aeror "
   ]
  },
  {
   "cell_type": "code",
   "execution_count": null,
   "id": "68fbf69f-8630-40a6-9e8c-27b0f27de131",
   "metadata": {},
   "outputs": [],
   "source": [
    "6. Create a Python class called `Animal` with a method `speak()`. Then, create child classes like `Dog`, `Cat`, and `Bird`, each with their own `speak()` method. Demonstrate polymorphism by calling the `speak()` method \n",
    "on objects of different subclasses."
   ]
  },
  {
   "cell_type": "code",
   "execution_count": 3,
   "id": "98e097f3-78d4-424f-a1ab-12aedf8762a7",
   "metadata": {},
   "outputs": [
    {
     "name": "stdout",
     "output_type": "stream",
     "text": [
      "sound of dog bark bark\n",
      "sound of cat meowww\n",
      "sound of bird quek - quek\n"
     ]
    }
   ],
   "source": [
    "# step 1 creqating the class Animal\n",
    "class Animal:\n",
    "    def speak(self):\n",
    "        return \"genric sound\"\n",
    "# step 2  creating the class of dog\n",
    "class  Dog(Animal):\n",
    "    def spaek(self):\n",
    "        return \"bark bark\"\n",
    "# step 3  creating the class of cat \n",
    "class Cat(Animal):\n",
    "    def speak(self):\n",
    "        return \"meowww\"\n",
    "# step4  creating the class of bird\n",
    "class bird(Animal):\n",
    "    def speak(self):\n",
    "        return \"quek - quek\"\n",
    "d=Dog()\n",
    "print(\"sound of dog\",d.spaek())\n",
    "c=Cat()\n",
    "print(\"sound of cat\",c.speak())\n",
    "b=bird()\n",
    "print(\"sound of bird\",b.speak())\n",
    "\n",
    "\n"
   ]
  },
  {
   "cell_type": "code",
   "execution_count": null,
   "id": "90f8dfe8-b6e2-4656-9dba-ba03ce9f32e5",
   "metadata": {},
   "outputs": [],
   "source": [
    "7.Discuss the use of abstract methods and classes in achieving polymorphism in Python. Provide an example \n",
    "using the `abc` module"
   ]
  },
  {
   "cell_type": "code",
   "execution_count": null,
   "id": "e4ce92e0-3e14-42f7-bfcd-8c24afe95316",
   "metadata": {},
   "outputs": [],
   "source": [
    "Ans:Polymorphism in Python can be achieved using abstract methods and classes from the abc (Abstract Base Classes) module. Abstract methods are defined in abstract classes but don't contain any implementation. They serve as a blueprint\n",
    "for methods that must be implemented by subclasses. This structure allows different classes to implement the same method name but with different behaviors.\n",
    "exasmple"
   ]
  },
  {
   "cell_type": "code",
   "execution_count": 7,
   "id": "3e6e84a6-69b6-41dc-9620-af1f10b38038",
   "metadata": {},
   "outputs": [
    {
     "name": "stdout",
     "output_type": "stream",
     "text": [
      "Area of rectangle: 144\n",
      "Area of circle: 50.24\n"
     ]
    }
   ],
   "source": [
    "from abc import ABC, abstractmethod\n",
    "# define  an abstract class with abstract methods\n",
    "class shape(ABC):\n",
    "    def area(self):\n",
    "        pass\n",
    "#step 2  creating the another class which inherited from parent class\n",
    "class rectangle(shape):\n",
    "    def __init__(self, width, height):\n",
    "        self.width=width\n",
    "        self.hieght=height\n",
    "    \n",
    "    def area(self):\n",
    "        return self.width*self.hieght\n",
    "class circle(shape):\n",
    "    def __init__(self, radius):\n",
    "        self.radius=radius\n",
    "    def area(self):\n",
    "        return 3.14*self.radius**2\n",
    "# example usage\n",
    "rect=rectangle(12,12)\n",
    "circ=circle(4)\n",
    "# Call the area method on different objects\n",
    "print(\"Area of rectangle:\", rect.area())  # Outputs: 50\n",
    "print(\"Area of circle:\", circ.area()) \n",
    "\n",
    "\n",
    "\n",
    "\n",
    "        "
   ]
  },
  {
   "cell_type": "code",
   "execution_count": null,
   "id": "29f453e7-0878-4a5b-a6f5-1969d17fa320",
   "metadata": {},
   "outputs": [],
   "source": [
    "8. Create a Python class hierarchy for a vehicle system (e.g., car, bicycle, boat) and implement a polymorphic `start()` method that prints a message specific to each vehicle typ"
   ]
  },
  {
   "cell_type": "code",
   "execution_count": 4,
   "id": "d5f68423-aee2-4815-bafb-21aceb4d7e41",
   "metadata": {},
   "outputs": [
    {
     "name": "stdout",
     "output_type": "stream",
     "text": [
      "sir please start driving \n",
      "sir please paddel \n",
      "sir drive safely\n"
     ]
    }
   ],
   "source": [
    "# step 1  create a class vehicle\n",
    "class vehicle:\n",
    "    def start(self):\n",
    "        pass\n",
    "# step2  create class car\n",
    "class  car(vehicle):\n",
    "    def start(self):\n",
    "        print(\"sir please start driving \")\n",
    "# step 3 create a class bicycle \n",
    "class bicycle(vehicle):\n",
    "    def start(self):\n",
    "        print(\"sir please paddel \")\n",
    "# step 4  create a class boat\n",
    "class boat(vehicle):\n",
    "    def start(self):\n",
    "        print(\"sir drive safely\")\n",
    "c=car()\n",
    "b=bicycle()\n",
    "o=boat()\n",
    "c.start()\n",
    "b.start()\n",
    "o.start()\n",
    "\n",
    "    \n",
    "    \n",
    "    "
   ]
  },
  {
   "cell_type": "code",
   "execution_count": null,
   "id": "676b3528-957d-4357-bf4a-e47f6bc5f79b",
   "metadata": {},
   "outputs": [],
   "source": [
    "9. Explain the significance of the `isinstance()` and `issubclass()` functions in Python polymorphism"
   ]
  },
  {
   "cell_type": "code",
   "execution_count": null,
   "id": "77636f90-3d9e-4388-a77b-63de38c91339",
   "metadata": {},
   "outputs": [],
   "source": [
    "1.isinstance() function:\n",
    "    checks whether an object belongs to a particular class or its subclass. It's valuable in scenarios where you want\n",
    "    to ensure compatibility before performing certain operations on an object.\n",
    "use of polymorphism:\n",
    "It allows code to handle objects of different types in a unified manner. For example, in a polymorphic function that can accept various types of objects,\n",
    "you can use isinstance() to identify the type of object and perform specific actions accordingly.\n",
    "\n",
    "2.  `issubclass()` function:checks if a given class is a subclass of another class. It helps understand the class hierarchy and \n",
    "relationships between classes.\n",
    "use of Polymorphism:\n",
    "    It assists in designing polymorphic behavior by ensuring inheritance relationships between classes.\n",
    "    "
   ]
  },
  {
   "cell_type": "code",
   "execution_count": null,
   "id": "16c79ab9-654a-4293-b3a3-7044dfd0ed20",
   "metadata": {},
   "outputs": [],
   "source": [
    "10.. What is the role of the `@abstractmethod` decorator in achieving polymorphism in Python? Provide an \n",
    "example."
   ]
  },
  {
   "cell_type": "code",
   "execution_count": null,
   "id": "4ddaa552-cd92-4346-a1d6-7e5fbd1429fb",
   "metadata": {},
   "outputs": [],
   "source": [
    "The 'abstractmethod ' decorator  from abc(Abstract base class)\n",
    "module  is crucial in achieving polymorphismby defining abstract methods \n",
    "in abstract classes  . Abstract method don't contain any implementation in the base\n",
    "class but must be implemented in the subclass.This structure ensures that different\n",
    "subclasses can have their own specific implementations for these methods while conforming to a common interface."
   ]
  },
  {
   "cell_type": "code",
   "execution_count": 5,
   "id": "b5cc1abc-53b3-468f-bce5-3fcf716609b9",
   "metadata": {},
   "outputs": [
    {
     "name": "stdout",
     "output_type": "stream",
     "text": [
      "Area of rectangle: 144\n",
      "Area of circle: 50.24\n"
     ]
    }
   ],
   "source": [
    "from abc import ABC, abstractmethod\n",
    "#  step 1 define  an abstract class with abstract methods\n",
    "class shape(ABC):\n",
    "    def area(self):\n",
    "        pass\n",
    "#step 2  creating the another class which inherited from parent class\n",
    "class rectangle(shape):\n",
    "    def __init__(self, width, height):\n",
    "        self.width=width\n",
    "        self.hieght=height\n",
    "    \n",
    "    def area(self):\n",
    "        return self.width*self.hieght\n",
    "# step 3 creating the class circle\n",
    "class circle(shape):\n",
    "    def __init__(self, radius):\n",
    "        self.radius=radius\n",
    "    def area(self):\n",
    "        return 3.14*self.radius**2\n",
    "# example usage\n",
    "rect=rectangle(12,12)\n",
    "circ=circle(4)\n",
    "# Call the area method on different objects\n",
    "print(\"Area of rectangle:\", rect.area())  # Outputs: 50\n",
    "print(\"Area of circle:\", circ.area()) \n",
    "\n"
   ]
  },
  {
   "cell_type": "code",
   "execution_count": null,
   "id": "edcec191-ca26-49da-9da1-cef70cdf22a8",
   "metadata": {},
   "outputs": [],
   "source": [
    "11. Create a Python class called `Shape` with a polymorphic method `area()` that calculates the area of different shapes (e.g., circle, rectangle, triang"
   ]
  },
  {
   "cell_type": "code",
   "execution_count": 7,
   "id": "90afd71c-7c04-4d2e-b113-feab5de8afee",
   "metadata": {},
   "outputs": [
    {
     "name": "stdout",
     "output_type": "stream",
     "text": [
      "Area of a circle 12.56\n",
      "Area of a square 144\n",
      "Aere of  a triangle  1.0\n"
     ]
    }
   ],
   "source": [
    "# step 1  creating the  class shape \n",
    "class shape:\n",
    "    def area(self):\n",
    "        pass \n",
    "# step2  creating the class  circle \n",
    "class circle(shape):\n",
    "    def __init__(self, radius):\n",
    "        self.radius=radius\n",
    "    def area(self):\n",
    "        return 3.14*self.radius**2\n",
    "# step 3  creating the class  square \n",
    "class square(shape):\n",
    "    def __init__(self, side):\n",
    "        self.side=side\n",
    "    def area(self):\n",
    "        return self.side**2\n",
    "# step 4  creating the class triangle \n",
    "class triangle(shape):\n",
    "    def __init__(self, base,hieght):\n",
    "        self.base=base\n",
    "        self.hieght=hieght\n",
    "    def area(self):\n",
    "        return 0.5*self.base*self.hieght\n",
    "# step 5 creating the object of respective classes\n",
    "c=circle(2)\n",
    "print(\"Area of a circle\", c.area())\n",
    "s=square(12)\n",
    "print(\"Area of a square\",s.area())\n",
    "t=triangle(1,2)\n",
    "print(\"Aere of  a triangle \", t.area())\n"
   ]
  },
  {
   "cell_type": "code",
   "execution_count": null,
   "id": "52d08f78-974c-4600-9e1f-eba2f326f345",
   "metadata": {},
   "outputs": [],
   "source": [
    "12. Discuss the benefits of polymorphism in terms of code reusability and flexibility in Python programs."
   ]
  },
  {
   "cell_type": "code",
   "execution_count": null,
   "id": "6025eb8e-9c86-4d2c-8733-e0d1833d8a6e",
   "metadata": {},
   "outputs": [],
   "source": [
    "1.Reusablity: Polymorphism prmote the reusablity of a code by founction overrriding \n",
    "Interface Consistency: Polymorphism allows different objects to be treated uniformly via a shared interface. This means that objects of different classes that implement the same interface can be used interchangeably. This leads to reusable code as functions\n",
    "or methods can operate on objects without needing to know their specific types.\n",
    "Inheritance and Subtyping: By utilizing inheritance and polymorphism, common functionalities can be implemented in a base class and reused across multiple subclasses. This promotes the DRY (Don't Repeat Yourself) principle by minimizing duplicate code.\n",
    "2.Flexiblity:\n",
    "Adaptability to Change: Polymorphism enables developers to introduce new classes or behaviors without altering existing code. Adding a new subclass that conforms to an existing interface allows it to seamlessly integrate with the existing codebase. \n",
    "This makes the code more adaptable to changes and extensions.\n",
    "Reduced Coupling: Polymorphism helps reduce tight coupling between components. Since code interacts based on interfaces rather than specific implementations, changes in one part of the codebase are less likely to have cascading effects on other parts."
   ]
  },
  {
   "cell_type": "code",
   "execution_count": null,
   "id": "7c0882c2-53a2-450d-b15e-49ca9d08638f",
   "metadata": {},
   "outputs": [],
   "source": [
    "13. Explain the use of the `super()` function in Python polymorphism. How does it help call methods of parent \n",
    "classes"
   ]
  },
  {
   "cell_type": "code",
   "execution_count": null,
   "id": "ca3a0793-c22c-4945-bb87-a8f6d98e0be4",
   "metadata": {},
   "outputs": [],
   "source": [
    "The super() function in Python is used to call methods and access attributes from the parent class within a subclass.\n",
    "It helps achieve polymorphic behavior by allowing a subclass to invoke methods of its superclass, facilitating method overriding and extension without explicitly naming the parent class."
   ]
  },
  {
   "cell_type": "code",
   "execution_count": null,
   "id": "fa188036-cb72-4d1e-a1de-7449b8d0f916",
   "metadata": {},
   "outputs": [],
   "source": [
    "Accessing Parent Class Methods: Using super(), you can call methods of the superclass from within a subclass, \n",
    "even when the method has been overridden in the subclass"
   ]
  },
  {
   "cell_type": "code",
   "execution_count": null,
   "id": "ac5da305-2c7d-463a-a753-bc2474cf1067",
   "metadata": {},
   "outputs": [],
   "source": [
    "14. Create a Python class hierarchy for a banking system with various account types (e.g., savings, checking, credit card) and demonstrate polymorphism by implementing a common `withdraw()` method."
   ]
  },
  {
   "cell_type": "code",
   "execution_count": 3,
   "id": "050df70c-c6a6-492c-8c51-ee2ddd943e7d",
   "metadata": {},
   "outputs": [],
   "source": [
    "# step1 creating the class account \n",
    "class Account:\n",
    "    # step2 creating the constructor\n",
    "    def __init__(self, account_number, balance):\n",
    "        self.account_number = account_number\n",
    "        self.balance = balance\n",
    "    # steep 3 creating the deposit founction\n",
    "    def deposit(self, amount):\n",
    "        self.balance += amount\n",
    "        print(f\"Deposited {amount}. New balance is {self.balance}\")\n",
    "    # step 4  creating the founction to withdraw\n",
    "    def withdraw(self, amount):\n",
    "        pass  # To be overridden by subclasses\n",
    "\n",
    "# step 5 creating the class saving account \n",
    "class SavingsAccount(Account):\n",
    "    def withdraw(self, amount):\n",
    "        if self.balance >= amount:\n",
    "            self.balance -= amount\n",
    "            print(f\"Withdrew {amount} from Savings Account. New balance is {self.balance}\")\n",
    "        else:\n",
    "            print(\"Insufficient funds\")\n",
    "# step 6  creating the  class checking account \n",
    "\n",
    "class CheckingAccount(Account):\n",
    "    def withdraw(self, amount):\n",
    "        if self.balance - amount >= 0:\n",
    "            self.balance -= amount\n",
    "            print(f\"Withdrew {amount} from Checking Account. New balance is {self.balance}\")\n",
    "        else:\n",
    "            print(\"Insufficient funds\")\n",
    "\n",
    "# creating the class credit card account \n",
    "class CreditCardAccount(Account):\n",
    "    def withdraw(self, amount):\n",
    "        # For simplicity, assume credit card allows unlimited withdrawal\n",
    "        self.balance -= amount\n",
    "        print(f\"Withdrew {amount} from Credit Card. New balance is {self.balance}\")\n",
    "\n",
    "    "
   ]
  },
  {
   "cell_type": "code",
   "execution_count": 4,
   "id": "9ae7f4bd-2a92-4eb9-b7c9-bc8425236824",
   "metadata": {},
   "outputs": [
    {
     "name": "stdout",
     "output_type": "stream",
     "text": [
      "Withdrew 500 from Savings Account. New balance is 500\n",
      "Withdrew 1000 from Checking Account. New balance is 1000\n",
      "Withdrew 2000 from Credit Card. New balance is 3000\n"
     ]
    }
   ],
   "source": [
    "# Create instances of different account types\n",
    "savings = SavingsAccount(\"SA001\", 1000)\n",
    "checking = CheckingAccount(\"CA001\", 2000)\n",
    "credit_card = CreditCardAccount(\"CC001\", 5000)\n",
    "\n",
    "# Demonstrate polymorphism by calling withdraw() on different account types\n",
    "savings.withdraw(500)  # Will withdraw from Savings Account\n",
    "checking.withdraw(1000)  # Will withdraw from Checking Account\n",
    "credit_card.withdraw(2000)  # Will withdraw from Credit Card\n"
   ]
  },
  {
   "cell_type": "code",
   "execution_count": null,
   "id": "2f97572c-fc9c-4b3f-8010-cb4dc9ccf4a5",
   "metadata": {},
   "outputs": [],
   "source": [
    "15. Describe the concept of operator overloading in Python and how it relates to polymorphism. Provide \n",
    "examples using operators like `+` and `*`."
   ]
  },
  {
   "cell_type": "code",
   "execution_count": null,
   "id": "bbc9d9d8-f518-4093-90a1-10725aeec001",
   "metadata": {},
   "outputs": [],
   "source": [
    "Ans: operator overloading  in python refers to ablity to redifine the bheavior  of built\n",
    "in operator  such as '+','-', '*','/','==' and others for user defined classes . By implementing the special methods with in class.\n",
    " \n",
    "This concept  relates  closely to polymorphism becuse it allows diffent classes to define thier own\n",
    "implementaion for same operators .\n",
    " Example Below:"
   ]
  },
  {
   "cell_type": "code",
   "execution_count": 1,
   "id": "dac80a2d-2f8c-4315-a436-b14cf5d63fc7",
   "metadata": {},
   "outputs": [
    {
     "name": "stdout",
     "output_type": "stream",
     "text": [
      "Result of addition: (6, 8)\n",
      "Result of multiplication: (6, 9)\n"
     ]
    }
   ],
   "source": [
    "# step 1 creating the class  point\n",
    "class Point:\n",
    "    def __init__(self, x, y):\n",
    "        self.x = x\n",
    "        self.y = y\n",
    "    \n",
    "    # step 2  Overloading the addition operator '+'\n",
    "    def __add__(self, other):\n",
    "        return Point(self.x + other.x, self.y + other.y)\n",
    "    \n",
    "    #  step 3 Overloading the multiplication operator '*'\n",
    "    def __mul__(self, scalar):\n",
    "        return Point(self.x * scalar, self.y * scalar)\n",
    "    \n",
    "    def __str__(self):\n",
    "        return f\"({self.x}, {self.y})\"\n",
    "\n",
    "# example usage Creating instances of the Point class\n",
    "p1 = Point(2, 3)\n",
    "p2 = Point(4, 5)\n",
    "\n",
    "# Overloaded addition: p1 + p2\n",
    "result_add = p1 + p2\n",
    "print(\"Result of addition:\", result_add)  # Output: Result of addition: (6, 8)\n",
    "\n",
    "# Overloaded multiplication: p1 * 3\n",
    "result_mul = p1 * 3\n",
    "print(\"Result of multiplication:\", result_mul)  # Output: Result of multiplication: (6, 9)\n"
   ]
  },
  {
   "cell_type": "code",
   "execution_count": null,
   "id": "c202d41a-4576-4610-9109-0270769d3c21",
   "metadata": {},
   "outputs": [],
   "source": [
    "16. What is dynamic polymorphism, and how is it achieved in Python?"
   ]
  },
  {
   "cell_type": "code",
   "execution_count": null,
   "id": "75182d2f-5e2c-419b-b727-3f3a2e59935b",
   "metadata": {},
   "outputs": [],
   "source": [
    "Dynamic polymorphism, also known as runtime polymorphism, refers to the ability of a method to behave differently based on the object it's called upon. This allows \n",
    "different classes to be treated as instances of a common superclass, and when a method is called on an object, the specific implementation of that method associated with the object's class is invoked."
   ]
  },
  {
   "cell_type": "code",
   "execution_count": 2,
   "id": "04007d72-a389-4ed3-bf79-c01fd42d6c6c",
   "metadata": {},
   "outputs": [
    {
     "name": "stdout",
     "output_type": "stream",
     "text": [
      "Woof!\n",
      "Meow!\n"
     ]
    }
   ],
   "source": [
    "# step 1  creating the class Animal\n",
    "class Animal:\n",
    "    def sound(self):\n",
    "        print(\"Some generic sound\")\n",
    "#step 2 creating the  class Dog   inherit it to the animal  \n",
    "class Dog(Animal):\n",
    "    def sound(self):\n",
    "        print(\"Woof!\")\n",
    "# step 3  creating the   class cat inherit to animal\n",
    "class Cat(Animal):\n",
    "    def sound(self):\n",
    "        print(\"Meow!\")\n",
    "\n",
    "# Function to demonstrate dynamic polymorphism\n",
    "def make_sound(animal):\n",
    "    animal.sound()\n",
    "\n",
    "# Creating instances of Dog and Cat\n",
    "dog = Dog()\n",
    "cat = Cat()\n",
    "\n",
    "# Passing different objects to the same function\n",
    "make_sound(dog)  # Output: Woof!\n",
    "make_sound(cat)  # Output: Meow!\n"
   ]
  },
  {
   "cell_type": "code",
   "execution_count": null,
   "id": "f41b8f5f-c685-4088-b91c-bee55904dd7f",
   "metadata": {},
   "outputs": [],
   "source": [
    "17. Create a Python class hierarchy for employees in a company (e.g., manager, developer, designer) and implement polymorphism through a common `calculate_salary()` method."
   ]
  },
  {
   "cell_type": "code",
   "execution_count": 5,
   "id": "a1328633-8ec7-4bca-a652-71c52ed155b6",
   "metadata": {},
   "outputs": [
    {
     "name": "stdout",
     "output_type": "stream",
     "text": [
      "Sallary of the  developer 2240000\n",
      "sallary of a manger 560000\n",
      "Sallary of a designer 570000\n"
     ]
    }
   ],
   "source": [
    "# step 1 creating the  class of employee\n",
    "class employees:\n",
    "    def __init__(self, name, Id):\n",
    "        self.name=name\n",
    "        self.Id=Id\n",
    "    def calculate_salary(self):\n",
    "        pass\n",
    "# step 2  create a classes of  manager, developer, designer\n",
    "class manager(employees):\n",
    "    def __init__(self,name, Id, income):\n",
    "        super().__init__(name,Id)\n",
    "        self.income=income\n",
    "    def calculate_salary(self):\n",
    "        return self.income\n",
    "class developer(employees):\n",
    "    def __init__(self,name, Id, income,workhour):\n",
    "        super().__init__(name,Id)\n",
    "        self.income=income\n",
    "        self.workhour=4\n",
    "    def calculate_salary(self):\n",
    "        return self.income*self.workhour\n",
    "class designer(employees):\n",
    "    def __init__(self,name, Id, income):\n",
    "        super().__init__(name,Id)\n",
    "        self.income=income\n",
    "    def calculate_salary(self):\n",
    "        return self.income\n",
    "# example usage\n",
    "d=developer(\"Amrit\",\"243dewe\",560000,4)\n",
    "print(\"Sallary of the  developer\",d.calculate_salary())\n",
    "m=manager(\"Saloni\",\"1342de\",560000)\n",
    "print(\"sallary of a manger\",m.calculate_salary())\n",
    "d=designer(\" abhay\",\"243dd\",570000)\n",
    "print(\"Sallary of a designer\",d.calculate_salary())\n"
   ]
  },
  {
   "cell_type": "code",
   "execution_count": null,
   "id": "07da0551-6ae0-4601-ac44-f4e688a90ba3",
   "metadata": {},
   "outputs": [],
   "source": [
    "18. Discuss the concept of function pointers and how they can be used to achieve polymorphism in Python"
   ]
  },
  {
   "cell_type": "code",
   "execution_count": null,
   "id": "50572493-88ac-4bb9-bf71-6c38b44be0d5",
   "metadata": {},
   "outputs": [],
   "source": [
    "Ans:\n",
    "In Python, while there aren't traditional function pointers like in some other languages (like C or C++), the concept of achieving\n",
    "polymorphism through function pointers can be somewhat emulated using techniques involving higher-order functions and Python's ability to treat \n",
    "functions as first-class citizens.\n",
    "\n",
    "They can achieve :\n",
    "    Polymorphism, in essence, involves different objects behaving differently based on their specific implementations of methods or functions.\n",
    "    In Python, this behavior can be achieved by passing functions as arguments to other functions or by storing them as attributes within classes."
   ]
  },
  {
   "cell_type": "code",
   "execution_count": null,
   "id": "d6771fdf-d4cd-4054-b258-62819660e6c1",
   "metadata": {},
   "outputs": [],
   "source": [
    "19. Explain the role of interfaces and abstract classes in polymorphism, drawing comparisons between them"
   ]
  },
  {
   "cell_type": "code",
   "execution_count": null,
   "id": "62d06a56-77da-4aba-9d7a-c4d13ebd1221",
   "metadata": {},
   "outputs": [],
   "source": [
    "Interfaces:\n",
    "     1.Interfaces in languages like Java are collections of method signatures that define a set of methods a class\n",
    "        must implement. Unlike abstract classes, interfaces cannot provide any implementation.\n",
    "    2. Role in Polymorphism: Interfaces define a contract that ensures that classes implementing them share a certain\n",
    "    set of behaviors or capabilities.\n",
    "    \n",
    "    \n",
    "Abstract classes:\n",
    "    1.Abstract classes are classes that cannot be instantiated on their own. They contain one or more abstract methods, \n",
    "    which are declared but not implemented in the abstract class itself.\n",
    "    2.Role in Polymorphism:  Abstract classes allow for defining common methods and attributes that subclasses should implement, \n",
    "    ensuring a consistent structure among "
   ]
  },
  {
   "cell_type": "markdown",
   "id": "657b383b-5e44-4324-88c3-383bc52e808c",
   "metadata": {},
   "source": [
    "20.Create a Python class for a zoo simulation, demonstrating polymorphism with different animal types (e.g., mammals, birds, reptiles) and their behavior (e.g., eating, sleeping, making sounds)."
   ]
  },
  {
   "cell_type": "code",
   "execution_count": 6,
   "id": "e4a75bee-5ee6-4a06-a634-ea68f2d3e5f1",
   "metadata": {},
   "outputs": [
    {
     "name": "stdout",
     "output_type": "stream",
     "text": [
      "Lion says: Mammal sound\n",
      "Lion is eating: Mammal eating\n",
      "Lion is sleeping: Mammal sleeping\n",
      "------------\n",
      "Eagle says: Bird sound\n",
      "Eagle is eating: Bird eating\n",
      "Eagle is sleeping: Bird sleeping\n",
      "------------\n",
      "Snake says: Reptile sound\n",
      "Snake is eating: Reptile eating\n",
      "Snake is sleeping: Reptile sleeping\n",
      "------------\n"
     ]
    }
   ],
   "source": [
    "# step1 create the class  Animal \n",
    "class Animal:\n",
    "    # step 2 creating the class constructor \n",
    "    def __init__(self, name):\n",
    "        self.name = name\n",
    "     # step 3 creating the  founction make sound \n",
    "    def make_sound(self):\n",
    "        pass\n",
    "     # step 4 creating the founction to eat\n",
    "    def eat(self):\n",
    "        pass\n",
    "    # step 5 creating the founction sleep\n",
    "    def sleep(self):\n",
    "        pass\n",
    "\n",
    "# step 6 create the  class Mamal\n",
    "class Mammal(Animal):\n",
    "    # step 7  creating the founction  make sound  , eat, sleep\n",
    "    def make_sound(self):\n",
    "        return \"Mammal sound\"\n",
    "\n",
    "    def eat(self):\n",
    "        return \"Mammal eating\"\n",
    "\n",
    "    def sleep(self):\n",
    "        return \"Mammal sleeping\"\n",
    "\n",
    "# step  7 create the class Bird\n",
    "class Bird(Animal):\n",
    "    # step 8 creating the founction  make sound  , eat, sleep\n",
    "    def make_sound(self):\n",
    "        return \"Bird sound\"\n",
    "\n",
    "    def eat(self):\n",
    "        return \"Bird eating\"\n",
    "\n",
    "    def sleep(self):\n",
    "        return \"Bird sleeping\"\n",
    "\n",
    "# step 9 create class Reptile \n",
    "class Reptile(Animal):\n",
    "     # stpe 10 creating the founction  make sound  , eat, sleep\n",
    "    def make_sound(self):\n",
    "        return \"Reptile sound\"\n",
    "\n",
    "    def eat(self):\n",
    "        return \"Reptile eating\"\n",
    "\n",
    "    def sleep(self):\n",
    "        return \"Reptile sleeping\"\n",
    "\n",
    "\n",
    "# Zoo simulation\n",
    "mammal = Mammal(\"Lion\")\n",
    "bird = Bird(\"Eagle\")\n",
    "reptile = Reptile(\"Snake\")\n",
    "\n",
    "animals = [mammal, bird, reptile]\n",
    "\n",
    "for animal in animals:\n",
    "    print(f\"{animal.name} says: {animal.make_sound()}\")\n",
    "    print(f\"{animal.name} is eating: {animal.eat()}\")\n",
    "    print(f\"{animal.name} is sleeping: {animal.sleep()}\")\n",
    "    print(\"------------\")\n"
   ]
  },
  {
   "cell_type": "code",
   "execution_count": null,
   "id": "993c90ca-f050-433b-90d2-ea8f56eac9af",
   "metadata": {},
   "outputs": [],
   "source": [
    "                                                Topic-Abstraction"
   ]
  },
  {
   "cell_type": "code",
   "execution_count": null,
   "id": "691a8186-3944-4175-a6e1-107a67a4f671",
   "metadata": {},
   "outputs": [],
   "source": [
    "1. What is abstraction in Python, and how does it relate to object-oriented programming"
   ]
  },
  {
   "cell_type": "code",
   "execution_count": null,
   "id": "8325e8e5-4353-45ea-9775-e78ef4c3bf44",
   "metadata": {},
   "outputs": [],
   "source": [
    "Abstraction in pythoin refers to hiding the implementaion details only showing the  ncessary details or interface to user\n",
    "In Python, abstraction is achieved through abstract classes and interfaces. Abstract classes cannot be instantiated on their own but can \n",
    "contain abstract methods (methods without implementation) that must be implemented by concrete subclasses. \n",
    "Abstraction plays a crucial role in OOP by promoting code reusability, modularity, and maintaining a clear separation between different components of a program. It "
   ]
  },
  {
   "cell_type": "code",
   "execution_count": null,
   "id": "4fc1cc24-da5c-4bf2-a446-9f97471773cc",
   "metadata": {},
   "outputs": [],
   "source": []
  },
  {
   "cell_type": "code",
   "execution_count": null,
   "id": "4823deb7-7948-4f2e-a8f5-8830dc4c0686",
   "metadata": {},
   "outputs": [],
   "source": [
    "2. Describe the benefits of abstraction in terms of code organization and complexity reduction."
   ]
  },
  {
   "cell_type": "code",
   "execution_count": null,
   "id": "e18b1a41-2aaf-41c2-b7ef-76151eefc09a",
   "metadata": {},
   "outputs": [],
   "source": [
    "Ans : Benifits:\n",
    "    1. Abstraction provide the security to code  a only ncessary details are shown to user\n",
    "    2. Abstraction help in scalablityThis scalability helps in adapting to changing requirements and expanding the system's capabilities.\n",
    "    3. Abstaction provide good scope for maintainblity to code we can  change internal implimentaion without afectinng the user experience\n",
    "    4.Abstraction  avoid duplicacy and increase realaiblity\n",
    "    5. Abstraction  prmote clear structure and design"
   ]
  },
  {
   "cell_type": "code",
   "execution_count": null,
   "id": "09ab68a4-c5a3-47c5-82a4-e4b777b41413",
   "metadata": {},
   "outputs": [],
   "source": [
    "3. Create a Python class called `Shape` with an abstract method `calculate_area()`. Then, create child classes (e.g., `Circle`, `Rectangle`) that implement the `calculate_area()` method. Provide an example of \n",
    "using these classes"
   ]
  },
  {
   "cell_type": "code",
   "execution_count": 1,
   "id": "65fcf206-cdd2-4ce6-ab03-495ac1d373b9",
   "metadata": {},
   "outputs": [
    {
     "name": "stdout",
     "output_type": "stream",
     "text": [
      "Area of a circle 28.26\n",
      "Area of a  rectangle  144\n"
     ]
    }
   ],
   "source": [
    "# step 1 importing the ABC module from abstractmeethod\n",
    "from abc import ABC , abstractmethod\n",
    "import math\n",
    "# step1  creating the class shape\n",
    "class  shape(ABC):\n",
    "# genrating the abstactmethod\n",
    "    @abstractmethod\n",
    "    def calculate_area(self):\n",
    "        pass\n",
    "# step 2  create the class  circle\n",
    "class Circle(shape):\n",
    "    def __init__(self, radius):\n",
    "        self.radius=radius\n",
    "    def calculate_area(self):\n",
    "        return 3.14*self.radius**2\n",
    "# step 3  create  the class rectangle \n",
    "class rectangle(shape):\n",
    "    def __init__(self, length, breadth):\n",
    "        self.length=length\n",
    "        self.breadth=breadth\n",
    "    def calculate_area(self):\n",
    "        return self.length*self.breadth\n",
    "# example usage\n",
    "c=Circle(3)\n",
    "print(\"Area of a circle\",c.calculate_area())\n",
    "r=rectangle(12,12)\n",
    "print(\"Area of a  rectangle \",r.calculate_area())\n",
    "    \n",
    "    \n",
    "    "
   ]
  },
  {
   "cell_type": "code",
   "execution_count": null,
   "id": "3656507b-0665-49bc-b6f8-0e88cae89037",
   "metadata": {},
   "outputs": [],
   "source": [
    "4. Explain the concept of abstract classes in Python and how they are defined using the `abc` module. Provide \n",
    "an example"
   ]
  },
  {
   "cell_type": "code",
   "execution_count": null,
   "id": "9a8b79e6-5322-4902-a4f4-86ccefc473ac",
   "metadata": {},
   "outputs": [],
   "source": [
    "Ans: In abstract classes  are classes  that cannot be installed  on thier own .\n",
    "they serve as a blueprint for other classes sefining method must be implemented by \n",
    "thier subclasses.\n",
    "\n",
    "The abc module provide ncessary tools to create abstract   base classe (ABCs) . \n",
    "To define an abstract class using the abc module, you typically use the ABC class\n",
    "as a base class and decorate abstract methods with @abstractmethod.\n",
    "Example Below:"
   ]
  },
  {
   "cell_type": "code",
   "execution_count": 2,
   "id": "d932e2ac-83ca-4a9e-9bd7-0c2d7528e3e4",
   "metadata": {},
   "outputs": [
    {
     "name": "stdout",
     "output_type": "stream",
     "text": [
      "Area of a circle 28.26\n",
      "Area of a  rectangle  144\n"
     ]
    }
   ],
   "source": [
    "# step 1 importing the ABC module from abstractmeethod\n",
    "from abc import ABC , abstractmethod\n",
    "import math\n",
    "# step1  creating the class shape\n",
    "class  shape(ABC):\n",
    "# genrating the abstactmethod\n",
    "    @abstractmethod\n",
    "    def calculate_area(self):\n",
    "        pass\n",
    "# step 2  create the class  circle\n",
    "class Circle(shape):\n",
    "    def __init__(self, radius):\n",
    "        self.radius=radius\n",
    "    def calculate_area(self):\n",
    "        return 3.14*self.radius**2\n",
    "# step 3  create  the class rectangle \n",
    "class rectangle(shape):\n",
    "    def __init__(self, length, breadth):\n",
    "        self.length=length\n",
    "        self.breadth=breadth\n",
    "    def calculate_area(self):\n",
    "        return self.length*self.breadth\n",
    "# example usage\n",
    "c=Circle(3)\n",
    "print(\"Area of a circle\",c.calculate_area())\n",
    "r=rectangle(12,12)\n",
    "print(\"Area of a  rectangle \",r.calculate_area())\n",
    "    \n",
    "    "
   ]
  },
  {
   "cell_type": "code",
   "execution_count": null,
   "id": "70245f2a-b0f8-4525-98f4-2af7156b9f5b",
   "metadata": {},
   "outputs": [],
   "source": [
    "5. How do abstract classes differ from regular classes in Python? Discuss their use cases"
   ]
  },
  {
   "cell_type": "code",
   "execution_count": null,
   "id": "f8965581-4b8e-47d0-97fd-dc7c69d6a07e",
   "metadata": {},
   "outputs": [],
   "source": [
    "Abstact class:\n",
    "    1.Instantation:\n",
    "        Abstract classes canont be instantiated on thier own, While\n",
    "        Regular classes  can be instantiated to create objects.\n",
    "    2. Abstract Method:\n",
    "        Abstract method contain abstract methods that must be implemented \n",
    "        by concrete subclasses.\n",
    "        Regular classes do not necessarily have abstract method that need to be\n",
    "        implemented by subclasses\n",
    "    3. Purpose:\n",
    "        Abstrct classe provide blueprint or template for other classes.\n",
    "        Regular classes, on the other hand, are meant to be instantiated and used directly, \n",
    "        providing concrete implementations for all methods.\n",
    "    Use Case:\n",
    "        1.Enforcing structure: Abstract classes are benificial when you want todefine\n",
    "        a common interface for a group of related class\n",
    "        2.Code Reusablity:\n",
    "         Abstract classes promote code reusability by defining common methods or functionalities\n",
    "        that can be inherited by multiple subclasses.\n",
    "        "
   ]
  },
  {
   "cell_type": "code",
   "execution_count": null,
   "id": "c05934d8-f846-4b10-a3e9-16a7ee538078",
   "metadata": {},
   "outputs": [],
   "source": [
    "6. Create a Python class for a bank account and demonstrate abstraction by hiding the account balance and \n",
    "providing methods to deposit and withdraw funds"
   ]
  },
  {
   "cell_type": "code",
   "execution_count": 3,
   "id": "ad951764-be1b-4c93-b95e-84456718b116",
   "metadata": {},
   "outputs": [
    {
     "name": "stdout",
     "output_type": "stream",
     "text": [
      "Account Number: 123456789\n",
      "Account Balance: $1000\n",
      "Deposited $500. New balance: $1500\n",
      "Withdrew $200. New balance: $1300\n",
      "Account Balance: $1300\n"
     ]
    }
   ],
   "source": [
    "# step 1 creating the class bank account \n",
    "class BankAccount:\n",
    "# step 2  creating the constructor  \n",
    "    def __init__(self, account_number, initial_balance=0):\n",
    "        self.account_number = account_number\n",
    "        self._balance = initial_balance  # Encapsulated attribute\n",
    "# step 3  creatin the founction for depositing the money\n",
    "    def deposit(self, amount):\n",
    "        if amount > 0:\n",
    "            self._balance += amount\n",
    "            print(f\"Deposited ${amount}. New balance: ${self._balance}\")\n",
    "        else:\n",
    "            print(\"Invalid amount. Please deposit a positive amount.\")\n",
    "# step 4 creating the founction for withdrawing the money\n",
    "    def withdraw(self, amount):\n",
    "        if 0 < amount <= self._balance:\n",
    "            self._balance -= amount\n",
    "            print(f\"Withdrew ${amount}. New balance: ${self._balance}\")\n",
    "        else:\n",
    "            print(\"Insufficient funds or invalid amount for withdrawal.\")\n",
    "# step 5 founction  to get balance \n",
    "    def get_balance(self):\n",
    "        return f\"Account Balance: ${self._balance}\"\n",
    "# step 6 founction to get account number\n",
    "    def get_account_number(self):\n",
    "        return f\"Account Number: {self.account_number}\"\n",
    "\n",
    "# Example usage:\n",
    "account = BankAccount(\"123456789\", 1000)\n",
    "\n",
    "print(account.get_account_number())  # Output: Account Number: 123456789\n",
    "print(account.get_balance())  # Output: Account Balance: $1000\n",
    "\n",
    "account.deposit(500)  # Output: Deposited $500. New balance: $1500\n",
    "account.withdraw(200)  # Output: Withdrew $200. New balance: $1300\n",
    "\n",
    "print(account.get_balance())  # Output: Account Balance: $1300\n"
   ]
  },
  {
   "cell_type": "code",
   "execution_count": null,
   "id": "916e958a-ed75-45ed-99ee-dac64b2b90b3",
   "metadata": {},
   "outputs": [],
   "source": [
    "7. Discuss the concept of interface classes in Python and their role in achieving abstraction"
   ]
  },
  {
   "cell_type": "code",
   "execution_count": null,
   "id": "59a8a37d-e4cd-4d24-8fc1-195cdabac244",
   "metadata": {},
   "outputs": [],
   "source": [
    "Ans:Interface classes not exist in the in python they exist in the  java , but concept of interfaces is achieved \n",
    "through abstacrt base classes (ABCs) usin gthe abc module , Ehile python does not have \n",
    "strict concept of ABCs\n",
    "\n",
    "The role interface classes Or ABCs achieving the abstraction is to define common methods or bheaviors that subclass expected to beimplemented\n"
   ]
  },
  {
   "cell_type": "code",
   "execution_count": null,
   "id": "9304f259-4c66-4eff-a11b-2fbac738508d",
   "metadata": {},
   "outputs": [],
   "source": [
    "8. Create a Python class hierarchy for animals and implement abstraction by defining common methods (e.g., `eat()`, `sleep()`) in an abstract base class"
   ]
  },
  {
   "cell_type": "code",
   "execution_count": 6,
   "id": "40b8fba6-c7e9-43ff-8967-99c4c70bb05a",
   "metadata": {},
   "outputs": [
    {
     "name": "stdout",
     "output_type": "stream",
     "text": [
      "Woof!\n",
      "Dog Buddy is eating.\n",
      "Dog Buddy is sleeping.\n",
      "Meow!\n",
      "Cat Whiskers is eating.\n",
      "Cat Whiskers is sleeping.\n"
     ]
    }
   ],
   "source": [
    "from abc import ABC, abstractmethod\n",
    "\n",
    "# step 1 create  the class Animal\n",
    "class Animal(ABC):  # Abstract base class for animals\n",
    "    def __init__(self, name, species):\n",
    "        self.name = name\n",
    "        self.species = species\n",
    "# step 2 calling the abstreact method , creating the founction make sound, eat, sleep\n",
    "\n",
    "    @abstractmethod\n",
    "    def make_sound(self):\n",
    "        pass\n",
    "\n",
    "    def eat(self):\n",
    "        return f\"{self.species} {self.name} is eating.\"\n",
    "\n",
    "    def sleep(self):\n",
    "        return f\"{self.species} {self.name} is sleeping.\"\n",
    "\n",
    "# step 3 create the class Dog Inheritting it to Animal\n",
    "class Dog(Animal):  # Concrete class for a dog\n",
    "    def __init__(self, name):\n",
    "        super().__init__(name, \"Dog\")\n",
    "\n",
    "    def make_sound(self):\n",
    "        return \"Woof!\"\n",
    "# step 4 creating the classs  Cat Inherit it with the Animal\n",
    "class Cat(Animal):  # Concrete class for a cat\n",
    "    def __init__(self, name):\n",
    "        super().__init__(name, \"Cat\")\n",
    "\n",
    "    def make_sound(self):\n",
    "        return \"Meow!\"\n",
    "\n",
    "# Example usage:\n",
    "dog = Dog(\"Buddy\")\n",
    "cat = Cat(\"Whiskers\")\n",
    "\n",
    "print(dog.make_sound())  # Output: Woof!\n",
    "print(dog.eat())  # Output: Dog Buddy is eating.\n",
    "print(dog.sleep())  # Output: Dog Buddy is sleeping.\n",
    "\n",
    "print(cat.make_sound())  # Output: Meow!\n",
    "print(cat.eat())  # Output: Cat Whiskers is eating.\n",
    "print(cat.sleep())  # Output: Cat Whiskers is sleeping.\n"
   ]
  },
  {
   "cell_type": "code",
   "execution_count": null,
   "id": "b95f5009-f16f-4624-a93f-15560b9be1de",
   "metadata": {},
   "outputs": [],
   "source": [
    "9. Explain the significance of encapsulation in achieving abstraction. Provide examples"
   ]
  },
  {
   "cell_type": "code",
   "execution_count": null,
   "id": "990e6a14-2246-4ee1-b8fa-e9c73961d369",
   "metadata": {},
   "outputs": [],
   "source": [
    "The significance of encapsulation in achieving abstraction lies in its ability to create a boundary between the internal workings of a class \n",
    "and its external users. This separation allows for a clearer interface to interact with the object, promoting abstraction by hiding complexity and focusing on essential functionalities."
   ]
  },
  {
   "cell_type": "code",
   "execution_count": 7,
   "id": "ba8e9591-95f4-40e5-99fd-839dd6d008b6",
   "metadata": {},
   "outputs": [
    {
     "name": "stdout",
     "output_type": "stream",
     "text": [
      "Area of a circle 28.26\n",
      "Area of a  rectangle  144\n"
     ]
    }
   ],
   "source": [
    "# step 1 importing the ABC module from abstractmeethod\n",
    "from abc import ABC , abstractmethod\n",
    "import math\n",
    "# step1  creating the class shape\n",
    "class  shape(ABC):\n",
    "# genrating the abstactmethod\n",
    "    @abstractmethod\n",
    "    def calculate_area(self):\n",
    "        pass\n",
    "# step 2  create the class  circle\n",
    "class Circle(shape):\n",
    "    def __init__(self, radius):\n",
    "        self.radius=radius\n",
    "    def calculate_area(self):\n",
    "        return 3.14*self.radius**2\n",
    "# step 3  create  the class rectangle \n",
    "class rectangle(shape):\n",
    "    def __init__(self, length, breadth):\n",
    "        self.length=length\n",
    "        self.breadth=breadth\n",
    "    def calculate_area(self):\n",
    "        return self.length*self.breadth\n",
    "# example usage\n",
    "c=Circle(3)\n",
    "print(\"Area of a circle\",c.calculate_area())\n",
    "r=rectangle(12,12)\n",
    "print(\"Area of a  rectangle \",r.calculate_area())\n",
    "    \n",
    "    "
   ]
  },
  {
   "cell_type": "code",
   "execution_count": null,
   "id": "47663603-da26-4def-a495-cc72e8d9dcb6",
   "metadata": {},
   "outputs": [],
   "source": [
    "10.. What is the purpose of abstract methods, and how do they enforce abstraction in Python classes?"
   ]
  },
  {
   "cell_type": "code",
   "execution_count": null,
   "id": "8d6e030e-b1f5-4b63-ac05-5d9d0eae8b9b",
   "metadata": {},
   "outputs": [],
   "source": [
    "Ans:\n",
    "    Defining a Blueprint: Abstract methods define a blueprint for methods that\n",
    "    must be implemented by concrete subclasses\n",
    "    Forcing Implementation: Any class that inherits from an abstract class containing\n",
    "    abstract methods must provide concrete implementations for those methods. Failure to do so results in an error\n",
    "    \n",
    "    \n",
    " In essence, abstract methods in Python enforce abstraction by mandating a specific set of methods that subclasses must implement,\n",
    "ensuring a standardized structure and behavior across related classes   "
   ]
  },
  {
   "cell_type": "code",
   "execution_count": null,
   "id": "fb02216f-4fee-4ae8-8171-a1e13e8aec3c",
   "metadata": {},
   "outputs": [],
   "source": [
    "11.Create a Python class for a vehicle system and demonstrate abstraction by defining common methods (e.g., `start()`, `stop()`) in an abstract base class"
   ]
  },
  {
   "cell_type": "code",
   "execution_count": 7,
   "id": "6e7a9c92-4eed-4e74-acea-8cb00b1a9e48",
   "metadata": {},
   "outputs": [
    {
     "name": "stdout",
     "output_type": "stream",
     "text": [
      "Broom Broom\n",
      " stop the car \n",
      "Aeroplane turbine start moving\n",
      "Aeroplane stop turbine when engine shut down\n",
      "it start with the dakk dakk sound\n",
      "it stop with message\n"
     ]
    }
   ],
   "source": [
    "# step 1  importing the abc from abstractmethod\n",
    "from abc import ABC , abstractmethod\n",
    "# step2  creating the class vehicle system\n",
    "class vehiclesystem(ABC):\n",
    "    # creating the abstract method\n",
    "    @abstractmethod\n",
    "    def start(self):\n",
    "        pass\n",
    "    @abstractmethod\n",
    "    def stop(self):\n",
    "        pass\n",
    "# step 3  creating the class car \n",
    "class car(vehiclesystem):\n",
    "    def start(self):\n",
    "        return print(\"Broom Broom\")\n",
    "    def stop(self):\n",
    "        return print(\" stop the car \")\n",
    "# step 4 creating the class aeroplane\n",
    "class aeroplan(vehiclesystem):\n",
    "    def start(self):\n",
    "        return print(\"Aeroplane turbine start moving\")\n",
    "    def stop(self):\n",
    "        return print(\"Aeroplane stop turbine when engine shut down\")\n",
    "# step 5 creating the class boat\n",
    "class boat(vehiclesystem):\n",
    "     def start(self):\n",
    "        return print(\"it start with the dakk dakk sound\")\n",
    "     def stop(self):\n",
    "            return print(\"it stop with message\")\n",
    "#example usage  creating the ojects of respective classe\n",
    "c=car()\n",
    "c.start()\n",
    "c.stop()\n",
    "a=aeroplan()\n",
    "a.start()\n",
    "a.stop()\n",
    "b=boat()\n",
    "b.start()\n",
    "b.stop()\n",
    "        \n",
    "    "
   ]
  },
  {
   "cell_type": "code",
   "execution_count": null,
   "id": "17d39050-b4a1-4094-9e46-41ce72d126ec",
   "metadata": {},
   "outputs": [],
   "source": [
    "12. Describe the use of abstract properties in Python and how they can be employed in abstract classes."
   ]
  },
  {
   "cell_type": "code",
   "execution_count": null,
   "id": "031b3a61-c558-4609-95ed-8aef75a8e2f9",
   "metadata": {},
   "outputs": [],
   "source": [
    "abstract properties are a way to define properties in abstract classes without providing an implementation.\n",
    "They are part of Python's abstract base class (ABC) module, allowing you to create abstract classes with abstract methods or\n",
    "properties that must be implemented by any concrete subclasses.\n",
    "Abstract properties are declared using the @property decorator along with the @abstractmethod decorator from the abc "
   ]
  },
  {
   "cell_type": "code",
   "execution_count": 13,
   "id": "aa8a7dff-255c-42b5-9f81-4255d3ae5875",
   "metadata": {},
   "outputs": [],
   "source": [
    "# step 1  importing \n",
    "from abc import ABC, abstractmethod, abstractproperty\n",
    "\n",
    "class AbstractShape(ABC):\n",
    "# step 2  creating the abstract proprty in abstract class\n",
    "    @abstractproperty\n",
    "    def area(self):\n",
    "        pass\n",
    "\n",
    "class Square(AbstractShape):\n",
    "    def __init__(self, side):\n",
    "        self.side = side\n",
    "    \n",
    "    @property\n",
    "    def area(self):\n",
    "        return self.side ** 2\n",
    "\n",
    "# This will raise an error as `area` in Square is not implemented as an abstract property\n",
    "square = Square(5)\n"
   ]
  },
  {
   "cell_type": "code",
   "execution_count": null,
   "id": "5c86dd59-2d29-47d9-b192-aa6f32e7eb72",
   "metadata": {},
   "outputs": [],
   "source": [
    "13. Create a Python class hierarchy for employees in a company (e.g., manager, developer, designer) and implement abstraction by defining a common `get_salary()` method."
   ]
  },
  {
   "cell_type": "code",
   "execution_count": 17,
   "id": "64bb3f2b-9919-428a-8fc0-19db0e2e1ff9",
   "metadata": {},
   "outputs": [
    {
     "name": "stdout",
     "output_type": "stream",
     "text": [
      "Sallary of the  developer 2240000\n",
      "sallary of a manger 560000\n",
      "Sallary of a designer 570000\n"
     ]
    }
   ],
   "source": [
    "#  importing the abstract method\n",
    "from abc import ABC, abstractmethod\n",
    "# step 1 creating the  class of employee\n",
    "class employees(ABC):\n",
    "    def __init__(self, name, Id):\n",
    "        self.name=name\n",
    "        self.Id=Id\n",
    "    @abstractmethod\n",
    "    def get_salary(self):\n",
    "        pass\n",
    "# step 2  create a classes of  manager, developer, designer\n",
    "class manager(employees):\n",
    "    def __init__(self,name, Id, income):\n",
    "        super().__init__(name,Id)\n",
    "        self.income=income\n",
    "    def get_salary(self):\n",
    "        return self.income\n",
    "class developer(employees):\n",
    "    def __init__(self,name, Id, income,workhour):\n",
    "        super().__init__(name,Id)\n",
    "        self.income=income\n",
    "        self.workhour=4\n",
    "    def get_salary(self):\n",
    "        return self.income*self.workhour\n",
    "class designer(employees):\n",
    "    def __init__(self,name, Id, income):\n",
    "        super().__init__(name,Id)\n",
    "        self.income=income\n",
    "    def get_salary(self):\n",
    "        return self.income\n",
    "# example usage\n",
    "d=developer(\"Amrit\",\"243dewe\",560000,4)\n",
    "print(\"Sallary of the  developer\",d.get_salary())\n",
    "m=manager(\"Saloni\",\"1342de\",560000)\n",
    "print(\"sallary of a manger\",m.get_salary())\n",
    "d=designer(\" abhay\",\"243dd\",570000)\n",
    "print(\"Sallary of a designer\",d.get_salary())\n",
    "\n"
   ]
  },
  {
   "cell_type": "code",
   "execution_count": null,
   "id": "80d2a624-b836-4d58-85f5-d26cc59f4a6e",
   "metadata": {},
   "outputs": [],
   "source": [
    "14. Discuss the differences between abstract classes and concrete classes in Python, including their \n",
    "instantiation."
   ]
  },
  {
   "cell_type": "code",
   "execution_count": null,
   "id": "051b5336-a0b0-4cb4-853c-463d9172d343",
   "metadata": {},
   "outputs": [],
   "source": [
    "abstract classe:\n",
    "Purpose: Abstract classes are meant to be a blueprint for other classes. They contain methods or properties that are meant to be overridden by the subclasses.\n",
    "Instantiation: Abstract classes cannot be instantiated directly. They exist to be subclassed and provide a structure that subclasses should follow.   \n",
    "concreteclasses:\n",
    "Purpose: Concrete classes are classes that provide implementations for all the methods and properties inherited from their parent classes (abstract or concrete).\n",
    "Instantiation: These classes can be instantiated directly. They provide specific implementations for the methods and properties defined in their class or inherited from parent classes."
   ]
  },
  {
   "cell_type": "code",
   "execution_count": null,
   "id": "7ab9c392-d932-45e7-9857-9626b869c246",
   "metadata": {},
   "outputs": [],
   "source": [
    "15. Explain the concept of abstract data types (ADTs) and their role in achieving abstraction in Python"
   ]
  },
  {
   "cell_type": "code",
   "execution_count": null,
   "id": "20933e42-bd4d-46a8-9ddc-e391d4a51a45",
   "metadata": {},
   "outputs": [],
   "source": [
    "Abstract Data type   are the fundamental concept of computer science  that refers to  mathametical model for certain data structure\n",
    "They define the logical form of data objects and the operations that can be performed on them without specifying how these operations will be implemented. \n",
    "like exampole stack Users can interact with the stack using methods like push, pop, peek, etc., without needing to know how these methods are implemented internally.\n"
   ]
  },
  {
   "cell_type": "code",
   "execution_count": null,
   "id": "1cbd54f3-265a-4c69-a2ef-e0a26f03c29c",
   "metadata": {},
   "outputs": [],
   "source": [
    "Role in achiecing the abstrcation in python:\n",
    "Encapsulation :\n",
    "    ADTS encapsulate data type and objects  operation on data Users interact with the data structure through well-defined interfaces without needing to know its internal workings.\n",
    "Abstraction:\n",
    "Adts haide all the implementation  from user interface allowing developers to focus on how to use the data structure rather than how it is implemented.\n",
    "Modularity:\n",
    "ADTs promote modularity by separating the interface (methods to interact with data) from the implementation (how those methods are executed)."
   ]
  },
  {
   "cell_type": "code",
   "execution_count": null,
   "id": "489d369d-8bc9-4566-934f-e28b165b467a",
   "metadata": {},
   "outputs": [],
   "source": [
    "16. Create a Python class for a computer system, demonstrating abstraction by defining common methods (e.g., `power_on()`, `shutdown()`) in an abstract base class."
   ]
  },
  {
   "cell_type": "code",
   "execution_count": 3,
   "id": "ab0d2632-0313-4ec7-a9fe-0585065aa27e",
   "metadata": {},
   "outputs": [
    {
     "name": "stdout",
     "output_type": "stream",
     "text": [
      "sytem  is getting Onn\n",
      "System  is shutting down\n"
     ]
    }
   ],
   "source": [
    "from abc import ABC , abstractmethod\n",
    "class computersystem(ABC):\n",
    "    @abstractmethod\n",
    "    def power_on(self):\n",
    "        pass\n",
    "    @abstractmethod\n",
    "    def shutdown(self):\n",
    "        pass\n",
    "class laptop(computersystem):\n",
    "    def power_on(self):\n",
    "        return print(\"sytem  is getting Onn\")\n",
    "    def shutdown(self):\n",
    "        return print(\"System  is shutting down\")\n",
    "# example usage\n",
    "l=laptop()\n",
    "l.power_on()\n",
    "l.shutdown()\n",
    "        "
   ]
  },
  {
   "cell_type": "code",
   "execution_count": null,
   "id": "36d5cb1f-956c-4978-a392-71a01c6b4b98",
   "metadata": {},
   "outputs": [],
   "source": [
    "17. Discuss the benefits of using abstraction in large-scale software development project"
   ]
  },
  {
   "cell_type": "code",
   "execution_count": null,
   "id": "efb5ac45-f227-4f18-b13f-b08c0b1298ac",
   "metadata": {},
   "outputs": [],
   "source": [
    "Ans : we all know  abstration  set  blueprint of a code. as well as hide implimentaion . In big project or large scale  project\n",
    "project mangaer design the the abstract class which set the blueprint which is followed by the  all clients which workin \n",
    "on that project.\n",
    "Abstract designs often enable easier scalability. When new functionalities or features are required, new implementations can adhere \n",
    "to the existing abstraction, promoting extensibility without altering the core structure.\n",
    "It allows for future expansion without significant modifications to the existing codebase."
   ]
  },
  {
   "cell_type": "code",
   "execution_count": null,
   "id": "2c9014ec-4433-47b4-afc9-634f34c6d104",
   "metadata": {},
   "outputs": [],
   "source": [
    ".18. Explain how abstraction enhances code reusability and modularity in Python programs"
   ]
  },
  {
   "cell_type": "code",
   "execution_count": null,
   "id": "ca2ed246-18d1-49bb-a670-0e31967b8983",
   "metadata": {},
   "outputs": [],
   "source": [
    "Modularity:\n",
    "Abstracting away implementation details promotes modularity, allowing \n",
    "different components/modules to function independently.\n",
    "Reusablity:\n",
    "Once an abstraction is defined, it can be reused across the project or even\n",
    "in different projects, enhancing code reusability and saving development time."
   ]
  },
  {
   "cell_type": "code",
   "execution_count": null,
   "id": "6ba386d5-3308-4b4e-802d-1d9a11b3b729",
   "metadata": {},
   "outputs": [],
   "source": [
    "19. Create a Python class for a library system, implementing abstraction by defining common methods (e.g., `add_book()`, `borrow_book()`) in an abstract base class."
   ]
  },
  {
   "cell_type": "code",
   "execution_count": 4,
   "id": "36269a37-d571-4fad-8b81-39af93209879",
   "metadata": {},
   "outputs": [
    {
     "name": "stdout",
     "output_type": "stream",
     "text": [
      "Book 'The Great Gatsby' by F. Scott Fitzgerald has been borrowed.\n",
      "Available Books:\n",
      "ID: 002, Title: 'To Kill a Mockingbird', Author: Harper Lee\n",
      "ID: 003, Title: '1984', Author: George Orwell\n",
      "Book 'The Great Gatsby' by F. Scott Fitzgerald has been returned.\n",
      "Available Books:\n",
      "ID: 001, Title: 'The Great Gatsby', Author: F. Scott Fitzgerald\n",
      "ID: 002, Title: 'To Kill a Mockingbird', Author: Harper Lee\n",
      "ID: 003, Title: '1984', Author: George Orwell\n"
     ]
    }
   ],
   "source": [
    "#  importing the  abstract method\n",
    "from abc import ABC, abstractmethod\n",
    "# step 1 creating the class Books\n",
    "class Book:\n",
    "    def __init__(self, book_id, title, author, available=True):\n",
    "        self.book_id = book_id\n",
    "        self.title = title\n",
    "        self.author = author\n",
    "        self.available = available\n",
    "    # creating the abstractmethod \n",
    "    @abstractmethod   \n",
    "    def add_book(self, book_id, title, author):\n",
    "        pass\n",
    "    @abstractmethod\n",
    "    def borrow_book(self, book_id):\n",
    "        pass\n",
    "# step 2 creating class of library\n",
    "class Library:\n",
    "    def __init__(self):\n",
    "        self.books = []\n",
    "# step 3 crating the founction  to add_ books\n",
    "    def add_book(self, book_id, title, author):\n",
    "        book = Book(book_id, title, author)\n",
    "        self.books.append(book)\n",
    "# step 4  creating the founction to borrow book\n",
    "    def borrow_book(self, book_id):\n",
    "        for book in self.books:\n",
    "            if book.book_id == book_id and book.available:\n",
    "                book.available = False\n",
    "                print(f\"Book '{book.title}' by {book.author} has been borrowed.\")\n",
    "                return\n",
    "        print(\"Book not available for borrowing.\")\n",
    "# step 5  creating the founction to return book\n",
    "    def return_book(self, book_id):\n",
    "        for book in self.books:\n",
    "            if book.book_id == book_id and not book.available:\n",
    "                book.available = True\n",
    "                print(f\"Book '{book.title}' by {book.author} has been returned.\")\n",
    "                return\n",
    "        print(\"Invalid book ID or book already available.\")\n",
    "# step 6   founction to display avilable books\n",
    "    def display_available_books(self):\n",
    "        available_books = [book for book in self.books if book.available]\n",
    "        if available_books:\n",
    "            print(\"Available Books:\")\n",
    "            for book in available_books:\n",
    "                print(f\"ID: {book.book_id}, Title: '{book.title}', Author: {book.author}\")\n",
    "        else:\n",
    "            print(\"No books available.\")\n",
    "\n",
    "# Example usage:\n",
    "library = Library()\n",
    "library.add_book(\"001\", \"The Great Gatsby\", \"F. Scott Fitzgerald\")\n",
    "library.add_book(\"002\", \"To Kill a Mockingbird\", \"Harper Lee\")\n",
    "library.add_book(\"003\", \"1984\", \"George Orwell\")\n",
    "\n",
    "library.borrow_book(\"001\")\n",
    "library.display_available_books()\n",
    "\n",
    "library.return_book(\"001\")\n",
    "library.display_available_books()"
   ]
  },
  {
   "cell_type": "code",
   "execution_count": null,
   "id": "0d849b41-8b8e-495b-96b4-a5f125aed51e",
   "metadata": {},
   "outputs": [],
   "source": [
    "20. Describe the concept of method abstraction in Python and how it relates to polymorphism"
   ]
  },
  {
   "cell_type": "code",
   "execution_count": null,
   "id": "4db4ff72-1e3b-4e3f-80ce-12d027ebe41b",
   "metadata": {},
   "outputs": [],
   "source": [
    "Polymorphism allows you to call the same method name on different objects without knowing their specific implementations. When the method is called on different instances, Python resolves the method invocation dynamically based on\n",
    "the object's actual type. This behavior is a key aspect of polymorphism and is enabled by method abstraction using abstract methods and inheritance.\n",
    "RElation ship with polymorphism:\n",
    "    Method abstraction is closely related to polymorphism, as it allows different classes to provide their own implementations for the same method name"
   ]
  },
  {
   "cell_type": "code",
   "execution_count": null,
   "id": "25a282df-115f-4318-ba5e-c9bd9ab60837",
   "metadata": {},
   "outputs": [],
   "source": [
    "                                                         Topic-Composition"
   ]
  },
  {
   "cell_type": "code",
   "execution_count": null,
   "id": "5eb36b90-23b9-4df5-9afb-cecacffd6cfb",
   "metadata": {},
   "outputs": [],
   "source": [
    "1. Explain the concept of composition in Python and how it is used to build complex objects from simpler ones"
   ]
  },
  {
   "cell_type": "code",
   "execution_count": null,
   "id": "faceb64d-0c9e-45b3-96aa-758881161dba",
   "metadata": {},
   "outputs": [],
   "source": [
    "Ans: Composition  is a design  principle that allows you create  complex \n",
    "object by combining simpler object . it's a way to build relationships between classes where one class contain another \n",
    ".it's a way to build relationships between classes where one classes contains another class as part of its structure.\n",
    "this form \"has-a \" relationship rather than \"is a \"relationship seen in inheritence\n",
    "Example Below:"
   ]
  },
  {
   "cell_type": "code",
   "execution_count": 4,
   "id": "9eab8c06-9697-4785-92d9-da2ffaa6408f",
   "metadata": {},
   "outputs": [
    {
     "name": "stdout",
     "output_type": "stream",
     "text": [
      "Engine started\n"
     ]
    }
   ],
   "source": [
    "# step 1  creating the class Engine \n",
    "class Engine:\n",
    "    # step 2  creating the founction\n",
    "    def start(self):\n",
    "        print(\"Engine started\")\n",
    "\n",
    "# step 3  creating the  class car\n",
    "class Car:\n",
    "    def __init__(self):\n",
    "        self.engine = Engine()  # Composition: Car has an Engine\n",
    "\n",
    "    def start_engine(self):\n",
    "        self.engine.start()\n",
    "\n",
    "\n",
    "# Creating a Car instance and starting the engine\n",
    "my_car = Car()\n",
    "my_car.start_engine()\n",
    "\n",
    "    \n"
   ]
  },
  {
   "cell_type": "code",
   "execution_count": null,
   "id": "d2e83a33-3f4f-4742-b4ab-d57820a2faf5",
   "metadata": {},
   "outputs": [],
   "source": [
    "2. Describe the difference between composition and inheritance in object-oriented programming."
   ]
  },
  {
   "cell_type": "code",
   "execution_count": null,
   "id": "369088b1-c251-4e26-8499-a5a228e64bca",
   "metadata": {},
   "outputs": [],
   "source": [
    "1. Relationship Type:\n",
    "    Inheritance establishes an \"is-a\" realtionship (subclass is a type of superclass)\n",
    "    Composition establishes a \"has-a\" realtionship (class has instances of another class )\n",
    "2. Code  Reusablity:\n",
    "    Inheritance promotes code reuse by inheriting attributes and methods from a superclass\n",
    "    Composition allows flexiblity in combining diffrent classes to from a new class but does'nt inherit \n",
    "    directly\n",
    "3. Flexiblity:\n",
    "    Composition typically provides  more flexiblity because it allows changing the behaviour a class at runtime \n",
    "    by changing the behaviour  of a class at runtime  by changing the object it contains\n",
    "    Inheritance can sometimes lead to rigid class structures, making it harder to change the behavior of a class \n",
    "    without modifying the superclass."
   ]
  },
  {
   "cell_type": "code",
   "execution_count": null,
   "id": "1dcc4a41-2f09-4d9f-bbc2-0f2365b6441c",
   "metadata": {},
   "outputs": [],
   "source": [
    "3. Create a Python class called `Author` with attributes for name and birthdate. Then, create a `Book` class \n",
    "that contains an instance of `Author` as a composition. Provide an example of creating a `Book` object"
   ]
  },
  {
   "cell_type": "code",
   "execution_count": 3,
   "id": "30b079bd-d674-4178-90fa-3476bbcca5ff",
   "metadata": {},
   "outputs": [
    {
     "name": "stdout",
     "output_type": "stream",
     "text": [
      "Book Title: Flying Dreams\n",
      "Author: APJ, Abdul kalam\n",
      "Author's Birthdate: July 31, 1965\n",
      "Publication Year: 1997\n"
     ]
    }
   ],
   "source": [
    "# step 1  creating the class author \n",
    "class Author:\n",
    "    def __init__(self, name, birthdate):\n",
    "        self.name = name\n",
    "        self.birthdate = birthdate\n",
    "# step 2  creating class Book\n",
    "class Book:\n",
    "    def __init__(self, title, author, publication_year):\n",
    "        self.title = title\n",
    "        self.author = author  # Instance of the Author class\n",
    "        self.publication_year = publication_year\n",
    "\n",
    "# Creating an Author instance\n",
    "author1 = Author(\"APJ, Abdul kalam\", \"July 31, 1965\")\n",
    "\n",
    "# Creating a Book instance with the Author instance as composition\n",
    "book1 = Book(\"Flying Dreams\", author1, 1997)\n",
    "\n",
    "# Accessing attributes of the Book and its Author\n",
    "print(f\"Book Title: {book1.title}\")\n",
    "print(f\"Author: {book1.author.name}\")\n",
    "print(f\"Author's Birthdate: {book1.author.birthdate}\")\n",
    "print(f\"Publication Year: {book1.publication_year}\")\n",
    "    "
   ]
  },
  {
   "cell_type": "code",
   "execution_count": null,
   "id": "4d7b1dd8-f4dd-4e5e-b25d-a983dfa08e96",
   "metadata": {},
   "outputs": [],
   "source": [
    "4. Discuss the benefits of using composition over inheritance in Python, especially in terms of code flexibility \n",
    "and reusability"
   ]
  },
  {
   "cell_type": "code",
   "execution_count": null,
   "id": "f9f54985-3798-45fd-914f-22a61f4a1c44",
   "metadata": {},
   "outputs": [],
   "source": [
    "1.Flexibility:\n",
    "    1.loose Coupling: Composition allows for loosely coupled code\n",
    "    object are independent and can be changed without affecting each\n",
    "    other as long as they adhere to interface they expose\n",
    "    2.Easy Modification: it's easier to modify or replace components \n",
    "2. Code Reusablity:\n",
    "    promotes Reusablity: Composition encourages reuse of smaller, more focused components. \n",
    "    Easier testing :\n",
    "    Components can be tested independently, leading to easier unit testing and ensuring that \n",
    "    each part functions correctly.\n",
    "    "
   ]
  },
  {
   "cell_type": "code",
   "execution_count": null,
   "id": "875c38e9-ccc2-45db-953d-0b313636af73",
   "metadata": {},
   "outputs": [],
   "source": [
    "5.. How can you implement composition in Python classes? Provide examples of using composition to create \n",
    "complex objects."
   ]
  },
  {
   "cell_type": "code",
   "execution_count": null,
   "id": "de82bf92-475f-4959-a7c5-78a908a092c8",
   "metadata": {},
   "outputs": [],
   "source": [
    "ANS:Composition in Python involves creating complex objects by combining simpler objects together. \n",
    "This is achieved by defining classes that contain instances of other classes as attributes."
   ]
  },
  {
   "cell_type": "code",
   "execution_count": 8,
   "id": "30fbf102-88ae-4372-bd52-6647f7f945a4",
   "metadata": {},
   "outputs": [
    {
     "name": "stdout",
     "output_type": "stream",
     "text": [
      "Engine started\n",
      "Wheels rotating\n",
      "Engine stopped\n"
     ]
    }
   ],
   "source": [
    "# step 1  creating the class Engine\n",
    "class Engine:\n",
    "    # step 2  creating the founction start\n",
    "    def start(self):\n",
    "        return \"Engine started\"\n",
    "    #step 3  creating the  founction stop\n",
    "    def stop(self):\n",
    "        return \"Engine stopped\"\n",
    "# step 4  creating the class wheels\n",
    "class Wheels:\n",
    "    # step 5 creating the  founction rotate \n",
    "    def rotate(self):\n",
    "        return \"Wheels rotating\"\n",
    "# step 5  creatig the class car\n",
    "class Car:\n",
    "    def __init__(self):\n",
    "        self.engine = Engine()  # Composition: Car has an Engine\n",
    "        self.wheels = Wheels()  # Composition: Car has Wheels\n",
    "\n",
    "    def start(self):\n",
    "        return self.engine.start()\n",
    "\n",
    "    def stop(self):\n",
    "        return self.engine.stop()\n",
    "\n",
    "    def drive(self):\n",
    "        return self.wheels.rotate()\n",
    "# example usage\n",
    "my_car = Car()\n",
    "\n",
    "print(my_car.start())  # Output: Engine started\n",
    "print(my_car.drive())  # Output: Wheels rotating\n",
    "print(my_car.stop())   # Output: Engine stopped\n",
    "\n",
    "    "
   ]
  },
  {
   "cell_type": "code",
   "execution_count": null,
   "id": "3f275424-973e-43dc-9ee1-8701f317e6d1",
   "metadata": {},
   "outputs": [],
   "source": [
    "6. Create a Python class hierarchy for a music player system, using composition to represent playlists and \n",
    "songs"
   ]
  },
  {
   "cell_type": "code",
   "execution_count": 5,
   "id": "a8e699c5-14e3-45ea-a1bc-e8cdca2da887",
   "metadata": {},
   "outputs": [
    {
     "name": "stdout",
     "output_type": "stream",
     "text": [
      "Playlist: Pop Hits\n",
      "Total Duration: 7.5 minutes\n",
      "Songs:\n",
      "Song: Shape of You - Ed Sheeran (4 minutes)\n",
      "Song: Blinding Lights - The Weeknd (3.5 minutes)\n",
      "Playlist: Soulful Songs\n",
      "Total Duration: 8.5 minutes\n",
      "Songs:\n",
      "Song: Someone Like You - Adele (5 minutes)\n",
      "Song: Blinding Lights - The Weeknd (3.5 minutes)\n"
     ]
    }
   ],
   "source": [
    "# step1  create the class song \n",
    "class Song:\n",
    "# step 2  creating the  constructor \n",
    "    def __init__(self, title, artist, duration):\n",
    "        self.title = title\n",
    "        self.artist = artist\n",
    "        self.duration = duration\n",
    "\n",
    "    def __str__(self):\n",
    "        return f\"Song: {self.title} - {self.artist} ({self.duration} minutes)\"\n",
    "\n",
    "# step 3 creating the class for playlist \n",
    "class Playlist:\n",
    "# step 4 creating the constructo \n",
    "    def __init__(self, name):\n",
    "        self.name = name\n",
    "        self.songs = []\n",
    "\n",
    "    def add_song(self, song):\n",
    "        self.songs.append(song)\n",
    "\n",
    "    def remove_song(self, song):\n",
    "        self.songs.remove(song)\n",
    "\n",
    "    def total_duration(self):\n",
    "        return sum(song.duration for song in self.songs)\n",
    "\n",
    "    def display_playlist(self):\n",
    "        return \"\\n\".join(str(song) for song in self.songs)\n",
    "\n",
    "    def __str__(self):\n",
    "        return f\"Playlist: {self.name}\\nTotal Duration: {self.total_duration()} minutes\\nSongs:\\n{self.display_playlist()}\"\n",
    "\n",
    "# step 3 create the class MU\n",
    "class MusicPlayer:\n",
    "    def __init__(self):\n",
    "        self.playlists = []\n",
    "\n",
    "    def create_playlist(self, name):\n",
    "        playlist = Playlist(name)\n",
    "        self.playlists.append(playlist)\n",
    "        return playlist\n",
    "\n",
    "    def remove_playlist(self, playlist):\n",
    "        self.playlists.remove(playlist)\n",
    "\n",
    "    def display_playlists(self):\n",
    "        return \"\\n\".join(str(playlist) for playlist in self.playlists)\n",
    "\n",
    "\n",
    "# Creating songs\n",
    "song1 = Song(\"Shape of You\", \"Ed Sheeran\", 4)\n",
    "song2 = Song(\"Someone Like You\", \"Adele\", 5)\n",
    "song3 = Song(\"Blinding Lights\", \"The Weeknd\", 3.5)\n",
    "\n",
    "# Creating a music player instance using composition\n",
    "my_player = MusicPlayer()\n",
    "\n",
    "# Creating playlists and adding songs to them\n",
    "playlist1 = my_player.create_playlist(\"Pop Hits\")\n",
    "playlist1.add_song(song1)\n",
    "playlist1.add_song(song3)\n",
    "\n",
    "playlist2 = my_player.create_playlist(\"Soulful Songs\")\n",
    "playlist2.add_song(song2)\n",
    "playlist2.add_song(song3)\n",
    "\n",
    "# Displaying information about playlists and songs in the music player\n",
    "print(my_player.display_playlists())\n",
    "\n",
    "        \n",
    "        "
   ]
  },
  {
   "cell_type": "code",
   "execution_count": null,
   "id": "2ecc5017-3c34-4fe2-8b02-6ac2da61dcae",
   "metadata": {},
   "outputs": [],
   "source": [
    "7. Explain the concept of \"has-a\" relationships in composition and how it helps design software systems."
   ]
  },
  {
   "cell_type": "code",
   "execution_count": null,
   "id": "d64c474d-cd4f-40e2-92c1-e494196b264c",
   "metadata": {},
   "outputs": [],
   "source": [
    "\"Has-a\" relationships in software design refer to a composition-based relationship between classes or objects, where one entity contains or is composed of another entity. \n",
    "This relationship is often represented by one class having an instance of another class as one of its members or attributes.\n",
    "It helps  design a software systems:\n",
    "1. It prmotes a code reusablity you can use existing classes easily\n",
    "2.It prmotes modular design each and every module hav specific responsiblity\n",
    "3.: It allows for better abstraction, as the details of the composed class can be encapsulated within its own class,"
   ]
  },
  {
   "cell_type": "code",
   "execution_count": null,
   "id": "09b09eaa-0d15-429b-b0e2-2e20e6c5013d",
   "metadata": {},
   "outputs": [],
   "source": [
    "8. Create a Python class for a computer system, using composition to represent components like CPU, RAM, \n",
    "and storage devices"
   ]
  },
  {
   "cell_type": "code",
   "execution_count": 10,
   "id": "1cb6a909-3893-41ae-9d8b-a06b6870b27a",
   "metadata": {},
   "outputs": [
    {
     "name": "stdout",
     "output_type": "stream",
     "text": [
      "Computer Specifications:\n",
      "CPU: Intel Core i7 running at 3.5 GHz\n",
      "RAM: 16GB DDR4\n",
      "Storage: 512GB SSD\n"
     ]
    }
   ],
   "source": [
    "# step1  create the class Cpu \n",
    "class CPU:\n",
    "    def __init__(self, model, speed):\n",
    "        self.model = model\n",
    "        self.speed = speed\n",
    "\n",
    "    def __str__(self):\n",
    "        return f\"CPU: {self.model} running at {self.speed} GHz\"\n",
    "\n",
    "# step create the class Ram\n",
    "class RAM:\n",
    "    def __init__(self, size, type):\n",
    "        self.size = size\n",
    "        self.type = type\n",
    "\n",
    "    def __str__(self):\n",
    "        return f\"RAM: {self.size}GB {self.type}\"\n",
    "\n",
    "# step 3 create the classs Storage \n",
    "class Storage:\n",
    "    def __init__(self, capacity, type):\n",
    "        self.capacity = capacity\n",
    "        self.type = type\n",
    "\n",
    "    def __str__(self):\n",
    "        return f\"Storage: {self.capacity}GB {self.type}\"\n",
    "\n",
    "#s tep 4 create the class Computer system\n",
    "class ComputerSystem:\n",
    "    def __init__(self, cpu, ram, storage):\n",
    "        self.cpu = cpu\n",
    "        self.ram = ram\n",
    "        self.storage = storage\n",
    "\n",
    "    def specs(self):\n",
    "        return f\"Computer Specifications:\\n{self.cpu}\\n{self.ram}\\n{self.storage}\"\n",
    "\n",
    "\n",
    "# Creating instances of CPU, RAM, and Storage\n",
    "my_cpu = CPU(\"Intel Core i7\", 3.5)\n",
    "my_ram = RAM(16, \"DDR4\")\n",
    "my_storage = Storage(512, \"SSD\")\n",
    "\n",
    "# Creating a ComputerSystem instance using composition\n",
    "my_computer = ComputerSystem(my_cpu, my_ram, my_storage)\n",
    "\n",
    "# Displaying the computer specifications\n",
    "print(my_computer.specs())\n"
   ]
  },
  {
   "cell_type": "code",
   "execution_count": null,
   "id": "c25f2784-569a-4671-be6f-fa8eb8e28723",
   "metadata": {},
   "outputs": [],
   "source": [
    "9. Describe the concept of \"delegation\" in composition and how it simplifies the design of complex systems"
   ]
  },
  {
   "cell_type": "code",
   "execution_count": null,
   "id": "b11a2623-d6c2-47c4-9ff7-c27e4449f1d2",
   "metadata": {},
   "outputs": [],
   "source": [
    "Ans: Delegation in composition is a design principle  where object passes \n",
    "responsiblity for a particular task to another object.. Rather than performing \n",
    "the task itself, the object delegates it to another object it contains as a part of its composition.\n",
    "1.By deligation specific tasks or responsility  to other objects  foxuses on a specific aspect or functionality\n",
    "this sepration concern make code easier\n",
    "2.Delegation prmotes reusablity since object can delegate the task to other object regardless of\n",
    "task complexity.\n",
    "3 Delegation allows for easier modifications and enhancements. If the behavior or functionality of a task needs to change.\n",
    "4.Objects can hide their internal implementations behind interfaces when delegating tasks."
   ]
  },
  {
   "cell_type": "code",
   "execution_count": null,
   "id": "cfc98563-69ef-420d-b443-25ad2e210b16",
   "metadata": {},
   "outputs": [],
   "source": [
    "10. Create a Python class for a car, using composition to represent components like the engine, wheels, and \n",
    "transmission"
   ]
  },
  {
   "cell_type": "code",
   "execution_count": 12,
   "id": "674d2d8b-43db-4f94-8ea4-209504a53ba2",
   "metadata": {},
   "outputs": [
    {
     "name": "stdout",
     "output_type": "stream",
     "text": [
      "Engine started\n",
      "Wheels rotating\n",
      "Engine stopped\n"
     ]
    }
   ],
   "source": [
    " #step 1  creating the class Engine\n",
    "class Engine:\n",
    "    # step 2  creating the founction start\n",
    "    def start(self):\n",
    "        return \"Engine started\"\n",
    "    #step 3  creating the  founction stop\n",
    "    def stop(self):\n",
    "        return \"Engine stopped\"\n",
    "# step 4  creating the class wheels\n",
    "class Wheels:\n",
    "    # step 5 creating the  founction rotate \n",
    "    def rotate(self):\n",
    "        return \"Wheels rotating\"\n",
    "# step 5  creatig the class car\n",
    "class Car:\n",
    "    def __init__(self):\n",
    "        self.engine = Engine()  # Composition: Car has an Engine\n",
    "        self.wheels = Wheels()  # Composition: Car has Wheels\n",
    "# step  6 creating the founctions \n",
    "    def start(self):\n",
    "        return self.engine.start()\n",
    "\n",
    "    def stop(self):\n",
    "        return self.engine.stop()\n",
    "\n",
    "    def drive(self):\n",
    "        return self.wheels.rotate()\n",
    "# example usage\n",
    "my_car = Car()\n",
    "\n",
    "print(my_car.start())  # Output: Engine started\n",
    "print(my_car.drive())  # Output: Wheels rotating\n",
    "print(my_car.stop())   # Output: Engine stopped\n"
   ]
  },
  {
   "cell_type": "code",
   "execution_count": null,
   "id": "359926a0-82db-4929-81b1-b4339bde988a",
   "metadata": {},
   "outputs": [],
   "source": [
    "11. How can you encapsulate and hide the details of composed objects in Python classes to maintain \n",
    "abstraction?"
   ]
  },
  {
   "cell_type": "code",
   "execution_count": null,
   "id": "b3856778-0aa6-45d4-8a72-19af56f19f46",
   "metadata": {},
   "outputs": [],
   "source": [
    "Ans:\n",
    "1Private variable:\n",
    "    python conventionnally  uses underscore to denote private attributes or methods\n",
    "    by using the single underscore\n",
    "2.properties:\n",
    "    it allows controlled acees to attributes with getter ,setter and deleter methods\n",
    "    This aloows a controll acess to attributes and enable encapsulation by hiding internal details\n",
    "    \n",
    "3.Getters and Setters:\n",
    "Using traditional getter and setter methods allows you to control how attributes are accessed and modified.\n",
    "4.. Inner Classes:\n",
    "    You can use inner classes to encapsulate complex logic or related functionalities within your main class.\n",
    "    "
   ]
  },
  {
   "cell_type": "code",
   "execution_count": null,
   "id": "65620bcd-1d9f-408b-80af-1fe2a5310ba6",
   "metadata": {},
   "outputs": [],
   "source": [
    "12. Create a Python class for a university course, using composition to represent students, instructors, and \n",
    "course materials"
   ]
  },
  {
   "cell_type": "code",
   "execution_count": 2,
   "id": "ffb67f4b-ae75-4183-a8fa-06e85369554c",
   "metadata": {},
   "outputs": [
    {
     "name": "stdout",
     "output_type": "stream",
     "text": [
      "University Course: Python Programming\n",
      "Taught by: Instructor: Dr. Smith (Employee ID: E101)\n",
      "Course Material: Course Material: Python Programming\n",
      "\n",
      "Students enrolled:\n",
      "Student: Alice (ID: S001)\n",
      "Student: Bob (ID: S002)\n"
     ]
    }
   ],
   "source": [
    "# step1 creating the class student\n",
    "class Student:\n",
    "    # step 2 creating the constructor \n",
    "    def __init__(self, name, student_id):\n",
    "        self.name = name\n",
    "        self.student_id = student_id\n",
    "\n",
    "    def __str__(self):\n",
    "        return f\"Student: {self.name} (ID: {self.student_id})\"\n",
    "\n",
    "# step 3 creating the class Instructor \n",
    "class Instructor:\n",
    "    def __init__(self, name, employee_id):\n",
    "        self.name = name\n",
    "        self.employee_id = employee_id\n",
    "\n",
    "    def __str__(self):\n",
    "        return f\"Instructor: {self.name} (Employee ID: {self.employee_id})\"\n",
    "\n",
    "# step 4  creating the class Coursematerial\n",
    "class CourseMaterial:\n",
    "    def __init__(self, title, content):\n",
    "        self.title = title\n",
    "        self.content = content\n",
    "\n",
    "    def __str__(self):\n",
    "        return f\"Course Material: {self.title}\"\n",
    "\n",
    "#  step 5 creating the class University course\n",
    "class UniversityCourse:\n",
    "    def __init__(self, course_name, instructor, course_material):\n",
    "        self.course_name = course_name\n",
    "        self.instructor = instructor\n",
    "        self.course_material = course_material\n",
    "        self.students = []\n",
    "\n",
    "    def add_student(self, student):\n",
    "        self.students.append(student)\n",
    "\n",
    "    def list_students(self):\n",
    "        return [str(student) for student in self.students]\n",
    "\n",
    "    def __str__(self):\n",
    "        return f\"University Course: {self.course_name}\\nTaught by: {self.instructor}\\nCourse Material: {self.course_material}\"\n",
    "\n",
    "\n",
    "# Creating instances of Student, Instructor, and CourseMaterial\n",
    "student1 = Student(\"Alice\", \"S001\")\n",
    "student2 = Student(\"Bob\", \"S002\")\n",
    "\n",
    "instructor = Instructor(\"Dr. Smith\", \"E101\")\n",
    "\n",
    "material = CourseMaterial(\"Python Programming\", \"Course content goes here...\")\n",
    "\n",
    "# Creating a UniversityCourse instance using composition\n",
    "python_course = UniversityCourse(\"Python Programming\", instructor, material)\n",
    "\n",
    "# Adding students to the course\n",
    "python_course.add_student(student1)\n",
    "python_course.add_student(student2)\n",
    "\n",
    "# Displaying information about the course and students enrolled\n",
    "print(python_course)\n",
    "print(\"\\nStudents enrolled:\")\n",
    "print(\"\\n\".join(python_course.list_students()))\n"
   ]
  },
  {
   "cell_type": "code",
   "execution_count": null,
   "id": "632a5c5d-a0d7-4128-87e5-6964684e4c8f",
   "metadata": {},
   "outputs": [],
   "source": [
    "13. Discuss the challenges and drawbacks of composition, such as increased complexity and potential for \n",
    "tight coupling between objects."
   ]
  },
  {
   "cell_type": "markdown",
   "id": "161ba49d-68d3-4492-9bf5-fd9d4b2275d9",
   "metadata": {},
   "source": [
    "Increased Complexity:\n",
    "s objects are composed together, the interactions between them might become intricate, leading to a more complex system. Understanding the flow of data and behaviors between composed objects can become challenging.\n",
    "Tight Coupling:\n",
    "Objects within a composition are often interdependent. Changes in one object might necessitate modifications in other related objects, leading to tight coupling. This makes the system less flexible and harder to maintain"
   ]
  },
  {
   "cell_type": "code",
   "execution_count": null,
   "id": "e189957b-2564-4166-876a-4b87367335de",
   "metadata": {},
   "outputs": [],
   "source": [
    "14. Create a Python class hierarchy for a restaurant system, using composition to represent menus, dishes, \n",
    "and ingredients."
   ]
  },
  {
   "cell_type": "code",
   "execution_count": 10,
   "id": "6829a95a-231f-45d6-b75d-051fa6d2e20e",
   "metadata": {},
   "outputs": [
    {
     "name": "stdout",
     "output_type": "stream",
     "text": [
      "Menu: Lunch Menu\n",
      "Dishes:\n",
      "Dish: Pizza\n",
      "Ingredients: 3 Tomato, 2 Cheese, 5 Dough\n",
      "Dish: Burger\n",
      "Ingredients: 2 Cheese, 4 Chicken\n"
     ]
    }
   ],
   "source": [
    "# step 1 create the classs Ingredient \n",
    "class Ingredient:\n",
    "    def __init__(self, name, quantity):\n",
    "        self.name = name\n",
    "        self.quantity = quantity\n",
    "\n",
    "    def __str__(self):\n",
    "        return f\"{self.quantity} {self.name}\"\n",
    "# step  2 create the class Dish\n",
    "class Dish:\n",
    "    def __init__(self, name, ingredients):\n",
    "        self.name = name\n",
    "        self.ingredients = ingredients\n",
    "\n",
    "    def __str__(self):\n",
    "        return f\"Dish: {self.name}\\nIngredients: {', '.join(str(ingredient) for ingredient in self.ingredients)}\"\n",
    "\n",
    "# step 3 creaate the class Menu \n",
    "class Menu:\n",
    "    def __init__(self, name, dishes):\n",
    "        self.name = name\n",
    "        self.dishes = dishes\n",
    "\n",
    "    def __str__(self):\n",
    "        return f\"Menu: {self.name}\\nDishes:\\n\" + \"\\n\".join(str(dish) for dish in self.dishes)\n",
    "\n",
    "# step 4 create the classs Resturant \n",
    "class Restaurant:\n",
    "    def __init__(self, name, menus):\n",
    "        self.name = name\n",
    "        self.menus = menus\n",
    "\n",
    "    def display_menus(self):\n",
    "        return \"\\n\".join(str(menu) for menu in self.menus)\n",
    "\n",
    "# Creating ingredients\n",
    "ingredient1 = Ingredient(\"Tomato\", 3)\n",
    "ingredient2 = Ingredient(\"Cheese\", 2)\n",
    "ingredient3 = Ingredient(\"Dough\", 5)\n",
    "ingredient4 = Ingredient(\"Chicken\", 4)\n",
    "\n",
    "# Creating dishes\n",
    "pizza_ingredients = [ingredient1, ingredient2, ingredient3]\n",
    "pizza = Dish(\"Pizza\", pizza_ingredients)\n",
    "\n",
    "burger_ingredients = [ingredient2, ingredient4]\n",
    "burger = Dish(\"Burger\", burger_ingredients)\n",
    "\n",
    "# Creating menus\n",
    "menu_dishes = [pizza, burger]\n",
    "lunch_menu = Menu(\"Lunch Menu\", menu_dishes)\n",
    "\n",
    "# Creating a restaurant\n",
    "my_restaurant = Restaurant(\"My Restaurant\", [lunch_menu])\n",
    "\n",
    "# Displaying restaurant menus\n",
    "print(my_restaurant.display_menus())      \n",
    "    "
   ]
  },
  {
   "cell_type": "code",
   "execution_count": null,
   "id": "7f57ed65-1004-4484-9b0a-c6ac0af2259e",
   "metadata": {},
   "outputs": [],
   "source": [
    "15. Explain how composition enhances code maintainability and modularity in Python programs"
   ]
  },
  {
   "cell_type": "code",
   "execution_count": null,
   "id": "192498b8-bf92-42bd-b667-3e724d50694a",
   "metadata": {},
   "outputs": [],
   "source": [
    "Modualarity:\n",
    "Encapsulation:Composition promotes encapsulation, allowing each class to focus on a specific responsibility. \n",
    "Reusablity:Composing classes together allows for reusable components. A class that represents a particular functionality or behavior can be used in\n",
    "multiple contexts or composed into different structures, enhancing code reuse.\n",
    "Maintainability:\n",
    "Eaasier Debuging:\n",
    "In a composed structure, when a problem arises, isolating and debugging issues becomes more straightforward. \n",
    "Simplified Updates and Changes: If modifications or updates are needed, a change in one component typically doesn’t affect other parts of the system."
   ]
  },
  {
   "cell_type": "code",
   "execution_count": null,
   "id": "dcb5f8d1-9157-4f1c-8ada-7c0b298b59c3",
   "metadata": {},
   "outputs": [],
   "source": [
    "16. Create a Python class for a computer game character, using composition to represent attributes like \n",
    "weapons, armor, and inventory"
   ]
  },
  {
   "cell_type": "code",
   "execution_count": 4,
   "id": "edbdca50-aeaf-4e35-be30-d600c59dfb4c",
   "metadata": {},
   "outputs": [
    {
     "name": "stdout",
     "output_type": "stream",
     "text": [
      "Character: Player 1\n",
      "Equipped Weapon: Weapon: Sword - Damage: 15\n",
      "Equipped Armor: Armor: Shield - Defense: 10\n",
      "Inventory:\n",
      "Health Potion - Quantity: 5\n"
     ]
    }
   ],
   "source": [
    "# step 1 create the class Weapon \n",
    "class Weapon:\n",
    "    def __init__(self, name, damage):\n",
    "        self.name = name\n",
    "        self.damage = damage\n",
    "\n",
    "    def __str__(self):\n",
    "        return f\"Weapon: {self.name} - Damage: {self.damage}\"\n",
    "\n",
    "# step 2 creating the class Armor \n",
    "class Armor:\n",
    "    def __init__(self, name, defense):\n",
    "        self.name = name\n",
    "        self.defense = defense\n",
    "\n",
    "    def __str__(self):\n",
    "        return f\"Armor: {self.name} - Defense: {self.defense}\"\n",
    "\n",
    "# step 3 creatingthe class inventory item\n",
    "class InventoryItem:\n",
    "    def __init__(self, name, quantity):\n",
    "        self.name = name\n",
    "        self.quantity = quantity\n",
    "\n",
    "    def __str__(self):\n",
    "        return f\"{self.name} - Quantity: {self.quantity}\"\n",
    "\n",
    "# step 4 creating the classs Chracter\n",
    "class Character:\n",
    "    def __init__(self, name, weapon=None, armor=None, inventory=None):\n",
    "        self.name = name\n",
    "        self.weapon = weapon\n",
    "        self.armor = armor\n",
    "        self.inventory = inventory if inventory is not None else []\n",
    "\n",
    "    def equip_weapon(self, weapon):\n",
    "        self.weapon = weapon\n",
    "\n",
    "    def equip_armor(self, armor):\n",
    "        self.armor = armor\n",
    "\n",
    "    def add_to_inventory(self, item):\n",
    "        self.inventory.append(item)\n",
    "\n",
    "    def display_inventory(self):\n",
    "        return \"\\n\".join(str(item) for item in self.inventory)\n",
    "\n",
    "    def __str__(self):\n",
    "        equipped_weapon = f\"Equipped Weapon: {self.weapon}\\n\" if self.weapon else \"No Weapon Equipped\\n\"\n",
    "        equipped_armor = f\"Equipped Armor: {self.armor}\\n\" if self.armor else \"No Armor Equipped\\n\"\n",
    "        return f\"Character: {self.name}\\n{equipped_weapon}{equipped_armor}Inventory:\\n{self.display_inventory()}\"\n",
    "\n",
    "\n",
    "# Creating instances of Weapon, Armor, and InventoryItem\n",
    "sword = Weapon(\"Sword\", 15)\n",
    "shield = Armor(\"Shield\", 10)\n",
    "potion = InventoryItem(\"Health Potion\", 5)\n",
    "\n",
    "# Creating a Character instance using composition\n",
    "game_character = Character(\"Player 1\")\n",
    "game_character.equip_weapon(sword)\n",
    "game_character.equip_armor(shield)\n",
    "game_character.add_to_inventory(potion)\n",
    "\n",
    "# Displaying information about the game character\n",
    "print(game_character)\n"
   ]
  },
  {
   "cell_type": "code",
   "execution_count": null,
   "id": "b2705667-5e58-479f-ae9f-3bf546759e3e",
   "metadata": {},
   "outputs": [],
   "source": [
    "17. Describe the concept of \"aggregation\" in composition and how it differs from simple composition"
   ]
  },
  {
   "cell_type": "code",
   "execution_count": null,
   "id": "eef60526-9423-4185-9a2a-67d51e0dbd6a",
   "metadata": {},
   "outputs": [],
   "source": [
    "ANS:aggregation in composition represents a more loosely coupled relationship between objects, allowing for\n",
    "greater flexibility and independence of the contained objects compared to simple composition, where the contained objects \n",
    "are tightly bound to the container's lifecycle\n",
    "How It differ:\n",
    "1.In simple composition, the contained objects are owned by the container. Their lifecycle is directly tied to the container, \n",
    "and they usually cannot exist independently.\n",
    "1.In aggregation, the contained objects have their own lifecycle and can exist independently of the container. They might exist \n",
    "before being added to the container or continue to exist after the container is destroyed.\n",
    "1.  Simple composition implies a stronger relationship \n",
    "2.   Aggregation represents a less strict relationship."
   ]
  },
  {
   "cell_type": "code",
   "execution_count": null,
   "id": "dcf8add6-e405-48d8-87dc-e2f10b6a8de7",
   "metadata": {},
   "outputs": [],
   "source": [
    "18. Create a Python class for a house, using composition to represent rooms, furniture, and appliance"
   ]
  },
  {
   "cell_type": "code",
   "execution_count": 6,
   "id": "b799e06f-ac2f-49cf-8935-dbafe1159705",
   "metadata": {},
   "outputs": [
    {
     "name": "stdout",
     "output_type": "stream",
     "text": [
      "Room: Living Room\n",
      "Furniture:\n",
      "Furniture: Sofa\n",
      "Furniture: Coffee Table\n",
      "Appliances:\n",
      "Appliance: Television\n",
      "Room: Kitchen\n",
      "Furniture:\n",
      "\n",
      "Appliances:\n",
      "Appliance: Refrigerator\n"
     ]
    }
   ],
   "source": [
    "# step1 create the class founction \n",
    "class Furniture:\n",
    "    # step 2 create the consturctor \n",
    "    def __init__(self, name):\n",
    "        self.name = name\n",
    "\n",
    "    def __str__(self):\n",
    "        return f\"Furniture: {self.name}\"\n",
    "\n",
    "# step 2 class Appliance \n",
    "class Appliance:\n",
    "    # step 3   creating the constructor \n",
    "    def __init__(self, name):\n",
    "        self.name = name\n",
    "\n",
    "    def __str__(self):\n",
    "        return f\"Appliance: {self.name}\"\n",
    "\n",
    "# step 4 creating the classs  Room\n",
    "class Room:\n",
    "    def __init__(self, name):\n",
    "        self.name = name\n",
    "        self.furniture = []\n",
    "        self.appliances = []\n",
    "\n",
    "    def add_furniture(self, furniture):\n",
    "        self.furniture.append(furniture)\n",
    "\n",
    "    def add_appliance(self, appliance):\n",
    "        self.appliances.append(appliance)\n",
    "\n",
    "    def __str__(self):\n",
    "        furniture_info = \"\\n\".join(str(item) for item in self.furniture)\n",
    "        appliance_info = \"\\n\".join(str(item) for item in self.appliances)\n",
    "        return f\"Room: {self.name}\\nFurniture:\\n{furniture_info}\\nAppliances:\\n{appliance_info}\"\n",
    "\n",
    "# step 5 creating the  class hour \n",
    "class House:\n",
    "    def __init__(self):\n",
    "        self.rooms = []\n",
    "\n",
    "    def add_room(self, room):\n",
    "        self.rooms.append(room)\n",
    "\n",
    "    def __str__(self):\n",
    "        return \"\\n\".join(str(room) for room in self.rooms)\n",
    "\n",
    "\n",
    "# Creating instances of Furniture and Appliance\n",
    "sofa = Furniture(\"Sofa\")\n",
    "table = Furniture(\"Coffee Table\")\n",
    "tv = Appliance(\"Television\")\n",
    "fridge = Appliance(\"Refrigerator\")\n",
    "\n",
    "# Creating a House instance using composition\n",
    "my_house = House()\n",
    "\n",
    "# Creating rooms and adding furniture and appliances to them\n",
    "living_room = Room(\"Living Room\")\n",
    "living_room.add_furniture(sofa)\n",
    "living_room.add_furniture(table)\n",
    "living_room.add_appliance(tv)\n",
    "\n",
    "kitchen = Room(\"Kitchen\")\n",
    "kitchen.add_appliance(fridge)\n",
    "\n",
    "my_house.add_room(living_room)\n",
    "my_house.add_room(kitchen)\n",
    "\n",
    "# Displaying information about the house, rooms, furniture, and appliances\n",
    "print(my_house)\n"
   ]
  },
  {
   "cell_type": "code",
   "execution_count": null,
   "id": "d8f085c8-1a53-40eb-9f34-bd988432d6b9",
   "metadata": {},
   "outputs": [],
   "source": [
    "19. How can you achieve flexibility in composed objects by allowing them to be replaced or modified \n",
    "dynamically at runtime"
   ]
  },
  {
   "cell_type": "code",
   "execution_count": null,
   "id": "d660db08-4a57-4cd3-a12d-b269d29f91d0",
   "metadata": {},
   "outputs": [],
   "source": [
    "Achieving flexibility in composed objects, allowing them to be replaced or modified dynamically at runtime, involves \n",
    "designing your code to enable easy swapping or modification of the composed components without affecting the rest of the system.\n",
    "1. Using Interfaces or Abstract Classes-Define interfaces or abstract classes that specify the behaviors expected from composed objects\n",
    "2. Dependency Injection:where objects are passed to other objects as parameters instead of being instantiated within the object itself.\n",
    "3. Factory Pattern:Implement the factory pattern to create instances of composed objects\n",
    "4. Decorator Pattern:Use the decorator pattern to dynamically modify or enhance the behavior of objects by wrapping them with additional functionalities at runtime."
   ]
  },
  {
   "cell_type": "code",
   "execution_count": null,
   "id": "6f28d76c-acbd-4040-87a2-4cab2115f89f",
   "metadata": {},
   "outputs": [],
   "source": [
    "20. Create a Python class for a social media application, using composition to represent users, posts, and \n",
    "comments."
   ]
  },
  {
   "cell_type": "code",
   "execution_count": 8,
   "id": "afbd7154-699c-454f-9ea0-d17d30f4f0e0",
   "metadata": {},
   "outputs": [
    {
     "name": "stdout",
     "output_type": "stream",
     "text": [
      "User: ram\n",
      "User: babu rao\n"
     ]
    }
   ],
   "source": [
    "# step 1  creating the class comment \n",
    "class Comment:\n",
    "    # step2  creating the  constructor \n",
    "    def __init__(self, text, user):\n",
    "        self.text = text\n",
    "        self.user = user\n",
    "# step 3 again creating the constructor printing the values\n",
    "    def __str__(self):\n",
    "        return f\"Comment: '{self.text}' by {self.user}\"\n",
    "\n",
    "# step 4  creating the class post \n",
    "class Post:\n",
    "# step 5  creating the   constructor \n",
    "    def __init__(self, content, user):\n",
    "        self.content = content\n",
    "        self.user = user\n",
    "        self.comments = []\n",
    "# step  6 create  the founctioss\n",
    "    def add_comment(self, comment):\n",
    "        self.comments.append(comment)\n",
    "\n",
    "    def __str__(self):\n",
    "        comments_info = \"\\n\".join(str(comment) for comment in self.comments)\n",
    "        return f\"Post: '{self.content}' by {self.user}\\nComments:\\n{comments_info}\"\n",
    "\n",
    "# step 7  create the class user\n",
    "class User:\n",
    "    def __init__(self, name):\n",
    "        self.name = name\n",
    "        self.posts = []\n",
    "\n",
    "    def create_post(self, content):\n",
    "        post = Post(content, self)\n",
    "        self.posts.append(post)\n",
    "        return post\n",
    "\n",
    "    def __str__(self):\n",
    "        return f\"User: {self.name}\"\n",
    "\n",
    "# step 8 create the class Social Media app\n",
    "class SocialMediaApp:\n",
    "    def __init__(self):\n",
    "        self.users = []\n",
    "\n",
    "    def add_user(self, user):\n",
    "        self.users.append(user)\n",
    "\n",
    "    def __str__(self):\n",
    "        return \"\\n\".join(str(user) for user in self.users)\n",
    "\n",
    "\n",
    "# Creating instances of User, Post, and Comment\n",
    "user1 = User(\"ram\")\n",
    "user2 = User(\"babu rao\")\n",
    "\n",
    "post1 = user1.create_post(\"Hello, this is my first post!\")\n",
    "post2 = user2.create_post(\"Great day for some coding!\")\n",
    "\n",
    "comment1 = Comment(\"Nice post!\", user2)\n",
    "post1.add_comment(comment1)\n",
    "\n",
    "# Creating a SocialMediaApp instance using composition\n",
    "my_social_media_app = SocialMediaApp()\n",
    "my_social_media_app.add_user(user1)\n",
    "my_social_media_app.add_user(user2)\n",
    "\n",
    "# Displaying information about users, their posts, and comments in the social media app\n",
    "print(my_social_media_app)\n"
   ]
  },
  {
   "cell_type": "code",
   "execution_count": null,
   "id": "f241d5ba-8eef-4388-a6b9-df45e0377e35",
   "metadata": {},
   "outputs": [],
   "source": []
  }
 ],
 "metadata": {
  "kernelspec": {
   "display_name": "Python 3 (ipykernel)",
   "language": "python",
   "name": "python3"
  },
  "language_info": {
   "codemirror_mode": {
    "name": "ipython",
    "version": 3
   },
   "file_extension": ".py",
   "mimetype": "text/x-python",
   "name": "python",
   "nbconvert_exporter": "python",
   "pygments_lexer": "ipython3",
   "version": "3.10.8"
  }
 },
 "nbformat": 4,
 "nbformat_minor": 5
}
