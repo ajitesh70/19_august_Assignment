{
 "cells": [
  {
   "cell_type": "raw",
   "id": "72386663-6e3b-49d5-95fd-ac703cb3fb25",
   "metadata": {},
   "source": [
    "1. Given an array, check if it contains any duplicates or not.\n",
    "arr = [1, 2, 4, 2, 5, 9]\n",
    "Output = True"
   ]
  },
  {
   "cell_type": "code",
   "execution_count": 14,
   "id": "46054427-9607-4efb-9412-77c2428046ed",
   "metadata": {},
   "outputs": [
    {
     "name": "stdout",
     "output_type": "stream",
     "text": [
      "True\n"
     ]
    }
   ],
   "source": [
    "def duplicate(arr):\n",
    "    for i in range(len(arr)):\n",
    "        for j in range(i+1,len(arr)):\n",
    "            if arr[i]==arr[j]:\n",
    "                return True\n",
    "    return False\n",
    "            \n",
    "\n",
    "\n",
    "\n",
    "#drivers code\n",
    "arr=[1,2,3,4,5,2,6]\n",
    "result=duplicate(arr)\n",
    "print(result)"
   ]
  },
  {
   "cell_type": "raw",
   "id": "0f474310-2e40-4060-a83a-92237de3bfb8",
   "metadata": {},
   "source": [
    "2. Given an array and an integer k, rotate the array to the right by k steps.\n",
    "arr = [1, 2, 3, 4, 5, 6, 7] k = 3\n",
    "Output = [5, 6, 7, 1, 2, 3, 4]"
   ]
  },
  {
   "cell_type": "code",
   "execution_count": 17,
   "id": "0223d680-523a-4b05-82a2-08b741a0e32f",
   "metadata": {},
   "outputs": [
    {
     "name": "stdout",
     "output_type": "stream",
     "text": [
      "[5, 6, 7, 1, 2, 3, 4]\n"
     ]
    }
   ],
   "source": [
    "def rotate_array(arr, k):\n",
    "    n = len(arr)\n",
    "    k = k % n  # Adjust k in case it's greater than the length of the array\n",
    "    arr[:] = arr[-k:] + arr[:-k]\n",
    "\n",
    "# Test the function\n",
    "arr = [1, 2, 3, 4, 5, 6, 7]\n",
    "k = 3\n",
    "rotate_array(arr, k)\n",
    "print(arr)  # Output: [5, 6, 7, 1, 2, 3, 4]\n"
   ]
  },
  {
   "cell_type": "raw",
   "id": "58392da5-a739-4169-aaa7-36122ca740c3",
   "metadata": {},
   "source": [
    "3. Reverse the given array in-place, means without using any extra data structure.\n",
    "arr = [2, 4, 5, 7, 9, 12]\n",
    "Output = [12, 9, 7, 5, 4, 2]"
   ]
  },
  {
   "cell_type": "code",
   "execution_count": 18,
   "id": "adab370d-0cb6-4590-b2f0-a6df4f50333d",
   "metadata": {},
   "outputs": [
    {
     "name": "stdout",
     "output_type": "stream",
     "text": [
      "[12, 9, 7, 5, 4, 2]\n"
     ]
    }
   ],
   "source": [
    "def reverse_array(arr):\n",
    "    # Initialize two pointers: one at the beginning and one at the end of the array\n",
    "    start = 0\n",
    "    end = len(arr) - 1\n",
    "    \n",
    "    # Iterate until the pointers meet or cross each other\n",
    "    while start < end:\n",
    "        # Swap elements at the start and end pointers\n",
    "        arr[start], arr[end] = arr[end], arr[start]\n",
    "        \n",
    "        # Move the pointers towards the center of the array\n",
    "        start += 1\n",
    "        end -= 1\n",
    "\n",
    "# Test the function\n",
    "arr = [2, 4, 5, 7, 9, 12]\n",
    "reverse_array(arr)\n",
    "print(arr)  # Output: [12, 9, 7, 5, 4, 2]\n"
   ]
  },
  {
   "cell_type": "raw",
   "id": "215a22f7-010e-4cce-b245-c4b3c984f1a8",
   "metadata": {},
   "source": [
    "4. Given an array of integers, find the maximum element in an array\n",
    "arr = [10, 5, 20, 8, 15]\n",
    "Output = 20"
   ]
  },
  {
   "cell_type": "code",
   "execution_count": 19,
   "id": "069757c0-f091-4516-a79e-e277483fe8ea",
   "metadata": {},
   "outputs": [
    {
     "name": "stdout",
     "output_type": "stream",
     "text": [
      "20\n"
     ]
    }
   ],
   "source": [
    "def find_max(arr):\n",
    "    if not arr:\n",
    "        return None  # Return None for an empty array\n",
    "    \n",
    "    max_element = arr[0]  # Initialize max_element to the first element of the array\n",
    "    for num in arr[1:]:  # Start iteration from the second element\n",
    "        if num > max_element:\n",
    "            max_element = num  # Update max_element if a greater element is found\n",
    "    \n",
    "    return max_element\n",
    "\n",
    "# Test the function\n",
    "arr = [10, 5, 20, 8, 15]\n",
    "print(find_max(arr))  # Output: 20\n"
   ]
  },
  {
   "cell_type": "raw",
   "id": "bcb5cc0b-73b9-4225-89d0-8c5b17b6d1b2",
   "metadata": {},
   "source": [
    "5. Given a sorted array, remove the duplicate element without using any extra data structure.\n",
    "arr = [1, 1, 2, 2, 2, 3, 3, 4, 4, 4, 5, 5]\n",
    "Output = [1, 2, 3, 4, 5]"
   ]
  },
  {
   "cell_type": "code",
   "execution_count": 20,
   "id": "84c99c5a-ff18-4dfc-82a1-fb95d04d17c8",
   "metadata": {},
   "outputs": [
    {
     "name": "stdout",
     "output_type": "stream",
     "text": [
      "[1, 2, 3, 4, 5]\n"
     ]
    }
   ],
   "source": [
    "def remove_duplicates(arr):\n",
    "    if not arr:\n",
    "        return 0  # Return 0 if the array is empty\n",
    "    \n",
    "    # Initialize a pointer to track the index of the last unique element\n",
    "    unique_index = 0\n",
    "    \n",
    "    # Iterate through the array starting from the second element\n",
    "    for i in range(1, len(arr)):\n",
    "        # If the current element is different from the previous unique element\n",
    "        if arr[i] != arr[unique_index]:\n",
    "            # Move the unique_index pointer forward\n",
    "            unique_index += 1\n",
    "            # Update the array with the current element at the new unique_index\n",
    "            arr[unique_index] = arr[i]\n",
    "    \n",
    "    # Return the length of the modified array (number of unique elements)\n",
    "    return unique_index + 1\n",
    "\n",
    "# Test the function\n",
    "arr = [1, 1, 2, 2, 2, 3, 3, 4, 4, 4, 5, 5]\n",
    "length = remove_duplicates(arr)\n",
    "print(arr[:length])  # Output: [1, 2, 3, 4, 5]\n"
   ]
  },
  {
   "cell_type": "code",
   "execution_count": null,
   "id": "1c326fa0-a04f-43b3-a27d-04e0adbfffaf",
   "metadata": {},
   "outputs": [],
   "source": []
  }
 ],
 "metadata": {
  "kernelspec": {
   "display_name": "Python 3 (ipykernel)",
   "language": "python",
   "name": "python3"
  },
  "language_info": {
   "codemirror_mode": {
    "name": "ipython",
    "version": 3
   },
   "file_extension": ".py",
   "mimetype": "text/x-python",
   "name": "python",
   "nbconvert_exporter": "python",
   "pygments_lexer": "ipython3",
   "version": "3.10.8"
  }
 },
 "nbformat": 4,
 "nbformat_minor": 5
}
