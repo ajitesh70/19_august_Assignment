{
 "cells": [
  {
   "cell_type": "code",
   "execution_count": null,
   "id": "2f0892e7-91f6-4c17-95ce-4ebe5a3210c7",
   "metadata": {},
   "outputs": [],
   "source": [
    "Problem 1 :\n",
    "def quicksort(arr):\n",
    "if len(arr) <= 1:\n",
    "return arr\n",
    "pivot = arr[len(arr) // 2]\n",
    "left = [x for x in arr if x < pivot]\n",
    "middle = [x for x in arr if x == pivot]\n",
    "right = [x for x in arr if x > pivot]\n",
    "return quicksort(left) + middle + quicksort(right)"
   ]
  },
  {
   "cell_type": "code",
   "execution_count": null,
   "id": "ea016801-0b5c-4172-a127-fa8a3795d416",
   "metadata": {},
   "outputs": [],
   "source": [
    "ans: O(N**2)"
   ]
  },
  {
   "cell_type": "code",
   "execution_count": null,
   "id": "300f475b-a9e9-4038-be5a-d063eac5c2d8",
   "metadata": {},
   "outputs": [],
   "source": [
    "Problem 2 :\n",
    "def nested_loop_example(matrix):\n",
    "rows, cols = len(matrix), len(matrix[0])\n",
    "total = 0\n",
    "for i in range(rows):\n",
    "for j in range(cols):\n",
    "total += matrix[i][j]\n",
    "return total"
   ]
  },
  {
   "cell_type": "code",
   "execution_count": null,
   "id": "161b4d7a-f82e-4d55-9f03-bd5f6b3c28dc",
   "metadata": {},
   "outputs": [],
   "source": [
    "ans:O(n+m)"
   ]
  },
  {
   "cell_type": "code",
   "execution_count": null,
   "id": "41db474a-90df-44ba-ae18-e083b418c501",
   "metadata": {},
   "outputs": [],
   "source": [
    "Problem 3 :\n",
    "def example_function(arr):\n",
    "result = 0\n",
    "for element in arr:\n",
    "result += element\n",
    "return result"
   ]
  },
  {
   "cell_type": "code",
   "execution_count": null,
   "id": "97555579-dcfb-4919-ae39-b16b22544101",
   "metadata": {},
   "outputs": [],
   "source": [
    "ans:O(n)+c"
   ]
  },
  {
   "cell_type": "code",
   "execution_count": null,
   "id": "8216acb6-29b3-4468-8277-894f5f4927ef",
   "metadata": {},
   "outputs": [],
   "source": [
    "Problem 4 :\n",
    "def longest_increasing_subsequence(nums):\n",
    "n = len(nums)\n",
    "lis = [1] * n\n",
    "for i in range(1, n):\n",
    "for j in range(0, i):\n",
    "if nums[i] > nums[j] and lis[i] < lis[j] + 1:\n",
    "lis[i] = lis[j] + 1\n",
    "return max(lis)"
   ]
  },
  {
   "cell_type": "code",
   "execution_count": null,
   "id": "df098d90-8dac-4371-bc6b-f9907bd3fd27",
   "metadata": {},
   "outputs": [],
   "source": [
    "ans:O(n**2)+c"
   ]
  },
  {
   "cell_type": "code",
   "execution_count": null,
   "id": "7d112a96-d7b2-46f5-983a-1142680b23e4",
   "metadata": {},
   "outputs": [],
   "source": [
    "Problem 5 :\n",
    "def mysterious_function(arr):\n",
    "n = len(arr)\n",
    "result = 0\n",
    "for i in range(n):\n",
    "for j in range(i, n):\n",
    "result += arr[i] * arr[j]\n",
    "return result"
   ]
  },
  {
   "cell_type": "code",
   "execution_count": null,
   "id": "e1cc0e73-5bca-4599-9a5b-567463cbf3a5",
   "metadata": {},
   "outputs": [],
   "source": [
    "Ans:O(n**2)+c"
   ]
  },
  {
   "cell_type": "code",
   "execution_count": null,
   "id": "afafc954-4a6f-4c0c-bec8-f059b77dd162",
   "metadata": {},
   "outputs": [],
   "source": [
    "Solve the following problems on recursion"
   ]
  },
  {
   "cell_type": "code",
   "execution_count": null,
   "id": "543f6396-ac48-470f-8732-1827e044cbac",
   "metadata": {},
   "outputs": [],
   "source": [
    "Problem 6 : Sum of Digits\n",
    "Write a recursive function to calculate the sum of digits of a given positive integer.\n",
    "sum_of_digits(123) ->6"
   ]
  },
  {
   "cell_type": "code",
   "execution_count": 4,
   "id": "812fb3f5-e48c-4829-be6b-bdf2b5925b16",
   "metadata": {},
   "outputs": [],
   "source": [
    "# step1 defining the founction\n",
    "def sod(n):\n",
    "    # step 2 base case \n",
    "    if n<10:\n",
    "        return n\n",
    "    return n%10+sod(n//10)\n"
   ]
  },
  {
   "cell_type": "code",
   "execution_count": 5,
   "id": "e1d4e671-048c-4795-bdb7-6e198b9d852f",
   "metadata": {},
   "outputs": [
    {
     "data": {
      "text/plain": [
       "6"
      ]
     },
     "execution_count": 5,
     "metadata": {},
     "output_type": "execute_result"
    }
   ],
   "source": [
    "sod(123)"
   ]
  },
  {
   "cell_type": "code",
   "execution_count": null,
   "id": "9f539835-cb4e-4480-b58c-6fc687536d6a",
   "metadata": {},
   "outputs": [],
   "source": [
    "Problem 7: Fibonacci Series\n",
    "Write a recursive function to generate the first n numbers of the Fibonacci series.\n",
    "fibonacci_series(6) -> [0, 1, 1, 2, 3, 5]"
   ]
  },
  {
   "cell_type": "code",
   "execution_count": 19,
   "id": "ed5e3266-219e-46c6-af94-7f3f40e49150",
   "metadata": {},
   "outputs": [],
   "source": [
    "def fib(n):\n",
    "    if n<=0:\n",
    "        return []\n",
    "    elif n==1:\n",
    "        return [0]\n",
    "    elif n==2:\n",
    "        return [0,1]\n",
    "    else:\n",
    "        fib_series=fib(n-1)\n",
    "        fib_series.append( fib_series[-1]+fib_series[-2])\n",
    "        return fib_series\n",
    "    "
   ]
  },
  {
   "cell_type": "code",
   "execution_count": 20,
   "id": "fc6e2679-08b2-4a6e-bc30-a24f4809c21c",
   "metadata": {},
   "outputs": [
    {
     "data": {
      "text/plain": [
       "[0, 1, 1, 2, 3, 5]"
      ]
     },
     "execution_count": 20,
     "metadata": {},
     "output_type": "execute_result"
    }
   ],
   "source": [
    "fib(6)"
   ]
  },
  {
   "cell_type": "code",
   "execution_count": null,
   "id": "c118413d-7466-4f47-92ac-45b1c092f2bd",
   "metadata": {},
   "outputs": [],
   "source": [
    "Problem 9: Word Break\n",
    "Given a non-empty string and a dictionary of words, write a recursive function to determine if the string can be\n",
    "segmented into a space-separated sequence of dictionary words.\n",
    "word_break( leetcode , [ leet , code ]) -> True"
   ]
  },
  {
   "cell_type": "code",
   "execution_count": 16,
   "id": "998c434e-c7ef-4d73-8a26-c65c3a1d3315",
   "metadata": {},
   "outputs": [],
   "source": [
    "# step1 creating the the founction to brake the word \n",
    "def wordbreak(wordlist,word):\n",
    "    #step 2 using the if elese condition\n",
    "    if word == \"\":\n",
    "        return True\n",
    "    else:\n",
    "        wordlen=len(word)\n",
    "        # step 3 using the for loop\n",
    "        for i in range (1,wordlen+1):\n",
    "            if word[:i] in wordlist and wordbreak(wordlist,word[i:]):\n",
    "                return True\n",
    "        return False"
   ]
  },
  {
   "cell_type": "code",
   "execution_count": 17,
   "id": "a5196c89-3a02-4f83-9380-b871357eb2c0",
   "metadata": {},
   "outputs": [
    {
     "name": "stdout",
     "output_type": "stream",
     "text": [
      "True\n"
     ]
    }
   ],
   "source": [
    "print(wordbreak([\"leet\",\"code\"],\"leetcode\"))"
   ]
  },
  {
   "cell_type": "code",
   "execution_count": null,
   "id": "536c4968-be58-4fe1-b13a-82bf4211c7ad",
   "metadata": {},
   "outputs": [],
   "source": [
    "Problem 10 : N-Queens\n",
    "Implement a recursive function to solve the N Queens problem, where you have to place N queens on an N×N\n",
    "chessboard in such a way that no two queens threaten each other."
   ]
  },
  {
   "cell_type": "code",
   "execution_count": 24,
   "id": "ae6f37e2-fc12-4af0-ba28-70d16846367a",
   "metadata": {},
   "outputs": [],
   "source": [
    "def isSafetoplace(baord,row,col,n):\n",
    "    for i in  range(col):\n",
    "        if board[row][i]==1:\n",
    "            return False\n",
    "    for i,j in zip(range(row,-1,-1),range(col,-1,-1)):#inthis we checking ipperleft daigonal\n",
    "        if board[i][j]==1:\n",
    "            return False\n",
    "        \n",
    "    #checking the lowerleft daigonal\n",
    "    for i,j in zip(range(row,n,1),range(col,-1,-1)):\n",
    "        if board[i][j]==1:\n",
    "            return False\n",
    "    return True\n",
    "def solveNQ(board,n):\n",
    "    if not SolveNQtil(board,0,n):\n",
    "        print(\"solution does't exist\")\n",
    "        return\n",
    "    printBoard(board,n)\n",
    "#should return trueif we are able to place allqueens \n",
    "def  SolveNQtil(board,col,n):\n",
    "    if(col>=n):\n",
    "        return True # means  we havebeen able toput queens all coloums\n",
    "    \n",
    "    # check for all the rows\n",
    "    for row in  range(n):\n",
    "        if isSafetoplace(board, row, col,n):\n",
    "            board[row][col]=1\n",
    "            \n",
    "            # recursively  try for the next problem\n",
    "            if SolveNQtil(board,col+1, n):\n",
    "                return True\n",
    "            # backtracking \n",
    "            board[row][col]=0 # queen can't set here\n",
    "    return False #won't be able to place the ueen\n",
    "            \n",
    "\n",
    "def printBoard(board,n):\n",
    "    for i in range(n):\n",
    "        for j in range(n):\n",
    "            if board[i][j]==1:\n",
    "                print(\"Q\",end=\" \")\n",
    "            else:\n",
    "                print(\".\",end=\" \")\n",
    "        print()\n",
    "                \n",
    "    \n",
    "        \n",
    "    \n",
    "        "
   ]
  },
  {
   "cell_type": "code",
   "execution_count": 25,
   "id": "576ac31e-09b5-4d8d-a2fb-036abfff14dc",
   "metadata": {},
   "outputs": [
    {
     "name": "stdout",
     "output_type": "stream",
     "text": [
      ". . Q . \n",
      "Q . . . \n",
      ". . . Q \n",
      ". Q . . \n"
     ]
    }
   ],
   "source": [
    "board=[[0,0,0,0],\n",
    "      [0,0,0,0],\n",
    "      [0,0,0,0],\n",
    "      [0,0,0,0]\n",
    "      ]\n",
    "solveNQ(board,4)"
   ]
  },
  {
   "cell_type": "code",
   "execution_count": null,
   "id": "590152cf-713e-473b-8c47-93e8b9159c36",
   "metadata": {},
   "outputs": [],
   "source": []
  }
 ],
 "metadata": {
  "kernelspec": {
   "display_name": "Python 3 (ipykernel)",
   "language": "python",
   "name": "python3"
  },
  "language_info": {
   "codemirror_mode": {
    "name": "ipython",
    "version": 3
   },
   "file_extension": ".py",
   "mimetype": "text/x-python",
   "name": "python",
   "nbconvert_exporter": "python",
   "pygments_lexer": "ipython3",
   "version": "3.10.8"
  }
 },
 "nbformat": 4,
 "nbformat_minor": 5
}
