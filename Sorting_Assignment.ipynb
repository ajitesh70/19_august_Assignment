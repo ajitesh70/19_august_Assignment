{
 "cells": [
  {
   "cell_type": "code",
   "execution_count": null,
   "id": "782d1426-c7d9-4ff4-86e5-6e9fa3acf855",
   "metadata": {},
   "outputs": [],
   "source": [
    "Problem 1.Given an array of n numbers, give an algorithm which gives the element appearing maximum\n",
    "number of times?"
   ]
  },
  {
   "cell_type": "code",
   "execution_count": 114,
   "id": "28fdfb08-294a-4710-9a04-b3115eba264c",
   "metadata": {},
   "outputs": [
    {
     "data": {
      "text/plain": [
       "1"
      ]
     },
     "execution_count": 114,
     "metadata": {},
     "output_type": "execute_result"
    }
   ],
   "source": [
    "# step 1 creating the founction \n",
    "def count(arr,n):\n",
    "    res=0# step 2  initilizing the res with 0\n",
    "    count=1 # step 3 initializing the count  with 1\n",
    "    for i in range(1,n): #  voting moore algo \n",
    "        if(arr[i]==arr[res]):\n",
    "            count+=1\n",
    "        else:\n",
    "            count-=1\n",
    "        \n",
    "        if (count==0):\n",
    "            res=i\n",
    "            count=1\n",
    "            \n",
    "            \n",
    "    return arr[res]\n",
    "        \n",
    "        \n",
    "# example usage\n",
    "arr=[ 1, 2, 3, 1]\n",
    "n=len(arr)\n",
    "count(arr,n)"
   ]
  },
  {
   "cell_type": "code",
   "execution_count": null,
   "id": "de6853db-55f6-4f92-ad5b-015c5abe2a50",
   "metadata": {},
   "outputs": [],
   "source": [
    "Problem 2 : We are given a list of n-1 integers and these integers are in the range of 1 to n . There are no\n",
    "duplicates in the list. One of the integers is missing in the list. Give an algorithm to find that element Ex:\n",
    "[1,2,4,6,3,7,8] 5 is the missing num."
   ]
  },
  {
   "cell_type": "code",
   "execution_count": 30,
   "id": "687c659d-709f-4fec-adbe-d07fc8d7a43d",
   "metadata": {},
   "outputs": [],
   "source": [
    "# step 1 missing the  number in array \n",
    "def missing(arr,n):\n",
    "    # step 2 initializing the  maxi with zero \n",
    "    maxi=0\n",
    "    #step 3 finding ht\n",
    "    summ=n*(n+1)/2\n",
    "    miss=0\n",
    "    \n",
    "    for  i in  range(n-1):\n",
    "        maxi+=arr[i]\n",
    "        miss= summ-maxi\n",
    "    return miss"
   ]
  },
  {
   "cell_type": "code",
   "execution_count": 31,
   "id": "92b9cd0e-b19d-4f4f-b63d-ec2dd3d3901a",
   "metadata": {},
   "outputs": [
    {
     "data": {
      "text/plain": [
       "5.0"
      ]
     },
     "execution_count": 31,
     "metadata": {},
     "output_type": "execute_result"
    }
   ],
   "source": [
    "arr=[1,2,4,6,3,7,8]\n",
    "missing(arr,7)"
   ]
  },
  {
   "cell_type": "code",
   "execution_count": null,
   "id": "9ac4e126-917d-4f6d-8d18-f219ac8d1796",
   "metadata": {},
   "outputs": [],
   "source": [
    "Problem 3 : Given an array of n positive numbers. All numbers occurs even number of times except 1 which\n",
    "occurs odd number of times. Find that number in O(n) time and O(1) space. Ex: [1,2,3,2,3,1,3]. 3 is repeats odd\n",
    "times."
   ]
  },
  {
   "cell_type": "code",
   "execution_count": 40,
   "id": "7aa38b66-d6dc-4fc5-a5a6-f095999e2d80",
   "metadata": {},
   "outputs": [
    {
     "data": {
      "text/plain": [
       "3"
      ]
     },
     "execution_count": 40,
     "metadata": {},
     "output_type": "execute_result"
    }
   ],
   "source": [
    "# step 1 creating the founction  to find odd\n",
    "def find(arr):\n",
    "    # step 2  initial izng the result 0 \n",
    "    result=0\n",
    "    # step 3 using the for loop\n",
    "    for i in range(len(arr)):\n",
    "        # step 4  using the xor ^ a\n",
    "        result=result^arr[i]\n",
    "    return result\n",
    "    \n",
    "arr=[1,2,3,2,3,1,3]\n",
    "find(arr)\n",
    "        \n",
    "    "
   ]
  },
  {
   "cell_type": "code",
   "execution_count": null,
   "id": "fb5d1eb7-a832-44ea-9b1d-4f69464c1e00",
   "metadata": {},
   "outputs": [],
   "source": [
    "problem 4:Given an array of n elements. Find two elements in the array such that their sum is equal to given\n",
    "element K."
   ]
  },
  {
   "cell_type": "code",
   "execution_count": 1,
   "id": "36f92b17-743f-4c0d-9f18-7069c5f94fb6",
   "metadata": {},
   "outputs": [
    {
     "data": {
      "text/plain": [
       "[(3, 4)]"
      ]
     },
     "execution_count": 1,
     "metadata": {},
     "output_type": "execute_result"
    }
   ],
   "source": [
    "def twoSum(arr, target, n):\n",
    "  # step 1 creating the  list\n",
    "\n",
    "    result=[]\n",
    "    # step 2  checking the lenght of the loop\n",
    "    if len(arr)==1:\n",
    "\n",
    "        return [(-1,-1)]\n",
    "    \n",
    "    arr.sort()\n",
    "\n",
    "    left=0\n",
    "\n",
    "    right=len(arr)-1\n",
    "    # step 3 using the 2 pointer approach\n",
    "    while left<right:\n",
    "\n",
    "        if arr[left]+arr[right]==target:\n",
    "\n",
    "            result.append((arr[left],arr[right]))\n",
    "\n",
    "            left+=1\n",
    "\n",
    "            right-=1\n",
    "\n",
    "        elif arr[left]+arr[right]<target:\n",
    "\n",
    "            left+=1\n",
    "\n",
    "        elif arr[left]+arr[right]>target:\n",
    "\n",
    "            right-=1\n",
    "\n",
    "    if len(result)==0:\n",
    "\n",
    "        result.append((-1,-1))\n",
    "\n",
    "    return result\n",
    "\n",
    "# example usage\n",
    "arr=[1,3,4,2]\n",
    "twoSum(arr,7,5)\n",
    "        "
   ]
  },
  {
   "cell_type": "code",
   "execution_count": null,
   "id": "428f083c-aecd-4977-b3c1-3c421b86c3cb",
   "metadata": {},
   "outputs": [],
   "source": [
    "5: Given an array of both positive and negative numbers, find two numbers such that their sum is\n",
    "closest to 0. Ex: [ 1 ,60 ,-10, 70, -80,85]. Ans : -80,85."
   ]
  },
  {
   "cell_type": "code",
   "execution_count": 6,
   "id": "45828687-852a-415c-97eb-987853431a4f",
   "metadata": {},
   "outputs": [
    {
     "name": "stdout",
     "output_type": "stream",
     "text": [
      "85 -80\n"
     ]
    }
   ],
   "source": [
    "# step 1  creating the  founction for finding the pair sum\n",
    "def pairsum(arr):\n",
    "    #   step 2 using the if - else condition\n",
    "    if len(arr)<2:\n",
    "        return \n",
    "    # step 3 initializing the min \n",
    "    min_i=0\n",
    "    min_j=0\n",
    "    min_sum=arr[0]+arr[1]\n",
    "    # step 4 using the for loop\n",
    "    for i in range(0,len(arr)):\n",
    "        # step 5  runing the another loop\n",
    "        for j in  range(1 ,len(arr)):\n",
    "            sumi=arr[i]+arr[j]\n",
    "            if min_sum>abs(sumi):\n",
    "                min_sim=sumi\n",
    "                min_i=i\n",
    "                min_j=j\n",
    "    print(arr[min_i], arr[min_j])\n",
    "    \n",
    "    \n",
    "\n",
    "    \n",
    "    \n",
    "        \n",
    "#example usage\n",
    "arr=[ 1 ,60 ,-10, 70, -80,85]\n",
    "pairsum(arr)\n"
   ]
  },
  {
   "cell_type": "code",
   "execution_count": null,
   "id": "319ac591-26bd-4687-aa3c-4d484c1501dc",
   "metadata": {},
   "outputs": [],
   "source": [
    "Problem 6 :Given an array of n elements . Find three elements such that their sum is equal to the given\n",
    "number."
   ]
  },
  {
   "cell_type": "code",
   "execution_count": 14,
   "id": "7448f4c5-4e42-412e-868c-9a5da4152dec",
   "metadata": {},
   "outputs": [
    {
     "name": "stdout",
     "output_type": "stream",
     "text": [
      "2   3   4\n"
     ]
    },
    {
     "data": {
      "text/plain": [
       "True"
      ]
     },
     "execution_count": 14,
     "metadata": {},
     "output_type": "execute_result"
    }
   ],
   "source": [
    "def threesum(arr,l):\n",
    "    # step1  sorting the array \n",
    "    arr.sort()\n",
    "    # step 2 runing the for loopss \n",
    "    for i in range(0,len(arr)-2):\n",
    "        for j in range(i+1,len(arr)-1):\n",
    "            for k in range(j+1, len(arr)):\n",
    "                # step 3 checking the condition \n",
    "                if(arr[i]+arr[j]+arr[k]==l):\n",
    "                    print(arr[i],\" \",arr[j],\" \", arr[k])\n",
    "                    return True \n",
    "            \n",
    "    return False\n",
    "\n",
    "\n",
    "# EXAMPLE USAGE\n",
    "l=9\n",
    "arr=[1,2,3,4]\n",
    "threesum(arr,l)\n",
    "    \n",
    "            "
   ]
  },
  {
   "cell_type": "code",
   "execution_count": null,
   "id": "8cb927f7-3265-4919-a98f-6aa5e342ed25",
   "metadata": {},
   "outputs": [],
   "source": [
    "Problem 7 : Given an array of n elements . Find three elements i, j, k in the array such that\n",
    "i * i + j * j = k*k."
   ]
  },
  {
   "cell_type": "code",
   "execution_count": 17,
   "id": "530f5c79-d513-4ef3-b0cc-d3a62a815143",
   "metadata": {},
   "outputs": [
    {
     "name": "stdout",
     "output_type": "stream",
     "text": [
      "3   4   5\n"
     ]
    },
    {
     "data": {
      "text/plain": [
       "True"
      ]
     },
     "execution_count": 17,
     "metadata": {},
     "output_type": "execute_result"
    }
   ],
   "source": [
    "# step 1 creating the founction threessum for arr\n",
    "def threesum(arr):\n",
    "    # step 2  sorting the algorithim\n",
    "    arr.sort()\n",
    "    # step 3 runing the for loops with diffrent ranges \n",
    "    for i in range(0,len(arr)-2):\n",
    "        for j in range(i+1,len(arr)-1):\n",
    "            for k in range(j+1, len(arr)):\n",
    "                if(arr[i]* arr[i]+arr[j]*arr[j]==arr[k]*arr[k]):\n",
    "                    print(arr[i],\" \",arr[j],\" \", arr[k])\n",
    "                    return True \n",
    "            \n",
    "    return False\n",
    "\n",
    "\n",
    "\n",
    "#exampleusage\n",
    "arr = [3, 1, 4, 6, 5]\n",
    "threesum(arr)\n",
    "\n"
   ]
  },
  {
   "cell_type": "code",
   "execution_count": null,
   "id": "668076a7-17be-4e0c-8013-96d6233aeadf",
   "metadata": {},
   "outputs": [],
   "source": [
    "Problem 8 : An element is a majority if it appears more than n/2 times. Give an algorithm takes an array of n\n",
    "element as argument and identifies a majority (if it exists)."
   ]
  },
  {
   "cell_type": "code",
   "execution_count": 41,
   "id": "ae5d723d-049b-46de-82ba-038a9ff2f263",
   "metadata": {},
   "outputs": [
    {
     "name": "stdout",
     "output_type": "stream",
     "text": [
      "1\n"
     ]
    }
   ],
   "source": [
    "\n",
    "# Function to find majority element\n",
    "def majority(arr, n):\n",
    "    candidate = -1\n",
    "    votes = 0\n",
    "     \n",
    "    # Finding majority candidate\n",
    "    for i in range (n):\n",
    "        if (votes == 0):\n",
    "            candidate = arr[i]\n",
    "            votes = 1\n",
    "        else:\n",
    "            if (arr[i] == candidate):\n",
    "                votes += 1\n",
    "            else:\n",
    "                votes -= 1\n",
    "    count = 0\n",
    "     \n",
    "    # Checking if majority candidate occurs more than n/2\n",
    "    # times\n",
    "    for i in range (n):\n",
    "        if (arr[i] == candidate):\n",
    "            count += 1\n",
    "             \n",
    "    if (count > n // 2):\n",
    "        return candidate\n",
    "    else:\n",
    "        return -1\n",
    " \n",
    "# Driver Code \n",
    " \n",
    "arr = [ 1, 1, 1, 1, 2, 3, 4 ]\n",
    "n = len(arr)\n",
    "majority = findMajority(arr, n)\n",
    "print(majority)\n",
    "        \n",
    "    \n",
    "   \n",
    "                \n",
    "            \n",
    "        \n",
    "        "
   ]
  },
  {
   "cell_type": "code",
   "execution_count": null,
   "id": "9902e570-6bc3-4046-a304-d403e1e7d966",
   "metadata": {},
   "outputs": [],
   "source": [
    "Problem 9 : Given n × n matrix, and in each row all 1’s are followed by 0’s. Find the row with the maximum\n",
    "number of 0’s."
   ]
  },
  {
   "cell_type": "code",
   "execution_count": 44,
   "id": "0352fc48-05e9-4fb4-8d49-626dd3aefa28",
   "metadata": {},
   "outputs": [
    {
     "name": "stdout",
     "output_type": "stream",
     "text": [
      "Index of row with maximum 1s is 0\n"
     ]
    }
   ],
   "source": [
    "# Python implementation of the approach\n",
    "R,C = 4,4\n",
    "\n",
    "# Function to find the index of first index \n",
    "# of 1 in a boolean array arr \n",
    "def first(arr , low , high): \n",
    "\n",
    "\tif(high >= low): \n",
    "\n",
    "\t\t# Get the middle index \n",
    "\t\tmid = low + (high - low)//2\n",
    "\t\n",
    "\t\t# Check if the element at middle index is first 1 \n",
    "\t\tif ( ( mid == 1 or arr[mid-1] == 1) and arr[mid] == 0): \n",
    "\t\t\treturn mid \n",
    "\t\n",
    "\t\t# If the element is 0, recur for right side \n",
    "\t\telif (arr[mid] == 1): \n",
    "\t\t\treturn first(arr, (mid + 1), high); \n",
    "\t\t\n",
    "\t\t# If element is not first 1, recur for left side \n",
    "\t\telse:\n",
    "\t\t\treturn first(arr, low, (mid -1)); \n",
    "\n",
    "\treturn -1\n",
    "\n",
    "# Function that returns index of row \n",
    "# with maximum number of 1s. \n",
    "def rowWithMax0s(mat): \n",
    "\n",
    "\t# Initialize max values \n",
    "\tmax_row_index,Max = 0,-1\n",
    "\n",
    "\t# Traverse for each row and count number of 1s \n",
    "\t# by finding the index of first 1 \n",
    "\tfor i in range(R):\n",
    "\n",
    "\t\tindex = first (mat[i], 0, C-1)\n",
    "\t\tif (index != -1 and C-index > Max):\n",
    "\t\t\tMax = C - index; \n",
    "\t\t\tmax_row_index = i\n",
    "\n",
    "\treturn max_row_index \n",
    "\n",
    "# Driver Code\n",
    "mat = [[0, 0, 0, 1], \n",
    "\t[0, 1, 1, 1], \n",
    "\t[1, 1, 1, 1], \n",
    "\t[0, 0, 0, 0]]\n",
    "print(\"Index of row with maximum 1s is \" + str(rowWithMax0s(mat)))\n",
    "\n",
    "# This code is contributed by shinjanpatra\n"
   ]
  },
  {
   "cell_type": "code",
   "execution_count": null,
   "id": "30f7e273-104c-4cb9-86ff-376e1b59a485",
   "metadata": {},
   "outputs": [],
   "source": [
    "Problem 10 : Sort an array of 0’s, 1’s and 2’s [or R’s, G’s and B’s]: Given an array A[] consisting of 0’s, 1’s and\n",
    "2’s, give an algorithm for sorting A[].The algorithm should put all 0’s first, then all 1’s and finally all 2’s at the\n",
    "end. Example Input = {0,1,1,0,1,2,1,2,0,0,0,1}, Output = {0,0,0,0,0,1,1,1,1,1,2,2}"
   ]
  },
  {
   "cell_type": "code",
   "execution_count": 31,
   "id": "f1dcdfe5-2d13-46df-aac9-6e6f5ff881ec",
   "metadata": {},
   "outputs": [
    {
     "name": "stdout",
     "output_type": "stream",
     "text": [
      "[0, 0, 0, 0, 0, 1, 1, 1, 1, 1, 2, 2]\n"
     ]
    }
   ],
   "source": [
    "# step 1  creating the founction for sorting 0,1,2\n",
    "def insertionsort(arr):\n",
    "    # step 2 runing the for loop \n",
    "    for i in range(1,len(arr)):\n",
    "        v=arr[i]\n",
    "        j=i\n",
    "        # step 3 runing the while loop\n",
    "        while(j>=1 and arr[j-1]>v):\n",
    "            arr[j]=arr[j-1]\n",
    "            j-=1\n",
    "            arr[j]=v    \n",
    "#example use case\n",
    "arr = [0,1,1,0,1,2,1,2,0,0,0,1]\n",
    "insertionsort(arr)\n",
    "print(arr)"
   ]
  },
  {
   "cell_type": "code",
   "execution_count": null,
   "id": "def3acc0-82e2-4846-8935-20094b8ef232",
   "metadata": {},
   "outputs": [],
   "source": []
  },
  {
   "cell_type": "code",
   "execution_count": null,
   "id": "10b5b7f4-6865-46b6-9025-13f466179be7",
   "metadata": {},
   "outputs": [],
   "source": []
  }
 ],
 "metadata": {
  "kernelspec": {
   "display_name": "Python 3 (ipykernel)",
   "language": "python",
   "name": "python3"
  },
  "language_info": {
   "codemirror_mode": {
    "name": "ipython",
    "version": 3
   },
   "file_extension": ".py",
   "mimetype": "text/x-python",
   "name": "python",
   "nbconvert_exporter": "python",
   "pygments_lexer": "ipython3",
   "version": "3.10.8"
  }
 },
 "nbformat": 4,
 "nbformat_minor": 5
}
