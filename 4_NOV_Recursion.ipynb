{
 "cells": [
  {
   "cell_type": "code",
   "execution_count": null,
   "id": "7c8b35b7-7b10-4f3d-a862-ec08507d0093",
   "metadata": {},
   "outputs": [],
   "source": [
    "Q.1 Can you explain the logic and working of the Tower of Hanoi algorithm by writing a Java program?\n",
    "How does the recursion work, and how are the movements of disks between rods accomplished?"
   ]
  },
  {
   "cell_type": "code",
   "execution_count": 1,
   "id": "a8a33a82-5914-4fbc-a5bb-331e5a4f87cc",
   "metadata": {},
   "outputs": [
    {
     "name": "stdout",
     "output_type": "stream",
     "text": [
      "Move disk 1 from A to C\n",
      "Move disk 2 from A to B\n",
      "Move disk 1 from C to B\n",
      "Move disk 3 from A to C\n",
      "Move disk 1 from B to A\n",
      "Move disk 2 from B to C\n",
      "Move disk 1 from A to C\n"
     ]
    }
   ],
   "source": [
    "# step1  making the founction  of tower of hanoi\n",
    "def tower_of_hanoi(n, source, target, auxiliary):\n",
    "# step 2  creating the base case\n",
    "    if n == 1:\n",
    "        print(f\"Move disk 1 from {source} to {target}\")\n",
    "        return\n",
    "# step 3  calling the founction tower of hannoi   transfering 2 disk to from a to b\n",
    "    tower_of_hanoi(n-1, source, auxiliary, target)\n",
    "# step 4   moving the n th disk to target\n",
    "    print(f\"Move disk {n} from {source} to {target}\")\n",
    "# step 5  moving 2 disk fromm b to c\n",
    "    tower_of_hanoi(n-1, auxiliary, target, source)\n",
    "\n",
    "# Example usage\n",
    "num_disks = 3\n",
    "tower_of_hanoi(num_disks, 'A', 'C', 'B')\n",
    "\n",
    "    "
   ]
  },
  {
   "cell_type": "code",
   "execution_count": null,
   "id": "33d83d81-b43e-4774-97ca-7df9716155cc",
   "metadata": {},
   "outputs": [],
   "source": [
    "Q.2 Given two strings word1 and word2, return the minimum number of operations required to convert word1\n",
    "to word2."
   ]
  },
  {
   "cell_type": "code",
   "execution_count": 3,
   "id": "96b5b573-edfd-42ba-94e2-73228980d462",
   "metadata": {},
   "outputs": [
    {
     "name": "stdout",
     "output_type": "stream",
     "text": [
      "The minimum number of operations required: 3\n"
     ]
    }
   ],
   "source": [
    "def minDistance(word1, word2):\n",
    "    # #step1 Recursive function to calculate minimum operations\n",
    "    def minOps(i, j):\n",
    "        #step 2  If either of the strings is empty, return the length of the other string\n",
    "        if i == len(word1):\n",
    "            return len(word2) - j\n",
    "        if j == len(word2):\n",
    "            return len(word1) - i\n",
    "        \n",
    "        # step 3 If characters match, move to the next characters in both strings\n",
    "        if word1[i] == word2[j]:\n",
    "            return minOps(i + 1, j + 1)\n",
    "        \n",
    "        ##step4 If characters don't match, consider three operations: insert, delete, or replace\n",
    "        insert = 1 + minOps(i, j + 1)\n",
    "        delete = 1 + minOps(i + 1, j)\n",
    "        replace = 1 + minOps(i + 1, j + 1)\n",
    "        \n",
    "        return min(insert, delete, replace)\n",
    "    \n",
    "    ##step 5 Start recursion from the beginning of both strings\n",
    "    return minOps(0, 0)\n",
    "\n",
    "# Example usage:\n",
    "word1 = \"horse\"\n",
    "word2 = \"ros\"\n",
    "result = minDistance(word1, word2)\n",
    "print(f\"The minimum number of operations required: {result}\")\n",
    "\n"
   ]
  },
  {
   "cell_type": "code",
   "execution_count": null,
   "id": "7d0672a8-f0e5-467c-8cc4-c8c24bf7cd99",
   "metadata": {},
   "outputs": [],
   "source": [
    "Q. 3 Print the max value of the array [ 13, 1, -3, 22, 5]."
   ]
  },
  {
   "cell_type": "code",
   "execution_count": 16,
   "id": "182bbbaf-7181-4b7b-980a-6ff86e1289eb",
   "metadata": {},
   "outputs": [
    {
     "data": {
      "text/plain": [
       "20"
      ]
     },
     "execution_count": 16,
     "metadata": {},
     "output_type": "execute_result"
    }
   ],
   "source": [
    "# step 1 creating the founction  to find the maximum of array \n",
    "def maxima(arr):\n",
    "# step 2 finding the length of the array by using the len\n",
    "    n=len(arr)\n",
    "# step 3 considering the firest element  of array in max\n",
    "    max=arr[0]\n",
    "# step 4 using the for loop\n",
    "    for i in range(n):\n",
    "# step 5 runing the another loop to check other element in array\n",
    "        for j in range(i+1,n):\n",
    "            if arr[j]>max:\n",
    "                max=arr[j]\n",
    "    return max\n",
    "arr = [10, 5, 20, 8, 15]\n",
    "# step 6 calling the maxima founction \n",
    "maxima(arr)\n",
    "             \n",
    "    \n",
    "    "
   ]
  },
  {
   "cell_type": "code",
   "execution_count": null,
   "id": "d4da6d5a-1a41-4325-9da9-54768edd6d68",
   "metadata": {},
   "outputs": [],
   "source": [
    "Q.4 Find the sum of the values of the array [92, 23, 15, -20, 10]."
   ]
  },
  {
   "cell_type": "code",
   "execution_count": 7,
   "id": "11311817-8524-434a-a35a-d1fb1be7c8e9",
   "metadata": {},
   "outputs": [
    {
     "data": {
      "text/plain": [
       "120"
      ]
     },
     "execution_count": 7,
     "metadata": {},
     "output_type": "execute_result"
    }
   ],
   "source": [
    "# step 1 creating the  recursuve founction\n",
    "def sumi(arr, n):\n",
    "# step 2  creating the base case\n",
    "    if n==1:\n",
    "        return arr[0]\n",
    "#step 3 calling recursive founction again \n",
    "    return arr[n-1]+sumi(arr, n-1)\n",
    "\n",
    "# example usage \n",
    "\n",
    "arr=[92, 23, 15, -20, 10]\n",
    "n=len(arr)\n",
    "# calling the founction\n",
    "sumi(arr,n)\n",
    "\n",
    "    \n",
    "    "
   ]
  },
  {
   "cell_type": "code",
   "execution_count": null,
   "id": "0566fdca-66b3-4e60-ae26-a960be21d6ee",
   "metadata": {},
   "outputs": [],
   "source": [
    "Q.5 Given a number n. Print if it is an armstrong number or not.An armstrong number is a number if the sum\n",
    "of every digit in that number raised to the power of total digits in that number is equal to the number."
   ]
  },
  {
   "cell_type": "code",
   "execution_count": 1,
   "id": "c75ce5ee-a95c-417b-be4e-fe6b6d16a902",
   "metadata": {},
   "outputs": [
    {
     "name": "stdin",
     "output_type": "stream",
     "text": [
      "Enter a number:  153\n"
     ]
    },
    {
     "name": "stdout",
     "output_type": "stream",
     "text": [
      "153 is an Armstrong number\n"
     ]
    }
   ],
   "source": [
    "# step1 creating the fiunction of amstrong \n",
    "def is_armstrong(n):\n",
    "    # step 2 Count the number of digits in n\n",
    "    num_digits = len(str(n))\n",
    "    \n",
    "    # step 3  Initialize sum\n",
    "    sum = 0\n",
    "    # stroring the value in temp\n",
    "    temp = n\n",
    "    # step 4 reuning the while loop\n",
    "    while temp > 0:\n",
    "        digit = temp % 10\n",
    "        sum += digit ** num_digits\n",
    "        temp //= 10\n",
    "\n",
    "    # step 5 Check if the number is Armstrong or not\n",
    "    if n == sum:\n",
    "        return True\n",
    "    else:\n",
    "        return False\n",
    "\n",
    "# Input a number\n",
    "number = int(input(\"Enter a number: \"))\n",
    "\n",
    "# Check if the number is Armstrong or not\n",
    "if is_armstrong(number):\n",
    "    print(number, \"is an Armstrong number\")\n",
    "else:\n",
    "    print(number, \"is not an Armstrong number\")"
   ]
  },
  {
   "cell_type": "code",
   "execution_count": null,
   "id": "83236144-9d11-4ea5-888e-81840de00a19",
   "metadata": {},
   "outputs": [],
   "source": []
  }
 ],
 "metadata": {
  "kernelspec": {
   "display_name": "Python 3 (ipykernel)",
   "language": "python",
   "name": "python3"
  },
  "language_info": {
   "codemirror_mode": {
    "name": "ipython",
    "version": 3
   },
   "file_extension": ".py",
   "mimetype": "text/x-python",
   "name": "python",
   "nbconvert_exporter": "python",
   "pygments_lexer": "ipython3",
   "version": "3.10.8"
  }
 },
 "nbformat": 4,
 "nbformat_minor": 5
}
