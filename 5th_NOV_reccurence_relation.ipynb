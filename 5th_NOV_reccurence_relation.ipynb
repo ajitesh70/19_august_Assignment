{
 "cells": [
  {
   "cell_type": "code",
   "execution_count": null,
   "id": "5d10555e-d1da-4c55-bb16-af3a49394692",
   "metadata": {},
   "outputs": [],
   "source": [
    "1. Find the value of T(2) for the recurrence relation T(n) = 3T(n-1) + 12n, given that T(0)=5."
   ]
  },
  {
   "cell_type": "code",
   "execution_count": null,
   "id": "d643ef36-5449-40ee-9f61-9a78dce52641",
   "metadata": {},
   "outputs": [],
   "source": [
    "given reccurence realrtion : T(n)=3T(n-1)+12n\n",
    "calculating for T(1)\n",
    "T(1):\n",
    "\n",
    "T(1) = 3T(0) + 12(1)\n",
    "T(1) = 3(5) + 12\n",
    "T(1) = 27\n",
    "\n",
    "calculating for T(2)\n",
    "T(2):\n",
    "\n",
    "T(2) = 3T(1) + 12(2)\n",
    "T(2) = 3(27) + 24\n",
    "T(2) = 81 + 24\n",
    "T(2) = 105\n",
    "Therefore, the value of T(2) for the given recurrence relation is 105.\n"
   ]
  },
  {
   "cell_type": "code",
   "execution_count": null,
   "id": "36db44b1-a566-4ef6-be55-ede70792522b",
   "metadata": {},
   "outputs": [],
   "source": [
    "2. Given a recurrence relation, solve it using the substitution method:\n",
    "a. T(n) = T(n-1) + c\n",
    "b. T(n) = 2T(n/2) + n\n",
    "c. T(n) = 2T(n/2) + c\n",
    "d. T(n) = T(n/2) + c"
   ]
  },
  {
   "cell_type": "code",
   "execution_count": null,
   "id": "0a536de9-64c3-45ee-bf1c-c213e453084a",
   "metadata": {},
   "outputs": [],
   "source": [
    "a. T(n) = T(n-1) + c"
   ]
  },
  {
   "cell_type": "code",
   "execution_count": null,
   "id": "97df6597-2b0d-4402-abfa-3fd4fcff2bfc",
   "metadata": {},
   "outputs": [],
   "source": [
    "T(n)=T(n-1)+c\n",
    "    =[T(n−2)+c]+c\n",
    "    =T(n−2)+2c\n",
    "    =T(n−3)+3c\n",
    "After doing it k times\n",
    "    ==T(n−k)+kc\n",
    "    this pattern coninues untill n-k=0 setting n-k=0 gives k==n\n",
    "So,  T(n)=T(0)+nc\n",
    "This indicates that the time complexity \n",
    "T(n) in terms of \n",
    "n is linear, \n",
    "O(n).\n",
    "    \n",
    "\n",
    "    \n"
   ]
  },
  {
   "cell_type": "code",
   "execution_count": null,
   "id": "b6c9fa31-693e-40df-b25a-6690e439dd35",
   "metadata": {},
   "outputs": [],
   "source": [
    "b. T(n) = 2T(n/2) + n"
   ]
  },
  {
   "cell_type": "code",
   "execution_count": null,
   "id": "c32fc5ad-f420-4883-8b49-f4e16ad1c813",
   "metadata": {},
   "outputs": [],
   "source": [
    "T(n)=2T(n/2)+n\n",
    "Substituting  T(n/2) with our assumed form c⋅(n/2)⋅log(n/2),\n",
    "we get\n",
    "T(n)=2.c.n/2.log(n/2)+n\n",
    "T(n)=c.n.(log n- log2) +n\n",
    "    = c.n.(log n-1)+n\n",
    "    = c.n.log n-c.n+n\n",
    "Now we will choose c such that T(n)≤c⋅n⋅logn:\n",
    "    T(n)≤c⋅n⋅logn−c⋅n+n≤c⋅n⋅logn\n",
    "    for large enough n, we can ignore the constant term (−c⋅n+n) so\n",
    "    c⋅n⋅logn≥c⋅n⋅logn\n",
    "    This holds true for any c≥1. Hence, we've shown that \n",
    "T(n)=O(n⋅logn) by induction, and the assumption was correct.\n",
    "    \n",
    "    \n",
    "    \n",
    "\n",
    "    \n",
    "\n",
    "\n"
   ]
  },
  {
   "cell_type": "code",
   "execution_count": null,
   "id": "454c6bcc-6b4b-4cc5-a207-a1b41d78c55b",
   "metadata": {},
   "outputs": [],
   "source": [
    "c. T(n) = 2T(n/2) + c"
   ]
  },
  {
   "cell_type": "code",
   "execution_count": null,
   "id": "58835af5-f6d9-454f-99c1-06c2daa084f6",
   "metadata": {},
   "outputs": [],
   "source": [
    " To solve the recurrence relation (T(n) = 2T(n/2) + c) we'll perform a few steps:\n",
    "\n",
    "Let's assume that (T(m) = k) where (m = n/2).\n",
    "So, the recurrence becomes:\n",
    "\n",
    "[ T(n) = 2T(n/2) + c ]\n",
    "[ T(n) = 2T(m) + c ]\n",
    "[ T(n) = 2k + c ]\n",
    "\n",
    "Now, we need to express (k) in terms of (T(n/2)) using the assumption (T(m) = k):\n",
    "\n",
    "[ T(m) = k ]\n",
    "[ T(n/2) = k ]\n",
    "\n",
    "Substituting this back into the equation \\(T(n) = 2k + c\\):\n",
    "\n",
    "[ T(n) = 2T(n/2) + c ]\n",
    "[ T(n) = 2k + c ]\n",
    "\n",
    "This is a constant recurrence relation, meaning the value of (T(n)) is constant with respect to (n). The solution to this recurrence relation is (T(n) = Theta(1)), meaning it's constant and not dependent on (n)."
   ]
  },
  {
   "cell_type": "code",
   "execution_count": null,
   "id": "bff7a14b-e3d4-4408-81bb-856a75c3b979",
   "metadata": {},
   "outputs": [],
   "source": [
    "d. T(n) = T(n/2) + c"
   ]
  },
  {
   "cell_type": "code",
   "execution_count": null,
   "id": "01cd04c8-c93e-4a0a-b20a-5f7ccd9a2d01",
   "metadata": {},
   "outputs": [],
   "source": [
    " T(n) = T(frac{n}{2}) + c \n",
    "\n",
    "The recurrence relation ( T(n) = T(\\frac{n}{2}) + c ) indicates that the function ( T(n) ) is being divided by 2 at each step until it reaches a base case.\n",
    "\n",
    "Let's substitute ( n = 2^k ) to simplify the recurrence relation:\n",
    "\n",
    " T(2^k) = T(2^{k-1}) + c \n",
    "\n",
    "Now, let's perform another substitution to simplify further. Let \\( S(k) = T(2^k) \\). So, the relation becomes:\n",
    "\n",
    " S(k) = S(k-1) + c \n",
    "\n",
    "This is a straightforward linear recurrence relation.\n",
    "\n",
    "Now, let's solve this relation for ( S(k) ):\n",
    "\n",
    " S(k) = S(k-1) + c \n",
    " S(k-1) = S(k-2) + c \n",
    " S(k-2) = S(k-3) + c\n",
    "\n",
    "Continuing this pattern, we get:\n",
    "\n",
    "= S(k) = S(k-1) + c \n",
    "= (S(k-2) + c) + c \n",
    "= S(k-2) + 2c \n",
    "= S(k-3) + 3c \n",
    " .....\n",
    " = S(0) + kc \n",
    "\n",
    "Now, remember that ( S(k) = T(2^k) ). Since ( n = 2^k ), when ( k = 0 ), ( n = 2^0 = 1 ). Hence, ( S(0) = T(1) ) represents the base case.\n",
    "\n",
    "Therefore, ( S(k) = T(2^k) = T(n) = S(0) + kc = T(1) + kc ).\n",
    "\n",
    "So, the solution to the recurrence relation ( T(n) = T(frac{n}{2}) + c ) using the substitution method is ( T(n) = T(1) + kc ).\n",
    "\n",
    "This means that the time complexity of the algorithm represented by this recurrence relation is linear, denoted as ( O(n) )."
   ]
  },
  {
   "cell_type": "code",
   "execution_count": null,
   "id": "551ae2e7-0fb4-4490-abb8-f599754044b2",
   "metadata": {},
   "outputs": [],
   "source": [
    "5.Given a reccurrence relation, solve it using the recursive tree approach:"
   ]
  },
  {
   "cell_type": "code",
   "execution_count": null,
   "id": "81366c8e-61d8-4433-a1cb-702409714e89",
   "metadata": {},
   "outputs": [],
   "source": [
    "a. T(n) = 2T(n-1) +1"
   ]
  },
  {
   "cell_type": "code",
   "execution_count": null,
   "id": "3091cc9a-8870-4331-9be6-615059b18a90",
   "metadata": {},
   "outputs": [],
   "source": [
    "Sure, to solve the recurrence relation \\(T(n) = 2T(n-1) + 1\\) using the recursive tree approach, let's visualize it.\n",
    "\n",
    "The recurrence relation can be expanded as follows:\n",
    "\n",
    "T(n) = 2T(n-1) + 1\n",
    "= 2[2T(n-2) + 1] + 1 = 2^2 T(n-2) + 2 + 1\n",
    "= 2^3 T(n-3) + 2^2 + 2^1 + 1\n",
    "...\n",
    "= 2^k T(n-k) + 2^k - 1 + ...\n",
    "\n",
    "This pattern shows that at each step, the function \\(T\\) is multiplied by a factor of 2 and increased by a constant of 1. Now, let's create a recursive tree to see the pattern:\n",
    "\n",
    "```\n",
    "                      T(n)\n",
    "                    /      \\\n",
    "               T(n-1)     T(n-1)\n",
    "               /   \\       /   \\\n",
    "          T(n-2) T(n-2) T(n-2) T(n-2)\n",
    "            . . .    . . .    . . .\n",
    "```\n",
    "\n",
    "The tree shows that at each level, the function branches into two recursive calls, each with \\(n-1\\). This continues until \\(n\\) reaches a base case.\n",
    "\n",
    "To find a pattern, let's simplify it further:\n",
    "\n",
    "T(n) = 2T(n-1) + 1\n",
    "= 2[2T(n-2) + 1] + 1 = 2^2 T(n-2) + 2 + 1\n",
    "= 2^3 T(n-3) + 2^2 + 2^1 + 1\n",
    "= 2^k T(n-k) + 2^k - 1 + ...\n",
    "\n",
    "Setting (n-k = 1) to find the base case:\n",
    "\n",
    "n - k = 1\n",
    "k = n - 1\n",
    "\n",
    "Therefore, when (n = 1), the base case is reached:\n",
    "\n",
    "T(1) = 2T(1-1) + 1 = 2T(0) + 1\n",
    "\n",
    "And assuming (T(0) = 1) (a common base case for recurrence relations):\n",
    "\n",
    "T(1) = 2 cdot 1 + 1 = 3\n",
    "\n",
    "So, the solution to the recurrence relation (T(n) = 2T(n-1) + 1) is (T(n) = 2^n - 1)."
   ]
  },
  {
   "cell_type": "code",
   "execution_count": null,
   "id": "2507996c-f428-4026-a03d-d6059646179d",
   "metadata": {},
   "outputs": [],
   "source": [
    "b. T(n) = 2T(n/2) + n"
   ]
  },
  {
   "cell_type": "code",
   "execution_count": null,
   "id": "71c89179-ea64-499b-bb80-3c07c4892a33",
   "metadata": {},
   "outputs": [],
   "source": [
    "\n",
    "\n",
    "T(n)=2T( n/2+n\n",
    "...\n",
    "                           T(n)\n",
    "                         /      \\\n",
    "                    T(n/2)      T(n/2)\n",
    "                   /    \\        /     \\\n",
    "             T(n/4)  T(n/4)  T(n/4)  T(n/4)\n",
    "              .        .         .       .\n",
    "              .        .         .       .\n",
    "              .        .         .       .\n",
    "           T(1)   T(1)   T(1)   T(1)  ...  T(1)\n",
    "```\n",
    "\n",
    "At each level, there are ( n ) operations being performed. The number of levels in the tree will be ( log_2{n} ) (base 2 logarithm of ( n )) because we're dividing \\( n \\) by 2 at each level until it reaches 1.\n",
    "\n",
    "So, the total work done at each level is:\n",
    "\n",
    "Level 1: ( n ) operations\n",
    "Level 2: ( frac{n}{2} ) operations (two subproblems, each with ( frac{n}{2} ) operations)\n",
    "Level 3: ( frac{n}{4} ) operations (four subproblems, each with ( frac{n}{4} ) operations)\n",
    "...\n",
    "Level ( log_2{n} ): ( 1 ) operation (when ( n = 1 ))\n",
    "\n",
    "Now, to find the total work done, we sum the work at each level:\n",
    "\n",
    "Total work = ( n + frac{n}{2} + frac{n}{4} + ..... + 1 )\n",
    "\n",
    "This is a geometric series whose sum is ( 2n - 1 ).\n",
    "\n",
    "Therefore, the solution to the recurrence relation ( T(n) = 2T(n/2) + n ) using the recursive tree approach is ( boxed{T(n) = 2n - 1} )."
   ]
  }
 ],
 "metadata": {
  "kernelspec": {
   "display_name": "Python 3 (ipykernel)",
   "language": "python",
   "name": "python3"
  },
  "language_info": {
   "codemirror_mode": {
    "name": "ipython",
    "version": 3
   },
   "file_extension": ".py",
   "mimetype": "text/x-python",
   "name": "python",
   "nbconvert_exporter": "python",
   "pygments_lexer": "ipython3",
   "version": "3.10.8"
  }
 },
 "nbformat": 4,
 "nbformat_minor": 5
}
