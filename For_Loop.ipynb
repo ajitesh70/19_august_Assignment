{
 "cells": [
  {
   "cell_type": "markdown",
   "id": "90d743a6-363c-4d1f-bba1-e561e24fc8e2",
   "metadata": {},
   "source": [
    "For Loop Assignment Questions"
   ]
  },
  {
   "cell_type": "raw",
   "id": "97ed81fe-a38f-426c-b32a-ad2f32bbdf37",
   "metadata": {},
   "source": [
    "Basic level"
   ]
  },
  {
   "cell_type": "code",
   "execution_count": 1,
   "id": "c49749a0-50fa-4a79-922d-4fd74fb53b7a",
   "metadata": {},
   "outputs": [],
   "source": [
    "#1. Write a Python program to print the numbers from 1 to 10 using a `for` loop."
   ]
  },
  {
   "cell_type": "code",
   "execution_count": 7,
   "id": "9d8037a6-97ab-4812-8c5e-07ee084d2bd4",
   "metadata": {},
   "outputs": [
    {
     "name": "stdout",
     "output_type": "stream",
     "text": [
      "1\n",
      "2\n",
      "3\n",
      "4\n",
      "5\n",
      "6\n",
      "7\n",
      "8\n",
      "9\n",
      "10\n"
     ]
    }
   ],
   "source": [
    "#for loop to print numbers\n",
    "for i in range(1,11):\n",
    "    print(i)"
   ]
  },
  {
   "cell_type": "code",
   "execution_count": 8,
   "id": "f9150705-41a5-4e16-8296-372708143c4a",
   "metadata": {},
   "outputs": [],
   "source": [
    "#2. Create a program that calculates the sum of all numbers in a list using a `for` loop."
   ]
  },
  {
   "cell_type": "code",
   "execution_count": 13,
   "id": "13ae36b7-e7d4-41a1-99d7-a1bedbfb2519",
   "metadata": {},
   "outputs": [
    {
     "name": "stdout",
     "output_type": "stream",
     "text": [
      "20\n"
     ]
    }
   ],
   "source": [
    "lst=[2,3,4,5,6]\n",
    "total=0\n",
    "#for loop to add the value of the element as it traverse through the list to total  \n",
    "for i in range(len(lst)):\n",
    "    total=total+lst[i]\n",
    "print(total)\n",
    "    "
   ]
  },
  {
   "cell_type": "code",
   "execution_count": 18,
   "id": "b109fb94-3ac4-4493-8c5b-6a4f47ab9420",
   "metadata": {},
   "outputs": [],
   "source": [
    "#3. Write a program to print the characters of a string in reverse order using a `for` loop."
   ]
  },
  {
   "cell_type": "code",
   "execution_count": 12,
   "id": "454ff255-2b64-47cc-85a0-cf3b979a7595",
   "metadata": {},
   "outputs": [
    {
     "name": "stdin",
     "output_type": "stream",
     "text": [
      " ajitesh\n"
     ]
    },
    {
     "name": "stdout",
     "output_type": "stream",
     "text": [
      "h s e t i j a "
     ]
    }
   ],
   "source": [
    "str1=input()\n",
    "#using for loop till range of str1 to reverse the string\n",
    "for i in range(len(str1)-1,-1,-1):\n",
    "    #using end to for spacing\n",
    "    print(str1[i],end=' ')"
   ]
  },
  {
   "cell_type": "code",
   "execution_count": 44,
   "id": "ea43c39a-44f9-4a2a-8153-5c786e77edb3",
   "metadata": {},
   "outputs": [],
   "source": [
    "#4. Develop a program that finds the factorial of a given number using a `for` loop."
   ]
  },
  {
   "cell_type": "code",
   "execution_count": 19,
   "id": "74fee12f-8a85-47b8-bee6-2b2614be977c",
   "metadata": {},
   "outputs": [
    {
     "name": "stdin",
     "output_type": "stream",
     "text": [
      " 5\n"
     ]
    },
    {
     "data": {
      "text/plain": [
       "120"
      ]
     },
     "execution_count": 19,
     "metadata": {},
     "output_type": "execute_result"
    }
   ],
   "source": [
    "def find_fact(n):\n",
    "    a=1\n",
    "    #using for loop to store the multiplied value till n in a\n",
    "    for i in range(1,n+1):\n",
    "        a=i*a\n",
    "    return(a)\n",
    "#taking input from user\n",
    "num=int(input())\n",
    "find_fact(num)\n",
    "\n"
   ]
  },
  {
   "cell_type": "code",
   "execution_count": 20,
   "id": "d3519756-bf05-453b-aa01-ad5c0991d96b",
   "metadata": {},
   "outputs": [],
   "source": [
    "#5. Create a program to print the multiplication table of a given number using a `for` loop."
   ]
  },
  {
   "cell_type": "code",
   "execution_count": 40,
   "id": "9c41ee3f-5ced-4e62-a01e-111cfc717100",
   "metadata": {},
   "outputs": [
    {
     "name": "stdin",
     "output_type": "stream",
     "text": [
      " 6\n"
     ]
    },
    {
     "name": "stdout",
     "output_type": "stream",
     "text": [
      "6 X 1 = 6\n",
      "6 X 2 = 12\n",
      "6 X 3 = 18\n",
      "6 X 4 = 24\n",
      "6 X 5 = 30\n",
      "6 X 6 = 36\n",
      "6 X 7 = 42\n",
      "6 X 8 = 48\n",
      "6 X 9 = 54\n",
      "6 X 10 = 60\n"
     ]
    }
   ],
   "source": [
    "n=int(input())\n",
    "#creating a loop to print the table of given number\n",
    "for i in range(1,11):\n",
    "    table=i*n\n",
    "    #printing the table\n",
    "    print(n,'X',i,'=',table)"
   ]
  },
  {
   "cell_type": "code",
   "execution_count": 41,
   "id": "efac4563-c861-4213-b7a5-c16719bda48a",
   "metadata": {},
   "outputs": [],
   "source": [
    "#6. Write a program that counts the number of even and odd numbers in a list using a `for` loop."
   ]
  },
  {
   "cell_type": "code",
   "execution_count": 1,
   "id": "c0c553aa-a683-4ca5-a3c1-6a7337ab9aa8",
   "metadata": {},
   "outputs": [
    {
     "name": "stdout",
     "output_type": "stream",
     "text": [
      "even are 4\n",
      "odd are 5\n"
     ]
    }
   ],
   "source": [
    "num=[1,2,3,4,5,6,7,8,9,]\n",
    "even=[]\n",
    "odd=[]\n",
    "#for loop to traverse through the list\n",
    "for i in num:\n",
    "    #if its even then append in even\n",
    "    if (i%2==0):\n",
    "        even.append(i)\n",
    "       \n",
    "    #if its odd append in odd\n",
    "    else: \n",
    "        odd.append(i)\n",
    "print(\"even are\",len(even))\n",
    "print(\"odd are\",len(odd))"
   ]
  },
  {
   "cell_type": "code",
   "execution_count": 15,
   "id": "ca40c12a-0a4f-4a4c-8a44-8e160c810108",
   "metadata": {},
   "outputs": [],
   "source": [
    "#7. Develop a program that prints the squares of numbers from 1 to 5 using a `for` loop."
   ]
  },
  {
   "cell_type": "code",
   "execution_count": 18,
   "id": "09b98d8a-42b7-44f1-830d-5188d2835a03",
   "metadata": {},
   "outputs": [
    {
     "name": "stdout",
     "output_type": "stream",
     "text": [
      "1\n",
      "4\n",
      "9\n",
      "16\n",
      "25\n"
     ]
    }
   ],
   "source": [
    "#for loop to print squares till 5\n",
    "for i in range(1,6):\n",
    "    #squarring the number\n",
    "    n=i**2\n",
    "    print(n)"
   ]
  },
  {
   "cell_type": "code",
   "execution_count": 19,
   "id": "e642f326-484f-45bd-8c95-5fa45c03d6f9",
   "metadata": {},
   "outputs": [],
   "source": [
    "#8. Create a program to find the length of a string without using the `len()` function."
   ]
  },
  {
   "cell_type": "code",
   "execution_count": 22,
   "id": "b5977c08-03bc-465e-a169-19068c50ed07",
   "metadata": {},
   "outputs": [
    {
     "name": "stdin",
     "output_type": "stream",
     "text": [
      " 123456789\n"
     ]
    },
    {
     "name": "stdout",
     "output_type": "stream",
     "text": [
      "9\n"
     ]
    }
   ],
   "source": [
    "str1=input()\n",
    "count=0\n",
    "for i in str1:\n",
    "    count+=1\n",
    "print(count)"
   ]
  },
  {
   "cell_type": "code",
   "execution_count": 23,
   "id": "65ba6667-5293-4766-afda-929290a57f0d",
   "metadata": {},
   "outputs": [],
   "source": [
    "#9. Write a program that calculates the average of a list of numbers using a `for` loop."
   ]
  },
  {
   "cell_type": "code",
   "execution_count": 6,
   "id": "f6107f15-c22c-47e9-ac89-83703554ea9d",
   "metadata": {},
   "outputs": [
    {
     "name": "stdout",
     "output_type": "stream",
     "text": [
      "4.0\n"
     ]
    }
   ],
   "source": [
    "li=[1,2,3,4,5,6,7]\n",
    "count=0\n",
    "total=sum(li)\n",
    "#creating a for loop to traverse through list\n",
    "for i in li: \n",
    "    count+=1\n",
    "#dividing total of list by number of elements\n",
    "\n",
    "average=total/count\n",
    "print(average)"
   ]
  },
  {
   "cell_type": "code",
   "execution_count": 26,
   "id": "948d78aa-578e-4dd6-9ca7-7b25c75cb210",
   "metadata": {},
   "outputs": [],
   "source": [
    "#10. Develop a program that prints the first `n` Fibonacci numbers using a `for` loop."
   ]
  },
  {
   "cell_type": "code",
   "execution_count": 2,
   "id": "ef5a92d4-017f-43e7-a84c-281d4cd4993c",
   "metadata": {},
   "outputs": [
    {
     "name": "stdin",
     "output_type": "stream",
     "text": [
      " 8\n"
     ]
    },
    {
     "name": "stdout",
     "output_type": "stream",
     "text": [
      "0\n",
      "1\n",
      "1 2 3 5 8 13 21 34 "
     ]
    }
   ],
   "source": [
    "#taking input from the user\n",
    "num=int(input())\n",
    "n=0\n",
    "m=1\n",
    "print(n)\n",
    "print(m)\n",
    "#for loop to print first num fibonacci numbers\n",
    "for i in range(0,num):\n",
    "    print(n+m,end=' ')\n",
    "    temp=n\n",
    "    n=m\n",
    "    m=temp+m\n",
    "  \n",
    "    \n",
    "    \n",
    "    "
   ]
  },
  {
   "cell_type": "code",
   "execution_count": null,
   "id": "70aa7788-c0d1-4089-9582-fd51fbe329f3",
   "metadata": {},
   "outputs": [],
   "source": []
  },
  {
   "cell_type": "raw",
   "id": "e0a4b403-04d3-44fb-a05c-5b4e4fa460ec",
   "metadata": {},
   "source": [
    "Intermediate Level"
   ]
  },
  {
   "cell_type": "code",
   "execution_count": 2,
   "id": "08f9d7d3-0b06-4a2e-8a82-dc79d54b664e",
   "metadata": {},
   "outputs": [],
   "source": [
    "#11. Write a program to check if a given list contains any duplicates using a `for` loop."
   ]
  },
  {
   "cell_type": "code",
   "execution_count": 1,
   "id": "a192286e-167a-4fec-bf29-f7ff9ea34051",
   "metadata": {},
   "outputs": [
    {
     "name": "stdout",
     "output_type": "stream",
     "text": [
      "The list contains duplicates.\n"
     ]
    }
   ],
   "source": [
    "#creating a function to check duplicacy\n",
    "def has_duplicates(arr):\n",
    "    n = len(arr)\n",
    "    #using nested loop to compare each element with each other\n",
    "    for i in range(n):\n",
    "        for j in range(i + 1, n):\n",
    "            if arr[i] == arr[j]:\n",
    "                return True\n",
    "    return False\n",
    "\n",
    "# Example usage\n",
    "my_list = [1, 2, 3, 4, 2, 5]\n",
    "\n",
    "if has_duplicates(my_list):\n",
    "    print(\"The list contains duplicates.\")\n",
    "else:\n",
    "    print(\"The list does not contain duplicates.\")"
   ]
  },
  {
   "cell_type": "code",
   "execution_count": null,
   "id": "3719d887-efc9-406a-a48a-63711a793ab0",
   "metadata": {},
   "outputs": [],
   "source": []
  },
  {
   "cell_type": "code",
   "execution_count": 2,
   "id": "3cd61bad-6b3d-4aab-a8de-794d57b14cb7",
   "metadata": {},
   "outputs": [],
   "source": [
    "#12. Create a program that prints the prime numbers in a given range using a `for` loop."
   ]
  },
  {
   "cell_type": "code",
   "execution_count": 1,
   "id": "a037e919-97a6-4871-b2a4-5f412b01bd29",
   "metadata": {},
   "outputs": [
    {
     "name": "stdin",
     "output_type": "stream",
     "text": [
      " 22\n"
     ]
    },
    {
     "name": "stdout",
     "output_type": "stream",
     "text": [
      "Prime numbers up to the given input are: [2, 3, 5, 7, 11, 13, 17, 19]\n"
     ]
    }
   ],
   "source": [
    "#creating a function named is_prime\n",
    "def is_prime(num):\n",
    "    if num <= 1:\n",
    "        return False\n",
    "    if num <= 3:\n",
    "        return True\n",
    "    if num % 2 == 0 or num % 3 == 0:\n",
    "        return False\n",
    "\n",
    "    i = 5\n",
    "    while i * i <= num:\n",
    "        if num % i == 0 or num % (i + 2) == 0:\n",
    "            return False\n",
    "        i += 6\n",
    "\n",
    "    return True\n",
    "\n",
    "# Create a list of prime numbers up to the given range\n",
    "n=int(input())\n",
    "prime_numbers = [num for num in range(2, n) if is_prime(num)]\n",
    "\n",
    "print(\"Prime numbers up to the given input are:\", prime_numbers)"
   ]
  },
  {
   "cell_type": "code",
   "execution_count": 3,
   "id": "77963235-96fc-46b5-8c67-d7f4d89382cb",
   "metadata": {},
   "outputs": [],
   "source": [
    "#13. Develop a program that counts the number of vowels in a string using a `for` loop."
   ]
  },
  {
   "cell_type": "code",
   "execution_count": 8,
   "id": "65d89e72-5a59-435f-9360-72a9be53cdd8",
   "metadata": {},
   "outputs": [
    {
     "name": "stdout",
     "output_type": "stream",
     "text": [
      "5\n"
     ]
    }
   ],
   "source": [
    "str1=\"number of vowels\"\n",
    "count=0\n",
    "vowels='aeiou'\n",
    "#for loop to traverse through the string\n",
    "for i in str1:\n",
    "    #increase count value by 1 if its a vowel\n",
    "    if i in vowels:\n",
    "    \n",
    "        count+=1\n",
    "print(count)"
   ]
  },
  {
   "cell_type": "code",
   "execution_count": 9,
   "id": "108f8950-1cdc-45a0-878a-25d90ecd904e",
   "metadata": {},
   "outputs": [],
   "source": [
    "#14. Write a program to find the maximum element in a 2D list using a nested `for` loop."
   ]
  },
  {
   "cell_type": "code",
   "execution_count": 15,
   "id": "a6f9054f-2ce8-44af-833c-af625a4a7df9",
   "metadata": {},
   "outputs": [
    {
     "name": "stdout",
     "output_type": "stream",
     "text": [
      "maximum element iin the 2D list is: 7\n"
     ]
    }
   ],
   "source": [
    "#creating a 2D list\n",
    "l=[[1,2,3],[2,7,4],[3,4,5]]\n",
    "#defining the 1st element as maximum\n",
    "max=l[0][0]\n",
    "#using nested loop to compare and traverse through elements\n",
    "for i in range(len(l)):\n",
    "    for j in range(len(l)):\n",
    "        if l[i][j]>max:\n",
    "#assigning the value of maximum element in max\n",
    "            max=l[i][j]\n",
    "print(\"maximum element in the 2D list is:\", max)"
   ]
  },
  {
   "cell_type": "code",
   "execution_count": null,
   "id": "12d3f2fc-b86b-44ce-a771-b8d364f02d6e",
   "metadata": {},
   "outputs": [],
   "source": [
    "#15. Create a program that removes all occurrences of a specific element from a list using a `for` loop."
   ]
  },
  {
   "cell_type": "code",
   "execution_count": 18,
   "id": "a8431b80-9ba3-44f4-a09e-f708c302cfc3",
   "metadata": {},
   "outputs": [
    {
     "name": "stdout",
     "output_type": "stream",
     "text": [
      "list after removing the element:  [2, 2, 11, 4, 5, 6]\n"
     ]
    }
   ],
   "source": [
    "#creating a string\n",
    "l=[1,2,1,2,11,4,5,1,6,1]\n",
    "#element to remove\n",
    "for i in l:\n",
    "    if i==1:\n",
    "        #using remove function to remove element\n",
    "        l.remove(i)\n",
    "print(\"list after removing the element: \", l)\n",
    "        \n",
    "    \n"
   ]
  },
  {
   "cell_type": "code",
   "execution_count": 1,
   "id": "e9fc29e6-8cb6-4fd7-a03f-1772d09252a2",
   "metadata": {},
   "outputs": [],
   "source": [
    "#16. Develop a program that generates a multiplication table for numbers from 1 to 5 using a nested `for` loop."
   ]
  },
  {
   "cell_type": "code",
   "execution_count": 15,
   "id": "80cd037a-ee30-42c0-8b4d-e6449933086b",
   "metadata": {},
   "outputs": [
    {
     "name": "stdout",
     "output_type": "stream",
     "text": [
      "\n",
      "\n",
      "1 X 1 = 1\n",
      "1 X 2 = 2\n",
      "1 X 3 = 3\n",
      "1 X 4 = 4\n",
      "1 X 5 = 5\n",
      "1 X 6 = 6\n",
      "1 X 7 = 7\n",
      "1 X 8 = 8\n",
      "1 X 9 = 9\n",
      "1 X 10 = 10\n",
      "\n",
      "\n",
      "2 X 1 = 2\n",
      "2 X 2 = 4\n",
      "2 X 3 = 6\n",
      "2 X 4 = 8\n",
      "2 X 5 = 10\n",
      "2 X 6 = 12\n",
      "2 X 7 = 14\n",
      "2 X 8 = 16\n",
      "2 X 9 = 18\n",
      "2 X 10 = 20\n",
      "\n",
      "\n",
      "3 X 1 = 3\n",
      "3 X 2 = 6\n",
      "3 X 3 = 9\n",
      "3 X 4 = 12\n",
      "3 X 5 = 15\n",
      "3 X 6 = 18\n",
      "3 X 7 = 21\n",
      "3 X 8 = 24\n",
      "3 X 9 = 27\n",
      "3 X 10 = 30\n",
      "\n",
      "\n",
      "4 X 1 = 4\n",
      "4 X 2 = 8\n",
      "4 X 3 = 12\n",
      "4 X 4 = 16\n",
      "4 X 5 = 20\n",
      "4 X 6 = 24\n",
      "4 X 7 = 28\n",
      "4 X 8 = 32\n",
      "4 X 9 = 36\n",
      "4 X 10 = 40\n",
      "\n",
      "\n",
      "5 X 1 = 5\n",
      "5 X 2 = 10\n",
      "5 X 3 = 15\n",
      "5 X 4 = 20\n",
      "5 X 5 = 25\n",
      "5 X 6 = 30\n",
      "5 X 7 = 35\n",
      "5 X 8 = 40\n",
      "5 X 9 = 45\n",
      "5 X 10 = 50\n"
     ]
    }
   ],
   "source": [
    "#nested loop to print each table in given range from 1 to 5\n",
    "for i in range(1,6):\n",
    "    print(\"\\n\")\n",
    "    #printing till times 10\n",
    "    for j in range(1,11):\n",
    "        \n",
    "        print(i, \"X\" , j, \"=\",i*j)\n",
    "        \n",
    "        "
   ]
  },
  {
   "cell_type": "code",
   "execution_count": 16,
   "id": "f2208eb4-be01-4f9f-8f89-b7e01fcf1511",
   "metadata": {},
   "outputs": [],
   "source": [
    "#17. Write a program that converts a list of Fahrenheit temperatures to Celsius using a `for` loop."
   ]
  },
  {
   "cell_type": "code",
   "execution_count": 19,
   "id": "ea53512b-f3b6-464f-9c7d-2172a2006093",
   "metadata": {},
   "outputs": [
    {
     "name": "stdout",
     "output_type": "stream",
     "text": [
      "temperature in celsius is:  [37.0, 37.77777777777778, 13.333333333333334, 24.444444444444443, 18.333333333333332]\n"
     ]
    }
   ],
   "source": [
    "l=[98.6,100,56,76,65]\n",
    "l1=[]\n",
    "#converting each given temperature into celsius\n",
    "for i in l:\n",
    "    cel=((i-32)*5)/9\n",
    "    #appending the temp in l1\n",
    "    l1.append(cel)\n",
    "print(\"temperature in celsius is: \", l1)\n",
    "    "
   ]
  },
  {
   "cell_type": "code",
   "execution_count": 20,
   "id": "81719f37-5fe0-4a44-ad18-6d8ed3fd59e0",
   "metadata": {},
   "outputs": [],
   "source": [
    "#18. Create a program to print the common elements from two lists using a `for` loop."
   ]
  },
  {
   "cell_type": "code",
   "execution_count": 22,
   "id": "089be4af-a889-4ac3-964d-56c030c9d869",
   "metadata": {},
   "outputs": [
    {
     "name": "stdout",
     "output_type": "stream",
     "text": [
      "[2, 3, 9]\n"
     ]
    }
   ],
   "source": [
    "l1=[1,2,3,5,6,9]\n",
    "l2=[8,0,9,2,4,3]\n",
    "l3=[]\n",
    "#nested for loop to compare each element with the first element and then second and so on\n",
    "for i in l1:\n",
    "    for j in l2:\n",
    "        if i==j:\n",
    "            #appending the number in l3\n",
    "            l3.append(i)\n",
    "print(l3)\n",
    "            "
   ]
  },
  {
   "cell_type": "markdown",
   "id": "070d0871-3541-4abe-ad4a-5b0bb0c75fe8",
   "metadata": {},
   "source": [
    "#19. Develop a program that prints the pattern of right-angled triangles using a `for` loop. Use ‘*’ to draw the\n",
    "pattern"
   ]
  },
  {
   "cell_type": "code",
   "execution_count": 55,
   "id": "8b94f997-54e6-46a9-9a8a-97cdd315562a",
   "metadata": {},
   "outputs": [
    {
     "name": "stdout",
     "output_type": "stream",
     "text": [
      "* \n",
      "* * \n",
      "* * * \n",
      "* * * * \n",
      "* * * * * \n",
      "* * * * * * \n",
      "* * * * * * * \n"
     ]
    }
   ],
   "source": [
    "#number of rows\n",
    "rows=8\n",
    "#using nested loop to iterate through all rows\n",
    "for i in range(1,rows):\n",
    "#Run a loop ‘i’ number of times to iterate through all the rows which starting from 1 to i+1\n",
    "    for j in range(1,i+1):\n",
    "#printing '*' in all colummns of roww \n",
    "        print(\"*\",end=' ')\n",
    "#creating a new line\n",
    "    print()\n",
    "    \n",
    "    "
   ]
  },
  {
   "cell_type": "code",
   "execution_count": 53,
   "id": "b81a1c98-80d1-4204-a0ec-aaf172b7482a",
   "metadata": {},
   "outputs": [],
   "source": [
    "#20. Write a program to find the greatest common divisor (GCD) of two numbers using a `for` loop."
   ]
  },
  {
   "cell_type": "code",
   "execution_count": 56,
   "id": "94346284-e4be-4980-a9d6-54d7aa2216e4",
   "metadata": {},
   "outputs": [
    {
     "name": "stdout",
     "output_type": "stream",
     "text": [
      "GCD of 36 and 60 is 12\n"
     ]
    }
   ],
   "source": [
    "num1 = 36\n",
    "num2 = 60\n",
    "gcd = 1\n",
    "#checking all the numbers divizible by 36 and 60 and printing the greatest\n",
    "for i in range(1, min(num1, num2)):\n",
    "    if num1 % i == 0 and num2 % i == 0:\n",
    "        gcd = i\n",
    "print(\"GCD of\", num1, \"and\", num2, \"is\", gcd)"
   ]
  },
  {
   "cell_type": "raw",
   "id": "4f059df8-9d62-4eec-9939-df07cafaa143",
   "metadata": {},
   "source": [
    "Advanced Level:"
   ]
  },
  {
   "cell_type": "code",
   "execution_count": 4,
   "id": "96f6384a-4fd5-486a-89a6-a3a42cd6f700",
   "metadata": {},
   "outputs": [],
   "source": [
    "#21. Create a program that calculates the sum of the digits of numbers in a list using a list comprehension."
   ]
  },
  {
   "cell_type": "code",
   "execution_count": 18,
   "id": "7f13b917-94b8-40bb-aff6-a8dfbd0f6d5e",
   "metadata": {},
   "outputs": [
    {
     "name": "stdout",
     "output_type": "stream",
     "text": [
      "125\n"
     ]
    }
   ],
   "source": [
    "l=[2,32,35,12,27,17]\n",
    "total=0\n",
    "#using list comprehension to add value of each number in total\n",
    "a=[total:=total+i for i in l]\n",
    "print(total)"
   ]
  },
  {
   "cell_type": "code",
   "execution_count": 1,
   "id": "25d2380a-beee-4ce3-b0d1-ad7e75d94a33",
   "metadata": {},
   "outputs": [],
   "source": [
    "#22. Write a program to find the prime factors of a given number using a `for` loop and list comprehension."
   ]
  },
  {
   "cell_type": "code",
   "execution_count": 43,
   "id": "8713a8c6-369c-4e88-8752-06875a8d4443",
   "metadata": {},
   "outputs": [
    {
     "name": "stdout",
     "output_type": "stream",
     "text": [
      "2 5 2 2 2 2 2\n"
     ]
    }
   ],
   "source": [
    "#using list comprehension to find all the prime factors and chechking if its a prime number or not\n",
    "prime_factors = lambda n: [i for i in range(2, n+1) if n%i == 0 and all(i % j != 0 for j in range(2, int(i**0.5)+1))]\n",
    "n = 320\n",
    "#creating a function \n",
    "prime_factors(n)\n",
    "factors = []\n",
    "while n > 1:\n",
    "    for factor in prime_factors(n):\n",
    "        factors.append(factor)\n",
    "        n //= factor\n",
    "print(*factors)"
   ]
  },
  {
   "cell_type": "markdown",
   "id": "c7dc5aa2-1c70-49a0-89e3-cd8c6960b35f",
   "metadata": {},
   "source": [
    "#23. Develop a program that extracts unique elements from a list and stores them in a new list using a list\n",
    "comprehension."
   ]
  },
  {
   "cell_type": "code",
   "execution_count": 12,
   "id": "197a162e-b6e5-4e27-9d98-d9ce24f67925",
   "metadata": {},
   "outputs": [
    {
     "name": "stdout",
     "output_type": "stream",
     "text": [
      "Original List: [1, 2, 3, 4, 2, 3, 5, 6, 7, 8, 1, 9]\n",
      "Unique Elements: [4, 5, 6, 7, 8, 9]\n"
     ]
    }
   ],
   "source": [
    "# Function to extract unique elements from a list\n",
    "def extract_unique_elements(input_list):\n",
    "    # Using list comprehension to create a new list with unique elements\n",
    "    unique_elements = [element for element in input_list if input_list.count(element) == 1]\n",
    "    return unique_elements\n",
    "\n",
    "# Example usage\n",
    "input_list = [1, 2, 3, 4, 2, 3, 5, 6, 7, 8, 1, 9]\n",
    "result = extract_unique_elements(input_list)\n",
    "\n",
    "print(\"Original List:\", input_list)\n",
    "print(\"Unique Elements:\", result)"
   ]
  },
  {
   "cell_type": "markdown",
   "id": "11f44bc6-6b18-4e8e-a502-fbcbacd260ea",
   "metadata": {},
   "source": [
    "#24. Create a program that generates a list of all palindromic numbers up to a specified limit using a list\n",
    "comprehension."
   ]
  },
  {
   "cell_type": "code",
   "execution_count": 16,
   "id": "dc6ea743-55da-4117-89a1-16b6497ece65",
   "metadata": {},
   "outputs": [
    {
     "name": "stdout",
     "output_type": "stream",
     "text": [
      "Palindromic Numbers up to 200: [0, 1, 2, 3, 4, 5, 6, 7, 8, 9, 11, 22, 33, 44, 55, 66, 77, 88, 99, 101, 111, 121, 131, 141, 151, 161, 171, 181, 191]\n"
     ]
    }
   ],
   "source": [
    "# Function to check if a number is a palindrome\n",
    "def is_palindrome(number):\n",
    "    return str(number) == str(number)[::-1]\n",
    "\n",
    "# Function to generate a list of palindromic numbers up to a specified limit\n",
    "def generate_palindromic_numbers(limit):\n",
    "    palindromic_numbers = [num for num in range(limit + 1) if is_palindrome(num)]\n",
    "    return palindromic_numbers\n",
    "\n",
    "# Example usage\n",
    "limit = 200\n",
    "result = generate_palindromic_numbers(limit)\n",
    "\n",
    "print(\"Palindromic Numbers up to {}: {}\".format(limit, result))"
   ]
  },
  {
   "cell_type": "code",
   "execution_count": 17,
   "id": "cdfde530-17bf-4902-ae50-d280af3c8ada",
   "metadata": {},
   "outputs": [],
   "source": [
    "#25. Write a program to flatten a nested list using list comprehension."
   ]
  },
  {
   "cell_type": "code",
   "execution_count": 22,
   "id": "940a7e66-6db7-4a19-91a3-1b1ec4c20ed4",
   "metadata": {},
   "outputs": [
    {
     "name": "stdout",
     "output_type": "stream",
     "text": [
      "Nested List: [[1, 2, 3, 4], [5, 6, 7], 8, [9, 10]]\n",
      "Flattened List: [1, 2, 3, 4, 5, 6, 7, 8, 9, 10]\n"
     ]
    }
   ],
   "source": [
    "\n",
    "# Function to flatten a nested list using list comprehension\n",
    "def flatten_nested_list(nested_list):\n",
    "    flattened_list = [item for sublist in nested_list for item in (sublist if isinstance(sublist, list) else [sublist])]\n",
    "    return flattened_list\n",
    "\n",
    "# Example usage\n",
    "nested_list = [[1, 2, 3, 4], [5, 6, 7], 8, [9, 10]]\n",
    "flattened_list = flatten_nested_list(nested_list)\n",
    "\n",
    "print(\"Nested List:\", nested_list)\n",
    "print(\"Flattened List:\", flattened_list)\n"
   ]
  },
  {
   "cell_type": "markdown",
   "id": "202b0c31-eae9-4fa5-978b-b1105642a315",
   "metadata": {},
   "source": [
    "#26. Develop a program that computes the sum of even and odd numbers in a list separately using list\n",
    "comprehension."
   ]
  },
  {
   "cell_type": "code",
   "execution_count": 10,
   "id": "badbdd0d-056e-4cad-911d-a1d8433a2c88",
   "metadata": {},
   "outputs": [
    {
     "name": "stdout",
     "output_type": "stream",
     "text": [
      "sum of even numbers:  220\n",
      "sum of odd numbers:  176\n"
     ]
    }
   ],
   "source": [
    "l=[11,22,33,44,55,66,77,88]\n",
    "#using list comprehension sperately for even and odd numbers\n",
    "l1=[i for i in l if i%2==0]\n",
    "l2=[j for j in l if j%2!=0]\n",
    "#printing the sum\n",
    "print(\"sum of even numbers: \",sum(l1))\n",
    "print(\"sum of odd numbers: \",sum(l2))\n",
    "    "
   ]
  },
  {
   "cell_type": "markdown",
   "id": "2429ea03-4846-4264-87d0-372d8aa97047",
   "metadata": {},
   "source": [
    "#27. Create a program that generates a list of squares of odd numbers between 1 and 10 using list\n",
    "comprehension.\n"
   ]
  },
  {
   "cell_type": "code",
   "execution_count": 42,
   "id": "5d4f6043-d714-4c93-aa43-bd96b262e505",
   "metadata": {},
   "outputs": [
    {
     "name": "stdout",
     "output_type": "stream",
     "text": [
      "[1, 9, 25, 49, 81]\n"
     ]
    }
   ],
   "source": [
    "#using list comprehension to genrate list of squares of odd numbers\n",
    "l1=[i**2 for i in range(1,11) if i%2!=0 ]\n",
    "print(l1)"
   ]
  },
  {
   "cell_type": "code",
   "execution_count": 21,
   "id": "48f7a593-8daa-4e28-8255-6b4579087b98",
   "metadata": {},
   "outputs": [],
   "source": [
    "#28. Write a program that combines two lists into a dictionary using list comprehension."
   ]
  },
  {
   "cell_type": "code",
   "execution_count": 4,
   "id": "2ba370ad-6915-4f1f-98fb-8ade1783c426",
   "metadata": {},
   "outputs": [
    {
     "name": "stdout",
     "output_type": "stream",
     "text": [
      "{'name': 'aji', 'city': 'meerut', 'age': '20', 'course': 'fsdsp'}\n"
     ]
    }
   ],
   "source": [
    "l1=[\"name\",\"city\",\"age\",\"course\"]\n",
    "l2=[\"aji\",\"meerut\",\"20\",\"fsdsp\"]\n",
    "#using list comprehension to combine two lists into a dictionary\n",
    "b={l1[i]:l2[i] for i in range(min(len(l1),len(l2)))}\n",
    "print(b)"
   ]
  },
  {
   "cell_type": "code",
   "execution_count": 5,
   "id": "3c404a60-a3cd-4d17-9037-f5fa3e2748cc",
   "metadata": {},
   "outputs": [],
   "source": [
    "#29. Develop a program that extracts the vowels from a string and stores them in a list using list comprehension."
   ]
  },
  {
   "cell_type": "code",
   "execution_count": 9,
   "id": "c8dbeebd-3027-4bc8-b3cc-c217bbaeadf6",
   "metadata": {},
   "outputs": [
    {
     "name": "stdout",
     "output_type": "stream",
     "text": [
      "['i', 'i', 'a', 'i']\n"
     ]
    }
   ],
   "source": [
    "str1=\"this is a string\"\n",
    "#using list comprehension to extract all vowels from the string\n",
    "b=[i for i in str1 if i=='a' or i=='e' or i=='i'or i=='o' or i=='u']\n",
    "print(b)"
   ]
  },
  {
   "cell_type": "code",
   "execution_count": 10,
   "id": "33b5f5d0-a8b7-42da-b1e8-25846fb4863b",
   "metadata": {},
   "outputs": [],
   "source": [
    "#30. Create a program that removes all non-numeric characters from a list of strings using list comprehension."
   ]
  },
  {
   "cell_type": "code",
   "execution_count": 50,
   "id": "17bbdb7c-c889-486c-932b-aa958e61b1ea",
   "metadata": {},
   "outputs": [
    {
     "name": "stdout",
     "output_type": "stream",
     "text": [
      "Original List: ['abc123', '456def', '789ghi', 'jkl']\n",
      "Numeric Strings: ['123', '456', '789', '']\n"
     ]
    }
   ],
   "source": [
    "# List of strings with non-numeric characters\n",
    "strings_with_non_numeric = ['abc123', '456def', '789ghi', 'jkl']\n",
    "\n",
    "# Using list comprehension to remove non-numeric characters from each string\n",
    "numeric_strings = [''.join(n for n in i if n.isnumeric()) for i in strings_with_non_numeric]\n",
    "\n",
    "# Printing the result\n",
    "print(\"Original List:\", strings_with_non_numeric)\n",
    "print(\"Numeric Strings:\", numeric_strings)\n",
    "\n"
   ]
  },
  {
   "cell_type": "raw",
   "id": "9fb3d0a4-12a7-4a26-8114-e03673b045f2",
   "metadata": {},
   "source": [
    "Challenge Level:"
   ]
  },
  {
   "cell_type": "markdown",
   "id": "7ca9bc9e-f399-4ee0-814e-c0e33fe984d2",
   "metadata": {},
   "source": [
    "#31. Write a program to generate a list of prime numbers using the Sieve of Eratosthenes algorithm and list\n",
    "comprehension.\n",
    "            "
   ]
  },
  {
   "cell_type": "code",
   "execution_count": 1,
   "id": "5b65eb77-c5d3-4cf9-ae2b-ad30516e4ffa",
   "metadata": {},
   "outputs": [
    {
     "name": "stdout",
     "output_type": "stream",
     "text": [
      "Prime Numbers up to 50: [2, 3, 5, 7, 11, 13, 17, 19, 23, 29, 31, 37, 41, 43, 47]\n"
     ]
    }
   ],
   "source": [
    "def sieve_of_eratosthenes(limit):\n",
    "    primes = [True] * (limit + 1)\n",
    "    primes[0] = primes[1] = False  # 0 and 1 are not prime numbers\n",
    "\n",
    "    for i in range(2, int(limit**0.5) + 1):\n",
    "        if primes[i]:\n",
    "            primes[i*i:limit+1:i] = [False] * len(primes[i*i:limit+1:i])\n",
    "\n",
    "    return [num for num in range(2, limit + 1) if primes[num]]\n",
    "\n",
    "# Example usage\n",
    "limit = 50\n",
    "prime_numbers = sieve_of_eratosthenes(limit)\n",
    "\n",
    "print(\"Prime Numbers up to {}: {}\".format(limit, prime_numbers))\n"
   ]
  },
  {
   "cell_type": "raw",
   "id": "1e4032cb-9872-404f-a59a-b555cd6dc881",
   "metadata": {},
   "source": [
    "32. Create a program that generates a list of all Pythagorean triplets up to a specified limit using list\n",
    "comprehension."
   ]
  },
  {
   "cell_type": "code",
   "execution_count": 1,
   "id": "0c1dd156-f2a0-4cd6-9836-28194f93f42b",
   "metadata": {
    "tags": []
   },
   "outputs": [
    {
     "name": "stdout",
     "output_type": "stream",
     "text": [
      "Pythagorean Triplets up to 20: [(3, 4, 5), (5, 12, 13), (6, 8, 10), (8, 15, 17), (9, 12, 15), (12, 16, 20)]\n"
     ]
    }
   ],
   "source": [
    "def generate_pythagorean_triplets(limit):\n",
    "# Using list comprehension to generate Pythagorean triplets\n",
    "    triplets = [(a, b, c) for a in range(1, limit + 1) \n",
    "                            for b in range(a, limit + 1) \n",
    "                            for c in range(b, limit + 1) \n",
    "                            if a**2 + b**2 == c**2]\n",
    "\n",
    "    return triplets\n",
    "\n",
    "# Example usage\n",
    "limit = 20\n",
    "pythagorean_triplets = generate_pythagorean_triplets(limit)\n",
    "\n",
    "# Printing the result\n",
    "print(\"Pythagorean Triplets up to {}: {}\".format(limit, pythagorean_triplets))\n"
   ]
  },
  {
   "cell_type": "raw",
   "id": "b78e0cc3-727d-4128-92de-d4ef2fe5797f",
   "metadata": {},
   "source": [
    "33. Develop a program that generates a list of all possible combinations of two lists using list comprehension."
   ]
  },
  {
   "cell_type": "code",
   "execution_count": 2,
   "id": "3834339b-259e-4484-afbc-9590ab73c5d2",
   "metadata": {},
   "outputs": [
    {
     "name": "stdout",
     "output_type": "stream",
     "text": [
      "List 1: [1, 2, 3]\n",
      "List 2: ['a', 'b', 'c']\n",
      "All Possible Combinations: [(1, 'a'), (1, 'b'), (1, 'c'), (2, 'a'), (2, 'b'), (2, 'c'), (3, 'a'), (3, 'b'), (3, 'c')]\n"
     ]
    }
   ],
   "source": [
    "def generate_combinations(list1, list2):\n",
    "# Using list comprehension to generate all possible combinations\n",
    "    combinations = [(x, y) for x in list1 for y in list2]\n",
    "\n",
    "    return combinations\n",
    "\n",
    "# Example usage\n",
    "list1 = [1, 2, 3]\n",
    "list2 = ['a', 'b', 'c']\n",
    "result = generate_combinations(list1, list2)\n",
    "\n",
    "# Printing the result\n",
    "print(\"List 1:\", list1)\n",
    "print(\"List 2:\", list2)\n",
    "print(\"All Possible Combinations:\", result)\n"
   ]
  },
  {
   "cell_type": "raw",
   "id": "0016dac1-fabf-4920-bc9f-176e5202e162",
   "metadata": {},
   "source": [
    "34. Write a program that calculates the mean, median, and mode of a list of numbers using list\n",
    "comprehension."
   ]
  },
  {
   "cell_type": "code",
   "execution_count": 3,
   "id": "828369b3-c0bf-4f31-8cae-8baa25ba00aa",
   "metadata": {},
   "outputs": [
    {
     "name": "stdout",
     "output_type": "stream",
     "text": [
      "List of Numbers: [1, 2, 2, 3, 4, 5, 5, 6]\n",
      "Mean: 3.5\n",
      "Median: 3.5\n",
      "Mode: 2\n"
     ]
    }
   ],
   "source": [
    "import statistics\n",
    "\n",
    "def calculate_mean(numbers):\n",
    "# Using list comprehension to calculate the mean\n",
    "    mean = sum(numbers) / len(numbers)\n",
    "    return mean\n",
    "\n",
    "def calculate_median(numbers):\n",
    "# Using list comprehension to calculate the median\n",
    "    sorted_numbers = sorted(numbers)\n",
    "    n = len(sorted_numbers)\n",
    "    median = (sorted_numbers[n // 2] + sorted_numbers[(n - 1) // 2]) / 2\n",
    "    return median\n",
    "\n",
    "def calculate_mode(numbers):\n",
    "# Using the statistics module to calculate the mode\n",
    "    mode = statistics.mode(numbers)\n",
    "    return mode\n",
    "\n",
    "# Example usage\n",
    "number_list = [1, 2, 2, 3, 4, 5, 5, 6]\n",
    "mean_result = calculate_mean(number_list)\n",
    "median_result = calculate_median(number_list)\n",
    "mode_result = calculate_mode(number_list)\n",
    "\n",
    "# Printing the results\n",
    "print(\"List of Numbers:\", number_list)\n",
    "print(\"Mean:\", mean_result)\n",
    "print(\"Median:\", median_result)\n",
    "print(\"Mode:\", mode_result)\n"
   ]
  },
  {
   "cell_type": "raw",
   "id": "2e538d5c-1521-44cd-8d2a-311e42986ba9",
   "metadata": {},
   "source": [
    "35. Create a program that generates Pascal's triangle up to a specified number of rows using list\n",
    "comprehension."
   ]
  },
  {
   "cell_type": "code",
   "execution_count": 25,
   "id": "2c9cfd6c-5a1b-4359-973f-91f316f4dc10",
   "metadata": {},
   "outputs": [
    {
     "name": "stdout",
     "output_type": "stream",
     "text": [
      "      1 \n",
      "     1 1 \n",
      "    1 2 1 \n",
      "   1 3 3 1 \n",
      "  1 4 6 4 1 \n"
     ]
    }
   ],
   "source": [
    "# Print Pascal's Triangle in Python\n",
    "from math import factorial\n",
    " \n",
    "# input n\n",
    "n = 5\n",
    "for i in range(n):\n",
    "    for j in range(n-i+1):\n",
    " \n",
    "        # for left spacing\n",
    "        print(end=\" \")\n",
    " \n",
    "    for j in range(i+1):\n",
    " \n",
    "        # nCr = n!/((n-r)!*r!)\n",
    "        print(factorial(i)//(factorial(j)*factorial(i-j)), end=\" \")\n",
    " \n",
    "    # for new line\n",
    "    print()"
   ]
  },
  {
   "cell_type": "raw",
   "id": "bee068de-cef0-47e6-98f9-dfe5d7a6a4f2",
   "metadata": {},
   "source": [
    "36. Develop a program that calculates the sum of the digits of a factorial of numbers from 1 to 5 using list\n",
    "comprehension."
   ]
  },
  {
   "cell_type": "code",
   "execution_count": 24,
   "id": "1092d6fe-bd16-49c0-8c38-66b2500f07be",
   "metadata": {},
   "outputs": [
    {
     "name": "stdout",
     "output_type": "stream",
     "text": [
      "[1, 2, 6, 6, 3]\n"
     ]
    }
   ],
   "source": [
    "from math import factorial\n",
    "\n",
    "def factorial_sum(n):\n",
    "    fact = factorial(n)\n",
    "    fact_list = [int(x) for x in str(fact)]\n",
    "    return sum(fact_list)\n",
    "\n",
    "factorial_sums = [factorial_sum(x) for x in range(1,6)]\n",
    "print(factorial_sums)"
   ]
  },
  {
   "cell_type": "raw",
   "id": "3e816110-b67b-44dc-af07-f5d89a189491",
   "metadata": {},
   "source": [
    "37. Write a program that finds the longest word in a sentence using list comprehension."
   ]
  },
  {
   "cell_type": "code",
   "execution_count": 38,
   "id": "95865c30-810c-450f-8137-8223e6c2c084",
   "metadata": {},
   "outputs": [
    {
     "name": "stdin",
     "output_type": "stream",
     "text": [
      "Enter a sentence:  this is a pwskills course\n"
     ]
    },
    {
     "name": "stdout",
     "output_type": "stream",
     "text": [
      "The longest word in the sentence is: pwskills\n"
     ]
    }
   ],
   "source": [
    "def find_longest_word(sentence):\n",
    "# Split the sentence into a list of words\n",
    "    words = sentence.split()\n",
    "\n",
    "# Use list comprehension to find the length of each word\n",
    "    word_lengths = [len(word) for word in words]\n",
    "\n",
    "# Find the index of the longest word using the argmax function\n",
    "    index_of_longest_word = max(range(len(word_lengths)), key=word_lengths.__getitem__)\n",
    "\n",
    "# Retrieve the longest word using the index\n",
    "    longest_word = words[index_of_longest_word]\n",
    "\n",
    "    return longest_word\n",
    "\n",
    "def main():\n",
    "    try:\n",
    "# Take user input for a sentence\n",
    "        input_sentence = input(\"Enter a sentence: \")\n",
    "\n",
    "# Find the longest word using the defined function\n",
    "        longest_word = find_longest_word(input_sentence)\n",
    "\n",
    "# Print the result\n",
    "        print(f\"The longest word in the sentence is: {longest_word}\")\n",
    "\n",
    "    except Exception as e:\n",
    "        print(f\"Error: {e}\")\n",
    "\n",
    "if __name__ == \"__main__\":\n",
    "    main()\n"
   ]
  },
  {
   "cell_type": "raw",
   "id": "bddd6520-c982-448a-8e71-501c0efb14b7",
   "metadata": {},
   "source": [
    "38. Create a program that filters a list of strings to include only those with more than three vowels using list\n",
    "comprehension."
   ]
  },
  {
   "cell_type": "code",
   "execution_count": 36,
   "id": "f0ded938-4575-414f-8a90-cd47725d1590",
   "metadata": {},
   "outputs": [
    {
     "name": "stdout",
     "output_type": "stream",
     "text": [
      "Original list: ['hello', 'world', 'programming', 'python', 'list', 'comprehension']\n",
      "Filtered list with more than three vowels: ['comprehension']\n"
     ]
    }
   ],
   "source": [
    "def count_vowels(word):\n",
    "#Count the number of vowels in a given word.\n",
    "    return sum(1 for char in word if char.lower() in 'aeiou')\n",
    "\n",
    "def filter_strings(string_list):\n",
    "    \n",
    "#Filter a list of strings to include only those with more than three vowels.\n",
    "#Uses the count_vowels function.\n",
    "    \n",
    "    return [word for word in string_list if count_vowels(word) > 3]\n",
    "\n",
    "# Example usage:\n",
    "input_strings = [\"hello\", \"world\", \"programming\", \"python\", \"list\", \"comprehension\"]\n",
    "\n",
    "# Filter the strings\n",
    "filtered_strings = filter_strings(input_strings)\n",
    "\n",
    "# Print the original and filtered lists\n",
    "print(f\"Original list: {input_strings}\")\n",
    "print(f\"Filtered list with more than three vowels: {filtered_strings}\")"
   ]
  },
  {
   "cell_type": "raw",
   "id": "499217fe-75cb-4e9d-98c3-82e2ef228344",
   "metadata": {},
   "source": [
    "39. Develop a program that calculates the sum of the digits of numbers from 1 to 1000 using list\n",
    "comprehension."
   ]
  },
  {
   "cell_type": "code",
   "execution_count": 39,
   "id": "0b3758a6-bb08-4710-99f0-74367c02c25c",
   "metadata": {},
   "outputs": [
    {
     "name": "stdout",
     "output_type": "stream",
     "text": [
      "The sum of the digits of numbers from 1 to 1000 is: 13501\n"
     ]
    }
   ],
   "source": [
    "# Define a function to calculate the sum of the digits of a number\n",
    "def sum_of_digits(number):\n",
    "    return sum(int(digit) for digit in str(number))\n",
    "\n",
    "# Use list comprehension to calculate the sum of digits for numbers from 1 to 1000\n",
    "sum_of_digits_list = [sum_of_digits(num) for num in range(1, 1001)]\n",
    "\n",
    "# Calculate the total sum of digits\n",
    "total_sum = sum(sum_of_digits_list)\n",
    "\n",
    "# Print the result\n",
    "print(f\"The sum of the digits of numbers from 1 to 1000 is: {total_sum}\")\n"
   ]
  },
  {
   "cell_type": "raw",
   "id": "b32236f5-fe56-4c94-a7e4-ff0221904cf1",
   "metadata": {},
   "source": [
    "40. Write a program that generates a list of prime palindromic numbers using list comprehension."
   ]
  },
  {
   "cell_type": "code",
   "execution_count": 41,
   "id": "01418da8-4e55-47a3-9444-5df9c17c59a6",
   "metadata": {},
   "outputs": [
    {
     "name": "stdout",
     "output_type": "stream",
     "text": [
      "Prime Palindromes: [2, 3, 5, 7, 11, 101, 131, 151, 181, 191, 313, 353, 373, 383, 727, 757, 787, 797, 919, 929]\n"
     ]
    }
   ],
   "source": [
    "def is_prime(num):\n",
    "#Check if a number is prime.\n",
    "    if num < 2:\n",
    "        return False\n",
    "    for i in range(2, int(num**0.5) + 1):\n",
    "        if num % i == 0:\n",
    "            return False\n",
    "    return True\n",
    "\n",
    "def is_palindrome(num):\n",
    "#Check if a number is a palindrome.\n",
    "    return str(num) == str(num)[::-1]\n",
    "\n",
    "# Generate a list of prime palindromic numbers using list comprehension\n",
    "prime_palindromes = [num for num in range(2, 1000) if is_prime(num) and is_palindrome(num)]\n",
    "\n",
    "# Print the result\n",
    "print(\"Prime Palindromes:\", prime_palindromes)\n"
   ]
  },
  {
   "cell_type": "code",
   "execution_count": null,
   "id": "771dc86a-1793-422b-aa98-0e56c2915663",
   "metadata": {},
   "outputs": [],
   "source": []
  }
 ],
 "metadata": {
  "kernelspec": {
   "display_name": "Python 3 (ipykernel)",
   "language": "python",
   "name": "python3"
  },
  "language_info": {
   "codemirror_mode": {
    "name": "ipython",
    "version": 3
   },
   "file_extension": ".py",
   "mimetype": "text/x-python",
   "name": "python",
   "nbconvert_exporter": "python",
   "pygments_lexer": "ipython3",
   "version": "3.10.8"
  }
 },
 "nbformat": 4,
 "nbformat_minor": 5
}
