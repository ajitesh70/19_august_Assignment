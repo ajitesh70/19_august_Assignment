{
 "cells": [
  {
   "cell_type": "raw",
   "id": "f86f1bf3-6150-429e-b89c-6de786147f48",
   "metadata": {},
   "source": [
    "Python Basics Assignment\n"
   ]
  },
  {
   "cell_type": "raw",
   "id": "b1a8837f-0965-4f8a-a098-7ec880f95503",
   "metadata": {},
   "source": [
    "TOPIC: Python Basics Variable"
   ]
  },
  {
   "cell_type": "raw",
   "id": "1ec4af81-45e9-4058-8095-40cc5da1d173",
   "metadata": {},
   "source": [
    "1. Declare two variables x and y, and assign them integer values. Swap the values of these variables without using any temporary variable."
   ]
  },
  {
   "cell_type": "code",
   "execution_count": 13,
   "id": "1a3faff2-b924-40c7-a65b-b555bfb1f614",
   "metadata": {},
   "outputs": [],
   "source": [
    "#step 1: declaring variables and assigning values to them\n",
    "x,y=22,33\n",
    "#swapping values using grouping concept\n",
    "x,y=y,x"
   ]
  },
  {
   "cell_type": "code",
   "execution_count": 14,
   "id": "dcc918dd-dd67-4498-8e41-05ec2db796a2",
   "metadata": {},
   "outputs": [
    {
     "data": {
      "text/plain": [
       "33"
      ]
     },
     "execution_count": 14,
     "metadata": {},
     "output_type": "execute_result"
    }
   ],
   "source": [
    "x  # new value is 33"
   ]
  },
  {
   "cell_type": "code",
   "execution_count": 16,
   "id": "c24c6cb5-37a2-43cc-bcd2-607c35621ae3",
   "metadata": {},
   "outputs": [
    {
     "data": {
      "text/plain": [
       "22"
      ]
     },
     "execution_count": 16,
     "metadata": {},
     "output_type": "execute_result"
    }
   ],
   "source": [
    "y # new value is 22"
   ]
  },
  {
   "cell_type": "raw",
   "id": "91794513-ac29-478b-a043-b65e075e62ea",
   "metadata": {},
   "source": [
    "2. Create a program that calculates the area of a rectangle. take the length and width as inputs from the user and store them in variables. Calculate and display the area."
   ]
  },
  {
   "cell_type": "code",
   "execution_count": null,
   "id": "cf5efb69-dd37-4049-aaee-15f7da51469d",
   "metadata": {},
   "outputs": [],
   "source": [
    "#taking input from user\n",
    "l=int(input(\"Enter length of the rectangle\"))\n",
    "b=int(input(\"Enter width of the rectangle\"))\n",
    "#calculating area\n",
    "area=l*b\n",
    "print(area)"
   ]
  },
  {
   "cell_type": "raw",
   "id": "45b6780e-77e7-4f08-b38f-2325f18fe845",
   "metadata": {},
   "source": [
    "3. write a python program that converts tempratures from celcius to fahrenheit. Takes the temperature in celcius as input, store it in a variable, convert it to Fahrenheit, and display the result."
   ]
  },
  {
   "cell_type": "code",
   "execution_count": 20,
   "id": "445eefd4-2eb0-4ab3-9ddf-66452ecd95d2",
   "metadata": {},
   "outputs": [
    {
     "name": "stdin",
     "output_type": "stream",
     "text": [
      "Enter temp in celcius 37\n"
     ]
    },
    {
     "name": "stdout",
     "output_type": "stream",
     "text": [
      "98.6\n"
     ]
    }
   ],
   "source": [
    "#Taking temperature in celcius as input\n",
    "tempInCelcius=int(input(\"Enter temp in celcius\"))\n",
    "#converting from celcius to farhenheit\n",
    "tempInFarhenheit=((9*tempInCelcius)/5)+32\n",
    "#printing atemperature in celcius\n",
    "print(tempInFarhenheit)\n"
   ]
  },
  {
   "cell_type": "raw",
   "id": "3a955ff3-0e6c-4f22-817b-7e91abdf07f4",
   "metadata": {},
   "source": [
    "\n",
    "TOPIC: String Based Questions"
   ]
  },
  {
   "cell_type": "raw",
   "id": "c9606827-8425-487d-b54f-4bd2171a7a31",
   "metadata": {},
   "source": [
    "1.Write a python program that takes a string as an input and prints the length of the string."
   ]
  },
  {
   "cell_type": "code",
   "execution_count": 4,
   "id": "cf77535f-2acb-43e5-8328-39c237cc35cb",
   "metadata": {},
   "outputs": [
    {
     "name": "stdin",
     "output_type": "stream",
     "text": [
      " this is it\n"
     ]
    },
    {
     "name": "stdout",
     "output_type": "stream",
     "text": [
      "10\n"
     ]
    }
   ],
   "source": [
    "#taking input from user\n",
    "str=input()\n",
    "#printing length of the string\n",
    "print(len(str))"
   ]
  },
  {
   "cell_type": "raw",
   "id": "996af076-e29c-4954-986c-1ecd86039d0c",
   "metadata": {},
   "source": [
    "2. Create a program that takes a sentence from the user and counts the number\n",
    "of vowels (a, e, i, o, u) in the string."
   ]
  },
  {
   "cell_type": "code",
   "execution_count": 7,
   "id": "99ef1acf-a285-4e3a-9711-219e004f4b28",
   "metadata": {},
   "outputs": [
    {
     "name": "stdin",
     "output_type": "stream",
     "text": [
      " find vowels\n"
     ]
    },
    {
     "name": "stdout",
     "output_type": "stream",
     "text": [
      "3\n"
     ]
    }
   ],
   "source": [
    "#taking input\n",
    "str=input()\n",
    "#assign initial vowels value as 0\n",
    "vowel =0\n",
    "#traversing string to check for vowels\n",
    "for ch in str:\n",
    "    if ch=='a' or ch=='e' or ch=='i' or ch=='o' or ch=='u':\n",
    "        vowel=vowel+1\n",
    "#printing output\n",
    "print(vowel)"
   ]
  },
  {
   "cell_type": "raw",
   "id": "612e93ee-dfbf-4189-ad14-2d22370b4ef2",
   "metadata": {},
   "source": [
    "3. Given a string, reverse the order of characters using string slicing and print\n",
    "the reversed string."
   ]
  },
  {
   "cell_type": "code",
   "execution_count": 8,
   "id": "7af3bc6c-6dc5-4828-8c1c-f0ad7a2f78fa",
   "metadata": {},
   "outputs": [
    {
     "name": "stdin",
     "output_type": "stream",
     "text": [
      " reverse\n"
     ]
    },
    {
     "name": "stdout",
     "output_type": "stream",
     "text": [
      "esrever\n"
     ]
    }
   ],
   "source": [
    "#taking input\n",
    "str=input()\n",
    "#printing reversed string\n",
    "print(str[::-1])"
   ]
  },
  {
   "cell_type": "raw",
   "id": "2c90e3f0-51cd-473e-9cd9-6efa1a883fc1",
   "metadata": {},
   "source": [
    "4. Write a program that takes a string as input and checks if it is a palindrome\n",
    "(reads the same forwards and backwards)."
   ]
  },
  {
   "cell_type": "code",
   "execution_count": 19,
   "id": "9a8663e2-8051-46a4-a20c-1e0435be960d",
   "metadata": {
    "tags": []
   },
   "outputs": [
    {
     "name": "stdin",
     "output_type": "stream",
     "text": [
      " rer\n"
     ]
    },
    {
     "name": "stdout",
     "output_type": "stream",
     "text": [
      "palindrome\n"
     ]
    }
   ],
   "source": [
    "#taking input\n",
    "str=input()\n",
    "#checking if the reversed string is same or not\n",
    "if str==str[::-1]:\n",
    "    print(\"palindrome\")"
   ]
  },
  {
   "cell_type": "raw",
   "id": "a7a65876-7815-4ad1-b398-5dbef0be1131",
   "metadata": {},
   "source": [
    "5. Create a program that takes a string as input and removes all the spaces from\n",
    "it. Print the modified string without spaces."
   ]
  },
  {
   "cell_type": "code",
   "execution_count": 20,
   "id": "742d25a5-d4d7-4a24-aed2-16bdd2a101b3",
   "metadata": {},
   "outputs": [
    {
     "name": "stdin",
     "output_type": "stream",
     "text": [
      " my name is Ajitesh\n"
     ]
    },
    {
     "name": "stdout",
     "output_type": "stream",
     "text": [
      "mynameisAjitesh\n"
     ]
    }
   ],
   "source": [
    "#taking input\n",
    "str=input()\n",
    "#replacing space\n",
    "str=str.replace(\" \",\"\")\n",
    "#printing output after replacing\n",
    "print(str)\n",
    "\n"
   ]
  },
  {
   "cell_type": "code",
   "execution_count": null,
   "id": "9d85ea44-cc48-4ec0-9259-4b8f07016b48",
   "metadata": {},
   "outputs": [],
   "source": []
  }
 ],
 "metadata": {
  "kernelspec": {
   "display_name": "Python 3 (ipykernel)",
   "language": "python",
   "name": "python3"
  },
  "language_info": {
   "codemirror_mode": {
    "name": "ipython",
    "version": 3
   },
   "file_extension": ".py",
   "mimetype": "text/x-python",
   "name": "python",
   "nbconvert_exporter": "python",
   "pygments_lexer": "ipython3",
   "version": "3.10.8"
  }
 },
 "nbformat": 4,
 "nbformat_minor": 5
}
