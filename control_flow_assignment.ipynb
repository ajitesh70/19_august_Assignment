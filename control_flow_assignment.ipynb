{
 "cells": [
  {
   "cell_type": "raw",
   "id": "c9882397-7080-4567-952a-4a0d03d2ccb8",
   "metadata": {},
   "source": [
    "CONTROL FLOW ASSIGNMENT QUESTIONS"
   ]
  },
  {
   "cell_type": "raw",
   "id": "4f96e868-bbb7-43b3-ad4a-ed84fc81ac9b",
   "metadata": {},
   "source": [
    "Basic if-ELSE statements:"
   ]
  },
  {
   "cell_type": "code",
   "execution_count": 1,
   "id": "ebf60513-9398-428e-928e-b2e5be201be7",
   "metadata": {},
   "outputs": [],
   "source": [
    "#1. Write a Python program to check if a given number is positive or negative."
   ]
  },
  {
   "cell_type": "code",
   "execution_count": 2,
   "id": "8539d32b-27cb-4575-b8a0-41fdba2c3cb6",
   "metadata": {},
   "outputs": [
    {
     "name": "stdin",
     "output_type": "stream",
     "text": [
      " -1\n"
     ]
    },
    {
     "name": "stdout",
     "output_type": "stream",
     "text": [
      "Negative\n"
     ]
    }
   ],
   "source": [
    "#taking input from user\n",
    "num=int(input())\n",
    "#if num is greater than 0 print positive\n",
    "if num>0:\n",
    "    print(\"Positive\")\n",
    "#using elif to \n",
    "elif num<0:\n",
    "    print(\"Negative\")\n",
    "else:\n",
    "    print(\"Zero\")"
   ]
  },
  {
   "cell_type": "code",
   "execution_count": 3,
   "id": "4b35d470-cae7-45a2-be51-8c1fe992ddb3",
   "metadata": {},
   "outputs": [],
   "source": [
    "#2. Create a program that determines if a person is eligible to vote based on their age."
   ]
  },
  {
   "cell_type": "code",
   "execution_count": 6,
   "id": "490c1d5f-f9cd-4ba9-9ede-237fcace36dc",
   "metadata": {},
   "outputs": [
    {
     "name": "stdin",
     "output_type": "stream",
     "text": [
      " 19\n"
     ]
    },
    {
     "name": "stdout",
     "output_type": "stream",
     "text": [
      "Eligible to vote\n"
     ]
    }
   ],
   "source": [
    "#taking input from user\n",
    "age=int(input())\n",
    "#if age is above 18,they are eligible\n",
    "if age>=18:\n",
    "    print(\"Eligible to vote\")\n",
    "else:\n",
    "    print(\"Not eligible to vote\")"
   ]
  },
  {
   "cell_type": "code",
   "execution_count": 5,
   "id": "0833f42a-985d-4e47-92be-77db2493ad80",
   "metadata": {},
   "outputs": [],
   "source": [
    "#3. Develop a program to find the maximum of two numbers using if-else statements."
   ]
  },
  {
   "cell_type": "code",
   "execution_count": 7,
   "id": "95a484fb-c837-4f81-bebc-edd9d70957c7",
   "metadata": {},
   "outputs": [
    {
     "name": "stdin",
     "output_type": "stream",
     "text": [
      " 33\n",
      " 22\n"
     ]
    },
    {
     "name": "stdout",
     "output_type": "stream",
     "text": [
      "33 is greater\n"
     ]
    }
   ],
   "source": [
    "#taking two numbers from user\n",
    "a=int(input())\n",
    "b=int(input())\n",
    "#using conditional statement to find which is bigger \n",
    "if a>b:\n",
    "    print(a ,\"is greater\")\n",
    "elif a==b:\n",
    "    print(\"equal\")\n",
    "else:\n",
    "    print(b ,\"is greater\")"
   ]
  },
  {
   "cell_type": "code",
   "execution_count": null,
   "id": "8d9d6a7c-1288-44d0-bdc1-44606d3cb422",
   "metadata": {},
   "outputs": [],
   "source": [
    "#4. Write a Python script to classify a given year as a leap year or not."
   ]
  },
  {
   "cell_type": "code",
   "execution_count": 8,
   "id": "c9f2626d-206c-4144-9cc4-ae9f64d8edd1",
   "metadata": {},
   "outputs": [
    {
     "name": "stdin",
     "output_type": "stream",
     "text": [
      "Enter year :  2024\n"
     ]
    },
    {
     "name": "stdout",
     "output_type": "stream",
     "text": [
      "2024 is a leap year.\n"
     ]
    }
   ],
   "source": [
    "year = int(input(\"Enter year : \"))\n",
    "#if given year satisfies following conditions then it is a leap year\n",
    "if (year%4 == 0 and year%100 != 0) or (year%400 == 0) :\n",
    "    print(year, \"is a leap year.\")\n",
    "else :\n",
    "    print(year, \"is not a leap year.\")"
   ]
  },
  {
   "cell_type": "code",
   "execution_count": null,
   "id": "c935dda0-e0d6-4455-8542-bc6726fe2d65",
   "metadata": {},
   "outputs": [],
   "source": [
    "#5. Create a program that checks whether a character is a vowel or a consonant."
   ]
  },
  {
   "cell_type": "code",
   "execution_count": 9,
   "id": "a5aed30c-214a-466c-821d-d780e02adccf",
   "metadata": {},
   "outputs": [
    {
     "name": "stdin",
     "output_type": "stream",
     "text": [
      " d\n"
     ]
    },
    {
     "name": "stdout",
     "output_type": "stream",
     "text": [
      "consonent\n"
     ]
    }
   ],
   "source": [
    "#taking a character as an input\n",
    "char=input()\n",
    "#if char is one of the vowels then print vowel\n",
    "if char=='a' or char=='e' or char=='i' or char=='o' or char=='u':\n",
    "    print(\"vowel\")\n",
    "else:\n",
    "    print(\"consonent\")"
   ]
  },
  {
   "cell_type": "code",
   "execution_count": null,
   "id": "623fe3e6-3573-4bcf-9f9c-7e1ad0b1f37d",
   "metadata": {},
   "outputs": [],
   "source": [
    "#6. Implement a program to determine whether a given number is even or odd."
   ]
  },
  {
   "cell_type": "code",
   "execution_count": 10,
   "id": "e7b41d5b-67ea-4322-b62e-067da42b8256",
   "metadata": {},
   "outputs": [
    {
     "name": "stdin",
     "output_type": "stream",
     "text": [
      " 3\n"
     ]
    },
    {
     "name": "stdout",
     "output_type": "stream",
     "text": [
      "odd\n"
     ]
    }
   ],
   "source": [
    "num=int(input())\n",
    "#if num is divisible by 2 then its even, else it is odd\n",
    "if num%2==0:\n",
    "    print(\"even\")\n",
    "else:\n",
    "    print(\"odd\")"
   ]
  },
  {
   "cell_type": "code",
   "execution_count": 6,
   "id": "7a114d41-1ac6-46a2-9739-e0393ce12a25",
   "metadata": {},
   "outputs": [],
   "source": [
    "#7. Write a Python function to calculate the absolute value of a number without using the `abs()` function."
   ]
  },
  {
   "cell_type": "code",
   "execution_count": 9,
   "id": "f7d51a1d-2020-4dce-9296-f353d4e304d8",
   "metadata": {},
   "outputs": [
    {
     "name": "stdin",
     "output_type": "stream",
     "text": [
      " -4\n"
     ]
    },
    {
     "name": "stdout",
     "output_type": "stream",
     "text": [
      "4\n"
     ]
    }
   ],
   "source": [
    "num=int(input())\n",
    "#if value of num is negative, then remove negative sign\n",
    "if num<0:\n",
    "    print(f\"{-num}\")\n",
    "else:\n",
    "    print(num)"
   ]
  },
  {
   "cell_type": "code",
   "execution_count": null,
   "id": "521562f0-c314-4dd5-9d34-4b51756992ef",
   "metadata": {},
   "outputs": [],
   "source": [
    "#8. Develop a program that determines the largest of three given numbers using if-else statements."
   ]
  },
  {
   "cell_type": "code",
   "execution_count": 11,
   "id": "c9dae129-c407-480c-ad54-48b6ec47b129",
   "metadata": {},
   "outputs": [
    {
     "name": "stdin",
     "output_type": "stream",
     "text": [
      " 33\n",
      " 22\n",
      " 44\n"
     ]
    },
    {
     "name": "stdout",
     "output_type": "stream",
     "text": [
      "44 is greatest\n"
     ]
    }
   ],
   "source": [
    "a=int(input())\n",
    "b=int(input())\n",
    "c=int(input())\n",
    "#if a is greatest then print a\n",
    "if a>=b and a>=c:\n",
    "    print(a , \"is greatest\")\n",
    "#if b is greatest then print b\n",
    "elif b>=a and b>=c:\n",
    "    print(b ,\"is greatest\")\n",
    "#else print c   \n",
    "else:\n",
    "    print(c , \"is greatest\")"
   ]
  },
  {
   "cell_type": "code",
   "execution_count": null,
   "id": "5e0125df-5a0c-4f78-a144-67fe86a911ab",
   "metadata": {},
   "outputs": [],
   "source": [
    "#9. Create a program that checks if a given string is a palindrome."
   ]
  },
  {
   "cell_type": "code",
   "execution_count": 12,
   "id": "86dd6693-fd84-49c8-ba1f-414b48959a64",
   "metadata": {},
   "outputs": [
    {
     "name": "stdin",
     "output_type": "stream",
     "text": [
      " ere\n"
     ]
    },
    {
     "name": "stdout",
     "output_type": "stream",
     "text": [
      "palindrome\n"
     ]
    }
   ],
   "source": [
    "str=input()\n",
    "#if the reverse of the string is as same as the original then it is a palindrome\n",
    "str1=str[::-1]\n",
    "if str==str1:\n",
    "    print(\"palindrome\")\n",
    "else:\n",
    "    print(\"not palindrome\")\n",
    "    "
   ]
  },
  {
   "cell_type": "code",
   "execution_count": null,
   "id": "c2fc475c-491b-4730-a817-62898d569156",
   "metadata": {},
   "outputs": [],
   "source": [
    "#10. Write a Python program to calculate the grade based on a student's score.\n"
   ]
  },
  {
   "cell_type": "code",
   "execution_count": 13,
   "id": "14670a2a-39f5-4cf1-a9b8-a40ffca42299",
   "metadata": {},
   "outputs": [
    {
     "name": "stdin",
     "output_type": "stream",
     "text": [
      " 45\n",
      " 43\n",
      " 87\n",
      " 89\n",
      " 68\n"
     ]
    },
    {
     "name": "stdout",
     "output_type": "stream",
     "text": [
      "Grade: C\n"
     ]
    }
   ],
   "source": [
    "sub1=int(input())\n",
    "sub2=int(input())\n",
    "sub3=int(input())\n",
    "sub4=int(input())\n",
    "sub5=int(input())\n",
    "#first we calculate the average of marks of all subjects\n",
    "avg=(sub1+sub2+sub3+sub4+sub4)/5\n",
    "#then passing grades according to the marks\n",
    "if (avg>=90):\n",
    "    print(\"Grade: A\")\n",
    "elif (avg>=80 and avg<90):\n",
    "    print(\"Grade: B\")\n",
    "elif (avg>=70 and avg<80):\n",
    "    print(\"Grade: C\")\n",
    "elif (avg>=60 and avg<70): \n",
    "    print(\"Grade: D\")\n",
    "else:\n",
    "    print(\"Grade: F\")"
   ]
  },
  {
   "cell_type": "raw",
   "id": "b6d81e94-3784-4f89-b122-6a88517b1cae",
   "metadata": {},
   "source": [
    "Nested If-Else Statements:"
   ]
  },
  {
   "cell_type": "code",
   "execution_count": 14,
   "id": "516aab65-a15f-4d50-a871-5c379d2837e1",
   "metadata": {},
   "outputs": [],
   "source": [
    "#11. Write a program to find the largest among three numbers using nested if-else statements."
   ]
  },
  {
   "cell_type": "code",
   "execution_count": 5,
   "id": "9fd14a55-0f90-443f-8ff2-d7e9e5931ad5",
   "metadata": {},
   "outputs": [
    {
     "name": "stdin",
     "output_type": "stream",
     "text": [
      "Enter A:  1\n",
      "Enter B:  2\n",
      "Enter C:  3\n"
     ]
    },
    {
     "name": "stdout",
     "output_type": "stream",
     "text": [
      "3\n"
     ]
    }
   ],
   "source": [
    "# input three integer numbers \n",
    "a=int(input(\"Enter A: \"))\n",
    "b=int(input(\"Enter B: \"))\n",
    "c=int(input(\"Enter C: \"))\n",
    "\n",
    "# conditions to find largest \n",
    "if a>b:\n",
    "    if a>c:\n",
    "        print(a)\n",
    "    else:\n",
    "        print(c)\n",
    "else:\n",
    "    if b>c:\n",
    "        print(b)\n",
    "    else:\n",
    "        print(c)"
   ]
  },
  {
   "cell_type": "code",
   "execution_count": 6,
   "id": "e0f238ee-e9dd-42b5-bd2f-cc30927bde93",
   "metadata": {},
   "outputs": [],
   "source": [
    "#12. Implement a program to determine if a triangle is equilateral, isosceles, or scalene."
   ]
  },
  {
   "cell_type": "code",
   "execution_count": 1,
   "id": "1b1fd883-e292-4cbf-b97f-c4f0bad2b4b7",
   "metadata": {},
   "outputs": [
    {
     "name": "stdin",
     "output_type": "stream",
     "text": [
      "side 1:  4\n",
      "side 2:  3\n",
      "side 3:  5\n"
     ]
    },
    {
     "name": "stdout",
     "output_type": "stream",
     "text": [
      "scalene\n"
     ]
    }
   ],
   "source": [
    "a=int(input(\"side 1: \"))\n",
    "b=int(input(\"side 2: \"))\n",
    "c=int(input(\"side 3: \"))\n",
    "#if all sides are equal then its a equilateral triangle\n",
    "if a==b==c:\n",
    "    print(\"equilateral\")\n",
    "#if any two sides are equal then i is an isosceles triangle\n",
    "elif a==b or b==c or a==c:\n",
    "    print(\"isosceles\")\n",
    "#else it is scalene\n",
    "else:\n",
    "    print(\"scalene\")\n",
    "    "
   ]
  },
  {
   "cell_type": "code",
   "execution_count": 3,
   "id": "ad6aeec3-b984-4868-a97e-6fac47aeca2a",
   "metadata": {},
   "outputs": [],
   "source": [
    "# 13. Develop a program that checks if a year is a leap year and also if it is a century year."
   ]
  },
  {
   "cell_type": "code",
   "execution_count": 3,
   "id": "29f44d2e-bda6-4f59-b2e9-cff69cb8bc34",
   "metadata": {},
   "outputs": [
    {
     "name": "stdin",
     "output_type": "stream",
     "text": [
      "year:  2024\n"
     ]
    },
    {
     "name": "stdout",
     "output_type": "stream",
     "text": [
      "leap year but not a century year\n"
     ]
    }
   ],
   "source": [
    "year = int(input(\"year: \"))\n",
    "\n",
    "#condition to check if it is a leap year\n",
    "if year%100!=0:\n",
    "    if year%4==0:\n",
    "        print(\"leap year but not a century year\")\n",
    "    else:\n",
    "        print(\"neither a leap year nor a century year\")\n",
    "#conditions to check if it is a century year\n",
    "elif year%400==0:\n",
    "    print(\"leap year and a century year\")\n",
    "else:\n",
    "    print(\"century year but not a leap year\")"
   ]
  },
  {
   "cell_type": "code",
   "execution_count": null,
   "id": "3aa58da0-3956-4062-87b4-7fccaf888f30",
   "metadata": {},
   "outputs": [],
   "source": [
    "#14. Write a Python script to determine if a number is positive, negative, or zero."
   ]
  },
  {
   "cell_type": "code",
   "execution_count": 7,
   "id": "c2d7b84d-8e04-44ad-84c9-332a91cc711e",
   "metadata": {},
   "outputs": [
    {
     "name": "stdin",
     "output_type": "stream",
     "text": [
      " -1\n"
     ]
    },
    {
     "name": "stdout",
     "output_type": "stream",
     "text": [
      "negative\n"
     ]
    }
   ],
   "source": [
    "num=int(input())\n",
    "#if num is greater than zero, its positive\n",
    "if num>=0:\n",
    "    if num==0:\n",
    "        print(\"zero\")\n",
    "    else:\n",
    "        print(\"positive\")\n",
    "#else its negetive\n",
    "else:\n",
    "    print(\"negative\")"
   ]
  },
  {
   "cell_type": "code",
   "execution_count": 8,
   "id": "2833c9d1-c675-407e-9584-dd72e0f1a5f2",
   "metadata": {},
   "outputs": [],
   "source": [
    "#15. Create a program to check if a person is a teenager (between 13 and 19 years old)."
   ]
  },
  {
   "cell_type": "code",
   "execution_count": 13,
   "id": "15496119-0510-4c33-a012-1192c43e0686",
   "metadata": {},
   "outputs": [
    {
     "name": "stdin",
     "output_type": "stream",
     "text": [
      " 18\n"
     ]
    },
    {
     "name": "stdout",
     "output_type": "stream",
     "text": [
      "teenager\n"
     ]
    }
   ],
   "source": [
    "age=int(input())\n",
    "#if age is between 13 and 19 then it is a teenager\n",
    "if age>=13:\n",
    "    if age<=19:\n",
    "        print(\"teenager\")\n",
    "    else:\n",
    "        print(\"not a teenager\")\n",
    "else:\n",
    "    print(\"not a teenager\")\n",
    "    "
   ]
  },
  {
   "cell_type": "code",
   "execution_count": 14,
   "id": "02fe4599-df4c-4a33-81e9-ab1fdffdb689",
   "metadata": {},
   "outputs": [],
   "source": [
    "#16. Develop a program that determines the type of angle based on its measure (acute, obtuse, or right)."
   ]
  },
  {
   "cell_type": "code",
   "execution_count": 22,
   "id": "d8e38e42-9b5b-442a-a3bc-6c56a006500b",
   "metadata": {},
   "outputs": [
    {
     "name": "stdin",
     "output_type": "stream",
     "text": [
      " 67\n"
     ]
    },
    {
     "name": "stdout",
     "output_type": "stream",
     "text": [
      "acute angle\n"
     ]
    }
   ],
   "source": [
    "angle=int(input())\n",
    "\n",
    "if 0<angle<180:\n",
    "    #if angle is between 0 and 90, then it is acute\n",
    "    if 0<angle<90:\n",
    "        print(\"acute angle\")\n",
    "    #if angle is 90 then it is right angle\n",
    "    elif angle==90:\n",
    "        print(\"right angle\")\n",
    "     #if angle is between 90 and 180, then it is obtuse\n",
    "    else:\n",
    "        print(\"obtuse angle\")\n",
    "else:\n",
    "    print(\"neither of three\")\n",
    "        "
   ]
  },
  {
   "cell_type": "code",
   "execution_count": 23,
   "id": "68fbec10-7912-4f57-b565-886890aaa56e",
   "metadata": {},
   "outputs": [],
   "source": [
    "#17. Write a Python program to calculate the roots of a quadratic equation."
   ]
  },
  {
   "cell_type": "code",
   "execution_count": 6,
   "id": "c4d63b1e-8f2d-44a8-826d-ba4f5371e7dd",
   "metadata": {},
   "outputs": [
    {
     "name": "stdin",
     "output_type": "stream",
     "text": [
      " 1\n",
      " 8\n",
      " 2\n"
     ]
    },
    {
     "name": "stdout",
     "output_type": "stream",
     "text": [
      "-11.74165738677394\n",
      "-4.258342613226059\n"
     ]
    }
   ],
   "source": [
    "#taking inputs of a b and c from user\n",
    "a=int(input())\n",
    "b=int(input())\n",
    "c=int(input())\n",
    "#formula for quadratic euation\n",
    "d=(b**2)-(4*a*c)\n",
    "if d>0:\n",
    "    root1=-b-(d**0.5)/(2*a)\n",
    "    root2=-b+(d**0.5)/(2*a)\n",
    "    print(root1)\n",
    "    print(root2)\n",
    "elif d==0:\n",
    "    root1=-b/(2*a)\n",
    "    print(root1)\n",
    "else:\n",
    "    print(\"negative discriminant\")\n",
    "\n",
    "\n",
    "\n"
   ]
  },
  {
   "cell_type": "raw",
   "id": "2d2c84f7-2aec-477d-8634-cb9a2ea36041",
   "metadata": {},
   "source": [
    "18. Implement a program to determine the day of the week based on a user-provided number (1 for Monday, 2\n",
    "for Tuesday, etc.)."
   ]
  },
  {
   "cell_type": "code",
   "execution_count": 10,
   "id": "6a2a2fbe-19b1-4fcb-9039-282db1f9e369",
   "metadata": {},
   "outputs": [
    {
     "name": "stdin",
     "output_type": "stream",
     "text": [
      " 6\n"
     ]
    },
    {
     "name": "stdout",
     "output_type": "stream",
     "text": [
      "saturday\n"
     ]
    }
   ],
   "source": [
    "#taking day number as an input and printing the day name of the week\n",
    "day=int(input())\n",
    "if day==1:\n",
    "    print(\"monday\")\n",
    "elif day==2:\n",
    "    print(\"tuesday\")\n",
    "elif day==3:\n",
    "    print(\"wednesday\")\n",
    "elif day==4:\n",
    "    print(\"thursday\")\n",
    "elif day==5:\n",
    "    print(\"friday\")\n",
    "elif day==6:\n",
    "    print(\"saturday\")\n",
    "elif day==7:\n",
    "    print(\"sunday\")\n",
    "else:\n",
    "    print(\"invalid number\")"
   ]
  },
  {
   "cell_type": "code",
   "execution_count": 11,
   "id": "d9ad844e-243e-4c72-8ecf-52a4bb49e08d",
   "metadata": {},
   "outputs": [],
   "source": [
    "#19. Create a program that determines if a year is a leap year and also if it is evenly divisible by 400."
   ]
  },
  {
   "cell_type": "code",
   "execution_count": 5,
   "id": "1b029b4a-1699-43ec-a2ec-644aead42c64",
   "metadata": {},
   "outputs": [
    {
     "name": "stdin",
     "output_type": "stream",
     "text": [
      " 2024\n"
     ]
    },
    {
     "name": "stdout",
     "output_type": "stream",
     "text": [
      "leap year but not evenly divisible by 400\n"
     ]
    }
   ],
   "source": [
    "#taking year as an input\n",
    "year=int(input())\n",
    "#checking if it is a leap year and evenly divisible by 400 using if else\n",
    "if year%100!=0:\n",
    "    if year%4==0:\n",
    "        print(\"leap year but not evenly divisible by 400\")\n",
    "    else:\n",
    "        print(\"nor a leap year neither evenly divisible by 400\")\n",
    "elif year%400==0:\n",
    "    print(\"leap year and evenly divisible by 400\")\n",
    "else:\n",
    "    print(\"nor a leap year neither evenly divisible by 400\")"
   ]
  },
  {
   "cell_type": "code",
   "execution_count": 6,
   "id": "dbabc36f-d42b-4fa3-b40e-15023c5e1080",
   "metadata": {},
   "outputs": [],
   "source": [
    "#20. Develop a program that checks if a given number is prime or not using nested if-else statements."
   ]
  },
  {
   "cell_type": "code",
   "execution_count": 1,
   "id": "078d7499-52f8-4d59-8030-bdeb6d797c98",
   "metadata": {},
   "outputs": [
    {
     "name": "stdin",
     "output_type": "stream",
     "text": [
      "Enter a number:  37\n"
     ]
    },
    {
     "name": "stdout",
     "output_type": "stream",
     "text": [
      "37 is a prime number.\n"
     ]
    }
   ],
   "source": [
    "# Function to check if a number is prime\n",
    "def is_prime(number):\n",
    "    # Check if the number is less than 2\n",
    "    if number < 2:\n",
    "        return False\n",
    "    # Check for factors from 2 to the square root of the number\n",
    "    for i in range(2, int(number**0.5) + 1):\n",
    "        # If the number is divisible by any other number, it's not prime\n",
    "        if number % i == 0:\n",
    "            return False\n",
    "    # If no factors are found, the number is prime\n",
    "    else:\n",
    "        return True\n",
    "\n",
    "# Example usage\n",
    "user_input = int(input(\"Enter a number: \"))\n",
    "\n",
    "if is_prime(user_input):\n",
    "    print(\"{} is a prime number.\".format(user_input))\n",
    "else:\n",
    "    print(\"{} is not a prime number.\".format(user_input))\n"
   ]
  },
  {
   "cell_type": "raw",
   "id": "7d60e397-2bae-4397-8b92-27474243eaa8",
   "metadata": {},
   "source": [
    "Elif Statements:"
   ]
  },
  {
   "cell_type": "code",
   "execution_count": 1,
   "id": "3673f506-bde5-4cbc-83cc-7174333e8e38",
   "metadata": {},
   "outputs": [],
   "source": [
    "#21. Write a Python program to assign grades based on different ranges of scores using elif statements."
   ]
  },
  {
   "cell_type": "code",
   "execution_count": 13,
   "id": "9bec9cee-a92e-420b-b8a3-091be89a4e12",
   "metadata": {},
   "outputs": [
    {
     "name": "stdin",
     "output_type": "stream",
     "text": [
      "Enter the score 88\n"
     ]
    },
    {
     "name": "stdout",
     "output_type": "stream",
     "text": [
      "B\n"
     ]
    }
   ],
   "source": [
    "try:\n",
    "    #taking score as an input to assign grade according to it\n",
    "    score=int(input(\"Enter the score\"))\n",
    "    if 0<=score<=100:\n",
    "        \n",
    "        #assigning grades according to score\n",
    "        if score>=90:\n",
    "            print(\"A\")\n",
    "        elif score>=80:\n",
    "            print(\"B\")\n",
    "        elif score>=70:\n",
    "            print(\"C\")\n",
    "        elif score>=60:\n",
    "            print(\"D\")\n",
    "        else:\n",
    "            print(\"F\")\n",
    "    else:\n",
    "        print(\"score not in range\")\n",
    "except:\n",
    "    print(\"incorrect value\")"
   ]
  },
  {
   "cell_type": "code",
   "execution_count": 14,
   "id": "e251a105-b4e5-4a30-98b4-80d873637952",
   "metadata": {},
   "outputs": [],
   "source": [
    "#22. Implement a program to determine the type of a triangle based on its angles."
   ]
  },
  {
   "cell_type": "code",
   "execution_count": 4,
   "id": "313ddead-fdb5-4a02-8f15-39044b4835ab",
   "metadata": {},
   "outputs": [
    {
     "name": "stdin",
     "output_type": "stream",
     "text": [
      "first angle:  30\n",
      "second angle:  60\n",
      "third angle:  90\n"
     ]
    },
    {
     "name": "stdout",
     "output_type": "stream",
     "text": [
      "The triangle is a: Right-angled Triangle\n"
     ]
    }
   ],
   "source": [
    "def triangle_type(angle1, angle2, angle3):\n",
    "    angles = [angle1, angle2, angle3]\n",
    "\n",
    "    # Check if the angles form a valid triangle\n",
    "    if sum(angles) == 180:\n",
    "        if 0 in angles or any(a < 0 for a in angles):\n",
    "            return \"angles must be positive and non-zero\"\n",
    "\n",
    "        # Check the type of the triangle\n",
    "        if all(angle == 60 for angle in angles):\n",
    "            return \"Equilateral Triangle\"\n",
    "        elif any(angle == 90 for angle in angles):\n",
    "            return \"Right-angled Triangle\"\n",
    "        else:\n",
    "            return \"Scalene Triangle\" if len(set(angles)) == 3 else \"Isosceles Triangle\"\n",
    "    else:\n",
    "        return \"Invalid triangle\"\n",
    "\n",
    "# Example usage:\n",
    "try:\n",
    "    angle1 = int(input(\"first angle: \"))\n",
    "    angle2 = int(input(\"second angle: \"))\n",
    "    angle3 = int(input(\"third angle: \"))\n",
    "\n",
    "    result = triangle_type(angle1, angle2, angle3)\n",
    "    print(f\"The triangle is a: {result}\")\n",
    "except ValueError:\n",
    "    print(\"Invalid input!\")\n"
   ]
  },
  {
   "cell_type": "code",
   "execution_count": 6,
   "id": "42054ab7-3afe-4dbf-b726-16590366f096",
   "metadata": {},
   "outputs": [
    {
     "data": {
      "text/plain": [
       "\"23. Develop a program to categorize a given person's BMI into underweight, normal, overweight, or obese using\\nelif statements.\""
      ]
     },
     "execution_count": 6,
     "metadata": {},
     "output_type": "execute_result"
    }
   ],
   "source": [
    "\"\"\"23. Develop a program to categorize a given person's BMI into underweight, normal, overweight, or obese using\n",
    "elif statements.\"\"\""
   ]
  },
  {
   "cell_type": "code",
   "execution_count": 5,
   "id": "21179853-a54b-4d73-a553-f0ce4b12be23",
   "metadata": {},
   "outputs": [
    {
     "name": "stdin",
     "output_type": "stream",
     "text": [
      "Enter the weight in kilograms:  85\n",
      "Enter the height in meters:  1.85\n"
     ]
    },
    {
     "name": "stdout",
     "output_type": "stream",
     "text": [
      "The person's BMI is: 24.84\n",
      "The BMI category is: Normal weight\n"
     ]
    }
   ],
   "source": [
    "def calculate_bmi(weight_kg, height_m):\n",
    "    bmi = weight_kg / (height_m ** 2)\n",
    "    return bmi\n",
    "\n",
    "def categorize_bmi(bmi):\n",
    "    if bmi < 18.5:\n",
    "        category = \"Underweight\"\n",
    "    elif 18.5 <= bmi < 25:\n",
    "        category = \"Normal weight\"\n",
    "    elif 25 <= bmi < 30:\n",
    "        category = \"Overweight\"\n",
    "    else:\n",
    "        category = \"Obese\"\n",
    "\n",
    "    return category\n",
    "\n",
    "# Example usage:\n",
    "try:\n",
    "    weight = float(input(\"Enter the weight in kilograms: \"))\n",
    "    height = float(input(\"Enter the height in meters: \"))\n",
    "\n",
    "    if weight > 0 and height > 0:\n",
    "        bmi = calculate_bmi(weight, height)\n",
    "        category = categorize_bmi(bmi)\n",
    "\n",
    "        print(f\"The person's BMI is: {bmi:.2f}\")\n",
    "        print(f\"The BMI category is: {category}\")\n",
    "    else:\n",
    "        print(\"enter positive values for weight and height.\")\n",
    "except ValueError:\n",
    "    print(\"Invalid input!\")\n"
   ]
  },
  {
   "cell_type": "code",
   "execution_count": 6,
   "id": "9cb2702b-78a7-46a9-8668-e31d289e9a79",
   "metadata": {},
   "outputs": [
    {
     "data": {
      "text/plain": [
       "'24. Create a program that determines whether a given number is positive, negative, or zero using elif\\nstatements.'"
      ]
     },
     "execution_count": 6,
     "metadata": {},
     "output_type": "execute_result"
    }
   ],
   "source": [
    "\"\"\"24. Create a program that determines whether a given number is positive, negative, or zero using elif\n",
    "statements.\"\"\""
   ]
  },
  {
   "cell_type": "code",
   "execution_count": 18,
   "id": "c3bd9057-6f2d-4e85-bf69-c3fba871a799",
   "metadata": {},
   "outputs": [
    {
     "name": "stdin",
     "output_type": "stream",
     "text": [
      "Enter the number:  3\n"
     ]
    },
    {
     "data": {
      "text/plain": [
       "'Positive'"
      ]
     },
     "execution_count": 18,
     "metadata": {},
     "output_type": "execute_result"
    }
   ],
   "source": [
    "def num(n):\n",
    "    if n==0:\n",
    "        return \"Zero\"\n",
    "    elif n<0:\n",
    "        return \"Negative\"\n",
    "    else:\n",
    "        return \"Positive\"\n",
    "    \n",
    "n=int(input(\"Enter the number: \"))\n",
    "result=num(n)\n",
    "result\n",
    "    \n"
   ]
  },
  {
   "cell_type": "code",
   "execution_count": 16,
   "id": "1cfa396a-eed8-44eb-8484-4cb8f2103872",
   "metadata": {},
   "outputs": [
    {
     "data": {
      "text/plain": [
       "'25. Write a Python script to determine the type of a character (uppercase, lowercase, or special) using elif\\nstatements.'"
      ]
     },
     "execution_count": 16,
     "metadata": {},
     "output_type": "execute_result"
    }
   ],
   "source": [
    "\"\"\"25. Write a Python script to determine the type of a character (uppercase, lowercase, or special) using elif\n",
    "statements.\"\"\""
   ]
  },
  {
   "cell_type": "code",
   "execution_count": 6,
   "id": "8376b2cb-510f-4610-84d9-132471d6357e",
   "metadata": {},
   "outputs": [
    {
     "name": "stdin",
     "output_type": "stream",
     "text": [
      "Enter a character:  g\n"
     ]
    },
    {
     "name": "stdout",
     "output_type": "stream",
     "text": [
      "The character is: Lowercase\n"
     ]
    }
   ],
   "source": [
    "def char_type(character):\n",
    "    if character.isupper():\n",
    "        return \"Uppercase\"\n",
    "    elif character.islower():\n",
    "        return \"Lowercase\"\n",
    "    else:\n",
    "        return \"Special character\"\n",
    "\n",
    "# Example usage:\n",
    "try:\n",
    "    user_input = input(\"Enter a character: \")\n",
    "\n",
    "    if len(user_input) == 1:\n",
    "        result = char_type(user_input)\n",
    "        print(f\"The character is: {result}\")\n",
    "    else:\n",
    "        print(\"Please enter a single character.\")\n",
    "except ValueError:\n",
    "    print(\"Invalid input!\")\n"
   ]
  },
  {
   "cell_type": "code",
   "execution_count": 18,
   "id": "f1f725d0-c442-4838-afa7-c5234b4dd6ca",
   "metadata": {},
   "outputs": [
    {
     "data": {
      "text/plain": [
       "'26. Implement a program to calculate the discounted price based on different purchase amounts using elif\\nstatements.'"
      ]
     },
     "execution_count": 18,
     "metadata": {},
     "output_type": "execute_result"
    }
   ],
   "source": [
    "\"\"\"26. Implement a program to calculate the discounted price based on different purchase amounts using elif\n",
    "statements.\"\"\""
   ]
  },
  {
   "cell_type": "code",
   "execution_count": 4,
   "id": "f38e18c3-0d67-4a15-988d-519c224d66f9",
   "metadata": {},
   "outputs": [
    {
     "name": "stdin",
     "output_type": "stream",
     "text": [
      "Enter the purchase amount:  1500\n"
     ]
    },
    {
     "name": "stdout",
     "output_type": "stream",
     "text": [
      "discounted price is: Rupees 1275.00\n"
     ]
    }
   ],
   "source": [
    "def calculate_discounted_price(purch_amount):\n",
    "    if purch_amount < 100:\n",
    "        disc_perc = 0\n",
    "    elif purch_amount < 500:\n",
    "        disc_perc = 5\n",
    "    elif purch_amount < 1000:\n",
    "        disc_perc = 10\n",
    "    else:\n",
    "        disc_perc = 15\n",
    "\n",
    "    disc_amount = (disc_perc / 100) * purch_amount\n",
    "    discounted_price = purch_amount - disc_amount\n",
    "\n",
    "    return discounted_price\n",
    "\n",
    "# Example usage:\n",
    "try:\n",
    "    purchase_amount = int(input(\"Enter the purchase amount: \"))\n",
    "    \n",
    "    if purchase_amount >= 0:\n",
    "        result = calculate_discounted_price(purchase_amount)\n",
    "        print(f\"discounted price is: Rupees {result:.2f}\")\n",
    "    else:\n",
    "        print(\"enter a non-negative purchase amount.\")\n",
    "except ValueError:\n",
    "    print(\"Invalid input!\")\n"
   ]
  },
  {
   "cell_type": "code",
   "execution_count": 26,
   "id": "a0073506-92bc-4efd-90c0-ff14f60d5065",
   "metadata": {},
   "outputs": [
    {
     "data": {
      "text/plain": [
       "'27. Develop a program to calculate the electricity bill based on different consumption slabs using elif\\nstatements.'"
      ]
     },
     "execution_count": 26,
     "metadata": {},
     "output_type": "execute_result"
    }
   ],
   "source": [
    "\"\"\"27. Develop a program to calculate the electricity bill based on different consumption slabs using elif\n",
    "statements.\"\"\""
   ]
  },
  {
   "cell_type": "code",
   "execution_count": 6,
   "id": "05111dba-07fd-4a0b-ab9d-fa52ac02db1d",
   "metadata": {},
   "outputs": [
    {
     "name": "stdin",
     "output_type": "stream",
     "text": [
      "number of units:  77\n"
     ]
    },
    {
     "name": "stdout",
     "output_type": "stream",
     "text": [
      "electricity bill is: Rupees 346.50\n"
     ]
    }
   ],
   "source": [
    "def calculate_electricity_bill(units_consumed):\n",
    "    if units_consumed <= 50:\n",
    "# First slab: 50 units or less\n",
    "        bill_amount = units_consumed * 2.5\n",
    "    elif units_consumed <= 150:\n",
    "# Second slab: 51 to 150 units\n",
    "        bill_amount = units_consumed * 4.5\n",
    "    elif units_consumed <= 250:\n",
    "# Third slab: 151 to 250 units\n",
    "        bill_amount = units_consumed * 6\n",
    "    else:\n",
    "# Fourth slab: More than 250 units\n",
    "        bill_amount = units_consumed * 7.5\n",
    "\n",
    "    return bill_amount\n",
    "\n",
    "# Example usage:\n",
    "try:\n",
    "    units_consumed = int(input(\"number of units: \"))\n",
    "    \n",
    "    if units_consumed >= 0:\n",
    "        result = calculate_electricity_bill(units_consumed)\n",
    "        print(f\"electricity bill is: Rupees {result:.2f}\")\n",
    "    else:\n",
    "        print(\"Invalid input!\")\n",
    "except ValueError:\n",
    "    print(\"Invalid input!\")\n"
   ]
  },
  {
   "cell_type": "code",
   "execution_count": 29,
   "id": "ce055070-1d2c-424f-aa9a-2eee1d73ba57",
   "metadata": {},
   "outputs": [
    {
     "data": {
      "text/plain": [
       "'28. Create a program to determine the type of quadrilateral based on its angles and sides using elif\\nstatements.'"
      ]
     },
     "execution_count": 29,
     "metadata": {},
     "output_type": "execute_result"
    }
   ],
   "source": [
    "\"\"\"28. Create a program to determine the type of quadrilateral based on its angles and sides using elif\n",
    "statements.\"\"\""
   ]
  },
  {
   "cell_type": "code",
   "execution_count": 7,
   "id": "2debebf1-3d02-4c2d-b869-0dbc49bb6eb2",
   "metadata": {},
   "outputs": [
    {
     "name": "stdout",
     "output_type": "stream",
     "text": [
      "type of quadrilateral is: Rectangle\n"
     ]
    }
   ],
   "source": [
    "def identify_quadrilateral(sides, angles):\n",
    "    if len(sides) == 4 and len(angles) == 4:\n",
    "        if all(angle == 90 for angle in angles):\n",
    "            return \"Rectangle\"\n",
    "        elif angles[0] == angles[2] and angles[1] == angles[3] and sides[0] == sides[2] and sides[1] == sides[3]:\n",
    "            return \"Square\"\n",
    "        elif angles[0] == angles[2] and angles[1] == angles[3]:\n",
    "            return \"Parallelogram\"\n",
    "        else:\n",
    "            return \"Quadrilateral\"\n",
    "    else:\n",
    "        return \"Invalid input\"\n",
    "\n",
    "# Example usage:\n",
    "try:\n",
    "    sides = [4, 4, 6, 6]\n",
    "    angles = [90, 90, 90, 90]\n",
    "\n",
    "    result = identify_quadrilateral(sides, angles)\n",
    "    print(f\"type of quadrilateral is: {result}\")\n",
    "except ValueError:\n",
    "    print(\"Invalid input\")\n"
   ]
  },
  {
   "cell_type": "code",
   "execution_count": 31,
   "id": "52e4abde-32a7-4412-840f-afd68b7aa80b",
   "metadata": {},
   "outputs": [],
   "source": [
    "#29. Write a Python script to determine the season based on a user-provided month using elif statements."
   ]
  },
  {
   "cell_type": "code",
   "execution_count": 8,
   "id": "b0b3131a-5667-47e3-8419-6f1402e3d9a0",
   "metadata": {},
   "outputs": [
    {
     "name": "stdin",
     "output_type": "stream",
     "text": [
      "Enter a month (1-12):  6\n"
     ]
    },
    {
     "name": "stdout",
     "output_type": "stream",
     "text": [
      "Summer\n"
     ]
    }
   ],
   "source": [
    "\n",
    "user_month = int(input(\"Enter a month (1-12): \"))\n",
    "    \n",
    "if 1 <= user_month <= 12:\n",
    "    if user_month in [12, 1, 2]:\n",
    "        print(\"Winter\")\n",
    "    elif user_month in [3, 4, 5]:\n",
    "        print(\"Spring\")\n",
    "    elif user_month in [6, 7, 8]:\n",
    "        print(\"Summer\")\n",
    "    elif user_month in [9, 10, 11]:\n",
    "        print(\"Fall\")\n",
    "else:\n",
    "    print(\"enter a month between 1 and 12.\")\n"
   ]
  },
  {
   "cell_type": "code",
   "execution_count": 40,
   "id": "bd61a13d-bc0f-43c9-af3f-09376a6804f4",
   "metadata": {},
   "outputs": [
    {
     "data": {
      "text/plain": [
       "'30. Implement a program to determine the type of a year (leap or common) and month (30 or 31 days) using\\nelif statements.'"
      ]
     },
     "execution_count": 40,
     "metadata": {},
     "output_type": "execute_result"
    }
   ],
   "source": [
    "\"\"\"30. Implement a program to determine the type of a year (leap or common) and month (30 or 31 days) using\n",
    "elif statements.\"\"\""
   ]
  },
  {
   "cell_type": "code",
   "execution_count": 9,
   "id": "a139c5d8-904a-4e77-a254-c4d2a74f82c6",
   "metadata": {},
   "outputs": [
    {
     "name": "stdin",
     "output_type": "stream",
     "text": [
      "Enter a year:  2024\n",
      "Enter a month (1-12):  4\n"
     ]
    },
    {
     "name": "stdout",
     "output_type": "stream",
     "text": [
      "The year 2024 is a leap year.\n",
      "The month 4 has 30 days.\n"
     ]
    }
   ],
   "source": [
    "def is_leap_year(year):\n",
    " # Leap years are divisible by 4, except for years divisible by 100 unless they are divisible by 400\n",
    "    return (year % 4 == 0 and year % 100 != 0) or (year % 400 == 0)\n",
    "\n",
    "def days_in_month(year, month):\n",
    "    if month in [1, 3, 5, 7, 8, 10, 12]:\n",
    "        return 31\n",
    "    elif month in [4, 6, 9, 11]:\n",
    "        return 30\n",
    "    elif month == 2:\n",
    "        return 29 if is_leap_year(year) else 28\n",
    "    else:\n",
    "        return -1  # Invalid month\n",
    "\n",
    "# Example usage:\n",
    "try:\n",
    "    user_year = int(input(\"Enter a year: \"))\n",
    "    user_month = int(input(\"Enter a month (1-12): \"))\n",
    "    \n",
    "    if 1 <= user_month <= 12:\n",
    "        leap_year_type = \"leap\" if is_leap_year(user_year) else \"common\"\n",
    "        month_days = days_in_month(user_year, user_month)\n",
    "\n",
    "        if month_days == -1:\n",
    "            print(\"Invalid month! Please enter a month between 1 and 12.\")\n",
    "        else:\n",
    "            print(f\"The year {user_year} is a {leap_year_type} year.\")\n",
    "            print(f\"The month {user_month} has {month_days} days.\")\n",
    "    else:\n",
    "        print(\"enter a month between 1 and 12.\")\n",
    "except ValueError:\n",
    "    print(\"Invalid input\")\n"
   ]
  },
  {
   "cell_type": "code",
   "execution_count": null,
   "id": "0f81feb6-fb6a-4033-bf4a-9e9309f17c37",
   "metadata": {},
   "outputs": [],
   "source": []
  },
  {
   "cell_type": "raw",
   "id": "b17a38ca-6a34-40c7-825c-d5187dc7bfaf",
   "metadata": {},
   "source": [
    "BASIC LEVEL"
   ]
  },
  {
   "cell_type": "code",
   "execution_count": 12,
   "id": "5b6a8abb-82bc-4974-accf-122e7f085ffd",
   "metadata": {},
   "outputs": [],
   "source": [
    "#1. Write a Python program that checks if a given number is positive, negative, or zero."
   ]
  },
  {
   "cell_type": "code",
   "execution_count": 24,
   "id": "b915ca04-4c7d-44b5-9f14-4312ae16f6bb",
   "metadata": {},
   "outputs": [
    {
     "name": "stdin",
     "output_type": "stream",
     "text": [
      "Enter the number:  0\n"
     ]
    },
    {
     "data": {
      "text/plain": [
       "'Zero'"
      ]
     },
     "execution_count": 24,
     "metadata": {},
     "output_type": "execute_result"
    }
   ],
   "source": [
    "def num(n):\n",
    "    if n==0:\n",
    "        return \"Zero\"\n",
    "    elif n<0:\n",
    "        return \"Negative\"\n",
    "    else:\n",
    "        return \"Positive\"\n",
    "   \n",
    "n=int(input(\"Enter the number: \"))\n",
    "result=num(n)\n",
    "result"
   ]
  },
  {
   "cell_type": "code",
   "execution_count": 25,
   "id": "4b8ee132-750e-4334-a83a-8b7c2d7de158",
   "metadata": {},
   "outputs": [],
   "source": [
    "#2. Create a program to determine if a person is eligible to vote based on their age."
   ]
  },
  {
   "cell_type": "code",
   "execution_count": 10,
   "id": "eae0b618-d927-430c-81c8-6f2ddf97e2c0",
   "metadata": {},
   "outputs": [
    {
     "name": "stdin",
     "output_type": "stream",
     "text": [
      "enter the age  19\n"
     ]
    },
    {
     "name": "stdout",
     "output_type": "stream",
     "text": [
      "eligible\n"
     ]
    }
   ],
   "source": [
    "\n",
    "try:\n",
    "    age=int(input(\"enter the age \"))\n",
    "    if age>17:\n",
    "        print(\"eligible\")\n",
    "    else:\n",
    "        print(\"not eligible\")\n",
    "except ValueError:\n",
    "    print(\"enter age correctly\")"
   ]
  },
  {
   "cell_type": "code",
   "execution_count": 11,
   "id": "cae4bded-4a12-4236-8726-d9ae079288bd",
   "metadata": {},
   "outputs": [],
   "source": [
    "#3. Write a program to find the maximum of two given numbers using conditional statements."
   ]
  },
  {
   "cell_type": "code",
   "execution_count": 20,
   "id": "251fa8ab-9072-44c6-85b0-145a1ceacef4",
   "metadata": {},
   "outputs": [
    {
     "name": "stdin",
     "output_type": "stream",
     "text": [
      "enter two numbers 23 34\n"
     ]
    },
    {
     "name": "stdout",
     "output_type": "stream",
     "text": [
      "34 is bigger\n"
     ]
    }
   ],
   "source": [
    "a,b=input(\"enter two numbers\").split()\n",
    "if a>b:\n",
    "    print(a, \" is bigger\")\n",
    "elif b>a:\n",
    "    print(b, \"is bigger\")\n",
    "else:\n",
    "    print(\"both numbers are same\")\n"
   ]
  },
  {
   "cell_type": "code",
   "execution_count": 21,
   "id": "5c079064-e9bf-4a5f-b6e8-65a51766715a",
   "metadata": {},
   "outputs": [],
   "source": [
    "#4. Develop a program that calculates the grade of a student based on their exam score."
   ]
  },
  {
   "cell_type": "code",
   "execution_count": 23,
   "id": "ee43e2d0-0ccf-4233-b028-448009088d3d",
   "metadata": {},
   "outputs": [
    {
     "name": "stdin",
     "output_type": "stream",
     "text": [
      "Enter the score 34\n"
     ]
    },
    {
     "name": "stdout",
     "output_type": "stream",
     "text": [
      "F\n"
     ]
    }
   ],
   "source": [
    "try:\n",
    "    score=int(input(\"Enter the score\"))\n",
    "    if 0<=score<=100:\n",
    "        \n",
    "        \n",
    "        if score>=90:\n",
    "            print(\"A\")\n",
    "        elif score>=80:\n",
    "            print(\"B\")\n",
    "        elif score>=70:\n",
    "            print(\"C\")\n",
    "        elif score>=60:\n",
    "            print(\"D\")\n",
    "        else:\n",
    "            print(\"F\")\n",
    "    else:\n",
    "        print(\"score not in range\")\n",
    "except:\n",
    "    print(\"incorrect value\")"
   ]
  },
  {
   "cell_type": "code",
   "execution_count": 24,
   "id": "74ba9ccc-bce2-4565-85c8-32997a0d8c87",
   "metadata": {},
   "outputs": [],
   "source": [
    "#5. Create a program that checks if a year is a leap year or not."
   ]
  },
  {
   "cell_type": "code",
   "execution_count": 26,
   "id": "04382c18-d45f-41e9-a993-d050fad7f92a",
   "metadata": {},
   "outputs": [
    {
     "name": "stdin",
     "output_type": "stream",
     "text": [
      "enter the year 2024\n"
     ]
    },
    {
     "name": "stdout",
     "output_type": "stream",
     "text": [
      "leap year\n"
     ]
    }
   ],
   "source": [
    "year=int(input(\"enter the year\"))\n",
    "if (year%4==0 and year%100!=0) or (year%400==0):\n",
    "    print(\"leap year\")\n",
    "else:\n",
    "    print(\"not a leap year\")"
   ]
  },
  {
   "cell_type": "code",
   "execution_count": 27,
   "id": "6728e10d-bec8-4ee2-bc8b-321313f39ecd",
   "metadata": {},
   "outputs": [],
   "source": [
    "#6. Write a program to classify a triangle based on its sides' lengths."
   ]
  },
  {
   "cell_type": "code",
   "execution_count": 10,
   "id": "bc3e519c-4248-4aa9-8dec-aebdee0b0a1c",
   "metadata": {},
   "outputs": [
    {
     "name": "stdin",
     "output_type": "stream",
     "text": [
      "length of the first side:  5\n",
      "length of the second side:  5\n",
      "length of the third side:  7\n"
     ]
    },
    {
     "name": "stdout",
     "output_type": "stream",
     "text": [
      "Isosceles triangle\n"
     ]
    }
   ],
   "source": [
    "try:\n",
    "    side1 = int(input(\"length of the first side: \"))\n",
    "    side2 = int(input(\"length of the second side: \"))\n",
    "    side3 = int(input(\"length of the third side: \"))\n",
    "\n",
    "    if side1 <= 0 or side2 <= 0 or side3 <= 0:\n",
    "        print(\"Error\")\n",
    "    else:\n",
    "        if side1 == side2 == side3:\n",
    "            print(\"Equilateral triangle\")\n",
    "        elif side1 == side2 or side1 == side3 or side2 == side3:\n",
    "            print(\"Isosceles triangle\")\n",
    "        else:\n",
    "            print(\"Scalene triangle\")\n",
    "except ValueError:\n",
    "    print(\"enter valid numerical values for the side lengths.\")\n"
   ]
  },
  {
   "cell_type": "code",
   "execution_count": 2,
   "id": "e9e3488d-8d7e-4635-934a-c84694240ebd",
   "metadata": {},
   "outputs": [],
   "source": [
    "#7. Build a program that determines the largest of three given numbers."
   ]
  },
  {
   "cell_type": "code",
   "execution_count": 12,
   "id": "1461e5a8-8108-48a2-b101-a85fb795b9c3",
   "metadata": {},
   "outputs": [
    {
     "name": "stdin",
     "output_type": "stream",
     "text": [
      "first num:  7\n",
      "second num:  5\n",
      "third num:  9\n"
     ]
    },
    {
     "name": "stdout",
     "output_type": "stream",
     "text": [
      "largest num is: 9\n"
     ]
    }
   ],
   "source": [
    "try:\n",
    "    num1 = int(input(\"first num: \"))\n",
    "    num2 = int(input(\"second num: \"))\n",
    "    num3 = int(input(\"third num: \"))\n",
    "\n",
    "    if num1 >= num2 and num1 >= num3:\n",
    "        largest_number = number1\n",
    "    elif num2 >= num1 and num2 >= num3:\n",
    "        largest_number = num2\n",
    "    else:\n",
    "        largest_number = num3\n",
    "\n",
    "    print(f\"largest num is: {largest_number}\")\n",
    "except ValueError:\n",
    "    print(\"Error\")\n"
   ]
  },
  {
   "cell_type": "code",
   "execution_count": 2,
   "id": "dc8f0eef-24b6-4b44-98ca-3415e088e29d",
   "metadata": {},
   "outputs": [],
   "source": [
    "#8. Develop a program that checks whether a character is a vowel or a consonant."
   ]
  },
  {
   "cell_type": "code",
   "execution_count": 3,
   "id": "9c816314-3826-4617-ac39-9b76e2ed73f9",
   "metadata": {},
   "outputs": [
    {
     "name": "stdin",
     "output_type": "stream",
     "text": [
      " e\n"
     ]
    },
    {
     "name": "stdout",
     "output_type": "stream",
     "text": [
      "vowel\n"
     ]
    }
   ],
   "source": [
    "char=input()\n",
    "if char=='a' or char=='e' or char=='i' or char=='o' or char=='u':\n",
    "    print(\"vowel\")\n",
    "else:\n",
    "    print(\"consonent\")"
   ]
  },
  {
   "cell_type": "code",
   "execution_count": 4,
   "id": "251721e0-4073-4c7d-ace1-c0923a57aab8",
   "metadata": {},
   "outputs": [],
   "source": [
    "#9. Create a program to calculate the total cost of a shopping cart based on discounts."
   ]
  },
  {
   "cell_type": "code",
   "execution_count": 7,
   "id": "0d77ecbd-001b-4e5f-8652-386f6affb077",
   "metadata": {},
   "outputs": [
    {
     "name": "stdin",
     "output_type": "stream",
     "text": [
      "Enter the price of the item: $ 500\n",
      "Enter the quantity of the item:  4\n",
      "Enter the discount rate (in decimal form, e.g., 0.1 for 10%):  0.1\n"
     ]
    },
    {
     "name": "stdout",
     "output_type": "stream",
     "text": [
      "The total cost after applying the discount is: $1800.00\n"
     ]
    }
   ],
   "source": [
    "def discounted_price(price, quantity, discount_rate):\n",
    "    return price * quantity * (1 - discount_rate)\n",
    "\n",
    "try:\n",
    "    item_price = int(input(\"price of the item: \"))\n",
    "    quantity = int(input(\"quantity: \"))\n",
    "    discount_rate = int(input(\"Enter the discount rate (in decimal form, e.g., 0.1 for 10%): \"))\n",
    "\n",
    "    if item_price < 0 or quantity < 0 or discount_rate < 0 or discount_rate >= 1:\n",
    "        print(\"Error: Invalid input. Please enter valid values.\")\n",
    "    else:\n",
    "        total_cost = discounted_price(item_price, quantity, discount_rate)\n",
    "        print(f\"The total cost after applying the discount is: ${total_cost:.2f}\")\n",
    "except ValueError:\n",
    "    print(\"Error: Please enter valid numerical values.\")\n"
   ]
  },
  {
   "cell_type": "code",
   "execution_count": 11,
   "id": "02801029-77cc-4a94-bebb-63b110c4ca3a",
   "metadata": {},
   "outputs": [],
   "source": [
    "#10. Write a program that checks if a given number is even or odd."
   ]
  },
  {
   "cell_type": "code",
   "execution_count": 12,
   "id": "0245a5e4-6520-4adf-87f0-fb97a08014fb",
   "metadata": {},
   "outputs": [
    {
     "name": "stdin",
     "output_type": "stream",
     "text": [
      " 5\n"
     ]
    },
    {
     "name": "stdout",
     "output_type": "stream",
     "text": [
      "odd\n"
     ]
    }
   ],
   "source": [
    "num=int(input())\n",
    "if num%2==0:\n",
    "    print(\"even\")\n",
    "else:\n",
    "    print(\"odd\")"
   ]
  },
  {
   "cell_type": "code",
   "execution_count": 13,
   "id": "36a0ef47-ac8e-43d2-a4c7-8276450bceba",
   "metadata": {},
   "outputs": [],
   "source": [
    "#Intermediate Level:"
   ]
  },
  {
   "cell_type": "code",
   "execution_count": 14,
   "id": "03138eb6-6f07-4c8d-9af4-a6160468ae2b",
   "metadata": {},
   "outputs": [],
   "source": [
    "#11. Write a program that calculates the roots of a quadratic equation ."
   ]
  },
  {
   "cell_type": "code",
   "execution_count": 1,
   "id": "a680fe26-f072-4024-9cdc-a1a574592eea",
   "metadata": {},
   "outputs": [
    {
     "name": "stdin",
     "output_type": "stream",
     "text": [
      "Enter the coefficient of x^2 (a):  1\n",
      "Enter the coefficient of x (b):  5\n",
      "Enter the constant term (c):  6\n"
     ]
    },
    {
     "name": "stdout",
     "output_type": "stream",
     "text": [
      "The roots of the quadratic equation are: (-2.0, -3.0)\n"
     ]
    }
   ],
   "source": [
    "import math\n",
    "\n",
    "def calculate_roots(a, b, c):\n",
    "    # Calculate the discriminant\n",
    "    discriminant = b**2 - 4*a*c\n",
    "\n",
    "    # Check if the discriminant is non-negative\n",
    "    if discriminant >= 0:\n",
    "        # Calculate the roots\n",
    "        root1 = (-b + math.sqrt(discriminant)) / (2*a)\n",
    "        root2 = (-b - math.sqrt(discriminant)) / (2*a)\n",
    "        return root1, root2\n",
    "    else:\n",
    "        # If discriminant is negative, roots are complex\n",
    "        real_part = -b / (2*a)\n",
    "        imaginary_part = math.sqrt(abs(discriminant)) / (2*a)\n",
    "        root1 = complex(real_part, imaginary_part)\n",
    "        root2 = complex(real_part, -imaginary_part)\n",
    "        return root1, root2\n",
    "\n",
    "try:\n",
    "    a = float(input(\"Enter the coefficient of x^2 (a): \"))\n",
    "    b = float(input(\"Enter the coefficient of x (b): \"))\n",
    "    c = float(input(\"Enter the constant term (c): \"))\n",
    "\n",
    "    roots = calculate_roots(a, b, c)\n",
    "    print(f\"The roots of the quadratic equation are: {roots}\")\n",
    "except ValueError:\n",
    "    print(\"Error: Please enter valid numerical values.\")\n"
   ]
  },
  {
   "cell_type": "code",
   "execution_count": null,
   "id": "fe82d678-e556-41d5-bf28-fddb313d57ed",
   "metadata": {},
   "outputs": [],
   "source": [
    "#12. Create a program that determines the day of the week based on the day number (1-7)."
   ]
  },
  {
   "cell_type": "code",
   "execution_count": 21,
   "id": "3163d89c-5c9e-4da2-a643-6beae5650733",
   "metadata": {},
   "outputs": [
    {
     "name": "stdin",
     "output_type": "stream",
     "text": [
      "Enter the day number (1-7):  5\n"
     ]
    },
    {
     "name": "stdout",
     "output_type": "stream",
     "text": [
      "The day of the week is: Friday\n"
     ]
    }
   ],
   "source": [
    "def get_day_of_week(day_number):\n",
    "    days_of_week = [\"Monday\", \"Tuesday\", \"Wednesday\", \"Thursday\", \"Friday\", \"Saturday\", \"Sunday\"]\n",
    "\n",
    "    if 1 <= day_number <= 7:\n",
    "        return days_of_week[day_number - 1]\n",
    "    else:\n",
    "        return \"Invalid day number\"\n",
    "\n",
    "try:\n",
    "    day_number = int(input(\"Enter the day number (1-7): \"))\n",
    "    day_name = get_day_of_week(day_number)\n",
    "    print(f\"The day of the week is: {day_name}\")\n",
    "except ValueError:\n",
    "    print(\"Error: Please enter a valid integer between 1 and 7.\")\n"
   ]
  },
  {
   "cell_type": "code",
   "execution_count": 22,
   "id": "6737a85d-2223-430b-8dcc-3c0fe21f59d8",
   "metadata": {},
   "outputs": [],
   "source": [
    "#13. Develop a program that calculates the factorial of a given number using recursion."
   ]
  },
  {
   "cell_type": "code",
   "execution_count": 1,
   "id": "53d0919f-4ba1-41b2-a3c3-dcb87be05b58",
   "metadata": {},
   "outputs": [
    {
     "name": "stdin",
     "output_type": "stream",
     "text": [
      "Enter a non-negative integer to calculate its factorial:  5\n"
     ]
    },
    {
     "name": "stdout",
     "output_type": "stream",
     "text": [
      "The factorial of 5 is: 120\n"
     ]
    }
   ],
   "source": [
    "def calculate_factorial(n):\n",
    "    if n == 0 or n == 1:\n",
    "        return 1\n",
    "    else:\n",
    "        return n * calculate_factorial(n - 1)\n",
    "\n",
    "try:\n",
    "    number = int(input(\"Enter a non-negative integer to calculate its factorial: \"))\n",
    "    \n",
    "    if number < 0:\n",
    "        print(\"Error: Please enter a non-negative integer.\")\n",
    "    else:\n",
    "        factorial_result = calculate_factorial(number)\n",
    "        print(f\"The factorial of {number} is: {factorial_result}\")\n",
    "except ValueError:\n",
    "    print(\"Error: Please enter a valid integer.\")\n"
   ]
  },
  {
   "cell_type": "code",
   "execution_count": 2,
   "id": "a04dac7d-25be-477b-9302-05b2ba0a4c3e",
   "metadata": {},
   "outputs": [],
   "source": [
    "#14. Write a program to find the largest among three numbers without using the `max()` function."
   ]
  },
  {
   "cell_type": "code",
   "execution_count": 3,
   "id": "11dc9c43-f355-437d-b30f-1d5238e30e0e",
   "metadata": {},
   "outputs": [
    {
     "name": "stdin",
     "output_type": "stream",
     "text": [
      "enter three numbers 2 3 4\n"
     ]
    },
    {
     "name": "stdout",
     "output_type": "stream",
     "text": [
      "4  is greatest\n"
     ]
    }
   ],
   "source": [
    "a,b,c=input(\"enter three numbers\").split()\n",
    "if a>=b and a>=c:\n",
    "    print(a, \" is greatest\")\n",
    "elif b>=a and b>=c:\n",
    "    print(b,\" is greatest\")\n",
    "else:\n",
    "    print(c,\" is greatest\")"
   ]
  },
  {
   "cell_type": "code",
   "execution_count": 4,
   "id": "65c9dd06-e6e1-4298-82be-abee4343a205",
   "metadata": {},
   "outputs": [],
   "source": [
    "#15. Create a program that simulates a basic ATM transaction menu."
   ]
  },
  {
   "cell_type": "code",
   "execution_count": 22,
   "id": "6ab7868c-711c-4570-80ec-48b864f0cfd6",
   "metadata": {},
   "outputs": [
    {
     "name": "stdout",
     "output_type": "stream",
     "text": [
      "\n",
      "ATM Transaction Menu:\n",
      "1. Display Balance\n",
      "2. Deposit\n",
      "3. Withdraw\n",
      "4. Exit\n"
     ]
    },
    {
     "name": "stdin",
     "output_type": "stream",
     "text": [
      "Enter your choice (1-4):  s\n"
     ]
    },
    {
     "name": "stdout",
     "output_type": "stream",
     "text": [
      "Invalid choice. Please enter a number between 1 and 4.\n",
      "\n",
      "ATM Transaction Menu:\n",
      "1. Display Balance\n",
      "2. Deposit\n",
      "3. Withdraw\n",
      "4. Exit\n"
     ]
    },
    {
     "name": "stdin",
     "output_type": "stream",
     "text": [
      "Enter your choice (1-4):  4\n"
     ]
    },
    {
     "name": "stdout",
     "output_type": "stream",
     "text": [
      "Exiting ATM. Thank you for using our services!\n"
     ]
    }
   ],
   "source": [
    "def display_balance(balance):\n",
    "    print(f\"Your current balance is: {balance:.2f}\")\n",
    "\n",
    "def deposit(balance, amount):\n",
    "    balance += amount\n",
    "    print(f\"Deposit successful. Your new balance is: {balance:.2f}\")\n",
    "    return balance\n",
    "\n",
    "def withdraw(balance, amount):\n",
    "    if amount > balance:\n",
    "        print(\"Insufficient funds. Withdrawal failed.\")\n",
    "    else:\n",
    "        balance -= amount\n",
    "        print(f\"Withdrawal successful. Your new balance is: {balance:.2f}\")\n",
    "    return balance\n",
    "\n",
    "def main():\n",
    "    initial_balance = 10000.00  # Initial balance\n",
    "    current_balance = initial_balance\n",
    "\n",
    "    while True:\n",
    "        print(\"\\nATM Transaction Menu:\")\n",
    "        print(\"1. Display Balance\")\n",
    "        print(\"2. Deposit\")\n",
    "        print(\"3. Withdraw\")\n",
    "        \n",
    "        print(\"4. Exit\")\n",
    "\n",
    "        choice = input(\"Enter your choice (1-4): \")\n",
    "\n",
    "        if choice == \"1\":\n",
    "            display_balance(current_balance)\n",
    "        elif choice == \"2\":\n",
    "            try:\n",
    "                deposit_amount = float(input(\"Enter the deposit amount: \"))\n",
    "                current_balance = deposit(current_balance, deposit_amount)\n",
    "            except ValueError:\n",
    "                print(\"Error: Please enter a valid numerical value.\")\n",
    "        elif choice == \"3\":\n",
    "            try:\n",
    "                withdraw_amount = float(input(\"Enter the withdrawal amount: \"))\n",
    "                current_balance = withdraw(current_balance, withdraw_amount)\n",
    "            except ValueError:\n",
    "                print(\"Error: Please enter a valid numerical value.\")\n",
    "        elif choice == \"4\":\n",
    "            print(\"Exiting ATM. Thank you for using our services!\")\n",
    "            break\n",
    "        else:\n",
    "            print(\"Invalid choice. Please enter a number between 1 and 4.\")\n",
    "\n",
    "if __name__ == \"__main__\":\n",
    "    main()\n",
    "\n",
    "    "
   ]
  },
  {
   "cell_type": "code",
   "execution_count": 14,
   "id": "5cd6ad43-7fb1-4b30-955e-28fbb3eb26d7",
   "metadata": {},
   "outputs": [],
   "source": [
    "#16. Build a program that checks if a given string is a palindrome or not."
   ]
  },
  {
   "cell_type": "code",
   "execution_count": 1,
   "id": "17c76c9d-ed9f-4678-9da2-e277493ad61c",
   "metadata": {},
   "outputs": [
    {
     "name": "stdout",
     "output_type": "stream",
     "text": [
      "palindrome\n"
     ]
    }
   ],
   "source": [
    "str=\"12121\"\n",
    "str2=str[::-1]\n",
    "if str==str2:\n",
    "    print(\"palindrome\")\n",
    "else:\n",
    "    print(\"not palindrome\")"
   ]
  },
  {
   "cell_type": "code",
   "execution_count": 2,
   "id": "4e5ed8a5-a51b-4899-baf4-4ed9700c328b",
   "metadata": {},
   "outputs": [],
   "source": [
    "#17. Write a program that calculates the average of a list of numbers, excluding the smallest and largest values."
   ]
  },
  {
   "cell_type": "code",
   "execution_count": 3,
   "id": "c9b9a3dd-afa6-463d-8a89-c698eb4379d9",
   "metadata": {},
   "outputs": [
    {
     "data": {
      "text/plain": [
       "3.0"
      ]
     },
     "execution_count": 3,
     "metadata": {},
     "output_type": "execute_result"
    }
   ],
   "source": [
    "l=[3,1,4,2,5]\n",
    "l1=sorted(l)\n",
    "l2=l1[1:-1]\n",
    "avg=sum(l2)/len(l2)\n",
    "avg"
   ]
  },
  {
   "cell_type": "code",
   "execution_count": 4,
   "id": "64c2d4b3-961e-4d44-804f-3be36fcc8fd3",
   "metadata": {},
   "outputs": [],
   "source": [
    "#18. Develop a program that converts a given temperature from Celsius to Fahrenheit."
   ]
  },
  {
   "cell_type": "code",
   "execution_count": 7,
   "id": "c952efd9-99ce-4e5b-99c1-d5dbe98f56aa",
   "metadata": {},
   "outputs": [
    {
     "name": "stdin",
     "output_type": "stream",
     "text": [
      "enter the temperature in celcius 37\n"
     ]
    },
    {
     "name": "stdout",
     "output_type": "stream",
     "text": [
      "temperature in farhenhiet is 98.6\n"
     ]
    }
   ],
   "source": [
    "temp_cel=int(input(\"enter the temperature in celcius\"))\n",
    "temp_farh=((temp_cel * 9/5) + 32)\n",
    "print(\"temperature in farhenhiet is\",temp_farh)"
   ]
  },
  {
   "cell_type": "code",
   "execution_count": null,
   "id": "d3bb7b3b-e436-4c1b-8b3e-225815563ec4",
   "metadata": {},
   "outputs": [],
   "source": [
    "#19. Create a program that simulates a basic calculator for addition, subtraction, multiplication, and division."
   ]
  },
  {
   "cell_type": "code",
   "execution_count": 1,
   "id": "1c66c491-c8f9-418c-b4c9-69bec6628b4c",
   "metadata": {},
   "outputs": [
    {
     "name": "stdout",
     "output_type": "stream",
     "text": [
      "\n",
      "Basic Calculator Menu:\n",
      "1. Addition\n",
      "2. Subtraction\n",
      "3. Multiplication\n",
      "4. Division\n",
      "5. Exit\n"
     ]
    },
    {
     "name": "stdin",
     "output_type": "stream",
     "text": [
      "Enter your choice (1-5):  1\n",
      "Enter the first number:  11\n",
      "Enter the second number:  22\n"
     ]
    },
    {
     "name": "stdout",
     "output_type": "stream",
     "text": [
      "The result of addition is: 33.0\n",
      "\n",
      "Basic Calculator Menu:\n",
      "1. Addition\n",
      "2. Subtraction\n",
      "3. Multiplication\n",
      "4. Division\n",
      "5. Exit\n"
     ]
    },
    {
     "name": "stdin",
     "output_type": "stream",
     "text": [
      "Enter your choice (1-5):  5\n"
     ]
    },
    {
     "name": "stdout",
     "output_type": "stream",
     "text": [
      "Exiting the calculator. Thank you for using!\n"
     ]
    }
   ],
   "source": [
    "def add(x, y):\n",
    "    return x + y\n",
    "\n",
    "def subtract(x, y):\n",
    "    return x - y\n",
    "\n",
    "def multiply(x, y):\n",
    "    return x * y\n",
    "\n",
    "def divide(x, y):\n",
    "    if y != 0:\n",
    "        return x / y\n",
    "    else:\n",
    "        return \"Error: Cannot divide by zero.\"\n",
    "\n",
    "while True:\n",
    "    print(\"\\nBasic Calculator Menu:\")\n",
    "    print(\"1. Addition\")\n",
    "    print(\"2. Subtraction\")\n",
    "    print(\"3. Multiplication\")\n",
    "    print(\"4. Division\")\n",
    "    print(\"5. Exit\")\n",
    "\n",
    "    choice = input(\"Enter your choice (1-5): \")\n",
    "\n",
    "    if choice == \"5\":\n",
    "        print(\"Exiting the calculator\")\n",
    "        break\n",
    "\n",
    "    try:\n",
    "        num1 = float(input(\"Enter the first number: \"))\n",
    "        num2 = float(input(\"Enter the second number: \"))\n",
    "\n",
    "        if choice == \"1\":\n",
    "            result = add(num1, num2)\n",
    "            print(f\"The result of addition is: {result}\")\n",
    "        elif choice == \"2\":\n",
    "            result = subtract(num1, num2)\n",
    "            print(f\"The result of subtraction is: {result}\")\n",
    "        elif choice == \"3\":\n",
    "            result = multiply(num1, num2)\n",
    "            print(f\"The result of multiplication is: {result}\")\n",
    "        elif choice == \"4\":\n",
    "            result = divide(num1, num2)\n",
    "            print(f\"The result of division is: {result}\")\n",
    "        else:\n",
    "            print(\"Invalid choice. Please enter a number between 1 and 5.\")\n",
    "    except ValueError:\n",
    "        print(\"Error: Please enter valid numerical values.\")\n"
   ]
  },
  {
   "cell_type": "code",
   "execution_count": 2,
   "id": "9224b189-56d2-4a38-baa0-73ebfba8b184",
   "metadata": {},
   "outputs": [],
   "source": [
    "#20. Write a program that determines the roots of a cubic equation using the Cardano formula."
   ]
  },
  {
   "cell_type": "code",
   "execution_count": 3,
   "id": "0c467489-3d3f-4d30-8c5b-e6bce26100c4",
   "metadata": {},
   "outputs": [
    {
     "name": "stdin",
     "output_type": "stream",
     "text": [
      "Enter the coefficient of x^3 (a):  4\n",
      "Enter the coefficient of x^2 (b):  3\n",
      "Enter the coefficient of x (c):  2\n",
      "Enter the constant term (d):  1\n"
     ]
    },
    {
     "name": "stdout",
     "output_type": "stream",
     "text": [
      "The roots of the cubic equation are: ((-0.39724116356956374+0.1779835256241753j), (-0.3305176728608726-0.2165063509461096j), (-0.022241163569563738+0.03852282532193424j))\n"
     ]
    }
   ],
   "source": [
    "import cmath  # Importing the complex math module for handling complex numbers\n",
    "\n",
    "def calculate_cubic_roots(a, b, c, d):\n",
    "    # Calculate the discriminant and its cube root\n",
    "    delta = b**2 - 3*a*c\n",
    "    delta_cubed_root = cmath.exp((1/3) * cmath.log(delta))\n",
    "\n",
    "    # Calculate the intermediate values\n",
    "    alpha = (-b + delta_cubed_root) / (3*a)\n",
    "    omega = cmath.exp(2j * cmath.pi / 3)\n",
    "    beta = omega * alpha\n",
    "    gamma = omega**2 * alpha\n",
    "\n",
    "    # Calculate the roots\n",
    "    root1 = alpha - (b/(3*a))\n",
    "    root2 = beta - (b/(3*a))\n",
    "    root3 = gamma - (b/(3*a))\n",
    "\n",
    "    return root1, root2, root3\n",
    "\n",
    "try:\n",
    "    a = float(input(\"Enter the coefficient of x^3 (a): \"))\n",
    "    b = float(input(\"Enter the coefficient of x^2 (b): \"))\n",
    "    c = float(input(\"Enter the coefficient of x (c): \"))\n",
    "    d = float(input(\"Enter the constant term (d): \"))\n",
    "\n",
    "    roots = calculate_cubic_roots(a, b, c, d)\n",
    "    print(f\"The roots of the cubic equation are: {roots}\")\n",
    "except ValueError:\n",
    "    print(\"Error: Please enter valid numerical values.\")\n"
   ]
  },
  {
   "cell_type": "raw",
   "id": "962d3f70-86d0-4c01-bca5-8568a3539287",
   "metadata": {},
   "source": [
    "Advanced Level:"
   ]
  },
  {
   "cell_type": "code",
   "execution_count": 4,
   "id": "0af96e9d-1c98-4237-ba22-09befb98b020",
   "metadata": {},
   "outputs": [],
   "source": [
    "#21. Create a program that calculates the income tax based on the user's income and tax brackets."
   ]
  },
  {
   "cell_type": "code",
   "execution_count": 29,
   "id": "a86440c6-aab0-4999-bebb-95b54d8b0ac3",
   "metadata": {},
   "outputs": [
    {
     "name": "stdin",
     "output_type": "stream",
     "text": [
      "Enter your annual income in INR:  800000\n"
     ]
    },
    {
     "name": "stdout",
     "output_type": "stream",
     "text": [
      "Your income tax for the year is: Rs72500.0\n"
     ]
    }
   ],
   "source": [
    "def calculate_income_tax(income):\n",
    "    if income <= 250000:\n",
    "        return 0\n",
    "    elif 250001 <= income <= 500000:\n",
    "        return 0.05 * (income - 250000)\n",
    "    elif 500001 <= income <= 1000000:\n",
    "        return 12500 + 0.2 * (income - 500000)\n",
    "    else:\n",
    "        return 112500 + 0.3 * (income - 1000000)\n",
    "\n",
    "\n",
    "def main():\n",
    "    try:\n",
    "        income = int(input(\"Enter your annual income in INR: \"))\n",
    "    except ValueError:\n",
    "        print(\"Invalid input. Please enter a valid numeric value for income.\")\n",
    "        return\n",
    "\n",
    "    income_tax = calculate_income_tax(income)\n",
    "\n",
    "    print(f\"Your income tax for the year is: Rs{income_tax}\")\n",
    "\n",
    "\n",
    "if __name__ == \"__main__\":\n",
    "    main()\n",
    "\n"
   ]
  },
  {
   "cell_type": "code",
   "execution_count": 30,
   "id": "6256e63f-f4fe-4341-8e0a-4b5c788dbe48",
   "metadata": {},
   "outputs": [],
   "source": [
    "#22. Write a program that simulates a rock-paper-scissors game against the computer."
   ]
  },
  {
   "cell_type": "code",
   "execution_count": 7,
   "id": "ddcd3a18-eb51-4ea1-b30c-4ef48bda844b",
   "metadata": {},
   "outputs": [
    {
     "name": "stdout",
     "output_type": "stream",
     "text": [
      "Enter Rock, paper or scissors\n"
     ]
    },
    {
     "name": "stdin",
     "output_type": "stream",
     "text": [
      " rock\n"
     ]
    },
    {
     "name": "stdout",
     "output_type": "stream",
     "text": [
      "you lost\n"
     ]
    },
    {
     "name": "stdin",
     "output_type": "stream",
     "text": [
      "Type 'yes' if you want to play again or 'no'if you dont no\n"
     ]
    }
   ],
   "source": [
    "import random\n",
    "def get_user_choice():\n",
    "    print(\"Enter Rock, paper or scissors\")\n",
    "    user_input=input().lower()\n",
    "    while user_input not in [\"rock\",\"paper\",\"scissors\"]:\n",
    "        print(\"invalid input! Enter rock, paper or scissors\")\n",
    "        user_input=input().lower()\n",
    "    return user_input\n",
    "\n",
    "\n",
    "def get_computer_input():\n",
    "    return random.choice([\"rock\",\"paper\",\"scissors\"])\n",
    "\n",
    "\n",
    "def determine_winner(user_choice,computer_choice):\n",
    "    if user_choice==computer_choice:\n",
    "        return \"it's a tie\"\n",
    "    elif (\n",
    "        (user_choice == \"rock\" and computer_choice == \"scissors\") or\n",
    "        (user_choice == \"paper\" and computer_choice == \"rock\") or\n",
    "        (user_choice == \"scissors\" and computer_choice == \"paper\")\n",
    "    ):\n",
    "        return \"you win\"\n",
    "    else:\n",
    "        return \"you lost\"\n",
    "    \n",
    "\n",
    "    \n",
    "def main():\n",
    "    while True:\n",
    "        \n",
    "        user_input=get_user_choice()\n",
    "        computer_input=get_computer_input()\n",
    "        result=determine_winner(user_input,computer_input)\n",
    "        print(result)\n",
    "        \n",
    "        \n",
    "        \n",
    "        choice=input(\"Type 'yes' if you want to play again or 'no'if you dont\").lower()\n",
    "        if choice!=\"yes\":\n",
    "            break\n",
    "            \n",
    "            \n",
    "if __name__==\"__main__\":\n",
    "    main()\n",
    "        "
   ]
  },
  {
   "cell_type": "code",
   "execution_count": 36,
   "id": "f5a22d73-9958-4ed4-be26-a74a96118c48",
   "metadata": {},
   "outputs": [],
   "source": [
    "#23. Develop a program that generates a random password based on user preferences (length, complexity)."
   ]
  },
  {
   "cell_type": "code",
   "execution_count": 12,
   "id": "7a79eb2e-73c3-4786-967e-0845c3d12204",
   "metadata": {},
   "outputs": [
    {
     "name": "stdout",
     "output_type": "stream",
     "text": [
      "Password Generator\n"
     ]
    },
    {
     "name": "stdin",
     "output_type": "stream",
     "text": [
      "Enter the length of the password:  8\n",
      "Include uppercase letters? (yes/no):  yes\n",
      "Include lowercase letters? (yes/no):  yes\n",
      "Include numbers? (yes/no):  yes\n",
      "Include special characters? (yes/no):  es\n"
     ]
    },
    {
     "name": "stdout",
     "output_type": "stream",
     "text": [
      "Generated Password: RHpy903Y\n"
     ]
    }
   ],
   "source": [
    "import random\n",
    "import string\n",
    "\n",
    "def generate_password(length, use_uppercase, use_lowercase, use_numbers, use_special_chars):\n",
    "    characters = \"\"\n",
    "\n",
    "    if use_uppercase:\n",
    "        characters += string.ascii_uppercase\n",
    "    if use_lowercase:\n",
    "        characters += string.ascii_lowercase\n",
    "    if use_numbers:\n",
    "        characters += string.digits\n",
    "    if use_special_chars:\n",
    "        characters += string.punctuation\n",
    "\n",
    "    if not characters:\n",
    "        print(\"Error: At least one character type should be selected.\")\n",
    "        return None\n",
    "\n",
    "    password = ''.join(random.choice(characters) for _ in range(length))\n",
    "    return password\n",
    "\n",
    "def main():\n",
    "    print(\"Password Generator\")\n",
    "    \n",
    "    # Get user preferences\n",
    "    length = int(input(\"Enter the length of the password: \"))\n",
    "    use_uppercase = input(\"Include uppercase letters? (yes/no): \").lower() == \"yes\"\n",
    "    use_lowercase = input(\"Include lowercase letters? (yes/no): \").lower() == \"yes\"\n",
    "    use_numbers = input(\"Include numbers? (yes/no): \").lower() == \"yes\"\n",
    "    use_special_chars = input(\"Include special characters? (yes/no): \").lower() == \"yes\"\n",
    "\n",
    "    # Generate and display the password\n",
    "    password = generate_password(length, use_uppercase, use_lowercase, use_numbers, use_special_chars)\n",
    "    if password:\n",
    "        print(f\"Generated Password: {password}\")\n",
    "\n",
    "if __name__ == \"__main__\":\n",
    "    main()\n"
   ]
  },
  {
   "cell_type": "code",
   "execution_count": 13,
   "id": "5d65eb2e-9225-45bf-9b8e-e1df16cedc30",
   "metadata": {},
   "outputs": [],
   "source": [
    "#24. Create a program that implements a simple text-based adventure game with branching scenarios."
   ]
  },
  {
   "cell_type": "code",
   "execution_count": 24,
   "id": "e708bff6-6dbd-4c78-83db-797799eb97bd",
   "metadata": {},
   "outputs": [
    {
     "name": "stdout",
     "output_type": "stream",
     "text": [
      "Welcome to the Adventure Game!\n",
      "You find yourself in a mysterious forest.\n",
      "You have two paths in front of you.\n",
      "\n",
      "1. Take the left path.\n",
      "2. Take the right path.\n"
     ]
    },
    {
     "name": "stdin",
     "output_type": "stream",
     "text": [
      "Enter your choice (1 or 2):  1\n"
     ]
    },
    {
     "name": "stdout",
     "output_type": "stream",
     "text": [
      "\n",
      "You follow the left path.\n",
      "You encounter a friendly creature.\n",
      "What do you want to do?\n",
      "1. Talk to the creature.\n",
      "2. Ignore the creature and continue walking.\n"
     ]
    },
    {
     "name": "stdin",
     "output_type": "stream",
     "text": [
      "Enter your choice (1 or 2):  1\n"
     ]
    },
    {
     "name": "stdout",
     "output_type": "stream",
     "text": [
      "\n",
      "The creature shares valuable information with you.\n",
      "You continue your journey.\n"
     ]
    }
   ],
   "source": [
    "import time\n",
    "#creating different functions for different scenerios\n",
    "\n",
    "def introduction():\n",
    "    print(\"Welcome to the Adventure Game!\")\n",
    "    time.sleep(1)\n",
    "    print(\"You find yourself in a mysterious forest.\")\n",
    "    time.sleep(1)\n",
    "    print(\"You have two paths in front of you.\")\n",
    "#taking choice from user\n",
    "def choose_path():\n",
    "    print(\"\\n1. Take the left path.\")\n",
    "    print(\"2. Take the right path.\")\n",
    "    choice = input(\"Enter your choice (1 or 2): \")\n",
    "    return choice\n",
    "#if user selects 1\n",
    "def left_path():\n",
    "    print(\"\\nYou follow the left path.\")\n",
    "    time.sleep(1)\n",
    "    print(\"You encounter a friendly creature.\")\n",
    "    time.sleep(1)\n",
    "    print(\"What do you want to do?\")\n",
    "    time.sleep(1)\n",
    "    print(\"1. Talk to the creature.\")\n",
    "    print(\"2. Ignore the creature and continue walking.\")\n",
    "\n",
    "    choice = input(\"Enter your choice (1 or 2): \")\n",
    "    if choice == \"1\":\n",
    "        print(\"\\nThe creature shares valuable information with you.\")\n",
    "        time.sleep(1)\n",
    "        print(\"You continue your journey.\")\n",
    "    else:\n",
    "        print(\"\\nThe creature seems disappointed, but you decide to keep walking.\")\n",
    "#if user selects 2\n",
    "def right_path():\n",
    "    print(\"\\nYou take the right path.\")\n",
    "    time.sleep(1)\n",
    "    print(\"You come across a mysterious cave.\")\n",
    "    time.sleep(1)\n",
    "    print(\"What do you want to do?\")\n",
    "    time.sleep(1)\n",
    "    print(\"1. Enter the cave.\")\n",
    "    print(\"2. Continue walking past the cave.\")\n",
    "\n",
    "    choice = input(\"Enter your choice (1 or 2): \")\n",
    "    if choice == \"1\":\n",
    "        print(\"\\nYou enter the cave and find a hidden treasure!\")\n",
    "        time.sleep(1)\n",
    "        print(\"Congratulations! You have completed the adventure.\")\n",
    "    else:\n",
    "        print(\"\\nYou decide not to enter the cave and continue your journey.\")\n",
    "\n",
    "def main():\n",
    "    introduction()\n",
    "\n",
    "    path_choice = choose_path()\n",
    "    #user selects the choice\n",
    "\n",
    "    if path_choice == \"1\":\n",
    "        left_path()\n",
    "    elif path_choice == \"2\":\n",
    "        right_path()\n",
    "    else:\n",
    "        print(\"Invalid choice. Please restart the game and choose a valid option.\")\n",
    "\n",
    "if __name__ == \"__main__\":\n",
    "    main()\n"
   ]
  },
  {
   "cell_type": "code",
   "execution_count": 25,
   "id": "d9f181d3-d3b2-4d8c-843e-fa43e16e38f5",
   "metadata": {},
   "outputs": [],
   "source": [
    "#25. Build a program that solves a linear equation for x, considering different cases."
   ]
  },
  {
   "cell_type": "code",
   "execution_count": 1,
   "id": "b65bc30e-4ea5-41c7-9278-368f16ad943f",
   "metadata": {},
   "outputs": [
    {
     "name": "stdout",
     "output_type": "stream",
     "text": [
      "Linear Equation Solver\n",
      "Standard form: ax + b = 0\n"
     ]
    },
    {
     "name": "stdin",
     "output_type": "stream",
     "text": [
      "Enter the coefficient 'a':  2\n",
      "Enter the coefficient 'b':  4\n"
     ]
    },
    {
     "name": "stdout",
     "output_type": "stream",
     "text": [
      "The solution for the linear equation 2.0x + 4.0 = 0 is x = -2.0\n"
     ]
    }
   ],
   "source": [
    "def solve_linear_equation(a, b):\n",
    "    # Case 1: a is zero\n",
    "    if a == 0:\n",
    "        if b == 0:\n",
    "            return \"Infinite solutions (any value of x is a solution)\"\n",
    "        else:\n",
    "            return \"No solution (contradiction)\"\n",
    "\n",
    "    # Case 2: b is zero\n",
    "    elif b == 0:\n",
    "        return \"x = 0\"\n",
    "\n",
    "    # Case 3: Neither a nor b is zero\n",
    "    else:\n",
    "        x = -b / a\n",
    "        return f\"The solution for the linear equation {a}x + {b} = 0 is x = {x}\"\n",
    "\n",
    "def main():\n",
    "    print(\"Linear Equation Solver\")\n",
    "    print(\"Standard form: ax + b = 0\")\n",
    "\n",
    "    try:\n",
    "        a = float(input(\"Enter the coefficient 'a': \"))\n",
    "        b = float(input(\"Enter the coefficient 'b': \"))\n",
    "\n",
    "        result = solve_linear_equation(a, b)\n",
    "        print(result)\n",
    "\n",
    "    except ValueError:\n",
    "        print(\"Invalid input. Please enter numeric coefficients.\")\n",
    "\n",
    "if __name__ == \"__main__\":\n",
    "    main()\n"
   ]
  },
  {
   "cell_type": "code",
   "execution_count": 1,
   "id": "315725ee-9e1b-403c-9ac4-2e4e8b44e75b",
   "metadata": {},
   "outputs": [],
   "source": [
    "#26. Write a program that simulates a basic quiz game with multiple-choice questions and scoring."
   ]
  },
  {
   "cell_type": "code",
   "execution_count": 2,
   "id": "a64804c8-a211-4d24-bf28-1eb6633c9f50",
   "metadata": {},
   "outputs": [
    {
     "name": "stdout",
     "output_type": "stream",
     "text": [
      "Welcome to the Quiz Game!\n",
      "\n",
      "\n",
      "Which planet is known as the Red Planet?\n",
      "1. Mars\n",
      "2. Venus\n",
      "3. Jupiter\n",
      "4. Saturn\n"
     ]
    },
    {
     "name": "stdin",
     "output_type": "stream",
     "text": [
      "Enter the number of your answer:  2\n"
     ]
    },
    {
     "name": "stdout",
     "output_type": "stream",
     "text": [
      "Wrong! The correct answer is 1: Mars\n",
      "\n",
      "\n",
      "What is the capital of France?\n",
      "1. Berlin\n",
      "2. Paris\n",
      "3. London\n",
      "4. Madrid\n"
     ]
    },
    {
     "name": "stdin",
     "output_type": "stream",
     "text": [
      "Enter the number of your answer:  2\n"
     ]
    },
    {
     "name": "stdout",
     "output_type": "stream",
     "text": [
      "Correct!\n",
      "\n",
      "\n",
      "What is the largest mammal?\n",
      "1. Elephant\n",
      "2. Blue Whale\n",
      "3. Giraffe\n",
      "4. Hippopotamus\n"
     ]
    },
    {
     "name": "stdin",
     "output_type": "stream",
     "text": [
      "Enter the number of your answer:  2\n"
     ]
    },
    {
     "name": "stdout",
     "output_type": "stream",
     "text": [
      "Correct!\n",
      "\n",
      "Quiz completed! Your score: 2/3\n"
     ]
    }
   ],
   "source": [
    "import random\n",
    "\n",
    "class QuizGame:\n",
    "    def __init__(self, questions):\n",
    "        self.questions = questions\n",
    "        self.score = 0\n",
    "\n",
    "    def display_question(self, question):\n",
    "        print(f\"\\n{question['text']}\")\n",
    "        for i, option in enumerate(question['options'], start=1):\n",
    "            print(f\"{i}. {option}\")\n",
    "        return int(input(\"Enter the number of your answer: \"))\n",
    "\n",
    "    def play_quiz(self):\n",
    "        random.shuffle(self.questions)\n",
    "\n",
    "        for question in self.questions:\n",
    "            user_answer = self.display_question(question)\n",
    "            correct_answer = question['correct_option']\n",
    "\n",
    "            if user_answer == correct_answer:\n",
    "                print(\"Correct!\\n\")\n",
    "                self.score += 1\n",
    "            else:\n",
    "                print(f\"Wrong! The correct answer is {correct_answer}: {question['options'][correct_answer - 1]}\\n\")\n",
    "\n",
    "        print(f\"Quiz completed! Your score: {self.score}/{len(self.questions)}\")\n",
    "\n",
    "# Example quiz questions\n",
    "quiz_questions = [\n",
    "    {\n",
    "        'text': 'What is the capital of France?',\n",
    "        'options': ['Berlin', 'Paris', 'London', 'Madrid'],\n",
    "        'correct_option': 2\n",
    "    },\n",
    "    {\n",
    "        'text': 'Which planet is known as the Red Planet?',\n",
    "        'options': ['Mars', 'Venus', 'Jupiter', 'Saturn'],\n",
    "        'correct_option': 1\n",
    "    },\n",
    "    {\n",
    "        'text': 'What is the largest mammal?',\n",
    "        'options': ['Elephant', 'Blue Whale', 'Giraffe', 'Hippopotamus'],\n",
    "        'correct_option': 2\n",
    "    }\n",
    "]\n",
    "\n",
    "def main():\n",
    "    print(\"Welcome to the Quiz Game!\\n\")\n",
    "\n",
    "    quiz_game = QuizGame(quiz_questions)\n",
    "    quiz_game.play_quiz()\n",
    "\n",
    "if __name__ == \"__main__\":\n",
    "    main()\n"
   ]
  },
  {
   "cell_type": "code",
   "execution_count": 2,
   "id": "d026d675-c5ef-46dc-be0c-bb3298793bce",
   "metadata": {},
   "outputs": [],
   "source": [
    "#27. Develop a program that determines whether a given year is a prime number or not."
   ]
  },
  {
   "cell_type": "code",
   "execution_count": 5,
   "id": "77003960-c9f5-46e4-a3b1-4751ec05bb21",
   "metadata": {},
   "outputs": [
    {
     "data": {
      "text/plain": [
       "True"
      ]
     },
     "execution_count": 5,
     "metadata": {},
     "output_type": "execute_result"
    }
   ],
   "source": [
    "#creating a finction prime which taked a number n to check if its a prime\n",
    "def prime(n):\n",
    "    #if num is smaller than 2 then it is not prime\n",
    "    if n<2:\n",
    "        return False\n",
    "    else:\n",
    "    #if the num is divisible by any num till its square root then it is not a prime number\n",
    "        for i in range(2,int(n**0.5)+1):\n",
    "            if n%i==0:\n",
    "                return False\n",
    "        return True\n",
    "#given number\n",
    "n=53\n",
    "\n",
    "prime_num=prime(n)\n",
    "prime_num\n"
   ]
  },
  {
   "cell_type": "code",
   "execution_count": 6,
   "id": "34ea8a66-3fcf-47a0-b6f8-ed764ed54739",
   "metadata": {},
   "outputs": [],
   "source": [
    "#28. Create a program that sorts three numbers in ascending order using conditional statements."
   ]
  },
  {
   "cell_type": "code",
   "execution_count": 8,
   "id": "5cda9427-45c2-450a-a3d9-365ce0e76cee",
   "metadata": {},
   "outputs": [
    {
     "name": "stdin",
     "output_type": "stream",
     "text": [
      "Enter first num:  22\n",
      "Enter second num:  33\n",
      "Enter third num:  11\n"
     ]
    },
    {
     "name": "stdout",
     "output_type": "stream",
     "text": [
      "Sorted order: [11, 22, 33]\n"
     ]
    }
   ],
   "source": [
    "# Input three numbers\n",
    "num1 = int(input(\"Enter first num: \"))\n",
    "num2 = int(input(\"Enter second num: \"))\n",
    "num3 = int(input(\"Enter third num: \"))\n",
    "\n",
    "# Using conditional statements to sort the numbers\n",
    "if num1 <= num2 <= num3:\n",
    "    sorted_nums = [num1, num2, num3]\n",
    "elif num1 <= num3 <= num2:\n",
    "    sorted_nums = [num1, num3, num2]\n",
    "elif num2 <= num1 <= num3:\n",
    "    sorted_nums = [num2, num1, num3]\n",
    "elif num2 <= num3 <= num1:\n",
    "    sorted_nums = [num2, num3, num1]\n",
    "elif num3 <= num1 <= num2:\n",
    "    sorted_nums = [num3, num1, num2]\n",
    "else:\n",
    "    sorted_nums = [num3, num2, num1]\n",
    "\n",
    "# Display the sorted numbers\n",
    "print(\"Sorted order:\", sorted_nums)\n"
   ]
  },
  {
   "cell_type": "code",
   "execution_count": null,
   "id": "44d2d53f-a8c9-4510-b836-b9f68dbb1fe3",
   "metadata": {},
   "outputs": [],
   "source": [
    "'''30. Write a program that calculates the BMI (Body Mass Index) and provides health recommendations based\n",
    "on the user's input.'''"
   ]
  },
  {
   "cell_type": "code",
   "execution_count": 7,
   "id": "5747d470-058e-4e14-84bb-c50e634d4228",
   "metadata": {},
   "outputs": [
    {
     "name": "stdout",
     "output_type": "stream",
     "text": [
      "BMI Calculator\n"
     ]
    },
    {
     "name": "stdin",
     "output_type": "stream",
     "text": [
      "Enter your weight in kilograms:  56\n",
      "Enter your height in meters:  1.73\n"
     ]
    },
    {
     "name": "stdout",
     "output_type": "stream",
     "text": [
      "Your BMI is: 18.71\n",
      "You are categorized as: Normal weight\n",
      "Health Recommendations:\n",
      "Maintain a healthy lifestyle with a balanced diet and regular exercise.\n"
     ]
    }
   ],
   "source": [
    "def calculate_bmi(weight, height):\n",
    "    # BMI formula: weight (kg) / (height (m) ^ 2)\n",
    "    bmi = weight / (height ** 2)\n",
    "    return bmi\n",
    "\n",
    "def interpret_bmi(bmi):\n",
    "    if bmi < 18.5:\n",
    "        return \"Underweight\"\n",
    "    elif 18.5 <= bmi < 24.9:\n",
    "        return \"Normal weight\"\n",
    "    elif 25 <= bmi < 29.9:\n",
    "        return \"Overweight\"\n",
    "    else:\n",
    "        return \"Obese\"\n",
    "\n",
    "def health_recommendations(bmi_category):\n",
    "    if bmi_category == \"Underweight\":\n",
    "        return \"Consider consulting with a healthcare professional to address underweight concerns. Focus on a balanced diet and regular exercise.\"\n",
    "    elif bmi_category == \"Normal weight\":\n",
    "        return \"Maintain a healthy lifestyle with a balanced diet and regular exercise.\"\n",
    "    elif bmi_category == \"Overweight\":\n",
    "        return \"Consider consulting with a healthcare professional to develop a plan for weight management. Focus on a balanced diet and regular exercise.\"\n",
    "    else:\n",
    "        return \"Consult with a healthcare professional for guidance on managing obesity. Develop a plan for healthy eating and regular physical activity.\"\n",
    "\n",
    "def main():\n",
    "    print(\"BMI Calculator\")\n",
    "    weight = float(input(\"Enter your weight in kilograms: \"))\n",
    "    height = float(input(\"Enter your height in meters: \"))\n",
    "\n",
    "    bmi = calculate_bmi(weight, height)\n",
    "    print(f\"Your BMI is: {bmi:.2f}\")\n",
    "\n",
    "    bmi_category = interpret_bmi(bmi)\n",
    "    print(f\"You are categorized as: {bmi_category}\")\n",
    "\n",
    "    recommendations = health_recommendations(bmi_category)\n",
    "    print(\"Health Recommendations:\")\n",
    "    print(recommendations)\n",
    "\n",
    "if __name__ == \"__main__\":\n",
    "    main()\n"
   ]
  },
  {
   "cell_type": "code",
   "execution_count": 4,
   "id": "00002049-df3f-4ac0-9504-0f680e4db9ee",
   "metadata": {},
   "outputs": [],
   "source": [
    "#31. Create a program that validates a password based on complexity rules (length, characters, etc.)."
   ]
  },
  {
   "cell_type": "code",
   "execution_count": 6,
   "id": "26209dcb-f756-4368-88ed-f3dbec88f845",
   "metadata": {},
   "outputs": [
    {
     "name": "stdout",
     "output_type": "stream",
     "text": [
      "Password Validator\n",
      "Password complexity rules:\n",
      "- At least 8 characters long\n",
      "- Contains at least one uppercase letter\n",
      "- Contains at least one lowercase letter\n",
      "- Contains at least one digit\n",
      "- Contains at least one special character\n",
      "\n"
     ]
    },
    {
     "name": "stdin",
     "output_type": "stream",
     "text": [
      "enter password: @aAdfghjkl\n"
     ]
    },
    {
     "name": "stdout",
     "output_type": "stream",
     "text": [
      "password is valid\n"
     ]
    }
   ],
   "source": [
    "import re \n",
    "\n",
    "def val_pass(password):\n",
    "    if len(password)<8:\n",
    "        return \"password must be atleast 8 characters long\"\n",
    "    if not any(i.isupper() for i in password):\n",
    "        return \"password must have atleat 1 uppercase letter\"\n",
    "    if not any(i.islower() for i in password):\n",
    "        return \"password must have atleast 1 lowercase letter\"\n",
    "    if not re.search(\"[!@#$%^&*(),.?\\\":{}|<>]\", password):\n",
    "        return \"password must have atleast 1 special character\"\n",
    "    \n",
    "    return \"password is valid\"\n",
    "\n",
    "\n",
    "def main():\n",
    "    print(\"Password Validator\")\n",
    "    print(\"Password complexity rules:\")\n",
    "    print(\"- At least 8 characters long\")\n",
    "    print(\"- Contains at least one uppercase letter\")\n",
    "    print(\"- Contains at least one lowercase letter\")\n",
    "    print(\"- Contains at least one digit\")\n",
    "    print(\"- Contains at least one special character\\n\")\n",
    "    \n",
    "    password=input(\"enter password:\")\n",
    "    result=val_pass(password)\n",
    "    print(result)\n",
    "    \n",
    "    \n",
    "if __name__==\"__main__\":\n",
    "    main()"
   ]
  },
  {
   "cell_type": "code",
   "execution_count": 6,
   "id": "913af52e-a28d-4620-977c-670ffe58840d",
   "metadata": {},
   "outputs": [],
   "source": [
    "#32. Develop a program that performs matrix addition and subtraction based on user input."
   ]
  },
  {
   "cell_type": "code",
   "execution_count": 2,
   "id": "17cccf9a-3b95-4a9a-b9bc-066829fe55a5",
   "metadata": {},
   "outputs": [
    {
     "name": "stdin",
     "output_type": "stream",
     "text": [
      "Enter the number of rows:  2\n",
      "Enter the number of columns:  2\n"
     ]
    },
    {
     "name": "stdout",
     "output_type": "stream",
     "text": [
      "Enter elements for the first matrix:\n"
     ]
    },
    {
     "name": "stdin",
     "output_type": "stream",
     "text": [
      "Enter element at position (1, 1):  1\n",
      "Enter element at position (1, 2):  2\n",
      "Enter element at position (2, 1):  1\n",
      "Enter element at position (2, 2):  2\n"
     ]
    },
    {
     "name": "stdout",
     "output_type": "stream",
     "text": [
      "\n",
      "Enter elements for the second matrix:\n"
     ]
    },
    {
     "name": "stdin",
     "output_type": "stream",
     "text": [
      "Enter element at position (1, 1):  1\n",
      "Enter element at position (1, 2):  2\n",
      "Enter element at position (2, 1):  1\n",
      "Enter element at position (2, 2):  2\n"
     ]
    },
    {
     "name": "stdout",
     "output_type": "stream",
     "text": [
      "\n",
      "Matrix Addition Result:\n",
      "[2, 4]\n",
      "[2, 4]\n",
      "\n",
      "Matrix Subtraction Result:\n",
      "[0, 0]\n",
      "[0, 0]\n"
     ]
    }
   ],
   "source": [
    "def input_matrix(rows, cols):\n",
    "    matrix = []\n",
    "    for i in range(rows):\n",
    "        row = []\n",
    "        for j in range(cols):\n",
    "            element = int(input(f\"Enter element at position ({i+1}, {j+1}): \"))\n",
    "            row.append(element)\n",
    "        matrix.append(row)\n",
    "    return matrix\n",
    "\n",
    "def add_matrices(matrix1, matrix2):\n",
    "    result = []\n",
    "    for i in range(len(matrix1)):\n",
    "        row = []\n",
    "        for j in range(len(matrix1[0])):\n",
    "            row.append(matrix1[i][j] + matrix2[i][j])\n",
    "        result.append(row)\n",
    "    return result\n",
    "\n",
    "def subtract_matrices(matrix1, matrix2):\n",
    "    result = []\n",
    "    for i in range(len(matrix1)):\n",
    "        row = []\n",
    "        for j in range(len(matrix1[0])):\n",
    "            row.append(matrix1[i][j] - matrix2[i][j])\n",
    "        result.append(row)\n",
    "    return result\n",
    "\n",
    "def print_matrix(matrix):\n",
    "    for row in matrix:\n",
    "        print(row)\n",
    "\n",
    "# Get matrix dimensions from user\n",
    "rows = int(input(\"Enter the number of rows: \"))\n",
    "cols = int(input(\"Enter the number of columns: \"))\n",
    "\n",
    "# Input first matrix\n",
    "print(\"Enter elements for the first matrix:\")\n",
    "matrix1 = input_matrix(rows, cols)\n",
    "\n",
    "# Input second matrix\n",
    "print(\"\\nEnter elements for the second matrix:\")\n",
    "matrix2 = input_matrix(rows, cols)\n",
    "\n",
    "# Perform matrix addition and subtraction\n",
    "sum_matrix = add_matrices(matrix1, matrix2)\n",
    "diff_matrix = subtract_matrices(matrix1, matrix2)\n",
    "\n",
    "# Display the results\n",
    "print(\"\\nMatrix Addition Result:\")\n",
    "\n",
    "print_matrix(sum_matrix)\n",
    "\n",
    "print(\"\\nMatrix Subtraction Result:\")\n",
    "print_matrix(diff_matrix)\n"
   ]
  },
  {
   "cell_type": "code",
   "execution_count": 3,
   "id": "807bef46-a3cf-4c3c-88e8-934d2f696c5c",
   "metadata": {},
   "outputs": [
    {
     "data": {
      "text/plain": [
       "'33. Write a program that calculates the greatest common divisor (GCD) of two numbers using the Euclidean\\nalgorithm'"
      ]
     },
     "execution_count": 3,
     "metadata": {},
     "output_type": "execute_result"
    }
   ],
   "source": [
    "'''33. Write a program that calculates the greatest common divisor (GCD) of two numbers using the Euclidean\n",
    "algorithm'''"
   ]
  },
  {
   "cell_type": "code",
   "execution_count": null,
   "id": "3aac3ff0-4031-4016-a36c-301c5e3af11b",
   "metadata": {},
   "outputs": [],
   "source": []
  },
  {
   "cell_type": "code",
   "execution_count": 4,
   "id": "9bf69611-3bfd-4c1e-a162-a68bea069415",
   "metadata": {},
   "outputs": [],
   "source": [
    "#35. Create a program that simulates a basic text-based tic-tac-toe game against the computer."
   ]
  },
  {
   "cell_type": "code",
   "execution_count": 1,
   "id": "9ff99ab5-88d1-470b-bf09-9b912289e9fb",
   "metadata": {},
   "outputs": [
    {
     "name": "stdout",
     "output_type": "stream",
     "text": [
      "  |   |  \n",
      "---------\n",
      "  |   |  \n",
      "---------\n",
      "  |   |  \n",
      "---------\n"
     ]
    },
    {
     "name": "stdin",
     "output_type": "stream",
     "text": [
      "Enter the row (0, 1, or 2):  1\n",
      "Enter the column (0, 1, or 2):  1\n"
     ]
    },
    {
     "name": "stdout",
     "output_type": "stream",
     "text": [
      "Computer's move:\n",
      "  |   |  \n",
      "---------\n",
      "  | X |  \n",
      "---------\n",
      "  |   | O\n",
      "---------\n"
     ]
    },
    {
     "name": "stdin",
     "output_type": "stream",
     "text": [
      "Enter the row (0, 1, or 2):  2\n",
      "Enter the column (0, 1, or 2):  0\n"
     ]
    },
    {
     "name": "stdout",
     "output_type": "stream",
     "text": [
      "Computer's move:\n",
      "  |   |  \n",
      "---------\n",
      "O | X |  \n",
      "---------\n",
      "X |   | O\n",
      "---------\n"
     ]
    },
    {
     "name": "stdin",
     "output_type": "stream",
     "text": [
      "Enter the row (0, 1, or 2):  0\n",
      "Enter the column (0, 1, or 2):  2\n"
     ]
    },
    {
     "name": "stdout",
     "output_type": "stream",
     "text": [
      "You win! Congratulations!\n"
     ]
    }
   ],
   "source": [
    "import random\n",
    "\n",
    "def print_board(board):\n",
    "    for row in board:\n",
    "        print(\" | \".join(row))\n",
    "        print(\"-\" * 9)\n",
    "\n",
    "def check_winner(board, player):\n",
    "    # Check rows, columns, and diagonals\n",
    "    for i in range(3):\n",
    "        if all(board[i][j] == player for j in range(3)) or all(board[j][i] == player for j in range(3)):\n",
    "            return True\n",
    "    if all(board[i][i] == player for i in range(3)) or all(board[i][2 - i] == player for i in range(3)):\n",
    "        return True\n",
    "    return False\n",
    "\n",
    "def is_board_full(board):\n",
    "    return all(board[i][j] != \" \" for i in range(3) for j in range(3))\n",
    "\n",
    "def get_empty_cells(board):\n",
    "    return [(i, j) for i in range(3) for j in range(3) if board[i][j] == \" \"]\n",
    "\n",
    "def player_move(board):\n",
    "    while True:\n",
    "        try:\n",
    "            row = int(input(\"Enter the row (0, 1, or 2): \"))\n",
    "            col = int(input(\"Enter the column (0, 1, or 2): \"))\n",
    "            if 0 <= row <= 2 and 0 <= col <= 2 and board[row][col] == \" \":\n",
    "                return row, col\n",
    "            else:\n",
    "                print(\"Invalid move. Try again.\")\n",
    "        except ValueError:\n",
    "            print(\"Invalid input. Please enter a number.\")\n",
    "\n",
    "def computer_move(board):\n",
    "    empty_cells = get_empty_cells(board)\n",
    "    return random.choice(empty_cells)\n",
    "\n",
    "def main():\n",
    "    board = [[\" \" for _ in range(3)] for _ in range(3)]\n",
    "    player_symbol = \"X\"\n",
    "    computer_symbol = \"O\"\n",
    "\n",
    "    while True:\n",
    "        print_board(board)\n",
    "\n",
    "        # Player move\n",
    "        player_row, player_col = player_move(board)\n",
    "        board[player_row][player_col] = player_symbol\n",
    "\n",
    "        # Check if player wins\n",
    "        if check_winner(board, player_symbol):\n",
    "            print(\"You win! Congratulations!\")\n",
    "            break\n",
    "\n",
    "        # Check if the board is full\n",
    "        if is_board_full(board):\n",
    "            print(\"It's a draw! The board is full.\")\n",
    "            break\n",
    "\n",
    "        # Computer move\n",
    "        print(\"Computer's move:\")\n",
    "        computer_row, computer_col = computer_move(board)\n",
    "        board[computer_row][computer_col] = computer_symbol\n",
    "\n",
    "        # Check if computer wins\n",
    "        if check_winner(board, computer_symbol):\n",
    "            print_board(board)\n",
    "            print(\"Computer wins! Better luck next time.\")\n",
    "            break\n",
    "\n",
    "if __name__ == \"__main__\":\n",
    "    main()\n"
   ]
  },
  {
   "cell_type": "code",
   "execution_count": null,
   "id": "701835ea-4c9a-4984-89b3-417226d0af9a",
   "metadata": {},
   "outputs": [],
   "source": []
  }
 ],
 "metadata": {
  "kernelspec": {
   "display_name": "Python 3 (ipykernel)",
   "language": "python",
   "name": "python3"
  },
  "language_info": {
   "codemirror_mode": {
    "name": "ipython",
    "version": 3
   },
   "file_extension": ".py",
   "mimetype": "text/x-python",
   "name": "python",
   "nbconvert_exporter": "python",
   "pygments_lexer": "ipython3",
   "version": "3.10.8"
  }
 },
 "nbformat": 4,
 "nbformat_minor": 5
}
