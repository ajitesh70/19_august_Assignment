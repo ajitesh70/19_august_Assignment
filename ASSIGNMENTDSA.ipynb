{
 "cells": [
  {
   "cell_type": "code",
   "execution_count": null,
   "id": "5f96aeb2-e3dd-445d-b46e-2c0136cdff51",
   "metadata": {},
   "outputs": [],
   "source": [
    "Problem 1: Reverse a singly linked list.\n",
    "\n",
    "Input: 1 -> 2 -> 3 -> 4 -> 5\n",
    "Output: 5 -> 4 -> 3 -> 2 -> 1"
   ]
  },
  {
   "cell_type": "code",
   "execution_count": 18,
   "id": "4623519c-cef5-4428-96a1-40e4ea57fa2e",
   "metadata": {},
   "outputs": [
    {
     "name": "stdout",
     "output_type": "stream",
     "text": [
      "5 -> 4 -> 3 -> 2 -> 1 -> "
     ]
    }
   ],
   "source": [
    "# step 1  creating te classs node\n",
    "# define the list node\n",
    "\n",
    "class Node:\n",
    "    def __init__(self, value=0,next=None):\n",
    "        self.value=value\n",
    "        self.next=next\n",
    "\n",
    "#step 2 create the founction to reverse \n",
    "def reverse(node):\n",
    "    prev=None\n",
    "    current=head\n",
    "# step 3 using the while loop\n",
    "    while current is not None:\n",
    "        nextnode=current.next\n",
    "        current.next=prev\n",
    "        prev=current\n",
    "        current=nextnode\n",
    "        \n",
    "    return prev\n",
    "\n",
    "\n",
    "head = Node(1,Node(2,Node(3,Node(4,Node(5)))))\n",
    "\n",
    "# step 4  Reverse the linked list\n",
    "temp=reverse(head)\n",
    "\n",
    "# step 5  Print the reversed linked list\n",
    "while temp is not None:\n",
    "    print(temp.value, end=\" -> \")\n",
    "    temp = temp.next\n",
    "\n",
    "\n",
    "        \n",
    "        \n",
    "        \n",
    "\n",
    "    \n",
    "    \n",
    "    \n",
    "\n",
    "    \n",
    "    \n",
    "\n",
    "\n",
    "\n",
    "\n",
    "    \n",
    "    "
   ]
  },
  {
   "cell_type": "code",
   "execution_count": null,
   "id": "1eeefeef-865d-4ec6-940d-dd40dd27bbfe",
   "metadata": {},
   "outputs": [],
   "source": [
    "Problem 2: Merge two sorted linked lists into one sorted linked list.\n",
    "Input: List 1: 1 -> 3 -> 5, List 2: 2 -> 4 -> 6\n",
    "Output: 1 -> 2 -> 3 -> 4 -> 5 -> 6"
   ]
  },
  {
   "cell_type": "code",
   "execution_count": 26,
   "id": "833160e7-8f75-46d0-a3fa-a3a6d902cc32",
   "metadata": {},
   "outputs": [
    {
     "name": "stdout",
     "output_type": "stream",
     "text": [
      "1 -> 2 -> 3 -> 4 -> 5 -> 6 -> "
     ]
    }
   ],
   "source": [
    "#step 1 create  the class Node \n",
    "class Node:\n",
    "    #step  2 create the constuctor\n",
    "    def __init__(self,value=0, next=None):\n",
    "        self.value=value\n",
    "        self.next=next    \n",
    "#step 4 create the founction to merge two list       \n",
    "def mergetwo(list1, list2):\n",
    "    temp=Node()\n",
    "    current=temp\n",
    "    \n",
    "    while list1 is not None  and list2 is not None:\n",
    "        if list1.value<list2.value:\n",
    "            current.next=list1\n",
    "            list1=list1.next\n",
    "        else:\n",
    "            current.next=list2\n",
    "            list2=list2.next\n",
    "            \n",
    "        current=current.next\n",
    "        \n",
    "    # step 5 if any value still remaining in the linklist\n",
    "        if list1 is not None:\n",
    "            current.next=list1\n",
    "        else:\n",
    "            current.next=list2\n",
    "    return temp.next\n",
    "\n",
    "    \n",
    "list1=Node(1,Node(3,Node(5)))\n",
    "list2=Node(2,Node(4,Node(6)))\n",
    "\n",
    "great=mergetwo(list1,list2)\n",
    "\n",
    "\n",
    "while great is not None:\n",
    "    print(great.value, end=\" -> \")\n",
    "    great = great.next"
   ]
  },
  {
   "cell_type": "code",
   "execution_count": null,
   "id": "b0e67c33-9001-4083-9b0c-64cdfd5ed651",
   "metadata": {},
   "outputs": [],
   "source": [
    "Problem 3: Remove the nth node from the end of a linked list.\n",
    "Input: 1 -> 2 -> 3 -> 4 -> 5, n = 2\n",
    "Output: 1 -> 2 -> 3 -> 5\n"
   ]
  },
  {
   "cell_type": "code",
   "execution_count": 5,
   "id": "ad7a177c-f171-4169-90cd-beccf692f159",
   "metadata": {},
   "outputs": [
    {
     "name": "stdout",
     "output_type": "stream",
     "text": [
      "1->2->3->5->"
     ]
    }
   ],
   "source": [
    "# step 1 creating the class Node \n",
    "class Node:\n",
    "    def __init__(self, value=None,next=None):\n",
    "        self.value=value\n",
    "        self.next=next\n",
    "#  step 2  create the founction to remove the element fromthe node \n",
    "def remove(head,n):\n",
    "    dummy=Node(0)\n",
    "    dummy.next=head\n",
    "    fast=slow=dummy\n",
    "# step 3 runiung the for loop\n",
    "    \n",
    "    for _ in range(n+1):\n",
    "        fast=fast.next\n",
    "# step 4  runing the while loop    \n",
    "    while fast:\n",
    "        fast=fast.next\n",
    "        slow=slow.next\n",
    "        \n",
    "    slow.next=slow.next.next\n",
    "    \n",
    "    return dummy.next\n",
    "\n",
    "#  for teaverse\n",
    "\n",
    "head= Node(1,Node(2,Node(3,Node(4,Node(5)))))\n",
    "temp=remove(head,2)\n",
    "\n",
    "while temp is not None:\n",
    "    print(temp.value,end=\"->\")\n",
    "    temp=temp.next\n",
    "    \n",
    "    \n",
    "    \n",
    "    \n",
    "\n",
    "\n",
    "    \n",
    "\n",
    "    \n",
    "         \n"
   ]
  },
  {
   "cell_type": "code",
   "execution_count": null,
   "id": "c7970e48-b8c5-4e98-9f8b-d5f4baba1e33",
   "metadata": {},
   "outputs": [],
   "source": [
    "Problem 4: Find the intersection point of two linked lists.\n",
    "Input: List 1: 1 -> 2 -> 3 -> 4, List 2: 9 -> 8 -> 3 -> 4\n",
    "Output: Node with value 3"
   ]
  },
  {
   "cell_type": "code",
   "execution_count": 29,
   "id": "1522a4ab-2bf0-45ba-bf04-a40649d845d0",
   "metadata": {},
   "outputs": [
    {
     "name": "stdout",
     "output_type": "stream",
     "text": [
      "3\n"
     ]
    }
   ],
   "source": [
    "# step 1 createthe class Node \n",
    "class Node:\n",
    "    # step 2 creating the constuctor \n",
    "    def __init__(self,value=0,next =None):\n",
    "        self.value=value\n",
    "        self.next=next\n",
    "    #step 3  creating the founction  for intersection of two linklist\n",
    "def intersection(heada,headb):\n",
    "    # step  4 creating the founction for calculatinghte lenght\n",
    "    \n",
    "    def getlength(node):\n",
    "        \n",
    "        length=0\n",
    "        while node:\n",
    "            length +=1\n",
    "            node=node.next\n",
    "        return length\n",
    "    \n",
    "    \n",
    "    lenghtA=getlength(heada)\n",
    "    lenghtB=getlength(headb)\n",
    "#  step5 runing the while loop\n",
    "    while lenghtA > lenghtB:\n",
    "        heada=heada.next\n",
    "        lenghtA-=1\n",
    "        \n",
    "    while lenghtA < lenghtB:\n",
    "        head=head.next\n",
    "        lenghtB-=1\n",
    "        \n",
    "    while heada!=headb:\n",
    "        heada=heada.next\n",
    "        headb=headb.next  \n",
    "    return headb\n",
    "\n",
    "#example usage\n",
    "\n",
    "h1= Node(1,Node(2,Node(3,Node(4))))\n",
    "h2= Node(9,Node(8,h1.next.next))\n",
    "\n",
    "tim=intersection(h1,h2)\n",
    "\n",
    "print (tim.value)\n",
    "\n",
    "\n",
    "    \n",
    "\n",
    "    \n",
    "    "
   ]
  },
  {
   "cell_type": "code",
   "execution_count": null,
   "id": "c4322146-2004-436c-886b-cd8500936ae1",
   "metadata": {},
   "outputs": [],
   "source": [
    "Problem 5: Remove duplicates from a sorted linked list.\n",
    "Input: 1 -> 1 -> 2 -> 3 -> 3\n",
    "Output: 1 -> 2 -> 3"
   ]
  },
  {
   "cell_type": "code",
   "execution_count": 2,
   "id": "17b309f9-5d59-4cb8-82cc-5490bdfd485c",
   "metadata": {},
   "outputs": [
    {
     "name": "stdout",
     "output_type": "stream",
     "text": [
      "1->2->3->"
     ]
    }
   ],
   "source": [
    "#  step 1 create classs Node \n",
    "class Node:\n",
    "    #step  2  reating the constructor \n",
    "    def __init__(self,value=0,next=None):\n",
    "        self.value=value\n",
    "        self.next=next\n",
    "    #step3 creatge the founction to delete duplicate\n",
    "def removeduplicate(node):\n",
    "    current=node\n",
    "    while current is not None and current.next is not None:\n",
    "        if current.value==current.next.value:\n",
    "            current.next=current.next.next\n",
    "            \n",
    "        else:\n",
    "            current=current.next\n",
    "            \n",
    "    return node\n",
    "\n",
    "#example usage\n",
    "h1= Node(1,Node(1,Node(2,Node(3,Node(3)))))\n",
    "he=removeduplicate(h1)\n",
    "\n",
    "# traverse\n",
    "while h1 is not None:\n",
    "    print(h1.value,end=\"->\")\n",
    "    h1=h1.next\n",
    "\n",
    "\n",
    "\n",
    "\n",
    "\n",
    "            \n",
    "    \n",
    "    \n",
    "        \n",
    "    \n",
    "    \n",
    "        \n",
    "    "
   ]
  },
  {
   "cell_type": "code",
   "execution_count": null,
   "id": "bb25e917-615c-45c6-afdb-8c8f769f002e",
   "metadata": {},
   "outputs": [],
   "source": [
    "Problem 6: Add two numbers represented by linked lists (where each node contains a single digit).\n",
    "Input: List 1: 2 -> 4 -> 3, List 2: 5 -> 6 -> 4 (represents 342 + 465)\n",
    "Output: 7 -> 0 -> 8 (represents 807)"
   ]
  },
  {
   "cell_type": "code",
   "execution_count": 10,
   "id": "0148e3fb-87c9-4134-9864-df81c9068b3c",
   "metadata": {},
   "outputs": [
    {
     "name": "stdout",
     "output_type": "stream",
     "text": [
      "7->0->8->"
     ]
    }
   ],
   "source": [
    "# step 1  crate the class Node\n",
    "class Node:\n",
    "        def __init__(self,value=0,next=None):\n",
    "            self.value=value\n",
    "            self.next=next\n",
    "# step 2 createthe founction to add the linklist\n",
    "def addtwo(list1,list2):\n",
    "    dummy=Node()\n",
    "    current=dummy\n",
    "    carry=0\n",
    "    # step 3 creating the while loop for list 1 and list 2\n",
    "    while list1 or list2 or carry:\n",
    "        x= list1.value if list1 else 0\n",
    "        y= list2.value if list2 else 0\n",
    "    #step 4 calculating the sum\n",
    "        \n",
    "        sum=x+y+carry\n",
    "        carry=sum//10\n",
    "        current.next=Node(sum%10)\n",
    "    #step 5 cchecking the list 1 and list 2 is not none \n",
    "        list1=list1.next if list1  else None\n",
    "        list2=list2.next if list2  else None\n",
    "        current=current.next\n",
    "        \n",
    "    return dummy.next\n",
    "\n",
    "\n",
    "list1=Node(2,Node(4,Node(3)))\n",
    "list2=Node(5,Node(6,Node(4)))\n",
    "\n",
    "tim= addtwo(list1,list2)\n",
    "# step 6 printg the  list by using the while loop\n",
    "while tim is not None:\n",
    "    print(tim.value,end=\"->\")\n",
    "    tim=tim.next\n",
    "\n",
    "\n",
    "\n",
    "\n",
    "\n",
    "\n",
    "          "
   ]
  },
  {
   "cell_type": "code",
   "execution_count": null,
   "id": "40d84414-c4c9-4767-882f-f1e99a679e13",
   "metadata": {},
   "outputs": [],
   "source": [
    "Problem 7: Swap nodes in pairs in a linked list.\n",
    "Input: 1 -> 2 -> 3 -> 4\n",
    "Output: 2 -> 1 -> 4 -> 3"
   ]
  },
  {
   "cell_type": "code",
   "execution_count": 2,
   "id": "ff4f770f-1699-452a-a5b0-39bf3236a539",
   "metadata": {},
   "outputs": [
    {
     "name": "stdout",
     "output_type": "stream",
     "text": [
      "2->1->4->3->"
     ]
    }
   ],
   "source": [
    "#step 1 creating the  class Node\n",
    "class Node:\n",
    "    def __init__(self,value=None, next =None):\n",
    "        self.value=value\n",
    "        self.next=next\n",
    "# step 2  create the founction to swapp\n",
    "def swap(head):\n",
    "    dummy=Node(0)\n",
    "    dummy.next=head\n",
    "    current=dummy\n",
    "    # step 4  runin the while loop  using the 2 pointer approch\n",
    "    while current.next and current.next.next:\n",
    "        first=current.next\n",
    "        second=current.next.next\n",
    "        \n",
    "        # step 5 swap 2 nodes\n",
    "        first.next=second.next\n",
    "        second.next=first\n",
    "        current.next=second\n",
    "        \n",
    "        \n",
    "        current=current.next.next\n",
    "        \n",
    "        \n",
    "    return dummy.next\n",
    "        \n",
    "        \n",
    "# example usag\n",
    "h1= Node(1,Node(2,Node(3,Node(4))))\n",
    "tim=swap(h1)\n",
    "\n",
    "# step 6  print result\n",
    "while tim:\n",
    "    print(tim.value,end=\"->\")\n",
    "    tim=tim.next\n",
    "        \n",
    "        \n",
    "    \n",
    "    \n",
    "    \n",
    "    \n",
    "    \n",
    "    \n",
    "    "
   ]
  },
  {
   "cell_type": "code",
   "execution_count": null,
   "id": "1824d56d-72f6-4bae-9291-45407e82443d",
   "metadata": {},
   "outputs": [],
   "source": [
    "Problem 8: Reverse nodes in a linked list in groups of k.\n",
    "Input: 1 -> 2 -> 3 -> 4 -> 5, k = 3\n",
    "Output: 3 -> 2 -> 1 -> 4 -> 5"
   ]
  },
  {
   "cell_type": "code",
   "execution_count": 4,
   "id": "87d09589-ee29-4254-b942-b1458ff88381",
   "metadata": {},
   "outputs": [
    {
     "name": "stdout",
     "output_type": "stream",
     "text": [
      "Original Linked List: 1 2 3 4 5 \n",
      "Reversed Linked List: 3 2 1 4 5 \n"
     ]
    }
   ],
   "source": [
    "# step1 create the class Node \n",
    "class Node:\n",
    "    # step 2 creating the  constructor\n",
    "    def __init__(self, data, next_node=None):\n",
    "        self.data = data\n",
    "        self.next = next_node\n",
    "\n",
    "#step 3 Function to reverse linked list\n",
    "# using 3 pointer approach\n",
    "def reverseLinkedList(head):\n",
    "    \n",
    "    # Initialize 'temp' at the\n",
    "    # head of the linked list\n",
    "    temp = head\n",
    "    \n",
    "    # Initialize 'prev' to None,\n",
    "    # representing the previous node \n",
    "    prev = None\n",
    "    \n",
    "    while temp is not None:\n",
    "        # Store the next node in 'front'\n",
    "        # to preserve the reference\n",
    "        front = temp.next\n",
    "        # Reverse the direction of the current\n",
    "        # node's 'next' pointer to point to 'prev'\n",
    "        temp.next = prev\n",
    "        # Move 'prev' to the current \n",
    "        # node, for the next iteration\n",
    "        prev = temp\n",
    "        # Move 'temp' to 'front' node\n",
    "        # advancing traversal\n",
    "        temp = front\n",
    "\n",
    "    # Return the new head\n",
    "    # of the reversed linked list\n",
    "    return prev\n",
    "    \n",
    "#stpe 4  Function to get the Kth node from\n",
    "# a given position in the linked list\n",
    "def getKthNode(temp, k):\n",
    "    # Decrement K as we already\n",
    "    # start from the 1st node\n",
    "    k -= 1\n",
    "\n",
    "    # Decrement K until it reaches\n",
    "    # the desired position\n",
    "    while temp is not None and k > 0:\n",
    "        # Decrement k as temp progresses\n",
    "        k -= 1\n",
    "\n",
    "        # Move to the next node\n",
    "        temp = temp.next\n",
    "\n",
    "    # Return the Kth node\n",
    "    return temp\n",
    "\n",
    "\n",
    "#  step 5 Function to reverse nodes in groups of K\n",
    "def kReverse(head, k):\n",
    "    # Initialize a temporary\n",
    "    # node to traverse the list\n",
    "    temp = head\n",
    "\n",
    "    # Initialize a pointer to track the\n",
    "    # last node of the previous group\n",
    "    prevLast = None\n",
    "\n",
    "    # Traverse through the linked list\n",
    "    while temp is not None:\n",
    "        # Get the Kth node of the current group\n",
    "        kThNode = getKthNode(temp, k)\n",
    "\n",
    "        # If the Kth node is NULL\n",
    "        # (not a complete group)\n",
    "        if kThNode is None:\n",
    "            # If there was a previous group,\n",
    "            # link the last node to the current node\n",
    "            if prevLast:\n",
    "                prevLast.next = temp\n",
    "\n",
    "            # Exit the loop\n",
    "            break\n",
    "\n",
    "        # Store the next node\n",
    "        # after the Kth node\n",
    "        nextNode = kThNode.next\n",
    "\n",
    "        # Disconnect the Kth node\n",
    "        # to prepare for reversal\n",
    "        kThNode.next = None\n",
    "\n",
    "        # Reverse the nodes from\n",
    "        # temp to the Kth node\n",
    "        reverseLinkedList(temp)\n",
    "\n",
    "        # Adjust the head if the reversal\n",
    "        # starts from the head\n",
    "        if temp == head:\n",
    "            head = kThNode\n",
    "        else:\n",
    "            # Link the last node of the previous\n",
    "            # group to the reversed group\n",
    "            prevLast.next = kThNode\n",
    "\n",
    "        # Update the pointer to the\n",
    "        # last node of the previous group\n",
    "        prevLast = temp\n",
    "\n",
    "        # Move to the next group\n",
    "        temp = nextNode\n",
    "\n",
    "    # Return the head of the\n",
    "    # modified linked list\n",
    "    return head\n",
    "\n",
    "\n",
    "# step  6 Function to print the linked list\n",
    "def printLinkedList(head):\n",
    "    temp = head\n",
    "    while temp is not None:\n",
    "        print(temp.data, end=\" \")\n",
    "        temp = temp.next\n",
    "    print()\n",
    "\n",
    "\n",
    "class Node:\n",
    "    def __init__(self, data):\n",
    "        self.data = data\n",
    "        self.next = None\n",
    "\n",
    "\n",
    "# Create a linked list wit\n",
    "head = Node(1)\n",
    "head.next = Node(2)\n",
    "head.next.next = Node(3)\n",
    "head.next.next.next = Node(4)\n",
    "head.next.next.next.next = Node(5)\n",
    "\n",
    "# Print the original linked list\n",
    "print(\"Original Linked List: \", end=\"\")\n",
    "printLinkedList(head)\n",
    "\n",
    "# Reverse the linked list\n",
    "head = kReverse(head, 3)\n",
    "\n",
    "# Print the reversed linked list\n",
    "print(\"Reversed Linked List: \", end=\"\")\n",
    "printLinkedList(head)"
   ]
  },
  {
   "cell_type": "code",
   "execution_count": null,
   "id": "41c18c6c-e022-49ec-9bcc-ab90c4f4b3ba",
   "metadata": {},
   "outputs": [],
   "source": [
    "Problem 9: Determine if a linked list is a palindrome.\n",
    "Input: 1 -> 2 -> 2 -> 1\n",
    "Output: True"
   ]
  },
  {
   "cell_type": "code",
   "execution_count": 9,
   "id": "fffb3c7e-4b86-4260-ac1a-99bbb037bd07",
   "metadata": {},
   "outputs": [
    {
     "name": "stdout",
     "output_type": "stream",
     "text": [
      "True\n"
     ]
    }
   ],
   "source": [
    "# step 1 class create the class Node\n",
    "class Node:\n",
    "    def __init__(self, value,next=None):\n",
    "        self.value=value\n",
    "        self.next=next\n",
    "        \n",
    "# step 2  create the founction  of pallindrome\n",
    "def is_pallindrome(head):\n",
    "    # step 3 create thefounction to reverse the linklist \n",
    "    def reverseLinkedList(head):\n",
    "        \n",
    "        temp = head\n",
    "        prev = None\n",
    "        while temp is not None:\n",
    "            front = temp.next\n",
    "            temp.next = prev\n",
    "            prev = temp\n",
    "            temp = front\n",
    "        return prev\n",
    " #step; 4 create the founction to find the middle  of linklist\n",
    "    def findmiddle(node):\n",
    "        slow=fast=node\n",
    "        while fast and fast.next:\n",
    "            slow=slow.next\n",
    "            fast=fast.next.next\n",
    "        return slow\n",
    "    if not head or not head.next:\n",
    "        return True\n",
    "    \n",
    "    \n",
    "    mid=findmiddle(head)\n",
    "    \n",
    "    reversed_half= reverseLinkedList(mid)\n",
    "    \n",
    "    while reversed_half:\n",
    "        if head.value!=reversed_half.value:\n",
    "            return false\n",
    "        head=head.next\n",
    "        reversed_half=reversed_half.next\n",
    "        \n",
    "    return True\n",
    "\n",
    "\n",
    "# example usage\n",
    "nim= Node(1,Node(2,Node(2,Node(1))))\n",
    "print(is_pallindrome(nim))\n",
    "    \n",
    "    \n",
    "        \n",
    "        \n",
    "    "
   ]
  },
  {
   "cell_type": "code",
   "execution_count": null,
   "id": "62298119-bb4e-44f6-a961-0be372abb9ca",
   "metadata": {},
   "outputs": [],
   "source": [
    "Problem 10: Rotate a linked list to the right by k places.\n",
    "Input: 1 -> 2 -> 3 -> 4 -> 5, k = 2\n",
    "Output: 4 -> 5 -> 1 -> 2 -> 3"
   ]
  },
  {
   "cell_type": "code",
   "execution_count": 5,
   "id": "93048032-a5ed-4a1e-bdc4-24b41c4765bb",
   "metadata": {},
   "outputs": [
    {
     "name": "stdout",
     "output_type": "stream",
     "text": [
      "4->5->1->2->3->"
     ]
    }
   ],
   "source": [
    "# step 1 create the class Node\n",
    "class Node:\n",
    "    def __init__(self, value=0, next=None):\n",
    "        self.value=value\n",
    "        self.next=next\n",
    "# step 2 create the founction to rotate the linklist        \n",
    "def rotate(head,k):\n",
    "    if not head or k==0:\n",
    "        return head\n",
    "  \n",
    "    length=1\n",
    "    tail=head\n",
    "    while tail.next :\n",
    "        length+=1\n",
    "        tail=tail.next\n",
    "            \n",
    "    k%=length\n",
    "    if k==0:\n",
    "        return head\n",
    "            \n",
    "    new_head_index=length-k\n",
    "    new_tail=head\n",
    "# step 3  runing the for loop         \n",
    "    for i in range(new_head_index-1):\n",
    "        new_tail=new_tail.next\n",
    "    new_head=new_tail.next\n",
    "    new_tail.next=None\n",
    "    tail.next=head\n",
    "    return new_head\n",
    "        \n",
    "head= Node(1,Node(2,Node(3,Node(4,Node(5)))))\n",
    "k = 2\n",
    "\n",
    "tim=rotate(head,2)\n",
    "\n",
    "while tim:\n",
    "    print(tim.value,end=\"->\")\n",
    "    tim=tim.next\n",
    "\n",
    "\n",
    "            \n",
    "            \n",
    "            \n",
    "            \n",
    "            \n",
    "        \n",
    "            \n",
    "            \n",
    "    "
   ]
  },
  {
   "cell_type": "code",
   "execution_count": null,
   "id": "0ec5fe7a-1eb3-4288-9cf2-ae539a85e8a2",
   "metadata": {},
   "outputs": [],
   "source": [
    "Problem 11: Flatten a multilevel doubly linked list.\n",
    "Input: 1 <-> 2 <-> 3 <-> 7 <-> 8 <-> 11 -> 12, 4 <-> 5 -> 9 -> 10, 6 -> 13\n",
    "Output: 1 <-> 2 <-> 3 <-> 4 <-> 5 <-> 6 <-> 7 <-> 8 <-> 9 <-> 10 <-> 11 <-> 12 <-> 13"
   ]
  },
  {
   "cell_type": "code",
   "execution_count": 2,
   "id": "20476ffa-8d38-420a-8b46-c5838282913b",
   "metadata": {},
   "outputs": [
    {
     "name": "stdout",
     "output_type": "stream",
     "text": [
      "1 <-> 2 <-> 3 <-> 7 <-> 4 <-> 5 <-> 9 <-> 6 <-> 13 <-> 10 <-> 8 <-> 11 <-> 12 <-> "
     ]
    }
   ],
   "source": [
    "# step 1  create the class Node\n",
    "class Node:\n",
    "    # step 2 create the constructor \n",
    "    def __init__(self, value, prev=None, next=None, child=None):\n",
    "        self.value = value\n",
    "        self.prev = prev\n",
    "        self.next = next\n",
    "        self.child = child\n",
    "# step 3 create the founction to flatten multilevel linklst\n",
    "def flatten_multilevel_dll(head):\n",
    "    stack = []\n",
    "    current = head\n",
    "# step  4 runingthe while loop\n",
    "    while current or stack:\n",
    "        if current.child:\n",
    "            if current.next:\n",
    "                stack.append(current.next)\n",
    "            current.next = current.child\n",
    "            current.child.prev = current\n",
    "            current.child = None\n",
    "\n",
    "        if not current.next and stack:\n",
    "            temp = stack.pop()\n",
    "            current.next = temp\n",
    "            temp.prev = current\n",
    "\n",
    "        current = current.next\n",
    "\n",
    "    return head\n",
    "# Given input\n",
    "# 1 <-> 2 <-> 3 <-> 7 <-> 8 <-> 11 -> 12\n",
    "#             |\n",
    "#             4 <-> 5 -> 9 -> 10\n",
    "#                  |\n",
    "#                  6 -> 13\n",
    "\n",
    "# Create nodes\n",
    "node1 = Node(1)\n",
    "node2 = Node(2)\n",
    "node3 = Node(3)\n",
    "node4 = Node(4)\n",
    "node5 = Node(5)\n",
    "node6 = Node(6)\n",
    "node7 = Node(7)\n",
    "node8 = Node(8)\n",
    "node9 = Node(9)\n",
    "node10 = Node(10)\n",
    "node11 = Node(11)\n",
    "node12 = Node(12)\n",
    "node13 = Node(13)\n",
    "\n",
    "# Connect nodes\n",
    "node1.next = node2\n",
    "node2.prev = node1\n",
    "node2.next = node3\n",
    "node3.prev = node2\n",
    "node3.next = node7\n",
    "node7.prev = node3\n",
    "node7.next = node8\n",
    "node8.prev = node7\n",
    "node8.next = node11\n",
    "node11.prev = node8\n",
    "node11.next = node12\n",
    "node12.prev = node11\n",
    "\n",
    "node7.child = node4\n",
    "node4.next = node5\n",
    "node5.prev = node4\n",
    "node5.next = node9\n",
    "node9.prev = node5\n",
    "node9.next = node10\n",
    "node10.prev = node9\n",
    "\n",
    "node9.child = node6\n",
    "node6.next = node13\n",
    "node13.prev = node6\n",
    "\n",
    "# Flatten the multilevel doubly linked list\n",
    "head = flatten_multilevel_dll(node1)\n",
    "\n",
    "# Print the flattened list\n",
    "current = head\n",
    "while current:\n",
    "    print(current.value, end=\" <-> \")\n",
    "    current = current.next\n",
    "\n"
   ]
  },
  {
   "cell_type": "code",
   "execution_count": null,
   "id": "11c45e72-ae0b-4a25-a8c3-92c3a05a0e8b",
   "metadata": {},
   "outputs": [],
   "source": [
    "Problem 12: Rearrange a linked list such that all even positioned nodes are placed at the end.\n",
    "Input: 1 -> 2 -> 3 -> 4 -> 5\n",
    "Output: 1 -> 3 -> 5 -> 2 -> 4"
   ]
  },
  {
   "cell_type": "code",
   "execution_count": 6,
   "id": "6232b1ae-376f-4425-9c96-0f55844aa94e",
   "metadata": {},
   "outputs": [
    {
     "name": "stdout",
     "output_type": "stream",
     "text": [
      "1 -> 3 -> 5 -> 2 -> 4 -> "
     ]
    }
   ],
   "source": [
    "# step 1 create the Class of List NODE\n",
    "class ListNode:\n",
    "    def __init__(self, value=0, next=None):\n",
    "        self.value = value\n",
    "        self.next = next\n",
    "# step2 rearranging the linklist\n",
    "def rearrange_linked_list(head):\n",
    "    if not head or not head.next:\n",
    "        return head\n",
    "\n",
    "    odd_head = ListNode()\n",
    "    odd_tail = odd_head\n",
    "    even_head = ListNode()\n",
    "    even_tail = even_head\n",
    "\n",
    "    current = head\n",
    "    is_odd = True\n",
    "# step3  runing the while loop\n",
    "    while current:\n",
    "        if is_odd:\n",
    "            odd_tail.next = current\n",
    "            odd_tail = odd_tail.next\n",
    "        else:\n",
    "            even_tail.next = current\n",
    "            even_tail = even_tail.next\n",
    "\n",
    "        is_odd = not is_odd\n",
    "        current = current.next\n",
    "\n",
    "    odd_tail.next = even_head.next\n",
    "    even_tail.next = None\n",
    "\n",
    "    return odd_head.next\n",
    "\n",
    "# Example usage:\n",
    "# Create a linked list: 1 -> 2 -> 3 -> 4 -> 5\n",
    "head = ListNode(1, ListNode(2, ListNode(3, ListNode(4, ListNode(5)))))\n",
    "\n",
    "# Rearrange the linked list\n",
    "new_head = rearrange_linked_list(head)\n",
    "\n",
    "# Print the rearranged linked list\n",
    "current = new_head\n",
    "while current:\n",
    "    print(current.value, end=\" -> \")\n",
    "    current = current.next\n"
   ]
  },
  {
   "cell_type": "code",
   "execution_count": null,
   "id": "029fc343-cd05-47c4-a9b2-aecb8f813460",
   "metadata": {},
   "outputs": [],
   "source": [
    "Problem 13: Given a non-negative number represented as a linked list, add one to it.\n",
    "Input: 1 -> 2 -> 3 (represents the number 123)\n",
    "Output: 1 -> 2 -> 4 (represents the number 124)"
   ]
  },
  {
   "cell_type": "code",
   "execution_count": 7,
   "id": "69a5c428-80d9-4191-bd32-17d814664a23",
   "metadata": {},
   "outputs": [
    {
     "name": "stdout",
     "output_type": "stream",
     "text": [
      "1 -> 2 -> 4 -> "
     ]
    }
   ],
   "source": [
    "# step1 creating the class of list node\n",
    "class ListNode:\n",
    "    def __init__(self, value=0, next=None):\n",
    "        self.value = value\n",
    "        self.next = next\n",
    "\n",
    "def add_one_to_linked_list(head):\n",
    "    # Step 1: Reverse the linked list\n",
    "    reversed_head = reverse_linked_list(head)\n",
    "\n",
    "    # Step 2: Traverse the reversed linked list and add one\n",
    "    current = reversed_head\n",
    "    carry = 1  # Start with the carry value of 1\n",
    "\n",
    "    while current:\n",
    "        total = current.value + carry\n",
    "        current.value = total % 10\n",
    "        carry = total // 10\n",
    "\n",
    "        if not current.next and carry:\n",
    "            current.next = ListNode(carry)\n",
    "\n",
    "        current = current.next\n",
    "\n",
    "    # Step 3: Reverse the linked list back to its original order\n",
    "    result_head = reverse_linked_list(reversed_head)\n",
    "\n",
    "    return result_head\n",
    "\n",
    "def reverse_linked_list(head):\n",
    "    prev = None\n",
    "    current = head\n",
    "\n",
    "    while current:\n",
    "        next_node = current.next\n",
    "        current.next = prev\n",
    "        prev = current\n",
    "        current = next_node\n",
    "\n",
    "    return prev\n",
    "\n",
    "# Example usage:\n",
    "# Input: 1 -> 2 -> 3 (represents the number 123)\n",
    "input_linked_list = ListNode(1, ListNode(2, ListNode(3)))\n",
    "\n",
    "# Add one to the linked list\n",
    "output_linked_list = add_one_to_linked_list(input_linked_list)\n",
    "\n",
    "# Print the result\n",
    "current = output_linked_list\n",
    "while current:\n",
    "    print(current.value, end=\" -> \")\n",
    "    current = current.next\n"
   ]
  },
  {
   "cell_type": "code",
   "execution_count": null,
   "id": "7096aec8-c660-49b6-9fde-f319a5fe1323",
   "metadata": {},
   "outputs": [],
   "source": [
    "Problem 14: Given a sorted array and a target value, return the index if the target is found. If not, return the\n",
    "index where it would be inserted.\n",
    "Input: nums = [1, 3, 5, 6], target = 5\n",
    "Output: 2"
   ]
  },
  {
   "cell_type": "code",
   "execution_count": 9,
   "id": "b1a040fe-32ac-4b4b-a75e-318ec13d0f7c",
   "metadata": {},
   "outputs": [
    {
     "data": {
      "text/plain": [
       "2"
      ]
     },
     "execution_count": 9,
     "metadata": {},
     "output_type": "execute_result"
    }
   ],
   "source": [
    "# step 1 creatingthe founction to find target\n",
    "def find(arr,target):\n",
    "    # step 2 finding the length of arr\n",
    "    n=len(arr)\n",
    "    # step 3 runing the for loop\n",
    "    for i in range(n):\n",
    "        if arr[i]==target:\n",
    "            return i\n",
    "        elif arr[i] <target<arr[i+1]:\n",
    "            return i+1\n",
    "            \n",
    "nums = [1, 3, 5, 6]\n",
    "k=find(nums,5)\n",
    "k"
   ]
  },
  {
   "cell_type": "code",
   "execution_count": null,
   "id": "de53e4be-2a28-454e-a2c3-4ede41662c86",
   "metadata": {},
   "outputs": [],
   "source": [
    "Problem 15: Find the minimum element in a rotated sorted array.\n",
    "Input: [4, 5, 6, 7, 0, 1, 2]\n",
    "Output: 0"
   ]
  },
  {
   "cell_type": "code",
   "execution_count": 20,
   "id": "3af6c5fb-cfeb-4acc-9c31-ddacaf842df2",
   "metadata": {},
   "outputs": [
    {
     "data": {
      "text/plain": [
       "0"
      ]
     },
     "execution_count": 20,
     "metadata": {},
     "output_type": "execute_result"
    }
   ],
   "source": [
    "# step1 creating the founction  mini \n",
    "def mini(arr):\n",
    "    #step 2  sorting the aaray\n",
    "    arr.sort()\n",
    "    return arr[0]\n",
    "\n",
    "m= [4, 5, 6, 7, 0, 1, 2]\n",
    "mini(m)\n",
    "    \n",
    "    "
   ]
  },
  {
   "cell_type": "code",
   "execution_count": null,
   "id": "b8b055d0-10d0-4923-830b-37e274c6ffe5",
   "metadata": {},
   "outputs": [],
   "source": [
    "Problem 17: Find the peak element in an array. A peak element is greater than its neighbors.\n",
    "Input: nums = [1, 2, 3, 1]\n",
    "Output: 2 (index of peak element)"
   ]
  },
  {
   "cell_type": "code",
   "execution_count": 35,
   "id": "a02bbf8c-6d0e-4e2e-8e22-3626ac2c3461",
   "metadata": {},
   "outputs": [
    {
     "name": "stdout",
     "output_type": "stream",
     "text": [
      "2\n"
     ]
    }
   ],
   "source": [
    "# step 1 creating the founction for finding the peak element\n",
    "def peak(arr):\n",
    "    i=0\n",
    "    j=i+1\n",
    "    c=len(arr)\n",
    "    # step 2 runing the for loop\n",
    "    for i in range(c):\n",
    "        # step3 runing the another for loop\n",
    "        for j in range(c):\n",
    "            if arr[i]<arr[i+1]>arr[j+1]:\n",
    "                return j\n",
    "                \n",
    "                \n",
    "#exampleusage\n",
    "arr = [1, 2, 3, 1]\n",
    "k=peak(arr)\n",
    "print(k)"
   ]
  },
  {
   "cell_type": "code",
   "execution_count": null,
   "id": "db47793a-98b1-4cb8-a328-5fc16029cad2",
   "metadata": {},
   "outputs": [],
   "source": [
    "Problem 18: Given a m x n matrix where each row and column is sorted in ascending order, count the number\n",
    "of negative numbers.\n",
    "Input: grid = [[4, 3, 2, -1], [3, 2, 1, -1], [1, 1, -1, -2], [-1, -1, -2, -3]]\n",
    "Output: 8"
   ]
  },
  {
   "cell_type": "code",
   "execution_count": 5,
   "id": "798f81c2-452d-41e0-a6fb-022df8454caa",
   "metadata": {},
   "outputs": [
    {
     "data": {
      "text/plain": [
       "8"
      ]
     },
     "execution_count": 5,
     "metadata": {},
     "output_type": "execute_result"
    }
   ],
   "source": [
    "# step1 creating the founction for finding the  number of negative numberin array\n",
    "def neg(grid):\n",
    "    m,n=len(grid),len(grid[0])\n",
    "    # step 2 initializxing the rowa and coloum\n",
    "    row,col=m-1,0\n",
    "    count=0\n",
    "    # step 3  runingthewhile loop\n",
    "    while(row>=0 and col < n):\n",
    "        if grid[row][col]<1:\n",
    "            count+=n-col\n",
    "            row-=1\n",
    "        else:\n",
    "            col+=1\n",
    "    return count\n",
    "\n",
    "\n",
    "grid = [[4, 3, 2, -1], [3, 2, 1, -1], [1, 1, -1, -2], [-1, -1, -2, -3]]\n",
    "neg(grid)\n",
    "\n",
    "\n",
    "            \n",
    "    \n",
    "    "
   ]
  },
  {
   "cell_type": "code",
   "execution_count": null,
   "id": "47eb369e-747b-4e20-9539-bb1a081000fc",
   "metadata": {},
   "outputs": [],
   "source": [
    "Problem 19: Given a 2D matrix sorted in ascending order in each row, and the first integer of each row is\n",
    "greater than the last integer of the previous row, determine if a target value is present in the matrix.\n",
    "Input: matrix = [[1, 3, 5, 7], [10, 11, 16, 20], [23, 30, 34, 60]], target = 3\n",
    "Output: True"
   ]
  },
  {
   "cell_type": "code",
   "execution_count": 9,
   "id": "a00596f8-53b6-4d3d-952f-52b4d9af29ef",
   "metadata": {},
   "outputs": [
    {
     "name": "stdout",
     "output_type": "stream",
     "text": [
      "True\n"
     ]
    }
   ],
   "source": [
    "# step1 creating thefounction for searching the matrix \n",
    "def search_matrix(matrix, target):\n",
    "    # step 2 Runing the if  and elese condition\n",
    "    if not matrix or not matrix[0]:\n",
    "        return False\n",
    "    # step 3  initializinght  the row  and col \n",
    "\n",
    "    rows, cols = len(matrix), len(matrix[0])\n",
    "    left, right = 0, rows * cols - 1\n",
    "    # step 4 using the 2 pointer approach\n",
    "\n",
    "    while left <= right:\n",
    "        mid = (left + right) // 2\n",
    "        mid_value = matrix[mid // cols][mid % cols]\n",
    "\n",
    "        if mid_value == target:\n",
    "            return True\n",
    "        elif mid_value < target:\n",
    "            left = mid + 1\n",
    "        else:\n",
    "            right = mid - 1\n",
    "\n",
    "    return False\n",
    "\n",
    "# Example usage:\n",
    "matrix = [[1, 3, 5, 7], [10, 11, 16, 20], [23, 30, 34, 60]]\n",
    "target = 3\n",
    "result = search_matrix(matrix, target)\n",
    "print(result)\n",
    "\n",
    "\n",
    "    \n"
   ]
  },
  {
   "cell_type": "code",
   "execution_count": null,
   "id": "824c3fd7-305c-4cd8-8cc0-b656b3596aa3",
   "metadata": {},
   "outputs": [],
   "source": [
    "Problem 20: Find Median in Two Sorted Arrays\n",
    "Problem: Given two sorted arrays, find the median of the combined sorted array.\n",
    "Input: nums1 = [1, 3], nums2 = [2]\n",
    "Output: 2.0"
   ]
  },
  {
   "cell_type": "code",
   "execution_count": 16,
   "id": "1ff8b7e6-2bb3-4ba6-a894-89a75f677c60",
   "metadata": {},
   "outputs": [
    {
     "name": "stdout",
     "output_type": "stream",
     "text": [
      "2\n"
     ]
    }
   ],
   "source": [
    "# step1 creating the founction for finding the,median\n",
    "def meadian(nums1, nums2):\n",
    "    # step 2  storing the sorted array nuam1 and num2 \n",
    "    Num=sorted(nums1+nums2)\n",
    "    k=len(Num)\n",
    "    # step3  checking its odd or not \n",
    "    if k%2==1:\n",
    "        return Num[ k//2]\n",
    "    else:\n",
    "        mid1=k//2\n",
    "        mid2=mid1-1\n",
    "        return (Num[mid1] + Num[mid2]) // 2\n",
    "    \n",
    "#example usage\n",
    "nums1 = [1, 3]\n",
    "nums2 = [2]\n",
    "m= meadian(nums1, nums2)\n",
    "print(m)\n",
    "\n",
    "\n",
    "\n",
    "    \n",
    "        \n",
    "        \n",
    "        \n",
    "        \n",
    "        \n",
    "    "
   ]
  },
  {
   "cell_type": "code",
   "execution_count": null,
   "id": "d39febd6-25df-45bb-a3bc-f9f6611d5d55",
   "metadata": {},
   "outputs": [],
   "source": [
    "Problem 21: Given a sorted character array and a target letter, find the smallest letter in the array that is\n",
    "greater than the target.\n",
    "Input: letters = ['c', 'f', 'j'], target = a\n",
    "Output: 'c'"
   ]
  },
  {
   "cell_type": "code",
   "execution_count": 23,
   "id": "25f60d29-7835-4b12-a7f5-0b82000ceb2e",
   "metadata": {},
   "outputs": [
    {
     "data": {
      "text/plain": [
       "'c'"
      ]
     },
     "execution_count": 23,
     "metadata": {},
     "output_type": "execute_result"
    }
   ],
   "source": [
    "# step 1 creating the founction\n",
    "def sla(arr, target):\n",
    "    start=0\n",
    "    end=len(arr)\n",
    "    # step 2 runingthe while loop\n",
    "    while(start<=end):\n",
    "        mid=start+(end-start)//2\n",
    "        if(arr[mid]>target):\n",
    "            pos=mid\n",
    "            end=mid-1\n",
    "        else:\n",
    "            start=mid+1\n",
    "    return pos\n",
    "\n",
    "#exaple usage\n",
    "arr = ['c', 'f', 'j']\n",
    "target = 'a'\n",
    "k=sla(arr,target)\n",
    "arr[k]\n",
    "\n",
    "        \n",
    "        "
   ]
  },
  {
   "cell_type": "code",
   "execution_count": null,
   "id": "781d8a96-b5c8-420f-8d89-bc9f6a3013cd",
   "metadata": {},
   "outputs": [],
   "source": [
    "Problem 22: Given an array with n objects colored red, white, or blue, sort them in-place so that objects of\n",
    "the same color are adjacent, with the colors in the order red, white, and blue.\n",
    "Input: nums = [2, 0, 2, 1, 1, 0]\n",
    "Output: [0, 0, 1, 1, 2, 2]"
   ]
  },
  {
   "cell_type": "code",
   "execution_count": 25,
   "id": "83ef1181-2b57-4408-9652-f86754dd5b5f",
   "metadata": {},
   "outputs": [
    {
     "data": {
      "text/plain": [
       "[0, 0, 1, 1, 2, 2]"
      ]
     },
     "execution_count": 25,
     "metadata": {},
     "output_type": "execute_result"
    }
   ],
   "source": [
    "# step 1 creating the founction adjacent \n",
    "def adjacent(nums):\n",
    "    # step 2 sorting the nums \n",
    "    nums.sort()\n",
    "    return nums\n",
    "# exaple usage\n",
    "nums=[2, 0, 2, 1, 1, 0]\n",
    "adjacent(nums)\n"
   ]
  },
  {
   "cell_type": "code",
   "execution_count": null,
   "id": "3d2f61ce-8855-45e3-8adb-1ebebf97b2a5",
   "metadata": {},
   "outputs": [],
   "source": [
    "Problem 23: Find the kth largest element in an unsorted array.\n",
    "Input: nums = [3, 2, 1, 5, 6, 4], k = 2\n",
    "Output: 5"
   ]
  },
  {
   "cell_type": "code",
   "execution_count": 30,
   "id": "c29962dd-5a75-4ff0-8654-39304f879a52",
   "metadata": {},
   "outputs": [
    {
     "data": {
      "text/plain": [
       "5"
      ]
     },
     "execution_count": 30,
     "metadata": {},
     "output_type": "execute_result"
    }
   ],
   "source": [
    "# step 1 creatiung the founction\n",
    "def kthlargest(arr,k):\n",
    "    # step2 findinghte length of array\n",
    "    n=len(arr)\n",
    "    # step 3 sorting the array\n",
    "    arr.sort()\n",
    "    return arr[(n-k)]\n",
    "\n",
    "nums=[3, 2, 1, 5, 6, 4]\n",
    "kthlargest(nums,2)\n",
    "\n"
   ]
  },
  {
   "cell_type": "code",
   "execution_count": null,
   "id": "9084c021-aea2-4078-a90d-a529977c80c0",
   "metadata": {},
   "outputs": [],
   "source": [
    "Problem 24: Given an unsorted array, reorder it in-place such that nums[0] <= nums[1] >= nums[2] <=\n",
    "nums[3]...\n",
    "Input: nums = [3, 5, 2, 1, 6, 4]\n",
    "Output: [3, 5, 1, 6, 2, 4]"
   ]
  },
  {
   "cell_type": "code",
   "execution_count": 38,
   "id": "c59f4dbc-618a-4310-946d-462da35f5644",
   "metadata": {},
   "outputs": [
    {
     "name": "stdout",
     "output_type": "stream",
     "text": [
      "[3, 5, 1, 6, 2, 4]\n"
     ]
    }
   ],
   "source": [
    "# step1  creatingthefounction for sorting the array\n",
    "def inwave(nums):\n",
    "    # step 2 runungthe for loop\n",
    "    for i  in range(0,len(nums),2):\n",
    "        #  step 3 checking for the left side\n",
    "        if(i>0 and nums[i]>nums[i-1]):\n",
    "            nums[i],nums[i-1]=nums[i-1],nums[i]\n",
    "        # step 4 checking for the right side\n",
    "        \n",
    "        if(i<len(nums) and nums[i]>nums[i+1]):\n",
    "            nums[i],nums[i+1]=nums[i+1],nums[i]\n",
    "            \n",
    "nums= [3, 5, 2, 1, 6, 4]\n",
    "inwave(nums)\n",
    "print(nums)"
   ]
  },
  {
   "cell_type": "code",
   "execution_count": null,
   "id": "dcbcdfd8-2464-46f4-9113-d749196f01e1",
   "metadata": {},
   "outputs": [],
   "source": [
    "Problem 25: Given an array of integers, calculate the sum of all its elements.\n",
    "Input: [1, 2, 3, 4, 5]\n",
    "Output: 15"
   ]
  },
  {
   "cell_type": "code",
   "execution_count": 42,
   "id": "bcea288a-4340-47ab-bee9-2dce72b91044",
   "metadata": {},
   "outputs": [
    {
     "data": {
      "text/plain": [
       "15"
      ]
     },
     "execution_count": 42,
     "metadata": {},
     "output_type": "execute_result"
    }
   ],
   "source": [
    "# step 1  creating the founction forfinding the sumoffall elements\n",
    "def sumofall(arr):\n",
    "    # step2 initializin gthe for loop\n",
    "    sumi=0\n",
    "    # step 3 riuning the for loop\n",
    "    for i  in range (len(arr)):\n",
    "        sumi+=arr[i]\n",
    "    return sumi\n",
    "\n",
    "arr=[1,2,3,4,5]\n",
    "sumofall(arr)\n",
    "\n"
   ]
  },
  {
   "cell_type": "code",
   "execution_count": null,
   "id": "d3ec4648-e05e-496c-86c0-658ed758bb7c",
   "metadata": {},
   "outputs": [],
   "source": [
    "Problem 26: Find the maximum element in an array of integers.\n",
    "Input: [3, 7, 2, 9, 4, 1]\n",
    "Output: 9"
   ]
  },
  {
   "cell_type": "code",
   "execution_count": 43,
   "id": "e305686a-9ede-4739-8cce-8101b8c6808e",
   "metadata": {},
   "outputs": [
    {
     "data": {
      "text/plain": [
       "9"
      ]
     },
     "execution_count": 43,
     "metadata": {},
     "output_type": "execute_result"
    }
   ],
   "source": [
    "# step 1 finding the maximum of the founction \n",
    "def maxima(arr):\n",
    "    # step 2  initializng the maxi arr[0]\n",
    "    maxi=arr[0]\n",
    "    # step3 runingthefor loop\n",
    "    for i in range (1,len(arr)):\n",
    "        if(arr[i]>maxi):\n",
    "            maxi=arr[i]\n",
    "    return maxi\n",
    "\n",
    "arr=[3, 7, 2, 9, 4, 1]\n",
    "maxima(arr)\n",
    "            \n",
    "    "
   ]
  },
  {
   "cell_type": "code",
   "execution_count": null,
   "id": "aa293622-c033-4a66-9efa-ae375e4d0689",
   "metadata": {},
   "outputs": [],
   "source": [
    "Problem 27: Implement linear search to find the index of a target element in an array.\n",
    "Input: [5, 3, 8, 2, 7, 4], target = 8\n",
    "Output:2"
   ]
  },
  {
   "cell_type": "code",
   "execution_count": 44,
   "id": "38b52223-6613-4c55-b23a-c242c3c15b62",
   "metadata": {},
   "outputs": [
    {
     "data": {
      "text/plain": [
       "2"
      ]
     },
     "execution_count": 44,
     "metadata": {},
     "output_type": "execute_result"
    }
   ],
   "source": [
    "# step 1  makingthe founction for ;linear search\n",
    "def linersearch(arr,target):\n",
    "    #step 2 makin the for loop\n",
    "    for i in range(len(arr)):\n",
    "        # step3 runingthe condiational loop\n",
    "        if arr[i]==target:\n",
    "            return i\n",
    "        \n",
    "arr= [5, 3, 8, 2, 7, 4]\n",
    "target=8\n",
    "linersearch(arr,target)\n",
    "\n",
    "        "
   ]
  },
  {
   "cell_type": "code",
   "execution_count": null,
   "id": "c76ded47-23a8-4126-ac85-f6da93cc5881",
   "metadata": {},
   "outputs": [],
   "source": [
    "Problem 28 Calculate the factorial of a given number.\n",
    "Input: 5\n",
    "Output: 120 (as 5! = 5 * 4 * 3 * 2 * 1 = 120)"
   ]
  },
  {
   "cell_type": "code",
   "execution_count": 5,
   "id": "015cffc5-6da6-4f92-9f56-d7b9746873ba",
   "metadata": {},
   "outputs": [
    {
     "data": {
      "text/plain": [
       "120"
      ]
     },
     "execution_count": 5,
     "metadata": {},
     "output_type": "execute_result"
    }
   ],
   "source": [
    "# step1  finding  he factorial of a number\n",
    "def fact(m):\n",
    "    # step2 runing the conditional statement\n",
    "    if m<=1:\n",
    "        return 1\n",
    "    else:\n",
    "        return m*fact(m-1)\n",
    "\n",
    "fact(5)\n"
   ]
  },
  {
   "cell_type": "code",
   "execution_count": null,
   "id": "22eb5ee1-325b-4643-8d2e-f552fe8217ff",
   "metadata": {},
   "outputs": [],
   "source": [
    "Problem 29: Check if a given number is a prime number.\n",
    "Input: 7\n",
    "Output: True\n"
   ]
  },
  {
   "cell_type": "code",
   "execution_count": 23,
   "id": "bb800a3f-f511-4959-9bf6-d6043b8d7ccd",
   "metadata": {},
   "outputs": [
    {
     "data": {
      "text/plain": [
       "True"
      ]
     },
     "execution_count": 23,
     "metadata": {},
     "output_type": "execute_result"
    }
   ],
   "source": [
    "# step1  making the  founction for finding the prime\n",
    "def isprime(n):\n",
    "    # step 2 runing the condiational statement\n",
    "    if n<2:\n",
    "        return False\n",
    "    for i in range(2,int(n**0.5)+1):\n",
    "        if n%i==0:\n",
    "            return False\n",
    "        else:\n",
    "            return True\n",
    "isprime(7)\n",
    "\n",
    "        "
   ]
  },
  {
   "cell_type": "code",
   "execution_count": null,
   "id": "2bb177bd-0e82-4d4e-ae1c-e51933233236",
   "metadata": {},
   "outputs": [],
   "source": [
    "Problem 30: Generate the Fibonacci series up to a given number n\n",
    "Input: 8\n",
    "Output: [0, 1, 1, 2, 3, 5, 8, 13]"
   ]
  },
  {
   "cell_type": "code",
   "execution_count": 31,
   "id": "4d44cbfb-587e-4704-ab24-79b7bba2ccc4",
   "metadata": {},
   "outputs": [
    {
     "name": "stdout",
     "output_type": "stream",
     "text": [
      "[0, 1, 1, 2, 3, 5, 8, 13]\n"
     ]
    }
   ],
   "source": [
    "# step1   genrate the fibonacci series by using the founction \n",
    "def generate_fibonacci_recursive(n, a=0, b=1, result=[]):\n",
    "    # step 2 base case \n",
    "    if a <= n:\n",
    "        result.append(a)\n",
    "        generate_fibonacci_recursive(n, b, a + b, result)\n",
    "\n",
    "    return result\n",
    "\n",
    "# Example usage:\n",
    "n = 13\n",
    "result = generate_fibonacci_recursive(n)\n",
    "print(result)\n"
   ]
  },
  {
   "cell_type": "code",
   "execution_count": null,
   "id": "843cd188-a3e7-4800-a94d-baf9044cb3f4",
   "metadata": {},
   "outputs": [],
   "source": [
    "Problem 31: Calculate the power of a number using recursion.\n",
    "Input: base = 3, exponent = 4\n",
    "Output: 81 (as 3^4 = 3 * 3 * 3 * 3 = 81)"
   ]
  },
  {
   "cell_type": "code",
   "execution_count": 32,
   "id": "d8718797-a479-432f-9548-2ce95fd5b580",
   "metadata": {},
   "outputs": [
    {
     "data": {
      "text/plain": [
       "81"
      ]
     },
     "execution_count": 32,
     "metadata": {},
     "output_type": "execute_result"
    }
   ],
   "source": [
    "# step1  creating the founction for finding the power of two\n",
    "def powi(b,e):\n",
    "    # step 2 creating the base case\n",
    "    if e==0:\n",
    "        return 1\n",
    "    else:\n",
    "        return b*powi(b,e-1)\n",
    "powi(3,4)\n",
    "    "
   ]
  },
  {
   "cell_type": "code",
   "execution_count": null,
   "id": "0184b41f-bccb-42ef-97bf-9009ff0525ff",
   "metadata": {},
   "outputs": [],
   "source": [
    "Problem 32: Reverse a given string.\n",
    "Input: \"hello\"\n",
    "Output: \"olleh\""
   ]
  },
  {
   "cell_type": "code",
   "execution_count": 33,
   "id": "ae372d29-6bab-49df-856c-f54509fbccda",
   "metadata": {},
   "outputs": [
    {
     "data": {
      "text/plain": [
       "'olleh'"
      ]
     },
     "execution_count": 33,
     "metadata": {},
     "output_type": "execute_result"
    }
   ],
   "source": [
    "# step 1  creating the founction for finding the reverse\n",
    "def reversei(str):\n",
    "    # stpe 2 reversing the string by slicing \n",
    "    return str[::-1]\n",
    "str=\"hello\"\n",
    "reversei(str)\n"
   ]
  },
  {
   "cell_type": "code",
   "execution_count": null,
   "id": "03f2a579-e5d1-44d3-8d0d-698522b99a80",
   "metadata": {},
   "outputs": [],
   "source": []
  }
 ],
 "metadata": {
  "kernelspec": {
   "display_name": "Python 3 (ipykernel)",
   "language": "python",
   "name": "python3"
  },
  "language_info": {
   "codemirror_mode": {
    "name": "ipython",
    "version": 3
   },
   "file_extension": ".py",
   "mimetype": "text/x-python",
   "name": "python",
   "nbconvert_exporter": "python",
   "pygments_lexer": "ipython3",
   "version": "3.10.8"
  }
 },
 "nbformat": 4,
 "nbformat_minor": 5
}
