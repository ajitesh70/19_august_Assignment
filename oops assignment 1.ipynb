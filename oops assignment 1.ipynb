{
 "cells": [
  {
   "cell_type": "code",
   "execution_count": null,
   "id": "321549e9-cf4e-4263-9fba-263a744fd67c",
   "metadata": {},
   "outputs": [],
   "source": [
    "#1. Bank Account Create a class representing a bank account with attributes like account number, account holder name, and balance. Implement methods to deposit and withdraw money from the account."
   ]
  },
  {
   "cell_type": "code",
   "execution_count": null,
   "id": "e4d4a337-cb27-4f15-8c67-64e2c15bee04",
   "metadata": {},
   "outputs": [],
   "source": []
  },
  {
   "cell_type": "code",
   "execution_count": 15,
   "id": "98e9a020-e9fa-4131-a3e0-0efb4f709596",
   "metadata": {},
   "outputs": [
    {
     "name": "stdout",
     "output_type": "stream",
     "text": [
      "\n",
      "Choose an option:\n",
      "1. Deposit\n",
      "2. Withdraw\n",
      "3. Check Balance\n",
      "4. Exit\n"
     ]
    },
    {
     "name": "stdin",
     "output_type": "stream",
     "text": [
      "Enter your choice (1-4):  1\n",
      "Enter the deposit amount:  2333\n"
     ]
    },
    {
     "name": "stdout",
     "output_type": "stream",
     "text": [
      "Deposit of 2333.00 successful. New balance: 3333.00\n",
      "\n",
      "Choose an option:\n",
      "1. Deposit\n",
      "2. Withdraw\n",
      "3. Check Balance\n",
      "4. Exit\n"
     ]
    },
    {
     "name": "stdin",
     "output_type": "stream",
     "text": [
      "Enter your choice (1-4):  3\n"
     ]
    },
    {
     "name": "stdout",
     "output_type": "stream",
     "text": [
      "Current balance: 3333\n",
      "\n",
      "Choose an option:\n",
      "1. Deposit\n",
      "2. Withdraw\n",
      "3. Check Balance\n",
      "4. Exit\n"
     ]
    },
    {
     "name": "stdin",
     "output_type": "stream",
     "text": [
      "Enter your choice (1-4):  4\n"
     ]
    }
   ],
   "source": [
    "class BankAccount:\n",
    "    def __init__(self, account_number, account_holder_name, balance=0.0):\n",
    "        self.account_number = account_number\n",
    "        self.account_holder_name = account_holder_name\n",
    "        self.balance = balance\n",
    "\n",
    "    def deposit(self, amount):\n",
    "        try:\n",
    "            if amount > 0:\n",
    "                self.balance += amount\n",
    "                print(f\"Deposit of {amount:.2f} successful. New balance: {self.balance:.2f}\")\n",
    "            else:\n",
    "                print(\"Invalid deposit amount. Please enter a positive value.\")\n",
    "        except ValueError:\n",
    "            print(\"Invalid input. Please enter a valid number for the deposit.\")\n",
    "\n",
    "\n",
    "    def withdraw(self, amount):\n",
    "        try:\n",
    "            if amount > 0 and amount <= self.balance:\n",
    "                self.balance -= amount\n",
    "                print(f\"Withdrawal of {amount:.2f} successful. New balance: {self.balance:.2f}\")\n",
    "            elif amount > self.balance:\n",
    "                print(\"Insufficient funds. Withdrawal not possible.\")       \n",
    "            else:\n",
    "                print(\"Invalid withdrawal amount. Please enter a positive value.\")      \n",
    "        except ValueError:\n",
    "            print(\"Invalid input. Please enter a valid number for the withdrawal.\")\n",
    "      \n",
    "    def get_balance(self):\n",
    "        return self.balance\n",
    "\n",
    "# Main program\n",
    "account = BankAccount(\"1234\", \"Ajitesh\", 1000)\n",
    "\n",
    "while True:\n",
    "    print(\"\\nChoose an option:\")\n",
    "    print(\"1. Deposit\")\n",
    "    print(\"2. Withdraw\")\n",
    "    print(\"3. Check Balance\")\n",
    "    print(\"4. Exit\")\n",
    "\n",
    "    choice = input(\"Enter your choice (1-4): \")\n",
    "\n",
    "    if choice == \"1\":\n",
    "        deposit_amount = int(input(\"Enter the deposit amount: \"))\n",
    "        account.deposit(deposit_amount)\n",
    "    elif choice == \"2\":\n",
    "        withdraw_amount = int(input(\"Enter the withdrawal amount: \"))\n",
    "        account.withdraw(withdraw_amount)\n",
    "    elif choice == \"3\":\n",
    "        print(f\"Current balance: {account.get_balance():}\")\n",
    "    elif choice == \"4\":\n",
    "        break\n",
    "    else:\n",
    "        print(\"Invalid choice. Please enter a number between 1 and 4.\")\n"
   ]
  },
  {
   "cell_type": "code",
   "execution_count": 16,
   "id": "8b79c476-d297-4b10-9738-760220e50a0a",
   "metadata": {},
   "outputs": [],
   "source": [
    "#2. Employee Management Create a class representing an employee with attributes like employee ID, name, and salary. Implement methods to calculate the yearly bonus and display employee details."
   ]
  },
  {
   "cell_type": "code",
   "execution_count": 2,
   "id": "9d481774-a700-44a4-8c17-565ce18fabe4",
   "metadata": {},
   "outputs": [
    {
     "name": "stdout",
     "output_type": "stream",
     "text": [
      "employee id is 121 \n",
      "name is ajitesh\n",
      "salary is 500000\n",
      "bonus is   50000 \n",
      "\n",
      "employee id is 122 \n",
      "name is rahul\n",
      "salary is 650000\n",
      "bonus is   65000 \n",
      "\n"
     ]
    }
   ],
   "source": [
    "class EmployeeManagement:\n",
    "    def __init__(self, employee_id,name,salary):\n",
    "        self.employee_id=employee_id\n",
    "        self.name=name\n",
    "        self.salary=salary\n",
    "        \n",
    "        \n",
    "    \n",
    "    def yearly_bonus(self):\n",
    "        bonus_percent=0.10\n",
    "        bonus=int(self.salary*bonus_percent)\n",
    "        return bonus\n",
    "    \n",
    "    def employee_details(self):\n",
    "        print(f\"employee id is {self.employee_id} \")\n",
    "        print(f\"name is {self.name}\")\n",
    "        print(f\"salary is {self.salary}\")\n",
    "        print(\"bonus is  \", self.yearly_bonus(),\"\\n\")\n",
    "        \n",
    "        \n",
    "\n",
    "        \n",
    "employee1=EmployeeManagement(\"121\",\"ajitesh\",500000)\n",
    "employee2=EmployeeManagement(\"122\",\"rahul\",650000)\n",
    "employee1.employee_details()\n",
    "employee2.employee_details() \n",
    "            "
   ]
  },
  {
   "cell_type": "code",
   "execution_count": 25,
   "id": "649d5374-a0a4-4d28-9f37-d22f94500566",
   "metadata": {},
   "outputs": [],
   "source": [
    "#3. Vehicle Rental Create a class representing a vehicle rental system. Implement methods to rent a vehicle, return a vehicle, and display available vehicles"
   ]
  },
  {
   "cell_type": "code",
   "execution_count": 11,
   "id": "eb9d3ae4-6cd6-4051-8cc2-44e0e4328a9c",
   "metadata": {},
   "outputs": [
    {
     "name": "stdin",
     "output_type": "stream",
     "text": [
      "\n",
      "    1.rent\n",
      "    2. return\n",
      "    3. display\n",
      "    4. exit 1\n",
      "Enter num 12\n"
     ]
    },
    {
     "name": "stdout",
     "output_type": "stream",
     "text": [
      "Successfully rented 12 items.\n",
      "Available items for rent: 8\n"
     ]
    },
    {
     "name": "stdin",
     "output_type": "stream",
     "text": [
      "\n",
      "    1.rent\n",
      "    2. return\n",
      "    3. display\n",
      "    4. exit 2\n",
      "Enter input 12\n"
     ]
    },
    {
     "name": "stdout",
     "output_type": "stream",
     "text": [
      "Successfully returned 12 items.\n",
      "Available items for rent: 20\n"
     ]
    },
    {
     "name": "stdin",
     "output_type": "stream",
     "text": [
      "\n",
      "    1.rent\n",
      "    2. return\n",
      "    3. display\n",
      "    4. exit 3\n"
     ]
    },
    {
     "name": "stdout",
     "output_type": "stream",
     "text": [
      "Available items for rent: 20\n"
     ]
    },
    {
     "name": "stdin",
     "output_type": "stream",
     "text": [
      "\n",
      "    1.rent\n",
      "    2. return\n",
      "    3. display\n",
      "    4. exit 4\n"
     ]
    }
   ],
   "source": [
    "class RentalSystem:\n",
    "    def __init__(self, total_items):\n",
    "        self.total_items = total_items\n",
    "        self.available_items = total_items\n",
    "        self.rented_items = 0\n",
    "\n",
    "    def rent(self, quantity):\n",
    "        if quantity <= self.available_items:\n",
    "            self.rented_items += quantity\n",
    "            self.available_items -= quantity\n",
    "            print(f\"Successfully rented {quantity} items.\")\n",
    "        else:\n",
    "            print(\"Not enough items available for rent.\")\n",
    "\n",
    "    def return_items(self, quantity):\n",
    "        if quantity <= self.rented_items:\n",
    "            self.rented_items -= quantity\n",
    "            self.available_items += quantity\n",
    "            print(f\"Successfully returned {quantity} items.\")\n",
    "        else:\n",
    "            print(\"Invalid return quantity. You cannot return more than you have rented.\")\n",
    "\n",
    "    def display_available_items(self):\n",
    "        print(f\"Available items for rent: {self.available_items}\")\n",
    "\n",
    "\n",
    "rental_system = RentalSystem(total_items=20)\n",
    "\n",
    "while True:\n",
    "    uc=int(input('''\n",
    "    1.rent\n",
    "    2. return\n",
    "    3. display\n",
    "    4. exit'''))\n",
    "    \n",
    "    \n",
    "    if uc==1:\n",
    "        \n",
    "        n=int(input(\"Enter num\"))\n",
    "        rental_system.rent(n)\n",
    "        rental_system.display_available_items()\n",
    "              \n",
    "    elif uc==2:\n",
    "        n=int(input(\"Enter input\"))\n",
    "        rental_system.return_items(n)\n",
    "        rental_system.display_available_items()\n",
    "              \n",
    "              \n",
    "    elif uc==3:  \n",
    "        rental_system.display_available_items()\n",
    "        \n",
    "    else:\n",
    "        break\n",
    "              \n"
   ]
  },
  {
   "cell_type": "code",
   "execution_count": null,
   "id": "8783f516-36c6-4145-9a60-e9f0ac3b7ab1",
   "metadata": {},
   "outputs": [],
   "source": []
  },
  {
   "cell_type": "code",
   "execution_count": 1,
   "id": "239335fd-fe57-4c1e-938c-61494b13f2fa",
   "metadata": {},
   "outputs": [],
   "source": [
    "#Problem 4: Library Catalog Create classes representing a library and a book. Implement methods to add books to the library, borrow books, and display available books."
   ]
  },
  {
   "cell_type": "code",
   "execution_count": 11,
   "id": "91d0d223-2200-4486-96c4-6917868b64b7",
   "metadata": {},
   "outputs": [
    {
     "name": "stdout",
     "output_type": "stream",
     "text": [
      "Book The Great Gatsby added to the library.\n",
      "Book To Kill a Mockingbird added to the library.\n",
      "Book 1984 added to the library.\n",
      "\n",
      "Library Menu:\n",
      "1. Display Available Books\n",
      "2. Borrow a Book\n",
      "3. Exit\n"
     ]
    },
    {
     "name": "stdin",
     "output_type": "stream",
     "text": [
      "Enter your choice (1, 2, or 3):  1984\n"
     ]
    },
    {
     "name": "stdout",
     "output_type": "stream",
     "text": [
      "Invalid choice. Please enter 1, 2, or 3.\n",
      "\n",
      "Library Menu:\n",
      "1. Display Available Books\n",
      "2. Borrow a Book\n",
      "3. Exit\n"
     ]
    },
    {
     "name": "stdin",
     "output_type": "stream",
     "text": [
      "Enter your choice (1, 2, or 3):  3\n"
     ]
    },
    {
     "name": "stdout",
     "output_type": "stream",
     "text": [
      "Exiting the program.\n"
     ]
    }
   ],
   "source": [
    "class Book:\n",
    "    def __init__(self, title):\n",
    "        self.title = title\n",
    "        self.available = True\n",
    "    \n",
    "\n",
    "class Library:\n",
    "    def __init__(self):\n",
    "        self.books = []\n",
    "\n",
    "    def add_book(self, book):\n",
    "        self.books.append(book)\n",
    "        print(f\"Book {book.title} added to the library.\")\n",
    "\n",
    "    def borrow_book(self, title):\n",
    "        for book in self.books:\n",
    "            if book.title == title and book.available:\n",
    "                book.available = False\n",
    "                print(f\"You have borrowed '{book.title}'.\")\n",
    "                return\n",
    "        print(f\"Sorry, the book '{title}' is either not available or does not exist in the library.\")\n",
    "\n",
    "    def display_available_books(self):\n",
    "        available_books = [book.title for book in self.books if book.available]\n",
    "        if not available_books:\n",
    "            print(\"No available books in the library.\")\n",
    "        else:\n",
    "            print(\"Available Books:\", ', '.join(available_books))\n",
    "\n",
    "def main():\n",
    "    # Creating a library\n",
    "    library = Library()\n",
    "\n",
    "    # Adding books to the library\n",
    "    book1 = Book(\"The Great Gatsby\")\n",
    "    book2 = Book(\"To Kill a Mockingbird\")\n",
    "    book3 = Book(\"1984\")\n",
    "\n",
    "    library.add_book(book1)\n",
    "    library.add_book(book2)\n",
    "    library.add_book(book3)\n",
    "\n",
    "    while True:\n",
    "        # Display menu\n",
    "        print(\"\\nLibrary Menu:\")\n",
    "        print(\"1. Display Available Books\")\n",
    "        print(\"2. Borrow a Book\")\n",
    "        print(\"3. Exit\")\n",
    "\n",
    "        choice = input(\"Enter your choice (1, 2, or 3): \")\n",
    "\n",
    "        if choice == \"1\":\n",
    "            # Display available books\n",
    "            library.display_available_books()\n",
    "\n",
    "        elif choice == \"2\":\n",
    "            # Borrow a book\n",
    "            title_to_borrow = input(\"Enter the title of the book you want to borrow: \")\n",
    "            library.borrow_book(title_to_borrow)\n",
    "\n",
    "        elif choice == \"3\":\n",
    "            # Exit the program\n",
    "            print(\"Exiting the program.\")\n",
    "            break\n",
    "\n",
    "        else:\n",
    "            print(\"Invalid choice. Please enter 1, 2, or 3.\")\n",
    "\n",
    "if __name__ == \"__main__\":\n",
    "    main()\n",
    "\n",
    "            \n",
    "            \n",
    "            \n",
    "         "
   ]
  },
  {
   "cell_type": "code",
   "execution_count": null,
   "id": "c1fbd985-388a-4d0d-a5d1-f86f01f7c9c3",
   "metadata": {
    "tags": []
   },
   "outputs": [],
   "source": []
  },
  {
   "cell_type": "code",
   "execution_count": 4,
   "id": "bef0f791-dc05-4650-bf11-6d0719623ec9",
   "metadata": {},
   "outputs": [],
   "source": [
    "#Problem 5: Product Inventory Create classes representing a product and an inventory system. Implement methods to add products to the inventory, update product quantity, and display available products."
   ]
  },
  {
   "cell_type": "code",
   "execution_count": 1,
   "id": "57f2f79c-5415-4b79-aa87-57b1f5aa1c0c",
   "metadata": {},
   "outputs": [
    {
     "name": "stdout",
     "output_type": "stream",
     "text": [
      "Product 'Laptop' added to the inventory.\n",
      "Product 'Smartphone' added to the inventory.\n",
      "Product 'Headphones' added to the inventory.\n",
      "Available Products:\n",
      "Laptop (ID: 1) - Price: 30000.00 - Quantity: 10\n",
      "Smartphone (ID: 2) - Price: 10000.00 - Quantity: 20\n",
      "Headphones (ID: 3) - Price: 2000.00 - Quantity: 30\n",
      "Quantity for 'Smartphone' updated to 15.\n",
      "Available Products:\n",
      "Laptop (ID: 1) - Price: 30000.00 - Quantity: 10\n",
      "Smartphone (ID: 2) - Price: 10000.00 - Quantity: 15\n",
      "Headphones (ID: 3) - Price: 2000.00 - Quantity: 30\n"
     ]
    }
   ],
   "source": [
    "class Product:\n",
    "    def __init__(self, product_id, name, price, quantity):\n",
    "        self.product_id = product_id\n",
    "        self.name = name\n",
    "        self.price = price\n",
    "        self.quantity = quantity\n",
    "\n",
    "    def __str__(self):\n",
    "        return f\"{self.name} (ID: {self.product_id}) - Price: {self.price:.2f} - Quantity: {self.quantity}\"\n",
    "\n",
    "class InventorySystem:\n",
    "    def __init__(self):\n",
    "        self.inventory = []\n",
    "\n",
    "    def add_product(self, product):\n",
    "        self.inventory.append(product)\n",
    "        print(f\"Product '{product.name}' added to the inventory.\")\n",
    "\n",
    "    def update_quantity(self, product_id, new_quantity):\n",
    "        for product in self.inventory:\n",
    "            if product.product_id == product_id:\n",
    "                product.quantity = new_quantity\n",
    "                print(f\"Quantity for '{product.name}' updated to {new_quantity}.\")\n",
    "                return\n",
    "        print(f\"Product with ID {product_id} not found in the inventory.\")\n",
    "\n",
    "    def display_available_products(self):\n",
    "        if not self.inventory:\n",
    "            print(\"The inventory is currently empty.\")\n",
    "        else:\n",
    "            print(\"Available Products:\")\n",
    "            for product in self.inventory:\n",
    "                print(product)\n",
    "\n",
    "# Example usage:\n",
    "if __name__ == \"__main__\":\n",
    "    # Creating an inventory system\n",
    "    inventory_system = InventorySystem()\n",
    "\n",
    "    # Adding products to the inventory\n",
    "    product1 = Product(1, \"Laptop\", 30000, 10)\n",
    "    product2 = Product(2, \"Smartphone\", 10000, 20)\n",
    "    product3 = Product(3, \"Headphones\", 2000, 30)\n",
    "\n",
    "    inventory_system.add_product(product1)\n",
    "    inventory_system.add_product(product2)\n",
    "    inventory_system.add_product(product3)\n",
    "\n",
    "    # Displaying available products\n",
    "    inventory_system.display_available_products()\n",
    "\n",
    "    # Updating product quantity\n",
    "    inventory_system.update_quantity(2, 15)\n",
    "\n",
    "    # Displaying available products after update\n",
    "    inventory_system.display_available_products()\n"
   ]
  },
  {
   "cell_type": "code",
   "execution_count": 10,
   "id": "7a423c94-a558-4222-a976-757c172ceb7f",
   "metadata": {},
   "outputs": [],
   "source": [
    "#Problem 6: Shape Calculation Create a class representing a shape with attributes like length, width, and height. Implement methods to calculate the area and perimeter of the shape."
   ]
  },
  {
   "cell_type": "code",
   "execution_count": 9,
   "id": "75226ca2-0f14-40b0-9023-4c9ea4ae8abc",
   "metadata": {},
   "outputs": [
    {
     "name": "stdin",
     "output_type": "stream",
     "text": [
      "\n",
      "1. Rectangle\n",
      "2. Square 2\n",
      "Enter Side 2\n",
      "Enter Side 2\n"
     ]
    },
    {
     "name": "stdout",
     "output_type": "stream",
     "text": [
      "Square Area: 4\n",
      "Square Perimeter: 8\n"
     ]
    }
   ],
   "source": [
    "class Shape:\n",
    "    def __init__(self, length=0, width=0):\n",
    "        self.length = length\n",
    "        self.width = width\n",
    "\n",
    "    def calculate_area(self):\n",
    "        return self.length * self.width\n",
    "\n",
    "    def calculate_perimeter(self):\n",
    "        return 2 * (self.length + self.width)\n",
    "\n",
    "uc=int(input('''\n",
    "1. Rectangle\n",
    "2. Square'''))\n",
    "if uc==1:\n",
    "    length=int(input('Enter length'))\n",
    "    width=int(input('Enter width'))\n",
    "    rectangle =Shape(length, width)\n",
    "    print(\"Rectangle Area:\", rectangle.calculate_area())\n",
    "    print(\"Rectangle Perimeter:\", rectangle.calculate_perimeter())\n",
    "\n",
    "elif uc==2:\n",
    "    length=int(input(\"Enter Side\"))\n",
    "    width=int(input(\"Enter Side\"))\n",
    "    square = Shape(length, width)\n",
    "    print(\"Square Area:\", square.calculate_area())\n",
    "    print(\"Square Perimeter:\", square.calculate_perimeter())\n",
    "else:\n",
    "    print(\"wrong choice\")"
   ]
  },
  {
   "cell_type": "code",
   "execution_count": 12,
   "id": "e812fb7f-7295-4309-b6b0-2de7c69725c6",
   "metadata": {},
   "outputs": [],
   "source": [
    "#Problem 7: Student Management Create a class representing a student with attributes like student ID, name, and grades. Implement methods to calculate the average grade and display student details."
   ]
  },
  {
   "cell_type": "code",
   "execution_count": 14,
   "id": "0c9989c6-4431-4ee8-ba73-95e9130cbf71",
   "metadata": {},
   "outputs": [
    {
     "name": "stdout",
     "output_type": "stream",
     "text": [
      "Student ID:  7017\n",
      "Student name:  Ajitesh\n",
      "Student marks:  [72, 63, 84, 85]\n",
      "B Grade\n"
     ]
    }
   ],
   "source": [
    "class Student:\n",
    "    def __init__(self,student_id,name,grade):\n",
    "        self.student_id=student_id\n",
    "        self.name=name\n",
    "        self.grade=grade\n",
    "        \n",
    "        \n",
    "    def avg_grade(self):\n",
    "        average=sum(self.grade)/len(self.grade)\n",
    "        \n",
    "        if (80<average<=100):\n",
    "            print(\"A Grade\")\n",
    "        elif (60<average<=80):\n",
    "            print(\"B Grade\")\n",
    "        elif(40<average<=60):\n",
    "            print(\"C Grade\")\n",
    "        elif(0<=average<=40):\n",
    "            print(\"Fail\")\n",
    "        \n",
    "        else:\n",
    "            print(\"Incorrect grades\")\n",
    "            \n",
    "    def display_details(self):\n",
    "        print(\"Student ID: \",self.student_id)\n",
    "        print(\"Student name: \",self.name)\n",
    "        print(\"Student marks: \",self.grade)\n",
    "        \n",
    "    \n",
    "obj=Student(\"7017\",\"Ajitesh\",[72,63,84,85]) \n",
    "obj.display_details()\n",
    "obj.avg_grade()\n",
    "\n"
   ]
  },
  {
   "cell_type": "code",
   "execution_count": 15,
   "id": "0c78103e-5351-469d-b06e-bf0f4556f6e4",
   "metadata": {},
   "outputs": [],
   "source": [
    "#Problem 8: Email Management Create a class representing an email with attributes like sender, recipient, and subject. Implement methods to send an email and display email details."
   ]
  },
  {
   "cell_type": "code",
   "execution_count": 2,
   "id": "90d5c6be-895a-4746-9441-2acfb39924c1",
   "metadata": {},
   "outputs": [
    {
     "name": "stdout",
     "output_type": "stream",
     "text": [
      "Sender name:  ajitesh\n",
      "Recipient name:  ankit\n",
      "Subject: bhai mere paise dede\n",
      "Email was sent successfully\n"
     ]
    }
   ],
   "source": [
    "class EmailManagement:\n",
    "    def __init__(self,sender, recipient,subject):\n",
    "        self.sender=sender\n",
    "        self.recipient=recipient\n",
    "        self.subject=subject\n",
    "        \n",
    "    \n",
    "    def display_details(self):\n",
    "        print(\"Sender name: \",self.sender)\n",
    "        print(\"Recipient name: \",self.recipient)\n",
    "        print(\"Subject:\", self.subject)\n",
    "        \n",
    "        \n",
    "    def send(self):\n",
    "        if not self.subject:\n",
    "            pass\n",
    "        else:\n",
    "            print(\"Email was sent successfully\")\n",
    "            \n",
    "obj=EmailManagement(\"ajitesh\", \"ankit\", \"bhai mere paise dede\")\n",
    "obj.display_details()\n",
    "obj.send()\n",
    "        "
   ]
  },
  {
   "cell_type": "code",
   "execution_count": 3,
   "id": "ba9bcad2-f01b-49d2-aded-a53b0b8c6c26",
   "metadata": {},
   "outputs": [],
   "source": [
    "#Problem 9: Social Media Profile Create a class representing a social media profile with attributes like username and posts. Implement methods to add posts, display posts, and search for posts by keyword."
   ]
  },
  {
   "cell_type": "code",
   "execution_count": 32,
   "id": "bf971cb6-d44f-4839-bac1-871e10049e4b",
   "metadata": {},
   "outputs": [
    {
     "name": "stdout",
     "output_type": "stream",
     "text": [
      "Posts added by  ajitesh\n",
      "Hi!, everyone, Good morning\n",
      "hello\n",
      "namaskar\n",
      "posts containig  good are : Hi!, everyone, Good morning\n"
     ]
    }
   ],
   "source": [
    "class SocialMedia():\n",
    "    def __init__(self,username):\n",
    "        self.username=username\n",
    "        self.posts=[]\n",
    "        \n",
    "        \n",
    "    \n",
    "        \n",
    "    def add_posts(self,posts):\n",
    "        self.posts.append(posts)\n",
    "        \n",
    "    def display(self):\n",
    "        if self.posts:\n",
    "            print(\"Posts added by \",self.username)\n",
    "            for i in self.posts:\n",
    "                print(i )\n",
    "                \n",
    "    def search(self,keyword):\n",
    "        matching_posts=[]\n",
    "        for i in self.posts:\n",
    "            if keyword.lower() in i.lower():\n",
    "                matching_posts.append(i)\n",
    "            else:\n",
    "                pass\n",
    "        if matching_posts:\n",
    "            for i in matching_posts:\n",
    "                print(\"posts containig \",keyword ,\"are :\",i)\n",
    "        else:\n",
    "            print(\"no posts containing ,\",keyword)\n",
    "                \n",
    "        \n",
    "                \n",
    "            \n",
    "        \n",
    "        \n",
    "        \n",
    "user1=SocialMedia(\"ajitesh\")\n",
    "user1.add_posts(\"Hi!, everyone, Good morning\")\n",
    "user1.add_posts(\"hello\")\n",
    "user1.add_posts(\"namaskar\")\n",
    "user1.display()\n",
    "user1.search(\"good\")\n",
    "        "
   ]
  },
  {
   "cell_type": "code",
   "execution_count": null,
   "id": "98afc8b6-38fd-4666-baa8-a24bb35a59d4",
   "metadata": {},
   "outputs": [],
   "source": [
    "#Problem 10: ToDo List Create a class representing a ToDo list with attributes like tasks and due dates. Implement methods to add tasks, mark tasks as completed, and display pending tasks."
   ]
  },
  {
   "cell_type": "code",
   "execution_count": null,
   "id": "d6e4e8ea-4d9c-4efa-8756-5ec97ffeb1b4",
   "metadata": {},
   "outputs": [],
   "source": [
    "class ToDo:\n",
    "    def __init__(self,tasks"
   ]
  },
  {
   "cell_type": "code",
   "execution_count": 10,
   "id": "7e4d94c2-7c9b-41fe-bc06-555149c50f84",
   "metadata": {},
   "outputs": [
    {
     "name": "stdout",
     "output_type": "stream",
     "text": [
      "Pending tasks:\n",
      "0. Complete assignment (Due: 2024-02-15)\n",
      "1. Go grocery shopping (Due: 2024-02-10)\n",
      "2. Call Mom (Due: 2024-02-20)\n",
      "\n",
      "Pending tasks:\n",
      "0. Go grocery shopping (Due: 2024-02-10)\n",
      "1. Call Mom (Due: 2024-02-20)\n"
     ]
    }
   ],
   "source": [
    "class ToDoList:\n",
    "    def __init__(self):\n",
    "        self.tasks = []\n",
    "\n",
    "    def add_task(self, task, due_date):\n",
    "        \"\"\"Add a task with its due date to the ToDo list.\"\"\"\n",
    "        self.tasks.append({\"task\": task, \"due_date\": due_date, \"completed\": False})\n",
    "\n",
    "    def mark_task_as_completed(self, task_index):\n",
    "        \"\"\"Mark a task at the given index as completed.\"\"\"\n",
    "        if 0 <= task_index < len(self.tasks):\n",
    "            self.tasks[task_index][\"completed\"] = True\n",
    "        else:\n",
    "            print(\"Invalid task index.\")\n",
    "\n",
    "    def display_pending_tasks(self):\n",
    "        \"\"\"Display pending tasks in the ToDo list.\"\"\"\n",
    "        pending_tasks = [task for task in self.tasks if not task[\"completed\"]]\n",
    "        if pending_tasks:\n",
    "            print(\"Pending tasks:\")\n",
    "            for index, task in enumerate(pending_tasks, start=0):\n",
    "                print(f\"{index}. {task['task']} (Due: {task['due_date']})\")\n",
    "        else:\n",
    "            print(\"No pending tasks.\")\n",
    "\n",
    "# Example usage:\n",
    "todo_list = ToDoList()\n",
    "\n",
    "todo_list.add_task(\"Complete assignment\", \"2024-02-15\")\n",
    "todo_list.add_task(\"Go grocery shopping\", \"2024-02-10\")\n",
    "todo_list.add_task(\"Call Mom\", \"2024-02-20\")\n",
    "\n",
    "todo_list.display_pending_tasks()\n",
    "\n",
    "print()  # Empty line for separation\n",
    "\n",
    "todo_list.mark_task_as_completed(0)  # Mark the first task as completed\n",
    "\n",
    "todo_list.display_pending_tasks()\n"
   ]
  },
  {
   "cell_type": "code",
   "execution_count": null,
   "id": "298748cc-3ee8-4e38-a5c0-7a4a4e8911c8",
   "metadata": {},
   "outputs": [],
   "source": []
  },
  {
   "cell_type": "code",
   "execution_count": null,
   "id": "0b220d75-b2d5-4312-a574-06711af66b65",
   "metadata": {},
   "outputs": [],
   "source": []
  }
 ],
 "metadata": {
  "kernelspec": {
   "display_name": "Python 3 (ipykernel)",
   "language": "python",
   "name": "python3"
  },
  "language_info": {
   "codemirror_mode": {
    "name": "ipython",
    "version": 3
   },
   "file_extension": ".py",
   "mimetype": "text/x-python",
   "name": "python",
   "nbconvert_exporter": "python",
   "pygments_lexer": "ipython3",
   "version": "3.10.8"
  }
 },
 "nbformat": 4,
 "nbformat_minor": 5
}
