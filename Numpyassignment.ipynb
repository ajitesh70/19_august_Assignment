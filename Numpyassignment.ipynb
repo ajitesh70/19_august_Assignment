{
 "cells": [
  {
   "cell_type": "code",
   "execution_count": null,
   "id": "ba40c295-f2eb-4677-9800-290d8b4fdbba",
   "metadata": {},
   "outputs": [],
   "source": [
    "1. What is a Python library? Why to we use Python libraries?"
   ]
  },
  {
   "cell_type": "code",
   "execution_count": null,
   "id": "55a9aa68-94a4-4a2c-a248-8d3fbe6632b5",
   "metadata": {},
   "outputs": [],
   "source": [
    "Ans python library as a name telling  alibrary of python it have   inbulit founction ,code which make work easier for programmer reduce the complexity of code\n",
    "all the founction and class are reusable and  easy to code\n"
   ]
  },
  {
   "cell_type": "code",
   "execution_count": null,
   "id": "9f86e708-0f4c-451d-8948-1794ee840b8d",
   "metadata": {},
   "outputs": [],
   "source": [
    "2.What is the difference between Numpy array and  List?"
   ]
  },
  {
   "cell_type": "code",
   "execution_count": null,
   "id": "d239b91a-aa43-4d3c-b252-d9cf538eacbb",
   "metadata": {},
   "outputs": [],
   "source": [
    "Ans: \n",
    "Numpy array:\n",
    "1. it  have dynamic memeory allocation\n",
    "2. it is built on c++\n",
    "3. it is fast\n",
    "4. A  numpy array are homogeneous data structure\n",
    "\n",
    "List:\n",
    "1. it have contegeous  memeory allocation \n",
    "2. it is  not built on c++\n",
    "3. it is slow\n",
    "4. A list is hetrogeneous data structure"
   ]
  },
  {
   "cell_type": "code",
   "execution_count": null,
   "id": "76e700b0-a471-4409-afc2-e2c5e720f691",
   "metadata": {},
   "outputs": [],
   "source": [
    "3. Find  the shape, size and  dimension of the following array?\n",
    "\n",
    "[[1, 2, 3, 4]\n",
    "\n",
    "[5, 6, 7, 8],\n",
    "\n",
    "[9, 10, 11, 12]]"
   ]
  },
  {
   "cell_type": "code",
   "execution_count": 13,
   "id": "ad6aa357-23ac-4038-8a7d-490eedca61fd",
   "metadata": {},
   "outputs": [
    {
     "name": "stdout",
     "output_type": "stream",
     "text": [
      "12\n",
      "(3, 4)\n",
      "2\n"
     ]
    }
   ],
   "source": [
    "import numpy as np\n",
    "arr=np.array([[1, 2, 3, 4],\n",
    "              [5, 6, 7, 8],\n",
    "             [9, 10, 11, 12]])\n",
    "print(np.size(arr))\n",
    "print(np.shape(arr))\n",
    "print(np.ndim(arr))"
   ]
  },
  {
   "cell_type": "code",
   "execution_count": null,
   "id": "8bd01cc7-bef6-45bf-ac0c-f6124b2d0433",
   "metadata": {},
   "outputs": [],
   "source": [
    "\n",
    "4. Write python code to access the first row of the following array?\n",
    "\n",
    "[[1, 2, 3, 4]\n",
    "\n",
    "[5, 6, 7, 8],\n",
    "\n",
    "[9, 10, 11, 12]]\n",
    "\n"
   ]
  },
  {
   "cell_type": "code",
   "execution_count": 12,
   "id": "a68e5b18-4563-4bae-b5c9-b4ca6b500c0e",
   "metadata": {},
   "outputs": [
    {
     "data": {
      "text/plain": [
       "array([1, 2, 3, 4])"
      ]
     },
     "execution_count": 12,
     "metadata": {},
     "output_type": "execute_result"
    }
   ],
   "source": [
    "import numpy as np\n",
    "a=np.array([[1, 2, 3, 4],\n",
    "\n",
    "[5, 6, 7, 8],\n",
    "\n",
    "[9, 10, 11, 12]])\n",
    "a[0]"
   ]
  },
  {
   "cell_type": "code",
   "execution_count": null,
   "id": "535b26e0-5043-4030-b3fa-ebbc94559be2",
   "metadata": {},
   "outputs": [],
   "source": [
    "5. How do you access the element at the third row and  fourth column from the given numpy array?\n",
    "\n",
    "[[1, 2, 3, 4]\n",
    "\n",
    "[5, 6, 7, 8],\n",
    "\n",
    "[9, 10, 11, 12]]\n"
   ]
  },
  {
   "cell_type": "code",
   "execution_count": 20,
   "id": "d2368aba-5f10-4e56-a1b6-dfae6a946dc3",
   "metadata": {},
   "outputs": [
    {
     "data": {
      "text/plain": [
       "12"
      ]
     },
     "execution_count": 20,
     "metadata": {},
     "output_type": "execute_result"
    }
   ],
   "source": [
    "import numpy as np\n",
    "a=np.array([[1, 2, 3, 4],\n",
    "\n",
    "[5, 6, 7, 8],\n",
    "\n",
    "[9, 10, 11, 12]])\n",
    "a[2,3]"
   ]
  },
  {
   "cell_type": "code",
   "execution_count": null,
   "id": "c33226a3-d583-4856-8cd2-82f5b20b7736",
   "metadata": {},
   "outputs": [],
   "source": [
    "6. Write code to extract all odd -indexed  elements from the given numpy array?\n",
    "\n",
    "[[1, 2, 3, 4]\n",
    "\n",
    "[5, 6, 7, 8],\n",
    "\n",
    "[9, 10, 11, 12]]"
   ]
  },
  {
   "cell_type": "code",
   "execution_count": 1,
   "id": "5e587649-ce3a-456d-9164-e575500522dc",
   "metadata": {},
   "outputs": [
    {
     "data": {
      "text/plain": [
       "array([[ 2,  4],\n",
       "       [ 6,  8],\n",
       "       [10, 12]])"
      ]
     },
     "execution_count": 1,
     "metadata": {},
     "output_type": "execute_result"
    }
   ],
   "source": [
    "import numpy as np\n",
    "a=np.array([[1, 2, 3, 4],\n",
    "\n",
    "[5, 6, 7, 8],\n",
    "\n",
    "[9, 10, 11, 12]])\n",
    "a[:,1::2]\n"
   ]
  },
  {
   "cell_type": "code",
   "execution_count": null,
   "id": "e3e4056d-cc1e-4328-9af0-72dcafd71948",
   "metadata": {},
   "outputs": [],
   "source": [
    "7. How can you generate a ranDom 3x3 matrix with values between 0 and 1?"
   ]
  },
  {
   "cell_type": "code",
   "execution_count": 12,
   "id": "d44ec53e-e505-4c53-ad98-eb1f55983f98",
   "metadata": {},
   "outputs": [
    {
     "data": {
      "text/plain": [
       "array([[0.79134068, 0.29871025, 0.2662529 ],\n",
       "       [0.66571205, 0.44389398, 0.62626543],\n",
       "       [0.2693174 , 0.44485942, 0.55155839]])"
      ]
     },
     "execution_count": 12,
     "metadata": {},
     "output_type": "execute_result"
    }
   ],
   "source": [
    "import numpy as np\n",
    "np.random.rand(3,3)\n",
    "\n"
   ]
  },
  {
   "cell_type": "code",
   "execution_count": null,
   "id": "f1f80ce4-c02c-42b3-a122-9fd4d9d4e096",
   "metadata": {},
   "outputs": [],
   "source": [
    "8. Describe the difference between np.random.rand and np.random.randn?"
   ]
  },
  {
   "cell_type": "code",
   "execution_count": null,
   "id": "8a615bf9-ab42-4546-b7f7-6e9608d74063",
   "metadata": {},
   "outputs": [],
   "source": [
    "np.random.rand:\n",
    "    It give us  random  number from uniform distribution over the distribution [0,1)\n",
    "np.random.randn:\n",
    "    It give us random number from normal distribution                                                                             \n",
    "                                                   "
   ]
  },
  {
   "cell_type": "code",
   "execution_count": null,
   "id": "27b04a4f-4ea0-4ac1-94aa-1e37946a3efe",
   "metadata": {},
   "outputs": [],
   "source": [
    "9. Write code to increase the dimension of the following array?\n",
    "\n",
    "[[1, 2, 3, 4]\n",
    "\n",
    "[5, 6, 7, 8],\n",
    "\n",
    "[9, 10, 11, 12]]"
   ]
  },
  {
   "cell_type": "code",
   "execution_count": 17,
   "id": "d18ead12-a14a-4e4c-96b3-331f4b37d376",
   "metadata": {},
   "outputs": [
    {
     "data": {
      "text/plain": [
       "array([[[ 1,  2,  3,  4],\n",
       "        [ 5,  6,  7,  8],\n",
       "        [ 9, 10, 11, 12]]])"
      ]
     },
     "execution_count": 17,
     "metadata": {},
     "output_type": "execute_result"
    }
   ],
   "source": [
    "import numpy as np \n",
    "a=np.array([[1, 2, 3, 4],\n",
    "\n",
    "[5, 6, 7, 8],\n",
    "\n",
    "[9, 10, 11, 12]])\n",
    "a2=np.expand_dims(a,axis=0)\n",
    "a2\n"
   ]
  },
  {
   "cell_type": "code",
   "execution_count": null,
   "id": "b0eefe37-58bb-4151-bdda-b814448e49e5",
   "metadata": {},
   "outputs": [],
   "source": [
    "10.10. How to transpose the following array in NumPy?\n",
    "\n",
    "[[1, 2, 3, 4]\n",
    "\n",
    "[5, 6, 7, 8],\n",
    "\n",
    "[9, 10, 11, 12]]"
   ]
  },
  {
   "cell_type": "code",
   "execution_count": 18,
   "id": "b663b870-1a75-405c-be27-6ad6c8e935b9",
   "metadata": {},
   "outputs": [
    {
     "data": {
      "text/plain": [
       "array([[ 1,  5,  9],\n",
       "       [ 2,  6, 10],\n",
       "       [ 3,  7, 11],\n",
       "       [ 4,  8, 12]])"
      ]
     },
     "execution_count": 18,
     "metadata": {},
     "output_type": "execute_result"
    }
   ],
   "source": [
    "import numpy as np \n",
    "a=np.array([[1, 2, 3, 4],\n",
    "\n",
    "[5, 6, 7, 8],\n",
    "\n",
    "[9, 10, 11, 12]])\n",
    "\n",
    "k=a.T\n",
    "k"
   ]
  },
  {
   "cell_type": "code",
   "execution_count": null,
   "id": "4d9eefbd-f5cb-4553-8d2d-418192b68494",
   "metadata": {},
   "outputs": [],
   "source": [
    "11. Consider the following matrix:\n",
    "\n",
    "Matrix A2 [[1, 2, 3, 4] [5, 6, 7, 8],[9, 10, 11, 12]]\n",
    "\n",
    "Matrix B2 [[1, 2, 3, 4] [5, 6, 7, 8],[9, 10, 11, 12]]"
   ]
  },
  {
   "cell_type": "code",
   "execution_count": null,
   "id": "2bd05182-e8b7-4f76-b1cd-28aaa51c38a7",
   "metadata": {},
   "outputs": [],
   "source": [
    "Perform the following operation using Python\n",
    "1.Index wise multiplication\n",
    "2. Matrix multiplication\n",
    "3.Add both the matrix\n",
    "4.Subtract matrix B from a\n",
    "5.Divide Matrix B by A\n"
   ]
  },
  {
   "cell_type": "code",
   "execution_count": 43,
   "id": "e07c3d45-2a5d-4821-8a60-5d52251423e2",
   "metadata": {},
   "outputs": [],
   "source": [
    "import numpy as np \n",
    "A1=np.array([[1, 2, 3, 4],\n",
    "\n",
    "[5, 6, 7, 8],\n",
    "\n",
    "[9, 10, 11, 12]])\n",
    "B2=np.array([[1, 2, 3, 4],\n",
    "\n",
    "[5, 6, 7, 8],\n",
    "\n",
    "[9, 10, 11, 12]])"
   ]
  },
  {
   "cell_type": "code",
   "execution_count": 44,
   "id": "d5d212dd-016d-4092-b994-2ee1c86cde87",
   "metadata": {},
   "outputs": [
    {
     "data": {
      "text/plain": [
       "array([[  1,   4,   9,  16],\n",
       "       [ 25,  36,  49,  64],\n",
       "       [ 81, 100, 121, 144]])"
      ]
     },
     "execution_count": 44,
     "metadata": {},
     "output_type": "execute_result"
    }
   ],
   "source": [
    "A1*B2"
   ]
  },
  {
   "cell_type": "code",
   "execution_count": 45,
   "id": "4082a014-b0f2-469e-861c-7d8de2f1d1ca",
   "metadata": {},
   "outputs": [
    {
     "data": {
      "text/plain": [
       "array([[ 30,  70, 110],\n",
       "       [ 70, 174, 278],\n",
       "       [110, 278, 446]])"
      ]
     },
     "execution_count": 45,
     "metadata": {},
     "output_type": "execute_result"
    }
   ],
   "source": [
    "A1 @ B2.T"
   ]
  },
  {
   "cell_type": "code",
   "execution_count": 46,
   "id": "4390a678-57fc-4827-bd3e-d5555bec4355",
   "metadata": {},
   "outputs": [
    {
     "data": {
      "text/plain": [
       "array([[ 2,  4,  6,  8],\n",
       "       [10, 12, 14, 16],\n",
       "       [18, 20, 22, 24]])"
      ]
     },
     "execution_count": 46,
     "metadata": {},
     "output_type": "execute_result"
    }
   ],
   "source": [
    "A1+B2"
   ]
  },
  {
   "cell_type": "code",
   "execution_count": 47,
   "id": "3cd165cd-6722-497c-98e6-f476701b9cf5",
   "metadata": {},
   "outputs": [
    {
     "data": {
      "text/plain": [
       "array([[0, 0, 0, 0],\n",
       "       [0, 0, 0, 0],\n",
       "       [0, 0, 0, 0]])"
      ]
     },
     "execution_count": 47,
     "metadata": {},
     "output_type": "execute_result"
    }
   ],
   "source": [
    "A1-B2"
   ]
  },
  {
   "cell_type": "code",
   "execution_count": 48,
   "id": "8376b36b-af2e-4b5f-86cf-6e62a34c1306",
   "metadata": {},
   "outputs": [
    {
     "data": {
      "text/plain": [
       "array([[1., 1., 1., 1.],\n",
       "       [1., 1., 1., 1.],\n",
       "       [1., 1., 1., 1.]])"
      ]
     },
     "execution_count": 48,
     "metadata": {},
     "output_type": "execute_result"
    }
   ],
   "source": [
    "B2/A1"
   ]
  },
  {
   "cell_type": "code",
   "execution_count": null,
   "id": "201c3b35-c7ce-4a82-8f8f-46d67ce07dd1",
   "metadata": {},
   "outputs": [],
   "source": [
    "12.  Which function in Numpy can be useD to swap the byte orDer of an array?"
   ]
  },
  {
   "cell_type": "code",
   "execution_count": null,
   "id": "ff2ee328-2024-4e11-aff4-3ffe1fd8230f",
   "metadata": {},
   "outputs": [],
   "source": [
    "np.ndarray.byteswap() this founction swap the byte order of an array without chaanging \n",
    "memory layout of an arrau"
   ]
  },
  {
   "cell_type": "code",
   "execution_count": null,
   "id": "671ebf91-b972-4b97-a33e-30e45b8ccdde",
   "metadata": {},
   "outputs": [],
   "source": [
    " 13.What is the significance of the np.linalg.inv function?"
   ]
  },
  {
   "cell_type": "code",
   "execution_count": null,
   "id": "fceda898-b59f-429d-b555-c5b89f81ec0a",
   "metadata": {},
   "outputs": [],
   "source": [
    "Ans:this founction in numpy used for calculating the multiplicative inverse of a squre matrix\n",
    "this founctionn is used for the finding the determinant,Solving Systems of Linear Equations,Numerical Stability"
   ]
  },
  {
   "cell_type": "code",
   "execution_count": null,
   "id": "905e24f0-ffae-45a0-bdef-3d9af5f59941",
   "metadata": {},
   "outputs": [],
   "source": [
    "14.What does the np.reshape function do, and how is it used?"
   ]
  },
  {
   "cell_type": "code",
   "execution_count": null,
   "id": "0197abb8-3f4b-44bd-85c7-84c8fcaed236",
   "metadata": {},
   "outputs": [],
   "source": [
    "ans : We change the size of an array we reshape it again according to our want  array remain orignal no change in data,\n",
    "Its's alo used to convert onedimensional array into multi dimensional array\n",
    "Contiguous Memory:Reshaping does not alter the underlying data of the array"
   ]
  },
  {
   "cell_type": "code",
   "execution_count": null,
   "id": "747a96d1-1ac6-4743-8051-6245d8037e22",
   "metadata": {},
   "outputs": [],
   "source": [
    "15. What is broadcasting in Numpy?"
   ]
  },
  {
   "cell_type": "code",
   "execution_count": null,
   "id": "e4237ff9-c9be-410d-b8cb-8c47f7dba059",
   "metadata": {},
   "outputs": [],
   "source": [
    "Broadcasting refers to  implicit and  automatic allignment of an array into diffrent shapes dutring arhtmetic operation\n"
   ]
  },
  {
   "cell_type": "code",
   "execution_count": null,
   "id": "25f4255d-5d10-4fd3-b628-b03af303aff7",
   "metadata": {},
   "outputs": [],
   "source": []
  },
  {
   "cell_type": "code",
   "execution_count": null,
   "id": "a029ab07-9c37-43d4-b00f-dc1fb1d1287c",
   "metadata": {},
   "outputs": [],
   "source": []
  }
 ],
 "metadata": {
  "kernelspec": {
   "display_name": "Python 3 (ipykernel)",
   "language": "python",
   "name": "python3"
  },
  "language_info": {
   "codemirror_mode": {
    "name": "ipython",
    "version": 3
   },
   "file_extension": ".py",
   "mimetype": "text/x-python",
   "name": "python",
   "nbconvert_exporter": "python",
   "pygments_lexer": "ipython3",
   "version": "3.10.8"
  }
 },
 "nbformat": 4,
 "nbformat_minor": 5
}
