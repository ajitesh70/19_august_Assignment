{
 "cells": [
  {
   "cell_type": "code",
   "execution_count": null,
   "id": "f3e87223-0aca-4bf2-b923-f73967bf34dd",
   "metadata": {},
   "outputs": [],
   "source": [
    "#For Loop:"
   ]
  },
  {
   "cell_type": "code",
   "execution_count": null,
   "id": "a184e5e9-d8d8-4db1-a067-b406be677142",
   "metadata": {},
   "outputs": [],
   "source": [
    "#1. Write a Python program to print numbers from 1 to 10 using a for loop."
   ]
  },
  {
   "cell_type": "code",
   "execution_count": 1,
   "id": "260ff7e1-905f-4d8e-a163-65825f8b66bc",
   "metadata": {},
   "outputs": [
    {
     "name": "stdout",
     "output_type": "stream",
     "text": [
      "1 2 3 4 5 6 7 8 9 10 "
     ]
    }
   ],
   "source": [
    "for i in range(1,11):\n",
    "    print(i,end=' ')"
   ]
  },
  {
   "cell_type": "code",
   "execution_count": null,
   "id": "df3b5278-0140-447b-b6b0-90992c601560",
   "metadata": {},
   "outputs": [],
   "source": [
    "#2. Explain the difference between a for loop and a while loop in Python."
   ]
  },
  {
   "cell_type": "raw",
   "id": "c730ce04-1d69-430a-944a-d471033d25a5",
   "metadata": {},
   "source": [
    "1.Initialization and Incrementation:\n",
    "\n",
    "-In a for loop, the iteration variable is automatically assigned and incremented based on the elements in the sequence.\n",
    "-In a while loop, you need to explicitly initialize and update the loop variable within the loop block.\n",
    "\n",
    "2. Use Cases:\n",
    "\n",
    "-Use a for loop when you know the number of iterations in advance and want to iterate over a sequence.\n",
    "-Use a while loop when the number of iterations is not known beforehand and depends on a condition.\n",
    "\n",
    "3. Condition:\n",
    "\n",
    "-In a for loop, the loop runs until it has iterated over all elements in the sequence.\n",
    "-In a while loop, the loop runs until the specified condition becomes false.\n",
    "\n",
    "4. Readability:\n",
    "\n",
    "-for loops are often more readable when iterating over sequences.\n",
    "-while loops are typically used when the condition is more complex or not directly related to iteration over a sequence.\n",
    "\n"
   ]
  },
  {
   "cell_type": "code",
   "execution_count": 1,
   "id": "91a557d5-01c0-4a9e-a184-507c9cba3b45",
   "metadata": {},
   "outputs": [],
   "source": [
    "#3. Write a Python program to calculate the sum of all numbers from 1 to 100 using a for loop."
   ]
  },
  {
   "cell_type": "code",
   "execution_count": 7,
   "id": "04a3009b-593a-40c7-bd60-46ab44d328be",
   "metadata": {},
   "outputs": [
    {
     "name": "stdout",
     "output_type": "stream",
     "text": [
      "5050\n"
     ]
    }
   ],
   "source": [
    "total=0\n",
    "for i in range(1,101):\n",
    "    total+=i\n",
    "print(total)"
   ]
  },
  {
   "cell_type": "code",
   "execution_count": 8,
   "id": "6c15a836-4945-4b9a-8157-2eba67005e8d",
   "metadata": {},
   "outputs": [],
   "source": [
    "#4. How do you iterate through a list using a for loop in Python?"
   ]
  },
  {
   "cell_type": "raw",
   "id": "0db4b51e-e79c-4711-ba1e-60ef332a89e3",
   "metadata": {},
   "source": [
    "Example: my_list = [1, 2, 3, 4, 5]\n",
    "         for item in my_list:\n",
    "             print(item)\n",
    "\n",
    "\n",
    "Here's a breakdown of how it works:\n",
    "\n",
    "for item in my_list:: This line initiates the loop, and in each iteration, the variable item takes on the value of the next element in my_list.\n",
    "\n",
    "print(item): This line (or any other code inside the loop) will be executed for each item in the list.\n",
    "\n",
    "You can replace print(item) with any code block that you want to execute for each element in the list. The loop will continue until all elements in the list have been processed."
   ]
  },
  {
   "cell_type": "code",
   "execution_count": 1,
   "id": "85340365-18dd-496c-8c36-cc173e2a24b0",
   "metadata": {},
   "outputs": [],
   "source": [
    "#5. Write a Python program to find the product of all elements in a list using a for loop"
   ]
  },
  {
   "cell_type": "code",
   "execution_count": 2,
   "id": "c49c1674-bd5a-4da4-a9c4-f0ffaa6bb35e",
   "metadata": {},
   "outputs": [
    {
     "name": "stdout",
     "output_type": "stream",
     "text": [
      "720\n"
     ]
    }
   ],
   "source": [
    "l=[1,2,3,4,5,6]\n",
    "product=1\n",
    "for i in l:\n",
    "    product=product*i\n",
    "print(product)"
   ]
  },
  {
   "cell_type": "code",
   "execution_count": 3,
   "id": "080cdc2a-68f8-4443-97f4-ce0fe487a629",
   "metadata": {},
   "outputs": [],
   "source": [
    "#6. Create a Python program that prints all even numbers from 1 to 20 using a for loop."
   ]
  },
  {
   "cell_type": "code",
   "execution_count": 7,
   "id": "43c80683-25dd-4433-99a6-39f6d679bc55",
   "metadata": {},
   "outputs": [
    {
     "name": "stdout",
     "output_type": "stream",
     "text": [
      "2 4 6 8 10 12 14 16 18 20 "
     ]
    }
   ],
   "source": [
    "for i in range(1,21):\n",
    "    if i%2==0:\n",
    "        print(i,end=' ')"
   ]
  },
  {
   "cell_type": "code",
   "execution_count": 8,
   "id": "a910b06c-3174-4800-9c79-eb7324a1e6e3",
   "metadata": {},
   "outputs": [],
   "source": [
    "#7. Write a Python program that calculates the factorial of a number using a for loop."
   ]
  },
  {
   "cell_type": "code",
   "execution_count": 9,
   "id": "963dc3d2-67fd-402c-8048-5854d129db84",
   "metadata": {},
   "outputs": [
    {
     "name": "stdout",
     "output_type": "stream",
     "text": [
      "120\n"
     ]
    }
   ],
   "source": [
    "n=5\n",
    "f=1\n",
    "for i in range(1,n+1):\n",
    "    f*=i\n",
    "print(f)"
   ]
  },
  {
   "cell_type": "code",
   "execution_count": 10,
   "id": "7642e2c2-c284-4aea-9d9a-e96925ed66aa",
   "metadata": {},
   "outputs": [],
   "source": [
    "#8. How can you iterate through the characters of a string using a for loop in Python?"
   ]
  },
  {
   "cell_type": "raw",
   "id": "28758388-79a7-431a-80c4-4a6005322b66",
   "metadata": {},
   "source": [
    "my_string = \"Hello, World!\"\n",
    "\n",
    "for char in my_string:\n",
    "    # code to be executed for each character in the string\n",
    "    print(char)\n",
    "    \n",
    "    \n",
    "    \n",
    "In this example, the variable char takes on the value of each character in the string my_string in each iteration of the loop. You can then perform any operations you need with the current character inside the loop.\n",
    "\n",
    "The loop will iterate through each character in the string until all characters have been processed. You can replace print(char) with any code block that you want to execute for each character in the string."
   ]
  },
  {
   "cell_type": "code",
   "execution_count": 1,
   "id": "dec8afb0-6c87-432c-93aa-f4a2689e3989",
   "metadata": {},
   "outputs": [],
   "source": [
    "#9. Write a Python program to find the largest number in a list using a for loop."
   ]
  },
  {
   "cell_type": "code",
   "execution_count": 4,
   "id": "4a76900c-dbf3-4de9-a24a-c951d5ce153b",
   "metadata": {},
   "outputs": [
    {
     "name": "stdout",
     "output_type": "stream",
     "text": [
      "8\n"
     ]
    }
   ],
   "source": [
    "l=[5,6,4,8,2,]\n",
    "max=l[0]\n",
    "for i in l[1:]:\n",
    "    if i>max:\n",
    "        max=i\n",
    "print(max)\n",
    "    \n",
    "        \n",
    "    "
   ]
  },
  {
   "cell_type": "code",
   "execution_count": 5,
   "id": "a3ca38bb-8638-4894-86e6-943330f4cc11",
   "metadata": {},
   "outputs": [],
   "source": [
    "#10. Create a Python program that prints the Fibonacci sequence up to a specified limit using a for loop."
   ]
  },
  {
   "cell_type": "code",
   "execution_count": 8,
   "id": "728dd3a3-0423-4329-adc7-486d131bb01d",
   "metadata": {},
   "outputs": [
    {
     "name": "stdout",
     "output_type": "stream",
     "text": [
      "0 1 1 2 3 5 8 13 21 34 55 89 "
     ]
    }
   ],
   "source": [
    "a=0\n",
    "b=1\n",
    "limit = 10\n",
    "print(a,b,end=' ')\n",
    "for i in range(limit):\n",
    "    c = a+b\n",
    "    print(c,end=' ')\n",
    "    a = b\n",
    "    b = c\n",
    "   \n"
   ]
  },
  {
   "cell_type": "code",
   "execution_count": 9,
   "id": "44ffd0bf-533b-4334-9888-b28501463c52",
   "metadata": {},
   "outputs": [],
   "source": [
    "#11. Write a Python program to count the number of vowels in a given string using a for loop."
   ]
  },
  {
   "cell_type": "code",
   "execution_count": 1,
   "id": "333fce1f-18f8-4c2e-8ed6-fa52454f37bd",
   "metadata": {},
   "outputs": [
    {
     "name": "stdout",
     "output_type": "stream",
     "text": [
      "4\n"
     ]
    }
   ],
   "source": [
    "str1=\"this is a string\"\n",
    "count=0\n",
    "for i in str1:\n",
    "    if i in 'aeiou':\n",
    "        count+=1\n",
    "print(count)"
   ]
  },
  {
   "cell_type": "code",
   "execution_count": 2,
   "id": "ed9a1cc8-9f9c-41b8-9835-f239d4bc8291",
   "metadata": {},
   "outputs": [],
   "source": [
    "#12. Create a Python program that generates a multiplication table for a given number using a for loop."
   ]
  },
  {
   "cell_type": "code",
   "execution_count": 5,
   "id": "ad676baf-3c3a-4881-a4be-632d8b32e93c",
   "metadata": {},
   "outputs": [
    {
     "name": "stdout",
     "output_type": "stream",
     "text": [
      "5 x 1 = 5\n",
      "5 x 2 = 10\n",
      "5 x 3 = 15\n",
      "5 x 4 = 20\n",
      "5 x 5 = 25\n",
      "5 x 6 = 30\n",
      "5 x 7 = 35\n",
      "5 x 8 = 40\n",
      "5 x 9 = 45\n",
      "5 x 10 = 50\n"
     ]
    }
   ],
   "source": [
    "num=5\n",
    "for i in range(1,11):\n",
    "    print(num, \"x\" , i, \"=\",num*i)"
   ]
  },
  {
   "cell_type": "code",
   "execution_count": 6,
   "id": "267f3e7d-30e8-42b4-b71e-24b570413627",
   "metadata": {},
   "outputs": [],
   "source": [
    "#13. Write a Python program to reverse a list using a for loop."
   ]
  },
  {
   "cell_type": "code",
   "execution_count": 13,
   "id": "c7792f37-9cae-43fc-a19a-532e47e55876",
   "metadata": {},
   "outputs": [
    {
     "name": "stdout",
     "output_type": "stream",
     "text": [
      "[5, 4, 3, 2, 1]\n"
     ]
    }
   ],
   "source": [
    "l=[1,2,3,4,5]\n",
    "l1=[]\n",
    "for i in range(len(l)-1,-1,-1):\n",
    "    l1.append(l[i])\n",
    "print(l1)\n",
    "    "
   ]
  },
  {
   "cell_type": "code",
   "execution_count": 14,
   "id": "032af707-60f7-4a6a-8953-8db95b985c2b",
   "metadata": {},
   "outputs": [],
   "source": [
    "#14. Write a Python program to find the common elements between two lists using a for loop."
   ]
  },
  {
   "cell_type": "code",
   "execution_count": 16,
   "id": "af5ba2eb-4506-4e55-8bdc-588873611145",
   "metadata": {},
   "outputs": [
    {
     "name": "stdout",
     "output_type": "stream",
     "text": [
      "[3, 4]\n"
     ]
    }
   ],
   "source": [
    "l1=[1,2,3,4]\n",
    "l2=[3,4,5,6]\n",
    "l3=[]\n",
    "for i in l1:\n",
    "    for j in l2:\n",
    "        if i==j:\n",
    "            l3.append(i)\n",
    "print(l3)\n",
    "            "
   ]
  },
  {
   "cell_type": "code",
   "execution_count": 17,
   "id": "638211ae-0b2c-44f2-8321-cf0f52df9938",
   "metadata": {},
   "outputs": [],
   "source": [
    "#15. Explain how to use a for loop to iterate through the keys and values of a dictionary in Python."
   ]
  },
  {
   "cell_type": "raw",
   "id": "4ec4c69a-22de-4d50-8e69-2545c1cf9cdd",
   "metadata": {},
   "source": [
    "my_dict = {'a': 1, 'b': 2, 'c': 3}\n",
    "\n",
    "# Iterate through keys and values using items()\n",
    "for key, value in my_dict.items():\n",
    "    print(f\"Key: {key}, Value: {value}\")\n",
    "\n",
    "\n",
    "In this example, my_dict.items() returns a sequence of tuples where each tuple contains a key-value pair. The for loop then unpacks each tuple into the variables key and value, allowing you to work with both the key and the corresponding value in each iteration."
   ]
  },
  {
   "cell_type": "code",
   "execution_count": 18,
   "id": "382d7a2b-f026-43b5-8267-5560582cf9db",
   "metadata": {},
   "outputs": [],
   "source": [
    "#16. Write a Python program to find the GCD (Greatest Common Divisor) of two numbers using a for loop."
   ]
  },
  {
   "cell_type": "code",
   "execution_count": 25,
   "id": "50253904-d693-40bd-aa3c-f9e855c4c593",
   "metadata": {},
   "outputs": [
    {
     "data": {
      "text/plain": [
       "12"
      ]
     },
     "execution_count": 25,
     "metadata": {},
     "output_type": "execute_result"
    }
   ],
   "source": [
    "num1=24\n",
    "num2=36\n",
    "l=[]\n",
    "for i in range(1,25):\n",
    "    if num1%i==0 and num2%i==0:\n",
    "        l.append(i)\n",
    "j=max(l)\n",
    "j\n",
    "    \n",
    "    "
   ]
  },
  {
   "cell_type": "code",
   "execution_count": 1,
   "id": "6997e2e4-1d80-4477-ab79-e06c92fbb42b",
   "metadata": {},
   "outputs": [],
   "source": [
    "#17. Create a Python program that checks if a string is a palindrome using a for loop."
   ]
  },
  {
   "cell_type": "code",
   "execution_count": 19,
   "id": "97d9cf38-e750-4578-8243-f4d3f7a0b4fb",
   "metadata": {},
   "outputs": [
    {
     "name": "stdin",
     "output_type": "stream",
     "text": [
      "Enter a string:  racecar\n"
     ]
    },
    {
     "name": "stdout",
     "output_type": "stream",
     "text": [
      "racecar is a palindrome.\n"
     ]
    }
   ],
   "source": [
    "def is_palindrome(s):\n",
    "    # Remove spaces and convert to lowercase for case-insensitive comparison\n",
    "    s = s.replace(\" \", \"\").lower()\n",
    "    \n",
    "    # Initialize variables for forward and backward traversal indices\n",
    "    i, j = 0, len(s) - 1\n",
    "    \n",
    "    # Use a for loop for palindrome comparison\n",
    "    for _ in range(len(s)//2):\n",
    "        if s[i] != s[j]:\n",
    "            return False\n",
    "        i += 1\n",
    "        j -= 1\n",
    "    \n",
    "    return True\n",
    "\n",
    "# Example usage:\n",
    "input_string = input(\"Enter a string: \")\n",
    "if is_palindrome(input_string):\n",
    "    print(f\"{input_string} is a palindrome.\")\n",
    "else:\n",
    "    print(f\"{input_string} is not a palindrome.\")\n"
   ]
  },
  {
   "cell_type": "code",
   "execution_count": 20,
   "id": "faf726e5-24d5-4f88-8a30-fc7f97dd22a0",
   "metadata": {},
   "outputs": [],
   "source": [
    "#18. Write a Python program to remove duplicates from a list using a for loop."
   ]
  },
  {
   "cell_type": "code",
   "execution_count": 2,
   "id": "5624b3b1-d734-4313-8ac3-eb4965d4cb2a",
   "metadata": {},
   "outputs": [
    {
     "name": "stdout",
     "output_type": "stream",
     "text": [
      "new list is: [1, 2, 3, 4, 5, 6, 7]\n"
     ]
    }
   ],
   "source": [
    "def rem_duplicates(l):\n",
    "    new_l=[]\n",
    "    for i in l:\n",
    "        if i not in new_l:\n",
    "            new_l.append(i)\n",
    "        else:\n",
    "            pass\n",
    "    return new_l\n",
    "l=[1,2,1,2,3,1,4,5,6,7,4,4]\n",
    "\n",
    "print(\"new list is:\", rem_duplicates(l))"
   ]
  },
  {
   "cell_type": "code",
   "execution_count": 3,
   "id": "3ffa6371-3919-4d93-a220-7138b5cbe106",
   "metadata": {},
   "outputs": [],
   "source": [
    "#19. Create a Python program that counts the number of words in a sentence using a for loop."
   ]
  },
  {
   "cell_type": "code",
   "execution_count": 5,
   "id": "25344d6b-bf31-4d86-8e9c-dc3694c06d1f",
   "metadata": {},
   "outputs": [
    {
     "data": {
      "text/plain": [
       "4"
      ]
     },
     "execution_count": 5,
     "metadata": {},
     "output_type": "execute_result"
    }
   ],
   "source": [
    "count=0\n",
    "str1=\"this is a sentence\"\n",
    "str2=str1.split(\" \")\n",
    "for i in str2:\n",
    "    count+=1\n",
    "count"
   ]
  },
  {
   "cell_type": "code",
   "execution_count": 6,
   "id": "0760c36d-bdba-4d31-aa5c-733ad08d1211",
   "metadata": {},
   "outputs": [],
   "source": [
    "#20. Write a Python program to find the sum of all odd numbers from 1 to 50 using a for loop."
   ]
  },
  {
   "cell_type": "code",
   "execution_count": 7,
   "id": "73678c55-f074-40a9-bb2c-910fd19b5dd9",
   "metadata": {},
   "outputs": [
    {
     "name": "stdout",
     "output_type": "stream",
     "text": [
      "625\n"
     ]
    }
   ],
   "source": [
    "count=0\n",
    "for i in range(1,51):\n",
    "    if i%2!=0:\n",
    "        count+=i\n",
    "    else:\n",
    "        pass\n",
    "print(count)\n",
    "        "
   ]
  },
  {
   "cell_type": "code",
   "execution_count": 8,
   "id": "2dc1c85c-0f2c-4436-a74a-4a8a49f53921",
   "metadata": {},
   "outputs": [],
   "source": [
    "#21. Write a Python program that checks if a given year is a leap year using a for loop."
   ]
  },
  {
   "cell_type": "code",
   "execution_count": 10,
   "id": "2fed8a74-965d-4d3f-bd3b-9e117a00bbd6",
   "metadata": {},
   "outputs": [
    {
     "name": "stdin",
     "output_type": "stream",
     "text": [
      " 2024\n"
     ]
    },
    {
     "name": "stdout",
     "output_type": "stream",
     "text": [
      "leap year\n"
     ]
    }
   ],
   "source": [
    "year=int(input())\n",
    "if (year%4==0 and year%100!=0) or (year%400==0):\n",
    "    print(\"leap year\")\n",
    "else:\n",
    "    print(\"not a leap year\")"
   ]
  },
  {
   "cell_type": "code",
   "execution_count": 11,
   "id": "9f0c8452-b82d-49e8-a0f8-65efdc86fe05",
   "metadata": {},
   "outputs": [],
   "source": [
    "#22. Create a Python program that calculates the square root of a number using a for loop."
   ]
  },
  {
   "cell_type": "code",
   "execution_count": 1,
   "id": "0a73cb12-009a-426c-934f-57d61fbbbff7",
   "metadata": {},
   "outputs": [
    {
     "name": "stdin",
     "output_type": "stream",
     "text": [
      "Enter a number to calculate its square root:  225\n"
     ]
    },
    {
     "name": "stdout",
     "output_type": "stream",
     "text": [
      "The square root of 225.0 is approximately 15.00\n"
     ]
    }
   ],
   "source": [
    "def square_root_approximation(number, iterations=100):\n",
    "    guess = number / 2  # Initial guess, can be improved for better performance\n",
    "\n",
    "    for _ in range(iterations):\n",
    "        guess = 0.5 * (guess + number / guess)\n",
    "\n",
    "    return guess\n",
    "\n",
    "# Example usage:\n",
    "input_number = float(input(\"Enter a number to calculate its square root: \"))\n",
    "result = square_root_approximation(input_number)\n",
    "\n",
    "print(f\"The square root of {input_number} is approximately {result:.2f}\")\n"
   ]
  },
  {
   "cell_type": "code",
   "execution_count": 24,
   "id": "1f6c894e-da74-4f23-bb9c-a8683dd4c001",
   "metadata": {},
   "outputs": [],
   "source": [
    "#23. Write a Python  "
   ]
  },
  {
   "cell_type": "code",
   "execution_count": 7,
   "id": "00497bc5-8f2c-4f56-a063-6edb11b5eaff",
   "metadata": {},
   "outputs": [
    {
     "name": "stdin",
     "output_type": "stream",
     "text": [
      "Enter the first number:  35\n",
      "Enter the second number:  24\n"
     ]
    },
    {
     "name": "stdout",
     "output_type": "stream",
     "text": [
      "The LCM of 35 and 24 is 840\n"
     ]
    }
   ],
   "source": [
    "def find_lcm(x, y):\n",
    "    # Choose the greater number\n",
    "    if x > y:\n",
    "        greater = x\n",
    "    else:\n",
    "        greater = y\n",
    "\n",
    "    for i in range(greater, x * y + 1, greater):\n",
    "        # Check if i is a multiple of both x and y\n",
    "        if i % x == 0 and i % y == 0:\n",
    "            lcm = i\n",
    "            break\n",
    "\n",
    "    return lcm\n",
    "\n",
    "# Input two numbers\n",
    "num1 = int(input(\"Enter the first number: \"))\n",
    "num2 = int(input(\"Enter the second number: \"))\n",
    "\n",
    "# Call the function and display the result\n",
    "result_lcm = find_lcm(num1, num2)\n",
    "print(f\"The LCM of {num1} and {num2} is {result_lcm}\")\n"
   ]
  },
  {
   "cell_type": "code",
   "execution_count": null,
   "id": "db6cd8bb-2a0c-48fe-a349-a9b3b53bafeb",
   "metadata": {},
   "outputs": [],
   "source": []
  },
  {
   "cell_type": "code",
   "execution_count": null,
   "id": "4972eca0-35fe-4838-a09c-d674b79b71d3",
   "metadata": {},
   "outputs": [],
   "source": [
    "#If else :"
   ]
  },
  {
   "cell_type": "code",
   "execution_count": 8,
   "id": "321cb75f-65e5-4d09-ba98-3a50db7defe9",
   "metadata": {},
   "outputs": [],
   "source": [
    "#1. Write a Python program to check if a number is positive, negative, or zero using an if-else statement."
   ]
  },
  {
   "cell_type": "code",
   "execution_count": 22,
   "id": "445ccaaf-cba7-479b-8fdd-9e2e01e575e0",
   "metadata": {},
   "outputs": [
    {
     "name": "stdin",
     "output_type": "stream",
     "text": [
      "Enter a number:  3\n"
     ]
    },
    {
     "name": "stdout",
     "output_type": "stream",
     "text": [
      "The number is positive.\n"
     ]
    }
   ],
   "source": [
    "# Input a number from the user\n",
    "number = float(input(\"Enter a number: \"))\n",
    "\n",
    "# Check if the number is positive, negative, or zero\n",
    "if number > 0:\n",
    "    print(\"The number is positive.\")\n",
    "elif number < 0:\n",
    "    print(\"The number is negative.\")\n",
    "else:\n",
    "    print(\"The number is zero.\")\n"
   ]
  },
  {
   "cell_type": "code",
   "execution_count": 11,
   "id": "ef5a740a-013f-4bc8-8cb8-9856de04b4b3",
   "metadata": {},
   "outputs": [],
   "source": [
    "#2. Create a Python program that checks if a given number is even or odd using an if-else statement."
   ]
  },
  {
   "cell_type": "code",
   "execution_count": 20,
   "id": "74f93251-6b23-413f-9d63-ab8bf6591381",
   "metadata": {},
   "outputs": [
    {
     "name": "stdin",
     "output_type": "stream",
     "text": [
      " 3\n"
     ]
    },
    {
     "name": "stdout",
     "output_type": "stream",
     "text": [
      "odd\n"
     ]
    }
   ],
   "source": [
    "try:\n",
    "    num=int(input())\n",
    "    if num>0:\n",
    "        \n",
    "        if num%2==0:\n",
    "            print(\"even\")\n",
    "        else:\n",
    "            print(\"odd\")\n",
    "    else:\n",
    "        print(\"enter a positive integer\")\n",
    "except ValueError:\n",
    "    print(\"wrong value\")\n",
    "    "
   ]
  },
  {
   "cell_type": "code",
   "execution_count": 21,
   "id": "1aa3f61b-58f4-4c48-800e-59e636eb7e41",
   "metadata": {},
   "outputs": [],
   "source": [
    "#3. How can you use nested if-else statements in Python, and provide an example?"
   ]
  },
  {
   "cell_type": "raw",
   "id": "7469254e-8e39-422d-8dbb-0226b7c89939",
   "metadata": {},
   "source": [
    "nested if-else statements in python are used to check multiple statements, if one main statement is true only then it will check the condition which is inside that 'if' block, if it is false then it will move on to next condition block. \n",
    "The structure is like having an if-else statement inside another if or else block.\n",
    "#example:\n",
    "A PROGRAM TO CHECK IF A PERSON IS ELIGIBLE FOR VOTING and IF HE IS A SENIOR VOTER\n",
    "\n",
    "age=int(input())\n",
    "if age >= 18:\n",
    "    print(\"You are eligible for voting.\")\n",
    "    \n",
    "    # Nested if-else statement\n",
    "    if age >= 60:\n",
    "        print(\"You are a senior voter.\")\n",
    "    else:\n",
    "        print(\"You are not a senior voter.\")\n",
    "else:\n",
    "    print(\"You are not eligible for voting.\")\n",
    "\n",
    "\n",
    "\n",
    "The outer if-else statement checks if the user's age is 18 or older. If true, it prints \"You are eligible for voting\" and then goes into a nested if-else statement.\n",
    "The nested if-else statement checks if the age is 60 or older. If true, it prints \"You are a senior voter\"; otherwise, it prints \"You are not a senior voter\".\n",
    "If the outer if condition is false, it prints \"You are not eligible for voting\".\n",
    "This structure allows for more complex decision-making based on multiple conditions."
   ]
  },
  {
   "cell_type": "code",
   "execution_count": 23,
   "id": "07998fdf-1e92-41e1-9c2a-3734cff9ed9e",
   "metadata": {},
   "outputs": [],
   "source": [
    "#4. Write a Python program to determine the largest of three numbers using if-else."
   ]
  },
  {
   "cell_type": "code",
   "execution_count": 25,
   "id": "b93dd5d7-c652-4e9d-83af-31874e6b0349",
   "metadata": {},
   "outputs": [
    {
     "name": "stdin",
     "output_type": "stream",
     "text": [
      "Enter the first number:  3\n",
      "Enter the second number:  55\n",
      "Enter the third number:  77\n"
     ]
    },
    {
     "name": "stdout",
     "output_type": "stream",
     "text": [
      "The largest number among 3, 55, and 77 is: 77\n"
     ]
    }
   ],
   "source": [
    "# Input three numbers from the user\n",
    "num1 = int(input(\"Enter the first number: \"))\n",
    "num2 = int(input(\"Enter the second number: \"))\n",
    "num3 = int(input(\"Enter the third number: \"))\n",
    "\n",
    "# Determine the largest number using if-else statements\n",
    "if num1 >= num2 and num1 >= num3:\n",
    "    largest = num1\n",
    "elif num2 >= num1 and num2 >= num3:\n",
    "    largest = num2\n",
    "else:\n",
    "    largest = num3\n",
    "\n",
    "# Display the result\n",
    "print(f\"The largest number among {num1}, {num2}, and {num3} is: {largest}\")\n"
   ]
  },
  {
   "cell_type": "code",
   "execution_count": 26,
   "id": "4c97e810-a3ca-4212-9e22-3a500a0265c7",
   "metadata": {},
   "outputs": [],
   "source": [
    "#5. Write a Python program that calculates the absolute value of a number using if-else."
   ]
  },
  {
   "cell_type": "code",
   "execution_count": 32,
   "id": "733b77de-dbb0-4821-a997-374a5e2bffc1",
   "metadata": {},
   "outputs": [
    {
     "name": "stdin",
     "output_type": "stream",
     "text": [
      "Enter a number:  -3\n"
     ]
    },
    {
     "name": "stdout",
     "output_type": "stream",
     "text": [
      "The absolute value of -3 is: 3\n"
     ]
    }
   ],
   "source": [
    "# Input a number from the user\n",
    "number = int(input(\"Enter a number: \"))\n",
    "\n",
    "# Calculate the absolute value using if-else statements\n",
    "if number >= 0:\n",
    "    absolute_value = number\n",
    "else:\n",
    "    absolute_value = -number\n",
    "\n",
    "# Display the result\n",
    "print(f\"The absolute value of {number} is: {absolute_value}\")\n"
   ]
  },
  {
   "cell_type": "code",
   "execution_count": 33,
   "id": "6adc140d-6264-4441-9d13-c3f0690a2b42",
   "metadata": {},
   "outputs": [],
   "source": [
    "#6. Create a Python program that checks if a given character is a vowel or consonant using if-else."
   ]
  },
  {
   "cell_type": "code",
   "execution_count": 39,
   "id": "ea6139fc-acbb-460a-9d41-28e9296fd13d",
   "metadata": {},
   "outputs": [
    {
     "name": "stdout",
     "output_type": "stream",
     "text": [
      "vowel\n"
     ]
    }
   ],
   "source": [
    "char='a'\n",
    "if char.isalpha():\n",
    "    if char in 'aeiou':\n",
    "        print(\"vowel\")\n",
    "    else:\n",
    "        print(\"consonant\")\n",
    "else:\n",
    "    print(\"enter an alphabet\")"
   ]
  },
  {
   "cell_type": "code",
   "execution_count": 40,
   "id": "eab814ea-5f9e-40e4-93a1-70f0b650a3c9",
   "metadata": {},
   "outputs": [],
   "source": [
    "#7. Write a Python program to determine if a user is eligible to vote based on their age using if-else."
   ]
  },
  {
   "cell_type": "code",
   "execution_count": 1,
   "id": "a0561869-220f-4864-bde9-40dec93e9f50",
   "metadata": {},
   "outputs": [
    {
     "name": "stdin",
     "output_type": "stream",
     "text": [
      " 22\n"
     ]
    },
    {
     "name": "stdout",
     "output_type": "stream",
     "text": [
      "eligible to vote\n"
     ]
    }
   ],
   "source": [
    "age=int(input())\n",
    "\n",
    "if age>=18:\n",
    "    print(\"eligible to vote\")\n",
    "else:\n",
    "    print(\"not eligible to vote\")\n",
    "   "
   ]
  },
  {
   "cell_type": "code",
   "execution_count": 2,
   "id": "6a8810ac-d2a1-4f82-9eae-d7da1375c835",
   "metadata": {},
   "outputs": [],
   "source": [
    "#8. Create a Python program that calculates the discount amount based on the purchase amount using if-else"
   ]
  },
  {
   "cell_type": "code",
   "execution_count": 4,
   "id": "8ff5a905-2cea-4643-872c-5b5d20527db8",
   "metadata": {},
   "outputs": [
    {
     "name": "stdin",
     "output_type": "stream",
     "text": [
      "Enter the purchase amount:  500\n"
     ]
    },
    {
     "name": "stdout",
     "output_type": "stream",
     "text": [
      "Original Price: 500.00\n",
      "Discount: 10%\n",
      "Discount Amount: 50.00\n",
      "Discounted Price: 450.00\n"
     ]
    }
   ],
   "source": [
    "# Input the purchase amount from the user\n",
    "purchase_amount = float(input(\"Enter the purchase amount: \"))\n",
    "\n",
    "# Apply discount based on the purchase amount using if-else statements\n",
    "if purchase_amount >= 100:\n",
    "    discount_percent = 10\n",
    "elif purchase_amount >= 50:\n",
    "    discount_percent = 5\n",
    "else:\n",
    "    discount_percent = 0\n",
    "\n",
    "# Calculate the discount amount\n",
    "discount_amount = (discount_percent / 100) * purchase_amount\n",
    "\n",
    "# Calculate the discounted price\n",
    "discounted_price = purchase_amount - discount_amount\n",
    "\n",
    "# Display the results\n",
    "print(f\"Original Price: {purchase_amount:.2f}\")\n",
    "print(f\"Discount: {discount_percent}%\")\n",
    "print(f\"Discount Amount: {discount_amount:.2f}\")\n",
    "print(f\"Discounted Price: {discounted_price:.2f}\")\n"
   ]
  },
  {
   "cell_type": "code",
   "execution_count": 5,
   "id": "6d81dfbf-3bec-490a-8762-aaf4143558ad",
   "metadata": {},
   "outputs": [],
   "source": [
    "#9. Write a Python program to check if a number is within a specified range using if-else."
   ]
  },
  {
   "cell_type": "code",
   "execution_count": 6,
   "id": "d16c5ba2-2fc9-4cca-b92c-1147049bb397",
   "metadata": {},
   "outputs": [
    {
     "name": "stdin",
     "output_type": "stream",
     "text": [
      "Enter a number:  88\n"
     ]
    },
    {
     "name": "stdout",
     "output_type": "stream",
     "text": [
      "88.0 is outside the range [10, 50].\n"
     ]
    }
   ],
   "source": [
    "# Specify the range\n",
    "lower_limit = 10\n",
    "upper_limit = 50\n",
    "\n",
    "# Input a number from the user\n",
    "number = float(input(\"Enter a number: \"))\n",
    "\n",
    "# Check if the number is within the specified range using if-else statements\n",
    "if lower_limit <= number <= upper_limit:\n",
    "    print(f\"{number} is within the range [{lower_limit}, {upper_limit}].\")\n",
    "else:\n",
    "    print(f\"{number} is outside the range [{lower_limit}, {upper_limit}].\")\n"
   ]
  },
  {
   "cell_type": "code",
   "execution_count": 7,
   "id": "8935af60-bac4-4c21-b31b-97a1f4f9d6b1",
   "metadata": {},
   "outputs": [],
   "source": [
    "#10. Create a Python program that determines the grade of a student based on their score using if-else."
   ]
  },
  {
   "cell_type": "code",
   "execution_count": 4,
   "id": "a2351117-9bca-4af8-a123-e259ba6c6e5f",
   "metadata": {},
   "outputs": [
    {
     "name": "stdin",
     "output_type": "stream",
     "text": [
      "Enter the student's score:  71\n"
     ]
    },
    {
     "name": "stdout",
     "output_type": "stream",
     "text": [
      "The student's grade is: C\n"
     ]
    }
   ],
   "source": [
    "# Input the student's score from the user\n",
    "score = float(input(\"Enter the student's score: \"))\n",
    "\n",
    "# Check if the score is within the valid range\n",
    "if 0 <= score <= 100:\n",
    "    # Determine the grade based on the score using if-else statements\n",
    "    if 90 <= score <= 100:\n",
    "        grade = 'A'\n",
    "    elif 80 <= score < 90:\n",
    "        grade = 'B'\n",
    "    elif 70 <= score < 80:\n",
    "        grade = 'C'\n",
    "    elif 60 <= score < 70:\n",
    "        grade = 'D'\n",
    "    else:\n",
    "        grade = 'F'\n",
    "\n",
    "    # Display the result\n",
    "    print(f\"The student's grade is: {grade}\")\n",
    "else:\n",
    "    print(\"Invalid score. Please enter a score between 0 and 100.\")\n"
   ]
  },
  {
   "cell_type": "code",
   "execution_count": 9,
   "id": "b5b222eb-568c-4b9c-b75c-b51126b46894",
   "metadata": {},
   "outputs": [],
   "source": [
    "#11. Write a Python program to check if a string is empty or not using if-else."
   ]
  },
  {
   "cell_type": "code",
   "execution_count": 6,
   "id": "126dda09-da4e-4dfe-ae28-9dac94adbab1",
   "metadata": {},
   "outputs": [
    {
     "name": "stdin",
     "output_type": "stream",
     "text": [
      "Enter a string:  \n"
     ]
    },
    {
     "name": "stdout",
     "output_type": "stream",
     "text": [
      "The string is empty.\n"
     ]
    }
   ],
   "source": [
    "# Input a string from the user\n",
    "user_input = input(\"Enter a string: \")\n",
    "\n",
    "# Check if the string is empty or not using if-else statements\n",
    "if not user_input:\n",
    "    print(\"The string is empty.\")\n",
    "else:\n",
    "    print(f\"The string is not empty. It contains: '{user_input}'\")\n"
   ]
  },
  {
   "cell_type": "code",
   "execution_count": 7,
   "id": "e168095b-b857-4efe-923e-8c5e922189da",
   "metadata": {},
   "outputs": [],
   "source": [
    "#12. Create a Python program that identifies the type of a triangle (e.g., equilateral, isosceles, or scalene) based on input values using if-else."
   ]
  },
  {
   "cell_type": "code",
   "execution_count": 9,
   "id": "3f973dcd-a668-41b1-8e66-8e611153c9c2",
   "metadata": {},
   "outputs": [
    {
     "name": "stdin",
     "output_type": "stream",
     "text": [
      "enter side1 5\n",
      "enter side2 5\n",
      "enter side3 3\n"
     ]
    },
    {
     "name": "stdout",
     "output_type": "stream",
     "text": [
      "isosceles\n"
     ]
    }
   ],
   "source": [
    "side1=int(input('enter side1'))\n",
    "side2=int(input('enter side2'))\n",
    "side3=int(input('enter side3'))\n",
    "if side1==side2==side3:\n",
    "    print(\"equilateral\")\n",
    "elif side1==side2 or side2==side3 or side1==side3:\n",
    "    print(\"isosceles\")\n",
    "else:\n",
    "    print(\"scalene\")"
   ]
  },
  {
   "cell_type": "code",
   "execution_count": 10,
   "id": "4b2503bd-cc37-4e1c-a1c8-89d591abd82b",
   "metadata": {},
   "outputs": [],
   "source": [
    "#13. Write a Python program to determine the day of the week based on a user-provided number using if-else."
   ]
  },
  {
   "cell_type": "code",
   "execution_count": 16,
   "id": "5d63d058-da85-43d9-849b-e85b1d55f97b",
   "metadata": {},
   "outputs": [
    {
     "name": "stdin",
     "output_type": "stream",
     "text": [
      "enter the day number: 5\n"
     ]
    },
    {
     "name": "stdout",
     "output_type": "stream",
     "text": [
      "thursday\n"
     ]
    }
   ],
   "source": [
    "day=int(input(\"enter the day number:\"))\n",
    "if 0<day<=7:\n",
    "    if day==1:\n",
    "        print(\"sunday\")\n",
    "    elif day==2:\n",
    "        print(\"monday\")\n",
    "    elif day==3:\n",
    "        print(\"tuesday\")\n",
    "    elif  day==4:\n",
    "        print(\"wednesday\")\n",
    "    elif day==5:\n",
    "        print(\"thursday\")\n",
    "    elif day==6:\n",
    "        print(\"friday\")\n",
    "    else:\n",
    "        print(\"saturday\")\n",
    "else:\n",
    "    print(\"enter between 1-7\")"
   ]
  },
  {
   "cell_type": "code",
   "execution_count": 24,
   "id": "da91024c-47ee-43f5-823b-375001da5871",
   "metadata": {},
   "outputs": [],
   "source": [
    "#14. Create a Python program that checks if a given year is a leap year using both if-else and a function."
   ]
  },
  {
   "cell_type": "code",
   "execution_count": 23,
   "id": "00156418-c806-446f-b2f4-51be10b478a4",
   "metadata": {},
   "outputs": [
    {
     "name": "stdin",
     "output_type": "stream",
     "text": [
      " 2024\n"
     ]
    },
    {
     "name": "stdout",
     "output_type": "stream",
     "text": [
      "leap year\n"
     ]
    }
   ],
   "source": [
    "year=int(input())\n",
    "if (year%4==0 and year%100!=0) or (year%400==0):\n",
    "    print(\"leap year\")\n",
    "else:\n",
    "    print(\"not a leap year\")"
   ]
  },
  {
   "cell_type": "code",
   "execution_count": 25,
   "id": "e80f5aa1-e345-4a3e-8c06-6f5463e64644",
   "metadata": {},
   "outputs": [],
   "source": [
    "#15. How do you use the \"assert\" statement in Python to add debugging checks within if-else blocks?"
   ]
  },
  {
   "cell_type": "raw",
   "id": "cba13fa6-bf06-4bd2-8b30-ca501bb268b4",
   "metadata": {},
   "source": [
    "The assert statement in Python is used to check whether a given expression evaluates to True. If the expression is False, an AssertionError exception is raised, allowing you to catch potential issues during development.\n",
    "\n",
    "def check_even(number):\n",
    "    # Check if the number is even using assert\n",
    "    assert number % 2 == 0, \"Number must be even\"\n",
    "    \n",
    "    print(f\"{number} is an even number.\")\n",
    "\n",
    "# Example usage\n",
    "try:\n",
    "    input_number = int(input(\"Enter an even number: \"))\n",
    "    check_even(input_number)\n",
    "except AssertionError as e:\n",
    "    print(f\"AssertionError: {e}\")\n",
    "except ValueError as e:\n",
    "    print(f\"ValueError: {e}\")\n",
    "except Exception as e:\n",
    "    print(f\"An unexpected error occurred: {e}\")\n",
    "\n",
    "\n",
    "The check_even function checks whether the input number is even using the assert statement. If it's not even, an AssertionError is raised with the specified error message.\n",
    "The try-except block is used to catch both AssertionError and ValueError (if the user enters a non-integer value) and handle them gracefully.\n"
   ]
  },
  {
   "cell_type": "code",
   "execution_count": 26,
   "id": "7a457b40-a398-4fff-89a2-730b8d96f15b",
   "metadata": {},
   "outputs": [],
   "source": [
    "#16. Create a Python program that determines the eligibility of a person for a senior citizen discount based on age using if-else."
   ]
  },
  {
   "cell_type": "code",
   "execution_count": 28,
   "id": "85a8b7da-4bd7-4eca-85ee-278a425e5660",
   "metadata": {},
   "outputs": [
    {
     "name": "stdin",
     "output_type": "stream",
     "text": [
      "Enter the age of the person:  66\n"
     ]
    },
    {
     "name": "stdout",
     "output_type": "stream",
     "text": [
      "The person is eligible for a senior citizen discount.\n"
     ]
    }
   ],
   "source": [
    "# Input the age of the person\n",
    "age = int(input(\"Enter the age of the person: \"))\n",
    "\n",
    "# Determine eligibility for senior citizen discount using if-else statements\n",
    "if age >= 60:\n",
    "    print(\"The person is eligible for a senior citizen discount.\")\n",
    "else:\n",
    "    print(\" the person is not eligible for a senior citizen discount.\")\n",
    "\n"
   ]
  },
  {
   "cell_type": "code",
   "execution_count": 29,
   "id": "5b4627ba-b732-40a7-9deb-7db15f081dbf",
   "metadata": {},
   "outputs": [],
   "source": [
    "#17. Write a Python program to categorize a given character as uppercase, lowercase, or neither using if-else."
   ]
  },
  {
   "cell_type": "code",
   "execution_count": 2,
   "id": "63d67733-79ee-4974-ad5e-64700f5493a8",
   "metadata": {},
   "outputs": [
    {
     "name": "stdin",
     "output_type": "stream",
     "text": [
      "Enter a character:  h\n"
     ]
    },
    {
     "name": "stdout",
     "output_type": "stream",
     "text": [
      "The character 'h' is Lowercase.\n"
     ]
    }
   ],
   "source": [
    "def categorize_character(char):\n",
    "    if char.islower():\n",
    "        category = \"Lowercase\"\n",
    "    elif char.isupper():\n",
    "        category = \"Uppercase\"\n",
    "    else:\n",
    "        category = \"Neither Uppercase nor Lowercase\"\n",
    "\n",
    "    return category\n",
    "\n",
    "# Get input from the user\n",
    "user_input = input(\"Enter a character: \")\n",
    "\n",
    "# Make sure the input is a single character\n",
    "if len(user_input) == 1:\n",
    "    result = categorize_character(user_input)\n",
    "    print(f\"The character '{user_input}' is {result}.\")\n",
    "else:\n",
    "    print(\"Please enter only a single character.\")\n"
   ]
  },
  {
   "cell_type": "code",
   "execution_count": 3,
   "id": "11d86f8f-e15b-4494-ad27-9eb04a17ab07",
   "metadata": {},
   "outputs": [],
   "source": [
    "#18. Write a Python program to determine the roots of a quadratic equation using if-else."
   ]
  },
  {
   "cell_type": "code",
   "execution_count": 5,
   "id": "5a31215b-3936-408a-a0df-03d79b2b7169",
   "metadata": {},
   "outputs": [
    {
     "name": "stdin",
     "output_type": "stream",
     "text": [
      "Enter the coefficient 'a':  4\n",
      "Enter the coefficient 'b':  2\n",
      "Enter the coefficient 'c':  1\n"
     ]
    },
    {
     "name": "stdout",
     "output_type": "stream",
     "text": [
      "The equation 4.0x^2 + 2.0x + 1.0 = 0 has Complex roots:\n",
      "('-0.25 + 0.4330127018922193i', '-0.25 - 0.4330127018922193i')\n"
     ]
    }
   ],
   "source": [
    "import math\n",
    "\n",
    "def calculate_roots(a, b, c):\n",
    "    # Calculate the discriminant\n",
    "    discriminant = b**2 - 4*a*c\n",
    "    \n",
    "    # Check the discriminant to determine the nature of roots\n",
    "    if discriminant > 0:\n",
    "        root1 = (-b + math.sqrt(discriminant)) / (2*a)\n",
    "        root2 = (-b - math.sqrt(discriminant)) / (2*a)\n",
    "        return \"Real and distinct roots\", root1, root2\n",
    "    elif discriminant == 0:\n",
    "        root = -b / (2*a)\n",
    "        return \"Real and identical roots\", root\n",
    "    else:\n",
    "        real_part = -b / (2*a)\n",
    "        imaginary_part = math.sqrt(abs(discriminant)) / (2*a)\n",
    "        root1 = f\"{real_part} + {imaginary_part}i\"\n",
    "        root2 = f\"{real_part} - {imaginary_part}i\"\n",
    "        return \"Complex roots\", root1, root2\n",
    "\n",
    "# Get coefficients from the user\n",
    "a = float(input(\"Enter the coefficient 'a': \"))\n",
    "b = float(input(\"Enter the coefficient 'b': \"))\n",
    "c = float(input(\"Enter the coefficient 'c': \"))\n",
    "\n",
    "# Check if 'a' is not zero (to avoid division by zero)\n",
    "if a != 0:\n",
    "    result = calculate_roots(a, b, c)\n",
    "    print(f\"The equation {a}x^2 + {b}x + {c} = 0 has {result[0]}:\\n{result[1:]}\")\n",
    "else:\n",
    "    print(\"This is not a quadratic equation (a cannot be zero).\")\n"
   ]
  },
  {
   "cell_type": "code",
   "execution_count": 6,
   "id": "e1659961-d486-4f8c-b1e8-ea8fb465d973",
   "metadata": {},
   "outputs": [],
   "source": [
    "#19. Create a Python program that checks if a given year is a century year or not using if-else."
   ]
  },
  {
   "cell_type": "code",
   "execution_count": 6,
   "id": "fc74bdf9-60f1-4046-9bb7-2ee4c4a19dfc",
   "metadata": {},
   "outputs": [
    {
     "name": "stdin",
     "output_type": "stream",
     "text": [
      "Enter a year:  100\n"
     ]
    },
    {
     "name": "stdout",
     "output_type": "stream",
     "text": [
      "100 is a century year.\n"
     ]
    }
   ],
   "source": [
    "def is_century_year(year):\n",
    "    return year % 100 == 0\n",
    "\n",
    "# Get input from the user\n",
    "try:\n",
    "    year = int(input(\"Enter a year: \"))\n",
    "    if year > 0:\n",
    "        if is_century_year(year):\n",
    "            print(f\"{year} is a century year.\")\n",
    "        else:\n",
    "            print(f\"{year} is not a century year.\")\n",
    "    else:\n",
    "        print(\"Please enter a positive year.\")\n",
    "except ValueError:\n",
    "    print(\"Invalid input. Please enter a valid integer for the year.\")\n"
   ]
  },
  {
   "cell_type": "code",
   "execution_count": 7,
   "id": "478c8ac2-2766-497c-b754-83e0686cf79c",
   "metadata": {},
   "outputs": [],
   "source": [
    "#20. Write a Python program to determine if a given number is a perfect square using if-else."
   ]
  },
  {
   "cell_type": "code",
   "execution_count": 3,
   "id": "f36b48e3-7843-4856-92d8-52aa4640b1b6",
   "metadata": {},
   "outputs": [
    {
     "name": "stdin",
     "output_type": "stream",
     "text": [
      "Enter a number:  25\n"
     ]
    },
    {
     "name": "stdout",
     "output_type": "stream",
     "text": [
      "25 is a perfect square.\n"
     ]
    }
   ],
   "source": [
    "def is_perfect_square(number):\n",
    "    # Check if the square root of the number is an integer\n",
    "    square_root = int(number**0.5)\n",
    "    return square_root**2 == number\n",
    "\n",
    "# Get input from the user\n",
    "try:\n",
    "    num = int(input(\"Enter a number: \"))\n",
    "    if num >= 0:\n",
    "        if is_perfect_square(num):\n",
    "            print(f\"{num} is a perfect square.\")\n",
    "        else:\n",
    "            print(f\"{num} is not a perfect square.\")\n",
    "    else:\n",
    "        print(\"Please enter a non-negative number.\")\n",
    "except ValueError:\n",
    "    print(\"Invalid input. Please enter a valid integer for the number.\")\n"
   ]
  },
  {
   "cell_type": "code",
   "execution_count": 4,
   "id": "9a424018-05ea-4053-a948-e42e71facc0b",
   "metadata": {},
   "outputs": [],
   "source": [
    "#21. Explain the purpose of the \"continue\" and \"break\" statements within if-else loops."
   ]
  },
  {
   "cell_type": "raw",
   "id": "d5a083a1-0766-4160-8f4f-4aadfc1d44c1",
   "metadata": {},
   "source": [
    "break Statement:\n",
    "\n",
    "Purpose: The break statement is used to exit a loop prematurely. When a break statement is encountered inside a loop, the loop is terminated, and the program execution continues with the next statement after the loop.\n",
    "    \n",
    "continue Statement:\n",
    "\n",
    "Purpose: The continue statement is used to skip the rest of the code inside a loop for the current iteration and proceed to the next iteration. It allows you to skip specific parts of the loop's body based on a condition."
   ]
  },
  {
   "cell_type": "code",
   "execution_count": 31,
   "id": "cb4606a7-aa7b-491c-b0fe-8fcb6ea678f9",
   "metadata": {},
   "outputs": [],
   "source": [
    "#22. Create a Python program that calculates the BMI (Body Mass Index) of a person based on their weight and height using if-else."
   ]
  },
  {
   "cell_type": "code",
   "execution_count": 38,
   "id": "b9b7aca6-eb04-4264-a4d8-8c4bb02237e4",
   "metadata": {},
   "outputs": [
    {
     "name": "stdin",
     "output_type": "stream",
     "text": [
      "Enter the person's weight in kilograms:  51\n",
      "Enter the person's height in meters:  1.60\n"
     ]
    },
    {
     "name": "stdout",
     "output_type": "stream",
     "text": [
      "The person's BMI is: 19.92\n"
     ]
    }
   ],
   "source": [
    "def calculate_bmi(weight_kg, height_m):\n",
    "    bmi = weight_kg / (height_m ** 2)\n",
    "    return bmi\n",
    "\n",
    "\n",
    "# Example usage:\n",
    "try:\n",
    "    weight = float(input(\"Enter the person's weight in kilograms: \"))\n",
    "    height = float(input(\"Enter the person's height in meters: \"))     \n",
    "\n",
    "    if weight > 0 and height > 0:\n",
    "        bmi = calculate_bmi(weight, height)\n",
    "        \n",
    "        print(f\"The person's BMI is: {bmi:.2f}\")\n",
    "    else:\n",
    "        print(\"Invalid input! Please enter positive values for weight and height.\")\n",
    "except ValueError:\n",
    "    print(\"Invalid input! Please enter numeric values for weight and height.\")\n"
   ]
  },
  {
   "cell_type": "code",
   "execution_count": 34,
   "id": "820d575c-d132-43f8-8ae3-e80263f04a04",
   "metadata": {},
   "outputs": [],
   "source": [
    "#23. How can you use the \"filter()\" function with if-else statements to filter elements from a list?"
   ]
  },
  {
   "cell_type": "raw",
   "id": "29a677d8-3680-4ab2-a429-3bd0a500d1a5",
   "metadata": {},
   "source": [
    "\n",
    "The filter() function in Python is used to filter elements from an iterable (such as a list) based on a given function. While the filter() function itself does not directly use if-else statements, you can provide a function to filter() that includes if-else logic to decide whether an element should be included in the filtered result."
   ]
  },
  {
   "cell_type": "code",
   "execution_count": 1,
   "id": "427bd48a-ac0c-46f6-ab12-d5355730ef5b",
   "metadata": {},
   "outputs": [],
   "source": [
    "#24. Write a Python program to determine if a given number is prime or not using if-else."
   ]
  },
  {
   "cell_type": "code",
   "execution_count": 5,
   "id": "18066481-fc18-4632-8cc5-18a2f172cafe",
   "metadata": {},
   "outputs": [
    {
     "name": "stdin",
     "output_type": "stream",
     "text": [
      "Enter a number:  3\n"
     ]
    },
    {
     "name": "stdout",
     "output_type": "stream",
     "text": [
      "3 is a prime number.\n"
     ]
    }
   ],
   "source": [
    "def is_prime(number):\n",
    "    # Check if the number is less than 2 (not a prime number)\n",
    "    if number < 2:\n",
    "        return False\n",
    "    \n",
    "    # Check for factors from 2 to the square root of the number\n",
    "    for i in range(2, int(number**0.5) + 1):\n",
    "        if number % i == 0:\n",
    "            return False  # Found a factor, not a prime number\n",
    "    \n",
    "    return True  # No factors found, it's a prime number\n",
    "\n",
    "# Get input from the user\n",
    "try:\n",
    "    num = int(input(\"Enter a number: \"))\n",
    "    if num >= 0:\n",
    "        if is_prime(num):\n",
    "            print(f\"{num} is a prime number.\")\n",
    "        else:\n",
    "            print(f\"{num} is not a prime number.\")\n",
    "    else:\n",
    "        print(\"Please enter a non-negative integer.\")\n",
    "except ValueError:\n",
    "    print(\"Invalid input. Please enter a valid integer for the number.\")\n"
   ]
  },
  {
   "cell_type": "raw",
   "id": "b8e47f20-48a4-4456-bd67-3e763b19d84d",
   "metadata": {},
   "source": [
    "Map :-"
   ]
  },
  {
   "cell_type": "code",
   "execution_count": 7,
   "id": "f60db1e5-b253-4936-ac04-412ea88fca62",
   "metadata": {},
   "outputs": [],
   "source": [
    "#1. Explain the purpose of the `map()` function in Python and provide an example of how it can be used to apply a function to each element of an iterable."
   ]
  },
  {
   "cell_type": "code",
   "execution_count": null,
   "id": "325931da-5710-4fcf-96fe-640d9266a025",
   "metadata": {},
   "outputs": [],
   "source": []
  },
  {
   "cell_type": "code",
   "execution_count": 10,
   "id": "e7c604f6-7e98-48f3-8e58-7a2a4f5edaeb",
   "metadata": {},
   "outputs": [],
   "source": [
    "#2. Write a Python program that uses the `map()` function to square each element of a list of numbers"
   ]
  },
  {
   "cell_type": "code",
   "execution_count": 11,
   "id": "22c0fa59-88a0-4fdf-a988-72ffd17d6c7b",
   "metadata": {},
   "outputs": [
    {
     "name": "stdout",
     "output_type": "stream",
     "text": [
      "[1, 4, 9, 16]\n"
     ]
    }
   ],
   "source": [
    "def square(num):\n",
    "    return num**2\n",
    "l=[1,2,3,4]\n",
    "l1=list(map(square,l))\n",
    "print(l1)\n"
   ]
  },
  {
   "cell_type": "code",
   "execution_count": 1,
   "id": "1b346e66-1b79-4e84-9c79-46ecbc6b9707",
   "metadata": {},
   "outputs": [],
   "source": [
    "#3. How does the `map()` function differ from a list comprehension in Python, and when would you choose one over the other?"
   ]
  },
  {
   "cell_type": "code",
   "execution_count": null,
   "id": "ca5bffed-9fc5-4113-b147-669ce2d841f9",
   "metadata": {},
   "outputs": [],
   "source": []
  },
  {
   "cell_type": "code",
   "execution_count": 3,
   "id": "efe66ad7-84c1-4448-9e4e-cef96667210a",
   "metadata": {},
   "outputs": [],
   "source": [
    "#4.Create a Python program that uses the `map()` function to convert a list of names to uppercase."
   ]
  },
  {
   "cell_type": "code",
   "execution_count": 4,
   "id": "3e8a442b-373d-4f8e-a499-f596f39de3a9",
   "metadata": {},
   "outputs": [
    {
     "data": {
      "text/plain": [
       "['AJITESH', 'RAHUL']"
      ]
     },
     "execution_count": 4,
     "metadata": {},
     "output_type": "execute_result"
    }
   ],
   "source": [
    "def uppercase(n):\n",
    "    return n.upper()\n",
    "names=[\"ajitesh\",\"rahul\"]\n",
    "l1=list(map(uppercase,names))\n",
    "l1"
   ]
  },
  {
   "cell_type": "code",
   "execution_count": 5,
   "id": "7fe09d10-9b28-4185-9064-f00ee5bedfb6",
   "metadata": {
    "tags": []
   },
   "outputs": [],
   "source": [
    "#5. Write a Python program that uses the `map()` function to calculate the length of each word in a list of strings."
   ]
  },
  {
   "cell_type": "code",
   "execution_count": 10,
   "id": "d6cb8566-1889-4010-b676-0e97534cc67a",
   "metadata": {},
   "outputs": [
    {
     "data": {
      "text/plain": [
       "[8, 7, 5]"
      ]
     },
     "execution_count": 10,
     "metadata": {},
     "output_type": "execute_result"
    }
   ],
   "source": [
    "def calculate_length(l):\n",
    "    count=0\n",
    "    for i in l:\n",
    "        count+=1\n",
    "    return count\n",
    "\n",
    "list1=[\"pwskills\",\"ajitesh\",\"india\"]\n",
    "length=list(map(calculate_length,list1))\n",
    "length"
   ]
  },
  {
   "cell_type": "code",
   "execution_count": 11,
   "id": "46271ac3-dc1f-4661-a266-bf535adc9642",
   "metadata": {},
   "outputs": [],
   "source": [
    "#6. How can you use the `map()` function to apply a custom function to elements of multiple lists simultaneously in Python?"
   ]
  },
  {
   "cell_type": "code",
   "execution_count": 27,
   "id": "9e4335fe-4b97-4e79-a5f4-666523541ecd",
   "metadata": {},
   "outputs": [
    {
     "name": "stdout",
     "output_type": "stream",
     "text": [
      "[12, 15, 18]\n"
     ]
    }
   ],
   "source": [
    "def custom_function(x, y, z):\n",
    "    return x + y + z\n",
    "\n",
    "list1 = [1, 2, 3]\n",
    "list2 = [4, 5, 6]\n",
    "list3 = [7, 8, 9]\n",
    "\n",
    "result = map(custom_function, list1, list2, list3)\n",
    "\n",
    "# In Python 3, convert the map object to a list\n",
    "result_list = list(result)\n",
    "\n",
    "print(result_list)\n",
    "\n",
    "\"\"\"in this example,\n",
    "the custom function takes 3 arguements(x,y,z) and return their sum.\n",
    "When using map() with multiple lists, the provided function is applied element-wise to the corresponding elements of the input lists\n",
    "The map() function in Python is a built in function that applies a specified function to all items in an iterable (a list) and returns an iterable map object\"\"\"\n",
    "\n"
   ]
  },
  {
   "cell_type": "code",
   "execution_count": 15,
   "id": "8b8b891b-8df4-4356-894e-c3cf8ac9dc6b",
   "metadata": {},
   "outputs": [],
   "source": [
    "#7. Create a Python program that uses `map()` to convert a list of temperatures from Celsius to Fahrenheit."
   ]
  },
  {
   "cell_type": "code",
   "execution_count": 21,
   "id": "558eed13-a2d8-4adf-9b1b-865230e566e9",
   "metadata": {},
   "outputs": [
    {
     "data": {
      "text/plain": [
       "[98.6, 32.0, 212.0]"
      ]
     },
     "execution_count": 21,
     "metadata": {},
     "output_type": "execute_result"
    }
   ],
   "source": [
    "def temperature(temp_in_celcius):\n",
    "    temp_in_fahrenheit=((temp_in_celcius)*9/5) + 32\n",
    "    return temp_in_fahrenheit\n",
    "t=[37,0,100]\n",
    "t1=list(map(temperature,t))\n",
    "t1\n"
   ]
  },
  {
   "cell_type": "code",
   "execution_count": 22,
   "id": "14944ffd-e01c-448a-b419-f773373a9954",
   "metadata": {},
   "outputs": [],
   "source": [
    "#8. Write a Python program that uses the `map()` function to round each element of a list of floating-point numbers to the nearest integer.\n"
   ]
  },
  {
   "cell_type": "code",
   "execution_count": 24,
   "id": "578b007f-8b77-4445-8551-96a26c376d9c",
   "metadata": {},
   "outputs": [
    {
     "data": {
      "text/plain": [
       "[2, 3, 77]"
      ]
     },
     "execution_count": 24,
     "metadata": {},
     "output_type": "execute_result"
    }
   ],
   "source": [
    "def round_element(n):\n",
    "    return round(n)\n",
    "\n",
    "num=[2.33,3.21,76.88]\n",
    "elements=list(map(round_element,num))\n",
    "elements\n",
    "\n",
    "    "
   ]
  },
  {
   "cell_type": "code",
   "execution_count": null,
   "id": "b11659e4-6a3b-4823-a4e3-2332b686205d",
   "metadata": {},
   "outputs": [],
   "source": []
  },
  {
   "cell_type": "raw",
   "id": "3508d198-87f1-498e-a4f2-f686be7a5cf1",
   "metadata": {},
   "source": [
    "Reduce :-"
   ]
  },
  {
   "cell_type": "code",
   "execution_count": 28,
   "id": "748de136-4737-4a38-8e17-df25f4130a74",
   "metadata": {},
   "outputs": [],
   "source": [
    "#1. What is the `reduce()` function in Python, and what module should you import to use it? Provide an example of its basic usage."
   ]
  },
  {
   "cell_type": "raw",
   "id": "fb857dc9-7cec-441f-b0ea-e54588d56b0a",
   "metadata": {},
   "source": [
    "The reduce() function in Python is a built-in function that is part of the functools module. It is used for cumulative operations on a sequence of elements, reducing them to a single value. The reduce() function takes a binary function (a function that takes two arguments) and an iterable, and it successively applies the function to the elements of the iterable, reducing them to a single accumulated result."
   ]
  },
  {
   "cell_type": "code",
   "execution_count": 1,
   "id": "67efea54-35ff-4654-aec1-c22a62c63111",
   "metadata": {},
   "outputs": [],
   "source": [
    "#2. Write a Python program that uses the `reduce()` function to find the product of all elements in a list."
   ]
  },
  {
   "cell_type": "code",
   "execution_count": 2,
   "id": "a51e4ab8-ae98-4ad3-b423-f57db3fead0c",
   "metadata": {},
   "outputs": [
    {
     "name": "stdout",
     "output_type": "stream",
     "text": [
      "Product of elements in the list [2, 3, 4, 5]: 120\n"
     ]
    }
   ],
   "source": [
    "from functools import reduce\n",
    "\n",
    "def product_of_elements(lst):\n",
    "\n",
    "    # Use reduce to find the product of all elements\n",
    "    product = reduce(lambda x, y: x * y, lst)\n",
    "    return product\n",
    "\n",
    "# Example usage:\n",
    "numbers = [2, 3, 4, 5]\n",
    "result = product_of_elements(numbers)\n",
    "\n",
    "print(f\"Product of elements in the list {numbers}: {result}\")\n"
   ]
  },
  {
   "cell_type": "code",
   "execution_count": 3,
   "id": "dc18247d-1b8b-45c3-9bc9-3540f719a4a9",
   "metadata": {},
   "outputs": [],
   "source": [
    "#3. Create a Python program that uses `reduce()` to find the maximum element in a list of numbers."
   ]
  },
  {
   "cell_type": "code",
   "execution_count": 4,
   "id": "2510f671-44da-4aaf-b536-e550b1a0370b",
   "metadata": {},
   "outputs": [
    {
     "name": "stdout",
     "output_type": "stream",
     "text": [
      "Maximum element in the list [12, 5, 23, 8, 17, 9]: 23\n"
     ]
    }
   ],
   "source": [
    "from functools import reduce\n",
    "\n",
    "def find_maximum(lst):\n",
    "    # Use reduce to find the maximum element\n",
    "    maximum = reduce(lambda x, y: x if x > y else y, lst)\n",
    "    return maximum\n",
    "\n",
    "# Example usage:\n",
    "numbers = [12, 5, 23, 8, 17, 9]\n",
    "result = find_maximum(numbers)\n",
    "\n",
    "print(f\"Maximum element in the list {numbers}: {result}\")\n"
   ]
  },
  {
   "cell_type": "code",
   "execution_count": 5,
   "id": "20be69de-6ea2-452f-88b8-7eda707eb3ff",
   "metadata": {},
   "outputs": [],
   "source": [
    "#4. How can you use the `reduce()` function to concatenate a list of strings into a single string?"
   ]
  },
  {
   "cell_type": "code",
   "execution_count": null,
   "id": "9a97f973-4ee2-47ce-acb7-dd5b4f8dd37b",
   "metadata": {},
   "outputs": [],
   "source": []
  },
  {
   "cell_type": "code",
   "execution_count": 7,
   "id": "6245af6d-b8e4-4dc7-a50c-0883a4a74894",
   "metadata": {},
   "outputs": [],
   "source": [
    "#5. Write a Python program that calculates the factorial of a number using the `reduce()` function."
   ]
  },
  {
   "cell_type": "code",
   "execution_count": 8,
   "id": "287b3e05-f047-4e17-a232-9a90765e599c",
   "metadata": {},
   "outputs": [
    {
     "name": "stdout",
     "output_type": "stream",
     "text": [
      "The factorial of 5 is: 120\n"
     ]
    }
   ],
   "source": [
    "from functools import reduce\n",
    "\n",
    "def calculate_factorial(n):\n",
    "    # Check if the input is non-negative\n",
    "    if n < 0:\n",
    "        return \"Factorial is undefined for negative numbers.\"\n",
    "\n",
    "    # Use reduce to calculate the factorial\n",
    "    factorial = reduce(lambda x, y: x * y, range(1, n + 1), 1)\n",
    "    return factorial\n",
    "\n",
    "# Example usage:\n",
    "number = 5\n",
    "result = calculate_factorial(number)\n",
    "\n",
    "print(f\"The factorial of {number} is: {result}\")\n"
   ]
  },
  {
   "cell_type": "code",
   "execution_count": 9,
   "id": "4a9a642a-088f-44fb-814a-efbcfe2971d5",
   "metadata": {},
   "outputs": [],
   "source": [
    "#6. Create a Python program that uses `reduce()` to find the GCD (Greatest Common Divisor) of a list of numbers."
   ]
  },
  {
   "cell_type": "code",
   "execution_count": 10,
   "id": "74148929-e3cc-46cd-9bcc-8739a014bf69",
   "metadata": {},
   "outputs": [
    {
     "name": "stdout",
     "output_type": "stream",
     "text": [
      "The GCD of the list [24, 36, 48] is: 12\n"
     ]
    }
   ],
   "source": [
    "from functools import reduce\n",
    "from math import gcd\n",
    "\n",
    "def find_gcd(lst):\n",
    "    # Check if the list is not empty\n",
    "    if not lst:\n",
    "        return \"GCD is undefined for an empty list.\"\n",
    "\n",
    "    # Use reduce with math.gcd to find the GCD\n",
    "    result_gcd = reduce(gcd, lst)\n",
    "    return result_gcd\n",
    "\n",
    "# Example usage:\n",
    "numbers = [24, 36, 48]\n",
    "result = find_gcd(numbers)\n",
    "\n",
    "print(f\"The GCD of the list {numbers} is: {result}\")\n"
   ]
  },
  {
   "cell_type": "code",
   "execution_count": 11,
   "id": "c05d21c0-5c47-4ac6-a597-8829d70ce9ac",
   "metadata": {},
   "outputs": [],
   "source": [
    "#7. Write a Python program that uses the `reduce()` function to find the sum of the digits of a given number."
   ]
  },
  {
   "cell_type": "code",
   "execution_count": 12,
   "id": "3e6ab23b-30d0-4d71-a96b-e513ce126db6",
   "metadata": {},
   "outputs": [
    {
     "name": "stdout",
     "output_type": "stream",
     "text": [
      "The sum of digits in the number 12345 is: 15\n"
     ]
    }
   ],
   "source": [
    "from functools import reduce\n",
    "\n",
    "def sum_of_digits(number):\n",
    "    # Convert the number to a list of digits\n",
    "    digits = [int(digit) for digit in str(abs(number))]\n",
    "\n",
    "    # Use reduce to find the sum of digits\n",
    "    result_sum = reduce(lambda x, y: x + y, digits, 0)\n",
    "    return result_sum\n",
    "\n",
    "# Example usage:\n",
    "input_number = 12345\n",
    "result = sum_of_digits(input_number)\n",
    "\n",
    "print(f\"The sum of digits in the number {input_number} is: {result}\")\n"
   ]
  },
  {
   "cell_type": "raw",
   "id": "77801ddc-d890-491b-8583-9970fc9ce854",
   "metadata": {},
   "source": [
    "Filter :-"
   ]
  },
  {
   "cell_type": "code",
   "execution_count": 1,
   "id": "07ec19d4-479c-45e8-af04-c1de79da2e93",
   "metadata": {},
   "outputs": [],
   "source": [
    "#1.Explain the purpose of the `filter()` function in Python and provide an example of how it can be used to filter elements from an iterable."
   ]
  },
  {
   "cell_type": "code",
   "execution_count": null,
   "id": "244797a3-032c-4bc7-bb5d-9b702afc4c49",
   "metadata": {},
   "outputs": [],
   "source": []
  },
  {
   "cell_type": "code",
   "execution_count": 2,
   "id": "3540107b-1d6f-48cc-9536-b1d0c2ab9d29",
   "metadata": {},
   "outputs": [],
   "source": [
    "#2. Write a Python program that uses the `filter()` function to select even numbers from a list of integers."
   ]
  },
  {
   "cell_type": "code",
   "execution_count": 5,
   "id": "7ae31a8a-68ac-4491-826c-d7a07baea4cd",
   "metadata": {},
   "outputs": [
    {
     "name": "stdout",
     "output_type": "stream",
     "text": [
      "[2, 4, 6]\n"
     ]
    }
   ],
   "source": [
    "def even_num(num):\n",
    "    return num%2==0\n",
    "num=[1,2,3,4,5,6,7]\n",
    "even_numbers=list(filter(even_num,num))\n",
    "print(even_numbers)"
   ]
  },
  {
   "cell_type": "code",
   "execution_count": 6,
   "id": "22cb773f-ffed-4f95-a173-bc15f9783850",
   "metadata": {},
   "outputs": [],
   "source": [
    "#3. Create a Python program that uses the `filter()` function to select names that start with a specific letter from a list of strings."
   ]
  },
  {
   "cell_type": "code",
   "execution_count": 7,
   "id": "6b1eae48-4479-42f9-bbb7-5c9aded490c2",
   "metadata": {},
   "outputs": [
    {
     "data": {
      "text/plain": [
       "['aji', 'ajay']"
      ]
     },
     "execution_count": 7,
     "metadata": {},
     "output_type": "execute_result"
    }
   ],
   "source": [
    "def letter(ch):\n",
    "    return ch.startswith(\"a\")\n",
    "\n",
    "ch=[\"aji\",\"pwskills\",\"ajay\"]\n",
    "letters=list(filter(letter,ch))\n",
    "letters"
   ]
  },
  {
   "cell_type": "code",
   "execution_count": 8,
   "id": "f52d5c96-f158-46e7-a20c-bcc8c602e192",
   "metadata": {},
   "outputs": [],
   "source": [
    "#4. Write a Python program that uses the `filter()` function to select prime numbers from a list of integers."
   ]
  },
  {
   "cell_type": "code",
   "execution_count": 14,
   "id": "c1e895f8-be33-4bf3-a285-cc9ec1ea0ab8",
   "metadata": {},
   "outputs": [
    {
     "data": {
      "text/plain": [
       "[2, 3, 5, 7, 11]"
      ]
     },
     "execution_count": 14,
     "metadata": {},
     "output_type": "execute_result"
    }
   ],
   "source": [
    "def prime_num(num):\n",
    "    if num<2:\n",
    "        return False\n",
    "    else:\n",
    "        for i in range(2,(int(num**0.5+1))):\n",
    "            if num%i==0:\n",
    "                return False\n",
    "        return True\n",
    "    \n",
    "num=[1,2,3,4,5,6,6,7,8,9,10,11]\n",
    "prime_numbers=list(filter(prime_num,num))\n",
    "prime_numbers"
   ]
  },
  {
   "cell_type": "code",
   "execution_count": 19,
   "id": "390dbc2e-32d7-4904-aa1f-59ca49d775ac",
   "metadata": {},
   "outputs": [],
   "source": [
    "#5. How can you use the `filter()` function to remove None values from a list in Python?"
   ]
  },
  {
   "cell_type": "code",
   "execution_count": null,
   "id": "2c632bd8-07a4-486a-893f-54f565e4a2c5",
   "metadata": {},
   "outputs": [],
   "source": []
  },
  {
   "cell_type": "code",
   "execution_count": 20,
   "id": "743eeac6-aa8c-461e-afa3-90d0cca7bb53",
   "metadata": {},
   "outputs": [],
   "source": [
    "#6. Create a Python program that uses `filter()` to select words longer than a certain length from a list of strings."
   ]
  },
  {
   "cell_type": "code",
   "execution_count": 29,
   "id": "e016e6ad-7732-4402-a1b7-51f1db3b0f08",
   "metadata": {},
   "outputs": [
    {
     "data": {
      "text/plain": [
       "['seven', 'asdfg']"
      ]
     },
     "execution_count": 29,
     "metadata": {},
     "output_type": "execute_result"
    }
   ],
   "source": [
    "def word(ch):\n",
    "    if len(ch)==5:\n",
    "        return True\n",
    "    \n",
    "ch=[\"kartik\",\"seven\",\"gold\",\"asdfg\"]\n",
    "length=list(filter(word,ch))\n",
    "length"
   ]
  },
  {
   "cell_type": "code",
   "execution_count": 26,
   "id": "50d43ff2-b3bb-424c-9838-71e5b06e1876",
   "metadata": {},
   "outputs": [],
   "source": [
    "#7. Write a Python program that uses the `filter()` function to select elements greater than a specified threshold from a list of values."
   ]
  },
  {
   "cell_type": "code",
   "execution_count": 27,
   "id": "6d4a4b08-7734-494c-b209-4e9c5ba2c6e4",
   "metadata": {},
   "outputs": [
    {
     "name": "stdout",
     "output_type": "stream",
     "text": [
      "Original list: [5, 12, 3, 8, 20, 15, 7]\n",
      "Filtered values greater than 10: [12, 20, 15]\n"
     ]
    }
   ],
   "source": [
    "def greater(num):\n",
    "    if num>10:\n",
    "        \n",
    "        return True\n",
    "    \n",
    "numbers=[3,4,7,11,14,3,54,9]\n",
    "\n",
    "greater_nums=list(filter(greater,numbers))\n",
    "greater_nums"
   ]
  },
  {
   "cell_type": "code",
   "execution_count": null,
   "id": "58fa5b73-416f-4776-89a4-3e141594eac5",
   "metadata": {},
   "outputs": [],
   "source": []
  },
  {
   "cell_type": "code",
   "execution_count": null,
   "id": "eaa9b140-0c14-423e-8e9b-1f569f613c8d",
   "metadata": {},
   "outputs": [],
   "source": []
  }
 ],
 "metadata": {
  "kernelspec": {
   "display_name": "Python 3 (ipykernel)",
   "language": "python",
   "name": "python3"
  },
  "language_info": {
   "codemirror_mode": {
    "name": "ipython",
    "version": 3
   },
   "file_extension": ".py",
   "mimetype": "text/x-python",
   "name": "python",
   "nbconvert_exporter": "python",
   "pygments_lexer": "ipython3",
   "version": "3.10.8"
  }
 },
 "nbformat": 4,
 "nbformat_minor": 5
}
