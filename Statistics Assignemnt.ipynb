{
 "cells": [
  {
   "cell_type": "code",
   "execution_count": 1,
   "id": "9e14125e-673b-4c1b-930b-0a1d674edaa6",
   "metadata": {},
   "outputs": [],
   "source": [
    "import pandas as  pd\n",
    "import numpy as np\n",
    "import seaborn as sns\n",
    "import matplotlib.pyplot as plt"
   ]
  },
  {
   "cell_type": "code",
   "execution_count": 2,
   "id": "82521aa3-a8a1-4560-89b4-9d4c9754bc1b",
   "metadata": {},
   "outputs": [],
   "source": [
    "#1. Generate a list of 100 integers containing values between 90 to 130 and store it in the variable `int_list`.\n",
    "#After generating the list, find the following:"
   ]
  },
  {
   "cell_type": "code",
   "execution_count": 3,
   "id": "82364fe0-1d9d-4e6a-a919-6a99923b27a7",
   "metadata": {},
   "outputs": [
    {
     "data": {
      "text/plain": [
       "array([ 98,  98, 129, 119, 107, 108, 104, 120, 109,  98, 117, 113, 112,\n",
       "       126, 100, 119,  93, 101, 102,  97, 107, 111, 109, 121, 129,  95,\n",
       "       128,  99, 122,  96])"
      ]
     },
     "execution_count": 3,
     "metadata": {},
     "output_type": "execute_result"
    }
   ],
   "source": [
    "int_list=np.random.randint(90,130,30)\n",
    "int_list"
   ]
  },
  {
   "cell_type": "code",
   "execution_count": 4,
   "id": "906ca91a-a1a6-45cd-ad45-2369b778d00e",
   "metadata": {},
   "outputs": [],
   "source": [
    " #(i) Write a Python function to calculate the mean of a given list of numbers.\n",
    "\n",
    "#Create a function to find the median of a list of numbers."
   ]
  },
  {
   "cell_type": "code",
   "execution_count": 5,
   "id": "e064f4d5-641d-4fe4-bd66-10050d8d2e6b",
   "metadata": {},
   "outputs": [
    {
     "data": {
      "text/plain": [
       "109.56666666666666"
      ]
     },
     "execution_count": 5,
     "metadata": {},
     "output_type": "execute_result"
    }
   ],
   "source": [
    "np.mean(int_list)"
   ]
  },
  {
   "cell_type": "code",
   "execution_count": 6,
   "id": "5b2fc7ad-0bc3-40a8-b1e3-ee72d773dd3b",
   "metadata": {},
   "outputs": [],
   "source": [
    "  #(ii) Develop a program to compute the mode of a list of integers."
   ]
  },
  {
   "cell_type": "code",
   "execution_count": 7,
   "id": "2bea3bc6-434e-49fc-8df9-8d99c1f59a0b",
   "metadata": {},
   "outputs": [
    {
     "data": {
      "text/plain": [
       "98"
      ]
     },
     "execution_count": 7,
     "metadata": {},
     "output_type": "execute_result"
    }
   ],
   "source": [
    "import statistics\n",
    "statistics.mode(int_list)"
   ]
  },
  {
   "cell_type": "code",
   "execution_count": 8,
   "id": "db21e4e2-770b-423b-883b-c24baf86ca5f",
   "metadata": {},
   "outputs": [],
   "source": [
    " # (iii) Implement a function to calculate the weighted mean of a list of values and their corresponding weights."
   ]
  },
  {
   "cell_type": "code",
   "execution_count": 9,
   "id": "21409a40-f4b9-4dd9-b6a2-827e1c508b84",
   "metadata": {},
   "outputs": [
    {
     "data": {
      "text/plain": [
       "[3.2666666666666666,\n",
       " 3.2666666666666666,\n",
       " 4.3,\n",
       " 3.966666666666667,\n",
       " 3.566666666666667,\n",
       " 3.6,\n",
       " 3.466666666666667,\n",
       " 4.0,\n",
       " 3.6333333333333333,\n",
       " 3.2666666666666666,\n",
       " 3.9,\n",
       " 3.7666666666666666,\n",
       " 3.7333333333333334,\n",
       " 4.2,\n",
       " 3.3333333333333335,\n",
       " 3.966666666666667,\n",
       " 3.1,\n",
       " 3.3666666666666667,\n",
       " 3.4,\n",
       " 3.2333333333333334,\n",
       " 3.566666666666667,\n",
       " 3.7,\n",
       " 3.6333333333333333,\n",
       " 4.033333333333333,\n",
       " 4.3,\n",
       " 3.1666666666666665,\n",
       " 4.266666666666667,\n",
       " 3.3,\n",
       " 4.066666666666666,\n",
       " 3.2]"
      ]
     },
     "execution_count": 9,
     "metadata": {},
     "output_type": "execute_result"
    }
   ],
   "source": [
    "# step1  calculating the wieght of list of numbers\n",
    "# step 2 total numbers in list  30 so now \n",
    "tim=[i for i in int_list/30]\n",
    "tim\n",
    "\n"
   ]
  },
  {
   "cell_type": "code",
   "execution_count": 10,
   "id": "35b2f2a6-004c-43a2-b79f-c17eeed2c89a",
   "metadata": {},
   "outputs": [
    {
     "data": {
      "text/plain": [
       "109.56666666666668"
      ]
     },
     "execution_count": 10,
     "metadata": {},
     "output_type": "execute_result"
    }
   ],
   "source": [
    "# step 2 after  calculating the weighted mean of each number in tim  we have to add the wieghted mean list \n",
    "sum(tim)"
   ]
  },
  {
   "cell_type": "code",
   "execution_count": 11,
   "id": "b7be7b1c-3d54-4af6-9da5-6a846d319af2",
   "metadata": {},
   "outputs": [],
   "source": [
    " #(iv) Write a Python function to find the geometric mean of a list of positive numbers."
   ]
  },
  {
   "cell_type": "code",
   "execution_count": 12,
   "id": "94346903-fc49-4a40-93f6-62af942b81a1",
   "metadata": {},
   "outputs": [],
   "source": [
    "# for calculating the geometric mean multiply all numbers together and find the squre root or cube root of them "
   ]
  },
  {
   "cell_type": "code",
   "execution_count": 13,
   "id": "1bd1f742-0efd-42cc-a67e-ba23d90ca957",
   "metadata": {},
   "outputs": [
    {
     "data": {
      "text/plain": [
       "array([ 98,  98, 129, 119, 107, 108, 104, 120, 109,  98, 117, 113, 112,\n",
       "       126, 100, 119,  93, 101, 102,  97, 107, 111, 109, 121, 129,  95,\n",
       "       128,  99, 122,  96])"
      ]
     },
     "execution_count": 13,
     "metadata": {},
     "output_type": "execute_result"
    }
   ],
   "source": [
    "int_list"
   ]
  },
  {
   "cell_type": "code",
   "execution_count": 14,
   "id": "23c873cb-187e-4280-80aa-8ba65d762eaf",
   "metadata": {},
   "outputs": [
    {
     "data": {
      "text/plain": [
       "109.02303258827023"
      ]
     },
     "execution_count": 14,
     "metadata": {},
     "output_type": "execute_result"
    }
   ],
   "source": [
    "# so we have library for large number  of values \n",
    "from scipy.stats  import gmean\n",
    "gmean(int_list)"
   ]
  },
  {
   "cell_type": "code",
   "execution_count": 15,
   "id": "312ee08e-2e38-4fd6-8db3-66ad7dd6e2cd",
   "metadata": {},
   "outputs": [],
   "source": [
    " #(v) Create a program to calculate the harmonic mean of a list of values."
   ]
  },
  {
   "cell_type": "code",
   "execution_count": 16,
   "id": "a3ea75e3-370f-409e-8b0a-b0aefc6d6117",
   "metadata": {},
   "outputs": [
    {
     "data": {
      "text/plain": [
       "108.48879913001142"
      ]
     },
     "execution_count": 16,
     "metadata": {},
     "output_type": "execute_result"
    }
   ],
   "source": [
    "# again we are using thew library \n",
    "from scipy.stats import hmean\n",
    "hmean(int_list)"
   ]
  },
  {
   "cell_type": "code",
   "execution_count": 17,
   "id": "2cd09398-ea4d-4207-881f-ed0d72917730",
   "metadata": {},
   "outputs": [],
   "source": [
    "#(vi) Build a function to determine the midrange of a list of numbers (average of the minimum and maximum)"
   ]
  },
  {
   "cell_type": "code",
   "execution_count": 18,
   "id": "09bebf5a-d871-4a97-b902-b91c29375462",
   "metadata": {},
   "outputs": [
    {
     "data": {
      "text/plain": [
       "111.0"
      ]
     },
     "execution_count": 18,
     "metadata": {},
     "output_type": "execute_result"
    }
   ],
   "source": [
    "def midrange(arr):\n",
    "    max_value=max(arr)\n",
    "    min_value=min(arr)\n",
    "    average_value=(max_value+min_value)/2\n",
    "    return average_value\n",
    "midrange(int_list)\n"
   ]
  },
  {
   "cell_type": "code",
   "execution_count": 19,
   "id": "e0aea47c-049f-4c2b-ad58-ed2b7da19931",
   "metadata": {},
   "outputs": [],
   "source": [
    " #(vii) Implement a Python program to find the trimmed mean of a list, excluding a certain percentage of \n",
    "#outliers"
   ]
  },
  {
   "cell_type": "code",
   "execution_count": 20,
   "id": "da99d26f-057a-42db-b880-a550c95c56af",
   "metadata": {},
   "outputs": [
    {
     "data": {
      "text/plain": [
       "109.04166666666667"
      ]
     },
     "execution_count": 20,
     "metadata": {},
     "output_type": "execute_result"
    }
   ],
   "source": [
    "# simply in above question  we have to remove the outlier from list \n",
    "def trimmean(percentage, arr):\n",
    "    if not 0 <=percentage<50:\n",
    "        print(\"invalid the percentage\")\n",
    "    #converting the percentage into the fraction\n",
    "    fraction= percentage/100.0\n",
    "    # number of values needed to trim\n",
    "    trim_count=int(len(arr)* fraction)\n",
    "    # sorting the numbers\n",
    "    sorted_numbers=sorted(arr)\n",
    "    # trim the values here slicing is bieng done  from front and back \n",
    "    trimmed_numbers=sorted_numbers[trim_count:-trim_count]\n",
    "    # calculate and return mean of the trim\n",
    "    return np.mean(trimmed_numbers)\n",
    "\n",
    "percentage=10\n",
    "trimmean(percentage,int_list)\n",
    "\n",
    "\n",
    "\n",
    "    "
   ]
  },
  {
   "cell_type": "code",
   "execution_count": 21,
   "id": "b278f373-a4b2-4aba-b1f8-5be261db17fc",
   "metadata": {},
   "outputs": [],
   "source": [
    "# 2. Generate a list oF 500 integers containing values between 200 to 300 and store it in the variable `int_list2`. \n",
    "#AFter generating the list, Find the >Following"
   ]
  },
  {
   "cell_type": "code",
   "execution_count": 22,
   "id": "830bd897-8fda-40a7-b4dd-5d9e8a46573a",
   "metadata": {},
   "outputs": [
    {
     "data": {
      "text/plain": [
       "array([253, 265, 203, 272, 246, 240, 272, 275, 266, 264, 251, 204, 207,\n",
       "       261, 289, 254, 211, 298, 256, 293, 206, 226, 237, 234, 272, 272,\n",
       "       272, 272, 295, 240, 285, 250, 271, 263, 242, 243, 211, 210, 203,\n",
       "       257, 218, 236, 209, 279, 232, 275, 245, 281, 223, 279, 268, 264,\n",
       "       297, 207, 255, 274, 254, 211, 239, 298, 244, 273, 201, 280, 242,\n",
       "       200, 253, 260, 288, 210, 271, 246, 247, 256, 242, 201, 277, 264,\n",
       "       247, 271, 239, 290, 241, 292, 267, 279, 241, 234, 273, 265, 253,\n",
       "       239, 247, 262, 224, 274, 263, 297, 205, 281, 201, 267, 206, 235,\n",
       "       290, 260, 232, 292, 262, 203, 291, 284, 273, 205, 203, 270, 214,\n",
       "       224, 256, 239, 245, 299, 260, 297, 222, 267, 218, 223, 229, 218,\n",
       "       288, 290, 211, 255, 256, 281, 264, 292, 284, 208, 246, 276, 254,\n",
       "       293, 245, 280, 266, 247, 210, 212, 233, 214, 279, 203, 202, 201,\n",
       "       290, 248, 246, 285, 241, 243, 290, 294, 244, 229, 279, 238, 238,\n",
       "       253, 283, 251, 251, 221, 262, 231, 215, 262, 250, 226, 202, 232,\n",
       "       248, 252, 287, 255, 249, 205, 266, 275, 232, 255, 223, 274, 272,\n",
       "       240, 267, 287, 216, 245, 213, 253, 260, 272, 276, 251, 239, 220,\n",
       "       270, 251, 289, 217, 260, 261, 217, 203, 281, 269, 284, 298, 213,\n",
       "       240, 296, 247, 241, 216, 285, 207, 292, 289, 234, 270, 285, 219,\n",
       "       268, 267, 227, 295, 205, 249, 258, 222, 211, 205, 271, 283, 283,\n",
       "       228, 263, 240, 214, 275, 280, 289, 237, 250, 236, 278, 231, 270,\n",
       "       296, 291, 278, 277, 225, 219, 233, 257, 209, 235, 274, 211, 235,\n",
       "       255, 284, 214, 201, 229, 291, 221, 220, 216, 217, 208, 226, 253,\n",
       "       243, 285, 298, 261, 250, 203, 285, 281, 295, 254, 232, 299, 251,\n",
       "       256, 224, 292, 278, 260, 235, 211, 298, 289, 233, 243, 221, 219,\n",
       "       279, 237, 252, 208, 270, 246, 210, 271, 200, 252, 222, 215, 296,\n",
       "       207, 216, 267, 288, 271, 206, 232, 202, 284, 296, 215, 270, 284,\n",
       "       297, 233, 216, 225, 299, 273, 231, 209, 299, 212, 283, 289, 241,\n",
       "       237, 206, 280, 273, 211, 206, 246, 210, 276, 221, 220, 291, 250,\n",
       "       293, 252, 270, 262, 201, 287, 248, 207, 237, 266, 276, 200, 278,\n",
       "       275, 206, 279, 299, 248, 225, 202, 212, 224, 243, 250, 234, 258,\n",
       "       299, 293, 206, 221, 266, 288, 240, 203, 254, 231, 274, 293, 201,\n",
       "       206, 210, 295, 258, 221, 281, 277, 214, 271, 232, 294, 224, 250,\n",
       "       208, 228, 251, 203, 213, 224, 229, 232, 210, 287, 291, 293, 224,\n",
       "       233, 269, 296, 264, 252, 226, 257, 227, 250, 258, 244, 210, 211,\n",
       "       235, 284, 227, 228, 245, 296, 298, 231, 224, 268, 205, 246, 274,\n",
       "       209, 295, 238, 216, 264, 235, 270, 205, 255, 231, 227, 210, 241,\n",
       "       266, 263, 212, 256, 231, 293, 251, 210, 283, 201, 289, 292, 236,\n",
       "       284, 290, 292, 216, 220, 261, 222, 282, 249, 224, 253, 239, 234,\n",
       "       285, 225, 217, 222, 252, 217])"
      ]
     },
     "execution_count": 22,
     "metadata": {},
     "output_type": "execute_result"
    }
   ],
   "source": [
    "int_list2=np.random.randint(200,300,500)\n",
    "int_list2"
   ]
  },
  {
   "cell_type": "code",
   "execution_count": 23,
   "id": "7c2a6df7-bb88-4a7f-97ea-7ebf30df9e3e",
   "metadata": {},
   "outputs": [],
   "source": [
    "#(i) Compare the given list of visualization for the given data\n",
    "    #1. Frequency & Gaussian distribution\n",
    "\n",
    "    #2. Frequency smoothened KDE plot\n",
    "\n",
    "    #3. Gaussian distribution & smoothened KDE plot\n"
   ]
  },
  {
   "cell_type": "code",
   "execution_count": 24,
   "id": "2932dc9b-7927-472d-87d6-2bc1efbcb96a",
   "metadata": {},
   "outputs": [],
   "source": [
    " #1. Frequency & Gaussian distribution"
   ]
  },
  {
   "cell_type": "code",
   "execution_count": 25,
   "id": "266b390c-de53-4894-989c-e2f011f4c2ed",
   "metadata": {},
   "outputs": [
    {
     "name": "stderr",
     "output_type": "stream",
     "text": [
      "C:\\Users\\HP\\anaconda3\\Lib\\site-packages\\seaborn\\_oldcore.py:1119: FutureWarning: use_inf_as_na option is deprecated and will be removed in a future version. Convert inf values to NaN before operating instead.\n",
      "  with pd.option_context('mode.use_inf_as_na', True):\n"
     ]
    },
    {
     "data": {
      "text/plain": [
       "[<matplotlib.lines.Line2D at 0x170d6e0a4d0>]"
      ]
     },
     "execution_count": 25,
     "metadata": {},
     "output_type": "execute_result"
    },
    {
     "data": {
      "image/png": "[encoded data removed]",
      "text/plain": [
       "<Figure size 640x480 with 1 Axes>"
      ]
     },
     "metadata": {},
     "output_type": "display_data"
    }
   ],
   "source": [
    " from scipy.stats import norm\n",
    "# ploting the  histogram with kde\n",
    "sns.histplot(int_list2, kde=True, bins =30, stat=\"density\")\n",
    "# fitting the data for normal distribution\n",
    "m,s=norm.fit(int_list2)\n",
    "# calculating the minimum and maximum value for the x axis with its limit\n",
    "xmin, xmax=plt.xlim()\n",
    "# creating the array for linespce \n",
    "x=np.linspace(xmin,xmax,100)\n",
    "p=norm.pdf(x,m,s)\n",
    "plt.plot(x,p,'k', linewidth=5)\n",
    "\n"
   ]
  },
  {
   "cell_type": "code",
   "execution_count": 26,
   "id": "7cff209c-02b8-41b4-b65b-98d44c33180b",
   "metadata": {},
   "outputs": [],
   "source": [
    "#2   Frequency smoothened KDE plot"
   ]
  },
  {
   "cell_type": "code",
   "execution_count": 27,
   "id": "275c06c8-78a0-44d9-8aa2-33a5f26b697c",
   "metadata": {},
   "outputs": [
    {
     "name": "stderr",
     "output_type": "stream",
     "text": [
      "C:\\Users\\HP\\anaconda3\\Lib\\site-packages\\seaborn\\_oldcore.py:1119: FutureWarning: use_inf_as_na option is deprecated and will be removed in a future version. Convert inf values to NaN before operating instead.\n",
      "  with pd.option_context('mode.use_inf_as_na', True):\n",
      "No artists with labels found to put in legend.  Note that artists whose label start with an underscore are ignored when legend() is called with no argument.\n"
     ]
    },
    {
     "data": {
      "text/plain": [
       "<matplotlib.legend.Legend at 0x170d66cc9d0>"
      ]
     },
     "execution_count": 27,
     "metadata": {},
     "output_type": "execute_result"
    },
    {
     "data": {
      "image/png": "[encoded data removed]",
      "text/plain": [
       "<Figure size 640x480 with 1 Axes>"
      ]
     },
     "metadata": {},
     "output_type": "display_data"
    }
   ],
   "source": [
    "sns.kdeplot(data=int_list2,bw_adjust=0.5)\n",
    "plt.xlabel(\"number\")\n",
    "plt.ylabel(\"density\")\n",
    "plt.legend()"
   ]
  },
  {
   "cell_type": "code",
   "execution_count": 28,
   "id": "04a969af-6fb9-4e34-a248-77c4d42bbcdb",
   "metadata": {},
   "outputs": [],
   "source": [
    "    #3. Gaussian distribution & smoothened KDE plot"
   ]
  },
  {
   "cell_type": "code",
   "execution_count": 29,
   "id": "50adb712-6fe9-4aad-b88c-8b3589448675",
   "metadata": {},
   "outputs": [
    {
     "name": "stderr",
     "output_type": "stream",
     "text": [
      "C:\\Users\\HP\\anaconda3\\Lib\\site-packages\\seaborn\\_oldcore.py:1119: FutureWarning: use_inf_as_na option is deprecated and will be removed in a future version. Convert inf values to NaN before operating instead.\n",
      "  with pd.option_context('mode.use_inf_as_na', True):\n"
     ]
    },
    {
     "data": {
      "text/plain": [
       "<matplotlib.legend.Legend at 0x170d6e892d0>"
      ]
     },
     "execution_count": 29,
     "metadata": {},
     "output_type": "execute_result"
    },
    {
     "data": {
      "image/png": "[encoded data removed]",
      "text/plain": [
       "<Figure size 640x480 with 1 Axes>"
      ]
     },
     "metadata": {},
     "output_type": "display_data"
    }
   ],
   "source": [
    "from scipy.stats import norm\n",
    "# creating the gausssian distribution\n",
    "mu, std=norm.fit(int_list2)\n",
    "xmin, xmax= min(int_list2), max(int_list2) \n",
    "x=np.linspace(xmin, xmax,100)\n",
    "p=norm.pdf(x,mu, std)\n",
    "# ploting the point \n",
    "sns.histplot(int_list2, kde=True , bins= 25, color=\"blue\", stat='density', label= \"Data Histrogram\")\n",
    "plt.plot(x,p,'k', label= \"Guassian fit\")\n",
    "plt.title('Gaussian Distribution and Smoothed KDE Plot')\n",
    "plt.xlabel('Value')\n",
    "plt.ylabel('Density')\n",
    "plt.legend()\n",
    "\n",
    "\n",
    "\n",
    "\n",
    "\n",
    "\n"
   ]
  },
  {
   "cell_type": "code",
   "execution_count": null,
   "id": "817aa54d-0f31-4909-a275-710c34297cac",
   "metadata": {},
   "outputs": [],
   "source": [
    " # (ii) Write a Python function to calculate the range of a given list of numbers"
   ]
  },
  {
   "cell_type": "code",
   "execution_count": 30,
   "id": "99b360d9-79bd-4929-81ce-ba770f497989",
   "metadata": {},
   "outputs": [
    {
     "name": "stdout",
     "output_type": "stream",
     "text": [
      "99\n"
     ]
    }
   ],
   "source": [
    "# first  we  finding the minimum value in array\n",
    "min=np.min(int_list2)\n",
    "# second we are finding the maximum value in array \n",
    "max=np.max(int_list2)\n",
    "# finally after \n",
    "range=max-min\n",
    "print(range)"
   ]
  },
  {
   "cell_type": "code",
   "execution_count": null,
   "id": "f66c9816-db5c-4bb2-8bf9-91cee9d56b47",
   "metadata": {},
   "outputs": [],
   "source": [
    "  #(iii) Create a program to find the variance and standard deviation of a list of numbers"
   ]
  },
  {
   "cell_type": "code",
   "execution_count": 31,
   "id": "079d196a-a25b-4d37-8471-857754614680",
   "metadata": {},
   "outputs": [
    {
     "name": "stdout",
     "output_type": "stream",
     "text": [
      "862.128621242485 It  is a variance 29.362026858554657  It is a stnadard deviation\n"
     ]
    },
    {
     "name": "stderr",
     "output_type": "stream",
     "text": [
      "C:\\Users\\HP\\AppData\\Local\\Temp\\ipykernel_25212\\3993076570.py:6: DeprecationWarning: Please use `tvar` from the `scipy.stats` namespace, the `scipy.stats.stats` namespace is deprecated.\n",
      "  p=stats.tvar(l)\n"
     ]
    }
   ],
   "source": [
    "# importing the stats linbrary from scipy\n",
    "from scipy.stats import stats\n",
    "# stoeing the list values in the l \n",
    "l=int_list2\n",
    "# finding the variance \n",
    "p=stats.tvar(l)\n",
    "p\n",
    "# stndard deviation of data\n",
    "sdv=np.sqrt(p)\n",
    "sdv\n",
    "print(p,\"It  is a variance\",sdv,  \" It is a stnadard deviation\")"
   ]
  },
  {
   "cell_type": "code",
   "execution_count": 32,
   "id": "13c74837-8ff4-43ce-8d67-ef3ef6911bca",
   "metadata": {},
   "outputs": [],
   "source": [
    " #(iv) Implement a function to compute the interquartile range (IQR) of a list of values."
   ]
  },
  {
   "cell_type": "code",
   "execution_count": 33,
   "id": "75434e54-478a-4f40-b295-18307d2b7cbe",
   "metadata": {},
   "outputs": [
    {
     "name": "stdout",
     "output_type": "stream",
     "text": [
      "50.0 Inter quatile range\n"
     ]
    }
   ],
   "source": [
    "# for finding the iqr  \n",
    "# we know q1= 25TH percentile \n",
    "# q3= 75th percentile\n",
    "q1=np. percentile(int_list2, 25)\n",
    "q2= np.percentile(int_list2, 75)\n",
    "IQR=q2-q1\n",
    "print(IQR, \"Inter quatile range\")\n",
    "\n",
    "\n",
    "\n"
   ]
  },
  {
   "cell_type": "code",
   "execution_count": 34,
   "id": "0c5e9e5c-0214-4d5c-880f-b84f296215f8",
   "metadata": {},
   "outputs": [],
   "source": [
    " # (v) Build a program to calculate the coefficient of variation for a dataset.\n",
    "# we know cofficient of variation cv= mu/sigma"
   ]
  },
  {
   "cell_type": "code",
   "execution_count": 35,
   "id": "03bc0535-1d2d-4e8e-b2f0-450f9e6cb5ae",
   "metadata": {},
   "outputs": [
    {
     "name": "stdout",
     "output_type": "stream",
     "text": [
      "0.2891749489080927 cofficient of variation\n"
     ]
    },
    {
     "name": "stderr",
     "output_type": "stream",
     "text": [
      "C:\\Users\\HP\\AppData\\Local\\Temp\\ipykernel_25212\\1949248892.py:3: DeprecationWarning: Please use `tvar` from the `scipy.stats` namespace, the `scipy.stats.stats` namespace is deprecated.\n",
      "  sigma=stats.tvar(int_list2)\n"
     ]
    }
   ],
   "source": [
    "from scipy.stats import stats\n",
    "mu= np.mean(int_list2)\n",
    "sigma=stats.tvar(int_list2)\n",
    "cv=mu/sigma\n",
    "print(cv, \"cofficient of variation\")"
   ]
  },
  {
   "cell_type": "code",
   "execution_count": null,
   "id": "bfa350d9-6968-4950-b04a-b362437879d8",
   "metadata": {},
   "outputs": [],
   "source": [
    " # (vi) Write a Python function to find the mean absolute deviation (MAD) of a list of numbers."
   ]
  },
  {
   "cell_type": "code",
   "execution_count": 36,
   "id": "9147d535-e4f5-4ef1-82c3-7c09d11a61ac",
   "metadata": {},
   "outputs": [
    {
     "data": {
      "text/plain": [
       "array([253, 265, 203, 272, 246, 240, 272, 275, 266, 264, 251, 204, 207,\n",
       "       261, 289, 254, 211, 298, 256, 293, 206, 226, 237, 234, 272, 272,\n",
       "       272, 272, 295, 240, 285, 250, 271, 263, 242, 243, 211, 210, 203,\n",
       "       257, 218, 236, 209, 279, 232, 275, 245, 281, 223, 279, 268, 264,\n",
       "       297, 207, 255, 274, 254, 211, 239, 298, 244, 273, 201, 280, 242,\n",
       "       200, 253, 260, 288, 210, 271, 246, 247, 256, 242, 201, 277, 264,\n",
       "       247, 271, 239, 290, 241, 292, 267, 279, 241, 234, 273, 265, 253,\n",
       "       239, 247, 262, 224, 274, 263, 297, 205, 281, 201, 267, 206, 235,\n",
       "       290, 260, 232, 292, 262, 203, 291, 284, 273, 205, 203, 270, 214,\n",
       "       224, 256, 239, 245, 299, 260, 297, 222, 267, 218, 223, 229, 218,\n",
       "       288, 290, 211, 255, 256, 281, 264, 292, 284, 208, 246, 276, 254,\n",
       "       293, 245, 280, 266, 247, 210, 212, 233, 214, 279, 203, 202, 201,\n",
       "       290, 248, 246, 285, 241, 243, 290, 294, 244, 229, 279, 238, 238,\n",
       "       253, 283, 251, 251, 221, 262, 231, 215, 262, 250, 226, 202, 232,\n",
       "       248, 252, 287, 255, 249, 205, 266, 275, 232, 255, 223, 274, 272,\n",
       "       240, 267, 287, 216, 245, 213, 253, 260, 272, 276, 251, 239, 220,\n",
       "       270, 251, 289, 217, 260, 261, 217, 203, 281, 269, 284, 298, 213,\n",
       "       240, 296, 247, 241, 216, 285, 207, 292, 289, 234, 270, 285, 219,\n",
       "       268, 267, 227, 295, 205, 249, 258, 222, 211, 205, 271, 283, 283,\n",
       "       228, 263, 240, 214, 275, 280, 289, 237, 250, 236, 278, 231, 270,\n",
       "       296, 291, 278, 277, 225, 219, 233, 257, 209, 235, 274, 211, 235,\n",
       "       255, 284, 214, 201, 229, 291, 221, 220, 216, 217, 208, 226, 253,\n",
       "       243, 285, 298, 261, 250, 203, 285, 281, 295, 254, 232, 299, 251,\n",
       "       256, 224, 292, 278, 260, 235, 211, 298, 289, 233, 243, 221, 219,\n",
       "       279, 237, 252, 208, 270, 246, 210, 271, 200, 252, 222, 215, 296,\n",
       "       207, 216, 267, 288, 271, 206, 232, 202, 284, 296, 215, 270, 284,\n",
       "       297, 233, 216, 225, 299, 273, 231, 209, 299, 212, 283, 289, 241,\n",
       "       237, 206, 280, 273, 211, 206, 246, 210, 276, 221, 220, 291, 250,\n",
       "       293, 252, 270, 262, 201, 287, 248, 207, 237, 266, 276, 200, 278,\n",
       "       275, 206, 279, 299, 248, 225, 202, 212, 224, 243, 250, 234, 258,\n",
       "       299, 293, 206, 221, 266, 288, 240, 203, 254, 231, 274, 293, 201,\n",
       "       206, 210, 295, 258, 221, 281, 277, 214, 271, 232, 294, 224, 250,\n",
       "       208, 228, 251, 203, 213, 224, 229, 232, 210, 287, 291, 293, 224,\n",
       "       233, 269, 296, 264, 252, 226, 257, 227, 250, 258, 244, 210, 211,\n",
       "       235, 284, 227, 228, 245, 296, 298, 231, 224, 268, 205, 246, 274,\n",
       "       209, 295, 238, 216, 264, 235, 270, 205, 255, 231, 227, 210, 241,\n",
       "       266, 263, 212, 256, 231, 293, 251, 210, 283, 201, 289, 292, 236,\n",
       "       284, 290, 292, 216, 220, 261, 222, 282, 249, 224, 253, 239, 234,\n",
       "       285, 225, 217, 222, 252, 217])"
      ]
     },
     "execution_count": 36,
     "metadata": {},
     "output_type": "execute_result"
    }
   ],
   "source": [
    "int_list2\n",
    "\n",
    "\n"
   ]
  },
  {
   "cell_type": "code",
   "execution_count": 37,
   "id": "70c7941e-4533-49c7-8459-a6b6492526b3",
   "metadata": {},
   "outputs": [
    {
     "data": {
      "text/plain": [
       "25.34110400000002"
      ]
     },
     "execution_count": 37,
     "metadata": {},
     "output_type": "execute_result"
    }
   ],
   "source": [
    "\n",
    "def mean_deviation(int_list2):\n",
    "    if len(int_list2)==0:\n",
    "        return 0\n",
    "    mean= sum(int_list2)/len(int_list2)\n",
    "    deviations=[abs(x-mean) for x in int_list2]\n",
    "    mad=sum(deviations)/len(deviations)\n",
    "    return mad\n",
    "\n",
    "\n",
    "mean_deviation(int_list2)\n",
    "\n",
    "\n",
    "\n",
    "\n"
   ]
  },
  {
   "cell_type": "code",
   "execution_count": null,
   "id": "11b3fcac-8929-44b2-95e0-7234c3595e24",
   "metadata": {},
   "outputs": [],
   "source": [
    "#(vii) Create a program to calculate the quartile deviation of a list of values.\n"
   ]
  },
  {
   "cell_type": "code",
   "execution_count": 38,
   "id": "f075f534-a83d-4bda-8615-d41133958143",
   "metadata": {},
   "outputs": [
    {
     "data": {
      "text/plain": [
       "array([253, 265, 203, 272, 246, 240, 272, 275, 266, 264, 251, 204, 207,\n",
       "       261, 289, 254, 211, 298, 256, 293, 206, 226, 237, 234, 272, 272,\n",
       "       272, 272, 295, 240, 285, 250, 271, 263, 242, 243, 211, 210, 203,\n",
       "       257, 218, 236, 209, 279, 232, 275, 245, 281, 223, 279, 268, 264,\n",
       "       297, 207, 255, 274, 254, 211, 239, 298, 244, 273, 201, 280, 242,\n",
       "       200, 253, 260, 288, 210, 271, 246, 247, 256, 242, 201, 277, 264,\n",
       "       247, 271, 239, 290, 241, 292, 267, 279, 241, 234, 273, 265, 253,\n",
       "       239, 247, 262, 224, 274, 263, 297, 205, 281, 201, 267, 206, 235,\n",
       "       290, 260, 232, 292, 262, 203, 291, 284, 273, 205, 203, 270, 214,\n",
       "       224, 256, 239, 245, 299, 260, 297, 222, 267, 218, 223, 229, 218,\n",
       "       288, 290, 211, 255, 256, 281, 264, 292, 284, 208, 246, 276, 254,\n",
       "       293, 245, 280, 266, 247, 210, 212, 233, 214, 279, 203, 202, 201,\n",
       "       290, 248, 246, 285, 241, 243, 290, 294, 244, 229, 279, 238, 238,\n",
       "       253, 283, 251, 251, 221, 262, 231, 215, 262, 250, 226, 202, 232,\n",
       "       248, 252, 287, 255, 249, 205, 266, 275, 232, 255, 223, 274, 272,\n",
       "       240, 267, 287, 216, 245, 213, 253, 260, 272, 276, 251, 239, 220,\n",
       "       270, 251, 289, 217, 260, 261, 217, 203, 281, 269, 284, 298, 213,\n",
       "       240, 296, 247, 241, 216, 285, 207, 292, 289, 234, 270, 285, 219,\n",
       "       268, 267, 227, 295, 205, 249, 258, 222, 211, 205, 271, 283, 283,\n",
       "       228, 263, 240, 214, 275, 280, 289, 237, 250, 236, 278, 231, 270,\n",
       "       296, 291, 278, 277, 225, 219, 233, 257, 209, 235, 274, 211, 235,\n",
       "       255, 284, 214, 201, 229, 291, 221, 220, 216, 217, 208, 226, 253,\n",
       "       243, 285, 298, 261, 250, 203, 285, 281, 295, 254, 232, 299, 251,\n",
       "       256, 224, 292, 278, 260, 235, 211, 298, 289, 233, 243, 221, 219,\n",
       "       279, 237, 252, 208, 270, 246, 210, 271, 200, 252, 222, 215, 296,\n",
       "       207, 216, 267, 288, 271, 206, 232, 202, 284, 296, 215, 270, 284,\n",
       "       297, 233, 216, 225, 299, 273, 231, 209, 299, 212, 283, 289, 241,\n",
       "       237, 206, 280, 273, 211, 206, 246, 210, 276, 221, 220, 291, 250,\n",
       "       293, 252, 270, 262, 201, 287, 248, 207, 237, 266, 276, 200, 278,\n",
       "       275, 206, 279, 299, 248, 225, 202, 212, 224, 243, 250, 234, 258,\n",
       "       299, 293, 206, 221, 266, 288, 240, 203, 254, 231, 274, 293, 201,\n",
       "       206, 210, 295, 258, 221, 281, 277, 214, 271, 232, 294, 224, 250,\n",
       "       208, 228, 251, 203, 213, 224, 229, 232, 210, 287, 291, 293, 224,\n",
       "       233, 269, 296, 264, 252, 226, 257, 227, 250, 258, 244, 210, 211,\n",
       "       235, 284, 227, 228, 245, 296, 298, 231, 224, 268, 205, 246, 274,\n",
       "       209, 295, 238, 216, 264, 235, 270, 205, 255, 231, 227, 210, 241,\n",
       "       266, 263, 212, 256, 231, 293, 251, 210, 283, 201, 289, 292, 236,\n",
       "       284, 290, 292, 216, 220, 261, 222, 282, 249, 224, 253, 239, 234,\n",
       "       285, 225, 217, 222, 252, 217])"
      ]
     },
     "execution_count": 38,
     "metadata": {},
     "output_type": "execute_result"
    }
   ],
   "source": [
    "int_list2"
   ]
  },
  {
   "cell_type": "code",
   "execution_count": 39,
   "id": "7e1ef8e0-c31e-428e-92eb-8357d02a7660",
   "metadata": {},
   "outputs": [
    {
     "data": {
      "text/plain": [
       "25.0"
      ]
     },
     "execution_count": 39,
     "metadata": {},
     "output_type": "execute_result"
    }
   ],
   "source": [
    "def quartile_deviation(int_list2):\n",
    "    if len(int_list2)==0:\n",
    "        return\n",
    "    q1=np.percentile(int_list2,25)\n",
    "    q3=np.percentile(int_list2, 75)\n",
    "    qd=(q3-q1)/2\n",
    "    return qd\n",
    "\n",
    "quartile_deviation(int_list2)\n",
    "\n",
    "\n",
    "    \n",
    "    "
   ]
  },
  {
   "cell_type": "code",
   "execution_count": null,
   "id": "c0db7b3c-a161-47eb-9f50-dfec5d0e712e",
   "metadata": {},
   "outputs": [],
   "source": [
    " #(viii) Implement a function to find the range-based coefficient of dispersion for a dataset."
   ]
  },
  {
   "cell_type": "code",
   "execution_count": 40,
   "id": "f795922c-c834-4330-8f68-e3459ab356bb",
   "metadata": {},
   "outputs": [
    {
     "data": {
      "text/plain": [
       "0.39710235614064643"
      ]
     },
     "execution_count": 40,
     "metadata": {},
     "output_type": "execute_result"
    }
   ],
   "source": [
    "import numpy as np\n",
    "\n",
    "def coefficient_of_dispersion(data):\n",
    "    range_value = np.max(data) - np.min(data)\n",
    "    mean_value = np.mean(data)\n",
    "    coefficient_of_dispersion = range_value / mean_value\n",
    "    return coefficient_of_dispersion\n",
    "\n",
    "coefficient_of_dispersion(int_list2)\n",
    "    \n",
    "    \n",
    "    \n",
    "    \n",
    "    \n",
    "    "
   ]
  },
  {
   "cell_type": "code",
   "execution_count": null,
   "id": "80f810d5-cd2f-40ae-808b-a81a947fae6f",
   "metadata": {},
   "outputs": [],
   "source": [
    "#(3.)  Write a Python class representing a discrete random variable with methods to calculate its expected \n",
    "#value and variance"
   ]
  },
  {
   "cell_type": "code",
   "execution_count": 41,
   "id": "278cd8fd-e9e2-4e19-be5e-5966c4de6285",
   "metadata": {},
   "outputs": [
    {
     "name": "stdout",
     "output_type": "stream",
     "text": [
      "Expected Value: 3.2\n",
      "Variance: 1.56\n"
     ]
    }
   ],
   "source": [
    "class DiscreteRandomVariable:\n",
    "    def __init__(self, values, probabilities):\n",
    "        if len(values) != len(probabilities):\n",
    "            raise ValueError(\"The length of values and probabilities must be the same.\")\n",
    "        if not np.isclose(sum(probabilities), 1):\n",
    "            raise ValueError(\"The sum of probabilities must be 1.\")\n",
    "        self.values = values\n",
    "        self.probabilities = probabilities\n",
    "\n",
    "    def expected_value(self):\n",
    "        return sum(value * prob for value, prob in zip(self.values, self.probabilities))\n",
    "\n",
    "    def variance(self):\n",
    "        mean = self.expected_value()\n",
    "        return sum(prob * (value - mean) ** 2 for value, prob in zip(self.values, self.probabilities))\n",
    "\n",
    "# Example usage\n",
    "values = [1, 2, 3, 4, 5]\n",
    "probabilities = [0.1, 0.2, 0.3, 0.2, 0.2]\n",
    "\n",
    "random_variable = DiscreteRandomVariable(values, probabilities)\n",
    "\n",
    "expected_value = random_variable.expected_value()\n",
    "variance = random_variable.variance()\n",
    "\n",
    "print(f\"Expected Value: {expected_value}\")\n",
    "print(f\"Variance: {variance}\")\n"
   ]
  },
  {
   "cell_type": "code",
   "execution_count": null,
   "id": "44bf0756-1ef7-4327-8788-f941de864a28",
   "metadata": {},
   "outputs": [],
   "source": [
    "#(4) Implement a program to simulate the rolling at a  fair six-sided die and calculate the expected value and  variance of the   outcomes"
   ]
  },
  {
   "cell_type": "code",
   "execution_count": 42,
   "id": "ae464cc6-b189-4cb9-8753-710989b20946",
   "metadata": {},
   "outputs": [
    {
     "name": "stdout",
     "output_type": "stream",
     "text": [
      " expected_values 3.3600000000000003\n",
      "variance of  dice 2.8\n"
     ]
    }
   ],
   "source": [
    "# for a dice possibrle outcomes can be \n",
    "values=[1,2,3,4,5,6]\n",
    "# coreesponding proballities \n",
    "probadice=[0.16,0.16,0.16,0.16,0.16,0.16]\n",
    "\n",
    "def expected_value(values, probadice):\n",
    "    return sum(value * prob for value, prob in zip(values ,probadice))\n",
    "def variance(values,probadice):\n",
    "    mean = np.mean(values)\n",
    "    return sum(prob * (value - mean) ** 2 for value, prob in zip(values, probadice))\n",
    "    \n",
    "print (\" expected_values\", expected_value(values, probadice))\n",
    "print(\"variance of  dice\" ,variance(values,probadice) )\n",
    "\n",
    "\n"
   ]
  },
  {
   "cell_type": "code",
   "execution_count": null,
   "id": "3823dff2-03ba-4a65-b6a9-af77c040aab0",
   "metadata": {},
   "outputs": [],
   "source": [
    "#5. Create a Python function to generate random samples from a given probabilities distribution (e.g., binomial, Poisson) and calculate #theier mean and variance."
   ]
  },
  {
   "cell_type": "code",
   "execution_count": 43,
   "id": "52079507-3adb-4a76-9568-5d9d1045e93f",
   "metadata": {},
   "outputs": [
    {
     "name": "stdout",
     "output_type": "stream",
     "text": [
      "Binomial Distribution -> Mean: 5.027, Variance: 2.4562709999999996\n",
      "Poisson Distribution -> Mean: 3.021, Variance: 3.0985590000000003\n"
     ]
    }
   ],
   "source": [
    "import numpy as np\n",
    "\n",
    "def generate_samples(distribution, params, sample_size=1000):\n",
    "    \"\"\"\n",
    "    Generates random samples from a given distribution and calculates their mean and variance.\n",
    "    \n",
    "    Parameters:\n",
    "    distribution (str): The name of the distribution ('binomial', 'poisson', etc.).\n",
    "    params (dict): Parameters for the specified distribution.\n",
    "    sample_size (int): Number of samples to generate. Default is 1000.\n",
    "    \n",
    "    Returns:\n",
    "    tuple: mean and variance of the generated samples.\n",
    "    \"\"\"\n",
    "    if distribution == 'binomial':\n",
    "        n = params.get('n', 1)\n",
    "        p = params.get('p', 0.5)\n",
    "        samples = np.random.binomial(n, p, sample_size)\n",
    "    elif distribution == 'poisson':\n",
    "        lam = params.get('lam', 1)\n",
    "        samples = np.random.poisson(lam, sample_size)\n",
    "    else:\n",
    "        raise ValueError(\"Unsupported distribution. Please use 'binomial' or 'poisson'.\")\n",
    "    \n",
    "    mean = np.mean(samples)\n",
    "    variance = np.var(samples)\n",
    "    \n",
    "    return mean, variance\n",
    "\n",
    "# Example usage\n",
    "params_binomial = {'n': 10, 'p': 0.5}\n",
    "params_poisson = {'lam': 3}\n",
    "\n",
    "mean_binomial, var_binomial = generate_samples('binomial', params_binomial)\n",
    "mean_poisson, var_poisson = generate_samples('poisson', params_poisson)\n",
    "\n",
    "print(f\"Binomial Distribution -> Mean: {mean_binomial}, Variance: {var_binomial}\")\n",
    "print(f\"Poisson Distribution -> Mean: {mean_poisson}, Variance: {var_poisson}\")\n",
    "\n",
    "\n",
    "\n",
    "\n",
    "    \n",
    "         \n",
    "    "
   ]
  },
  {
   "cell_type": "code",
   "execution_count": null,
   "id": "f904f12b-0d9d-4509-a85d-fb563c6cfad5",
   "metadata": {},
   "outputs": [],
   "source": [
    "#6) Write a Python script to generate random numbers from  a Gaussian (normal) distribution and compute the mean, variance, and standard deviation of the samples"
   ]
  },
  {
   "cell_type": "code",
   "execution_count": 44,
   "id": "4896b374-8936-48c4-99dc-7e5096bcce3b",
   "metadata": {},
   "outputs": [
    {
     "name": "stdout",
     "output_type": "stream",
     "text": [
      "variance of the graph 261.0694813392922\n",
      "Mean of graph 14.082089888917107\n",
      "Standard Deviation of graph 16.15764467177355\n"
     ]
    },
    {
     "data": {
      "image/png": "[encoded data removed]",
      "text/plain": [
       "<Figure size 640x480 with 1 Axes>"
      ]
     },
     "metadata": {},
     "output_type": "display_data"
    }
   ],
   "source": [
    "import statistics as st\n",
    "from scipy.stats import norm\n",
    "n=np.random.normal(10,20,20)\n",
    "m,st=norm.fit(n)\n",
    "v=np.var(n)\n",
    "# creating the linespace\n",
    "x_axis=np.arange(-80,80,0.01)\n",
    "plt.plot(x_axis, norm.pdf(x_axis,m,st))\n",
    "plt.title(\"Normal  Distribution\")\n",
    "print(\"variance of the graph\",v)\n",
    "print(\"Mean of graph\",m)\n",
    "print(\"Standard Deviation of graph\", st)\n",
    "\n"
   ]
  },
  {
   "cell_type": "code",
   "execution_count": null,
   "id": "99d12856-5116-4ca9-b5c8-e6bce5e7f947",
   "metadata": {},
   "outputs": [],
   "source": [
    "#7 Use seaborn library to load 'tips' dataset. Find the following from the dataset for the columns total_bill \n",
    "#and 'tip`:\n",
    " #(i) Write a Python function that calculates their skewness.\n",
    "\n",
    "\n",
    "  #(ii) Create a program that determiness whether the columns exhibit postiive skewness, negative skewness, or is \n",
    "approximately symmetric.\n",
    "\n",
    "\n",
    "  #(iii) Write a function that calculates the covariance between two columns.\n",
    "\n",
    "\n",
    "  #(iv) Implement a Python program that calculates the Pearson correlationn coefficient between two columns.\n",
    "\n",
    "\n",
    "  #(v) Write a script tovisualzee the correlation between two specific columns in a Pandas DataFrame using \n",
    "scatter plots."
   ]
  },
  {
   "cell_type": "code",
   "execution_count": 45,
   "id": "a0f61333-41fe-4ef4-954f-f529696316ec",
   "metadata": {},
   "outputs": [
    {
     "data": {
      "text/html": [
       "<div>\n",
       "<style scoped>\n",
       "    .dataframe tbody tr th:only-of-type {\n",
       "        vertical-align: middle;\n",
       "    }\n",
       "\n",
       "    .dataframe tbody tr th {\n",
       "        vertical-align: top;\n",
       "    }\n",
       "\n",
       "    .dataframe thead th {\n",
       "        text-align: right;\n",
       "    }\n",
       "</style>\n",
       "<table border=\"1\" class=\"dataframe\">\n",
       "  <thead>\n",
       "    <tr style=\"text-align: right;\">\n",
       "      <th></th>\n",
       "      <th>total_bill</th>\n",
       "      <th>tip</th>\n",
       "      <th>sex</th>\n",
       "      <th>smoker</th>\n",
       "      <th>day</th>\n",
       "      <th>time</th>\n",
       "      <th>size</th>\n",
       "    </tr>\n",
       "  </thead>\n",
       "  <tbody>\n",
       "    <tr>\n",
       "      <th>0</th>\n",
       "      <td>16.99</td>\n",
       "      <td>1.01</td>\n",
       "      <td>Female</td>\n",
       "      <td>No</td>\n",
       "      <td>Sun</td>\n",
       "      <td>Dinner</td>\n",
       "      <td>2</td>\n",
       "    </tr>\n",
       "    <tr>\n",
       "      <th>1</th>\n",
       "      <td>10.34</td>\n",
       "      <td>1.66</td>\n",
       "      <td>Male</td>\n",
       "      <td>No</td>\n",
       "      <td>Sun</td>\n",
       "      <td>Dinner</td>\n",
       "      <td>3</td>\n",
       "    </tr>\n",
       "    <tr>\n",
       "      <th>2</th>\n",
       "      <td>21.01</td>\n",
       "      <td>3.50</td>\n",
       "      <td>Male</td>\n",
       "      <td>No</td>\n",
       "      <td>Sun</td>\n",
       "      <td>Dinner</td>\n",
       "      <td>3</td>\n",
       "    </tr>\n",
       "    <tr>\n",
       "      <th>3</th>\n",
       "      <td>23.68</td>\n",
       "      <td>3.31</td>\n",
       "      <td>Male</td>\n",
       "      <td>No</td>\n",
       "      <td>Sun</td>\n",
       "      <td>Dinner</td>\n",
       "      <td>2</td>\n",
       "    </tr>\n",
       "    <tr>\n",
       "      <th>4</th>\n",
       "      <td>24.59</td>\n",
       "      <td>3.61</td>\n",
       "      <td>Female</td>\n",
       "      <td>No</td>\n",
       "      <td>Sun</td>\n",
       "      <td>Dinner</td>\n",
       "      <td>4</td>\n",
       "    </tr>\n",
       "    <tr>\n",
       "      <th>...</th>\n",
       "      <td>...</td>\n",
       "      <td>...</td>\n",
       "      <td>...</td>\n",
       "      <td>...</td>\n",
       "      <td>...</td>\n",
       "      <td>...</td>\n",
       "      <td>...</td>\n",
       "    </tr>\n",
       "    <tr>\n",
       "      <th>239</th>\n",
       "      <td>29.03</td>\n",
       "      <td>5.92</td>\n",
       "      <td>Male</td>\n",
       "      <td>No</td>\n",
       "      <td>Sat</td>\n",
       "      <td>Dinner</td>\n",
       "      <td>3</td>\n",
       "    </tr>\n",
       "    <tr>\n",
       "      <th>240</th>\n",
       "      <td>27.18</td>\n",
       "      <td>2.00</td>\n",
       "      <td>Female</td>\n",
       "      <td>Yes</td>\n",
       "      <td>Sat</td>\n",
       "      <td>Dinner</td>\n",
       "      <td>2</td>\n",
       "    </tr>\n",
       "    <tr>\n",
       "      <th>241</th>\n",
       "      <td>22.67</td>\n",
       "      <td>2.00</td>\n",
       "      <td>Male</td>\n",
       "      <td>Yes</td>\n",
       "      <td>Sat</td>\n",
       "      <td>Dinner</td>\n",
       "      <td>2</td>\n",
       "    </tr>\n",
       "    <tr>\n",
       "      <th>242</th>\n",
       "      <td>17.82</td>\n",
       "      <td>1.75</td>\n",
       "      <td>Male</td>\n",
       "      <td>No</td>\n",
       "      <td>Sat</td>\n",
       "      <td>Dinner</td>\n",
       "      <td>2</td>\n",
       "    </tr>\n",
       "    <tr>\n",
       "      <th>243</th>\n",
       "      <td>18.78</td>\n",
       "      <td>3.00</td>\n",
       "      <td>Female</td>\n",
       "      <td>No</td>\n",
       "      <td>Thur</td>\n",
       "      <td>Dinner</td>\n",
       "      <td>2</td>\n",
       "    </tr>\n",
       "  </tbody>\n",
       "</table>\n",
       "<p>244 rows × 7 columns</p>\n",
       "</div>"
      ],
      "text/plain": [
       "     total_bill   tip     sex smoker   day    time  size\n",
       "0         16.99  1.01  Female     No   Sun  Dinner     2\n",
       "1         10.34  1.66    Male     No   Sun  Dinner     3\n",
       "2         21.01  3.50    Male     No   Sun  Dinner     3\n",
       "3         23.68  3.31    Male     No   Sun  Dinner     2\n",
       "4         24.59  3.61  Female     No   Sun  Dinner     4\n",
       "..          ...   ...     ...    ...   ...     ...   ...\n",
       "239       29.03  5.92    Male     No   Sat  Dinner     3\n",
       "240       27.18  2.00  Female    Yes   Sat  Dinner     2\n",
       "241       22.67  2.00    Male    Yes   Sat  Dinner     2\n",
       "242       17.82  1.75    Male     No   Sat  Dinner     2\n",
       "243       18.78  3.00  Female     No  Thur  Dinner     2\n",
       "\n",
       "[244 rows x 7 columns]"
      ]
     },
     "execution_count": 45,
     "metadata": {},
     "output_type": "execute_result"
    }
   ],
   "source": [
    "df=sns.load_dataset('tips')\n",
    "df"
   ]
  },
  {
   "cell_type": "code",
   "execution_count": null,
   "id": "2649b8fc-6ce0-4c21-82ac-df122609b96c",
   "metadata": {},
   "outputs": [],
   "source": [
    " #(i) Write a Python function that calculates their skewness."
   ]
  },
  {
   "cell_type": "code",
   "execution_count": 46,
   "id": "4ec796e7-f1f0-4e2b-b24d-638e2aae496a",
   "metadata": {},
   "outputs": [
    {
     "data": {
      "text/plain": [
       "0      1.01\n",
       "1      1.66\n",
       "2      3.50\n",
       "3      3.31\n",
       "4      3.61\n",
       "       ... \n",
       "239    5.92\n",
       "240    2.00\n",
       "241    2.00\n",
       "242    1.75\n",
       "243    3.00\n",
       "Name: tip, Length: 244, dtype: float64"
      ]
     },
     "execution_count": 46,
     "metadata": {},
     "output_type": "execute_result"
    }
   ],
   "source": [
    "df['tip']"
   ]
  },
  {
   "cell_type": "code",
   "execution_count": 47,
   "id": "fc2f4c2d-e3f9-44a2-aabd-3d69a5142c90",
   "metadata": {},
   "outputs": [
    {
     "name": "stdout",
     "output_type": "stream",
     "text": [
      "Skewness of  tip  1.4564266884221506\n",
      "skewness of  total_bill 1.1262346334818638\n"
     ]
    }
   ],
   "source": [
    "from scipy.stats import skew\n",
    "# for tips\n",
    "skewness=skew(df['tip'])\n",
    "print(\"Skewness of  tip \", skewness)\n",
    "# for bill \n",
    "skewnes=skew(df['total_bill'])\n",
    "print(\"skewness of  total_bill\",skewnes)\n",
    "\n",
    "\n",
    "\n"
   ]
  },
  {
   "cell_type": "code",
   "execution_count": null,
   "id": "241d6a37-6f88-4705-ab71-ec8afbf82ef2",
   "metadata": {},
   "outputs": [],
   "source": [
    "#(ii) Create a program that determiness whether the columns exhibit postiive skewness, negative skewness, or is \n",
    "#approximately symmetric."
   ]
  },
  {
   "cell_type": "code",
   "execution_count": 48,
   "id": "4aec7476-fbaf-4c06-97e7-80e7ff97fbc6",
   "metadata": {},
   "outputs": [
    {
     "name": "stdout",
     "output_type": "stream",
     "text": [
      "coloum is positive skewness\n"
     ]
    }
   ],
   "source": [
    "from scipy.stats import skew\n",
    "def check_skew(cln):\n",
    "    da=skew(cln)\n",
    "    if da>1:\n",
    "        print(\"coloum is positive skewness\")\n",
    "    elif da<1:\n",
    "        print(\"coloum is negatively skewness\")\n",
    "    elif da==0:\n",
    "        print(\"coloum  is symmetric\")\n",
    "    else:\n",
    "        print(\"value not defined\")\n",
    "\n",
    "# usage\n",
    "check_skew(df['tip'])"
   ]
  },
  {
   "cell_type": "code",
   "execution_count": null,
   "id": "f88a45b1-b2f6-4cd6-b659-154cb241294a",
   "metadata": {},
   "outputs": [],
   "source": [
    "#(iii) Write a function that calculates the covariance between two columns."
   ]
  },
  {
   "cell_type": "code",
   "execution_count": 49,
   "id": "873505d0-c55a-4662-b215-60d26cf8ff3b",
   "metadata": {},
   "outputs": [
    {
     "data": {
      "text/plain": [
       "array([[1.        , 0.67573411],\n",
       "       [0.67573411, 1.        ]])"
      ]
     },
     "execution_count": 49,
     "metadata": {},
     "output_type": "execute_result"
    }
   ],
   "source": [
    "def calco(c1,c2):\n",
    "    corr=np.corrcoef(c1,c2)\n",
    "    return corr\n",
    "\n",
    "# exapel usage\n",
    "calco(df['tip'],df['total_bill'])\n",
    "\n",
    "    "
   ]
  },
  {
   "cell_type": "code",
   "execution_count": null,
   "id": "5253d882-fc5b-4988-933e-93ba89cac419",
   "metadata": {},
   "outputs": [],
   "source": [
    "#(iv) Implement a Python program that calculates the Pearson correlationn coefficient between two columns."
   ]
  },
  {
   "cell_type": "code",
   "execution_count": 50,
   "id": "6b1ee353-1a71-4837-95d8-ac7bb311c035",
   "metadata": {},
   "outputs": [
    {
     "data": {
      "text/plain": [
       "0.489298775230357"
      ]
     },
     "execution_count": 50,
     "metadata": {},
     "output_type": "execute_result"
    }
   ],
   "source": [
    "from scipy.stats import pearsonr\n",
    "def calculate_pearson_correlation(data1, data2):\n",
    " \n",
    "    \n",
    "    # Calculate the Pearson correlation coefficient using scipy's pearsonr function\n",
    "    correlation, _ = pearsonr(data1, data2)\n",
    "    return correlation\n",
    "\n",
    "calculate_pearson_correlation(df['tip'], df['size'])\n",
    "\n",
    "    \n"
   ]
  },
  {
   "cell_type": "code",
   "execution_count": null,
   "id": "b9048829-aeda-43c8-be60-ef849a7c37a3",
   "metadata": {},
   "outputs": [],
   "source": [
    "#(v) Write a script to visualze the correlation between two specific columns in a Pandas DataFrame using  scatter plots.\n",
    "\n"
   ]
  },
  {
   "cell_type": "code",
   "execution_count": 51,
   "id": "0b323161-53e4-4122-a8a8-fff8ba751a7f",
   "metadata": {},
   "outputs": [
    {
     "data": {
      "text/plain": [
       "<matplotlib.collections.PathCollection at 0x170d72a7910>"
      ]
     },
     "execution_count": 51,
     "metadata": {},
     "output_type": "execute_result"
    },
    {
     "data": {
      "image/png": "[encoded data removed]",
      "text/plain": [
       "<Figure size 640x480 with 1 Axes>"
      ]
     },
     "metadata": {},
     "output_type": "display_data"
    }
   ],
   "source": [
    "plt.scatter(df['tip'],df['total_bill'], alpha=0.5)\n",
    "#correlation betwenn tip and total bill were 0.67573411"
   ]
  },
  {
   "cell_type": "code",
   "execution_count": 52,
   "id": "a3585df0-8034-408d-9e41-3126231130c0",
   "metadata": {},
   "outputs": [
    {
     "data": {
      "text/plain": [
       "<matplotlib.collections.PathCollection at 0x170d736ced0>"
      ]
     },
     "execution_count": 52,
     "metadata": {},
     "output_type": "execute_result"
    },
    {
     "data": {
      "image/png": "[encoded data removed]",
      "text/plain": [
       "<Figure size 640x480 with 1 Axes>"
      ]
     },
     "metadata": {},
     "output_type": "display_data"
    }
   ],
   "source": [
    "plt.scatter(df['tip'],df['tip'], alpha=0.5)\n",
    "#correlation betwenn tip and tip were 1"
   ]
  },
  {
   "cell_type": "code",
   "execution_count": null,
   "id": "ba0a1584-72f7-4069-a911-8022abc1879e",
   "metadata": {},
   "outputs": [],
   "source": [
    "#8) Write a Python function to calculate the probabilites density function (PDF) of a continuous random \n",
    "#variable for a given normal distribution"
   ]
  },
  {
   "cell_type": "code",
   "execution_count": 53,
   "id": "82eeaa1e-341a-4071-8911-ac7a6baa8e88",
   "metadata": {},
   "outputs": [
    {
     "name": "stdout",
     "output_type": "stream",
     "text": [
      "The PDF of the normal distribution at x = 0.0 with mu = 0.0 and sigma = 1.0 is 0.3989\n"
     ]
    }
   ],
   "source": [
    "import math\n",
    "def normal_pdf(x, mu, sigma):\n",
    "    coefficient=1/(sigma*math.sqrt(2*math.pi))\n",
    "    exponent=-((x-mu)**2)/(2*sigma**2)\n",
    "    return coefficient * math.exp(exponent)\n",
    "\n",
    "x = 0.0  # The value at which to evaluate the PDF\n",
    "mu = 0.0  # The mean of the normal distribution\n",
    "sigma = 1.0  # The standard deviation of the normal distribution\n",
    "\n",
    "pdf_value = normal_pdf(x, mu, sigma)\n",
    "pdf_value = normal_pdf(x, mu, sigma)\n",
    "print(f\"The PDF of the normal distribution at x = {x} with mu = {mu} and sigma = {sigma} is {pdf_value:.4f}\")\n",
    "\n",
    "    \n",
    "    \n",
    "\n"
   ]
  },
  {
   "cell_type": "code",
   "execution_count": null,
   "id": "d0021457-1da4-426f-9210-63e2b8af0790",
   "metadata": {},
   "outputs": [],
   "source": [
    "\n",
    "#9) Create a program to calculate the cumulative distribution function (CDF) of exponential distribution"
   ]
  },
  {
   "cell_type": "code",
   "execution_count": 54,
   "id": "43a51d54-727a-4320-a42f-5404140dbfeb",
   "metadata": {},
   "outputs": [
    {
     "name": "stdout",
     "output_type": "stream",
     "text": [
      "The CDF of the exponential distribution at x = 2.0 with lambda = 1.5 is 0.9502\n"
     ]
    }
   ],
   "source": [
    "\n",
    "import math\n",
    "\n",
    "def exponential_cdf(x, lam):\n",
    "    if x < 0:\n",
    "        return 0.0\n",
    "    return 1 - math.exp(-lam * x)\n",
    "\n",
    "# Example usage:\n",
    "x = 2.0  # The value at which to evaluate the CDF\n",
    "lam = 1.5  # The rate parameter (lambda)\n",
    "\n",
    "cdf_value = exponential_cdf(x, lam)\n",
    "print(f\"The CDF of the exponential distribution at x = {x} with lambda = {lam} is {cdf_value:.4f}\")\n",
    "\n",
    "\n",
    "\n"
   ]
  },
  {
   "cell_type": "code",
   "execution_count": null,
   "id": "018ca370-a6e2-4fdd-9756-662daa930c2d",
   "metadata": {},
   "outputs": [],
   "source": [
    "#10) Write a Python function to calculate the probabilites mass function (PMF) of Poisson distribution"
   ]
  },
  {
   "cell_type": "code",
   "execution_count": 55,
   "id": "956a54ab-cb5e-4a54-bf91-18e4f1871dd3",
   "metadata": {},
   "outputs": [
    {
     "name": "stdout",
     "output_type": "stream",
     "text": [
      "The PMF of the Poisson distribution at k = 3 with lambda = 2.0 is 0.1804\n"
     ]
    }
   ],
   "source": [
    "import math\n",
    "\n",
    "def poisson_pmf(k, lam):\n",
    "\n",
    "    if k < 0:\n",
    "        return 0.0\n",
    "    return (lam ** k * math.exp(-lam)) / math.factorial(k)\n",
    "\n",
    "# Example usage:\n",
    "k = 3  # The number of events\n",
    "lam = 2.0  # The rate parameter (lambda)\n",
    "\n",
    "pmf_value = poisson_pmf(k, lam)\n",
    "print(f\"The PMF of the Poisson distribution at k = {k} with lambda = {lam} is {pmf_value:.4f}\")\n"
   ]
  },
  {
   "cell_type": "code",
   "execution_count": null,
   "id": "298d426c-f4a0-4a0c-b11b-077dfffba510",
   "metadata": {},
   "outputs": [],
   "source": [
    "#11.) A company wants to test if   a new website layout leads to a higher conversion rate (percentage of visitors\n",
    "#who make  a purchase). They collect data from the old and new layouts to compare."
   ]
  },
  {
   "cell_type": "code",
   "execution_count": null,
   "id": "75419e66-ee37-4b16-b065-98af2a402557",
   "metadata": {},
   "outputs": [],
   "source": [
    "#To generate the data use the following command:\n",
    "\n",
    "#```python\n",
    "\n",
    "#import numpy as np\n",
    "\n",
    "# 50 purchases out of 1000 visitors\n",
    "\n",
    "#old_layout = np.array([1] * 50 + [0] * 950)\n",
    "\n",
    "# 70 purchases out of 1000 visitors  \n",
    "\n",
    "#new_layout = np.array([1] * 70 + [0] * 930)\n",
    "\n",
    "  ```\n",
    "\n",
    "#Apply z-test to find which layout is successful."
   ]
  },
  {
   "cell_type": "raw",
   "id": "a2517265-9dcf-4ccb-895c-679a91efa6dc",
   "metadata": {},
   "source": [
    "SOLUTION"
   ]
  },
  {
   "cell_type": "raw",
   "id": "f49e7df8-c052-4efe-b00d-56a41d958032",
   "metadata": {},
   "source": [
    "Null Hypothesis:                     H0: Conversion Rate OLD LAYOUT= New Layout \n",
    "Alternate Hypothesis                 H1: conversion Rte NEW  LAYOUT <OLD LAyout\n",
    "NUMERICAL                            H0:50=70\n",
    "                                     H1:70<50\n",
    "let alpha be =0.05"
   ]
  },
  {
   "cell_type": "code",
   "execution_count": 56,
   "id": "7ed4c017-49f1-4c77-81fe-9a5c313b9bcd",
   "metadata": {},
   "outputs": [
    {
     "name": "stdout",
     "output_type": "stream",
     "text": [
      "Reject null Hypothesis new layout have more user base\n"
     ]
    }
   ],
   "source": [
    "# considering alph 0.05\n",
    "import numpy as np\n",
    "from statsmodels.stats.weightstats import ztest\n",
    "alpha=0.05\n",
    "old_layout = np.array([1] * 50 + [0] * 950)\n",
    "new_layout = np.array([1] * 70 + [0] * 930)\n",
    "zscore, pavalue=ztest( new_layout,old_layout, alternative=\"larger\")\n",
    "if  pavalue<alpha:\n",
    "    print(\"Reject null Hypothesis new layout have more user base\")\n",
    "else:\n",
    "    print(\"fail to reject null hypothesis conversion  rate of new layout is not good  \")\n",
    "\n",
    "\n",
    "\n",
    "\n",
    "\n"
   ]
  },
  {
   "cell_type": "code",
   "execution_count": null,
   "id": "1ec7909e-61d0-4b0d-84da-3bcace019b7b",
   "metadata": {},
   "outputs": [],
   "source": [
    "#12. A tutoring service claims that its program improves students' exam scores. A sample of students who\n",
    "#participated in the program was taken, and their scores before and after the program were recorded.\n",
    "\n",
    "\n",
    "#Use the below code to generate samples of respective arrays of marks:\n",
    "\n",
    "#```python\n",
    "\n",
    "#before_program = np.array([75, 80, 85, 70, 90, 78, 92, 88, 82, 87])\n",
    "\n",
    "#after_program = np.array([80, 85, 90, 80, 92, 80, 95, 90, 85, 88])\n",
    "\n",
    "```\n",
    "\n",
    "#Use z-test to find if the claims made by tutor are true or false"
   ]
  },
  {
   "cell_type": "code",
   "execution_count": null,
   "id": "23cb3805-3506-4a5f-9fce-41eb18612958",
   "metadata": {},
   "outputs": [],
   "source": [
    "#Solution \n",
    "  #h0: score remain same    \n",
    "  #h1: score dosen't remain same  it is improve after progrm \n",
    "#let alpha be 0.05"
   ]
  },
  {
   "cell_type": "code",
   "execution_count": 57,
   "id": "654829bd-3aa1-4647-876e-323cb8992a9c",
   "metadata": {},
   "outputs": [
    {
     "name": "stdout",
     "output_type": "stream",
     "text": [
      "fail to reject null hypothesis  false  score dosent improve\n"
     ]
    }
   ],
   "source": [
    "from statsmodels.stats.weightstats import ztest\n",
    "import numpy as np\n",
    "alpha=0.05\n",
    "before_program = np.array([75, 80, 85, 70, 90, 78, 92, 88, 82, 87])\n",
    "\n",
    "after_program = np.array([80, 85, 90, 80, 92, 80, 95, 90, 85, 88])\n",
    "z_test, p_value=ztest(after_program,before_program, alternative=\"larger\")\n",
    "\n",
    "\n",
    "if p_value<0.05:\n",
    "    print(\"reject null hypothesis  so claim of tutor is True  score improve  \")\n",
    "else:\n",
    "    print(\"fail to reject null hypothesis  false  score dosent improve\")\n",
    "    \n"
   ]
  },
  {
   "cell_type": "code",
   "execution_count": null,
   "id": "867bc7a9-1448-432a-b254-416f8d4fe71f",
   "metadata": {},
   "outputs": [],
   "source": [
    "#13. A pharmaceutical company wants to determine if a new drug is effective in reducing blood pressure. They\n",
    "#conduct a study and record blood pressure\n",
    "\n",
    "#Use the below code to generate samples of respective arrays of blood pressure:\n",
    "\n",
    "\n",
    "```#python\n",
    "\n",
    "#before_drug = np.array([145, 150, 140, 135, 155, 160, 152, 148, 130, 138])\n",
    "\n",
    "#after_drug = np.array([130, 140, 132, 128, 145, 148, 138, 136, 125, 130])\n",
    "\n",
    "  ```\n",
    "\n",
    "\n",
    "#Implement z-test to find if the drug really works or not."
   ]
  },
  {
   "cell_type": "code",
   "execution_count": null,
   "id": "c44c3d4c-c8c5-4f09-8b71-82cba7b42cee",
   "metadata": {},
   "outputs": [],
   "source": [
    "#h0:  blood pressure remain   same                     after=befor    \n",
    "#h1:  blood pressure dosen't remain same got reduced     after<before "
   ]
  },
  {
   "cell_type": "raw",
   "id": "e080c080-b36e-4a6b-8ec7-6ce560d47074",
   "metadata": {},
   "source": []
  },
  {
   "cell_type": "code",
   "execution_count": 58,
   "id": "c2eafa0c-8a33-4b3c-a911-065fdc54d3f9",
   "metadata": {},
   "outputs": [
    {
     "name": "stdout",
     "output_type": "stream",
     "text": [
      "reject null hypothesis blood pressure get down it'dosem't remain same     \n"
     ]
    }
   ],
   "source": [
    "from statsmodels.stats.weightstats import ztest\n",
    "import numpy as np\n",
    "alpha=0.05\n",
    "before_drug = np.array([145, 150, 140, 135, 155, 160, 152, 148, 130, 138])\n",
    "\n",
    "after_drug = np.array([130, 140, 132, 128, 145, 148, 138, 136, 125, 130])\n",
    "\n",
    "z_test, p_value=ztest(after_drug,before_drug,  alternative=\"smaller\")\n",
    "\n",
    "\n",
    "if p_value<0.05:\n",
    "    print(\"reject null hypothesis blood pressure get down it'dosem't remain same     \")\n",
    "else:\n",
    "    print(\"fail to reject null hypothesis  it remain new drug not work  \")\n",
    "    "
   ]
  },
  {
   "cell_type": "raw",
   "id": "8fa4f2ab-99c1-4bfa-8969-164adebe6fc6",
   "metadata": {},
   "source": [
    "#14 A customer service department claims that their average response time is less than 5 minutes  A sample\n",
    "of recent customer interactions was taken, and the response times were recorded.\n",
    "\n",
    "\n",
    "Implement the below code to ge3erate the array of response time:\n",
    "\n",
    "```python\n",
    "\n",
    "response_times = np.array([4.3, 3.8, 5.1, 4.9, 4.7, 4.2, 5.2, 4.5, 4.6, 4.4])\n",
    "\n",
    "```\n",
    "\n",
    "Implement z-test to fi3d the claims made by customer service department are true or false"
   ]
  },
  {
   "cell_type": "raw",
   "id": "30e50b3d-2d49-499e-a6a7-013875bdb19c",
   "metadata": {},
   "source": [
    "h0: average response time  >=5\n",
    "h1: arverage response tim <5"
   ]
  },
  {
   "cell_type": "code",
   "execution_count": 59,
   "id": "470b3305-a903-4e4f-bb0d-f303cb02901b",
   "metadata": {},
   "outputs": [
    {
     "name": "stdout",
     "output_type": "stream",
     "text": [
      "reject null hypothesis so   average response time less than 5    \n"
     ]
    }
   ],
   "source": [
    "from statsmodels.stats.weightstats import ztest\n",
    "import numpy as np\n",
    "alpha=0.05\n",
    "response_times = np.array([4.3, 3.8, 5.1, 4.9, 4.7, 4.2, 5.2, 4.5, 4.6, 4.4])\n",
    "z_test, p_value=ztest(response_times, value=5, alternative=\"smaller\")\n",
    "\n",
    "\n",
    "if p_value<0.05:\n",
    "    print(\"reject null hypothesis so   average response time less than 5    \")\n",
    "else:\n",
    "    print(\"fail to reject null hypothesis so  average response time grater 5 minutes \")\n",
    "    "
   ]
  },
  {
   "cell_type": "code",
   "execution_count": null,
   "id": "26c9da79-158d-4a7e-9dab-6ef102e8cd2f",
   "metadata": {},
   "outputs": [],
   "source": [
    "#16  A company is testing two different website layouts to see which one leads to higher click-through rates\n",
    "#Write a Python function to perfor: an A/B test analysis, including calculating the t-statistic, degrees of\n",
    "#freedom, and p-value.\n",
    "\n",
    "\n",
    "#Use the followi3g data:\n",
    "\n",
    "`#``python\n",
    "\n",
    "#layout_a_clicks = [28, 32, 33, 29, 31, 34, 30, 35, 36, 37]\n",
    "\n",
    "#layout_b_clicks = [40, 41, 38, 42, 39, 44, 43, 41, 45, 47]"
   ]
  },
  {
   "cell_type": "code",
   "execution_count": 60,
   "id": "6b797da3-ce2d-48d7-b73a-396d9cf051df",
   "metadata": {},
   "outputs": [
    {
     "name": "stdout",
     "output_type": "stream",
     "text": [
      "T-statistic: -7.298102156175071\n",
      "Degrees of Freedom: 18\n",
      "P-value: 8.833437608301987e-07\n"
     ]
    }
   ],
   "source": [
    "import numpy as np\n",
    "from scipy import stats\n",
    "\n",
    "# Create numpy arrays correctly\n",
    "layout_a_clicks = np.array([28, 32, 33, 29, 31, 34, 30, 35, 36, 37])\n",
    "layout_b_clicks = np.array([40, 41, 38, 42, 39, 44, 43, 41, 45, 47])\n",
    "\n",
    "def ab_testing(layout_a_clicks, layout_b_clicks):\n",
    "    # Calculate the t-statistic and p-value using the t-test for independent samples\n",
    "    t_statistic, p_value = stats.ttest_ind(layout_a_clicks, layout_b_clicks)\n",
    "    \n",
    "    # Calculate degrees of freedom\n",
    "    df = len(layout_a_clicks) + len(layout_b_clicks) - 2\n",
    "    \n",
    "    return t_statistic, df, p_value\n",
    "\n",
    "# Perform the A/B test analysis\n",
    "t_statistic, df, p_value = ab_testing(layout_a_clicks, layout_b_clicks)\n",
    "\n",
    "print(f\"T-statistic: {t_statistic}\")\n",
    "print(f\"Degrees of Freedom: {df}\")\n",
    "print(f\"P-value: {p_value}\")\n",
    "\n",
    "    \n",
    "    "
   ]
  },
  {
   "cell_type": "code",
   "execution_count": null,
   "id": "7d113903-bf53-4a7c-a607-e93916340dfe",
   "metadata": {},
   "outputs": [],
   "source": [
    "#16. A pharmaceutical company wants to determine if a new drug is more effective than an existing drug in\n",
    "#reducing cholesterol levels  Create a program to analyze the clinical trial data and calculate the tstatistic and p-value for the treatment #effect.\n",
    "\n",
    "\n",
    "#Use the following data of cholestrol level:\n",
    "\n",
    "``#`python\n",
    "\n",
    "#existing_drug_levels = [180, 182, 175, 185, 178, 176, 172, 184, 179, 183]\n",
    "\n",
    "#new_drug_levels = [170, 172, 165, 168, 175, 173, 170, 178, 172, 176]\n",
    "\n",
    "```\n"
   ]
  },
  {
   "cell_type": "code",
   "execution_count": null,
   "id": "8d5a1b0f-7319-447d-9c64-cec588fc84f9",
   "metadata": {},
   "outputs": [],
   "source": [
    "#h0: New_drug is effective= old_drug is effective\n",
    "#h1: new_drug>old_drug"
   ]
  },
  {
   "cell_type": "code",
   "execution_count": 61,
   "id": "5bae940b-b46a-4806-9877-7f839a28a14e",
   "metadata": {},
   "outputs": [
    {
     "name": "stdout",
     "output_type": "stream",
     "text": [
      "Reject the null hypothesis New drug is excellent decreasing chloestrol \n"
     ]
    }
   ],
   "source": [
    "# let alpha =0.05\n",
    "import numpy as np\n",
    "from  scipy  import stats\n",
    "existing_drug_levels =np.array([180, 182, 175, 185, 178, 176, 172, 184, 179, 183])\n",
    "new_drug_levels =np.array([170, 172, 165, 168, 175, 173, 170, 178, 172, 176])\n",
    "# calculating  t stat and p_value \n",
    "t_stat,p_value=stats.ttest_ind(existing_drug_levels,new_drug_levels)\n",
    "if p_value<0.05:\n",
    "    print(\"Reject the null hypothesis New drug is excellent decreasing chloestrol \")\n",
    "else:\n",
    "    print(\"Fail to reject null hypothesis , New drug is not Excellent in decreasing chlosterol\")\n"
   ]
  },
  {
   "cell_type": "code",
   "execution_count": null,
   "id": "8e0fc9ec-9655-4ebd-a488-246bd5649fd7",
   "metadata": {},
   "outputs": [],
   "source": [
    "#17. A school district introduces an educational intervention program to improve math scores Write a Python\n",
    "#function to analyze pre- and post-intervention test scores, calculating the t-statistic and p-value to\n",
    "#determine if the intervention had a significant impact.\n",
    "\n",
    "\n",
    "#Use the following data of test score:\n",
    "\n",
    "\n",
    "#  ```python\n",
    "\n",
    "  #pre_intervention_scores = [80, 85, 90, 75, 88, 82, 92, 78, 85, 87]\n",
    "\n",
    "  #post_intervention_scores = [90, 92, 88, 92, 95, 91, 96, 93, 89, 93]"
   ]
  },
  {
   "cell_type": "code",
   "execution_count": null,
   "id": "9232fcf1-cf1c-4eb9-9fd8-bd4e7aa58c1d",
   "metadata": {},
   "outputs": [],
   "source": [
    "#h0: pre_intervention and pro_intervention  does'nt effect \n",
    "#h1: pre_intervention made a  significat effect "
   ]
  },
  {
   "cell_type": "code",
   "execution_count": 62,
   "id": "33cc23ed-9155-4f73-ac4b-bf2dae77938f",
   "metadata": {},
   "outputs": [
    {
     "name": "stdout",
     "output_type": "stream",
     "text": [
      "Reject the null hypothesis intervention is excellent  \n"
     ]
    }
   ],
   "source": [
    "import numpy as np\n",
    "from scipy  import stats\n",
    "pre_intervention_scores = np.array([80, 85, 90, 75, 88, 82, 92, 78, 85, 87])\n",
    "post_intervention_scores =np.array([90, 92, 88, 92, 95, 91, 96, 93, 89, 93])\n",
    "tstat,p_value=stats.ttest_ind( pre_intervention_scores,post_intervention_scores)\n",
    "\n",
    "if p_value<0.05:\n",
    "    print(\"Reject the null hypothesis intervention is excellent  \")\n",
    "else:\n",
    "    print(\"Fail to reject null hypothesis\")\n",
    "\n",
    "\n",
    "\n",
    "\n"
   ]
  },
  {
   "cell_type": "code",
   "execution_count": null,
   "id": "8f69903c-85c8-4091-871d-eae59e5af4fa",
   "metadata": {},
   "outputs": [],
   "source": [
    "#18) An HR department wants to investigate if there's a gender-based salary gap within the company. Develop\n",
    "#a program to analyze salary data, calculate the t-statistic, and determine is there's a statistically\n",
    "#significant difference between the average salaries of male and female employees.\n",
    "\n",
    "\n",
    "#Use the below code to generate synthetic dataY\n",
    "#```python\n",
    "\n",
    "# Generate synthetic salary data for male and female employees\n",
    "\n",
    "#p.random.seed(0)  # For reproducibility\n",
    "\n",
    "#male_salaries = np.random.normal(loc=50000, scale=10000, size=20)\n",
    "\n",
    "#female_salaries = np.random.normal(loc=55000, scale=9000, size=20)"
   ]
  },
  {
   "cell_type": "code",
   "execution_count": null,
   "id": "af3af8d5-5da2-4dd6-949d-c1eef23c5d25",
   "metadata": {},
   "outputs": [],
   "source": [
    "#h0: average saleries of male and  female are same \n",
    "#h1: average saleries of male and female are not same "
   ]
  },
  {
   "cell_type": "code",
   "execution_count": 63,
   "id": "2eb199fb-68e7-4e4b-92be-4f68caacadf9",
   "metadata": {},
   "outputs": [
    {
     "name": "stdout",
     "output_type": "stream",
     "text": [
      "Fail To Reject the Null hypothesis average saleries of male and female are same ther is no significant diffrence  \n"
     ]
    }
   ],
   "source": [
    "import numpy as np \n",
    "from scipy import stats\n",
    "# Generate synthetic salary data for male and female employees\n",
    "# for reproductablity\n",
    "np.random.seed(0)\n",
    "male_salaries = np.random.normal(loc=50000, scale=10000, size=20)\n",
    "female_salaries = np.random.normal(loc=55000, scale=9000, size=20)\n",
    "tstat, pvalue=stats.ttest_ind(male_salaries, female_salaries)\n",
    "\n",
    "if  pvalue<0.05:\n",
    "    print(\"Reject the null hypothesis, average saleris of male and female are not same\")\n",
    "else:\n",
    "    print(\"Fail To Reject the Null hypothesis average saleries of male and female are same ther is no significant diffrence  \")\n"
   ]
  },
  {
   "cell_type": "code",
   "execution_count": null,
   "id": "554439f8-ec35-420f-9121-fcf2095aa0d5",
   "metadata": {},
   "outputs": [],
   "source": [
    "19)# A manufacturer produces two different versions on a product and wants to compare their quality scores.\n",
    "#Create a Python function to analyze quality assessment data, calculate the t-statistic, and decide\n",
    "#whether there's a significant difference in quality between the two versions.\n",
    "\n",
    "\n",
    "#Use the following data\n",
    "#```python\n",
    "\n",
    "#version1_scores = [85, 88, 82, 89, 87, 84, 90, 88, 85, 86, 91, 83, 87, 84, 89, 86, 84, 88, 85, 86, 89, 90, 87, 88, 85]\n",
    "\n",
    "#version2_scores = [80, 78, 83, 81, 79, 82, 76, 80, 78, 81, 77, 82, 80, 79, 82, 79, 80, 81, 79, 82, 79, 78, 80, 81, 82]"
   ]
  },
  {
   "cell_type": "code",
   "execution_count": null,
   "id": "c77aecac-a36e-4d13-aad4-a56f9ebca3f4",
   "metadata": {},
   "outputs": [],
   "source": [
    "#h0:versions1 score and version2 score are same \n",
    "#h1:version1 score  and version2 are not same \n"
   ]
  },
  {
   "cell_type": "code",
   "execution_count": 64,
   "id": "e34e7205-d34b-4522-bbd5-554df11d0f57",
   "metadata": {},
   "outputs": [
    {
     "name": "stdout",
     "output_type": "stream",
     "text": [
      "Reject the null Hypothesis are not same so  there is significant difference\n"
     ]
    }
   ],
   "source": [
    "import numpy as np\n",
    "from scipy import stats\n",
    "\n",
    "version1_scores = np.array([85, 88, 82, 89, 87, 84, 90, 88, 85, 86, 91, 83, 87, 84, 89, 86, 84, 88, 85, 86, 89, 90, 87, 88, 85])\n",
    "version2_scores =np.array([80, 78, 83, 81, 79, 82, 76, 80, 78, 81, 77, 82, 80, 79, 82, 79, 80, 81, 79, 82, 79, 78, 80, 81, 82])\n",
    "tstat,pvalue=stats.ttest_ind(version1_scores,version2_scores)\n",
    "if pvalue< 0.05:\n",
    "    print(\"Reject the null Hypothesis are not same so  there is significant difference\") \n",
    "else:\n",
    "    print(\"Fail to reject the null hypothesis score are same No significant Diffrence \")\n",
    "\n",
    "\n",
    "\n"
   ]
  },
  {
   "cell_type": "code",
   "execution_count": null,
   "id": "655eaf3f-f916-4a52-a3f5-6cd023198641",
   "metadata": {},
   "outputs": [],
   "source": [
    " #20. A restaurant chain collects customer satisfaction scores or two different branches. Write a program to\n",
    "#analyze the scores, calculate the t-statistic, and determine if there's a statistically significant difference in\n",
    "#customer satisfaction between the branches.\n",
    "\n",
    "\n",
    "#Use the below data of scores:\n",
    "\n",
    "# python\n",
    "\n",
    "#branch_a_scores = [4, 5, 3, 4, 5, 4, 5, 3, 4, 4, 5, 4, 4, 3, 4, 5, 5, 4, 3, 4, 5, 4, 3, 5, 4, 4, 5, 3, 4, 5, 4]\n",
    "\n",
    "#branch_b_scores = [3, 4, 2, 3, 4, 3, 4, 2, 3, 3, 4, 3, 3, 2, 3, 4, 4, 3, 2, 3, 4, 3, 2, 4, 3, 3, 4, 2, 3, 4, 3]"
   ]
  },
  {
   "cell_type": "code",
   "execution_count": null,
   "id": "408db621-860f-41b9-b21e-9ab85d8726e5",
   "metadata": {},
   "outputs": [],
   "source": [
    "#h0: branch_a score and branch_b score are same \n",
    "#h1: branch_a score and branch_b score  dosen't same "
   ]
  },
  {
   "cell_type": "code",
   "execution_count": 66,
   "id": "7ba10222-9c2a-4df8-8a74-98f6c427d74a",
   "metadata": {},
   "outputs": [
    {
     "name": "stdout",
     "output_type": "stream",
     "text": [
      "Reject the null Hypothesis are not same so  there is significant difference\n"
     ]
    }
   ],
   "source": [
    "import numpy as np\n",
    "from scipy import stats\n",
    "\n",
    "branch_a_scores =np.array( [4, 5, 3, 4, 5, 4, 5, 3, 4, 4, 5, 4, 4, 3, 4, 5, 5, 4, 3, 4, 5, 4, 3, 5, 4, 4, 5, 3, 4, 5, 4])\n",
    "\n",
    "branch_b_scores =np.array( [3, 4, 2, 3, 4, 3, 4, 2, 3, 3, 4, 3, 3, 2, 3, 4, 4, 3, 2, 3, 4, 3, 2, 4, 3, 3, 4, 2, 3, 4, 3])\n",
    "\n",
    "tstat,pvalue=stats.ttest_ind(branch_a_scores,branch_b_scores)\n",
    "if pvalue< 0.05:\n",
    "    print(\"Reject the null Hypothesis are not same so  there is significant difference\") \n",
    "else:\n",
    "    print(\"Fail to reject the null hypothesis score are same No significant Diffrence \")\n",
    "\n"
   ]
  },
  {
   "cell_type": "code",
   "execution_count": null,
   "id": "d324e0aa-319a-4c63-8215-26defc7b1818",
   "metadata": {},
   "outputs": [],
   "source": [
    "#21) A political analyst wants to determine is there is a significant association between age groups and voter\n",
    "#preferences (Candidate A or Candidate B). They collect data from a sample of 500 voters and classify\n",
    "#them into different age groups and candidate prefferences. Perform a Chi-Square test to determine if\n",
    "#there is a significant association between age groups and voter preferences.\n",
    "\n",
    "\n",
    "#Use the below code to generate data:\n",
    "\n",
    "`#``python\n",
    "\n",
    "#p.random.seed(0)\n",
    "\n",
    "#age_groups = np.random.choice([ 18-30 , 31-50 ,'51+', '51+'], size=30)\n",
    "\n",
    "#voter_preferences = np.random.choice(['Candidate A', 'Candidate B'], size=30)"
   ]
  },
  {
   "cell_type": "code",
   "execution_count": null,
   "id": "2501c95c-4700-4e60-8d20-a33f7e2b1400",
   "metadata": {},
   "outputs": [],
   "source": [
    "#H0:  There is a Significant association between age groups and voter preferences.\n",
    "#H1: There is no Significant association between age groups and voter preferences."
   ]
  },
  {
   "cell_type": "code",
   "execution_count": 74,
   "id": "05521939-4e3b-427d-8775-4326b5ed4f3e",
   "metadata": {},
   "outputs": [
    {
     "name": "stdout",
     "output_type": "stream",
     "text": [
      " reject the nuLL hpyothesis\n"
     ]
    }
   ],
   "source": [
    "import numpy as np\n",
    "import pandas as pd\n",
    "from scipy.stats import chi2_contingency\n",
    "\n",
    "# Set the seed for reproducibility\n",
    "np.random.seed(0)\n",
    "\n",
    "# Generating the age groups and voter preferences\n",
    "age_groups = np.random.choice(['18-30', '31-50', '51+'], size=500)\n",
    "voter_preferences = np.random.choice(['Candidate A', 'Candidate B'], size=500)\n",
    "\n",
    "# Creating a DataFrame\n",
    "data = pd.DataFrame({\n",
    "    'Age Group': age_groups,\n",
    "    'Voter Preference': voter_preferences\n",
    "})\n",
    "\n",
    "# Creating a contingency table\n",
    "contingency_table = pd.crosstab(data['Age Group'], data['Voter Preference'])\n",
    "\n",
    "# Performing the Chi-Square test\n",
    "chistat, p, dof, expected = chi2_contingency(contingency_table)\n",
    "\n",
    "if chistat>p:\n",
    "    print(\" reject the nuLL hpyothesis\")\n",
    "else :\n",
    "    print(\"fail to reject the null Hypothesis \")\n",
    "\n"
   ]
  },
  {
   "cell_type": "code",
   "execution_count": null,
   "id": "aead8fcf-c90e-4a4f-ba9a-d333186c98c4",
   "metadata": {},
   "outputs": [],
   "source": [
    " #22. A company conducted a customer satisfaction survey to determine if there is a significant relationship\n",
    "#between product satisfaction levels (Satisfied, Neutral, Dissatisfied) and the region where customers are\n",
    "#located (East, West, North, South). The survey data is summarized in a contingency table. Conduct a ChiSquare test to determine if there is #a significant relationship between product satisfaction levels and\n",
    "#customer regions.\n",
    "\n",
    "\n",
    "#Sample data:\n",
    "\n",
    "#```python\n",
    "\n",
    "#Sample data: Product satisfaction levels (rows) vs. Customer regions (columns)\n",
    "\n",
    "#data = np.array([[50, 30, 40, 20], [30, 40, 30, 50], [20, 30, 40, 30]])"
   ]
  },
  {
   "cell_type": "code",
   "execution_count": null,
   "id": "91021959-fba6-492d-b0a4-778ab0626940",
   "metadata": {},
   "outputs": [],
   "source": [
    "#h0:   there is a not a  significant relationship between product satisfaction levels and\n",
    "#customer regions.\n",
    "#h1:there is a significant  relationship between product satisfaction levels and\n",
    "#customer regions."
   ]
  },
  {
   "cell_type": "code",
   "execution_count": 88,
   "id": "a60c1412-b033-4ad2-80bc-fad33f92b494",
   "metadata": {},
   "outputs": [
    {
     "name": "stdout",
     "output_type": "stream",
     "text": [
      " Reject the nuLL hpyothesis  so there is significant relationship between product satisfaction levels and customer regions \n"
     ]
    }
   ],
   "source": [
    "#let critical value  be alpha be 0.05 \n",
    "import numpy as np\n",
    "import pandas as pd\n",
    "from scipy.stats import chi2_contingency\n",
    "data = np.array([[50, 30, 40, 20], [30, 40, 30, 50], [20, 30, 40, 30]])\n",
    "chistat, p, dof, expected = chi2_contingency(data)\n",
    "\n",
    "if chistat>p:\n",
    "    print(\" Reject the nuLL hpyothesis  so there is significant relationship between product satisfaction levels and customer regions \")\n",
    "else :\n",
    "    print(\"fail to reject the null Hypothesis \")\n",
    "\n"
   ]
  },
  {
   "cell_type": "code",
   "execution_count": null,
   "id": "a3d72bbd-1614-4cfa-a867-34c29956fdf8",
   "metadata": {},
   "outputs": [],
   "source": [
    " #23. A company implemented an employee training program to improve job performance (Effective, Neutral,\n",
    "#Ineffective). After the training, they collected data from a sample of employees and classified them based\n",
    "#on their job performance before and after the training. Perform a Chi-Square test to determine if there is a\n",
    "#significant difference between job performance levels before and after the training.\n",
    "\n",
    "\n",
    "#Sample data:\n",
    "\n",
    "#```python\n",
    "\n",
    "# Sample data: Job performance levels before (rows) and after (columns) training\n",
    "\n",
    "#data = np.array([[50, 30, 20], [30, 40, 30], [20, 30, 40]])"
   ]
  },
  {
   "cell_type": "code",
   "execution_count": null,
   "id": "8daaaf05-1c6e-4520-80a8-d69daea37187",
   "metadata": {},
   "outputs": [],
   "source": [
    "#h0: There is no significant difference between job performance levels before and after the training.\n",
    "#h1:There is a significant difference between job performance levels before and after the training.\n"
   ]
  },
  {
   "cell_type": "code",
   "execution_count": 87,
   "id": "e15e0774-7927-44ae-89ef-d247126a891a",
   "metadata": {},
   "outputs": [
    {
     "name": "stdout",
     "output_type": "stream",
     "text": [
      " reject the nuLL hpyothesis so there is  a  significance diffrence after training\n"
     ]
    }
   ],
   "source": [
    "import numpy as np\n",
    "from scipy.stats import chi2_contingency\n",
    "data = np.array([[50, 30, 20], [30, 40, 30], [20, 30, 40]])\n",
    "chistat, p, dof, expected = chi2_contingency(data)\n",
    "\n",
    "if chistat>p:\n",
    "    print(\" reject the nuLL hpyothesis so there is  a  significance diffrence after training\")\n",
    "else :\n",
    "    print(\"fail to reject the null Hypothesis \")\n"
   ]
  },
  {
   "cell_type": "code",
   "execution_count": null,
   "id": "10330deb-3b66-4d60-bfbe-be59c442caa7",
   "metadata": {},
   "outputs": [],
   "source": [
    " #24. A company produces three different versions of a product: Standard, Premium, and Deluxe. The\n",
    "#company wants to determine if there is a significant difference in customer satisfaction scores among the\n",
    "#three product versions. They conducted a survey and collected customer satisfaction scores for each\n",
    "#version from a random sample of customers. Perform an ANOVA test to determine if there is a significant\n",
    "#difference in customer satisfaction scores.\n",
    "\n",
    "\n",
    "  #Use the following data:\n",
    "\n",
    "  ``#`python\n",
    "\n",
    "  # Sample data: Customer satisfaction scores for each product version\n",
    "\n",
    "  #standard_scores = [80, 85, 90, 78, 88, 82, 92, 78, 85, 87]\n",
    "\n",
    "  #premium_scores = [90, 92, 88, 92, 95, 91, 96, 93, 89, 93]\n",
    "\n",
    "  #deluxe_scores = [95, 98, 92, 97, 96, 94, 98, 97, 92, 99]"
   ]
  },
  {
   "cell_type": "code",
   "execution_count": null,
   "id": "e57ad74d-99e4-4efa-b991-af38b7a8a8e5",
   "metadata": {},
   "outputs": [],
   "source": [
    "#h0: NO  there is a  NOT significant difference in customer satisfaction scores among the three product versions\n",
    "#H1:YES there is a significant diffrence in cutomer atisfaction scores among the three product versions"
   ]
  },
  {
   "cell_type": "code",
   "execution_count": 91,
   "id": "a7974015-a6b2-43f3-badb-28d0321a7a0d",
   "metadata": {},
   "outputs": [],
   "source": [
    "import scipy.stats as  stats\n",
    "# let alpha be 0.05\n",
    "standard_scores = [80, 85, 90, 78, 88, 82, 92, 78, 85, 87]\n",
    "\n",
    "premium_scores = [90, 92, 88, 92, 95, 91, 96, 93, 89, 93]\n",
    "\n",
    "deluxe_scores = [95, 98, 92, 97, 96, 94, 98, 97, 92, 99]\n",
    "\n",
    "fstats, pvalue = stats.f_oneway(standard_scores, premium_scores , deluxe_scores)\n",
    "if pvalue<0.05:\n",
    "    print(\"Reject NUll hyothesisthere is a significant diffrence in cutomer atisfaction scores among thethree product versions\")\n",
    "else:\n",
    "    print()"
   ]
  },
  {
   "cell_type": "code",
   "execution_count": null,
   "id": "b32b335f-25e5-403c-afd7-8f6665e97bf1",
   "metadata": {},
   "outputs": [],
   "source": []
  },
  {
   "cell_type": "code",
   "execution_count": null,
   "id": "32ba229b-1da3-4243-96f7-36c04121aa82",
   "metadata": {},
   "outputs": [],
   "source": []
  },
  {
   "cell_type": "code",
   "execution_count": null,
   "id": "edabc1b9-ba0f-44b9-8287-4a938dac38d0",
   "metadata": {},
   "outputs": [],
   "source": []
  },
  {
   "cell_type": "code",
   "execution_count": null,
   "id": "d2400d03-b49f-4642-8c52-8157c1f15e83",
   "metadata": {},
   "outputs": [],
   "source": []
  },
  {
   "cell_type": "code",
   "execution_count": null,
   "id": "d5c8acce-6b96-466a-adf5-011b52c86efa",
   "metadata": {},
   "outputs": [],
   "source": []
  },
  {
   "cell_type": "code",
   "execution_count": null,
   "id": "71685ba5-b7be-4c96-b4c0-a3b920beec84",
   "metadata": {},
   "outputs": [],
   "source": []
  },
  {
   "cell_type": "code",
   "execution_count": null,
   "id": "ac8d0e8a-d2d0-4471-9331-b898be0132a2",
   "metadata": {},
   "outputs": [],
   "source": []
  }
 ],
 "metadata": {
  "kernelspec": {
   "display_name": "Python 3 (ipykernel)",
   "language": "python",
   "name": "python3"
  },
  "language_info": {
   "codemirror_mode": {
    "name": "ipython",
    "version": 3
   },
   "file_extension": ".py",
   "mimetype": "text/x-python",
   "name": "python",
   "nbconvert_exporter": "python",
   "pygments_lexer": "ipython3",
   "version": "3.11.7"
  }
 },
 "nbformat": 4,
 "nbformat_minor": 5
}
